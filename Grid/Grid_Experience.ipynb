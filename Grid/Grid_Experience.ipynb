{
 "cells": [
  {
   "cell_type": "markdown",
   "metadata": {},
   "source": [
    "# Grid Problem Introduction"
   ]
  },
  {
   "cell_type": "markdown",
   "metadata": {},
   "source": [
    "The premise of this problem is a simple one - we create a deterministic MDP with `n` distinct states and `m` distinct actions, with each state having a (non-unique) reward. We want to see if the splitting algorithm can learn the states based simply on the initial reward-based clustering and by observing contradictions in transitions. "
   ]
  },
  {
   "cell_type": "markdown",
   "metadata": {},
   "source": [
    "## Dataset Creation"
   ]
  },
  {
   "cell_type": "markdown",
   "metadata": {},
   "source": [
    "First, we load the relevant functions - be sure to append the relevant directory with the MDP algorithm by using `sys.path.append`! "
   ]
  },
  {
   "cell_type": "code",
   "execution_count": 1,
   "metadata": {},
   "outputs": [],
   "source": [
    "# Importing libararies and loading functions\n",
    "import numpy as np\n",
    "import matplotlib.pyplot as plt\n",
    "import random\n",
    "\n",
    "# Initializing file-path\n",
    "import sys\n",
    "sys.path.append('/Users/janiceyang/Dropbox (MIT)/ORC UROP/Opioids/Algorithm/')\n",
    "\n",
    "from model import MDP_model\n",
    "from MDPtools import Generate_random_MDP, sample_MDP_with_features_list\n",
    "from clustering import initializeClusters, splitter, split_train_test_by_id\n",
    "from testing import *\n",
    "from grid_functions import * "
   ]
  },
  {
   "cell_type": "markdown",
   "metadata": {},
   "source": [
    "Now, we are going to create the a random MDP and set the rewards for each state of the MDP. `n` is the number of states, `m` is the number of actions, and we can also specify if we want a deterministic or action-dependent reward. Finally, we arbitrarily set some overlapping reward values for different clusters just to see how good our algorithm is at distinguishing between the clusters even though they will intially look the same (based on reward-based clustering)."
   ]
  },
  {
   "cell_type": "code",
   "execution_count": 2,
   "metadata": {},
   "outputs": [],
   "source": [
    "# Defining parameters\n",
    "n = 15\n",
    "m = 3\n",
    "reward_dep_action = False\n",
    "deterministic = True\n",
    "\n",
    "# Generating the actual MDP\n",
    "P, R = Generate_random_MDP(n,\n",
    "                           m,\n",
    "                           reward_dep_action=reward_dep_action,\n",
    "                           deterministic=deterministic)\n",
    "\n",
    "# Altering some of the rewards so that there is some overlap\n",
    "for i in range(n):\n",
    "    R[i] = i%6*0.2"
   ]
  },
  {
   "cell_type": "markdown",
   "metadata": {},
   "source": [
    "Now that we have our MDP, we can start generating some sample data by simulating some paths through the system. Here, `N` is the number of actors we want to simulate, and `T` is the total number of timesteps we want each to take. We will generate these samples by using a normal distribution with a `sigma` amount of noise, so that visually, each state will appear to take up a specific portion of an x-y grid (you will see below!). "
   ]
  },
  {
   "cell_type": "code",
   "execution_count": 3,
   "metadata": {},
   "outputs": [],
   "source": [
    "# Defining parameters\n",
    "pfeatures = 2\n",
    "sigma = [[0.01, 0], [0, 0.01]]\n",
    "N = 250\n",
    "T = 5\n",
    "\n",
    "# Generating the normal distribution based on sigma noise\n",
    "normal_distributions = UnifNormal(n,\n",
    "                                     pfeatures,\n",
    "                                     sigma)\n",
    "\n",
    "# Generating a list of samples based on the distribution \n",
    "samples = sample_MDP_with_features_list(P,\n",
    "                                        R,\n",
    "                                        normal_distributions,\n",
    "                                        N,\n",
    "                                        T)"
   ]
  },
  {
   "cell_type": "markdown",
   "metadata": {},
   "source": [
    "Finally, we transform this list of samples into a dataframe, which is what we will feed into the algorithm! The column `OG_CLUSTER` corresponds to the state that this point was in in the MDP we generated earlier. We will use compare this with the `CLUSTER` our algorithm finds to see how well it performs."
   ]
  },
  {
   "cell_type": "code",
   "execution_count": 4,
   "metadata": {},
   "outputs": [
    {
     "data": {
      "text/html": [
       "<div>\n",
       "<style scoped>\n",
       "    .dataframe tbody tr th:only-of-type {\n",
       "        vertical-align: middle;\n",
       "    }\n",
       "\n",
       "    .dataframe tbody tr th {\n",
       "        vertical-align: top;\n",
       "    }\n",
       "\n",
       "    .dataframe thead th {\n",
       "        text-align: right;\n",
       "    }\n",
       "</style>\n",
       "<table border=\"1\" class=\"dataframe\">\n",
       "  <thead>\n",
       "    <tr style=\"text-align: right;\">\n",
       "      <th></th>\n",
       "      <th>ID</th>\n",
       "      <th>TIME</th>\n",
       "      <th>FEATURE_1</th>\n",
       "      <th>FEATURE_2</th>\n",
       "      <th>ACTION</th>\n",
       "      <th>RISK</th>\n",
       "      <th>OG_CLUSTER</th>\n",
       "    </tr>\n",
       "  </thead>\n",
       "  <tbody>\n",
       "    <tr>\n",
       "      <th>0</th>\n",
       "      <td>0</td>\n",
       "      <td>0</td>\n",
       "      <td>-0.078803</td>\n",
       "      <td>2.115858</td>\n",
       "      <td>1</td>\n",
       "      <td>0.4</td>\n",
       "      <td>2</td>\n",
       "    </tr>\n",
       "    <tr>\n",
       "      <th>1</th>\n",
       "      <td>0</td>\n",
       "      <td>1</td>\n",
       "      <td>2.005336</td>\n",
       "      <td>0.032471</td>\n",
       "      <td>2</td>\n",
       "      <td>0.4</td>\n",
       "      <td>8</td>\n",
       "    </tr>\n",
       "    <tr>\n",
       "      <th>2</th>\n",
       "      <td>0</td>\n",
       "      <td>2</td>\n",
       "      <td>0.145247</td>\n",
       "      <td>2.835660</td>\n",
       "      <td>1</td>\n",
       "      <td>0.6</td>\n",
       "      <td>3</td>\n",
       "    </tr>\n",
       "    <tr>\n",
       "      <th>3</th>\n",
       "      <td>0</td>\n",
       "      <td>3</td>\n",
       "      <td>3.022813</td>\n",
       "      <td>0.997769</td>\n",
       "      <td>2</td>\n",
       "      <td>0.2</td>\n",
       "      <td>13</td>\n",
       "    </tr>\n",
       "    <tr>\n",
       "      <th>4</th>\n",
       "      <td>0</td>\n",
       "      <td>4</td>\n",
       "      <td>-0.060527</td>\n",
       "      <td>2.002646</td>\n",
       "      <td>0</td>\n",
       "      <td>0.4</td>\n",
       "      <td>2</td>\n",
       "    </tr>\n",
       "    <tr>\n",
       "      <th>...</th>\n",
       "      <td>...</td>\n",
       "      <td>...</td>\n",
       "      <td>...</td>\n",
       "      <td>...</td>\n",
       "      <td>...</td>\n",
       "      <td>...</td>\n",
       "      <td>...</td>\n",
       "    </tr>\n",
       "    <tr>\n",
       "      <th>1245</th>\n",
       "      <td>249</td>\n",
       "      <td>0</td>\n",
       "      <td>-0.091379</td>\n",
       "      <td>0.886343</td>\n",
       "      <td>0</td>\n",
       "      <td>0.2</td>\n",
       "      <td>1</td>\n",
       "    </tr>\n",
       "    <tr>\n",
       "      <th>1246</th>\n",
       "      <td>249</td>\n",
       "      <td>1</td>\n",
       "      <td>2.061035</td>\n",
       "      <td>0.994344</td>\n",
       "      <td>1</td>\n",
       "      <td>0.6</td>\n",
       "      <td>9</td>\n",
       "    </tr>\n",
       "    <tr>\n",
       "      <th>1247</th>\n",
       "      <td>249</td>\n",
       "      <td>2</td>\n",
       "      <td>2.859373</td>\n",
       "      <td>0.191191</td>\n",
       "      <td>2</td>\n",
       "      <td>0.0</td>\n",
       "      <td>12</td>\n",
       "    </tr>\n",
       "    <tr>\n",
       "      <th>1248</th>\n",
       "      <td>249</td>\n",
       "      <td>3</td>\n",
       "      <td>-0.049313</td>\n",
       "      <td>1.997870</td>\n",
       "      <td>1</td>\n",
       "      <td>0.4</td>\n",
       "      <td>2</td>\n",
       "    </tr>\n",
       "    <tr>\n",
       "      <th>1249</th>\n",
       "      <td>249</td>\n",
       "      <td>4</td>\n",
       "      <td>2.052175</td>\n",
       "      <td>-0.056084</td>\n",
       "      <td>1</td>\n",
       "      <td>0.4</td>\n",
       "      <td>8</td>\n",
       "    </tr>\n",
       "  </tbody>\n",
       "</table>\n",
       "<p>1250 rows × 7 columns</p>\n",
       "</div>"
      ],
      "text/plain": [
       "       ID  TIME  FEATURE_1  FEATURE_2  ACTION  RISK  OG_CLUSTER\n",
       "0       0     0  -0.078803   2.115858       1   0.4           2\n",
       "1       0     1   2.005336   0.032471       2   0.4           8\n",
       "2       0     2   0.145247   2.835660       1   0.6           3\n",
       "3       0     3   3.022813   0.997769       2   0.2          13\n",
       "4       0     4  -0.060527   2.002646       0   0.4           2\n",
       "...   ...   ...        ...        ...     ...   ...         ...\n",
       "1245  249     0  -0.091379   0.886343       0   0.2           1\n",
       "1246  249     1   2.061035   0.994344       1   0.6           9\n",
       "1247  249     2   2.859373   0.191191       2   0.0          12\n",
       "1248  249     3  -0.049313   1.997870       1   0.4           2\n",
       "1249  249     4   2.052175  -0.056084       1   0.4           8\n",
       "\n",
       "[1250 rows x 7 columns]"
      ]
     },
     "execution_count": 4,
     "metadata": {},
     "output_type": "execute_result"
    }
   ],
   "source": [
    "df = transformSamples(samples,\n",
    "                      pfeatures)\n",
    "df"
   ]
  },
  {
   "cell_type": "code",
   "execution_count": null,
   "metadata": {},
   "outputs": [],
   "source": []
  }
 ],
 "metadata": {
  "kernelspec": {
   "display_name": "Python 3",
   "language": "python",
   "name": "python3"
  },
  "language_info": {
   "codemirror_mode": {
    "name": "ipython",
    "version": 3
   },
   "file_extension": ".py",
   "mimetype": "text/x-python",
   "name": "python",
   "nbconvert_exporter": "python",
   "pygments_lexer": "ipython3",
   "version": "3.7.7"
  }
 },
 "nbformat": 4,
 "nbformat_minor": 4
}
