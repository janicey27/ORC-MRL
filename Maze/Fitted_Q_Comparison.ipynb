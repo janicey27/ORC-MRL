{
 "cells": [
  {
   "cell_type": "code",
   "execution_count": 2,
   "metadata": {},
   "outputs": [],
   "source": [
    "#################################################################\n",
    "# Set Working Directory\n",
    "import numpy as np\n",
    "import matplotlib.pyplot as plt\n",
    "import random\n",
    "import pandas as pd\n",
    "import pickle\n",
    "\n",
    "import sys\n",
    "sys.path.append('/Users/janiceyang/Dropbox (MIT)/ORC UROP/Opioids/Algorithm/')\n",
    "\n",
    "#from MDPtools import *\n",
    "from model import MDP_model\n",
    "from maze_functions import createSamples, opt_maze_trajectory, opt_model_trajectory, fitted_Q, \\\n",
    "    get_maze_transition_reward, policy_accuracy, fitted_Q_policy_accuracy\n",
    "from testing import cluster_size, next_clusters, training_value_error, purity"
   ]
  },
  {
   "cell_type": "code",
   "execution_count": 3,
   "metadata": {},
   "outputs": [],
   "source": [
    "# Set Parameters\n",
    "#N = 170\n",
    "T_max = 25\n",
    "max_k = 25\n",
    "clustering = 'Agglomerative'\n",
    "n_clusters = None\n",
    "distance_threshold = 0.5\n",
    "random_state = 0\n",
    "pfeatures = 2\n",
    "actions = [0, 1, 2, 3]\n",
    "h = -1\n",
    "cv = 5\n",
    "th = 0\n",
    "classification = 'DecisionTreeClassifier'\n",
    "#classification = 'RandomForestClassifier'\n",
    "split_classifier_params = {'random_state':0, 'max_depth':2}"
   ]
  },
  {
   "cell_type": "code",
   "execution_count": 4,
   "metadata": {},
   "outputs": [],
   "source": [
    "# list of maze options to choose from:\n",
    "mazes = {1: 'maze-v0',\n",
    "         2: 'maze-sample-3x3-v0',\n",
    "         3: 'maze-random-3x3-v0',\n",
    "         4: 'maze-sample-5x5-v0',\n",
    "         5: 'maze-random-5x5-v0',\n",
    "         6: 'maze-sample-10x10-v0',\n",
    "         7: 'maze-random-10x10-v0',\n",
    "         8: 'maze-sample-100x100-v0',\n",
    "         9: 'maze-random-100x100-v0',\n",
    "         10: 'maze-random-10x10-plus-v0', # has portals \n",
    "         11: 'maze-random-20x20-plus-v0', # has portals \n",
    "         12: 'maze-random-30x30-plus-v0'} # has portals "
   ]
  },
  {
   "cell_type": "code",
   "execution_count": 3,
   "metadata": {},
   "outputs": [],
   "source": [
    "# Set Ns we want to investigate\n",
    "Ns = [2, 3, 5]"
   ]
  },
  {
   "cell_type": "code",
   "execution_count": 10,
   "metadata": {},
   "outputs": [
    {
     "name": "stderr",
     "output_type": "stream",
     "text": [
      "Splitting... |#Clusters:2:   0%|          | 0/23 [00:00<?, ?it/s]"
     ]
    },
    {
     "name": "stdout",
     "output_type": "stream",
     "text": [
      "Clusters Initialized\n",
      "    ID  TIME  FEATURE_0  FEATURE_1 ACTION   RISK  OG_CLUSTER  CLUSTER  \\\n",
      "0    0     0   0.945199  -0.450422      2 -0.004           0        0   \n",
      "1    0     1   1.519087  -0.565061      2 -0.004           1        0   \n",
      "2    0     2   2.915137  -0.751483      1 -0.004           2        0   \n",
      "3    0     3   2.968668  -1.220494      2 -0.004           7        0   \n",
      "4    0     4   2.413339  -1.154717      1 -0.004           7        0   \n",
      "5    0     5   2.609639  -2.493043      1 -0.004          12        0   \n",
      "6    0     6   2.570820  -3.287558      2 -0.004          17        0   \n",
      "7    0     7   2.632937  -3.793000      1 -0.004          17        0   \n",
      "8    0     8   2.357540  -4.372877      1 -0.004          22        0   \n",
      "9    0     9   2.729598  -4.606296      2 -0.004          22        0   \n",
      "10   0    10   3.434102  -4.873066      0 -0.004          23        0   \n",
      "11   0    11   3.955879  -3.783136      0 -0.004          18        0   \n",
      "12   0    12   3.891990  -2.797126      0 -0.004          13        0   \n",
      "13   0    13   3.140949  -1.388589      2 -0.004           8        0   \n",
      "14   0    14   4.684396  -1.984230      1 -0.004           9        0   \n",
      "15   0    15   4.886250  -2.939611      1 -0.004          14        0   \n",
      "16   0    16   4.311364  -3.984780      1 -0.004          19        0   \n",
      "17   0    17   4.806505  -4.708546   None  1.000          24        1   \n",
      "18   1     0   0.763667  -0.705527      2 -0.004           0        0   \n",
      "19   1     1   1.141057  -0.450061      1 -0.004           1        0   \n",
      "20   1     2   1.195122  -1.702429      1 -0.004           6        0   \n",
      "21   1     3   1.475052  -2.143189      0 -0.004          11        0   \n",
      "22   1     4   1.393695  -1.559586      0 -0.004           6        0   \n",
      "23   1     5   1.994040  -0.426111      2 -0.004           1        0   \n",
      "24   1     6   2.513581  -0.483613      1 -0.004           2        0   \n",
      "25   1     7   2.193643  -1.990063      3 -0.004           7        0   \n",
      "26   1     8   2.352242  -1.264183      1 -0.004           7        0   \n",
      "27   1     9   2.757072  -2.300996      1 -0.004          12        0   \n",
      "28   1    10   2.501201  -3.776288      1 -0.004          17        0   \n",
      "29   1    11   2.420129  -4.211497      1 -0.004          22        0   \n",
      "30   1    12   2.831120  -4.217788      0 -0.004          22        0   \n",
      "31   1    13   2.871503  -3.619606      1 -0.004          17        0   \n",
      "32   1    14   2.781537  -4.588388      3 -0.004          22        0   \n",
      "33   1    15   1.292517  -4.240362      2 -0.004          21        0   \n",
      "34   1    16   2.106868  -4.825039      2 -0.004          22        0   \n",
      "35   1    17   3.515520  -4.306138      2 -0.004          23        0   \n",
      "36   1    18   3.019318  -4.252599      0 -0.004          23        0   \n",
      "37   1    19   3.445026  -3.292378      0 -0.004          18        0   \n",
      "38   1    20   3.425195  -2.327439      0 -0.004          13        0   \n",
      "39   1    21   3.691403  -1.525403      2 -0.004           8        0   \n",
      "40   1    22   4.977119  -1.136893      2 -0.004           9        0   \n",
      "41   1    23   4.280689  -1.843074      1 -0.004           9        0   \n",
      "42   1    24   4.503376  -2.424810      1 -0.004          14        0   \n",
      "\n",
      "   NEXT_CLUSTER  \n",
      "0             0  \n",
      "1             0  \n",
      "2             0  \n",
      "3             0  \n",
      "4             0  \n",
      "5             0  \n",
      "6             0  \n",
      "7             0  \n",
      "8             0  \n",
      "9             0  \n",
      "10            0  \n",
      "11            0  \n",
      "12            0  \n",
      "13            0  \n",
      "14            0  \n",
      "15            0  \n",
      "16            1  \n",
      "17          End  \n",
      "18            0  \n",
      "19            0  \n",
      "20            0  \n",
      "21            0  \n",
      "22            0  \n",
      "23            0  \n",
      "24            0  \n",
      "25            0  \n",
      "26            0  \n",
      "27            0  \n",
      "28            0  \n",
      "29            0  \n",
      "30            0  \n",
      "31            0  \n",
      "32            0  \n",
      "33            0  \n",
      "34            0  \n",
      "35            0  \n",
      "36            0  \n",
      "37            0  \n",
      "38            0  \n",
      "39            0  \n",
      "40            0  \n",
      "41            0  \n",
      "42         None  \n"
     ]
    },
    {
     "name": "stderr",
     "output_type": "stream",
     "text": [
      "Splitting... |#Clusters:7:  22%|██▏       | 5/23 [00:01<00:04,  4.20it/s]"
     ]
    },
    {
     "name": "stdout",
     "output_type": "stream",
     "text": [
      "WARNING: Trying to predict next state from state 4 taking action 3 , but this transition is never seen in the data. Data point: 1 8\n",
      "WARNING: Trying to predict next state from state 3 taking action 1 , but this transition is never seen in the data. Data point: 1 10\n",
      "WARNING: Trying to predict next state from state 3 taking action 1 , but this transition is never seen in the data. Data point: 1 11\n",
      "WARNING: Trying to predict next state from state 3 taking action 1 , but this transition is never seen in the data. Data point: 1 12\n",
      "WARNING: Trying to predict next state from state 3 taking action 0 , but this transition is never seen in the data. Data point: 1 13\n",
      "WARNING: Trying to predict next state from state 3 taking action 1 , but this transition is never seen in the data. Data point: 1 14\n",
      "WARNING: Trying to predict next state from state 4 taking action 2 , but this transition is never seen in the data. Data point: 1 22\n",
      "WARNING: Trying to predict next state from state 4 taking action 2 , but this transition is never seen in the data. Data point: 1 23\n",
      "WARNING: In training value evaluation, trying to predict next state from state 4 taking action 3 , but this transition is never seen in the data. Data point: 1 7\n",
      "WARNING: In training value evaluation, trying to predict next state from state 3 taking action 1 , but this transition is never seen in the data. Data point: 1 9\n",
      "WARNING: In training value evaluation, trying to predict next state from state 3 taking action 1 , but this transition is never seen in the data. Data point: 1 10\n",
      "WARNING: In training value evaluation, trying to predict next state from state 3 taking action 1 , but this transition is never seen in the data. Data point: 1 11\n",
      "WARNING: In training value evaluation, trying to predict next state from state 3 taking action 0 , but this transition is never seen in the data. Data point: 1 12\n",
      "WARNING: In training value evaluation, trying to predict next state from state 3 taking action 1 , but this transition is never seen in the data. Data point: 1 13\n",
      "WARNING: In training value evaluation, trying to predict next state from state 4 taking action 2 , but this transition is never seen in the data. Data point: 1 21\n",
      "WARNING: In training value evaluation, trying to predict next state from state 4 taking action 2 , but this transition is never seen in the data. Data point: 1 22\n"
     ]
    },
    {
     "name": "stderr",
     "output_type": "stream",
     "text": [
      "Splitting... |#Clusters:8:  26%|██▌       | 6/23 [00:01<00:04,  3.86it/s]"
     ]
    },
    {
     "name": "stdout",
     "output_type": "stream",
     "text": [
      "WARNING: Trying to predict next state from state 4 taking action 3 , but this transition is never seen in the data. Data point: 1 8\n",
      "WARNING: Trying to predict next state from state 3 taking action 1 , but this transition is never seen in the data. Data point: 1 10\n",
      "WARNING: Trying to predict next state from state 3 taking action 1 , but this transition is never seen in the data. Data point: 1 11\n",
      "WARNING: Trying to predict next state from state 3 taking action 1 , but this transition is never seen in the data. Data point: 1 12\n",
      "WARNING: Trying to predict next state from state 3 taking action 0 , but this transition is never seen in the data. Data point: 1 13\n",
      "WARNING: Trying to predict next state from state 3 taking action 1 , but this transition is never seen in the data. Data point: 1 14\n",
      "WARNING: In training value evaluation, trying to predict next state from state 4 taking action 3 , but this transition is never seen in the data. Data point: 1 7\n",
      "WARNING: In training value evaluation, trying to predict next state from state 3 taking action 1 , but this transition is never seen in the data. Data point: 1 9\n",
      "WARNING: In training value evaluation, trying to predict next state from state 3 taking action 1 , but this transition is never seen in the data. Data point: 1 10\n",
      "WARNING: In training value evaluation, trying to predict next state from state 3 taking action 1 , but this transition is never seen in the data. Data point: 1 11\n",
      "WARNING: In training value evaluation, trying to predict next state from state 3 taking action 0 , but this transition is never seen in the data. Data point: 1 12\n",
      "WARNING: In training value evaluation, trying to predict next state from state 3 taking action 1 , but this transition is never seen in the data. Data point: 1 13\n",
      "WARNING: In training value evaluation, trying to predict next state from state 3 taking action 1 , but this transition is never seen in the data. Data point: 1 23\n"
     ]
    },
    {
     "name": "stderr",
     "output_type": "stream",
     "text": [
      "Splitting... |#Clusters:9:  30%|███       | 7/23 [00:01<00:04,  3.59it/s]"
     ]
    },
    {
     "name": "stdout",
     "output_type": "stream",
     "text": [
      "WARNING: Trying to predict next state from state 8 taking action 0 , but this transition is never seen in the data. Data point: 1 4\n",
      "WARNING: Trying to predict next state from state 8 taking action 0 , but this transition is never seen in the data. Data point: 1 5\n",
      "WARNING: Trying to predict next state from state 4 taking action 3 , but this transition is never seen in the data. Data point: 1 8\n",
      "WARNING: Trying to predict next state from state 3 taking action 1 , but this transition is never seen in the data. Data point: 1 10\n",
      "WARNING: Trying to predict next state from state 3 taking action 1 , but this transition is never seen in the data. Data point: 1 11\n",
      "WARNING: Trying to predict next state from state 3 taking action 1 , but this transition is never seen in the data. Data point: 1 12\n",
      "WARNING: Trying to predict next state from state 3 taking action 0 , but this transition is never seen in the data. Data point: 1 13\n",
      "WARNING: Trying to predict next state from state 3 taking action 1 , but this transition is never seen in the data. Data point: 1 14\n",
      "WARNING: In training value evaluation, trying to predict next state from state 8 taking action 0 , but this transition is never seen in the data. Data point: 1 3\n",
      "WARNING: In training value evaluation, trying to predict next state from state 8 taking action 0 , but this transition is never seen in the data. Data point: 1 4\n",
      "WARNING: In training value evaluation, trying to predict next state from state 4 taking action 3 , but this transition is never seen in the data. Data point: 1 7\n",
      "WARNING: In training value evaluation, trying to predict next state from state 3 taking action 1 , but this transition is never seen in the data. Data point: 1 9\n",
      "WARNING: In training value evaluation, trying to predict next state from state 3 taking action 1 , but this transition is never seen in the data. Data point: 1 10\n",
      "WARNING: In training value evaluation, trying to predict next state from state 3 taking action 1 , but this transition is never seen in the data. Data point: 1 11\n",
      "WARNING: In training value evaluation, trying to predict next state from state 3 taking action 0 , but this transition is never seen in the data. Data point: 1 12\n",
      "WARNING: In training value evaluation, trying to predict next state from state 3 taking action 1 , but this transition is never seen in the data. Data point: 1 13\n"
     ]
    },
    {
     "name": "stderr",
     "output_type": "stream",
     "text": [
      "Splitting... |#Clusters:10:  35%|███▍      | 8/23 [00:02<00:04,  3.39it/s]"
     ]
    },
    {
     "name": "stdout",
     "output_type": "stream",
     "text": [
      "WARNING: Trying to predict next state from state 8 taking action 0 , but this transition is never seen in the data. Data point: 1 4\n",
      "WARNING: Trying to predict next state from state 8 taking action 0 , but this transition is never seen in the data. Data point: 1 5\n",
      "WARNING: Trying to predict next state from state 4 taking action 3 , but this transition is never seen in the data. Data point: 1 8\n",
      "WARNING: Trying to predict next state from state 3 taking action 1 , but this transition is never seen in the data. Data point: 1 10\n",
      "WARNING: Trying to predict next state from state 3 taking action 1 , but this transition is never seen in the data. Data point: 1 11\n",
      "WARNING: Trying to predict next state from state 3 taking action 1 , but this transition is never seen in the data. Data point: 1 12\n",
      "WARNING: Trying to predict next state from state 3 taking action 0 , but this transition is never seen in the data. Data point: 1 13\n",
      "WARNING: Trying to predict next state from state 3 taking action 1 , but this transition is never seen in the data. Data point: 1 14\n",
      "WARNING: In training value evaluation, trying to predict next state from state 8 taking action 0 , but this transition is never seen in the data. Data point: 1 3\n",
      "WARNING: In training value evaluation, trying to predict next state from state 8 taking action 0 , but this transition is never seen in the data. Data point: 1 4\n",
      "WARNING: In training value evaluation, trying to predict next state from state 4 taking action 3 , but this transition is never seen in the data. Data point: 1 7\n",
      "WARNING: In training value evaluation, trying to predict next state from state 3 taking action 1 , but this transition is never seen in the data. Data point: 1 9\n",
      "WARNING: In training value evaluation, trying to predict next state from state 3 taking action 1 , but this transition is never seen in the data. Data point: 1 10\n",
      "WARNING: In training value evaluation, trying to predict next state from state 3 taking action 1 , but this transition is never seen in the data. Data point: 1 11\n",
      "WARNING: In training value evaluation, trying to predict next state from state 3 taking action 0 , but this transition is never seen in the data. Data point: 1 12\n",
      "WARNING: In training value evaluation, trying to predict next state from state 3 taking action 1 , but this transition is never seen in the data. Data point: 1 13\n"
     ]
    },
    {
     "name": "stderr",
     "output_type": "stream",
     "text": [
      "Splitting... |#Clusters:11:  39%|███▉      | 9/23 [00:02<00:04,  3.38it/s]"
     ]
    },
    {
     "name": "stdout",
     "output_type": "stream",
     "text": [
      "WARNING: Trying to predict next state from state 8 taking action 0 , but this transition is never seen in the data. Data point: 1 4\n",
      "WARNING: Trying to predict next state from state 8 taking action 0 , but this transition is never seen in the data. Data point: 1 5\n",
      "WARNING: Trying to predict next state from state 4 taking action 3 , but this transition is never seen in the data. Data point: 1 8\n",
      "WARNING: Trying to predict next state from state 3 taking action 1 , but this transition is never seen in the data. Data point: 1 10\n",
      "WARNING: Trying to predict next state from state 3 taking action 1 , but this transition is never seen in the data. Data point: 1 11\n",
      "WARNING: Trying to predict next state from state 3 taking action 1 , but this transition is never seen in the data. Data point: 1 12\n",
      "WARNING: Trying to predict next state from state 3 taking action 0 , but this transition is never seen in the data. Data point: 1 13\n",
      "WARNING: Trying to predict next state from state 3 taking action 1 , but this transition is never seen in the data. Data point: 1 14\n",
      "WARNING: In training value evaluation, trying to predict next state from state 8 taking action 0 , but this transition is never seen in the data. Data point: 1 3\n",
      "WARNING: In training value evaluation, trying to predict next state from state 8 taking action 0 , but this transition is never seen in the data. Data point: 1 4\n",
      "WARNING: In training value evaluation, trying to predict next state from state 4 taking action 3 , but this transition is never seen in the data. Data point: 1 7\n",
      "WARNING: In training value evaluation, trying to predict next state from state 3 taking action 1 , but this transition is never seen in the data. Data point: 1 9\n",
      "WARNING: In training value evaluation, trying to predict next state from state 3 taking action 1 , but this transition is never seen in the data. Data point: 1 10\n",
      "WARNING: In training value evaluation, trying to predict next state from state 3 taking action 1 , but this transition is never seen in the data. Data point: 1 11\n",
      "WARNING: In training value evaluation, trying to predict next state from state 3 taking action 0 , but this transition is never seen in the data. Data point: 1 12\n",
      "WARNING: In training value evaluation, trying to predict next state from state 3 taking action 1 , but this transition is never seen in the data. Data point: 1 13\n"
     ]
    },
    {
     "name": "stderr",
     "output_type": "stream",
     "text": [
      "Splitting... |#Clusters:12:  43%|████▎     | 10/23 [00:02<00:04,  2.96it/s]"
     ]
    },
    {
     "name": "stdout",
     "output_type": "stream",
     "text": [
      "WARNING: Trying to predict next state from state 8 taking action 0 , but this transition is never seen in the data. Data point: 1 4\n",
      "WARNING: Trying to predict next state from state 8 taking action 0 , but this transition is never seen in the data. Data point: 1 5\n",
      "WARNING: Trying to predict next state from state 4 taking action 3 , but this transition is never seen in the data. Data point: 1 8\n",
      "WARNING: Trying to predict next state from state 3 taking action 1 , but this transition is never seen in the data. Data point: 1 10\n",
      "WARNING: Trying to predict next state from state 3 taking action 1 , but this transition is never seen in the data. Data point: 1 11\n",
      "WARNING: Trying to predict next state from state 3 taking action 1 , but this transition is never seen in the data. Data point: 1 12\n",
      "WARNING: Trying to predict next state from state 3 taking action 0 , but this transition is never seen in the data. Data point: 1 13\n",
      "WARNING: Trying to predict next state from state 3 taking action 1 , but this transition is never seen in the data. Data point: 1 14\n",
      "WARNING: In training value evaluation, trying to predict next state from state 3 taking action 1 , but this transition is never seen in the data. Data point: 0 16\n",
      "WARNING: In training value evaluation, trying to predict next state from state 8 taking action 0 , but this transition is never seen in the data. Data point: 1 3\n",
      "WARNING: In training value evaluation, trying to predict next state from state 8 taking action 0 , but this transition is never seen in the data. Data point: 1 4\n",
      "WARNING: In training value evaluation, trying to predict next state from state 4 taking action 3 , but this transition is never seen in the data. Data point: 1 7\n",
      "WARNING: In training value evaluation, trying to predict next state from state 3 taking action 1 , but this transition is never seen in the data. Data point: 1 9\n",
      "WARNING: In training value evaluation, trying to predict next state from state 3 taking action 1 , but this transition is never seen in the data. Data point: 1 10\n",
      "WARNING: In training value evaluation, trying to predict next state from state 3 taking action 1 , but this transition is never seen in the data. Data point: 1 11\n",
      "WARNING: In training value evaluation, trying to predict next state from state 3 taking action 0 , but this transition is never seen in the data. Data point: 1 12\n",
      "WARNING: In training value evaluation, trying to predict next state from state 3 taking action 1 , but this transition is never seen in the data. Data point: 1 13\n"
     ]
    },
    {
     "name": "stderr",
     "output_type": "stream",
     "text": [
      "Splitting... |#Clusters:13:  48%|████▊     | 11/23 [00:03<00:04,  2.77it/s]"
     ]
    },
    {
     "name": "stdout",
     "output_type": "stream",
     "text": [
      "WARNING: Trying to predict next state from state 8 taking action 0 , but this transition is never seen in the data. Data point: 1 4\n",
      "WARNING: Trying to predict next state from state 8 taking action 0 , but this transition is never seen in the data. Data point: 1 5\n",
      "WARNING: Trying to predict next state from state 4 taking action 3 , but this transition is never seen in the data. Data point: 1 8\n",
      "WARNING: Trying to predict next state from state 3 taking action 1 , but this transition is never seen in the data. Data point: 1 10\n",
      "WARNING: Trying to predict next state from state 3 taking action 1 , but this transition is never seen in the data. Data point: 1 11\n",
      "WARNING: Trying to predict next state from state 3 taking action 1 , but this transition is never seen in the data. Data point: 1 12\n",
      "WARNING: Trying to predict next state from state 3 taking action 0 , but this transition is never seen in the data. Data point: 1 13\n",
      "WARNING: Trying to predict next state from state 3 taking action 1 , but this transition is never seen in the data. Data point: 1 14\n",
      "WARNING: In training value evaluation, trying to predict next state from state 3 taking action 1 , but this transition is never seen in the data. Data point: 0 16\n",
      "WARNING: In training value evaluation, trying to predict next state from state 8 taking action 0 , but this transition is never seen in the data. Data point: 1 3\n",
      "WARNING: In training value evaluation, trying to predict next state from state 8 taking action 0 , but this transition is never seen in the data. Data point: 1 4\n",
      "WARNING: In training value evaluation, trying to predict next state from state 4 taking action 3 , but this transition is never seen in the data. Data point: 1 7\n",
      "WARNING: In training value evaluation, trying to predict next state from state 3 taking action 1 , but this transition is never seen in the data. Data point: 1 9\n",
      "WARNING: In training value evaluation, trying to predict next state from state 3 taking action 1 , but this transition is never seen in the data. Data point: 1 10\n",
      "WARNING: In training value evaluation, trying to predict next state from state 3 taking action 1 , but this transition is never seen in the data. Data point: 1 11\n",
      "WARNING: In training value evaluation, trying to predict next state from state 3 taking action 0 , but this transition is never seen in the data. Data point: 1 12\n",
      "WARNING: In training value evaluation, trying to predict next state from state 3 taking action 1 , but this transition is never seen in the data. Data point: 1 13\n",
      "WARNING: In training value evaluation, trying to predict next state from state 3 taking action 1 , but this transition is never seen in the data. Data point: 1 23\n"
     ]
    },
    {
     "name": "stderr",
     "output_type": "stream",
     "text": [
      "Splitting... |#Clusters:14:  52%|█████▏    | 12/23 [00:03<00:03,  2.93it/s]"
     ]
    },
    {
     "name": "stdout",
     "output_type": "stream",
     "text": [
      "WARNING: Trying to predict next state from state 8 taking action 0 , but this transition is never seen in the data. Data point: 1 4\n",
      "WARNING: Trying to predict next state from state 8 taking action 0 , but this transition is never seen in the data. Data point: 1 5\n",
      "WARNING: Trying to predict next state from state 13 taking action 3 , but this transition is never seen in the data. Data point: 1 8\n",
      "WARNING: Trying to predict next state from state 3 taking action 1 , but this transition is never seen in the data. Data point: 1 10\n",
      "WARNING: Trying to predict next state from state 3 taking action 1 , but this transition is never seen in the data. Data point: 1 11\n",
      "WARNING: Trying to predict next state from state 3 taking action 1 , but this transition is never seen in the data. Data point: 1 12\n",
      "WARNING: Trying to predict next state from state 3 taking action 0 , but this transition is never seen in the data. Data point: 1 13\n",
      "WARNING: Trying to predict next state from state 3 taking action 1 , but this transition is never seen in the data. Data point: 1 14\n",
      "WARNING: In training value evaluation, trying to predict next state from state 3 taking action 1 , but this transition is never seen in the data. Data point: 0 16\n",
      "WARNING: In training value evaluation, trying to predict next state from state 8 taking action 0 , but this transition is never seen in the data. Data point: 1 3\n",
      "WARNING: In training value evaluation, trying to predict next state from state 8 taking action 0 , but this transition is never seen in the data. Data point: 1 4\n",
      "WARNING: In training value evaluation, trying to predict next state from state 13 taking action 3 , but this transition is never seen in the data. Data point: 1 7\n",
      "WARNING: In training value evaluation, trying to predict next state from state 3 taking action 1 , but this transition is never seen in the data. Data point: 1 9\n",
      "WARNING: In training value evaluation, trying to predict next state from state 3 taking action 1 , but this transition is never seen in the data. Data point: 1 10\n",
      "WARNING: In training value evaluation, trying to predict next state from state 3 taking action 1 , but this transition is never seen in the data. Data point: 1 11\n",
      "WARNING: In training value evaluation, trying to predict next state from state 3 taking action 0 , but this transition is never seen in the data. Data point: 1 12\n",
      "WARNING: In training value evaluation, trying to predict next state from state 3 taking action 1 , but this transition is never seen in the data. Data point: 1 13\n",
      "WARNING: In training value evaluation, trying to predict next state from state 3 taking action 1 , but this transition is never seen in the data. Data point: 1 23\n"
     ]
    },
    {
     "name": "stderr",
     "output_type": "stream",
     "text": [
      "Splitting... |#Clusters:15:  57%|█████▋    | 13/23 [00:03<00:03,  3.13it/s]"
     ]
    },
    {
     "name": "stdout",
     "output_type": "stream",
     "text": [
      "WARNING: Trying to predict next state from state 8 taking action 0 , but this transition is never seen in the data. Data point: 1 4\n",
      "WARNING: Trying to predict next state from state 8 taking action 0 , but this transition is never seen in the data. Data point: 1 5\n",
      "WARNING: Trying to predict next state from state 13 taking action 3 , but this transition is never seen in the data. Data point: 1 8\n",
      "WARNING: Trying to predict next state from state 3 taking action 1 , but this transition is never seen in the data. Data point: 1 10\n",
      "WARNING: Trying to predict next state from state 3 taking action 1 , but this transition is never seen in the data. Data point: 1 11\n",
      "WARNING: Trying to predict next state from state 3 taking action 1 , but this transition is never seen in the data. Data point: 1 12\n",
      "WARNING: Trying to predict next state from state 3 taking action 0 , but this transition is never seen in the data. Data point: 1 13\n",
      "WARNING: Trying to predict next state from state 3 taking action 1 , but this transition is never seen in the data. Data point: 1 14\n",
      "WARNING: In training value evaluation, trying to predict next state from state 8 taking action 0 , but this transition is never seen in the data. Data point: 1 3\n",
      "WARNING: In training value evaluation, trying to predict next state from state 8 taking action 0 , but this transition is never seen in the data. Data point: 1 4\n",
      "WARNING: In training value evaluation, trying to predict next state from state 13 taking action 3 , but this transition is never seen in the data. Data point: 1 7\n",
      "WARNING: In training value evaluation, trying to predict next state from state 3 taking action 1 , but this transition is never seen in the data. Data point: 1 9\n",
      "WARNING: In training value evaluation, trying to predict next state from state 3 taking action 1 , but this transition is never seen in the data. Data point: 1 10\n",
      "WARNING: In training value evaluation, trying to predict next state from state 3 taking action 1 , but this transition is never seen in the data. Data point: 1 11\n",
      "WARNING: In training value evaluation, trying to predict next state from state 3 taking action 0 , but this transition is never seen in the data. Data point: 1 12\n",
      "WARNING: In training value evaluation, trying to predict next state from state 3 taking action 1 , but this transition is never seen in the data. Data point: 1 13\n"
     ]
    },
    {
     "name": "stderr",
     "output_type": "stream",
     "text": [
      "Splitting... |#Clusters:16:  61%|██████    | 14/23 [00:04<00:02,  3.28it/s]"
     ]
    },
    {
     "name": "stdout",
     "output_type": "stream",
     "text": [
      "WARNING: Trying to predict next state from state 8 taking action 0 , but this transition is never seen in the data. Data point: 1 4\n",
      "WARNING: Trying to predict next state from state 8 taking action 0 , but this transition is never seen in the data. Data point: 1 5\n",
      "WARNING: Trying to predict next state from state 13 taking action 3 , but this transition is never seen in the data. Data point: 1 8\n",
      "WARNING: Trying to predict next state from state 3 taking action 1 , but this transition is never seen in the data. Data point: 1 10\n",
      "WARNING: Trying to predict next state from state 3 taking action 1 , but this transition is never seen in the data. Data point: 1 11\n",
      "WARNING: Trying to predict next state from state 3 taking action 1 , but this transition is never seen in the data. Data point: 1 12\n",
      "WARNING: Trying to predict next state from state 3 taking action 0 , but this transition is never seen in the data. Data point: 1 13\n",
      "WARNING: Trying to predict next state from state 3 taking action 1 , but this transition is never seen in the data. Data point: 1 14\n",
      "WARNING: Trying to predict next state from state 15 taking action 2 , but this transition is never seen in the data. Data point: 1 22\n",
      "WARNING: Trying to predict next state from state 15 taking action 2 , but this transition is never seen in the data. Data point: 1 23\n",
      "WARNING: In training value evaluation, trying to predict next state from state 8 taking action 0 , but this transition is never seen in the data. Data point: 1 3\n",
      "WARNING: In training value evaluation, trying to predict next state from state 8 taking action 0 , but this transition is never seen in the data. Data point: 1 4\n",
      "WARNING: In training value evaluation, trying to predict next state from state 13 taking action 3 , but this transition is never seen in the data. Data point: 1 7\n",
      "WARNING: In training value evaluation, trying to predict next state from state 3 taking action 1 , but this transition is never seen in the data. Data point: 1 9\n",
      "WARNING: In training value evaluation, trying to predict next state from state 3 taking action 1 , but this transition is never seen in the data. Data point: 1 10\n",
      "WARNING: In training value evaluation, trying to predict next state from state 3 taking action 1 , but this transition is never seen in the data. Data point: 1 11\n",
      "WARNING: In training value evaluation, trying to predict next state from state 3 taking action 0 , but this transition is never seen in the data. Data point: 1 12\n",
      "WARNING: In training value evaluation, trying to predict next state from state 3 taking action 1 , but this transition is never seen in the data. Data point: 1 13\n",
      "WARNING: In training value evaluation, trying to predict next state from state 15 taking action 2 , but this transition is never seen in the data. Data point: 1 21\n",
      "WARNING: In training value evaluation, trying to predict next state from state 15 taking action 2 , but this transition is never seen in the data. Data point: 1 22\n"
     ]
    },
    {
     "name": "stderr",
     "output_type": "stream",
     "text": [
      "Splitting... |#Clusters:17:  65%|██████▌   | 15/23 [00:04<00:02,  3.27it/s]"
     ]
    },
    {
     "name": "stdout",
     "output_type": "stream",
     "text": [
      "WARNING: Trying to predict next state from state 8 taking action 0 , but this transition is never seen in the data. Data point: 1 4\n",
      "WARNING: Trying to predict next state from state 8 taking action 0 , but this transition is never seen in the data. Data point: 1 5\n",
      "WARNING: Trying to predict next state from state 13 taking action 3 , but this transition is never seen in the data. Data point: 1 8\n",
      "WARNING: Trying to predict next state from state 3 taking action 1 , but this transition is never seen in the data. Data point: 1 10\n",
      "WARNING: Trying to predict next state from state 3 taking action 1 , but this transition is never seen in the data. Data point: 1 11\n",
      "WARNING: Trying to predict next state from state 3 taking action 1 , but this transition is never seen in the data. Data point: 1 12\n",
      "WARNING: Trying to predict next state from state 3 taking action 0 , but this transition is never seen in the data. Data point: 1 13\n",
      "WARNING: Trying to predict next state from state 3 taking action 1 , but this transition is never seen in the data. Data point: 1 14\n",
      "WARNING: Trying to predict next state from state 15 taking action 2 , but this transition is never seen in the data. Data point: 1 22\n",
      "WARNING: Trying to predict next state from state 15 taking action 2 , but this transition is never seen in the data. Data point: 1 23\n",
      "WARNING: In training value evaluation, trying to predict next state from state 8 taking action 0 , but this transition is never seen in the data. Data point: 1 3\n",
      "WARNING: In training value evaluation, trying to predict next state from state 8 taking action 0 , but this transition is never seen in the data. Data point: 1 4\n",
      "WARNING: In training value evaluation, trying to predict next state from state 13 taking action 3 , but this transition is never seen in the data. Data point: 1 7\n",
      "WARNING: In training value evaluation, trying to predict next state from state 3 taking action 1 , but this transition is never seen in the data. Data point: 1 9\n",
      "WARNING: In training value evaluation, trying to predict next state from state 3 taking action 1 , but this transition is never seen in the data. Data point: 1 10\n",
      "WARNING: In training value evaluation, trying to predict next state from state 3 taking action 1 , but this transition is never seen in the data. Data point: 1 11\n",
      "WARNING: In training value evaluation, trying to predict next state from state 3 taking action 0 , but this transition is never seen in the data. Data point: 1 12\n",
      "WARNING: In training value evaluation, trying to predict next state from state 3 taking action 1 , but this transition is never seen in the data. Data point: 1 13\n",
      "WARNING: In training value evaluation, trying to predict next state from state 15 taking action 2 , but this transition is never seen in the data. Data point: 1 21\n",
      "WARNING: In training value evaluation, trying to predict next state from state 15 taking action 2 , but this transition is never seen in the data. Data point: 1 22\n"
     ]
    },
    {
     "name": "stderr",
     "output_type": "stream",
     "text": [
      "Splitting... |#Clusters:18:  70%|██████▉   | 16/23 [00:04<00:02,  3.27it/s]"
     ]
    },
    {
     "name": "stdout",
     "output_type": "stream",
     "text": [
      "WARNING: Trying to predict next state from state 8 taking action 0 , but this transition is never seen in the data. Data point: 1 4\n",
      "WARNING: Trying to predict next state from state 8 taking action 0 , but this transition is never seen in the data. Data point: 1 5\n",
      "WARNING: Trying to predict next state from state 13 taking action 3 , but this transition is never seen in the data. Data point: 1 8\n",
      "WARNING: Trying to predict next state from state 3 taking action 1 , but this transition is never seen in the data. Data point: 1 10\n",
      "WARNING: Trying to predict next state from state 3 taking action 1 , but this transition is never seen in the data. Data point: 1 11\n",
      "WARNING: Trying to predict next state from state 3 taking action 1 , but this transition is never seen in the data. Data point: 1 12\n",
      "WARNING: Trying to predict next state from state 3 taking action 0 , but this transition is never seen in the data. Data point: 1 13\n",
      "WARNING: Trying to predict next state from state 3 taking action 1 , but this transition is never seen in the data. Data point: 1 14\n",
      "WARNING: In training value evaluation, trying to predict next state from state 8 taking action 0 , but this transition is never seen in the data. Data point: 1 3\n",
      "WARNING: In training value evaluation, trying to predict next state from state 8 taking action 0 , but this transition is never seen in the data. Data point: 1 4\n",
      "WARNING: In training value evaluation, trying to predict next state from state 13 taking action 3 , but this transition is never seen in the data. Data point: 1 7\n",
      "WARNING: In training value evaluation, trying to predict next state from state 3 taking action 1 , but this transition is never seen in the data. Data point: 1 9\n",
      "WARNING: In training value evaluation, trying to predict next state from state 3 taking action 1 , but this transition is never seen in the data. Data point: 1 10\n",
      "WARNING: In training value evaluation, trying to predict next state from state 3 taking action 1 , but this transition is never seen in the data. Data point: 1 11\n",
      "WARNING: In training value evaluation, trying to predict next state from state 3 taking action 0 , but this transition is never seen in the data. Data point: 1 12\n",
      "WARNING: In training value evaluation, trying to predict next state from state 3 taking action 1 , but this transition is never seen in the data. Data point: 1 13\n",
      "WARNING: In training value evaluation, trying to predict next state from state 3 taking action 1 , but this transition is never seen in the data. Data point: 1 23\n"
     ]
    },
    {
     "name": "stderr",
     "output_type": "stream",
     "text": [
      "Splitting... |#Clusters:19:  74%|███████▍  | 17/23 [00:04<00:01,  3.36it/s]"
     ]
    },
    {
     "name": "stdout",
     "output_type": "stream",
     "text": [
      "WARNING: Trying to predict next state from state 8 taking action 0 , but this transition is never seen in the data. Data point: 1 4\n",
      "WARNING: Trying to predict next state from state 8 taking action 0 , but this transition is never seen in the data. Data point: 1 5\n",
      "WARNING: Trying to predict next state from state 13 taking action 3 , but this transition is never seen in the data. Data point: 1 8\n",
      "WARNING: Trying to predict next state from state 3 taking action 1 , but this transition is never seen in the data. Data point: 1 10\n",
      "WARNING: Trying to predict next state from state 3 taking action 1 , but this transition is never seen in the data. Data point: 1 11\n",
      "WARNING: Trying to predict next state from state 3 taking action 1 , but this transition is never seen in the data. Data point: 1 12\n",
      "WARNING: Trying to predict next state from state 3 taking action 0 , but this transition is never seen in the data. Data point: 1 13\n",
      "WARNING: Trying to predict next state from state 3 taking action 1 , but this transition is never seen in the data. Data point: 1 14\n",
      "WARNING: In training value evaluation, trying to predict next state from state 8 taking action 0 , but this transition is never seen in the data. Data point: 1 3\n",
      "WARNING: In training value evaluation, trying to predict next state from state 8 taking action 0 , but this transition is never seen in the data. Data point: 1 4\n",
      "WARNING: In training value evaluation, trying to predict next state from state 13 taking action 3 , but this transition is never seen in the data. Data point: 1 7\n",
      "WARNING: In training value evaluation, trying to predict next state from state 3 taking action 1 , but this transition is never seen in the data. Data point: 1 9\n",
      "WARNING: In training value evaluation, trying to predict next state from state 3 taking action 1 , but this transition is never seen in the data. Data point: 1 10\n",
      "WARNING: In training value evaluation, trying to predict next state from state 3 taking action 1 , but this transition is never seen in the data. Data point: 1 11\n",
      "WARNING: In training value evaluation, trying to predict next state from state 3 taking action 0 , but this transition is never seen in the data. Data point: 1 12\n",
      "WARNING: In training value evaluation, trying to predict next state from state 3 taking action 1 , but this transition is never seen in the data. Data point: 1 13\n"
     ]
    },
    {
     "name": "stderr",
     "output_type": "stream",
     "text": [
      "Splitting... |#Clusters:20:  78%|███████▊  | 18/23 [00:05<00:01,  3.50it/s]\n"
     ]
    },
    {
     "data": {
      "image/png": "[encoded data removed]",
      "text/plain": [
       "<Figure size 432x288 with 1 Axes>"
      ]
     },
     "metadata": {
      "needs_background": "light"
     },
     "output_type": "display_data"
    },
    {
     "data": {
      "image/png": "[encoded data removed]",
      "text/plain": [
       "<Figure size 432x288 with 1 Axes>"
      ]
     },
     "metadata": {
      "needs_background": "light"
     },
     "output_type": "display_data"
    },
    {
     "name": "stderr",
     "output_type": "stream",
     "text": [
      "Splitting... |#Clusters:7:  38%|███▊      | 5/13 [00:00<00:01,  4.85it/s]"
     ]
    },
    {
     "name": "stdout",
     "output_type": "stream",
     "text": [
      "WARNING: Trying to predict next state from state 4 taking action 3 , but this transition is never seen in the data. Data point: 1 8\n",
      "WARNING: Trying to predict next state from state 3 taking action 1 , but this transition is never seen in the data. Data point: 1 10\n",
      "WARNING: Trying to predict next state from state 3 taking action 1 , but this transition is never seen in the data. Data point: 1 11\n",
      "WARNING: Trying to predict next state from state 3 taking action 1 , but this transition is never seen in the data. Data point: 1 12\n",
      "WARNING: Trying to predict next state from state 3 taking action 0 , but this transition is never seen in the data. Data point: 1 13\n",
      "WARNING: Trying to predict next state from state 3 taking action 1 , but this transition is never seen in the data. Data point: 1 14\n",
      "WARNING: Trying to predict next state from state 4 taking action 2 , but this transition is never seen in the data. Data point: 1 22\n",
      "WARNING: Trying to predict next state from state 4 taking action 2 , but this transition is never seen in the data. Data point: 1 23\n",
      "WARNING: In training value evaluation, trying to predict next state from state 4 taking action 3 , but this transition is never seen in the data. Data point: 1 7\n",
      "WARNING: In training value evaluation, trying to predict next state from state 3 taking action 1 , but this transition is never seen in the data. Data point: 1 9\n",
      "WARNING: In training value evaluation, trying to predict next state from state 3 taking action 1 , but this transition is never seen in the data. Data point: 1 10\n",
      "WARNING: In training value evaluation, trying to predict next state from state 3 taking action 1 , but this transition is never seen in the data. Data point: 1 11\n",
      "WARNING: In training value evaluation, trying to predict next state from state 3 taking action 0 , but this transition is never seen in the data. Data point: 1 12\n",
      "WARNING: In training value evaluation, trying to predict next state from state 3 taking action 1 , but this transition is never seen in the data. Data point: 1 13\n",
      "WARNING: In training value evaluation, trying to predict next state from state 4 taking action 2 , but this transition is never seen in the data. Data point: 1 21\n",
      "WARNING: In training value evaluation, trying to predict next state from state 4 taking action 2 , but this transition is never seen in the data. Data point: 1 22\n"
     ]
    },
    {
     "name": "stderr",
     "output_type": "stream",
     "text": [
      "Splitting... |#Clusters:8:  46%|████▌     | 6/13 [00:01<00:01,  4.13it/s]"
     ]
    },
    {
     "name": "stdout",
     "output_type": "stream",
     "text": [
      "WARNING: Trying to predict next state from state 4 taking action 3 , but this transition is never seen in the data. Data point: 1 8\n",
      "WARNING: Trying to predict next state from state 3 taking action 1 , but this transition is never seen in the data. Data point: 1 10\n",
      "WARNING: Trying to predict next state from state 3 taking action 1 , but this transition is never seen in the data. Data point: 1 11\n",
      "WARNING: Trying to predict next state from state 3 taking action 1 , but this transition is never seen in the data. Data point: 1 12\n",
      "WARNING: Trying to predict next state from state 3 taking action 0 , but this transition is never seen in the data. Data point: 1 13\n",
      "WARNING: Trying to predict next state from state 3 taking action 1 , but this transition is never seen in the data. Data point: 1 14\n",
      "WARNING: In training value evaluation, trying to predict next state from state 4 taking action 3 , but this transition is never seen in the data. Data point: 1 7\n",
      "WARNING: In training value evaluation, trying to predict next state from state 3 taking action 1 , but this transition is never seen in the data. Data point: 1 9\n",
      "WARNING: In training value evaluation, trying to predict next state from state 3 taking action 1 , but this transition is never seen in the data. Data point: 1 10\n",
      "WARNING: In training value evaluation, trying to predict next state from state 3 taking action 1 , but this transition is never seen in the data. Data point: 1 11\n",
      "WARNING: In training value evaluation, trying to predict next state from state 3 taking action 0 , but this transition is never seen in the data. Data point: 1 12\n",
      "WARNING: In training value evaluation, trying to predict next state from state 3 taking action 1 , but this transition is never seen in the data. Data point: 1 13\n",
      "WARNING: In training value evaluation, trying to predict next state from state 3 taking action 1 , but this transition is never seen in the data. Data point: 1 23\n"
     ]
    },
    {
     "name": "stderr",
     "output_type": "stream",
     "text": [
      "Splitting... |#Clusters:9:  54%|█████▍    | 7/13 [00:01<00:01,  3.83it/s]"
     ]
    },
    {
     "name": "stdout",
     "output_type": "stream",
     "text": [
      "WARNING: Trying to predict next state from state 8 taking action 0 , but this transition is never seen in the data. Data point: 1 4\n",
      "WARNING: Trying to predict next state from state 8 taking action 0 , but this transition is never seen in the data. Data point: 1 5\n",
      "WARNING: Trying to predict next state from state 4 taking action 3 , but this transition is never seen in the data. Data point: 1 8\n",
      "WARNING: Trying to predict next state from state 3 taking action 1 , but this transition is never seen in the data. Data point: 1 10\n",
      "WARNING: Trying to predict next state from state 3 taking action 1 , but this transition is never seen in the data. Data point: 1 11\n",
      "WARNING: Trying to predict next state from state 3 taking action 1 , but this transition is never seen in the data. Data point: 1 12\n",
      "WARNING: Trying to predict next state from state 3 taking action 0 , but this transition is never seen in the data. Data point: 1 13\n",
      "WARNING: Trying to predict next state from state 3 taking action 1 , but this transition is never seen in the data. Data point: 1 14\n",
      "WARNING: In training value evaluation, trying to predict next state from state 8 taking action 0 , but this transition is never seen in the data. Data point: 1 3\n",
      "WARNING: In training value evaluation, trying to predict next state from state 8 taking action 0 , but this transition is never seen in the data. Data point: 1 4\n",
      "WARNING: In training value evaluation, trying to predict next state from state 4 taking action 3 , but this transition is never seen in the data. Data point: 1 7\n",
      "WARNING: In training value evaluation, trying to predict next state from state 3 taking action 1 , but this transition is never seen in the data. Data point: 1 9\n",
      "WARNING: In training value evaluation, trying to predict next state from state 3 taking action 1 , but this transition is never seen in the data. Data point: 1 10\n",
      "WARNING: In training value evaluation, trying to predict next state from state 3 taking action 1 , but this transition is never seen in the data. Data point: 1 11\n",
      "WARNING: In training value evaluation, trying to predict next state from state 3 taking action 0 , but this transition is never seen in the data. Data point: 1 12\n",
      "WARNING: In training value evaluation, trying to predict next state from state 3 taking action 1 , but this transition is never seen in the data. Data point: 1 13\n"
     ]
    },
    {
     "name": "stderr",
     "output_type": "stream",
     "text": [
      "Splitting... |#Clusters:10:  62%|██████▏   | 8/13 [00:01<00:01,  3.66it/s]"
     ]
    },
    {
     "name": "stdout",
     "output_type": "stream",
     "text": [
      "WARNING: Trying to predict next state from state 8 taking action 0 , but this transition is never seen in the data. Data point: 1 4\n",
      "WARNING: Trying to predict next state from state 8 taking action 0 , but this transition is never seen in the data. Data point: 1 5\n",
      "WARNING: Trying to predict next state from state 4 taking action 3 , but this transition is never seen in the data. Data point: 1 8\n",
      "WARNING: Trying to predict next state from state 3 taking action 1 , but this transition is never seen in the data. Data point: 1 10\n",
      "WARNING: Trying to predict next state from state 3 taking action 1 , but this transition is never seen in the data. Data point: 1 11\n",
      "WARNING: Trying to predict next state from state 3 taking action 1 , but this transition is never seen in the data. Data point: 1 12\n",
      "WARNING: Trying to predict next state from state 3 taking action 0 , but this transition is never seen in the data. Data point: 1 13\n",
      "WARNING: Trying to predict next state from state 3 taking action 1 , but this transition is never seen in the data. Data point: 1 14\n",
      "WARNING: In training value evaluation, trying to predict next state from state 8 taking action 0 , but this transition is never seen in the data. Data point: 1 3\n",
      "WARNING: In training value evaluation, trying to predict next state from state 8 taking action 0 , but this transition is never seen in the data. Data point: 1 4\n",
      "WARNING: In training value evaluation, trying to predict next state from state 4 taking action 3 , but this transition is never seen in the data. Data point: 1 7\n",
      "WARNING: In training value evaluation, trying to predict next state from state 3 taking action 1 , but this transition is never seen in the data. Data point: 1 9\n",
      "WARNING: In training value evaluation, trying to predict next state from state 3 taking action 1 , but this transition is never seen in the data. Data point: 1 10\n",
      "WARNING: In training value evaluation, trying to predict next state from state 3 taking action 1 , but this transition is never seen in the data. Data point: 1 11\n",
      "WARNING: In training value evaluation, trying to predict next state from state 3 taking action 0 , but this transition is never seen in the data. Data point: 1 12\n",
      "WARNING: In training value evaluation, trying to predict next state from state 3 taking action 1 , but this transition is never seen in the data. Data point: 1 13\n"
     ]
    },
    {
     "name": "stderr",
     "output_type": "stream",
     "text": [
      "Splitting... |#Clusters:11:  69%|██████▉   | 9/13 [00:02<00:01,  3.51it/s]"
     ]
    },
    {
     "name": "stdout",
     "output_type": "stream",
     "text": [
      "WARNING: Trying to predict next state from state 8 taking action 0 , but this transition is never seen in the data. Data point: 1 4\n",
      "WARNING: Trying to predict next state from state 8 taking action 0 , but this transition is never seen in the data. Data point: 1 5\n",
      "WARNING: Trying to predict next state from state 4 taking action 3 , but this transition is never seen in the data. Data point: 1 8\n",
      "WARNING: Trying to predict next state from state 3 taking action 1 , but this transition is never seen in the data. Data point: 1 10\n",
      "WARNING: Trying to predict next state from state 3 taking action 1 , but this transition is never seen in the data. Data point: 1 11\n",
      "WARNING: Trying to predict next state from state 3 taking action 1 , but this transition is never seen in the data. Data point: 1 12\n",
      "WARNING: Trying to predict next state from state 3 taking action 0 , but this transition is never seen in the data. Data point: 1 13\n",
      "WARNING: Trying to predict next state from state 3 taking action 1 , but this transition is never seen in the data. Data point: 1 14\n",
      "WARNING: In training value evaluation, trying to predict next state from state 8 taking action 0 , but this transition is never seen in the data. Data point: 1 3\n",
      "WARNING: In training value evaluation, trying to predict next state from state 8 taking action 0 , but this transition is never seen in the data. Data point: 1 4\n",
      "WARNING: In training value evaluation, trying to predict next state from state 4 taking action 3 , but this transition is never seen in the data. Data point: 1 7\n",
      "WARNING: In training value evaluation, trying to predict next state from state 3 taking action 1 , but this transition is never seen in the data. Data point: 1 9\n",
      "WARNING: In training value evaluation, trying to predict next state from state 3 taking action 1 , but this transition is never seen in the data. Data point: 1 10\n",
      "WARNING: In training value evaluation, trying to predict next state from state 3 taking action 1 , but this transition is never seen in the data. Data point: 1 11\n",
      "WARNING: In training value evaluation, trying to predict next state from state 3 taking action 0 , but this transition is never seen in the data. Data point: 1 12\n",
      "WARNING: In training value evaluation, trying to predict next state from state 3 taking action 1 , but this transition is never seen in the data. Data point: 1 13\n"
     ]
    },
    {
     "name": "stderr",
     "output_type": "stream",
     "text": [
      "Splitting... |#Clusters:12:  77%|███████▋  | 10/13 [00:02<00:00,  3.45it/s]"
     ]
    },
    {
     "name": "stdout",
     "output_type": "stream",
     "text": [
      "WARNING: Trying to predict next state from state 8 taking action 0 , but this transition is never seen in the data. Data point: 1 4\n",
      "WARNING: Trying to predict next state from state 8 taking action 0 , but this transition is never seen in the data. Data point: 1 5\n",
      "WARNING: Trying to predict next state from state 4 taking action 3 , but this transition is never seen in the data. Data point: 1 8\n",
      "WARNING: Trying to predict next state from state 3 taking action 1 , but this transition is never seen in the data. Data point: 1 10\n",
      "WARNING: Trying to predict next state from state 3 taking action 1 , but this transition is never seen in the data. Data point: 1 11\n",
      "WARNING: Trying to predict next state from state 3 taking action 1 , but this transition is never seen in the data. Data point: 1 12\n",
      "WARNING: Trying to predict next state from state 3 taking action 0 , but this transition is never seen in the data. Data point: 1 13\n",
      "WARNING: Trying to predict next state from state 3 taking action 1 , but this transition is never seen in the data. Data point: 1 14\n",
      "WARNING: In training value evaluation, trying to predict next state from state 3 taking action 1 , but this transition is never seen in the data. Data point: 0 16\n",
      "WARNING: In training value evaluation, trying to predict next state from state 8 taking action 0 , but this transition is never seen in the data. Data point: 1 3\n",
      "WARNING: In training value evaluation, trying to predict next state from state 8 taking action 0 , but this transition is never seen in the data. Data point: 1 4\n",
      "WARNING: In training value evaluation, trying to predict next state from state 4 taking action 3 , but this transition is never seen in the data. Data point: 1 7\n",
      "WARNING: In training value evaluation, trying to predict next state from state 3 taking action 1 , but this transition is never seen in the data. Data point: 1 9\n",
      "WARNING: In training value evaluation, trying to predict next state from state 3 taking action 1 , but this transition is never seen in the data. Data point: 1 10\n",
      "WARNING: In training value evaluation, trying to predict next state from state 3 taking action 1 , but this transition is never seen in the data. Data point: 1 11\n",
      "WARNING: In training value evaluation, trying to predict next state from state 3 taking action 0 , but this transition is never seen in the data. Data point: 1 12\n",
      "WARNING: In training value evaluation, trying to predict next state from state 3 taking action 1 , but this transition is never seen in the data. Data point: 1 13\n"
     ]
    },
    {
     "name": "stderr",
     "output_type": "stream",
     "text": [
      "Splitting... |#Clusters:13:  85%|████████▍ | 11/13 [00:02<00:00,  3.42it/s]"
     ]
    },
    {
     "name": "stdout",
     "output_type": "stream",
     "text": [
      "WARNING: Trying to predict next state from state 8 taking action 0 , but this transition is never seen in the data. Data point: 1 4\n",
      "WARNING: Trying to predict next state from state 8 taking action 0 , but this transition is never seen in the data. Data point: 1 5\n",
      "WARNING: Trying to predict next state from state 4 taking action 3 , but this transition is never seen in the data. Data point: 1 8\n",
      "WARNING: Trying to predict next state from state 3 taking action 1 , but this transition is never seen in the data. Data point: 1 10\n",
      "WARNING: Trying to predict next state from state 3 taking action 1 , but this transition is never seen in the data. Data point: 1 11\n",
      "WARNING: Trying to predict next state from state 3 taking action 1 , but this transition is never seen in the data. Data point: 1 12\n",
      "WARNING: Trying to predict next state from state 3 taking action 0 , but this transition is never seen in the data. Data point: 1 13\n",
      "WARNING: Trying to predict next state from state 3 taking action 1 , but this transition is never seen in the data. Data point: 1 14\n",
      "WARNING: In training value evaluation, trying to predict next state from state 3 taking action 1 , but this transition is never seen in the data. Data point: 0 16\n",
      "WARNING: In training value evaluation, trying to predict next state from state 8 taking action 0 , but this transition is never seen in the data. Data point: 1 3\n",
      "WARNING: In training value evaluation, trying to predict next state from state 8 taking action 0 , but this transition is never seen in the data. Data point: 1 4\n",
      "WARNING: In training value evaluation, trying to predict next state from state 4 taking action 3 , but this transition is never seen in the data. Data point: 1 7\n",
      "WARNING: In training value evaluation, trying to predict next state from state 3 taking action 1 , but this transition is never seen in the data. Data point: 1 9\n",
      "WARNING: In training value evaluation, trying to predict next state from state 3 taking action 1 , but this transition is never seen in the data. Data point: 1 10\n",
      "WARNING: In training value evaluation, trying to predict next state from state 3 taking action 1 , but this transition is never seen in the data. Data point: 1 11\n",
      "WARNING: In training value evaluation, trying to predict next state from state 3 taking action 0 , but this transition is never seen in the data. Data point: 1 12\n",
      "WARNING: In training value evaluation, trying to predict next state from state 3 taking action 1 , but this transition is never seen in the data. Data point: 1 13\n",
      "WARNING: In training value evaluation, trying to predict next state from state 3 taking action 1 , but this transition is never seen in the data. Data point: 1 23\n"
     ]
    },
    {
     "name": "stderr",
     "output_type": "stream",
     "text": [
      "Splitting... |#Clusters:14:  92%|█████████▏| 12/13 [00:03<00:00,  3.37it/s]"
     ]
    },
    {
     "name": "stdout",
     "output_type": "stream",
     "text": [
      "WARNING: Trying to predict next state from state 8 taking action 0 , but this transition is never seen in the data. Data point: 1 4\n",
      "WARNING: Trying to predict next state from state 8 taking action 0 , but this transition is never seen in the data. Data point: 1 5\n",
      "WARNING: Trying to predict next state from state 13 taking action 3 , but this transition is never seen in the data. Data point: 1 8\n",
      "WARNING: Trying to predict next state from state 3 taking action 1 , but this transition is never seen in the data. Data point: 1 10\n",
      "WARNING: Trying to predict next state from state 3 taking action 1 , but this transition is never seen in the data. Data point: 1 11\n",
      "WARNING: Trying to predict next state from state 3 taking action 1 , but this transition is never seen in the data. Data point: 1 12\n",
      "WARNING: Trying to predict next state from state 3 taking action 0 , but this transition is never seen in the data. Data point: 1 13\n",
      "WARNING: Trying to predict next state from state 3 taking action 1 , but this transition is never seen in the data. Data point: 1 14\n",
      "WARNING: In training value evaluation, trying to predict next state from state 3 taking action 1 , but this transition is never seen in the data. Data point: 0 16\n",
      "WARNING: In training value evaluation, trying to predict next state from state 8 taking action 0 , but this transition is never seen in the data. Data point: 1 3\n",
      "WARNING: In training value evaluation, trying to predict next state from state 8 taking action 0 , but this transition is never seen in the data. Data point: 1 4\n",
      "WARNING: In training value evaluation, trying to predict next state from state 13 taking action 3 , but this transition is never seen in the data. Data point: 1 7\n",
      "WARNING: In training value evaluation, trying to predict next state from state 3 taking action 1 , but this transition is never seen in the data. Data point: 1 9\n",
      "WARNING: In training value evaluation, trying to predict next state from state 3 taking action 1 , but this transition is never seen in the data. Data point: 1 10\n",
      "WARNING: In training value evaluation, trying to predict next state from state 3 taking action 1 , but this transition is never seen in the data. Data point: 1 11\n",
      "WARNING: In training value evaluation, trying to predict next state from state 3 taking action 0 , but this transition is never seen in the data. Data point: 1 12\n",
      "WARNING: In training value evaluation, trying to predict next state from state 3 taking action 1 , but this transition is never seen in the data. Data point: 1 13\n",
      "WARNING: In training value evaluation, trying to predict next state from state 3 taking action 1 , but this transition is never seen in the data. Data point: 1 23\n"
     ]
    },
    {
     "name": "stderr",
     "output_type": "stream",
     "text": [
      "\r",
      "Splitting... |#Clusters:14:  92%|█████████▏| 12/13 [00:03<00:00,  3.52it/s]"
     ]
    },
    {
     "name": "stdout",
     "output_type": "stream",
     "text": [
      "WARNING: Trying to predict next state from state 8 taking action 0 , but this transition is never seen in the data. Data point: 1 4\n",
      "WARNING: Trying to predict next state from state 8 taking action 0 , but this transition is never seen in the data. Data point: 1 5\n",
      "WARNING: Trying to predict next state from state 13 taking action 3 , but this transition is never seen in the data. Data point: 1 8\n",
      "WARNING: Trying to predict next state from state 3 taking action 1 , but this transition is never seen in the data. Data point: 1 10\n",
      "WARNING: Trying to predict next state from state 3 taking action 1 , but this transition is never seen in the data. Data point: 1 11\n",
      "WARNING: Trying to predict next state from state 3 taking action 1 , but this transition is never seen in the data. Data point: 1 12\n",
      "WARNING: Trying to predict next state from state 3 taking action 0 , but this transition is never seen in the data. Data point: 1 13\n",
      "WARNING: Trying to predict next state from state 3 taking action 1 , but this transition is never seen in the data. Data point: 1 14\n",
      "WARNING: In training value evaluation, trying to predict next state from state 8 taking action 0 , but this transition is never seen in the data. Data point: 1 3\n",
      "WARNING: In training value evaluation, trying to predict next state from state 8 taking action 0 , but this transition is never seen in the data. Data point: 1 4\n",
      "WARNING: In training value evaluation, trying to predict next state from state 13 taking action 3 , but this transition is never seen in the data. Data point: 1 7\n",
      "WARNING: In training value evaluation, trying to predict next state from state 3 taking action 1 , but this transition is never seen in the data. Data point: 1 9\n",
      "WARNING: In training value evaluation, trying to predict next state from state 3 taking action 1 , but this transition is never seen in the data. Data point: 1 10\n",
      "WARNING: In training value evaluation, trying to predict next state from state 3 taking action 1 , but this transition is never seen in the data. Data point: 1 11\n",
      "WARNING: In training value evaluation, trying to predict next state from state 3 taking action 0 , but this transition is never seen in the data. Data point: 1 12\n",
      "WARNING: In training value evaluation, trying to predict next state from state 3 taking action 1 , but this transition is never seen in the data. Data point: 1 13\n",
      "Optimal # of clusters reached\n"
     ]
    },
    {
     "name": "stderr",
     "output_type": "stream",
     "text": [
      "\n"
     ]
    },
    {
     "data": {
      "image/png": "[encoded data removed]",
      "text/plain": [
       "<Figure size 432x288 with 1 Axes>"
      ]
     },
     "metadata": {
      "needs_background": "light"
     },
     "output_type": "display_data"
    },
    {
     "data": {
      "image/png": "[encoded data removed]",
      "text/plain": [
       "<Figure size 432x288 with 1 Axes>"
      ]
     },
     "metadata": {
      "needs_background": "light"
     },
     "output_type": "display_data"
    },
    {
     "name": "stderr",
     "output_type": "stream",
     "text": [
      "/opt/anaconda3/lib/python3.7/site-packages/sklearn/model_selection/_split.py:667: UserWarning: The least populated class in y has only 1 members, which is less than n_splits=5.\n",
      "  % (min_groups, self.n_splits)), UserWarning)\n",
      "/opt/anaconda3/lib/python3.7/site-packages/sklearn/model_selection/_search.py:823: FutureWarning: The parameter 'iid' is deprecated in 0.22 and will be removed in 0.24.\n",
      "  \"removed in 0.24.\", FutureWarning\n"
     ]
    },
    {
     "name": "stdout",
     "output_type": "stream",
     "text": [
      "    ID  TIME  FEATURE_0  FEATURE_1 ACTION   RISK  OG_CLUSTER  \\\n",
      "0    0     0   0.945199  -0.450422      2 -0.004           0   \n",
      "1    0     1   1.519087  -0.565061      2 -0.004           1   \n",
      "2    0     2   2.915137  -0.751483      1 -0.004           2   \n",
      "3    0     3   2.968668  -1.220494      2 -0.004           7   \n",
      "4    0     4   2.413339  -1.154717      1 -0.004           7   \n",
      "5    0     5   2.609639  -2.493043      1 -0.004          12   \n",
      "6    0     6   2.570820  -3.287558      2 -0.004          17   \n",
      "7    0     7   2.632937  -3.793000      1 -0.004          17   \n",
      "8    0     8   2.357540  -4.372877      1 -0.004          22   \n",
      "9    0     9   2.729598  -4.606296      2 -0.004          22   \n",
      "10   0    10   3.434102  -4.873066      0 -0.004          23   \n",
      "11   0    11   3.955879  -3.783136      0 -0.004          18   \n",
      "12   0    12   3.891990  -2.797126      0 -0.004          13   \n",
      "13   0    13   3.140949  -1.388589      2 -0.004           8   \n",
      "14   0    14   4.684396  -1.984230      1 -0.004           9   \n",
      "15   0    15   4.886250  -2.939611      1 -0.004          14   \n",
      "16   0    16   4.311364  -3.984780      1 -0.004          19   \n",
      "17   0    17   4.806505  -4.708546   None  1.000          24   \n",
      "18   1     0   0.763667  -0.705527      2 -0.004           0   \n",
      "19   1     1   1.141057  -0.450061      1 -0.004           1   \n",
      "20   1     2   1.195122  -1.702429      1 -0.004           6   \n",
      "21   1     3   1.475052  -2.143189      0 -0.004          11   \n",
      "22   1     4   1.393695  -1.559586      0 -0.004           6   \n",
      "23   1     5   1.994040  -0.426111      2 -0.004           1   \n",
      "24   1     6   2.513581  -0.483613      1 -0.004           2   \n",
      "25   1     7   2.193643  -1.990063      3 -0.004           7   \n",
      "26   1     8   2.352242  -1.264183      1 -0.004           7   \n",
      "27   1     9   2.757072  -2.300996      1 -0.004          12   \n",
      "28   1    10   2.501201  -3.776288      1 -0.004          17   \n",
      "29   1    11   2.420129  -4.211497      1 -0.004          22   \n",
      "30   1    12   2.831120  -4.217788      0 -0.004          22   \n",
      "31   1    13   2.871503  -3.619606      1 -0.004          17   \n",
      "32   1    14   2.781537  -4.588388      3 -0.004          22   \n",
      "33   1    15   1.292517  -4.240362      2 -0.004          21   \n",
      "34   1    16   2.106868  -4.825039      2 -0.004          22   \n",
      "35   1    17   3.515520  -4.306138      2 -0.004          23   \n",
      "36   1    18   3.019318  -4.252599      0 -0.004          23   \n",
      "37   1    19   3.445026  -3.292378      0 -0.004          18   \n",
      "38   1    20   3.425195  -2.327439      0 -0.004          13   \n",
      "39   1    21   3.691403  -1.525403      2 -0.004           8   \n",
      "40   1    22   4.977119  -1.136893      2 -0.004           9   \n",
      "41   1    23   4.280689  -1.843074      1 -0.004           9   \n",
      "42   1    24   4.503376  -2.424810      1 -0.004          14   \n",
      "\n",
      "                                         x_t2  \\\n",
      "0    [1.703303711191412, -0.6828134756977122]   \n",
      "1    [2.038937417570305, -0.8983790669204725]   \n",
      "2   [2.4151731620576395, -1.3061554733186314]   \n",
      "3   [2.0625654883588838, -1.7897777112325375]   \n",
      "4    [2.969168058222645, -2.8492952421580204]   \n",
      "5    [2.292609094077106, -3.0234388937205128]   \n",
      "6    [2.8508858388853118, -3.629865316090676]   \n",
      "7     [2.620993610636525, -4.387623466939075]   \n",
      "8    [2.8229245635941376, -4.511620143041618]   \n",
      "9     [3.8178957637777717, -4.11568862024137]   \n",
      "10  [3.4047622764851253, -3.1081586170809428]   \n",
      "11  [3.1041765986284946, -2.9050122472481275]   \n",
      "12    [3.376154622742464, -1.010933584758629]   \n",
      "13   [4.318857735048184, -1.8652206604966577]   \n",
      "14    [4.769587723059818, -2.133952963110994]   \n",
      "15  [4.3633074361200395, -3.1778384262626256]   \n",
      "16    [4.460696375972243, -4.741423518011959]   \n",
      "17                                    [0, -5]   \n",
      "18  [1.1379896840612185, -0.8119298699420074]   \n",
      "19  [1.3985696690351577, -1.3001838646812103]   \n",
      "20  [1.0280141977830826, -2.1052049026296658]   \n",
      "21  [1.5018160221987447, -1.1689863566989258]   \n",
      "22   [1.252487029862094, -0.4017940798784393]   \n",
      "23   [2.74459608782561, -0.22589844754985478]   \n",
      "24   [2.5206009879348352, -1.188755973398068]   \n",
      "25  [2.3894014222837465, -1.9957263437847024]   \n",
      "26   [2.5863521332756694, -2.698271345804676]   \n",
      "27   [2.802936045029014, -3.9146582594683643]   \n",
      "28   [2.3742862186787597, -4.986386023987168]   \n",
      "29    [2.631277733367731, -4.725357575275321]   \n",
      "30    [2.690502936369522, -3.045140575225412]   \n",
      "31   [2.6899085810905765, -4.170569581678233]   \n",
      "32   [1.6479803392395653, -4.733785323362305]   \n",
      "33     [2.98301812253627, -4.254788371213863]   \n",
      "34   [3.2874041335865045, -4.954866445179659]   \n",
      "35    [3.9599565541416117, -4.53944890197566]   \n",
      "36    [3.467448215947991, -3.368932329247301]   \n",
      "37  [3.9573726674668133, -2.6576226703074832]   \n",
      "38   [3.5405124002606305, -1.638009888418008]   \n",
      "39   [4.081776759103731, -1.5757869984162416]   \n",
      "40     [4.328065704082262, -1.55106781604169]   \n",
      "41    [4.94272801879863, -2.9464372929236267]   \n",
      "42   [4.964078833297567, -3.1157401454025235]   \n",
      "\n",
      "                                              a0  \\\n",
      "0    [1.703303711191412, -0.6828134756977122, 0]   \n",
      "1    [2.038937417570305, -0.8983790669204725, 0]   \n",
      "2   [2.4151731620576395, -1.3061554733186314, 0]   \n",
      "3   [2.0625654883588838, -1.7897777112325375, 0]   \n",
      "4    [2.969168058222645, -2.8492952421580204, 0]   \n",
      "5    [2.292609094077106, -3.0234388937205128, 0]   \n",
      "6    [2.8508858388853118, -3.629865316090676, 0]   \n",
      "7     [2.620993610636525, -4.387623466939075, 0]   \n",
      "8    [2.8229245635941376, -4.511620143041618, 0]   \n",
      "9     [3.8178957637777717, -4.11568862024137, 0]   \n",
      "10  [3.4047622764851253, -3.1081586170809428, 0]   \n",
      "11  [3.1041765986284946, -2.9050122472481275, 0]   \n",
      "12    [3.376154622742464, -1.010933584758629, 0]   \n",
      "13   [4.318857735048184, -1.8652206604966577, 0]   \n",
      "14    [4.769587723059818, -2.133952963110994, 0]   \n",
      "15  [4.3633074361200395, -3.1778384262626256, 0]   \n",
      "16    [4.460696375972243, -4.741423518011959, 0]   \n",
      "17                                    [0, -5, 0]   \n",
      "18  [1.1379896840612185, -0.8119298699420074, 0]   \n",
      "19  [1.3985696690351577, -1.3001838646812103, 0]   \n",
      "20  [1.0280141977830826, -2.1052049026296658, 0]   \n",
      "21  [1.5018160221987447, -1.1689863566989258, 0]   \n",
      "22   [1.252487029862094, -0.4017940798784393, 0]   \n",
      "23   [2.74459608782561, -0.22589844754985478, 0]   \n",
      "24   [2.5206009879348352, -1.188755973398068, 0]   \n",
      "25  [2.3894014222837465, -1.9957263437847024, 0]   \n",
      "26   [2.5863521332756694, -2.698271345804676, 0]   \n",
      "27   [2.802936045029014, -3.9146582594683643, 0]   \n",
      "28   [2.3742862186787597, -4.986386023987168, 0]   \n",
      "29    [2.631277733367731, -4.725357575275321, 0]   \n",
      "30    [2.690502936369522, -3.045140575225412, 0]   \n",
      "31   [2.6899085810905765, -4.170569581678233, 0]   \n",
      "32   [1.6479803392395653, -4.733785323362305, 0]   \n",
      "33     [2.98301812253627, -4.254788371213863, 0]   \n",
      "34   [3.2874041335865045, -4.954866445179659, 0]   \n",
      "35    [3.9599565541416117, -4.53944890197566, 0]   \n",
      "36    [3.467448215947991, -3.368932329247301, 0]   \n",
      "37  [3.9573726674668133, -2.6576226703074832, 0]   \n",
      "38   [3.5405124002606305, -1.638009888418008, 0]   \n",
      "39   [4.081776759103731, -1.5757869984162416, 0]   \n",
      "40     [4.328065704082262, -1.55106781604169, 0]   \n",
      "41    [4.94272801879863, -2.9464372929236267, 0]   \n",
      "42   [4.964078833297567, -3.1157401454025235, 0]   \n",
      "\n",
      "                                              a1  \\\n",
      "0    [1.703303711191412, -0.6828134756977122, 1]   \n",
      "1    [2.038937417570305, -0.8983790669204725, 1]   \n",
      "2   [2.4151731620576395, -1.3061554733186314, 1]   \n",
      "3   [2.0625654883588838, -1.7897777112325375, 1]   \n",
      "4    [2.969168058222645, -2.8492952421580204, 1]   \n",
      "5    [2.292609094077106, -3.0234388937205128, 1]   \n",
      "6    [2.8508858388853118, -3.629865316090676, 1]   \n",
      "7     [2.620993610636525, -4.387623466939075, 1]   \n",
      "8    [2.8229245635941376, -4.511620143041618, 1]   \n",
      "9     [3.8178957637777717, -4.11568862024137, 1]   \n",
      "10  [3.4047622764851253, -3.1081586170809428, 1]   \n",
      "11  [3.1041765986284946, -2.9050122472481275, 1]   \n",
      "12    [3.376154622742464, -1.010933584758629, 1]   \n",
      "13   [4.318857735048184, -1.8652206604966577, 1]   \n",
      "14    [4.769587723059818, -2.133952963110994, 1]   \n",
      "15  [4.3633074361200395, -3.1778384262626256, 1]   \n",
      "16    [4.460696375972243, -4.741423518011959, 1]   \n",
      "17                                    [0, -5, 1]   \n",
      "18  [1.1379896840612185, -0.8119298699420074, 1]   \n",
      "19  [1.3985696690351577, -1.3001838646812103, 1]   \n",
      "20  [1.0280141977830826, -2.1052049026296658, 1]   \n",
      "21  [1.5018160221987447, -1.1689863566989258, 1]   \n",
      "22   [1.252487029862094, -0.4017940798784393, 1]   \n",
      "23   [2.74459608782561, -0.22589844754985478, 1]   \n",
      "24   [2.5206009879348352, -1.188755973398068, 1]   \n",
      "25  [2.3894014222837465, -1.9957263437847024, 1]   \n",
      "26   [2.5863521332756694, -2.698271345804676, 1]   \n",
      "27   [2.802936045029014, -3.9146582594683643, 1]   \n",
      "28   [2.3742862186787597, -4.986386023987168, 1]   \n",
      "29    [2.631277733367731, -4.725357575275321, 1]   \n",
      "30    [2.690502936369522, -3.045140575225412, 1]   \n",
      "31   [2.6899085810905765, -4.170569581678233, 1]   \n",
      "32   [1.6479803392395653, -4.733785323362305, 1]   \n",
      "33     [2.98301812253627, -4.254788371213863, 1]   \n",
      "34   [3.2874041335865045, -4.954866445179659, 1]   \n",
      "35    [3.9599565541416117, -4.53944890197566, 1]   \n",
      "36    [3.467448215947991, -3.368932329247301, 1]   \n",
      "37  [3.9573726674668133, -2.6576226703074832, 1]   \n",
      "38   [3.5405124002606305, -1.638009888418008, 1]   \n",
      "39   [4.081776759103731, -1.5757869984162416, 1]   \n",
      "40     [4.328065704082262, -1.55106781604169, 1]   \n",
      "41    [4.94272801879863, -2.9464372929236267, 1]   \n",
      "42   [4.964078833297567, -3.1157401454025235, 1]   \n",
      "\n",
      "                                              a2  \\\n",
      "0    [1.703303711191412, -0.6828134756977122, 2]   \n",
      "1    [2.038937417570305, -0.8983790669204725, 2]   \n",
      "2   [2.4151731620576395, -1.3061554733186314, 2]   \n",
      "3   [2.0625654883588838, -1.7897777112325375, 2]   \n",
      "4    [2.969168058222645, -2.8492952421580204, 2]   \n",
      "5    [2.292609094077106, -3.0234388937205128, 2]   \n",
      "6    [2.8508858388853118, -3.629865316090676, 2]   \n",
      "7     [2.620993610636525, -4.387623466939075, 2]   \n",
      "8    [2.8229245635941376, -4.511620143041618, 2]   \n",
      "9     [3.8178957637777717, -4.11568862024137, 2]   \n",
      "10  [3.4047622764851253, -3.1081586170809428, 2]   \n",
      "11  [3.1041765986284946, -2.9050122472481275, 2]   \n",
      "12    [3.376154622742464, -1.010933584758629, 2]   \n",
      "13   [4.318857735048184, -1.8652206604966577, 2]   \n",
      "14    [4.769587723059818, -2.133952963110994, 2]   \n",
      "15  [4.3633074361200395, -3.1778384262626256, 2]   \n",
      "16    [4.460696375972243, -4.741423518011959, 2]   \n",
      "17                                    [0, -5, 2]   \n",
      "18  [1.1379896840612185, -0.8119298699420074, 2]   \n",
      "19  [1.3985696690351577, -1.3001838646812103, 2]   \n",
      "20  [1.0280141977830826, -2.1052049026296658, 2]   \n",
      "21  [1.5018160221987447, -1.1689863566989258, 2]   \n",
      "22   [1.252487029862094, -0.4017940798784393, 2]   \n",
      "23   [2.74459608782561, -0.22589844754985478, 2]   \n",
      "24   [2.5206009879348352, -1.188755973398068, 2]   \n",
      "25  [2.3894014222837465, -1.9957263437847024, 2]   \n",
      "26   [2.5863521332756694, -2.698271345804676, 2]   \n",
      "27   [2.802936045029014, -3.9146582594683643, 2]   \n",
      "28   [2.3742862186787597, -4.986386023987168, 2]   \n",
      "29    [2.631277733367731, -4.725357575275321, 2]   \n",
      "30    [2.690502936369522, -3.045140575225412, 2]   \n",
      "31   [2.6899085810905765, -4.170569581678233, 2]   \n",
      "32   [1.6479803392395653, -4.733785323362305, 2]   \n",
      "33     [2.98301812253627, -4.254788371213863, 2]   \n",
      "34   [3.2874041335865045, -4.954866445179659, 2]   \n",
      "35    [3.9599565541416117, -4.53944890197566, 2]   \n",
      "36    [3.467448215947991, -3.368932329247301, 2]   \n",
      "37  [3.9573726674668133, -2.6576226703074832, 2]   \n",
      "38   [3.5405124002606305, -1.638009888418008, 2]   \n",
      "39   [4.081776759103731, -1.5757869984162416, 2]   \n",
      "40     [4.328065704082262, -1.55106781604169, 2]   \n",
      "41    [4.94272801879863, -2.9464372929236267, 2]   \n",
      "42   [4.964078833297567, -3.1157401454025235, 2]   \n",
      "\n",
      "                                              a3  \n",
      "0    [1.703303711191412, -0.6828134756977122, 3]  \n",
      "1    [2.038937417570305, -0.8983790669204725, 3]  \n",
      "2   [2.4151731620576395, -1.3061554733186314, 3]  \n",
      "3   [2.0625654883588838, -1.7897777112325375, 3]  \n",
      "4    [2.969168058222645, -2.8492952421580204, 3]  \n",
      "5    [2.292609094077106, -3.0234388937205128, 3]  \n",
      "6    [2.8508858388853118, -3.629865316090676, 3]  \n",
      "7     [2.620993610636525, -4.387623466939075, 3]  \n",
      "8    [2.8229245635941376, -4.511620143041618, 3]  \n",
      "9     [3.8178957637777717, -4.11568862024137, 3]  \n",
      "10  [3.4047622764851253, -3.1081586170809428, 3]  \n",
      "11  [3.1041765986284946, -2.9050122472481275, 3]  \n",
      "12    [3.376154622742464, -1.010933584758629, 3]  \n",
      "13   [4.318857735048184, -1.8652206604966577, 3]  \n",
      "14    [4.769587723059818, -2.133952963110994, 3]  \n",
      "15  [4.3633074361200395, -3.1778384262626256, 3]  \n",
      "16    [4.460696375972243, -4.741423518011959, 3]  \n",
      "17                                    [0, -5, 3]  \n",
      "18  [1.1379896840612185, -0.8119298699420074, 3]  \n",
      "19  [1.3985696690351577, -1.3001838646812103, 3]  \n",
      "20  [1.0280141977830826, -2.1052049026296658, 3]  \n",
      "21  [1.5018160221987447, -1.1689863566989258, 3]  \n",
      "22   [1.252487029862094, -0.4017940798784393, 3]  \n",
      "23   [2.74459608782561, -0.22589844754985478, 3]  \n",
      "24   [2.5206009879348352, -1.188755973398068, 3]  \n",
      "25  [2.3894014222837465, -1.9957263437847024, 3]  \n",
      "26   [2.5863521332756694, -2.698271345804676, 3]  \n",
      "27   [2.802936045029014, -3.9146582594683643, 3]  \n",
      "28   [2.3742862186787597, -4.986386023987168, 3]  \n",
      "29    [2.631277733367731, -4.725357575275321, 3]  \n",
      "30    [2.690502936369522, -3.045140575225412, 3]  \n",
      "31   [2.6899085810905765, -4.170569581678233, 3]  \n",
      "32   [1.6479803392395653, -4.733785323362305, 3]  \n",
      "33     [2.98301812253627, -4.254788371213863, 3]  \n",
      "34   [3.2874041335865045, -4.954866445179659, 3]  \n",
      "35    [3.9599565541416117, -4.53944890197566, 3]  \n",
      "36    [3.467448215947991, -3.368932329247301, 3]  \n",
      "37  [3.9573726674668133, -2.6576226703074832, 3]  \n",
      "38   [3.5405124002606305, -1.638009888418008, 3]  \n",
      "39   [4.081776759103731, -1.5757869984162416, 3]  \n",
      "40     [4.328065704082262, -1.55106781604169, 3]  \n",
      "41    [4.94272801879863, -2.9464372929236267, 3]  \n",
      "42   [4.964078833297567, -3.1157401454025235, 3]  \n"
     ]
    },
    {
     "name": "stdout",
     "output_type": "stream",
     "text": [
      "New training features\n",
      "    FEATURE_0  FEATURE_1 ACTION\n",
      "0    0.945199  -0.450422      2\n",
      "1    1.519087  -0.565061      2\n",
      "2    2.915137  -0.751483      1\n",
      "3    2.968668  -1.220494      2\n",
      "4    2.413339  -1.154717      1\n",
      "5    2.609639  -2.493043      1\n",
      "6    2.570820  -3.287558      2\n",
      "7    2.632937  -3.793000      1\n",
      "8    2.357540  -4.372877      1\n",
      "9    2.729598  -4.606296      2\n",
      "10   3.434102  -4.873066      0\n",
      "11   3.955879  -3.783136      0\n",
      "12   3.891990  -2.797126      0\n",
      "13   3.140949  -1.388589      2\n",
      "14   4.684396  -1.984230      1\n",
      "15   4.886250  -2.939611      1\n",
      "16   4.311364  -3.984780      1\n",
      "17   4.806505  -4.708546      4\n",
      "18   0.763667  -0.705527      2\n",
      "19   1.141057  -0.450061      1\n",
      "20   1.195122  -1.702429      1\n",
      "21   1.475052  -2.143189      0\n",
      "22   1.393695  -1.559586      0\n",
      "23   1.994040  -0.426111      2\n",
      "24   2.513581  -0.483613      1\n",
      "25   2.193643  -1.990063      3\n",
      "26   2.352242  -1.264183      1\n",
      "27   2.757072  -2.300996      1\n",
      "28   2.501201  -3.776288      1\n",
      "29   2.420129  -4.211497      1\n",
      "30   2.831120  -4.217788      0\n",
      "31   2.871503  -3.619606      1\n",
      "32   2.781537  -4.588388      3\n",
      "33   1.292517  -4.240362      2\n",
      "34   2.106868  -4.825039      2\n",
      "35   3.515520  -4.306138      2\n",
      "36   3.019318  -4.252599      0\n",
      "37   3.445026  -3.292378      0\n",
      "38   3.425195  -2.327439      0\n",
      "39   3.691403  -1.525403      2\n",
      "40   4.977119  -1.136893      2\n",
      "41   4.280689  -1.843074      1\n",
      "42   4.503376  -2.424810      1\n"
     ]
    },
    {
     "name": "stderr",
     "output_type": "stream",
     "text": [
      "100%|██████████| 100/100 [01:05<00:00,  1.52it/s]\n"
     ]
    },
    {
     "name": "stdout",
     "output_type": "stream",
     "text": [
      "N= 2  completed\n"
     ]
    },
    {
     "name": "stderr",
     "output_type": "stream",
     "text": [
      "Splitting... |#Clusters:3:   4%|▍         | 1/23 [00:00<00:03,  6.61it/s]"
     ]
    },
    {
     "name": "stdout",
     "output_type": "stream",
     "text": [
      "Clusters Initialized\n",
      "    ID  TIME  FEATURE_0  FEATURE_1 ACTION   RISK  OG_CLUSTER  CLUSTER  \\\n",
      "0    0     0   0.935456  -0.257430      2 -0.004           0        0   \n",
      "1    0     1   1.777537  -0.525098      2 -0.004           1        0   \n",
      "2    0     2   2.698330  -0.690030      0 -0.004           2        0   \n",
      "3    0     3   2.902483  -0.721617      2 -0.004           2        0   \n",
      "4    0     4   2.380671  -0.940479      1 -0.004           2        0   \n",
      "..  ..   ...        ...        ...    ...    ...         ...      ...   \n",
      "68   2    20   3.298740  -3.498070      1 -0.004          18        0   \n",
      "69   2    21   3.816923  -4.764865      0 -0.004          23        0   \n",
      "70   2    22   3.660140  -3.364731      0 -0.004          18        0   \n",
      "71   2    23   3.760105  -2.681244      0 -0.004          13        0   \n",
      "72   2    24   3.912037  -1.615097      2 -0.004           8        0   \n",
      "\n",
      "   NEXT_CLUSTER  \n",
      "0             0  \n",
      "1             0  \n",
      "2             0  \n",
      "3             0  \n",
      "4             0  \n",
      "..          ...  \n",
      "68            0  \n",
      "69            0  \n",
      "70            0  \n",
      "71            0  \n",
      "72         None  \n",
      "\n",
      "[73 rows x 9 columns]\n"
     ]
    },
    {
     "name": "stderr",
     "output_type": "stream",
     "text": [
      "Splitting... |#Clusters:9:  30%|███       | 7/23 [00:01<00:05,  3.13it/s]"
     ]
    },
    {
     "name": "stdout",
     "output_type": "stream",
     "text": [
      "WARNING: Trying to predict next state from state 5 taking action 3 , but this transition is never seen in the data. Data point: 1 21\n",
      "WARNING: In training value evaluation, trying to predict next state from state 5 taking action 3 , but this transition is never seen in the data. Data point: 1 20\n"
     ]
    },
    {
     "name": "stderr",
     "output_type": "stream",
     "text": [
      "Splitting... |#Clusters:10:  35%|███▍      | 8/23 [00:02<00:05,  2.79it/s]"
     ]
    },
    {
     "name": "stdout",
     "output_type": "stream",
     "text": [
      "WARNING: Trying to predict next state from state 5 taking action 3 , but this transition is never seen in the data. Data point: 1 21\n",
      "WARNING: In training value evaluation, trying to predict next state from state 5 taking action 3 , but this transition is never seen in the data. Data point: 1 20\n"
     ]
    },
    {
     "name": "stderr",
     "output_type": "stream",
     "text": [
      "Splitting... |#Clusters:11:  39%|███▉      | 9/23 [00:02<00:05,  2.47it/s]"
     ]
    },
    {
     "name": "stdout",
     "output_type": "stream",
     "text": [
      "WARNING: Trying to predict next state from state 3 taking action 3 , but this transition is never seen in the data. Data point: 1 21\n",
      "WARNING: In training value evaluation, trying to predict next state from state 3 taking action 3 , but this transition is never seen in the data. Data point: 1 20\n"
     ]
    },
    {
     "name": "stderr",
     "output_type": "stream",
     "text": [
      "Splitting... |#Clusters:12:  43%|████▎     | 10/23 [00:03<00:05,  2.44it/s]"
     ]
    },
    {
     "name": "stdout",
     "output_type": "stream",
     "text": [
      "WARNING: Trying to predict next state from state 3 taking action 3 , but this transition is never seen in the data. Data point: 1 21\n",
      "WARNING: In training value evaluation, trying to predict next state from state 3 taking action 3 , but this transition is never seen in the data. Data point: 1 20\n"
     ]
    },
    {
     "name": "stderr",
     "output_type": "stream",
     "text": [
      "Splitting... |#Clusters:13:  48%|████▊     | 11/23 [00:03<00:05,  2.27it/s]"
     ]
    },
    {
     "name": "stdout",
     "output_type": "stream",
     "text": [
      "WARNING: Trying to predict next state from state 3 taking action 3 , but this transition is never seen in the data. Data point: 1 21\n",
      "WARNING: In training value evaluation, trying to predict next state from state 3 taking action 3 , but this transition is never seen in the data. Data point: 1 20\n"
     ]
    },
    {
     "name": "stderr",
     "output_type": "stream",
     "text": [
      "Splitting... |#Clusters:14:  52%|█████▏    | 12/23 [00:04<00:04,  2.31it/s]"
     ]
    },
    {
     "name": "stdout",
     "output_type": "stream",
     "text": [
      "WARNING: Trying to predict next state from state 13 taking action 1 , but this transition is never seen in the data. Data point: 0 9\n",
      "WARNING: Trying to predict next state from state 13 taking action 1 , but this transition is never seen in the data. Data point: 0 21\n",
      "WARNING: Trying to predict next state from state 13 taking action 1 , but this transition is never seen in the data. Data point: 1 12\n",
      "WARNING: Trying to predict next state from state 13 taking action 1 , but this transition is never seen in the data. Data point: 1 20\n",
      "WARNING: Trying to predict next state from state 13 taking action 3 , but this transition is never seen in the data. Data point: 1 21\n",
      "WARNING: Trying to predict next state from state 13 taking action 1 , but this transition is never seen in the data. Data point: 2 7\n",
      "WARNING: Trying to predict next state from state 13 taking action 1 , but this transition is never seen in the data. Data point: 2 18\n",
      "WARNING: In training value evaluation, trying to predict next state from state 13 taking action 1 , but this transition is never seen in the data. Data point: 0 8\n",
      "WARNING: In training value evaluation, trying to predict next state from state 13 taking action 1 , but this transition is never seen in the data. Data point: 0 20\n",
      "WARNING: In training value evaluation, trying to predict next state from state 13 taking action 1 , but this transition is never seen in the data. Data point: 1 11\n",
      "WARNING: In training value evaluation, trying to predict next state from state 13 taking action 1 , but this transition is never seen in the data. Data point: 1 19\n",
      "WARNING: In training value evaluation, trying to predict next state from state 13 taking action 3 , but this transition is never seen in the data. Data point: 1 20\n",
      "WARNING: In training value evaluation, trying to predict next state from state 13 taking action 1 , but this transition is never seen in the data. Data point: 2 6\n",
      "WARNING: In training value evaluation, trying to predict next state from state 13 taking action 1 , but this transition is never seen in the data. Data point: 2 17\n"
     ]
    },
    {
     "name": "stderr",
     "output_type": "stream",
     "text": [
      "Splitting... |#Clusters:15:  57%|█████▋    | 13/23 [00:04<00:04,  2.36it/s]"
     ]
    },
    {
     "name": "stdout",
     "output_type": "stream",
     "text": [
      "WARNING: Trying to predict next state from state 13 taking action 1 , but this transition is never seen in the data. Data point: 0 21\n",
      "WARNING: Trying to predict next state from state 14 taking action 2 , but this transition is never seen in the data. Data point: 1 10\n",
      "WARNING: Trying to predict next state from state 13 taking action 1 , but this transition is never seen in the data. Data point: 1 20\n",
      "WARNING: Trying to predict next state from state 13 taking action 3 , but this transition is never seen in the data. Data point: 1 21\n",
      "WARNING: In training value evaluation, trying to predict next state from state 13 taking action 1 , but this transition is never seen in the data. Data point: 0 20\n",
      "WARNING: In training value evaluation, trying to predict next state from state 14 taking action 2 , but this transition is never seen in the data. Data point: 1 9\n",
      "WARNING: In training value evaluation, trying to predict next state from state 13 taking action 1 , but this transition is never seen in the data. Data point: 1 19\n",
      "WARNING: In training value evaluation, trying to predict next state from state 13 taking action 3 , but this transition is never seen in the data. Data point: 1 20\n"
     ]
    },
    {
     "name": "stderr",
     "output_type": "stream",
     "text": [
      "Splitting... |#Clusters:16:  61%|██████    | 14/23 [00:05<00:03,  2.39it/s]"
     ]
    },
    {
     "name": "stdout",
     "output_type": "stream",
     "text": [
      "WARNING: Trying to predict next state from state 14 taking action 2 , but this transition is never seen in the data. Data point: 0 13\n",
      "WARNING: Trying to predict next state from state 13 taking action 1 , but this transition is never seen in the data. Data point: 0 21\n",
      "WARNING: Trying to predict next state from state 14 taking action 2 , but this transition is never seen in the data. Data point: 1 10\n",
      "WARNING: Trying to predict next state from state 13 taking action 1 , but this transition is never seen in the data. Data point: 1 20\n",
      "WARNING: Trying to predict next state from state 13 taking action 3 , but this transition is never seen in the data. Data point: 1 21\n",
      "WARNING: Trying to predict next state from state 13 taking action 1 , but this transition is never seen in the data. Data point: 2 18\n",
      "WARNING: In training value evaluation, trying to predict next state from state 14 taking action 2 , but this transition is never seen in the data. Data point: 0 12\n",
      "WARNING: In training value evaluation, trying to predict next state from state 13 taking action 1 , but this transition is never seen in the data. Data point: 0 20\n",
      "WARNING: In training value evaluation, trying to predict next state from state 14 taking action 2 , but this transition is never seen in the data. Data point: 1 9\n",
      "WARNING: In training value evaluation, trying to predict next state from state 13 taking action 1 , but this transition is never seen in the data. Data point: 1 19\n",
      "WARNING: In training value evaluation, trying to predict next state from state 13 taking action 3 , but this transition is never seen in the data. Data point: 1 20\n",
      "WARNING: In training value evaluation, trying to predict next state from state 13 taking action 1 , but this transition is never seen in the data. Data point: 2 17\n"
     ]
    },
    {
     "name": "stderr",
     "output_type": "stream",
     "text": [
      "Splitting... |#Clusters:17:  65%|██████▌   | 15/23 [00:05<00:03,  2.29it/s]"
     ]
    },
    {
     "name": "stdout",
     "output_type": "stream",
     "text": [
      "WARNING: Trying to predict next state from state 5 taking action 2 , but this transition is never seen in the data. Data point: 0 12\n",
      "WARNING: Trying to predict next state from state 5 taking action 2 , but this transition is never seen in the data. Data point: 0 13\n",
      "WARNING: Trying to predict next state from state 13 taking action 1 , but this transition is never seen in the data. Data point: 0 21\n",
      "WARNING: Trying to predict next state from state 14 taking action 2 , but this transition is never seen in the data. Data point: 1 10\n",
      "WARNING: Trying to predict next state from state 13 taking action 1 , but this transition is never seen in the data. Data point: 1 20\n",
      "WARNING: Trying to predict next state from state 13 taking action 3 , but this transition is never seen in the data. Data point: 1 21\n",
      "WARNING: Trying to predict next state from state 5 taking action 1 , but this transition is never seen in the data. Data point: 2 11\n",
      "WARNING: Trying to predict next state from state 0 taking action 1 , but this transition is never seen in the data. Data point: 2 16\n",
      "WARNING: Trying to predict next state from state 0 taking action 1 , but this transition is never seen in the data. Data point: 2 17\n",
      "WARNING: Trying to predict next state from state 0 taking action 1 , but this transition is never seen in the data. Data point: 2 18\n",
      "WARNING: Trying to predict next state from state 0 taking action 0 , but this transition is never seen in the data. Data point: 2 19\n",
      "WARNING: Trying to predict next state from state 0 taking action 3 , but this transition is never seen in the data. Data point: 2 20\n",
      "WARNING: Trying to predict next state from state 0 taking action 1 , but this transition is never seen in the data. Data point: 2 21\n",
      "WARNING: Trying to predict next state from state 0 taking action 0 , but this transition is never seen in the data. Data point: 2 22\n",
      "WARNING: Trying to predict next state from state 0 taking action 0 , but this transition is never seen in the data. Data point: 2 23\n",
      "WARNING: In training value evaluation, trying to predict next state from state 5 taking action 2 , but this transition is never seen in the data. Data point: 0 11\n",
      "WARNING: In training value evaluation, trying to predict next state from state 5 taking action 2 , but this transition is never seen in the data. Data point: 0 12\n",
      "WARNING: In training value evaluation, trying to predict next state from state 13 taking action 1 , but this transition is never seen in the data. Data point: 0 20\n",
      "WARNING: In training value evaluation, trying to predict next state from state 14 taking action 2 , but this transition is never seen in the data. Data point: 1 9\n",
      "WARNING: In training value evaluation, trying to predict next state from state 13 taking action 1 , but this transition is never seen in the data. Data point: 1 19\n",
      "WARNING: In training value evaluation, trying to predict next state from state 13 taking action 3 , but this transition is never seen in the data. Data point: 1 20\n",
      "WARNING: In training value evaluation, trying to predict next state from state 5 taking action 1 , but this transition is never seen in the data. Data point: 2 10\n",
      "WARNING: In training value evaluation, trying to predict next state from state 0 taking action 1 , but this transition is never seen in the data. Data point: 2 15\n",
      "WARNING: In training value evaluation, trying to predict next state from state 0 taking action 1 , but this transition is never seen in the data. Data point: 2 16\n",
      "WARNING: In training value evaluation, trying to predict next state from state 0 taking action 1 , but this transition is never seen in the data. Data point: 2 17\n",
      "WARNING: In training value evaluation, trying to predict next state from state 0 taking action 0 , but this transition is never seen in the data. Data point: 2 18\n",
      "WARNING: In training value evaluation, trying to predict next state from state 0 taking action 3 , but this transition is never seen in the data. Data point: 2 19\n",
      "WARNING: In training value evaluation, trying to predict next state from state 0 taking action 1 , but this transition is never seen in the data. Data point: 2 20\n",
      "WARNING: In training value evaluation, trying to predict next state from state 0 taking action 0 , but this transition is never seen in the data. Data point: 2 21\n",
      "WARNING: In training value evaluation, trying to predict next state from state 0 taking action 0 , but this transition is never seen in the data. Data point: 2 22\n",
      "WARNING: In training value evaluation, trying to predict next state from state 0 taking action 0 , but this transition is never seen in the data. Data point: 2 23\n"
     ]
    },
    {
     "name": "stderr",
     "output_type": "stream",
     "text": [
      "Splitting... |#Clusters:18:  70%|██████▉   | 16/23 [00:06<00:03,  2.22it/s]"
     ]
    },
    {
     "name": "stdout",
     "output_type": "stream",
     "text": [
      "WARNING: Trying to predict next state from state 5 taking action 2 , but this transition is never seen in the data. Data point: 0 12\n",
      "WARNING: Trying to predict next state from state 5 taking action 2 , but this transition is never seen in the data. Data point: 0 13\n",
      "WARNING: Trying to predict next state from state 13 taking action 1 , but this transition is never seen in the data. Data point: 0 21\n",
      "WARNING: Trying to predict next state from state 14 taking action 2 , but this transition is never seen in the data. Data point: 1 10\n",
      "WARNING: Trying to predict next state from state 13 taking action 1 , but this transition is never seen in the data. Data point: 1 20\n",
      "WARNING: Trying to predict next state from state 13 taking action 3 , but this transition is never seen in the data. Data point: 1 21\n",
      "WARNING: Trying to predict next state from state 5 taking action 1 , but this transition is never seen in the data. Data point: 2 11\n",
      "WARNING: Trying to predict next state from state 0 taking action 1 , but this transition is never seen in the data. Data point: 2 16\n",
      "WARNING: Trying to predict next state from state 0 taking action 1 , but this transition is never seen in the data. Data point: 2 17\n",
      "WARNING: Trying to predict next state from state 0 taking action 1 , but this transition is never seen in the data. Data point: 2 18\n",
      "WARNING: Trying to predict next state from state 0 taking action 0 , but this transition is never seen in the data. Data point: 2 19\n",
      "WARNING: Trying to predict next state from state 0 taking action 3 , but this transition is never seen in the data. Data point: 2 20\n",
      "WARNING: Trying to predict next state from state 0 taking action 1 , but this transition is never seen in the data. Data point: 2 21\n",
      "WARNING: Trying to predict next state from state 0 taking action 0 , but this transition is never seen in the data. Data point: 2 22\n",
      "WARNING: Trying to predict next state from state 0 taking action 0 , but this transition is never seen in the data. Data point: 2 23\n",
      "WARNING: In training value evaluation, trying to predict next state from state 5 taking action 2 , but this transition is never seen in the data. Data point: 0 11\n",
      "WARNING: In training value evaluation, trying to predict next state from state 5 taking action 2 , but this transition is never seen in the data. Data point: 0 12\n",
      "WARNING: In training value evaluation, trying to predict next state from state 13 taking action 1 , but this transition is never seen in the data. Data point: 0 20\n",
      "WARNING: In training value evaluation, trying to predict next state from state 14 taking action 2 , but this transition is never seen in the data. Data point: 1 9\n",
      "WARNING: In training value evaluation, trying to predict next state from state 13 taking action 1 , but this transition is never seen in the data. Data point: 1 19\n",
      "WARNING: In training value evaluation, trying to predict next state from state 13 taking action 3 , but this transition is never seen in the data. Data point: 1 20\n",
      "WARNING: In training value evaluation, trying to predict next state from state 5 taking action 1 , but this transition is never seen in the data. Data point: 2 10\n",
      "WARNING: In training value evaluation, trying to predict next state from state 0 taking action 1 , but this transition is never seen in the data. Data point: 2 15\n",
      "WARNING: In training value evaluation, trying to predict next state from state 0 taking action 1 , but this transition is never seen in the data. Data point: 2 16\n",
      "WARNING: In training value evaluation, trying to predict next state from state 0 taking action 1 , but this transition is never seen in the data. Data point: 2 17\n",
      "WARNING: In training value evaluation, trying to predict next state from state 0 taking action 0 , but this transition is never seen in the data. Data point: 2 18\n",
      "WARNING: In training value evaluation, trying to predict next state from state 0 taking action 3 , but this transition is never seen in the data. Data point: 2 19\n",
      "WARNING: In training value evaluation, trying to predict next state from state 0 taking action 1 , but this transition is never seen in the data. Data point: 2 20\n",
      "WARNING: In training value evaluation, trying to predict next state from state 0 taking action 0 , but this transition is never seen in the data. Data point: 2 21\n",
      "WARNING: In training value evaluation, trying to predict next state from state 0 taking action 0 , but this transition is never seen in the data. Data point: 2 22\n",
      "WARNING: In training value evaluation, trying to predict next state from state 0 taking action 0 , but this transition is never seen in the data. Data point: 2 23\n"
     ]
    },
    {
     "name": "stderr",
     "output_type": "stream",
     "text": [
      "Splitting... |#Clusters:19:  74%|███████▍  | 17/23 [00:06<00:02,  2.19it/s]"
     ]
    },
    {
     "name": "stdout",
     "output_type": "stream",
     "text": [
      "WARNING: Trying to predict next state from state 5 taking action 2 , but this transition is never seen in the data. Data point: 0 12\n",
      "WARNING: Trying to predict next state from state 5 taking action 2 , but this transition is never seen in the data. Data point: 0 13\n",
      "WARNING: Trying to predict next state from state 13 taking action 1 , but this transition is never seen in the data. Data point: 0 21\n",
      "WARNING: Trying to predict next state from state 7 taking action 3 , but this transition is never seen in the data. Data point: 1 2\n",
      "WARNING: Trying to predict next state from state 7 taking action 0 , but this transition is never seen in the data. Data point: 1 3\n",
      "WARNING: Trying to predict next state from state 14 taking action 2 , but this transition is never seen in the data. Data point: 1 13\n",
      "WARNING: Trying to predict next state from state 0 taking action 1 , but this transition is never seen in the data. Data point: 1 19\n",
      "WARNING: Trying to predict next state from state 0 taking action 1 , but this transition is never seen in the data. Data point: 1 20\n",
      "WARNING: Trying to predict next state from state 0 taking action 3 , but this transition is never seen in the data. Data point: 1 21\n",
      "WARNING: Trying to predict next state from state 5 taking action 1 , but this transition is never seen in the data. Data point: 2 11\n",
      "WARNING: Trying to predict next state from state 0 taking action 1 , but this transition is never seen in the data. Data point: 2 16\n",
      "WARNING: Trying to predict next state from state 0 taking action 1 , but this transition is never seen in the data. Data point: 2 17\n",
      "WARNING: Trying to predict next state from state 0 taking action 1 , but this transition is never seen in the data. Data point: 2 18\n",
      "WARNING: Trying to predict next state from state 0 taking action 0 , but this transition is never seen in the data. Data point: 2 19\n",
      "WARNING: Trying to predict next state from state 0 taking action 3 , but this transition is never seen in the data. Data point: 2 20\n",
      "WARNING: Trying to predict next state from state 0 taking action 1 , but this transition is never seen in the data. Data point: 2 21\n",
      "WARNING: Trying to predict next state from state 0 taking action 0 , but this transition is never seen in the data. Data point: 2 22\n",
      "WARNING: Trying to predict next state from state 0 taking action 0 , but this transition is never seen in the data. Data point: 2 23\n",
      "WARNING: In training value evaluation, trying to predict next state from state 5 taking action 2 , but this transition is never seen in the data. Data point: 0 11\n",
      "WARNING: In training value evaluation, trying to predict next state from state 5 taking action 2 , but this transition is never seen in the data. Data point: 0 12\n",
      "WARNING: In training value evaluation, trying to predict next state from state 13 taking action 1 , but this transition is never seen in the data. Data point: 0 20\n",
      "WARNING: In training value evaluation, trying to predict next state from state 7 taking action 3 , but this transition is never seen in the data. Data point: 1 1\n",
      "WARNING: In training value evaluation, trying to predict next state from state 7 taking action 0 , but this transition is never seen in the data. Data point: 1 2\n",
      "WARNING: In training value evaluation, trying to predict next state from state 14 taking action 2 , but this transition is never seen in the data. Data point: 1 12\n",
      "WARNING: In training value evaluation, trying to predict next state from state 0 taking action 1 , but this transition is never seen in the data. Data point: 1 18\n",
      "WARNING: In training value evaluation, trying to predict next state from state 0 taking action 1 , but this transition is never seen in the data. Data point: 1 19\n",
      "WARNING: In training value evaluation, trying to predict next state from state 0 taking action 3 , but this transition is never seen in the data. Data point: 1 20\n",
      "WARNING: In training value evaluation, trying to predict next state from state 5 taking action 1 , but this transition is never seen in the data. Data point: 2 10\n",
      "WARNING: In training value evaluation, trying to predict next state from state 0 taking action 1 , but this transition is never seen in the data. Data point: 2 15\n",
      "WARNING: In training value evaluation, trying to predict next state from state 0 taking action 1 , but this transition is never seen in the data. Data point: 2 16\n",
      "WARNING: In training value evaluation, trying to predict next state from state 0 taking action 1 , but this transition is never seen in the data. Data point: 2 17\n",
      "WARNING: In training value evaluation, trying to predict next state from state 0 taking action 0 , but this transition is never seen in the data. Data point: 2 18\n",
      "WARNING: In training value evaluation, trying to predict next state from state 0 taking action 3 , but this transition is never seen in the data. Data point: 2 19\n",
      "WARNING: In training value evaluation, trying to predict next state from state 0 taking action 1 , but this transition is never seen in the data. Data point: 2 20\n",
      "WARNING: In training value evaluation, trying to predict next state from state 0 taking action 0 , but this transition is never seen in the data. Data point: 2 21\n",
      "WARNING: In training value evaluation, trying to predict next state from state 0 taking action 0 , but this transition is never seen in the data. Data point: 2 22\n",
      "WARNING: In training value evaluation, trying to predict next state from state 0 taking action 0 , but this transition is never seen in the data. Data point: 2 23\n"
     ]
    },
    {
     "name": "stderr",
     "output_type": "stream",
     "text": [
      "Splitting... |#Clusters:20:  78%|███████▊  | 18/23 [00:06<00:02,  2.22it/s]"
     ]
    },
    {
     "name": "stdout",
     "output_type": "stream",
     "text": [
      "WARNING: Trying to predict next state from state 5 taking action 2 , but this transition is never seen in the data. Data point: 0 12\n",
      "WARNING: Trying to predict next state from state 5 taking action 2 , but this transition is never seen in the data. Data point: 0 13\n",
      "WARNING: Trying to predict next state from state 7 taking action 3 , but this transition is never seen in the data. Data point: 1 2\n",
      "WARNING: Trying to predict next state from state 7 taking action 0 , but this transition is never seen in the data. Data point: 1 3\n",
      "WARNING: Trying to predict next state from state 14 taking action 2 , but this transition is never seen in the data. Data point: 1 13\n",
      "WARNING: Trying to predict next state from state 0 taking action 1 , but this transition is never seen in the data. Data point: 1 19\n",
      "WARNING: Trying to predict next state from state 0 taking action 1 , but this transition is never seen in the data. Data point: 1 20\n",
      "WARNING: Trying to predict next state from state 0 taking action 3 , but this transition is never seen in the data. Data point: 1 21\n",
      "WARNING: Trying to predict next state from state 5 taking action 1 , but this transition is never seen in the data. Data point: 2 11\n",
      "WARNING: Trying to predict next state from state 0 taking action 1 , but this transition is never seen in the data. Data point: 2 16\n",
      "WARNING: Trying to predict next state from state 0 taking action 1 , but this transition is never seen in the data. Data point: 2 17\n",
      "WARNING: Trying to predict next state from state 0 taking action 1 , but this transition is never seen in the data. Data point: 2 18\n",
      "WARNING: Trying to predict next state from state 0 taking action 0 , but this transition is never seen in the data. Data point: 2 19\n",
      "WARNING: Trying to predict next state from state 0 taking action 3 , but this transition is never seen in the data. Data point: 2 20\n",
      "WARNING: Trying to predict next state from state 0 taking action 1 , but this transition is never seen in the data. Data point: 2 21\n",
      "WARNING: Trying to predict next state from state 0 taking action 0 , but this transition is never seen in the data. Data point: 2 22\n",
      "WARNING: Trying to predict next state from state 0 taking action 0 , but this transition is never seen in the data. Data point: 2 23\n",
      "WARNING: In training value evaluation, trying to predict next state from state 5 taking action 2 , but this transition is never seen in the data. Data point: 0 11\n",
      "WARNING: In training value evaluation, trying to predict next state from state 5 taking action 2 , but this transition is never seen in the data. Data point: 0 12\n",
      "WARNING: In training value evaluation, trying to predict next state from state 7 taking action 3 , but this transition is never seen in the data. Data point: 1 1\n",
      "WARNING: In training value evaluation, trying to predict next state from state 7 taking action 0 , but this transition is never seen in the data. Data point: 1 2\n",
      "WARNING: In training value evaluation, trying to predict next state from state 14 taking action 2 , but this transition is never seen in the data. Data point: 1 12\n",
      "WARNING: In training value evaluation, trying to predict next state from state 0 taking action 1 , but this transition is never seen in the data. Data point: 1 18\n",
      "WARNING: In training value evaluation, trying to predict next state from state 0 taking action 1 , but this transition is never seen in the data. Data point: 1 19\n",
      "WARNING: In training value evaluation, trying to predict next state from state 0 taking action 3 , but this transition is never seen in the data. Data point: 1 20\n",
      "WARNING: In training value evaluation, trying to predict next state from state 5 taking action 1 , but this transition is never seen in the data. Data point: 2 10\n",
      "WARNING: In training value evaluation, trying to predict next state from state 0 taking action 1 , but this transition is never seen in the data. Data point: 2 15\n",
      "WARNING: In training value evaluation, trying to predict next state from state 0 taking action 1 , but this transition is never seen in the data. Data point: 2 16\n",
      "WARNING: In training value evaluation, trying to predict next state from state 0 taking action 1 , but this transition is never seen in the data. Data point: 2 17\n",
      "WARNING: In training value evaluation, trying to predict next state from state 0 taking action 0 , but this transition is never seen in the data. Data point: 2 18\n",
      "WARNING: In training value evaluation, trying to predict next state from state 0 taking action 3 , but this transition is never seen in the data. Data point: 2 19\n",
      "WARNING: In training value evaluation, trying to predict next state from state 0 taking action 1 , but this transition is never seen in the data. Data point: 2 20\n",
      "WARNING: In training value evaluation, trying to predict next state from state 0 taking action 0 , but this transition is never seen in the data. Data point: 2 21\n",
      "WARNING: In training value evaluation, trying to predict next state from state 0 taking action 0 , but this transition is never seen in the data. Data point: 2 22\n",
      "WARNING: In training value evaluation, trying to predict next state from state 0 taking action 0 , but this transition is never seen in the data. Data point: 2 23\n"
     ]
    },
    {
     "name": "stderr",
     "output_type": "stream",
     "text": [
      "Splitting... |#Clusters:21:  83%|████████▎ | 19/23 [00:07<00:01,  2.24it/s]"
     ]
    },
    {
     "name": "stdout",
     "output_type": "stream",
     "text": [
      "WARNING: Trying to predict next state from state 5 taking action 2 , but this transition is never seen in the data. Data point: 0 12\n",
      "WARNING: Trying to predict next state from state 5 taking action 2 , but this transition is never seen in the data. Data point: 0 13\n",
      "WARNING: Trying to predict next state from state 7 taking action 3 , but this transition is never seen in the data. Data point: 1 2\n",
      "WARNING: Trying to predict next state from state 7 taking action 0 , but this transition is never seen in the data. Data point: 1 3\n",
      "WARNING: Trying to predict next state from state 14 taking action 2 , but this transition is never seen in the data. Data point: 1 13\n",
      "WARNING: Trying to predict next state from state 0 taking action 1 , but this transition is never seen in the data. Data point: 1 19\n",
      "WARNING: Trying to predict next state from state 0 taking action 1 , but this transition is never seen in the data. Data point: 1 20\n",
      "WARNING: Trying to predict next state from state 0 taking action 3 , but this transition is never seen in the data. Data point: 1 21\n",
      "WARNING: Trying to predict next state from state 5 taking action 1 , but this transition is never seen in the data. Data point: 2 11\n",
      "WARNING: Trying to predict next state from state 0 taking action 1 , but this transition is never seen in the data. Data point: 2 16\n",
      "WARNING: Trying to predict next state from state 0 taking action 1 , but this transition is never seen in the data. Data point: 2 17\n",
      "WARNING: Trying to predict next state from state 0 taking action 1 , but this transition is never seen in the data. Data point: 2 18\n",
      "WARNING: Trying to predict next state from state 0 taking action 0 , but this transition is never seen in the data. Data point: 2 19\n",
      "WARNING: Trying to predict next state from state 0 taking action 3 , but this transition is never seen in the data. Data point: 2 20\n",
      "WARNING: Trying to predict next state from state 0 taking action 1 , but this transition is never seen in the data. Data point: 2 21\n",
      "WARNING: Trying to predict next state from state 0 taking action 0 , but this transition is never seen in the data. Data point: 2 22\n",
      "WARNING: Trying to predict next state from state 0 taking action 0 , but this transition is never seen in the data. Data point: 2 23\n",
      "WARNING: In training value evaluation, trying to predict next state from state 5 taking action 2 , but this transition is never seen in the data. Data point: 0 11\n",
      "WARNING: In training value evaluation, trying to predict next state from state 5 taking action 2 , but this transition is never seen in the data. Data point: 0 12\n",
      "WARNING: In training value evaluation, trying to predict next state from state 7 taking action 3 , but this transition is never seen in the data. Data point: 1 1\n",
      "WARNING: In training value evaluation, trying to predict next state from state 7 taking action 0 , but this transition is never seen in the data. Data point: 1 2\n",
      "WARNING: In training value evaluation, trying to predict next state from state 14 taking action 2 , but this transition is never seen in the data. Data point: 1 12\n",
      "WARNING: In training value evaluation, trying to predict next state from state 0 taking action 1 , but this transition is never seen in the data. Data point: 1 18\n",
      "WARNING: In training value evaluation, trying to predict next state from state 0 taking action 1 , but this transition is never seen in the data. Data point: 1 19\n",
      "WARNING: In training value evaluation, trying to predict next state from state 0 taking action 3 , but this transition is never seen in the data. Data point: 1 20\n",
      "WARNING: In training value evaluation, trying to predict next state from state 5 taking action 1 , but this transition is never seen in the data. Data point: 2 10\n",
      "WARNING: In training value evaluation, trying to predict next state from state 0 taking action 1 , but this transition is never seen in the data. Data point: 2 15\n",
      "WARNING: In training value evaluation, trying to predict next state from state 0 taking action 1 , but this transition is never seen in the data. Data point: 2 16\n",
      "WARNING: In training value evaluation, trying to predict next state from state 0 taking action 1 , but this transition is never seen in the data. Data point: 2 17\n",
      "WARNING: In training value evaluation, trying to predict next state from state 0 taking action 0 , but this transition is never seen in the data. Data point: 2 18\n",
      "WARNING: In training value evaluation, trying to predict next state from state 0 taking action 3 , but this transition is never seen in the data. Data point: 2 19\n",
      "WARNING: In training value evaluation, trying to predict next state from state 0 taking action 1 , but this transition is never seen in the data. Data point: 2 20\n",
      "WARNING: In training value evaluation, trying to predict next state from state 0 taking action 0 , but this transition is never seen in the data. Data point: 2 21\n",
      "WARNING: In training value evaluation, trying to predict next state from state 0 taking action 0 , but this transition is never seen in the data. Data point: 2 22\n",
      "WARNING: In training value evaluation, trying to predict next state from state 0 taking action 0 , but this transition is never seen in the data. Data point: 2 23\n"
     ]
    },
    {
     "name": "stderr",
     "output_type": "stream",
     "text": [
      "Splitting... |#Clusters:22:  87%|████████▋ | 20/23 [00:07<00:01,  2.29it/s]"
     ]
    },
    {
     "name": "stdout",
     "output_type": "stream",
     "text": [
      "WARNING: Trying to predict next state from state 5 taking action 2 , but this transition is never seen in the data. Data point: 0 12\n",
      "WARNING: Trying to predict next state from state 5 taking action 2 , but this transition is never seen in the data. Data point: 0 13\n",
      "WARNING: Trying to predict next state from state 7 taking action 3 , but this transition is never seen in the data. Data point: 1 2\n",
      "WARNING: Trying to predict next state from state 7 taking action 0 , but this transition is never seen in the data. Data point: 1 3\n",
      "WARNING: Trying to predict next state from state 14 taking action 2 , but this transition is never seen in the data. Data point: 1 13\n",
      "WARNING: Trying to predict next state from state 0 taking action 1 , but this transition is never seen in the data. Data point: 1 19\n",
      "WARNING: Trying to predict next state from state 0 taking action 1 , but this transition is never seen in the data. Data point: 1 20\n",
      "WARNING: Trying to predict next state from state 0 taking action 3 , but this transition is never seen in the data. Data point: 1 21\n",
      "WARNING: Trying to predict next state from state 5 taking action 1 , but this transition is never seen in the data. Data point: 2 11\n",
      "WARNING: Trying to predict next state from state 0 taking action 1 , but this transition is never seen in the data. Data point: 2 16\n",
      "WARNING: Trying to predict next state from state 0 taking action 1 , but this transition is never seen in the data. Data point: 2 17\n",
      "WARNING: Trying to predict next state from state 0 taking action 1 , but this transition is never seen in the data. Data point: 2 18\n",
      "WARNING: Trying to predict next state from state 0 taking action 0 , but this transition is never seen in the data. Data point: 2 19\n",
      "WARNING: Trying to predict next state from state 0 taking action 3 , but this transition is never seen in the data. Data point: 2 20\n",
      "WARNING: Trying to predict next state from state 0 taking action 1 , but this transition is never seen in the data. Data point: 2 21\n",
      "WARNING: Trying to predict next state from state 0 taking action 0 , but this transition is never seen in the data. Data point: 2 22\n",
      "WARNING: Trying to predict next state from state 0 taking action 0 , but this transition is never seen in the data. Data point: 2 23\n",
      "WARNING: In training value evaluation, trying to predict next state from state 5 taking action 2 , but this transition is never seen in the data. Data point: 0 11\n",
      "WARNING: In training value evaluation, trying to predict next state from state 5 taking action 2 , but this transition is never seen in the data. Data point: 0 12\n",
      "WARNING: In training value evaluation, trying to predict next state from state 7 taking action 3 , but this transition is never seen in the data. Data point: 1 1\n",
      "WARNING: In training value evaluation, trying to predict next state from state 7 taking action 0 , but this transition is never seen in the data. Data point: 1 2\n",
      "WARNING: In training value evaluation, trying to predict next state from state 14 taking action 2 , but this transition is never seen in the data. Data point: 1 12\n",
      "WARNING: In training value evaluation, trying to predict next state from state 0 taking action 1 , but this transition is never seen in the data. Data point: 1 18\n",
      "WARNING: In training value evaluation, trying to predict next state from state 0 taking action 1 , but this transition is never seen in the data. Data point: 1 19\n",
      "WARNING: In training value evaluation, trying to predict next state from state 0 taking action 3 , but this transition is never seen in the data. Data point: 1 20\n",
      "WARNING: In training value evaluation, trying to predict next state from state 5 taking action 1 , but this transition is never seen in the data. Data point: 2 10\n",
      "WARNING: In training value evaluation, trying to predict next state from state 0 taking action 1 , but this transition is never seen in the data. Data point: 2 15\n",
      "WARNING: In training value evaluation, trying to predict next state from state 0 taking action 1 , but this transition is never seen in the data. Data point: 2 16\n",
      "WARNING: In training value evaluation, trying to predict next state from state 0 taking action 1 , but this transition is never seen in the data. Data point: 2 17\n",
      "WARNING: In training value evaluation, trying to predict next state from state 0 taking action 0 , but this transition is never seen in the data. Data point: 2 18\n",
      "WARNING: In training value evaluation, trying to predict next state from state 0 taking action 3 , but this transition is never seen in the data. Data point: 2 19\n",
      "WARNING: In training value evaluation, trying to predict next state from state 0 taking action 1 , but this transition is never seen in the data. Data point: 2 20\n",
      "WARNING: In training value evaluation, trying to predict next state from state 0 taking action 0 , but this transition is never seen in the data. Data point: 2 21\n",
      "WARNING: In training value evaluation, trying to predict next state from state 0 taking action 0 , but this transition is never seen in the data. Data point: 2 22\n",
      "WARNING: In training value evaluation, trying to predict next state from state 0 taking action 0 , but this transition is never seen in the data. Data point: 2 23\n"
     ]
    },
    {
     "name": "stderr",
     "output_type": "stream",
     "text": [
      "Splitting... |#Clusters:23:  91%|█████████▏| 21/23 [00:08<00:00,  2.32it/s]"
     ]
    },
    {
     "name": "stdout",
     "output_type": "stream",
     "text": [
      "WARNING: Trying to predict next state from state 5 taking action 2 , but this transition is never seen in the data. Data point: 0 12\n",
      "WARNING: Trying to predict next state from state 5 taking action 2 , but this transition is never seen in the data. Data point: 0 13\n",
      "WARNING: Trying to predict next state from state 7 taking action 3 , but this transition is never seen in the data. Data point: 1 2\n",
      "WARNING: Trying to predict next state from state 7 taking action 0 , but this transition is never seen in the data. Data point: 1 3\n",
      "WARNING: Trying to predict next state from state 14 taking action 2 , but this transition is never seen in the data. Data point: 1 13\n",
      "WARNING: Trying to predict next state from state 0 taking action 1 , but this transition is never seen in the data. Data point: 1 19\n",
      "WARNING: Trying to predict next state from state 0 taking action 1 , but this transition is never seen in the data. Data point: 1 20\n",
      "WARNING: Trying to predict next state from state 0 taking action 3 , but this transition is never seen in the data. Data point: 1 21\n",
      "WARNING: In training value evaluation, trying to predict next state from state 5 taking action 2 , but this transition is never seen in the data. Data point: 0 11\n",
      "WARNING: In training value evaluation, trying to predict next state from state 5 taking action 2 , but this transition is never seen in the data. Data point: 0 12\n",
      "WARNING: In training value evaluation, trying to predict next state from state 7 taking action 3 , but this transition is never seen in the data. Data point: 1 1\n",
      "WARNING: In training value evaluation, trying to predict next state from state 7 taking action 0 , but this transition is never seen in the data. Data point: 1 2\n",
      "WARNING: In training value evaluation, trying to predict next state from state 14 taking action 2 , but this transition is never seen in the data. Data point: 1 12\n",
      "WARNING: In training value evaluation, trying to predict next state from state 0 taking action 1 , but this transition is never seen in the data. Data point: 1 18\n",
      "WARNING: In training value evaluation, trying to predict next state from state 0 taking action 1 , but this transition is never seen in the data. Data point: 1 19\n",
      "WARNING: In training value evaluation, trying to predict next state from state 0 taking action 3 , but this transition is never seen in the data. Data point: 1 20\n"
     ]
    },
    {
     "name": "stderr",
     "output_type": "stream",
     "text": [
      "Splitting... |#Clusters:24:  96%|█████████▌| 22/23 [00:08<00:00,  2.33it/s]"
     ]
    },
    {
     "name": "stdout",
     "output_type": "stream",
     "text": [
      "WARNING: Trying to predict next state from state 7 taking action 3 , but this transition is never seen in the data. Data point: 1 2\n",
      "WARNING: Trying to predict next state from state 7 taking action 0 , but this transition is never seen in the data. Data point: 1 3\n",
      "WARNING: Trying to predict next state from state 10 taking action 0 , but this transition is never seen in the data. Data point: 1 7\n",
      "WARNING: Trying to predict next state from state 14 taking action 2 , but this transition is never seen in the data. Data point: 1 10\n",
      "WARNING: In training value evaluation, trying to predict next state from state 7 taking action 3 , but this transition is never seen in the data. Data point: 1 1\n",
      "WARNING: In training value evaluation, trying to predict next state from state 7 taking action 0 , but this transition is never seen in the data. Data point: 1 2\n",
      "WARNING: In training value evaluation, trying to predict next state from state 10 taking action 0 , but this transition is never seen in the data. Data point: 1 6\n",
      "WARNING: In training value evaluation, trying to predict next state from state 14 taking action 2 , but this transition is never seen in the data. Data point: 1 9\n"
     ]
    },
    {
     "name": "stderr",
     "output_type": "stream",
     "text": [
      "\r",
      "Splitting... |#Clusters:24:  96%|█████████▌| 22/23 [00:09<00:00,  2.44it/s]"
     ]
    },
    {
     "name": "stdout",
     "output_type": "stream",
     "text": [
      "WARNING: Trying to predict next state from state 7 taking action 3 , but this transition is never seen in the data. Data point: 1 2\n",
      "WARNING: Trying to predict next state from state 7 taking action 0 , but this transition is never seen in the data. Data point: 1 3\n",
      "WARNING: Trying to predict next state from state 11 taking action 1 , but this transition is never seen in the data. Data point: 2 4\n",
      "WARNING: Trying to predict next state from state 11 taking action 1 , but this transition is never seen in the data. Data point: 2 5\n",
      "WARNING: Trying to predict next state from state 11 taking action 1 , but this transition is never seen in the data. Data point: 2 6\n",
      "WARNING: Trying to predict next state from state 11 taking action 1 , but this transition is never seen in the data. Data point: 2 7\n",
      "WARNING: Trying to predict next state from state 10 taking action 2 , but this transition is never seen in the data. Data point: 2 9\n",
      "WARNING: Trying to predict next state from state 10 taking action 0 , but this transition is never seen in the data. Data point: 2 10\n",
      "WARNING: Trying to predict next state from state 19 taking action 0 , but this transition is never seen in the data. Data point: 2 14\n",
      "WARNING: In training value evaluation, trying to predict next state from state 7 taking action 3 , but this transition is never seen in the data. Data point: 1 1\n",
      "WARNING: In training value evaluation, trying to predict next state from state 7 taking action 0 , but this transition is never seen in the data. Data point: 1 2\n",
      "WARNING: In training value evaluation, trying to predict next state from state 11 taking action 1 , but this transition is never seen in the data. Data point: 2 3\n",
      "WARNING: In training value evaluation, trying to predict next state from state 11 taking action 1 , but this transition is never seen in the data. Data point: 2 4\n",
      "WARNING: In training value evaluation, trying to predict next state from state 11 taking action 1 , but this transition is never seen in the data. Data point: 2 5\n",
      "WARNING: In training value evaluation, trying to predict next state from state 11 taking action 1 , but this transition is never seen in the data. Data point: 2 6\n",
      "WARNING: In training value evaluation, trying to predict next state from state 10 taking action 2 , but this transition is never seen in the data. Data point: 2 8\n",
      "WARNING: In training value evaluation, trying to predict next state from state 10 taking action 0 , but this transition is never seen in the data. Data point: 2 9\n",
      "WARNING: In training value evaluation, trying to predict next state from state 19 taking action 0 , but this transition is never seen in the data. Data point: 2 13\n",
      "Optimal # of clusters reached\n"
     ]
    },
    {
     "name": "stderr",
     "output_type": "stream",
     "text": [
      "\n"
     ]
    },
    {
     "data": {
      "image/png": "[encoded data removed]",
      "text/plain": [
       "<Figure size 432x288 with 1 Axes>"
      ]
     },
     "metadata": {
      "needs_background": "light"
     },
     "output_type": "display_data"
    },
    {
     "data": {
      "image/png": "[encoded data removed]",
      "text/plain": [
       "<Figure size 432x288 with 1 Axes>"
      ]
     },
     "metadata": {
      "needs_background": "light"
     },
     "output_type": "display_data"
    },
    {
     "name": "stderr",
     "output_type": "stream",
     "text": [
      "Splitting... |#Clusters:9:  32%|███▏      | 7/22 [00:02<00:05,  2.95it/s]"
     ]
    },
    {
     "name": "stdout",
     "output_type": "stream",
     "text": [
      "WARNING: Trying to predict next state from state 5 taking action 3 , but this transition is never seen in the data. Data point: 1 21\n",
      "WARNING: In training value evaluation, trying to predict next state from state 5 taking action 3 , but this transition is never seen in the data. Data point: 1 20\n"
     ]
    },
    {
     "name": "stderr",
     "output_type": "stream",
     "text": [
      "Splitting... |#Clusters:10:  36%|███▋      | 8/22 [00:02<00:05,  2.64it/s]"
     ]
    },
    {
     "name": "stdout",
     "output_type": "stream",
     "text": [
      "WARNING: Trying to predict next state from state 5 taking action 3 , but this transition is never seen in the data. Data point: 1 21\n",
      "WARNING: In training value evaluation, trying to predict next state from state 5 taking action 3 , but this transition is never seen in the data. Data point: 1 20\n"
     ]
    },
    {
     "name": "stderr",
     "output_type": "stream",
     "text": [
      "Splitting... |#Clusters:11:  41%|████      | 9/22 [00:03<00:05,  2.47it/s]"
     ]
    },
    {
     "name": "stdout",
     "output_type": "stream",
     "text": [
      "WARNING: Trying to predict next state from state 3 taking action 3 , but this transition is never seen in the data. Data point: 1 21\n",
      "WARNING: In training value evaluation, trying to predict next state from state 3 taking action 3 , but this transition is never seen in the data. Data point: 1 20\n"
     ]
    },
    {
     "name": "stderr",
     "output_type": "stream",
     "text": [
      "Splitting... |#Clusters:12:  45%|████▌     | 10/22 [00:03<00:05,  2.37it/s]"
     ]
    },
    {
     "name": "stdout",
     "output_type": "stream",
     "text": [
      "WARNING: Trying to predict next state from state 3 taking action 3 , but this transition is never seen in the data. Data point: 1 21\n",
      "WARNING: In training value evaluation, trying to predict next state from state 3 taking action 3 , but this transition is never seen in the data. Data point: 1 20\n"
     ]
    },
    {
     "name": "stderr",
     "output_type": "stream",
     "text": [
      "Splitting... |#Clusters:13:  50%|█████     | 11/22 [00:03<00:04,  2.38it/s]"
     ]
    },
    {
     "name": "stdout",
     "output_type": "stream",
     "text": [
      "WARNING: Trying to predict next state from state 3 taking action 3 , but this transition is never seen in the data. Data point: 1 21\n",
      "WARNING: In training value evaluation, trying to predict next state from state 3 taking action 3 , but this transition is never seen in the data. Data point: 1 20\n"
     ]
    },
    {
     "name": "stderr",
     "output_type": "stream",
     "text": [
      "Splitting... |#Clusters:14:  55%|█████▍    | 12/22 [00:04<00:04,  2.27it/s]"
     ]
    },
    {
     "name": "stdout",
     "output_type": "stream",
     "text": [
      "WARNING: Trying to predict next state from state 13 taking action 1 , but this transition is never seen in the data. Data point: 0 9\n",
      "WARNING: Trying to predict next state from state 13 taking action 1 , but this transition is never seen in the data. Data point: 0 21\n",
      "WARNING: Trying to predict next state from state 13 taking action 1 , but this transition is never seen in the data. Data point: 1 12\n",
      "WARNING: Trying to predict next state from state 13 taking action 1 , but this transition is never seen in the data. Data point: 1 20\n",
      "WARNING: Trying to predict next state from state 13 taking action 3 , but this transition is never seen in the data. Data point: 1 21\n",
      "WARNING: Trying to predict next state from state 13 taking action 1 , but this transition is never seen in the data. Data point: 2 7\n",
      "WARNING: Trying to predict next state from state 13 taking action 1 , but this transition is never seen in the data. Data point: 2 18\n",
      "WARNING: In training value evaluation, trying to predict next state from state 13 taking action 1 , but this transition is never seen in the data. Data point: 0 8\n",
      "WARNING: In training value evaluation, trying to predict next state from state 13 taking action 1 , but this transition is never seen in the data. Data point: 0 20\n",
      "WARNING: In training value evaluation, trying to predict next state from state 13 taking action 1 , but this transition is never seen in the data. Data point: 1 11\n",
      "WARNING: In training value evaluation, trying to predict next state from state 13 taking action 1 , but this transition is never seen in the data. Data point: 1 19\n",
      "WARNING: In training value evaluation, trying to predict next state from state 13 taking action 3 , but this transition is never seen in the data. Data point: 1 20\n",
      "WARNING: In training value evaluation, trying to predict next state from state 13 taking action 1 , but this transition is never seen in the data. Data point: 2 6\n",
      "WARNING: In training value evaluation, trying to predict next state from state 13 taking action 1 , but this transition is never seen in the data. Data point: 2 17\n"
     ]
    },
    {
     "name": "stderr",
     "output_type": "stream",
     "text": [
      "Splitting... |#Clusters:15:  59%|█████▉    | 13/22 [00:04<00:03,  2.35it/s]"
     ]
    },
    {
     "name": "stdout",
     "output_type": "stream",
     "text": [
      "WARNING: Trying to predict next state from state 13 taking action 1 , but this transition is never seen in the data. Data point: 0 21\n",
      "WARNING: Trying to predict next state from state 14 taking action 2 , but this transition is never seen in the data. Data point: 1 10\n",
      "WARNING: Trying to predict next state from state 13 taking action 1 , but this transition is never seen in the data. Data point: 1 20\n",
      "WARNING: Trying to predict next state from state 13 taking action 3 , but this transition is never seen in the data. Data point: 1 21\n",
      "WARNING: In training value evaluation, trying to predict next state from state 13 taking action 1 , but this transition is never seen in the data. Data point: 0 20\n",
      "WARNING: In training value evaluation, trying to predict next state from state 14 taking action 2 , but this transition is never seen in the data. Data point: 1 9\n",
      "WARNING: In training value evaluation, trying to predict next state from state 13 taking action 1 , but this transition is never seen in the data. Data point: 1 19\n",
      "WARNING: In training value evaluation, trying to predict next state from state 13 taking action 3 , but this transition is never seen in the data. Data point: 1 20\n"
     ]
    },
    {
     "name": "stderr",
     "output_type": "stream",
     "text": [
      "Splitting... |#Clusters:16:  64%|██████▎   | 14/22 [00:05<00:03,  2.38it/s]"
     ]
    },
    {
     "name": "stdout",
     "output_type": "stream",
     "text": [
      "WARNING: Trying to predict next state from state 14 taking action 2 , but this transition is never seen in the data. Data point: 0 13\n",
      "WARNING: Trying to predict next state from state 13 taking action 1 , but this transition is never seen in the data. Data point: 0 21\n",
      "WARNING: Trying to predict next state from state 14 taking action 2 , but this transition is never seen in the data. Data point: 1 10\n",
      "WARNING: Trying to predict next state from state 13 taking action 1 , but this transition is never seen in the data. Data point: 1 20\n",
      "WARNING: Trying to predict next state from state 13 taking action 3 , but this transition is never seen in the data. Data point: 1 21\n",
      "WARNING: Trying to predict next state from state 13 taking action 1 , but this transition is never seen in the data. Data point: 2 18\n",
      "WARNING: In training value evaluation, trying to predict next state from state 14 taking action 2 , but this transition is never seen in the data. Data point: 0 12\n",
      "WARNING: In training value evaluation, trying to predict next state from state 13 taking action 1 , but this transition is never seen in the data. Data point: 0 20\n",
      "WARNING: In training value evaluation, trying to predict next state from state 14 taking action 2 , but this transition is never seen in the data. Data point: 1 9\n",
      "WARNING: In training value evaluation, trying to predict next state from state 13 taking action 1 , but this transition is never seen in the data. Data point: 1 19\n",
      "WARNING: In training value evaluation, trying to predict next state from state 13 taking action 3 , but this transition is never seen in the data. Data point: 1 20\n",
      "WARNING: In training value evaluation, trying to predict next state from state 13 taking action 1 , but this transition is never seen in the data. Data point: 2 17\n"
     ]
    },
    {
     "name": "stderr",
     "output_type": "stream",
     "text": [
      "Splitting... |#Clusters:17:  68%|██████▊   | 15/22 [00:05<00:03,  2.27it/s]"
     ]
    },
    {
     "name": "stdout",
     "output_type": "stream",
     "text": [
      "WARNING: Trying to predict next state from state 5 taking action 2 , but this transition is never seen in the data. Data point: 0 12\n",
      "WARNING: Trying to predict next state from state 5 taking action 2 , but this transition is never seen in the data. Data point: 0 13\n",
      "WARNING: Trying to predict next state from state 13 taking action 1 , but this transition is never seen in the data. Data point: 0 21\n",
      "WARNING: Trying to predict next state from state 14 taking action 2 , but this transition is never seen in the data. Data point: 1 10\n",
      "WARNING: Trying to predict next state from state 13 taking action 1 , but this transition is never seen in the data. Data point: 1 20\n",
      "WARNING: Trying to predict next state from state 13 taking action 3 , but this transition is never seen in the data. Data point: 1 21\n",
      "WARNING: Trying to predict next state from state 5 taking action 1 , but this transition is never seen in the data. Data point: 2 11\n",
      "WARNING: Trying to predict next state from state 0 taking action 1 , but this transition is never seen in the data. Data point: 2 16\n",
      "WARNING: Trying to predict next state from state 0 taking action 1 , but this transition is never seen in the data. Data point: 2 17\n",
      "WARNING: Trying to predict next state from state 0 taking action 1 , but this transition is never seen in the data. Data point: 2 18\n",
      "WARNING: Trying to predict next state from state 0 taking action 0 , but this transition is never seen in the data. Data point: 2 19\n",
      "WARNING: Trying to predict next state from state 0 taking action 3 , but this transition is never seen in the data. Data point: 2 20\n",
      "WARNING: Trying to predict next state from state 0 taking action 1 , but this transition is never seen in the data. Data point: 2 21\n",
      "WARNING: Trying to predict next state from state 0 taking action 0 , but this transition is never seen in the data. Data point: 2 22\n",
      "WARNING: Trying to predict next state from state 0 taking action 0 , but this transition is never seen in the data. Data point: 2 23\n",
      "WARNING: In training value evaluation, trying to predict next state from state 5 taking action 2 , but this transition is never seen in the data. Data point: 0 11\n",
      "WARNING: In training value evaluation, trying to predict next state from state 5 taking action 2 , but this transition is never seen in the data. Data point: 0 12\n",
      "WARNING: In training value evaluation, trying to predict next state from state 13 taking action 1 , but this transition is never seen in the data. Data point: 0 20\n",
      "WARNING: In training value evaluation, trying to predict next state from state 14 taking action 2 , but this transition is never seen in the data. Data point: 1 9\n",
      "WARNING: In training value evaluation, trying to predict next state from state 13 taking action 1 , but this transition is never seen in the data. Data point: 1 19\n",
      "WARNING: In training value evaluation, trying to predict next state from state 13 taking action 3 , but this transition is never seen in the data. Data point: 1 20\n",
      "WARNING: In training value evaluation, trying to predict next state from state 5 taking action 1 , but this transition is never seen in the data. Data point: 2 10\n",
      "WARNING: In training value evaluation, trying to predict next state from state 0 taking action 1 , but this transition is never seen in the data. Data point: 2 15\n",
      "WARNING: In training value evaluation, trying to predict next state from state 0 taking action 1 , but this transition is never seen in the data. Data point: 2 16\n",
      "WARNING: In training value evaluation, trying to predict next state from state 0 taking action 1 , but this transition is never seen in the data. Data point: 2 17\n",
      "WARNING: In training value evaluation, trying to predict next state from state 0 taking action 0 , but this transition is never seen in the data. Data point: 2 18\n",
      "WARNING: In training value evaluation, trying to predict next state from state 0 taking action 3 , but this transition is never seen in the data. Data point: 2 19\n",
      "WARNING: In training value evaluation, trying to predict next state from state 0 taking action 1 , but this transition is never seen in the data. Data point: 2 20\n",
      "WARNING: In training value evaluation, trying to predict next state from state 0 taking action 0 , but this transition is never seen in the data. Data point: 2 21\n",
      "WARNING: In training value evaluation, trying to predict next state from state 0 taking action 0 , but this transition is never seen in the data. Data point: 2 22\n",
      "WARNING: In training value evaluation, trying to predict next state from state 0 taking action 0 , but this transition is never seen in the data. Data point: 2 23\n"
     ]
    },
    {
     "name": "stderr",
     "output_type": "stream",
     "text": [
      "Splitting... |#Clusters:18:  73%|███████▎  | 16/22 [00:06<00:02,  2.21it/s]"
     ]
    },
    {
     "name": "stdout",
     "output_type": "stream",
     "text": [
      "WARNING: Trying to predict next state from state 5 taking action 2 , but this transition is never seen in the data. Data point: 0 12\n",
      "WARNING: Trying to predict next state from state 5 taking action 2 , but this transition is never seen in the data. Data point: 0 13\n",
      "WARNING: Trying to predict next state from state 13 taking action 1 , but this transition is never seen in the data. Data point: 0 21\n",
      "WARNING: Trying to predict next state from state 14 taking action 2 , but this transition is never seen in the data. Data point: 1 10\n",
      "WARNING: Trying to predict next state from state 13 taking action 1 , but this transition is never seen in the data. Data point: 1 20\n",
      "WARNING: Trying to predict next state from state 13 taking action 3 , but this transition is never seen in the data. Data point: 1 21\n",
      "WARNING: Trying to predict next state from state 5 taking action 1 , but this transition is never seen in the data. Data point: 2 11\n",
      "WARNING: Trying to predict next state from state 0 taking action 1 , but this transition is never seen in the data. Data point: 2 16\n",
      "WARNING: Trying to predict next state from state 0 taking action 1 , but this transition is never seen in the data. Data point: 2 17\n",
      "WARNING: Trying to predict next state from state 0 taking action 1 , but this transition is never seen in the data. Data point: 2 18\n",
      "WARNING: Trying to predict next state from state 0 taking action 0 , but this transition is never seen in the data. Data point: 2 19\n",
      "WARNING: Trying to predict next state from state 0 taking action 3 , but this transition is never seen in the data. Data point: 2 20\n",
      "WARNING: Trying to predict next state from state 0 taking action 1 , but this transition is never seen in the data. Data point: 2 21\n",
      "WARNING: Trying to predict next state from state 0 taking action 0 , but this transition is never seen in the data. Data point: 2 22\n",
      "WARNING: Trying to predict next state from state 0 taking action 0 , but this transition is never seen in the data. Data point: 2 23\n",
      "WARNING: In training value evaluation, trying to predict next state from state 5 taking action 2 , but this transition is never seen in the data. Data point: 0 11\n",
      "WARNING: In training value evaluation, trying to predict next state from state 5 taking action 2 , but this transition is never seen in the data. Data point: 0 12\n",
      "WARNING: In training value evaluation, trying to predict next state from state 13 taking action 1 , but this transition is never seen in the data. Data point: 0 20\n",
      "WARNING: In training value evaluation, trying to predict next state from state 14 taking action 2 , but this transition is never seen in the data. Data point: 1 9\n",
      "WARNING: In training value evaluation, trying to predict next state from state 13 taking action 1 , but this transition is never seen in the data. Data point: 1 19\n",
      "WARNING: In training value evaluation, trying to predict next state from state 13 taking action 3 , but this transition is never seen in the data. Data point: 1 20\n",
      "WARNING: In training value evaluation, trying to predict next state from state 5 taking action 1 , but this transition is never seen in the data. Data point: 2 10\n",
      "WARNING: In training value evaluation, trying to predict next state from state 0 taking action 1 , but this transition is never seen in the data. Data point: 2 15\n",
      "WARNING: In training value evaluation, trying to predict next state from state 0 taking action 1 , but this transition is never seen in the data. Data point: 2 16\n",
      "WARNING: In training value evaluation, trying to predict next state from state 0 taking action 1 , but this transition is never seen in the data. Data point: 2 17\n",
      "WARNING: In training value evaluation, trying to predict next state from state 0 taking action 0 , but this transition is never seen in the data. Data point: 2 18\n",
      "WARNING: In training value evaluation, trying to predict next state from state 0 taking action 3 , but this transition is never seen in the data. Data point: 2 19\n",
      "WARNING: In training value evaluation, trying to predict next state from state 0 taking action 1 , but this transition is never seen in the data. Data point: 2 20\n",
      "WARNING: In training value evaluation, trying to predict next state from state 0 taking action 0 , but this transition is never seen in the data. Data point: 2 21\n",
      "WARNING: In training value evaluation, trying to predict next state from state 0 taking action 0 , but this transition is never seen in the data. Data point: 2 22\n",
      "WARNING: In training value evaluation, trying to predict next state from state 0 taking action 0 , but this transition is never seen in the data. Data point: 2 23\n"
     ]
    },
    {
     "name": "stderr",
     "output_type": "stream",
     "text": [
      "Splitting... |#Clusters:19:  77%|███████▋  | 17/22 [00:06<00:02,  2.17it/s]"
     ]
    },
    {
     "name": "stdout",
     "output_type": "stream",
     "text": [
      "WARNING: Trying to predict next state from state 5 taking action 2 , but this transition is never seen in the data. Data point: 0 12\n",
      "WARNING: Trying to predict next state from state 5 taking action 2 , but this transition is never seen in the data. Data point: 0 13\n",
      "WARNING: Trying to predict next state from state 13 taking action 1 , but this transition is never seen in the data. Data point: 0 21\n",
      "WARNING: Trying to predict next state from state 7 taking action 3 , but this transition is never seen in the data. Data point: 1 2\n",
      "WARNING: Trying to predict next state from state 7 taking action 0 , but this transition is never seen in the data. Data point: 1 3\n",
      "WARNING: Trying to predict next state from state 14 taking action 2 , but this transition is never seen in the data. Data point: 1 13\n",
      "WARNING: Trying to predict next state from state 0 taking action 1 , but this transition is never seen in the data. Data point: 1 19\n",
      "WARNING: Trying to predict next state from state 0 taking action 1 , but this transition is never seen in the data. Data point: 1 20\n",
      "WARNING: Trying to predict next state from state 0 taking action 3 , but this transition is never seen in the data. Data point: 1 21\n",
      "WARNING: Trying to predict next state from state 5 taking action 1 , but this transition is never seen in the data. Data point: 2 11\n",
      "WARNING: Trying to predict next state from state 0 taking action 1 , but this transition is never seen in the data. Data point: 2 16\n",
      "WARNING: Trying to predict next state from state 0 taking action 1 , but this transition is never seen in the data. Data point: 2 17\n",
      "WARNING: Trying to predict next state from state 0 taking action 1 , but this transition is never seen in the data. Data point: 2 18\n",
      "WARNING: Trying to predict next state from state 0 taking action 0 , but this transition is never seen in the data. Data point: 2 19\n",
      "WARNING: Trying to predict next state from state 0 taking action 3 , but this transition is never seen in the data. Data point: 2 20\n",
      "WARNING: Trying to predict next state from state 0 taking action 1 , but this transition is never seen in the data. Data point: 2 21\n",
      "WARNING: Trying to predict next state from state 0 taking action 0 , but this transition is never seen in the data. Data point: 2 22\n",
      "WARNING: Trying to predict next state from state 0 taking action 0 , but this transition is never seen in the data. Data point: 2 23\n",
      "WARNING: In training value evaluation, trying to predict next state from state 5 taking action 2 , but this transition is never seen in the data. Data point: 0 11\n",
      "WARNING: In training value evaluation, trying to predict next state from state 5 taking action 2 , but this transition is never seen in the data. Data point: 0 12\n",
      "WARNING: In training value evaluation, trying to predict next state from state 13 taking action 1 , but this transition is never seen in the data. Data point: 0 20\n",
      "WARNING: In training value evaluation, trying to predict next state from state 7 taking action 3 , but this transition is never seen in the data. Data point: 1 1\n",
      "WARNING: In training value evaluation, trying to predict next state from state 7 taking action 0 , but this transition is never seen in the data. Data point: 1 2\n",
      "WARNING: In training value evaluation, trying to predict next state from state 14 taking action 2 , but this transition is never seen in the data. Data point: 1 12\n",
      "WARNING: In training value evaluation, trying to predict next state from state 0 taking action 1 , but this transition is never seen in the data. Data point: 1 18\n",
      "WARNING: In training value evaluation, trying to predict next state from state 0 taking action 1 , but this transition is never seen in the data. Data point: 1 19\n",
      "WARNING: In training value evaluation, trying to predict next state from state 0 taking action 3 , but this transition is never seen in the data. Data point: 1 20\n",
      "WARNING: In training value evaluation, trying to predict next state from state 5 taking action 1 , but this transition is never seen in the data. Data point: 2 10\n",
      "WARNING: In training value evaluation, trying to predict next state from state 0 taking action 1 , but this transition is never seen in the data. Data point: 2 15\n",
      "WARNING: In training value evaluation, trying to predict next state from state 0 taking action 1 , but this transition is never seen in the data. Data point: 2 16\n",
      "WARNING: In training value evaluation, trying to predict next state from state 0 taking action 1 , but this transition is never seen in the data. Data point: 2 17\n",
      "WARNING: In training value evaluation, trying to predict next state from state 0 taking action 0 , but this transition is never seen in the data. Data point: 2 18\n",
      "WARNING: In training value evaluation, trying to predict next state from state 0 taking action 3 , but this transition is never seen in the data. Data point: 2 19\n",
      "WARNING: In training value evaluation, trying to predict next state from state 0 taking action 1 , but this transition is never seen in the data. Data point: 2 20\n",
      "WARNING: In training value evaluation, trying to predict next state from state 0 taking action 0 , but this transition is never seen in the data. Data point: 2 21\n",
      "WARNING: In training value evaluation, trying to predict next state from state 0 taking action 0 , but this transition is never seen in the data. Data point: 2 22\n",
      "WARNING: In training value evaluation, trying to predict next state from state 0 taking action 0 , but this transition is never seen in the data. Data point: 2 23\n"
     ]
    },
    {
     "name": "stderr",
     "output_type": "stream",
     "text": [
      "Splitting... |#Clusters:20:  82%|████████▏ | 18/22 [00:07<00:01,  2.22it/s]"
     ]
    },
    {
     "name": "stdout",
     "output_type": "stream",
     "text": [
      "WARNING: Trying to predict next state from state 5 taking action 2 , but this transition is never seen in the data. Data point: 0 12\n",
      "WARNING: Trying to predict next state from state 5 taking action 2 , but this transition is never seen in the data. Data point: 0 13\n",
      "WARNING: Trying to predict next state from state 7 taking action 3 , but this transition is never seen in the data. Data point: 1 2\n",
      "WARNING: Trying to predict next state from state 7 taking action 0 , but this transition is never seen in the data. Data point: 1 3\n",
      "WARNING: Trying to predict next state from state 14 taking action 2 , but this transition is never seen in the data. Data point: 1 13\n",
      "WARNING: Trying to predict next state from state 0 taking action 1 , but this transition is never seen in the data. Data point: 1 19\n",
      "WARNING: Trying to predict next state from state 0 taking action 1 , but this transition is never seen in the data. Data point: 1 20\n",
      "WARNING: Trying to predict next state from state 0 taking action 3 , but this transition is never seen in the data. Data point: 1 21\n",
      "WARNING: Trying to predict next state from state 5 taking action 1 , but this transition is never seen in the data. Data point: 2 11\n",
      "WARNING: Trying to predict next state from state 0 taking action 1 , but this transition is never seen in the data. Data point: 2 16\n",
      "WARNING: Trying to predict next state from state 0 taking action 1 , but this transition is never seen in the data. Data point: 2 17\n",
      "WARNING: Trying to predict next state from state 0 taking action 1 , but this transition is never seen in the data. Data point: 2 18\n",
      "WARNING: Trying to predict next state from state 0 taking action 0 , but this transition is never seen in the data. Data point: 2 19\n",
      "WARNING: Trying to predict next state from state 0 taking action 3 , but this transition is never seen in the data. Data point: 2 20\n",
      "WARNING: Trying to predict next state from state 0 taking action 1 , but this transition is never seen in the data. Data point: 2 21\n",
      "WARNING: Trying to predict next state from state 0 taking action 0 , but this transition is never seen in the data. Data point: 2 22\n",
      "WARNING: Trying to predict next state from state 0 taking action 0 , but this transition is never seen in the data. Data point: 2 23\n",
      "WARNING: In training value evaluation, trying to predict next state from state 5 taking action 2 , but this transition is never seen in the data. Data point: 0 11\n",
      "WARNING: In training value evaluation, trying to predict next state from state 5 taking action 2 , but this transition is never seen in the data. Data point: 0 12\n",
      "WARNING: In training value evaluation, trying to predict next state from state 7 taking action 3 , but this transition is never seen in the data. Data point: 1 1\n",
      "WARNING: In training value evaluation, trying to predict next state from state 7 taking action 0 , but this transition is never seen in the data. Data point: 1 2\n",
      "WARNING: In training value evaluation, trying to predict next state from state 14 taking action 2 , but this transition is never seen in the data. Data point: 1 12\n",
      "WARNING: In training value evaluation, trying to predict next state from state 0 taking action 1 , but this transition is never seen in the data. Data point: 1 18\n",
      "WARNING: In training value evaluation, trying to predict next state from state 0 taking action 1 , but this transition is never seen in the data. Data point: 1 19\n",
      "WARNING: In training value evaluation, trying to predict next state from state 0 taking action 3 , but this transition is never seen in the data. Data point: 1 20\n",
      "WARNING: In training value evaluation, trying to predict next state from state 5 taking action 1 , but this transition is never seen in the data. Data point: 2 10\n",
      "WARNING: In training value evaluation, trying to predict next state from state 0 taking action 1 , but this transition is never seen in the data. Data point: 2 15\n",
      "WARNING: In training value evaluation, trying to predict next state from state 0 taking action 1 , but this transition is never seen in the data. Data point: 2 16\n",
      "WARNING: In training value evaluation, trying to predict next state from state 0 taking action 1 , but this transition is never seen in the data. Data point: 2 17\n",
      "WARNING: In training value evaluation, trying to predict next state from state 0 taking action 0 , but this transition is never seen in the data. Data point: 2 18\n",
      "WARNING: In training value evaluation, trying to predict next state from state 0 taking action 3 , but this transition is never seen in the data. Data point: 2 19\n",
      "WARNING: In training value evaluation, trying to predict next state from state 0 taking action 1 , but this transition is never seen in the data. Data point: 2 20\n",
      "WARNING: In training value evaluation, trying to predict next state from state 0 taking action 0 , but this transition is never seen in the data. Data point: 2 21\n",
      "WARNING: In training value evaluation, trying to predict next state from state 0 taking action 0 , but this transition is never seen in the data. Data point: 2 22\n",
      "WARNING: In training value evaluation, trying to predict next state from state 0 taking action 0 , but this transition is never seen in the data. Data point: 2 23\n"
     ]
    },
    {
     "name": "stderr",
     "output_type": "stream",
     "text": [
      "Splitting... |#Clusters:21:  86%|████████▋ | 19/22 [00:07<00:01,  2.21it/s]"
     ]
    },
    {
     "name": "stdout",
     "output_type": "stream",
     "text": [
      "WARNING: Trying to predict next state from state 5 taking action 2 , but this transition is never seen in the data. Data point: 0 12\n",
      "WARNING: Trying to predict next state from state 5 taking action 2 , but this transition is never seen in the data. Data point: 0 13\n",
      "WARNING: Trying to predict next state from state 7 taking action 3 , but this transition is never seen in the data. Data point: 1 2\n",
      "WARNING: Trying to predict next state from state 7 taking action 0 , but this transition is never seen in the data. Data point: 1 3\n",
      "WARNING: Trying to predict next state from state 14 taking action 2 , but this transition is never seen in the data. Data point: 1 13\n",
      "WARNING: Trying to predict next state from state 0 taking action 1 , but this transition is never seen in the data. Data point: 1 19\n",
      "WARNING: Trying to predict next state from state 0 taking action 1 , but this transition is never seen in the data. Data point: 1 20\n",
      "WARNING: Trying to predict next state from state 0 taking action 3 , but this transition is never seen in the data. Data point: 1 21\n",
      "WARNING: Trying to predict next state from state 5 taking action 1 , but this transition is never seen in the data. Data point: 2 11\n",
      "WARNING: Trying to predict next state from state 0 taking action 1 , but this transition is never seen in the data. Data point: 2 16\n",
      "WARNING: Trying to predict next state from state 0 taking action 1 , but this transition is never seen in the data. Data point: 2 17\n",
      "WARNING: Trying to predict next state from state 0 taking action 1 , but this transition is never seen in the data. Data point: 2 18\n",
      "WARNING: Trying to predict next state from state 0 taking action 0 , but this transition is never seen in the data. Data point: 2 19\n",
      "WARNING: Trying to predict next state from state 0 taking action 3 , but this transition is never seen in the data. Data point: 2 20\n",
      "WARNING: Trying to predict next state from state 0 taking action 1 , but this transition is never seen in the data. Data point: 2 21\n",
      "WARNING: Trying to predict next state from state 0 taking action 0 , but this transition is never seen in the data. Data point: 2 22\n",
      "WARNING: Trying to predict next state from state 0 taking action 0 , but this transition is never seen in the data. Data point: 2 23\n",
      "WARNING: In training value evaluation, trying to predict next state from state 5 taking action 2 , but this transition is never seen in the data. Data point: 0 11\n",
      "WARNING: In training value evaluation, trying to predict next state from state 5 taking action 2 , but this transition is never seen in the data. Data point: 0 12\n",
      "WARNING: In training value evaluation, trying to predict next state from state 7 taking action 3 , but this transition is never seen in the data. Data point: 1 1\n",
      "WARNING: In training value evaluation, trying to predict next state from state 7 taking action 0 , but this transition is never seen in the data. Data point: 1 2\n",
      "WARNING: In training value evaluation, trying to predict next state from state 14 taking action 2 , but this transition is never seen in the data. Data point: 1 12\n",
      "WARNING: In training value evaluation, trying to predict next state from state 0 taking action 1 , but this transition is never seen in the data. Data point: 1 18\n",
      "WARNING: In training value evaluation, trying to predict next state from state 0 taking action 1 , but this transition is never seen in the data. Data point: 1 19\n",
      "WARNING: In training value evaluation, trying to predict next state from state 0 taking action 3 , but this transition is never seen in the data. Data point: 1 20\n",
      "WARNING: In training value evaluation, trying to predict next state from state 5 taking action 1 , but this transition is never seen in the data. Data point: 2 10\n",
      "WARNING: In training value evaluation, trying to predict next state from state 0 taking action 1 , but this transition is never seen in the data. Data point: 2 15\n",
      "WARNING: In training value evaluation, trying to predict next state from state 0 taking action 1 , but this transition is never seen in the data. Data point: 2 16\n",
      "WARNING: In training value evaluation, trying to predict next state from state 0 taking action 1 , but this transition is never seen in the data. Data point: 2 17\n",
      "WARNING: In training value evaluation, trying to predict next state from state 0 taking action 0 , but this transition is never seen in the data. Data point: 2 18\n",
      "WARNING: In training value evaluation, trying to predict next state from state 0 taking action 3 , but this transition is never seen in the data. Data point: 2 19\n",
      "WARNING: In training value evaluation, trying to predict next state from state 0 taking action 1 , but this transition is never seen in the data. Data point: 2 20\n",
      "WARNING: In training value evaluation, trying to predict next state from state 0 taking action 0 , but this transition is never seen in the data. Data point: 2 21\n",
      "WARNING: In training value evaluation, trying to predict next state from state 0 taking action 0 , but this transition is never seen in the data. Data point: 2 22\n",
      "WARNING: In training value evaluation, trying to predict next state from state 0 taking action 0 , but this transition is never seen in the data. Data point: 2 23\n"
     ]
    },
    {
     "name": "stderr",
     "output_type": "stream",
     "text": [
      "Splitting... |#Clusters:22:  91%|█████████ | 20/22 [00:07<00:00,  2.26it/s]"
     ]
    },
    {
     "name": "stdout",
     "output_type": "stream",
     "text": [
      "WARNING: Trying to predict next state from state 5 taking action 2 , but this transition is never seen in the data. Data point: 0 12\n",
      "WARNING: Trying to predict next state from state 5 taking action 2 , but this transition is never seen in the data. Data point: 0 13\n",
      "WARNING: Trying to predict next state from state 7 taking action 3 , but this transition is never seen in the data. Data point: 1 2\n",
      "WARNING: Trying to predict next state from state 7 taking action 0 , but this transition is never seen in the data. Data point: 1 3\n",
      "WARNING: Trying to predict next state from state 14 taking action 2 , but this transition is never seen in the data. Data point: 1 13\n",
      "WARNING: Trying to predict next state from state 0 taking action 1 , but this transition is never seen in the data. Data point: 1 19\n",
      "WARNING: Trying to predict next state from state 0 taking action 1 , but this transition is never seen in the data. Data point: 1 20\n",
      "WARNING: Trying to predict next state from state 0 taking action 3 , but this transition is never seen in the data. Data point: 1 21\n",
      "WARNING: Trying to predict next state from state 5 taking action 1 , but this transition is never seen in the data. Data point: 2 11\n",
      "WARNING: Trying to predict next state from state 0 taking action 1 , but this transition is never seen in the data. Data point: 2 16\n",
      "WARNING: Trying to predict next state from state 0 taking action 1 , but this transition is never seen in the data. Data point: 2 17\n",
      "WARNING: Trying to predict next state from state 0 taking action 1 , but this transition is never seen in the data. Data point: 2 18\n",
      "WARNING: Trying to predict next state from state 0 taking action 0 , but this transition is never seen in the data. Data point: 2 19\n",
      "WARNING: Trying to predict next state from state 0 taking action 3 , but this transition is never seen in the data. Data point: 2 20\n",
      "WARNING: Trying to predict next state from state 0 taking action 1 , but this transition is never seen in the data. Data point: 2 21\n",
      "WARNING: Trying to predict next state from state 0 taking action 0 , but this transition is never seen in the data. Data point: 2 22\n",
      "WARNING: Trying to predict next state from state 0 taking action 0 , but this transition is never seen in the data. Data point: 2 23\n",
      "WARNING: In training value evaluation, trying to predict next state from state 5 taking action 2 , but this transition is never seen in the data. Data point: 0 11\n",
      "WARNING: In training value evaluation, trying to predict next state from state 5 taking action 2 , but this transition is never seen in the data. Data point: 0 12\n",
      "WARNING: In training value evaluation, trying to predict next state from state 7 taking action 3 , but this transition is never seen in the data. Data point: 1 1\n",
      "WARNING: In training value evaluation, trying to predict next state from state 7 taking action 0 , but this transition is never seen in the data. Data point: 1 2\n",
      "WARNING: In training value evaluation, trying to predict next state from state 14 taking action 2 , but this transition is never seen in the data. Data point: 1 12\n",
      "WARNING: In training value evaluation, trying to predict next state from state 0 taking action 1 , but this transition is never seen in the data. Data point: 1 18\n",
      "WARNING: In training value evaluation, trying to predict next state from state 0 taking action 1 , but this transition is never seen in the data. Data point: 1 19\n",
      "WARNING: In training value evaluation, trying to predict next state from state 0 taking action 3 , but this transition is never seen in the data. Data point: 1 20\n",
      "WARNING: In training value evaluation, trying to predict next state from state 5 taking action 1 , but this transition is never seen in the data. Data point: 2 10\n",
      "WARNING: In training value evaluation, trying to predict next state from state 0 taking action 1 , but this transition is never seen in the data. Data point: 2 15\n",
      "WARNING: In training value evaluation, trying to predict next state from state 0 taking action 1 , but this transition is never seen in the data. Data point: 2 16\n",
      "WARNING: In training value evaluation, trying to predict next state from state 0 taking action 1 , but this transition is never seen in the data. Data point: 2 17\n",
      "WARNING: In training value evaluation, trying to predict next state from state 0 taking action 0 , but this transition is never seen in the data. Data point: 2 18\n",
      "WARNING: In training value evaluation, trying to predict next state from state 0 taking action 3 , but this transition is never seen in the data. Data point: 2 19\n",
      "WARNING: In training value evaluation, trying to predict next state from state 0 taking action 1 , but this transition is never seen in the data. Data point: 2 20\n",
      "WARNING: In training value evaluation, trying to predict next state from state 0 taking action 0 , but this transition is never seen in the data. Data point: 2 21\n",
      "WARNING: In training value evaluation, trying to predict next state from state 0 taking action 0 , but this transition is never seen in the data. Data point: 2 22\n",
      "WARNING: In training value evaluation, trying to predict next state from state 0 taking action 0 , but this transition is never seen in the data. Data point: 2 23\n"
     ]
    },
    {
     "name": "stderr",
     "output_type": "stream",
     "text": [
      "Splitting... |#Clusters:23:  95%|█████████▌| 21/22 [00:08<00:00,  2.39it/s]"
     ]
    },
    {
     "name": "stdout",
     "output_type": "stream",
     "text": [
      "WARNING: Trying to predict next state from state 5 taking action 2 , but this transition is never seen in the data. Data point: 0 12\n",
      "WARNING: Trying to predict next state from state 5 taking action 2 , but this transition is never seen in the data. Data point: 0 13\n",
      "WARNING: Trying to predict next state from state 7 taking action 3 , but this transition is never seen in the data. Data point: 1 2\n",
      "WARNING: Trying to predict next state from state 7 taking action 0 , but this transition is never seen in the data. Data point: 1 3\n",
      "WARNING: Trying to predict next state from state 14 taking action 2 , but this transition is never seen in the data. Data point: 1 13\n",
      "WARNING: Trying to predict next state from state 0 taking action 1 , but this transition is never seen in the data. Data point: 1 19\n",
      "WARNING: Trying to predict next state from state 0 taking action 1 , but this transition is never seen in the data. Data point: 1 20\n",
      "WARNING: Trying to predict next state from state 0 taking action 3 , but this transition is never seen in the data. Data point: 1 21\n",
      "WARNING: In training value evaluation, trying to predict next state from state 5 taking action 2 , but this transition is never seen in the data. Data point: 0 11\n",
      "WARNING: In training value evaluation, trying to predict next state from state 5 taking action 2 , but this transition is never seen in the data. Data point: 0 12\n",
      "WARNING: In training value evaluation, trying to predict next state from state 7 taking action 3 , but this transition is never seen in the data. Data point: 1 1\n",
      "WARNING: In training value evaluation, trying to predict next state from state 7 taking action 0 , but this transition is never seen in the data. Data point: 1 2\n",
      "WARNING: In training value evaluation, trying to predict next state from state 14 taking action 2 , but this transition is never seen in the data. Data point: 1 12\n",
      "WARNING: In training value evaluation, trying to predict next state from state 0 taking action 1 , but this transition is never seen in the data. Data point: 1 18\n",
      "WARNING: In training value evaluation, trying to predict next state from state 0 taking action 1 , but this transition is never seen in the data. Data point: 1 19\n",
      "WARNING: In training value evaluation, trying to predict next state from state 0 taking action 3 , but this transition is never seen in the data. Data point: 1 20\n"
     ]
    },
    {
     "name": "stderr",
     "output_type": "stream",
     "text": [
      "\r",
      "Splitting... |#Clusters:23:  95%|█████████▌| 21/22 [00:08<00:00,  2.42it/s]"
     ]
    },
    {
     "name": "stdout",
     "output_type": "stream",
     "text": [
      "WARNING: Trying to predict next state from state 7 taking action 3 , but this transition is never seen in the data. Data point: 1 2\n",
      "WARNING: Trying to predict next state from state 7 taking action 0 , but this transition is never seen in the data. Data point: 1 3\n",
      "WARNING: Trying to predict next state from state 10 taking action 0 , but this transition is never seen in the data. Data point: 1 7\n",
      "WARNING: Trying to predict next state from state 14 taking action 2 , but this transition is never seen in the data. Data point: 1 10\n",
      "WARNING: In training value evaluation, trying to predict next state from state 7 taking action 3 , but this transition is never seen in the data. Data point: 1 1\n",
      "WARNING: In training value evaluation, trying to predict next state from state 7 taking action 0 , but this transition is never seen in the data. Data point: 1 2\n",
      "WARNING: In training value evaluation, trying to predict next state from state 10 taking action 0 , but this transition is never seen in the data. Data point: 1 6\n",
      "WARNING: In training value evaluation, trying to predict next state from state 14 taking action 2 , but this transition is never seen in the data. Data point: 1 9\n",
      "Optimal # of clusters reached\n"
     ]
    },
    {
     "name": "stderr",
     "output_type": "stream",
     "text": [
      "\n"
     ]
    },
    {
     "data": {
      "image/png": "[encoded data removed]",
      "text/plain": [
       "<Figure size 432x288 with 1 Axes>"
      ]
     },
     "metadata": {
      "needs_background": "light"
     },
     "output_type": "display_data"
    },
    {
     "data": {
      "image/png": "[encoded data removed]",
      "text/plain": [
       "<Figure size 432x288 with 1 Axes>"
      ]
     },
     "metadata": {
      "needs_background": "light"
     },
     "output_type": "display_data"
    },
    {
     "name": "stderr",
     "output_type": "stream",
     "text": [
      "/opt/anaconda3/lib/python3.7/site-packages/sklearn/model_selection/_split.py:667: UserWarning: The least populated class in y has only 1 members, which is less than n_splits=5.\n",
      "  % (min_groups, self.n_splits)), UserWarning)\n",
      "/opt/anaconda3/lib/python3.7/site-packages/sklearn/model_selection/_search.py:823: FutureWarning: The parameter 'iid' is deprecated in 0.22 and will be removed in 0.24.\n",
      "  \"removed in 0.24.\", FutureWarning\n"
     ]
    },
    {
     "name": "stdout",
     "output_type": "stream",
     "text": [
      "    ID  TIME  FEATURE_0  FEATURE_1 ACTION   RISK  OG_CLUSTER  \\\n",
      "0    0     0   0.935456  -0.257430      2 -0.004           0   \n",
      "1    0     1   1.777537  -0.525098      2 -0.004           1   \n",
      "2    0     2   2.698330  -0.690030      0 -0.004           2   \n",
      "3    0     3   2.902483  -0.721617      2 -0.004           2   \n",
      "4    0     4   2.380671  -0.940479      1 -0.004           2   \n",
      "..  ..   ...        ...        ...    ...    ...         ...   \n",
      "68   2    20   3.298740  -3.498070      1 -0.004          18   \n",
      "69   2    21   3.816923  -4.764865      0 -0.004          23   \n",
      "70   2    22   3.660140  -3.364731      0 -0.004          18   \n",
      "71   2    23   3.760105  -2.681244      0 -0.004          13   \n",
      "72   2    24   3.912037  -1.615097      2 -0.004           8   \n",
      "\n",
      "                                         x_t2  \\\n",
      "0    [1.546516346170986, -0.2689755792571463]   \n",
      "1   [2.7835006397829547, -0.8592044430225955]   \n",
      "2   [2.4313246521399825, -0.5132178962172803]   \n",
      "3    [2.450914782524976, -0.8631965798912051]   \n",
      "4   [2.9930768229340017, -1.1800190123241412]   \n",
      "..                                        ...   \n",
      "68    [3.990946222298387, -4.886110281186208]   \n",
      "69  [3.5406776553968244, -3.1200429611553773]   \n",
      "70   [3.7938527127397057, -2.073818473398319]   \n",
      "71     [3.7368092380589, -1.5215365837184562]   \n",
      "72   [4.567694268170485, -1.9180226308549675]   \n",
      "\n",
      "                                              a0  \\\n",
      "0    [1.546516346170986, -0.2689755792571463, 0]   \n",
      "1   [2.7835006397829547, -0.8592044430225955, 0]   \n",
      "2   [2.4313246521399825, -0.5132178962172803, 0]   \n",
      "3    [2.450914782524976, -0.8631965798912051, 0]   \n",
      "4   [2.9930768229340017, -1.1800190123241412, 0]   \n",
      "..                                           ...   \n",
      "68    [3.990946222298387, -4.886110281186208, 0]   \n",
      "69  [3.5406776553968244, -3.1200429611553773, 0]   \n",
      "70   [3.7938527127397057, -2.073818473398319, 0]   \n",
      "71     [3.7368092380589, -1.5215365837184562, 0]   \n",
      "72   [4.567694268170485, -1.9180226308549675, 0]   \n",
      "\n",
      "                                              a1  \\\n",
      "0    [1.546516346170986, -0.2689755792571463, 1]   \n",
      "1   [2.7835006397829547, -0.8592044430225955, 1]   \n",
      "2   [2.4313246521399825, -0.5132178962172803, 1]   \n",
      "3    [2.450914782524976, -0.8631965798912051, 1]   \n",
      "4   [2.9930768229340017, -1.1800190123241412, 1]   \n",
      "..                                           ...   \n",
      "68    [3.990946222298387, -4.886110281186208, 1]   \n",
      "69  [3.5406776553968244, -3.1200429611553773, 1]   \n",
      "70   [3.7938527127397057, -2.073818473398319, 1]   \n",
      "71     [3.7368092380589, -1.5215365837184562, 1]   \n",
      "72   [4.567694268170485, -1.9180226308549675, 1]   \n",
      "\n",
      "                                              a2  \\\n",
      "0    [1.546516346170986, -0.2689755792571463, 2]   \n",
      "1   [2.7835006397829547, -0.8592044430225955, 2]   \n",
      "2   [2.4313246521399825, -0.5132178962172803, 2]   \n",
      "3    [2.450914782524976, -0.8631965798912051, 2]   \n",
      "4   [2.9930768229340017, -1.1800190123241412, 2]   \n",
      "..                                           ...   \n",
      "68    [3.990946222298387, -4.886110281186208, 2]   \n",
      "69  [3.5406776553968244, -3.1200429611553773, 2]   \n",
      "70   [3.7938527127397057, -2.073818473398319, 2]   \n",
      "71     [3.7368092380589, -1.5215365837184562, 2]   \n",
      "72   [4.567694268170485, -1.9180226308549675, 2]   \n",
      "\n",
      "                                              a3  \n",
      "0    [1.546516346170986, -0.2689755792571463, 3]  \n",
      "1   [2.7835006397829547, -0.8592044430225955, 3]  \n",
      "2   [2.4313246521399825, -0.5132178962172803, 3]  \n",
      "3    [2.450914782524976, -0.8631965798912051, 3]  \n",
      "4   [2.9930768229340017, -1.1800190123241412, 3]  \n",
      "..                                           ...  \n",
      "68    [3.990946222298387, -4.886110281186208, 3]  \n",
      "69  [3.5406776553968244, -3.1200429611553773, 3]  \n",
      "70   [3.7938527127397057, -2.073818473398319, 3]  \n",
      "71     [3.7368092380589, -1.5215365837184562, 3]  \n",
      "72   [4.567694268170485, -1.9180226308549675, 3]  \n",
      "\n",
      "[73 rows x 12 columns]\n",
      "New training features\n",
      "    FEATURE_0  FEATURE_1 ACTION\n",
      "0    0.935456  -0.257430      2\n",
      "1    1.777537  -0.525098      2\n",
      "2    2.698330  -0.690030      0\n",
      "3    2.902483  -0.721617      2\n",
      "4    2.380671  -0.940479      1\n",
      "..        ...        ...    ...\n",
      "68   3.298740  -3.498070      1\n",
      "69   3.816923  -4.764865      0\n",
      "70   3.660140  -3.364731      0\n",
      "71   3.760105  -2.681244      0\n",
      "72   3.912037  -1.615097      2\n",
      "\n",
      "[73 rows x 3 columns]\n"
     ]
    },
    {
     "name": "stderr",
     "output_type": "stream",
     "text": [
      "100%|██████████| 100/100 [02:10<00:00,  1.30s/it]\n"
     ]
    },
    {
     "name": "stdout",
     "output_type": "stream",
     "text": [
      "N= 3  completed\n"
     ]
    },
    {
     "name": "stderr",
     "output_type": "stream",
     "text": [
      "Splitting... |#Clusters:2:   0%|          | 0/23 [00:00<?, ?it/s]"
     ]
    },
    {
     "name": "stdout",
     "output_type": "stream",
     "text": [
      "Clusters Initialized\n",
      "     ID  TIME  FEATURE_0  FEATURE_1 ACTION   RISK  OG_CLUSTER  CLUSTER  \\\n",
      "0     0     0   0.061180  -0.064887      2 -0.004           0        0   \n",
      "1     0     1   1.170047  -0.481861      2 -0.004           1        0   \n",
      "2     0     2   2.540744  -0.647057      1 -0.004           2        0   \n",
      "3     0     3   2.632536  -1.774652      2 -0.004           7        0   \n",
      "4     0     4   2.428192  -1.939265      0 -0.004           7        0   \n",
      "..   ..   ...        ...        ...    ...    ...         ...      ...   \n",
      "108   4    17   3.754084  -1.800230      2 -0.004           8        0   \n",
      "109   4    18   4.186384  -1.009100      1 -0.004           9        0   \n",
      "110   4    19   4.450161  -2.580753      1 -0.004          14        0   \n",
      "111   4    20   4.983930  -3.503513      1 -0.004          19        0   \n",
      "112   4    21   4.869188  -4.587718   None  1.000          24        1   \n",
      "\n",
      "    NEXT_CLUSTER  \n",
      "0              0  \n",
      "1              0  \n",
      "2              0  \n",
      "3              0  \n",
      "4              0  \n",
      "..           ...  \n",
      "108            0  \n",
      "109            0  \n",
      "110            0  \n",
      "111            1  \n",
      "112          End  \n",
      "\n",
      "[113 rows x 9 columns]\n"
     ]
    },
    {
     "name": "stderr",
     "output_type": "stream",
     "text": [
      "Splitting... |#Clusters:9:  30%|███       | 7/23 [00:02<00:06,  2.44it/s]"
     ]
    },
    {
     "name": "stdout",
     "output_type": "stream",
     "text": [
      "WARNING: Trying to predict next state from state 3 taking action 0 , but this transition is never seen in the data. Data point: 0 15\n",
      "WARNING: In training value evaluation, trying to predict next state from state 3 taking action 0 , but this transition is never seen in the data. Data point: 0 14\n"
     ]
    },
    {
     "name": "stderr",
     "output_type": "stream",
     "text": [
      "Splitting... |#Clusters:10:  35%|███▍      | 8/23 [00:03<00:06,  2.17it/s]"
     ]
    },
    {
     "name": "stdout",
     "output_type": "stream",
     "text": [
      "WARNING: Trying to predict next state from state 3 taking action 0 , but this transition is never seen in the data. Data point: 0 15\n",
      "WARNING: In training value evaluation, trying to predict next state from state 3 taking action 0 , but this transition is never seen in the data. Data point: 0 14\n"
     ]
    },
    {
     "name": "stderr",
     "output_type": "stream",
     "text": [
      "Splitting... |#Clusters:11:  39%|███▉      | 9/23 [00:03<00:06,  2.11it/s]"
     ]
    },
    {
     "name": "stdout",
     "output_type": "stream",
     "text": [
      "WARNING: Trying to predict next state from state 3 taking action 0 , but this transition is never seen in the data. Data point: 0 15\n",
      "WARNING: In training value evaluation, trying to predict next state from state 3 taking action 0 , but this transition is never seen in the data. Data point: 0 14\n"
     ]
    },
    {
     "name": "stderr",
     "output_type": "stream",
     "text": [
      "Splitting... |#Clusters:12:  43%|████▎     | 10/23 [00:04<00:07,  1.70it/s]"
     ]
    },
    {
     "name": "stdout",
     "output_type": "stream",
     "text": [
      "WARNING: Trying to predict next state from state 3 taking action 0 , but this transition is never seen in the data. Data point: 0 15\n",
      "WARNING: In training value evaluation, trying to predict next state from state 3 taking action 0 , but this transition is never seen in the data. Data point: 0 14\n",
      "WARNING: Trying to predict next state from state 9 taking action 2 , but this transition is never seen in the data. Data point: 0 4\n",
      "WARNING: Trying to predict next state from state 9 taking action 0 , but this transition is never seen in the data. Data point: 0 5\n",
      "WARNING: Trying to predict next state from state 3 taking action 2 , but this transition is never seen in the data. Data point: 0 13\n",
      "WARNING: Trying to predict next state from state 10 taking action 3 , but this transition is never seen in the data. Data point: 1 5\n",
      "WARNING: Trying to predict next state from state 10 taking action 2 , but this transition is never seen in the data. Data point: 1 6\n",
      "WARNING: Trying to predict next state from state 9 taking action 0 , but this transition is never seen in the data. Data point: 1 8\n",
      "WARNING: Trying to predict next state from state 9 taking action 2 , but this transition is never seen in the data. Data point: 1 9\n",
      "WARNING: Trying to predict next state from state 10 taking action 2 , but this transition is never seen in the data. Data point: 4 3\n",
      "WARNING: In training value evaluation, trying to predict next state from state 9 taking action 2 , but this transition is never seen in the data. Data point: 0 3\n",
      "WARNING: In training value evaluation, trying to predict next state from state 9 taking action 0 , but this transition is never seen in the data. Data point: 0 4\n",
      "WARNING: In training value evaluation, trying to predict next state from state 3 taking action 2 , but this transition is never seen in the data. Data point: 0 12\n"
     ]
    },
    {
     "name": "stderr",
     "output_type": "stream",
     "text": [
      "Splitting... |#Clusters:13:  48%|████▊     | 11/23 [00:05<00:07,  1.51it/s]"
     ]
    },
    {
     "name": "stdout",
     "output_type": "stream",
     "text": [
      "WARNING: In training value evaluation, trying to predict next state from state 10 taking action 3 , but this transition is never seen in the data. Data point: 1 4\n",
      "WARNING: In training value evaluation, trying to predict next state from state 10 taking action 2 , but this transition is never seen in the data. Data point: 1 5\n",
      "WARNING: In training value evaluation, trying to predict next state from state 9 taking action 0 , but this transition is never seen in the data. Data point: 1 7\n",
      "WARNING: In training value evaluation, trying to predict next state from state 9 taking action 2 , but this transition is never seen in the data. Data point: 1 8\n",
      "WARNING: In training value evaluation, trying to predict next state from state 10 taking action 2 , but this transition is never seen in the data. Data point: 4 2\n"
     ]
    },
    {
     "name": "stderr",
     "output_type": "stream",
     "text": [
      "Splitting... |#Clusters:14:  52%|█████▏    | 12/23 [00:06<00:06,  1.58it/s]"
     ]
    },
    {
     "name": "stdout",
     "output_type": "stream",
     "text": [
      "WARNING: Trying to predict next state from state 0 taking action 1 , but this transition is never seen in the data. Data point: 0 6\n",
      "WARNING: Trying to predict next state from state 0 taking action 1 , but this transition is never seen in the data. Data point: 0 7\n",
      "WARNING: Trying to predict next state from state 0 taking action 1 , but this transition is never seen in the data. Data point: 0 8\n",
      "WARNING: Trying to predict next state from state 13 taking action 0 , but this transition is never seen in the data. Data point: 0 10\n",
      "WARNING: Trying to predict next state from state 0 taking action 1 , but this transition is never seen in the data. Data point: 0 12\n",
      "WARNING: Trying to predict next state from state 0 taking action 1 , but this transition is never seen in the data. Data point: 0 16\n",
      "WARNING: Trying to predict next state from state 13 taking action 3 , but this transition is never seen in the data. Data point: 0 18\n",
      "WARNING: Trying to predict next state from state 13 taking action 1 , but this transition is never seen in the data. Data point: 0 19\n",
      "WARNING: Trying to predict next state from state 13 taking action 1 , but this transition is never seen in the data. Data point: 0 20\n",
      "WARNING: Trying to predict next state from state 13 taking action 0 , but this transition is never seen in the data. Data point: 0 23\n",
      "WARNING: In training value evaluation, trying to predict next state from state 0 taking action 1 , but this transition is never seen in the data. Data point: 0 5\n",
      "WARNING: In training value evaluation, trying to predict next state from state 0 taking action 1 , but this transition is never seen in the data. Data point: 0 6\n",
      "WARNING: In training value evaluation, trying to predict next state from state 0 taking action 1 , but this transition is never seen in the data. Data point: 0 7\n",
      "WARNING: In training value evaluation, trying to predict next state from state 13 taking action 0 , but this transition is never seen in the data. Data point: 0 9\n",
      "WARNING: In training value evaluation, trying to predict next state from state 0 taking action 1 , but this transition is never seen in the data. Data point: 0 11\n",
      "WARNING: In training value evaluation, trying to predict next state from state 0 taking action 1 , but this transition is never seen in the data. Data point: 0 15\n",
      "WARNING: In training value evaluation, trying to predict next state from state 13 taking action 3 , but this transition is never seen in the data. Data point: 0 17\n",
      "WARNING: In training value evaluation, trying to predict next state from state 13 taking action 1 , but this transition is never seen in the data. Data point: 0 18\n",
      "WARNING: In training value evaluation, trying to predict next state from state 13 taking action 1 , but this transition is never seen in the data. Data point: 0 19\n",
      "WARNING: In training value evaluation, trying to predict next state from state 13 taking action 0 , but this transition is never seen in the data. Data point: 0 22\n",
      "WARNING: In training value evaluation, trying to predict next state from state 13 taking action 0 , but this transition is never seen in the data. Data point: 0 23\n"
     ]
    },
    {
     "name": "stderr",
     "output_type": "stream",
     "text": [
      "Splitting... |#Clusters:15:  57%|█████▋    | 13/23 [00:06<00:06,  1.53it/s]"
     ]
    },
    {
     "name": "stdout",
     "output_type": "stream",
     "text": [
      "WARNING: Trying to predict next state from state 0 taking action 1 , but this transition is never seen in the data. Data point: 0 6\n",
      "WARNING: Trying to predict next state from state 0 taking action 1 , but this transition is never seen in the data. Data point: 0 7\n",
      "WARNING: Trying to predict next state from state 0 taking action 1 , but this transition is never seen in the data. Data point: 0 8\n",
      "WARNING: Trying to predict next state from state 13 taking action 0 , but this transition is never seen in the data. Data point: 0 10\n",
      "WARNING: Trying to predict next state from state 0 taking action 1 , but this transition is never seen in the data. Data point: 0 12\n",
      "WARNING: Trying to predict next state from state 0 taking action 1 , but this transition is never seen in the data. Data point: 0 16\n",
      "WARNING: Trying to predict next state from state 13 taking action 3 , but this transition is never seen in the data. Data point: 0 18\n",
      "WARNING: Trying to predict next state from state 13 taking action 1 , but this transition is never seen in the data. Data point: 0 19\n",
      "WARNING: Trying to predict next state from state 13 taking action 1 , but this transition is never seen in the data. Data point: 0 20\n",
      "WARNING: Trying to predict next state from state 13 taking action 0 , but this transition is never seen in the data. Data point: 0 23\n",
      "WARNING: Trying to predict next state from state 14 taking action 3 , but this transition is never seen in the data. Data point: 3 13\n",
      "WARNING: Trying to predict next state from state 2 taking action 2 , but this transition is never seen in the data. Data point: 3 15\n",
      "WARNING: In training value evaluation, trying to predict next state from state 0 taking action 1 , but this transition is never seen in the data. Data point: 0 5\n",
      "WARNING: In training value evaluation, trying to predict next state from state 0 taking action 1 , but this transition is never seen in the data. Data point: 0 6\n",
      "WARNING: In training value evaluation, trying to predict next state from state 0 taking action 1 , but this transition is never seen in the data. Data point: 0 7\n",
      "WARNING: In training value evaluation, trying to predict next state from state 13 taking action 0 , but this transition is never seen in the data. Data point: 0 9\n",
      "WARNING: In training value evaluation, trying to predict next state from state 0 taking action 1 , but this transition is never seen in the data. Data point: 0 11\n",
      "WARNING: In training value evaluation, trying to predict next state from state 0 taking action 1 , but this transition is never seen in the data. Data point: 0 15\n",
      "WARNING: In training value evaluation, trying to predict next state from state 13 taking action 3 , but this transition is never seen in the data. Data point: 0 17\n",
      "WARNING: In training value evaluation, trying to predict next state from state 13 taking action 1 , but this transition is never seen in the data. Data point: 0 18\n",
      "WARNING: In training value evaluation, trying to predict next state from state 13 taking action 1 , but this transition is never seen in the data. Data point: 0 19\n",
      "WARNING: In training value evaluation, trying to predict next state from state 13 taking action 0 , but this transition is never seen in the data. Data point: 0 22\n",
      "WARNING: In training value evaluation, trying to predict next state from state 13 taking action 0 , but this transition is never seen in the data. Data point: 0 23\n",
      "WARNING: In training value evaluation, trying to predict next state from state 14 taking action 3 , but this transition is never seen in the data. Data point: 3 12\n",
      "WARNING: In training value evaluation, trying to predict next state from state 2 taking action 2 , but this transition is never seen in the data. Data point: 3 14\n"
     ]
    },
    {
     "name": "stderr",
     "output_type": "stream",
     "text": [
      "Splitting... |#Clusters:16:  61%|██████    | 14/23 [00:07<00:05,  1.62it/s]"
     ]
    },
    {
     "name": "stdout",
     "output_type": "stream",
     "text": [
      "WARNING: Trying to predict next state from state 0 taking action 1 , but this transition is never seen in the data. Data point: 0 6\n",
      "WARNING: Trying to predict next state from state 0 taking action 1 , but this transition is never seen in the data. Data point: 0 7\n",
      "WARNING: Trying to predict next state from state 0 taking action 1 , but this transition is never seen in the data. Data point: 0 8\n",
      "WARNING: Trying to predict next state from state 13 taking action 0 , but this transition is never seen in the data. Data point: 0 10\n",
      "WARNING: Trying to predict next state from state 0 taking action 1 , but this transition is never seen in the data. Data point: 0 12\n",
      "WARNING: Trying to predict next state from state 0 taking action 1 , but this transition is never seen in the data. Data point: 0 16\n",
      "WARNING: Trying to predict next state from state 13 taking action 3 , but this transition is never seen in the data. Data point: 0 18\n",
      "WARNING: Trying to predict next state from state 13 taking action 1 , but this transition is never seen in the data. Data point: 0 19\n",
      "WARNING: Trying to predict next state from state 13 taking action 1 , but this transition is never seen in the data. Data point: 0 20\n",
      "WARNING: Trying to predict next state from state 13 taking action 0 , but this transition is never seen in the data. Data point: 0 23\n",
      "WARNING: Trying to predict next state from state 14 taking action 3 , but this transition is never seen in the data. Data point: 3 13\n",
      "WARNING: Trying to predict next state from state 2 taking action 2 , but this transition is never seen in the data. Data point: 3 15\n",
      "WARNING: In training value evaluation, trying to predict next state from state 0 taking action 1 , but this transition is never seen in the data. Data point: 0 5\n",
      "WARNING: In training value evaluation, trying to predict next state from state 0 taking action 1 , but this transition is never seen in the data. Data point: 0 6\n",
      "WARNING: In training value evaluation, trying to predict next state from state 0 taking action 1 , but this transition is never seen in the data. Data point: 0 7\n",
      "WARNING: In training value evaluation, trying to predict next state from state 13 taking action 0 , but this transition is never seen in the data. Data point: 0 9\n",
      "WARNING: In training value evaluation, trying to predict next state from state 0 taking action 1 , but this transition is never seen in the data. Data point: 0 11\n",
      "WARNING: In training value evaluation, trying to predict next state from state 0 taking action 1 , but this transition is never seen in the data. Data point: 0 15\n",
      "WARNING: In training value evaluation, trying to predict next state from state 13 taking action 3 , but this transition is never seen in the data. Data point: 0 17\n",
      "WARNING: In training value evaluation, trying to predict next state from state 13 taking action 1 , but this transition is never seen in the data. Data point: 0 18\n",
      "WARNING: In training value evaluation, trying to predict next state from state 13 taking action 1 , but this transition is never seen in the data. Data point: 0 19\n",
      "WARNING: In training value evaluation, trying to predict next state from state 13 taking action 0 , but this transition is never seen in the data. Data point: 0 22\n",
      "WARNING: In training value evaluation, trying to predict next state from state 13 taking action 0 , but this transition is never seen in the data. Data point: 0 23\n",
      "WARNING: In training value evaluation, trying to predict next state from state 14 taking action 3 , but this transition is never seen in the data. Data point: 3 12\n",
      "WARNING: In training value evaluation, trying to predict next state from state 2 taking action 2 , but this transition is never seen in the data. Data point: 3 14\n",
      "WARNING: Trying to predict next state from state 0 taking action 1 , but this transition is never seen in the data. Data point: 0 6\n",
      "WARNING: Trying to predict next state from state 0 taking action 1 , but this transition is never seen in the data. Data point: 0 7\n",
      "WARNING: Trying to predict next state from state 0 taking action 1 , but this transition is never seen in the data. Data point: 0 8\n",
      "WARNING: Trying to predict next state from state 13 taking action 0 , but this transition is never seen in the data. Data point: 0 10\n",
      "WARNING: Trying to predict next state from state 0 taking action 1 , but this transition is never seen in the data. Data point: 0 12\n",
      "WARNING: Trying to predict next state from state 0 taking action 1 , but this transition is never seen in the data. Data point: 0 16\n",
      "WARNING: Trying to predict next state from state 13 taking action 3 , but this transition is never seen in the data. Data point: 0 18\n",
      "WARNING: Trying to predict next state from state 13 taking action 1 , but this transition is never seen in the data. Data point: 0 19\n",
      "WARNING: Trying to predict next state from state 13 taking action 1 , but this transition is never seen in the data. Data point: 0 20\n",
      "WARNING: Trying to predict next state from state 13 taking action 0 , but this transition is never seen in the data. Data point: 0 23\n",
      "WARNING: Trying to predict next state from state 3 taking action 0 , but this transition is never seen in the data. Data point: 2 14\n",
      "WARNING: Trying to predict next state from state 3 taking action 0 , but this transition is never seen in the data. Data point: 2 15\n",
      "WARNING: Trying to predict next state from state 3 taking action 0 , but this transition is never seen in the data. Data point: 2 16\n",
      "WARNING: Trying to predict next state from state 3 taking action 2 , but this transition is never seen in the data. Data point: 2 17\n",
      "WARNING: Trying to predict next state from state 14 taking action 3 , but this transition is never seen in the data. Data point: 3 13\n",
      "WARNING: Trying to predict next state from state 3 taking action 2 , but this transition is never seen in the data. Data point: 3 15\n",
      "WARNING: Trying to predict next state from state 14 taking action 3 , but this transition is never seen in the data. Data point: 4 10\n",
      "WARNING: In training value evaluation, trying to predict next state from state 0 taking action 1 , but this transition is never seen in the data. Data point: 0 5\n",
      "WARNING: In training value evaluation, trying to predict next state from state 0 taking action 1 , but this transition is never seen in the data. Data point: 0 6\n",
      "WARNING: In training value evaluation, trying to predict next state from state 0 taking action 1 , but this transition is never seen in the data. Data point: 0 7\n",
      "WARNING: In training value evaluation, trying to predict next state from state 13 taking action 0 , but this transition is never seen in the data. Data point: 0 9\n",
      "WARNING: In training value evaluation, trying to predict next state from state 0 taking action 1 , but this transition is never seen in the data. Data point: 0 11\n",
      "WARNING: In training value evaluation, trying to predict next state from state 0 taking action 1 , but this transition is never seen in the data. Data point: 0 15\n",
      "WARNING: In training value evaluation, trying to predict next state from state 13 taking action 3 , but this transition is never seen in the data. Data point: 0 17\n",
      "WARNING: In training value evaluation, trying to predict next state from state 13 taking action 1 , but this transition is never seen in the data. Data point: 0 18\n",
      "WARNING: In training value evaluation, trying to predict next state from state 13 taking action 1 , but this transition is never seen in the data. Data point: 0 19\n",
      "WARNING: In training value evaluation, trying to predict next state from state 13 taking action 0 , but this transition is never seen in the data. Data point: 0 22\n",
      "WARNING: In training value evaluation, trying to predict next state from state 13 taking action 0 , but this transition is never seen in the data. Data point: 0 23\n",
      "WARNING: In training value evaluation, trying to predict next state from state 3 taking action 0 , but this transition is never seen in the data. Data point: 2 13\n",
      "WARNING: In training value evaluation, trying to predict next state from state 3 taking action 0 , but this transition is never seen in the data. Data point: 2 14\n",
      "WARNING: In training value evaluation, trying to predict next state from state 3 taking action 0 , but this transition is never seen in the data. Data point: 2 15\n",
      "WARNING: In training value evaluation, trying to predict next state from state 3 taking action 2 , but this transition is never seen in the data. Data point: 2 16\n",
      "WARNING: In training value evaluation, trying to predict next state from state 14 taking action 3 , but this transition is never seen in the data. Data point: 3 12\n",
      "WARNING: In training value evaluation, trying to predict next state from state 3 taking action 2 , but this transition is never seen in the data. Data point: 3 14\n",
      "WARNING: In training value evaluation, trying to predict next state from state 14 taking action 3 , but this transition is never seen in the data. Data point: 4 9\n"
     ]
    },
    {
     "name": "stderr",
     "output_type": "stream",
     "text": [
      "Splitting... |#Clusters:18:  70%|██████▉   | 16/23 [00:08<00:04,  1.72it/s]"
     ]
    },
    {
     "name": "stdout",
     "output_type": "stream",
     "text": [
      "WARNING: Trying to predict next state from state 0 taking action 1 , but this transition is never seen in the data. Data point: 0 6\n",
      "WARNING: Trying to predict next state from state 0 taking action 1 , but this transition is never seen in the data. Data point: 0 7\n",
      "WARNING: Trying to predict next state from state 0 taking action 1 , but this transition is never seen in the data. Data point: 0 8\n",
      "WARNING: Trying to predict next state from state 13 taking action 0 , but this transition is never seen in the data. Data point: 0 10\n",
      "WARNING: Trying to predict next state from state 0 taking action 1 , but this transition is never seen in the data. Data point: 0 12\n",
      "WARNING: Trying to predict next state from state 0 taking action 1 , but this transition is never seen in the data. Data point: 0 16\n",
      "WARNING: Trying to predict next state from state 13 taking action 3 , but this transition is never seen in the data. Data point: 0 18\n",
      "WARNING: Trying to predict next state from state 13 taking action 1 , but this transition is never seen in the data. Data point: 0 19\n",
      "WARNING: Trying to predict next state from state 13 taking action 1 , but this transition is never seen in the data. Data point: 0 20\n",
      "WARNING: Trying to predict next state from state 13 taking action 0 , but this transition is never seen in the data. Data point: 0 23\n",
      "WARNING: Trying to predict next state from state 3 taking action 0 , but this transition is never seen in the data. Data point: 2 14\n",
      "WARNING: Trying to predict next state from state 3 taking action 0 , but this transition is never seen in the data. Data point: 2 15\n",
      "WARNING: Trying to predict next state from state 3 taking action 0 , but this transition is never seen in the data. Data point: 2 16\n",
      "WARNING: Trying to predict next state from state 3 taking action 2 , but this transition is never seen in the data. Data point: 2 17\n",
      "WARNING: Trying to predict next state from state 14 taking action 3 , but this transition is never seen in the data. Data point: 3 13\n",
      "WARNING: Trying to predict next state from state 3 taking action 2 , but this transition is never seen in the data. Data point: 3 15\n",
      "WARNING: Trying to predict next state from state 14 taking action 3 , but this transition is never seen in the data. Data point: 4 10\n",
      "WARNING: In training value evaluation, trying to predict next state from state 0 taking action 1 , but this transition is never seen in the data. Data point: 0 5\n",
      "WARNING: In training value evaluation, trying to predict next state from state 0 taking action 1 , but this transition is never seen in the data. Data point: 0 6\n",
      "WARNING: In training value evaluation, trying to predict next state from state 0 taking action 1 , but this transition is never seen in the data. Data point: 0 7\n",
      "WARNING: In training value evaluation, trying to predict next state from state 13 taking action 0 , but this transition is never seen in the data. Data point: 0 9\n",
      "WARNING: In training value evaluation, trying to predict next state from state 0 taking action 1 , but this transition is never seen in the data. Data point: 0 11\n",
      "WARNING: In training value evaluation, trying to predict next state from state 0 taking action 1 , but this transition is never seen in the data. Data point: 0 15\n",
      "WARNING: In training value evaluation, trying to predict next state from state 13 taking action 3 , but this transition is never seen in the data. Data point: 0 17\n",
      "WARNING: In training value evaluation, trying to predict next state from state 13 taking action 1 , but this transition is never seen in the data. Data point: 0 18\n",
      "WARNING: In training value evaluation, trying to predict next state from state 13 taking action 1 , but this transition is never seen in the data. Data point: 0 19\n",
      "WARNING: In training value evaluation, trying to predict next state from state 13 taking action 0 , but this transition is never seen in the data. Data point: 0 22\n",
      "WARNING: In training value evaluation, trying to predict next state from state 13 taking action 0 , but this transition is never seen in the data. Data point: 0 23\n",
      "WARNING: In training value evaluation, trying to predict next state from state 3 taking action 0 , but this transition is never seen in the data. Data point: 2 13\n",
      "WARNING: In training value evaluation, trying to predict next state from state 3 taking action 0 , but this transition is never seen in the data. Data point: 2 14\n",
      "WARNING: In training value evaluation, trying to predict next state from state 3 taking action 0 , but this transition is never seen in the data. Data point: 2 15\n",
      "WARNING: In training value evaluation, trying to predict next state from state 3 taking action 2 , but this transition is never seen in the data. Data point: 2 16\n",
      "WARNING: In training value evaluation, trying to predict next state from state 14 taking action 3 , but this transition is never seen in the data. Data point: 3 12\n",
      "WARNING: In training value evaluation, trying to predict next state from state 3 taking action 2 , but this transition is never seen in the data. Data point: 3 14\n",
      "WARNING: In training value evaluation, trying to predict next state from state 14 taking action 3 , but this transition is never seen in the data. Data point: 4 9\n"
     ]
    },
    {
     "name": "stderr",
     "output_type": "stream",
     "text": [
      "Splitting... |#Clusters:19:  74%|███████▍  | 17/23 [00:08<00:03,  1.80it/s]"
     ]
    },
    {
     "name": "stdout",
     "output_type": "stream",
     "text": [
      "WARNING: Trying to predict next state from state 0 taking action 1 , but this transition is never seen in the data. Data point: 0 6\n",
      "WARNING: Trying to predict next state from state 0 taking action 1 , but this transition is never seen in the data. Data point: 0 7\n",
      "WARNING: Trying to predict next state from state 0 taking action 1 , but this transition is never seen in the data. Data point: 0 8\n",
      "WARNING: Trying to predict next state from state 13 taking action 0 , but this transition is never seen in the data. Data point: 0 10\n",
      "WARNING: Trying to predict next state from state 0 taking action 1 , but this transition is never seen in the data. Data point: 0 12\n",
      "WARNING: Trying to predict next state from state 0 taking action 1 , but this transition is never seen in the data. Data point: 0 16\n",
      "WARNING: Trying to predict next state from state 13 taking action 3 , but this transition is never seen in the data. Data point: 0 18\n",
      "WARNING: Trying to predict next state from state 13 taking action 1 , but this transition is never seen in the data. Data point: 0 19\n",
      "WARNING: Trying to predict next state from state 13 taking action 1 , but this transition is never seen in the data. Data point: 0 20\n",
      "WARNING: Trying to predict next state from state 13 taking action 0 , but this transition is never seen in the data. Data point: 0 23\n",
      "WARNING: Trying to predict next state from state 3 taking action 0 , but this transition is never seen in the data. Data point: 2 14\n",
      "WARNING: Trying to predict next state from state 3 taking action 0 , but this transition is never seen in the data. Data point: 2 15\n",
      "WARNING: Trying to predict next state from state 3 taking action 0 , but this transition is never seen in the data. Data point: 2 16\n",
      "WARNING: Trying to predict next state from state 3 taking action 2 , but this transition is never seen in the data. Data point: 2 17\n",
      "WARNING: Trying to predict next state from state 14 taking action 3 , but this transition is never seen in the data. Data point: 3 13\n",
      "WARNING: Trying to predict next state from state 3 taking action 2 , but this transition is never seen in the data. Data point: 3 15\n",
      "WARNING: Trying to predict next state from state 14 taking action 3 , but this transition is never seen in the data. Data point: 4 10\n",
      "WARNING: In training value evaluation, trying to predict next state from state 0 taking action 1 , but this transition is never seen in the data. Data point: 0 5\n",
      "WARNING: In training value evaluation, trying to predict next state from state 0 taking action 1 , but this transition is never seen in the data. Data point: 0 6\n",
      "WARNING: In training value evaluation, trying to predict next state from state 0 taking action 1 , but this transition is never seen in the data. Data point: 0 7\n",
      "WARNING: In training value evaluation, trying to predict next state from state 13 taking action 0 , but this transition is never seen in the data. Data point: 0 9\n",
      "WARNING: In training value evaluation, trying to predict next state from state 0 taking action 1 , but this transition is never seen in the data. Data point: 0 11\n",
      "WARNING: In training value evaluation, trying to predict next state from state 0 taking action 1 , but this transition is never seen in the data. Data point: 0 15\n",
      "WARNING: In training value evaluation, trying to predict next state from state 13 taking action 3 , but this transition is never seen in the data. Data point: 0 17\n",
      "WARNING: In training value evaluation, trying to predict next state from state 13 taking action 1 , but this transition is never seen in the data. Data point: 0 18\n",
      "WARNING: In training value evaluation, trying to predict next state from state 13 taking action 1 , but this transition is never seen in the data. Data point: 0 19\n",
      "WARNING: In training value evaluation, trying to predict next state from state 13 taking action 0 , but this transition is never seen in the data. Data point: 0 22\n",
      "WARNING: In training value evaluation, trying to predict next state from state 13 taking action 0 , but this transition is never seen in the data. Data point: 0 23\n",
      "WARNING: In training value evaluation, trying to predict next state from state 3 taking action 0 , but this transition is never seen in the data. Data point: 2 13\n",
      "WARNING: In training value evaluation, trying to predict next state from state 3 taking action 0 , but this transition is never seen in the data. Data point: 2 14\n",
      "WARNING: In training value evaluation, trying to predict next state from state 3 taking action 0 , but this transition is never seen in the data. Data point: 2 15\n",
      "WARNING: In training value evaluation, trying to predict next state from state 3 taking action 2 , but this transition is never seen in the data. Data point: 2 16\n",
      "WARNING: In training value evaluation, trying to predict next state from state 14 taking action 3 , but this transition is never seen in the data. Data point: 3 12\n",
      "WARNING: In training value evaluation, trying to predict next state from state 3 taking action 2 , but this transition is never seen in the data. Data point: 3 14\n",
      "WARNING: In training value evaluation, trying to predict next state from state 14 taking action 3 , but this transition is never seen in the data. Data point: 4 9\n",
      "WARNING: Trying to predict next state from state 0 taking action 1 , but this transition is never seen in the data. Data point: 0 6\n",
      "WARNING: Trying to predict next state from state 0 taking action 1 , but this transition is never seen in the data. Data point: 0 7\n",
      "WARNING: Trying to predict next state from state 0 taking action 1 , but this transition is never seen in the data. Data point: 0 8\n",
      "WARNING: Trying to predict next state from state 13 taking action 0 , but this transition is never seen in the data. Data point: 0 10\n",
      "WARNING: Trying to predict next state from state 0 taking action 1 , but this transition is never seen in the data. Data point: 0 12\n",
      "WARNING: Trying to predict next state from state 0 taking action 1 , but this transition is never seen in the data. Data point: 0 16\n",
      "WARNING: Trying to predict next state from state 13 taking action 3 , but this transition is never seen in the data. Data point: 0 18\n",
      "WARNING: Trying to predict next state from state 13 taking action 1 , but this transition is never seen in the data. Data point: 0 19\n",
      "WARNING: Trying to predict next state from state 13 taking action 1 , but this transition is never seen in the data. Data point: 0 20\n",
      "WARNING: Trying to predict next state from state 13 taking action 0 , but this transition is never seen in the data. Data point: 0 23\n",
      "WARNING: Trying to predict next state from state 3 taking action 0 , but this transition is never seen in the data. Data point: 2 14\n",
      "WARNING: Trying to predict next state from state 3 taking action 0 , but this transition is never seen in the data. Data point: 2 15\n",
      "WARNING: Trying to predict next state from state 3 taking action 0 , but this transition is never seen in the data. Data point: 2 16\n",
      "WARNING: Trying to predict next state from state 3 taking action 2 , but this transition is never seen in the data. Data point: 2 17\n",
      "WARNING: Trying to predict next state from state 14 taking action 3 , but this transition is never seen in the data. Data point: 3 13\n",
      "WARNING: Trying to predict next state from state 3 taking action 2 , but this transition is never seen in the data. Data point: 3 15\n",
      "WARNING: Trying to predict next state from state 14 taking action 3 , but this transition is never seen in the data. Data point: 4 10\n",
      "WARNING: In training value evaluation, trying to predict next state from state 0 taking action 1 , but this transition is never seen in the data. Data point: 0 5\n",
      "WARNING: In training value evaluation, trying to predict next state from state 0 taking action 1 , but this transition is never seen in the data. Data point: 0 6\n",
      "WARNING: In training value evaluation, trying to predict next state from state 0 taking action 1 , but this transition is never seen in the data. Data point: 0 7\n",
      "WARNING: In training value evaluation, trying to predict next state from state 13 taking action 0 , but this transition is never seen in the data. Data point: 0 9\n",
      "WARNING: In training value evaluation, trying to predict next state from state 0 taking action 1 , but this transition is never seen in the data. Data point: 0 11\n",
      "WARNING: In training value evaluation, trying to predict next state from state 0 taking action 1 , but this transition is never seen in the data. Data point: 0 15\n",
      "WARNING: In training value evaluation, trying to predict next state from state 13 taking action 3 , but this transition is never seen in the data. Data point: 0 17\n",
      "WARNING: In training value evaluation, trying to predict next state from state 13 taking action 1 , but this transition is never seen in the data. Data point: 0 18\n",
      "WARNING: In training value evaluation, trying to predict next state from state 13 taking action 1 , but this transition is never seen in the data. Data point: 0 19\n",
      "WARNING: In training value evaluation, trying to predict next state from state 13 taking action 0 , but this transition is never seen in the data. Data point: 0 22\n",
      "WARNING: In training value evaluation, trying to predict next state from state 13 taking action 0 , but this transition is never seen in the data. Data point: 0 23\n",
      "WARNING: In training value evaluation, trying to predict next state from state 3 taking action 0 , but this transition is never seen in the data. Data point: 2 13\n",
      "WARNING: In training value evaluation, trying to predict next state from state 3 taking action 0 , but this transition is never seen in the data. Data point: 2 14\n",
      "WARNING: In training value evaluation, trying to predict next state from state 3 taking action 0 , but this transition is never seen in the data. Data point: 2 15\n",
      "WARNING: In training value evaluation, trying to predict next state from state 3 taking action 2 , but this transition is never seen in the data. Data point: 2 16\n",
      "WARNING: In training value evaluation, trying to predict next state from state 14 taking action 3 , but this transition is never seen in the data. Data point: 3 12\n",
      "WARNING: In training value evaluation, trying to predict next state from state 3 taking action 2 , but this transition is never seen in the data. Data point: 3 14\n",
      "WARNING: In training value evaluation, trying to predict next state from state 14 taking action 3 , but this transition is never seen in the data. Data point: 4 9\n"
     ]
    },
    {
     "name": "stderr",
     "output_type": "stream",
     "text": [
      "Splitting... |#Clusters:21:  83%|████████▎ | 19/23 [00:09<00:02,  1.91it/s]"
     ]
    },
    {
     "name": "stdout",
     "output_type": "stream",
     "text": [
      "WARNING: Trying to predict next state from state 0 taking action 1 , but this transition is never seen in the data. Data point: 0 6\n",
      "WARNING: Trying to predict next state from state 0 taking action 1 , but this transition is never seen in the data. Data point: 0 7\n",
      "WARNING: Trying to predict next state from state 0 taking action 1 , but this transition is never seen in the data. Data point: 0 8\n",
      "WARNING: Trying to predict next state from state 13 taking action 0 , but this transition is never seen in the data. Data point: 0 10\n",
      "WARNING: Trying to predict next state from state 0 taking action 1 , but this transition is never seen in the data. Data point: 0 12\n",
      "WARNING: Trying to predict next state from state 0 taking action 1 , but this transition is never seen in the data. Data point: 0 16\n",
      "WARNING: Trying to predict next state from state 13 taking action 3 , but this transition is never seen in the data. Data point: 0 18\n",
      "WARNING: Trying to predict next state from state 13 taking action 1 , but this transition is never seen in the data. Data point: 0 19\n",
      "WARNING: Trying to predict next state from state 13 taking action 1 , but this transition is never seen in the data. Data point: 0 20\n",
      "WARNING: Trying to predict next state from state 13 taking action 0 , but this transition is never seen in the data. Data point: 0 23\n",
      "WARNING: Trying to predict next state from state 3 taking action 0 , but this transition is never seen in the data. Data point: 2 14\n",
      "WARNING: Trying to predict next state from state 3 taking action 0 , but this transition is never seen in the data. Data point: 2 15\n",
      "WARNING: Trying to predict next state from state 3 taking action 0 , but this transition is never seen in the data. Data point: 2 16\n",
      "WARNING: Trying to predict next state from state 3 taking action 2 , but this transition is never seen in the data. Data point: 2 17\n",
      "WARNING: Trying to predict next state from state 14 taking action 3 , but this transition is never seen in the data. Data point: 3 13\n",
      "WARNING: Trying to predict next state from state 3 taking action 2 , but this transition is never seen in the data. Data point: 3 15\n",
      "WARNING: Trying to predict next state from state 14 taking action 3 , but this transition is never seen in the data. Data point: 4 10\n",
      "WARNING: In training value evaluation, trying to predict next state from state 0 taking action 1 , but this transition is never seen in the data. Data point: 0 5\n",
      "WARNING: In training value evaluation, trying to predict next state from state 0 taking action 1 , but this transition is never seen in the data. Data point: 0 6\n",
      "WARNING: In training value evaluation, trying to predict next state from state 0 taking action 1 , but this transition is never seen in the data. Data point: 0 7\n",
      "WARNING: In training value evaluation, trying to predict next state from state 13 taking action 0 , but this transition is never seen in the data. Data point: 0 9\n",
      "WARNING: In training value evaluation, trying to predict next state from state 0 taking action 1 , but this transition is never seen in the data. Data point: 0 11\n",
      "WARNING: In training value evaluation, trying to predict next state from state 0 taking action 1 , but this transition is never seen in the data. Data point: 0 15\n",
      "WARNING: In training value evaluation, trying to predict next state from state 13 taking action 3 , but this transition is never seen in the data. Data point: 0 17\n",
      "WARNING: In training value evaluation, trying to predict next state from state 13 taking action 1 , but this transition is never seen in the data. Data point: 0 18\n",
      "WARNING: In training value evaluation, trying to predict next state from state 13 taking action 1 , but this transition is never seen in the data. Data point: 0 19\n",
      "WARNING: In training value evaluation, trying to predict next state from state 13 taking action 0 , but this transition is never seen in the data. Data point: 0 22\n",
      "WARNING: In training value evaluation, trying to predict next state from state 13 taking action 0 , but this transition is never seen in the data. Data point: 0 23\n",
      "WARNING: In training value evaluation, trying to predict next state from state 3 taking action 0 , but this transition is never seen in the data. Data point: 2 13\n",
      "WARNING: In training value evaluation, trying to predict next state from state 3 taking action 0 , but this transition is never seen in the data. Data point: 2 14\n",
      "WARNING: In training value evaluation, trying to predict next state from state 3 taking action 0 , but this transition is never seen in the data. Data point: 2 15\n",
      "WARNING: In training value evaluation, trying to predict next state from state 3 taking action 2 , but this transition is never seen in the data. Data point: 2 16\n",
      "WARNING: In training value evaluation, trying to predict next state from state 14 taking action 3 , but this transition is never seen in the data. Data point: 3 12\n",
      "WARNING: In training value evaluation, trying to predict next state from state 3 taking action 2 , but this transition is never seen in the data. Data point: 3 14\n",
      "WARNING: In training value evaluation, trying to predict next state from state 14 taking action 3 , but this transition is never seen in the data. Data point: 4 9\n"
     ]
    },
    {
     "name": "stderr",
     "output_type": "stream",
     "text": [
      "Splitting... |#Clusters:22:  87%|████████▋ | 20/23 [00:10<00:01,  1.93it/s]"
     ]
    },
    {
     "name": "stdout",
     "output_type": "stream",
     "text": [
      "WARNING: Trying to predict next state from state 0 taking action 1 , but this transition is never seen in the data. Data point: 0 6\n",
      "WARNING: Trying to predict next state from state 0 taking action 1 , but this transition is never seen in the data. Data point: 0 7\n",
      "WARNING: Trying to predict next state from state 0 taking action 1 , but this transition is never seen in the data. Data point: 0 8\n",
      "WARNING: Trying to predict next state from state 13 taking action 0 , but this transition is never seen in the data. Data point: 0 10\n",
      "WARNING: Trying to predict next state from state 0 taking action 1 , but this transition is never seen in the data. Data point: 0 12\n",
      "WARNING: Trying to predict next state from state 0 taking action 1 , but this transition is never seen in the data. Data point: 0 16\n",
      "WARNING: Trying to predict next state from state 13 taking action 3 , but this transition is never seen in the data. Data point: 0 18\n",
      "WARNING: Trying to predict next state from state 13 taking action 1 , but this transition is never seen in the data. Data point: 0 19\n",
      "WARNING: Trying to predict next state from state 13 taking action 1 , but this transition is never seen in the data. Data point: 0 20\n",
      "WARNING: Trying to predict next state from state 13 taking action 0 , but this transition is never seen in the data. Data point: 0 23\n",
      "WARNING: Trying to predict next state from state 3 taking action 0 , but this transition is never seen in the data. Data point: 2 14\n",
      "WARNING: Trying to predict next state from state 3 taking action 0 , but this transition is never seen in the data. Data point: 2 15\n",
      "WARNING: Trying to predict next state from state 3 taking action 0 , but this transition is never seen in the data. Data point: 2 16\n",
      "WARNING: Trying to predict next state from state 3 taking action 2 , but this transition is never seen in the data. Data point: 2 17\n",
      "WARNING: Trying to predict next state from state 14 taking action 3 , but this transition is never seen in the data. Data point: 3 13\n",
      "WARNING: Trying to predict next state from state 3 taking action 2 , but this transition is never seen in the data. Data point: 3 15\n",
      "WARNING: Trying to predict next state from state 14 taking action 3 , but this transition is never seen in the data. Data point: 4 10\n",
      "WARNING: In training value evaluation, trying to predict next state from state 0 taking action 1 , but this transition is never seen in the data. Data point: 0 5\n",
      "WARNING: In training value evaluation, trying to predict next state from state 0 taking action 1 , but this transition is never seen in the data. Data point: 0 6\n",
      "WARNING: In training value evaluation, trying to predict next state from state 0 taking action 1 , but this transition is never seen in the data. Data point: 0 7\n",
      "WARNING: In training value evaluation, trying to predict next state from state 13 taking action 0 , but this transition is never seen in the data. Data point: 0 9\n",
      "WARNING: In training value evaluation, trying to predict next state from state 0 taking action 1 , but this transition is never seen in the data. Data point: 0 11\n",
      "WARNING: In training value evaluation, trying to predict next state from state 0 taking action 1 , but this transition is never seen in the data. Data point: 0 15\n",
      "WARNING: In training value evaluation, trying to predict next state from state 13 taking action 3 , but this transition is never seen in the data. Data point: 0 17\n",
      "WARNING: In training value evaluation, trying to predict next state from state 13 taking action 1 , but this transition is never seen in the data. Data point: 0 18\n",
      "WARNING: In training value evaluation, trying to predict next state from state 13 taking action 1 , but this transition is never seen in the data. Data point: 0 19\n",
      "WARNING: In training value evaluation, trying to predict next state from state 13 taking action 0 , but this transition is never seen in the data. Data point: 0 22\n",
      "WARNING: In training value evaluation, trying to predict next state from state 13 taking action 0 , but this transition is never seen in the data. Data point: 0 23\n",
      "WARNING: In training value evaluation, trying to predict next state from state 3 taking action 0 , but this transition is never seen in the data. Data point: 2 13\n",
      "WARNING: In training value evaluation, trying to predict next state from state 3 taking action 0 , but this transition is never seen in the data. Data point: 2 14\n",
      "WARNING: In training value evaluation, trying to predict next state from state 3 taking action 0 , but this transition is never seen in the data. Data point: 2 15\n",
      "WARNING: In training value evaluation, trying to predict next state from state 3 taking action 2 , but this transition is never seen in the data. Data point: 2 16\n",
      "WARNING: In training value evaluation, trying to predict next state from state 14 taking action 3 , but this transition is never seen in the data. Data point: 3 12\n",
      "WARNING: In training value evaluation, trying to predict next state from state 3 taking action 2 , but this transition is never seen in the data. Data point: 3 14\n",
      "WARNING: In training value evaluation, trying to predict next state from state 14 taking action 3 , but this transition is never seen in the data. Data point: 4 9\n"
     ]
    },
    {
     "name": "stderr",
     "output_type": "stream",
     "text": [
      "Splitting... |#Clusters:23:  91%|█████████▏| 21/23 [00:10<00:00,  2.01it/s]"
     ]
    },
    {
     "name": "stdout",
     "output_type": "stream",
     "text": [
      "WARNING: Trying to predict next state from state 0 taking action 1 , but this transition is never seen in the data. Data point: 0 6\n",
      "WARNING: Trying to predict next state from state 0 taking action 1 , but this transition is never seen in the data. Data point: 0 7\n",
      "WARNING: Trying to predict next state from state 0 taking action 1 , but this transition is never seen in the data. Data point: 0 8\n",
      "WARNING: Trying to predict next state from state 13 taking action 0 , but this transition is never seen in the data. Data point: 0 10\n",
      "WARNING: Trying to predict next state from state 0 taking action 1 , but this transition is never seen in the data. Data point: 0 12\n",
      "WARNING: Trying to predict next state from state 0 taking action 1 , but this transition is never seen in the data. Data point: 0 16\n",
      "WARNING: Trying to predict next state from state 13 taking action 3 , but this transition is never seen in the data. Data point: 0 18\n",
      "WARNING: Trying to predict next state from state 13 taking action 1 , but this transition is never seen in the data. Data point: 0 19\n",
      "WARNING: Trying to predict next state from state 13 taking action 1 , but this transition is never seen in the data. Data point: 0 20\n",
      "WARNING: Trying to predict next state from state 13 taking action 0 , but this transition is never seen in the data. Data point: 0 23\n",
      "WARNING: Trying to predict next state from state 3 taking action 0 , but this transition is never seen in the data. Data point: 2 14\n",
      "WARNING: Trying to predict next state from state 3 taking action 0 , but this transition is never seen in the data. Data point: 2 15\n",
      "WARNING: Trying to predict next state from state 3 taking action 0 , but this transition is never seen in the data. Data point: 2 16\n",
      "WARNING: Trying to predict next state from state 3 taking action 2 , but this transition is never seen in the data. Data point: 2 17\n",
      "WARNING: Trying to predict next state from state 14 taking action 3 , but this transition is never seen in the data. Data point: 3 13\n",
      "WARNING: Trying to predict next state from state 3 taking action 2 , but this transition is never seen in the data. Data point: 3 15\n",
      "WARNING: Trying to predict next state from state 14 taking action 3 , but this transition is never seen in the data. Data point: 4 10\n",
      "WARNING: In training value evaluation, trying to predict next state from state 0 taking action 1 , but this transition is never seen in the data. Data point: 0 5\n",
      "WARNING: In training value evaluation, trying to predict next state from state 0 taking action 1 , but this transition is never seen in the data. Data point: 0 6\n",
      "WARNING: In training value evaluation, trying to predict next state from state 0 taking action 1 , but this transition is never seen in the data. Data point: 0 7\n",
      "WARNING: In training value evaluation, trying to predict next state from state 13 taking action 0 , but this transition is never seen in the data. Data point: 0 9\n",
      "WARNING: In training value evaluation, trying to predict next state from state 0 taking action 1 , but this transition is never seen in the data. Data point: 0 11\n",
      "WARNING: In training value evaluation, trying to predict next state from state 0 taking action 1 , but this transition is never seen in the data. Data point: 0 15\n",
      "WARNING: In training value evaluation, trying to predict next state from state 13 taking action 3 , but this transition is never seen in the data. Data point: 0 17\n",
      "WARNING: In training value evaluation, trying to predict next state from state 13 taking action 1 , but this transition is never seen in the data. Data point: 0 18\n",
      "WARNING: In training value evaluation, trying to predict next state from state 13 taking action 1 , but this transition is never seen in the data. Data point: 0 19\n",
      "WARNING: In training value evaluation, trying to predict next state from state 13 taking action 0 , but this transition is never seen in the data. Data point: 0 22\n",
      "WARNING: In training value evaluation, trying to predict next state from state 13 taking action 0 , but this transition is never seen in the data. Data point: 0 23\n",
      "WARNING: In training value evaluation, trying to predict next state from state 3 taking action 0 , but this transition is never seen in the data. Data point: 2 13\n",
      "WARNING: In training value evaluation, trying to predict next state from state 3 taking action 0 , but this transition is never seen in the data. Data point: 2 14\n",
      "WARNING: In training value evaluation, trying to predict next state from state 3 taking action 0 , but this transition is never seen in the data. Data point: 2 15\n",
      "WARNING: In training value evaluation, trying to predict next state from state 3 taking action 2 , but this transition is never seen in the data. Data point: 2 16\n",
      "WARNING: In training value evaluation, trying to predict next state from state 14 taking action 3 , but this transition is never seen in the data. Data point: 3 12\n",
      "WARNING: In training value evaluation, trying to predict next state from state 3 taking action 2 , but this transition is never seen in the data. Data point: 3 14\n",
      "WARNING: In training value evaluation, trying to predict next state from state 14 taking action 3 , but this transition is never seen in the data. Data point: 4 9\n"
     ]
    },
    {
     "name": "stderr",
     "output_type": "stream",
     "text": [
      "Splitting... |#Clusters:24:  96%|█████████▌| 22/23 [00:11<00:00,  2.09it/s]"
     ]
    },
    {
     "name": "stdout",
     "output_type": "stream",
     "text": [
      "WARNING: Trying to predict next state from state 0 taking action 1 , but this transition is never seen in the data. Data point: 0 6\n",
      "WARNING: Trying to predict next state from state 0 taking action 1 , but this transition is never seen in the data. Data point: 0 7\n",
      "WARNING: Trying to predict next state from state 0 taking action 1 , but this transition is never seen in the data. Data point: 0 8\n",
      "WARNING: Trying to predict next state from state 13 taking action 0 , but this transition is never seen in the data. Data point: 0 10\n",
      "WARNING: Trying to predict next state from state 0 taking action 1 , but this transition is never seen in the data. Data point: 0 12\n",
      "WARNING: Trying to predict next state from state 0 taking action 1 , but this transition is never seen in the data. Data point: 0 16\n",
      "WARNING: Trying to predict next state from state 13 taking action 3 , but this transition is never seen in the data. Data point: 0 18\n",
      "WARNING: Trying to predict next state from state 13 taking action 1 , but this transition is never seen in the data. Data point: 0 19\n",
      "WARNING: Trying to predict next state from state 13 taking action 1 , but this transition is never seen in the data. Data point: 0 20\n",
      "WARNING: Trying to predict next state from state 13 taking action 0 , but this transition is never seen in the data. Data point: 0 23\n",
      "WARNING: Trying to predict next state from state 3 taking action 0 , but this transition is never seen in the data. Data point: 2 14\n",
      "WARNING: Trying to predict next state from state 3 taking action 0 , but this transition is never seen in the data. Data point: 2 15\n",
      "WARNING: Trying to predict next state from state 3 taking action 0 , but this transition is never seen in the data. Data point: 2 16\n",
      "WARNING: Trying to predict next state from state 3 taking action 2 , but this transition is never seen in the data. Data point: 2 17\n",
      "WARNING: Trying to predict next state from state 14 taking action 3 , but this transition is never seen in the data. Data point: 3 13\n",
      "WARNING: Trying to predict next state from state 3 taking action 2 , but this transition is never seen in the data. Data point: 3 15\n",
      "WARNING: Trying to predict next state from state 14 taking action 3 , but this transition is never seen in the data. Data point: 4 10\n",
      "WARNING: In training value evaluation, trying to predict next state from state 0 taking action 1 , but this transition is never seen in the data. Data point: 0 5\n",
      "WARNING: In training value evaluation, trying to predict next state from state 0 taking action 1 , but this transition is never seen in the data. Data point: 0 6\n",
      "WARNING: In training value evaluation, trying to predict next state from state 0 taking action 1 , but this transition is never seen in the data. Data point: 0 7\n",
      "WARNING: In training value evaluation, trying to predict next state from state 13 taking action 0 , but this transition is never seen in the data. Data point: 0 9\n",
      "WARNING: In training value evaluation, trying to predict next state from state 0 taking action 1 , but this transition is never seen in the data. Data point: 0 11\n",
      "WARNING: In training value evaluation, trying to predict next state from state 0 taking action 1 , but this transition is never seen in the data. Data point: 0 15\n",
      "WARNING: In training value evaluation, trying to predict next state from state 13 taking action 3 , but this transition is never seen in the data. Data point: 0 17\n",
      "WARNING: In training value evaluation, trying to predict next state from state 13 taking action 1 , but this transition is never seen in the data. Data point: 0 18\n",
      "WARNING: In training value evaluation, trying to predict next state from state 13 taking action 1 , but this transition is never seen in the data. Data point: 0 19\n",
      "WARNING: In training value evaluation, trying to predict next state from state 13 taking action 0 , but this transition is never seen in the data. Data point: 0 22\n",
      "WARNING: In training value evaluation, trying to predict next state from state 13 taking action 0 , but this transition is never seen in the data. Data point: 0 23\n",
      "WARNING: In training value evaluation, trying to predict next state from state 3 taking action 0 , but this transition is never seen in the data. Data point: 2 13\n",
      "WARNING: In training value evaluation, trying to predict next state from state 3 taking action 0 , but this transition is never seen in the data. Data point: 2 14\n",
      "WARNING: In training value evaluation, trying to predict next state from state 3 taking action 0 , but this transition is never seen in the data. Data point: 2 15\n",
      "WARNING: In training value evaluation, trying to predict next state from state 3 taking action 2 , but this transition is never seen in the data. Data point: 2 16\n",
      "WARNING: In training value evaluation, trying to predict next state from state 14 taking action 3 , but this transition is never seen in the data. Data point: 3 12\n",
      "WARNING: In training value evaluation, trying to predict next state from state 3 taking action 2 , but this transition is never seen in the data. Data point: 3 14\n",
      "WARNING: In training value evaluation, trying to predict next state from state 14 taking action 3 , but this transition is never seen in the data. Data point: 4 9\n"
     ]
    },
    {
     "name": "stderr",
     "output_type": "stream",
     "text": [
      "\r",
      "Splitting... |#Clusters:24:  96%|█████████▌| 22/23 [00:11<00:00,  1.89it/s]"
     ]
    },
    {
     "name": "stdout",
     "output_type": "stream",
     "text": [
      "WARNING: Trying to predict next state from state 0 taking action 1 , but this transition is never seen in the data. Data point: 0 6\n",
      "WARNING: Trying to predict next state from state 0 taking action 1 , but this transition is never seen in the data. Data point: 0 7\n",
      "WARNING: Trying to predict next state from state 0 taking action 1 , but this transition is never seen in the data. Data point: 0 8\n",
      "WARNING: Trying to predict next state from state 13 taking action 0 , but this transition is never seen in the data. Data point: 0 10\n",
      "WARNING: Trying to predict next state from state 0 taking action 1 , but this transition is never seen in the data. Data point: 0 12\n",
      "WARNING: Trying to predict next state from state 0 taking action 1 , but this transition is never seen in the data. Data point: 0 16\n",
      "WARNING: Trying to predict next state from state 13 taking action 3 , but this transition is never seen in the data. Data point: 0 18\n",
      "WARNING: Trying to predict next state from state 13 taking action 1 , but this transition is never seen in the data. Data point: 0 19\n",
      "WARNING: Trying to predict next state from state 13 taking action 1 , but this transition is never seen in the data. Data point: 0 20\n",
      "WARNING: Trying to predict next state from state 13 taking action 0 , but this transition is never seen in the data. Data point: 0 23\n",
      "WARNING: Trying to predict next state from state 3 taking action 0 , but this transition is never seen in the data. Data point: 2 14\n",
      "WARNING: Trying to predict next state from state 3 taking action 0 , but this transition is never seen in the data. Data point: 2 15\n",
      "WARNING: Trying to predict next state from state 3 taking action 0 , but this transition is never seen in the data. Data point: 2 16\n",
      "WARNING: Trying to predict next state from state 3 taking action 2 , but this transition is never seen in the data. Data point: 2 17\n",
      "WARNING: Trying to predict next state from state 14 taking action 3 , but this transition is never seen in the data. Data point: 3 13\n",
      "WARNING: Trying to predict next state from state 3 taking action 2 , but this transition is never seen in the data. Data point: 3 15\n",
      "WARNING: Trying to predict next state from state 14 taking action 3 , but this transition is never seen in the data. Data point: 4 10\n",
      "WARNING: In training value evaluation, trying to predict next state from state 0 taking action 1 , but this transition is never seen in the data. Data point: 0 5\n",
      "WARNING: In training value evaluation, trying to predict next state from state 0 taking action 1 , but this transition is never seen in the data. Data point: 0 6\n",
      "WARNING: In training value evaluation, trying to predict next state from state 0 taking action 1 , but this transition is never seen in the data. Data point: 0 7\n",
      "WARNING: In training value evaluation, trying to predict next state from state 13 taking action 0 , but this transition is never seen in the data. Data point: 0 9\n",
      "WARNING: In training value evaluation, trying to predict next state from state 0 taking action 1 , but this transition is never seen in the data. Data point: 0 11\n",
      "WARNING: In training value evaluation, trying to predict next state from state 0 taking action 1 , but this transition is never seen in the data. Data point: 0 15\n",
      "WARNING: In training value evaluation, trying to predict next state from state 13 taking action 3 , but this transition is never seen in the data. Data point: 0 17\n",
      "WARNING: In training value evaluation, trying to predict next state from state 13 taking action 1 , but this transition is never seen in the data. Data point: 0 18\n",
      "WARNING: In training value evaluation, trying to predict next state from state 13 taking action 1 , but this transition is never seen in the data. Data point: 0 19\n",
      "WARNING: In training value evaluation, trying to predict next state from state 13 taking action 0 , but this transition is never seen in the data. Data point: 0 22\n",
      "WARNING: In training value evaluation, trying to predict next state from state 13 taking action 0 , but this transition is never seen in the data. Data point: 0 23\n",
      "WARNING: In training value evaluation, trying to predict next state from state 3 taking action 0 , but this transition is never seen in the data. Data point: 2 13\n",
      "WARNING: In training value evaluation, trying to predict next state from state 3 taking action 0 , but this transition is never seen in the data. Data point: 2 14\n",
      "WARNING: In training value evaluation, trying to predict next state from state 3 taking action 0 , but this transition is never seen in the data. Data point: 2 15\n",
      "WARNING: In training value evaluation, trying to predict next state from state 3 taking action 2 , but this transition is never seen in the data. Data point: 2 16\n",
      "WARNING: In training value evaluation, trying to predict next state from state 14 taking action 3 , but this transition is never seen in the data. Data point: 3 12\n",
      "WARNING: In training value evaluation, trying to predict next state from state 3 taking action 2 , but this transition is never seen in the data. Data point: 3 14\n",
      "WARNING: In training value evaluation, trying to predict next state from state 14 taking action 3 , but this transition is never seen in the data. Data point: 4 9\n",
      "Optimal # of clusters reached\n"
     ]
    },
    {
     "name": "stderr",
     "output_type": "stream",
     "text": [
      "\n"
     ]
    },
    {
     "data": {
      "image/png": "[encoded data removed]",
      "text/plain": [
       "<Figure size 432x288 with 1 Axes>"
      ]
     },
     "metadata": {
      "needs_background": "light"
     },
     "output_type": "display_data"
    },
    {
     "data": {
      "image/png": "[encoded data removed]",
      "text/plain": [
       "<Figure size 432x288 with 1 Axes>"
      ]
     },
     "metadata": {
      "needs_background": "light"
     },
     "output_type": "display_data"
    },
    {
     "name": "stderr",
     "output_type": "stream",
     "text": [
      "Splitting... |#Clusters:8:  86%|████████▌ | 6/7 [00:02<00:00,  2.78it/s]"
     ]
    },
    {
     "name": "stdout",
     "output_type": "stream",
     "text": [
      "WARNING: Trying to predict next state from state 3 taking action 0 , but this transition is never seen in the data. Data point: 0 15\n",
      "WARNING: In training value evaluation, trying to predict next state from state 3 taking action 0 , but this transition is never seen in the data. Data point: 0 14\n",
      "Optimal # of clusters reached\n"
     ]
    },
    {
     "name": "stderr",
     "output_type": "stream",
     "text": [
      "\n"
     ]
    },
    {
     "data": {
      "image/png": "[encoded data removed]",
      "text/plain": [
       "<Figure size 432x288 with 1 Axes>"
      ]
     },
     "metadata": {
      "needs_background": "light"
     },
     "output_type": "display_data"
    },
    {
     "data": {
      "image/png": "[encoded data removed]",
      "text/plain": [
       "<Figure size 432x288 with 1 Axes>"
      ]
     },
     "metadata": {
      "needs_background": "light"
     },
     "output_type": "display_data"
    },
    {
     "name": "stderr",
     "output_type": "stream",
     "text": [
      "/opt/anaconda3/lib/python3.7/site-packages/sklearn/model_selection/_split.py:667: UserWarning: The least populated class in y has only 3 members, which is less than n_splits=5.\n",
      "  % (min_groups, self.n_splits)), UserWarning)\n",
      "/opt/anaconda3/lib/python3.7/site-packages/sklearn/model_selection/_search.py:823: FutureWarning: The parameter 'iid' is deprecated in 0.22 and will be removed in 0.24.\n",
      "  \"removed in 0.24.\", FutureWarning\n"
     ]
    },
    {
     "name": "stdout",
     "output_type": "stream",
     "text": [
      "     ID  TIME  FEATURE_0  FEATURE_1 ACTION   RISK  OG_CLUSTER  \\\n",
      "0     0     0   0.061180  -0.064887      2 -0.004           0   \n",
      "1     0     1   1.170047  -0.481861      2 -0.004           1   \n",
      "2     0     2   2.540744  -0.647057      1 -0.004           2   \n",
      "3     0     3   2.632536  -1.774652      2 -0.004           7   \n",
      "4     0     4   2.428192  -1.939265      0 -0.004           7   \n",
      "..   ..   ...        ...        ...    ...    ...         ...   \n",
      "108   4    17   3.754084  -1.800230      2 -0.004           8   \n",
      "109   4    18   4.186384  -1.009100      1 -0.004           9   \n",
      "110   4    19   4.450161  -2.580753      1 -0.004          14   \n",
      "111   4    20   4.983930  -3.503513      1 -0.004          19   \n",
      "112   4    21   4.869188  -4.587718   None  1.000          24   \n",
      "\n",
      "                                           x_t2  \\\n",
      "0    [1.3729469291230654, -0.15252190463826287]   \n",
      "1      [2.500339614236047, -0.6049026381873341]   \n",
      "2      [2.232451912759343, -1.4663902469196168]   \n",
      "3     [2.5023881230374405, -1.3715883378004525]   \n",
      "4      [2.473719247553709, -0.1065335726521246]   \n",
      "..                                          ...   \n",
      "108    [4.131407357604004, -1.0334480946144198]   \n",
      "109     [4.15450825574136, -2.2286626254880795]   \n",
      "110    [4.747858456360816, -3.7558930545728795]   \n",
      "111     [4.595331741993199, -4.432265681479525]   \n",
      "112                                     [0, -5]   \n",
      "\n",
      "                                                a0  \\\n",
      "0    [1.3729469291230654, -0.15252190463826287, 0]   \n",
      "1      [2.500339614236047, -0.6049026381873341, 0]   \n",
      "2      [2.232451912759343, -1.4663902469196168, 0]   \n",
      "3     [2.5023881230374405, -1.3715883378004525, 0]   \n",
      "4      [2.473719247553709, -0.1065335726521246, 0]   \n",
      "..                                             ...   \n",
      "108    [4.131407357604004, -1.0334480946144198, 0]   \n",
      "109     [4.15450825574136, -2.2286626254880795, 0]   \n",
      "110    [4.747858456360816, -3.7558930545728795, 0]   \n",
      "111     [4.595331741993199, -4.432265681479525, 0]   \n",
      "112                                     [0, -5, 0]   \n",
      "\n",
      "                                                a1  \\\n",
      "0    [1.3729469291230654, -0.15252190463826287, 1]   \n",
      "1      [2.500339614236047, -0.6049026381873341, 1]   \n",
      "2      [2.232451912759343, -1.4663902469196168, 1]   \n",
      "3     [2.5023881230374405, -1.3715883378004525, 1]   \n",
      "4      [2.473719247553709, -0.1065335726521246, 1]   \n",
      "..                                             ...   \n",
      "108    [4.131407357604004, -1.0334480946144198, 1]   \n",
      "109     [4.15450825574136, -2.2286626254880795, 1]   \n",
      "110    [4.747858456360816, -3.7558930545728795, 1]   \n",
      "111     [4.595331741993199, -4.432265681479525, 1]   \n",
      "112                                     [0, -5, 1]   \n",
      "\n",
      "                                                a2  \\\n",
      "0    [1.3729469291230654, -0.15252190463826287, 2]   \n",
      "1      [2.500339614236047, -0.6049026381873341, 2]   \n",
      "2      [2.232451912759343, -1.4663902469196168, 2]   \n",
      "3     [2.5023881230374405, -1.3715883378004525, 2]   \n",
      "4      [2.473719247553709, -0.1065335726521246, 2]   \n",
      "..                                             ...   \n",
      "108    [4.131407357604004, -1.0334480946144198, 2]   \n",
      "109     [4.15450825574136, -2.2286626254880795, 2]   \n",
      "110    [4.747858456360816, -3.7558930545728795, 2]   \n",
      "111     [4.595331741993199, -4.432265681479525, 2]   \n",
      "112                                     [0, -5, 2]   \n",
      "\n",
      "                                                a3  \n",
      "0    [1.3729469291230654, -0.15252190463826287, 3]  \n",
      "1      [2.500339614236047, -0.6049026381873341, 3]  \n",
      "2      [2.232451912759343, -1.4663902469196168, 3]  \n",
      "3     [2.5023881230374405, -1.3715883378004525, 3]  \n",
      "4      [2.473719247553709, -0.1065335726521246, 3]  \n",
      "..                                             ...  \n",
      "108    [4.131407357604004, -1.0334480946144198, 3]  \n",
      "109     [4.15450825574136, -2.2286626254880795, 3]  \n",
      "110    [4.747858456360816, -3.7558930545728795, 3]  \n",
      "111     [4.595331741993199, -4.432265681479525, 3]  \n",
      "112                                     [0, -5, 3]  \n",
      "\n",
      "[113 rows x 12 columns]\n",
      "New training features\n",
      "     FEATURE_0  FEATURE_1 ACTION\n",
      "0     0.061180  -0.064887      2\n",
      "1     1.170047  -0.481861      2\n",
      "2     2.540744  -0.647057      1\n",
      "3     2.632536  -1.774652      2\n",
      "4     2.428192  -1.939265      0\n",
      "..         ...        ...    ...\n",
      "108   3.754084  -1.800230      2\n",
      "109   4.186384  -1.009100      1\n",
      "110   4.450161  -2.580753      1\n",
      "111   4.983930  -3.503513      1\n",
      "112   4.869188  -4.587718      4\n",
      "\n",
      "[113 rows x 3 columns]\n"
     ]
    },
    {
     "name": "stderr",
     "output_type": "stream",
     "text": [
      "100%|██████████| 100/100 [03:09<00:00,  1.89s/it]"
     ]
    },
    {
     "name": "stdout",
     "output_type": "stream",
     "text": [
      "N= 5  completed\n"
     ]
    },
    {
     "name": "stderr",
     "output_type": "stream",
     "text": [
      "\n"
     ]
    }
   ],
   "source": [
    "# creating new dataset and saving model and policies\n",
    "ms = []\n",
    "ps = []\n",
    "for n in Ns:\n",
    "    N = n\n",
    "    df = createSamples(N, T_max, mazes[4], 0.4, reseed=True)\n",
    "    df.to_csv('N=%i.csv'%n)\n",
    "    \n",
    "    m = MDP_model()\n",
    "    m.fit(df, # df: dataframe in the format ['ID', 'TIME', ...features..., 'RISK', 'ACTION']\n",
    "        pfeatures, # int: number of features\n",
    "        h, # int: time horizon (# of actions we want to optimize)\n",
    "        max_k, # int: number of iterations\n",
    "        distance_threshold, # clustering diameter for Agglomerative clustering\n",
    "        cv, # number for cross validation\n",
    "        th, # splitting threshold\n",
    "        classification, # classification method\n",
    "        split_classifier_params, # classification params\n",
    "        clustering,# clustering method from Agglomerative, KMeans, and Birch\n",
    "        n_clusters, # number of clusters for KMeans\n",
    "        random_state,\n",
    "        plot=True, \n",
    "        optimize=True)\n",
    "    ms.append(m)\n",
    "    pickle.dump(m, open('model_N=%i.sav'%n, 'wb'))\n",
    "    \n",
    "    f, r = get_maze_transition_reward(mazes[4])\n",
    "    Q, p, x_df = fitted_Q(100, df, 0.98, 2, [0, 1, 2, 3], f, r, True, 'ExtraTrees')\n",
    "    pickle.dump(p, open('fitted_Q_policy_N=%i.sav'%n, 'wb'))\n",
    "    ps.append(p)\n",
    "    print('N=', n, ' completed')"
   ]
  },
  {
   "cell_type": "code",
   "execution_count": 11,
   "metadata": {},
   "outputs": [
    {
     "name": "stdout",
     "output_type": "stream",
     "text": [
      "Optimal Value: [0.0000000e+00 1.0000000e+00 0.0000000e+00 0.0000000e+00 0.0000000e+00\n",
      " 0.0000000e+00 0.0000000e+00 0.0000000e+00 0.0000000e+00 0.0000000e+00\n",
      " 0.0000000e+00 0.0000000e+00 0.0000000e+00 0.0000000e+00 0.0000000e+00\n",
      " 0.0000000e+00 0.0000000e+00 0.0000000e+00 0.0000000e+00 0.0000000e+00\n",
      " 0.0000000e+00 0.0000000e+00 0.0000000e+00 0.0000000e+00 6.3495712e-10\n",
      " 0.0000000e+00]\n",
      "Optimal Policy: [0 0 0 0 0 0 0 0 0 0 0 0 0 0 0 0 0 0 0 0 0 0 0 0 0 0]\n"
     ]
    },
    {
     "name": "stderr",
     "output_type": "stream",
     "text": [
      "/Users/janiceyang/Dropbox (MIT)/ORC UROP/Opioids/Maze/maze_functions.py:160: RuntimeWarning: invalid value encountered in true_divide\n",
      "  ax.quiver(pos_x, pos_y, u/norm, v/norm, angles=\"xy\", zorder=5, pivot=\"mid\")\n",
      "/opt/anaconda3/lib/python3.7/site-packages/matplotlib/quiver.py:654: RuntimeWarning: invalid value encountered in true_divide\n",
      "  lengths = np.hypot(*dxy.T) / eps\n",
      "/opt/anaconda3/lib/python3.7/site-packages/matplotlib/quiver.py:678: RuntimeWarning: Mean of empty slice.\n",
      "  amean = a[~self.Umask].mean()\n",
      "/opt/anaconda3/lib/python3.7/site-packages/numpy/core/_methods.py:161: RuntimeWarning: invalid value encountered in double_scalars\n",
      "  ret = ret.dtype.type(ret / rcount)\n",
      "/opt/anaconda3/lib/python3.7/site-packages/matplotlib/quiver.py:748: RuntimeWarning: invalid value encountered in less\n",
      "  short = np.repeat(length < minsh, 8, axis=1)\n",
      "/opt/anaconda3/lib/python3.7/site-packages/matplotlib/quiver.py:762: RuntimeWarning: invalid value encountered in less\n",
      "  tooshort = length < self.minlength\n"
     ]
    },
    {
     "data": {
      "image/png": "[encoded data removed]",
      "text/plain": [
       "<Figure size 432x288 with 1 Axes>"
      ]
     },
     "metadata": {
      "needs_background": "light"
     },
     "output_type": "display_data"
    },
    {
     "data": {
      "text/plain": [
       "(array([0., 0., 0., ..., 0., 0., 0.]),\n",
       " array([-0.,  0.,  0., ...,  0.,  0.,  0.]))"
      ]
     },
     "execution_count": 11,
     "metadata": {},
     "output_type": "execute_result"
    }
   ],
   "source": [
    "opt_model_trajectory(ms[1], mazes[4])"
   ]
  },
  {
   "cell_type": "code",
   "execution_count": 17,
   "metadata": {},
   "outputs": [
    {
     "name": "stdout",
     "output_type": "stream",
     "text": [
      "Optimal Value: [7.04370331e-01 7.22826868e-01 7.41660069e-01 8.84704957e-01\n",
      " 9.06841793e-01 6.51186120e-01 7.04370331e-01 7.60877622e-01\n",
      " 9.06841793e-01 9.29430401e-01 6.68557266e-01 6.86282924e-01\n",
      " 7.80487369e-01 8.84704957e-01 9.52480001e-01 7.60877622e-01\n",
      " 7.80487369e-01 8.00497316e-01 8.63010858e-01 9.76000001e-01\n",
      " 7.41660069e-01 8.00497316e-01 8.20915628e-01 8.41750641e-01\n",
      " 1.00000000e+00 9.55885364e-10]\n",
      "Optimal Policy: [2 2 1 2 1 1 0 1 2 1 2 0 1 0 1 2 1 1 0 1 0 2 2 0 0 0]\n"
     ]
    },
    {
     "data": {
      "text/plain": [
       "0.18584070796460178"
      ]
     },
     "execution_count": 17,
     "metadata": {},
     "output_type": "execute_result"
    }
   ],
   "source": [
    "policy_accuracy(ms[2], mazes[4], ms[2].df)"
   ]
  },
  {
   "cell_type": "code",
   "execution_count": 18,
   "metadata": {},
   "outputs": [
    {
     "name": "stdout",
     "output_type": "stream",
     "text": [
      "Optimal Value: [7.04370331e-01 7.22826868e-01 7.41660069e-01 8.84704957e-01\n",
      " 9.06841793e-01 6.51186120e-01 7.04370331e-01 7.60877622e-01\n",
      " 9.06841793e-01 9.29430401e-01 6.68557266e-01 6.86282924e-01\n",
      " 7.80487369e-01 8.84704957e-01 9.52480001e-01 7.60877622e-01\n",
      " 7.80487369e-01 8.00497316e-01 8.63010858e-01 9.76000001e-01\n",
      " 7.41660069e-01 8.00497316e-01 8.20915628e-01 8.41750641e-01\n",
      " 1.00000000e+00 9.55885364e-10]\n",
      "Optimal Policy: [2 2 1 2 1 1 0 1 2 1 2 0 1 0 1 2 1 1 0 1 0 2 2 0 0 0]\n"
     ]
    },
    {
     "data": {
      "text/plain": [
       "0.410958904109589"
      ]
     },
     "execution_count": 18,
     "metadata": {},
     "output_type": "execute_result"
    }
   ],
   "source": [
    "fitted_Q_policy_accuracy(ps[1], mazes[4], ms[1].df)"
   ]
  },
  {
   "cell_type": "code",
   "execution_count": 4,
   "metadata": {},
   "outputs": [
    {
     "name": "stdout",
     "output_type": "stream",
     "text": [
      "pygame 2.0.0.dev10 (SDL 2.0.12, python 3.7.7)\n",
      "Hello from the pygame community. https://www.pygame.org/contribute.html\n"
     ]
    }
   ],
   "source": [
    "N = 200\n",
    "df_full = createSamples(N, T_max, mazes[4], 0.4, reseed=True)\n",
    "df_full.to_csv('N=200.csv')"
   ]
  },
  {
   "cell_type": "code",
   "execution_count": 5,
   "metadata": {},
   "outputs": [],
   "source": [
    "# Loading csv\n",
    "filename = 'N=30.csv'\n",
    "df = pd.read_csv(filename)\n",
    "\n",
    "# taking out extra ID col and changing actions back to integers\n",
    "df = df.iloc[:, 1:]\n",
    "df.loc[df['ACTION']=='None', 'ACTION'] = 4\n",
    "df['ACTION'] = pd.to_numeric(df['ACTION'], downcast='integer')\n",
    "df.loc[df['ACTION']==4, 'ACTION'] = 'None'\n",
    "df_full = df"
   ]
  },
  {
   "cell_type": "code",
   "execution_count": 20,
   "metadata": {},
   "outputs": [],
   "source": [
    "Ns = [2, 3, 5]"
   ]
  },
  {
   "cell_type": "code",
   "execution_count": 23,
   "metadata": {},
   "outputs": [
    {
     "name": "stderr",
     "output_type": "stream",
     "text": [
      "Splitting... |#Clusters:2:   0%|          | 0/23 [00:00<?, ?it/s]"
     ]
    },
    {
     "name": "stdout",
     "output_type": "stream",
     "text": [
      "Clusters Initialized\n",
      "    ID  TIME  FEATURE_0  FEATURE_1 ACTION   RISK  OG_CLUSTER  CLUSTER  \\\n",
      "0    0     0   0.877380  -0.022002      0 -0.004           0        0   \n",
      "1    0     1   0.697367  -0.838886      2 -0.004           0        0   \n",
      "2    0     2   1.243616  -0.187872      0 -0.004           1        0   \n",
      "3    0     3   1.194918  -0.284411      2 -0.004           1        0   \n",
      "4    0     4   2.195323  -0.764018      1 -0.004           2        0   \n",
      "5    0     5   2.159470  -1.158964      1 -0.004           7        0   \n",
      "6    0     6   2.672219  -2.688341      1 -0.004          12        0   \n",
      "7    0     7   2.581690  -3.977404      1 -0.004          17        0   \n",
      "8    0     8   2.837970  -4.479477      2 -0.004          22        0   \n",
      "9    0     9   3.420578  -4.937371      0 -0.004          23        0   \n",
      "10   0    10   3.761668  -3.757345      0 -0.004          18        0   \n",
      "11   0    11   3.253474  -2.695966      0 -0.004          13        0   \n",
      "12   0    12   3.943273  -1.198892      3 -0.004           8        0   \n",
      "13   0    13   3.319916  -1.152108      2 -0.004           8        0   \n",
      "14   0    14   4.831362  -1.657778      1 -0.004           9        0   \n",
      "15   0    15   4.294576  -2.027258      1 -0.004          14        0   \n",
      "16   0    16   4.805961  -3.733223      1 -0.004          19        0   \n",
      "17   0    17   4.898834  -4.481050   None  1.000          24        1   \n",
      "18   1     0   0.321454  -0.627218      2 -0.004           0        0   \n",
      "19   1     1   1.085346  -0.294924      2 -0.004           1        0   \n",
      "20   1     2   2.888028  -0.479960      1 -0.004           2        0   \n",
      "21   1     3   2.231688  -1.188887      3 -0.004           7        0   \n",
      "22   1     4   2.039955  -1.825072      1 -0.004           7        0   \n",
      "23   1     5   2.011798  -2.566105      1 -0.004          12        0   \n",
      "24   1     6   2.305226  -3.814970      3 -0.004          17        0   \n",
      "25   1     7   2.179751  -3.860991      0 -0.004          17        0   \n",
      "26   1     8   2.471489  -2.009591      1 -0.004          12        0   \n",
      "27   1     9   2.513978  -3.662488      1 -0.004          17        0   \n",
      "28   1    10   2.911400  -4.831281      0 -0.004          22        0   \n",
      "29   1    11   2.486032  -3.436811      1 -0.004          17        0   \n",
      "30   1    12   2.751065  -4.901625      2 -0.004          22        0   \n",
      "31   1    13   3.565861  -4.008212      3 -0.004          23        0   \n",
      "32   1    14   2.820235  -4.928482      2 -0.004          22        0   \n",
      "33   1    15   3.337889  -4.335005      0 -0.004          23        0   \n",
      "34   1    16   3.044246  -3.747819      2 -0.004          18        0   \n",
      "35   1    17   3.518571  -3.439870      0 -0.004          18        0   \n",
      "36   1    18   3.174938  -2.065789      1 -0.004          13        0   \n",
      "37   1    19   3.912050  -3.163639      0 -0.004          18        0   \n",
      "38   1    20   3.258174  -2.013902      0 -0.004          13        0   \n",
      "39   1    21   3.337577  -1.667188      2 -0.004           8        0   \n",
      "40   1    22   4.488001  -1.495567      1 -0.004           9        0   \n",
      "41   1    23   4.701325  -2.646401      2 -0.004          14        0   \n",
      "42   1    24   4.273979  -2.267673      1 -0.004          14        0   \n",
      "\n",
      "   NEXT_CLUSTER  \n",
      "0             0  \n",
      "1             0  \n",
      "2             0  \n",
      "3             0  \n",
      "4             0  \n",
      "5             0  \n",
      "6             0  \n",
      "7             0  \n",
      "8             0  \n",
      "9             0  \n",
      "10            0  \n",
      "11            0  \n",
      "12            0  \n",
      "13            0  \n",
      "14            0  \n",
      "15            0  \n",
      "16            1  \n",
      "17          End  \n",
      "18            0  \n",
      "19            0  \n",
      "20            0  \n",
      "21            0  \n",
      "22            0  \n",
      "23            0  \n",
      "24            0  \n",
      "25            0  \n",
      "26            0  \n",
      "27            0  \n",
      "28            0  \n",
      "29            0  \n",
      "30            0  \n",
      "31            0  \n",
      "32            0  \n",
      "33            0  \n",
      "34            0  \n",
      "35            0  \n",
      "36            0  \n",
      "37            0  \n",
      "38            0  \n",
      "39            0  \n",
      "40            0  \n",
      "41            0  \n",
      "42         None  \n"
     ]
    },
    {
     "name": "stderr",
     "output_type": "stream",
     "text": [
      "Splitting... |#Clusters:10:  35%|███▍      | 8/23 [00:02<00:04,  3.59it/s]"
     ]
    },
    {
     "name": "stdout",
     "output_type": "stream",
     "text": [
      "WARNING: Trying to predict next state from state 2 taking action 2 , but this transition is never seen in the data. Data point: 1 13\n",
      "WARNING: Trying to predict next state from state 2 taking action 3 , but this transition is never seen in the data. Data point: 1 14\n",
      "WARNING: Trying to predict next state from state 2 taking action 2 , but this transition is never seen in the data. Data point: 1 15\n",
      "WARNING: In training value evaluation, trying to predict next state from state 2 taking action 2 , but this transition is never seen in the data. Data point: 1 12\n",
      "WARNING: In training value evaluation, trying to predict next state from state 2 taking action 3 , but this transition is never seen in the data. Data point: 1 13\n",
      "WARNING: In training value evaluation, trying to predict next state from state 2 taking action 2 , but this transition is never seen in the data. Data point: 1 14\n"
     ]
    },
    {
     "name": "stderr",
     "output_type": "stream",
     "text": [
      "Splitting... |#Clusters:11:  39%|███▉      | 9/23 [00:02<00:04,  3.45it/s]"
     ]
    },
    {
     "name": "stdout",
     "output_type": "stream",
     "text": [
      "WARNING: Trying to predict next state from state 4 taking action 0 , but this transition is never seen in the data. Data point: 1 20\n",
      "WARNING: Trying to predict next state from state 4 taking action 0 , but this transition is never seen in the data. Data point: 1 21\n",
      "WARNING: In training value evaluation, trying to predict next state from state 4 taking action 0 , but this transition is never seen in the data. Data point: 1 19\n",
      "WARNING: In training value evaluation, trying to predict next state from state 4 taking action 0 , but this transition is never seen in the data. Data point: 1 20\n",
      "WARNING: In training value evaluation, trying to predict next state from state 2 taking action 2 , but this transition is never seen in the data. Data point: 1 23\n",
      "WARNING: Trying to predict next state from state 5 taking action 0 , but this transition is never seen in the data. Data point: 1 18\n",
      "WARNING: Trying to predict next state from state 4 taking action 0 , but this transition is never seen in the data. Data point: 1 20\n",
      "WARNING: Trying to predict next state from state 4 taking action 0 , but this transition is never seen in the data. Data point: 1 21\n"
     ]
    },
    {
     "name": "stderr",
     "output_type": "stream",
     "text": [
      "Splitting... |#Clusters:12:  43%|████▎     | 10/23 [00:02<00:03,  3.55it/s]"
     ]
    },
    {
     "name": "stdout",
     "output_type": "stream",
     "text": [
      "WARNING: In training value evaluation, trying to predict next state from state 5 taking action 0 , but this transition is never seen in the data. Data point: 1 17\n",
      "WARNING: In training value evaluation, trying to predict next state from state 4 taking action 0 , but this transition is never seen in the data. Data point: 1 19\n",
      "WARNING: In training value evaluation, trying to predict next state from state 4 taking action 0 , but this transition is never seen in the data. Data point: 1 20\n",
      "WARNING: In training value evaluation, trying to predict next state from state 2 taking action 2 , but this transition is never seen in the data. Data point: 1 23\n",
      "WARNING: Trying to predict next state from state 11 taking action 2 , but this transition is never seen in the data. Data point: 1 17\n",
      "WARNING: Trying to predict next state from state 4 taking action 0 , but this transition is never seen in the data. Data point: 1 20\n",
      "WARNING: Trying to predict next state from state 4 taking action 0 , but this transition is never seen in the data. Data point: 1 21\n"
     ]
    },
    {
     "name": "stderr",
     "output_type": "stream",
     "text": [
      "Splitting... |#Clusters:13:  48%|████▊     | 11/23 [00:03<00:03,  3.67it/s]"
     ]
    },
    {
     "name": "stdout",
     "output_type": "stream",
     "text": [
      "WARNING: In training value evaluation, trying to predict next state from state 11 taking action 2 , but this transition is never seen in the data. Data point: 1 16\n",
      "WARNING: In training value evaluation, trying to predict next state from state 4 taking action 0 , but this transition is never seen in the data. Data point: 1 19\n",
      "WARNING: In training value evaluation, trying to predict next state from state 4 taking action 0 , but this transition is never seen in the data. Data point: 1 20\n",
      "WARNING: In training value evaluation, trying to predict next state from state 2 taking action 2 , but this transition is never seen in the data. Data point: 1 23\n"
     ]
    },
    {
     "name": "stderr",
     "output_type": "stream",
     "text": [
      "Splitting... |#Clusters:14:  52%|█████▏    | 12/23 [00:03<00:03,  3.63it/s]\n"
     ]
    },
    {
     "data": {
      "image/png": "[encoded data removed]",
      "text/plain": [
       "<Figure size 432x288 with 1 Axes>"
      ]
     },
     "metadata": {
      "needs_background": "light"
     },
     "output_type": "display_data"
    },
    {
     "data": {
      "image/png": "[encoded data removed]",
      "text/plain": [
       "<Figure size 432x288 with 1 Axes>"
      ]
     },
     "metadata": {
      "needs_background": "light"
     },
     "output_type": "display_data"
    },
    {
     "name": "stderr",
     "output_type": "stream",
     "text": [
      "Splitting... |#Clusters:9:  88%|████████▊ | 7/8 [00:02<00:00,  2.48it/s]"
     ]
    },
    {
     "name": "stdout",
     "output_type": "stream",
     "text": [
      "WARNING: Trying to predict next state from state 2 taking action 2 , but this transition is never seen in the data. Data point: 1 13\n",
      "WARNING: Trying to predict next state from state 2 taking action 3 , but this transition is never seen in the data. Data point: 1 14\n",
      "WARNING: Trying to predict next state from state 2 taking action 2 , but this transition is never seen in the data. Data point: 1 15\n",
      "WARNING: In training value evaluation, trying to predict next state from state 2 taking action 2 , but this transition is never seen in the data. Data point: 1 12\n",
      "WARNING: In training value evaluation, trying to predict next state from state 2 taking action 3 , but this transition is never seen in the data. Data point: 1 13\n",
      "WARNING: In training value evaluation, trying to predict next state from state 2 taking action 2 , but this transition is never seen in the data. Data point: 1 14\n",
      "Optimal # of clusters reached\n"
     ]
    },
    {
     "name": "stderr",
     "output_type": "stream",
     "text": [
      "\n"
     ]
    },
    {
     "data": {
      "image/png": "[encoded data removed]",
      "text/plain": [
       "<Figure size 432x288 with 1 Axes>"
      ]
     },
     "metadata": {
      "needs_background": "light"
     },
     "output_type": "display_data"
    },
    {
     "data": {
      "image/png": "[encoded data removed]",
      "text/plain": [
       "<Figure size 432x288 with 1 Axes>"
      ]
     },
     "metadata": {
      "needs_background": "light"
     },
     "output_type": "display_data"
    },
    {
     "name": "stderr",
     "output_type": "stream",
     "text": [
      "/opt/anaconda3/lib/python3.7/site-packages/sklearn/model_selection/_split.py:667: UserWarning: The least populated class in y has only 1 members, which is less than n_splits=5.\n",
      "  % (min_groups, self.n_splits)), UserWarning)\n",
      "/opt/anaconda3/lib/python3.7/site-packages/sklearn/model_selection/_search.py:823: FutureWarning: The parameter 'iid' is deprecated in 0.22 and will be removed in 0.24.\n",
      "  \"removed in 0.24.\", FutureWarning\n"
     ]
    },
    {
     "name": "stdout",
     "output_type": "stream",
     "text": [
      "    ID  TIME  FEATURE_0  FEATURE_1 ACTION   RISK  OG_CLUSTER  \\\n",
      "0    0     0   0.877380  -0.022002      0 -0.004           0   \n",
      "1    0     1   0.697367  -0.838886      2 -0.004           0   \n",
      "2    0     2   1.243616  -0.187872      0 -0.004           1   \n",
      "3    0     3   1.194918  -0.284411      2 -0.004           1   \n",
      "4    0     4   2.195323  -0.764018      1 -0.004           2   \n",
      "5    0     5   2.159470  -1.158964      1 -0.004           7   \n",
      "6    0     6   2.672219  -2.688341      1 -0.004          12   \n",
      "7    0     7   2.581690  -3.977404      1 -0.004          17   \n",
      "8    0     8   2.837970  -4.479477      2 -0.004          22   \n",
      "9    0     9   3.420578  -4.937371      0 -0.004          23   \n",
      "10   0    10   3.761668  -3.757345      0 -0.004          18   \n",
      "11   0    11   3.253474  -2.695966      0 -0.004          13   \n",
      "12   0    12   3.943273  -1.198892      3 -0.004           8   \n",
      "13   0    13   3.319916  -1.152108      2 -0.004           8   \n",
      "14   0    14   4.831362  -1.657778      1 -0.004           9   \n",
      "15   0    15   4.294576  -2.027258      1 -0.004          14   \n",
      "16   0    16   4.805961  -3.733223      1 -0.004          19   \n",
      "17   0    17   4.898834  -4.481050   None  1.000          24   \n",
      "18   1     0   0.321454  -0.627218      2 -0.004           0   \n",
      "19   1     1   1.085346  -0.294924      2 -0.004           1   \n",
      "20   1     2   2.888028  -0.479960      1 -0.004           2   \n",
      "21   1     3   2.231688  -1.188887      3 -0.004           7   \n",
      "22   1     4   2.039955  -1.825072      1 -0.004           7   \n",
      "23   1     5   2.011798  -2.566105      1 -0.004          12   \n",
      "24   1     6   2.305226  -3.814970      3 -0.004          17   \n",
      "25   1     7   2.179751  -3.860991      0 -0.004          17   \n",
      "26   1     8   2.471489  -2.009591      1 -0.004          12   \n",
      "27   1     9   2.513978  -3.662488      1 -0.004          17   \n",
      "28   1    10   2.911400  -4.831281      0 -0.004          22   \n",
      "29   1    11   2.486032  -3.436811      1 -0.004          17   \n",
      "30   1    12   2.751065  -4.901625      2 -0.004          22   \n",
      "31   1    13   3.565861  -4.008212      3 -0.004          23   \n",
      "32   1    14   2.820235  -4.928482      2 -0.004          22   \n",
      "33   1    15   3.337889  -4.335005      0 -0.004          23   \n",
      "34   1    16   3.044246  -3.747819      2 -0.004          18   \n",
      "35   1    17   3.518571  -3.439870      0 -0.004          18   \n",
      "36   1    18   3.174938  -2.065789      1 -0.004          13   \n",
      "37   1    19   3.912050  -3.163639      0 -0.004          18   \n",
      "38   1    20   3.258174  -2.013902      0 -0.004          13   \n",
      "39   1    21   3.337577  -1.667188      2 -0.004           8   \n",
      "40   1    22   4.488001  -1.495567      1 -0.004           9   \n",
      "41   1    23   4.701325  -2.646401      2 -0.004          14   \n",
      "42   1    24   4.273979  -2.267673      1 -0.004          14   \n",
      "\n",
      "                                          x_t2  \\\n",
      "0    [0.7404359294283193, -0.5054905916014351]   \n",
      "1    [1.8158007643365537, -0.9688578309131293]   \n",
      "2   [1.8228848958305346, -0.36826430710135727]   \n",
      "3    [2.817315131195473, -0.17731555585153613]   \n",
      "4     [2.700068032210292, -1.1316432391611566]   \n",
      "5     [2.8164631475496704, -2.232408561884207]   \n",
      "6      [2.718735651527226, -3.648453944305951]   \n",
      "7     [2.9179580226115904, -4.147828614075888]   \n",
      "8       [3.92035955711603, -4.648407777413555]   \n",
      "9    [3.3605341375002142, -3.5497949597559915]   \n",
      "10    [3.447537357439586, -2.7924781464295907]   \n",
      "11   [3.6212503424705504, -1.4351273446891888]   \n",
      "12    [3.841142384991372, -1.8328476173831514]   \n",
      "13      [4.305389527555864, -1.78909153597826]   \n",
      "14     [4.877655646763615, -2.717612977645571]   \n",
      "15    [4.850196002038388, -3.1906129376799175]   \n",
      "16     [4.609943144154047, -4.152180917049035]   \n",
      "17                                     [0, -5]   \n",
      "18  [1.2645582666066577, -0.03768933979688027]   \n",
      "19   [2.172284126423549, -0.39970399399834367]   \n",
      "20    [2.636444886288464, -1.4349617077436192]   \n",
      "21    [2.7328251143097395, -1.824497041864432]   \n",
      "22    [2.9388249705586547, -2.842886506819071]   \n",
      "23    [2.9186181169132017, -3.305061044999743]   \n",
      "24   [2.5885063275251414, -3.5016017584520345]   \n",
      "25   [2.4917675253308404, -2.9602044373183145]   \n",
      "26   [2.7740442356021155, -3.3006936224716696]   \n",
      "27     [2.4593292785348284, -4.93511643423398]   \n",
      "28      [2.43124177297522, -3.362083500237562]   \n",
      "29    [2.4368499129339445, -4.747393964290075]   \n",
      "30   [3.0007267951896264, -4.2707980096921885]   \n",
      "31    [2.331755656631883, -4.0909138974601795]   \n",
      "32     [3.123865788032706, -4.040422955751739]   \n",
      "33   [3.9030154883377604, -3.8457832783398933]   \n",
      "34     [3.603690625393797, -3.043972781741597]   \n",
      "35     [3.74769736491928, -2.8945946156452598]   \n",
      "36      [3.59868494389916, -3.468498486834774]   \n",
      "37    [3.661760211424528, -2.4224476331125926]   \n",
      "38    [3.657446431723798, -1.2448858720161857]   \n",
      "39    [4.583563391478431, -1.2017978960067994]   \n",
      "40    [4.1762070671487885, -2.526097446025107]   \n",
      "41    [4.435808965771289, -2.8105436278463287]   \n",
      "42     [4.633835633741829, -3.052630297935312]   \n",
      "\n",
      "                                               a0  \\\n",
      "0    [0.7404359294283193, -0.5054905916014351, 0]   \n",
      "1    [1.8158007643365537, -0.9688578309131293, 0]   \n",
      "2   [1.8228848958305346, -0.36826430710135727, 0]   \n",
      "3    [2.817315131195473, -0.17731555585153613, 0]   \n",
      "4     [2.700068032210292, -1.1316432391611566, 0]   \n",
      "5     [2.8164631475496704, -2.232408561884207, 0]   \n",
      "6      [2.718735651527226, -3.648453944305951, 0]   \n",
      "7     [2.9179580226115904, -4.147828614075888, 0]   \n",
      "8       [3.92035955711603, -4.648407777413555, 0]   \n",
      "9    [3.3605341375002142, -3.5497949597559915, 0]   \n",
      "10    [3.447537357439586, -2.7924781464295907, 0]   \n",
      "11   [3.6212503424705504, -1.4351273446891888, 0]   \n",
      "12    [3.841142384991372, -1.8328476173831514, 0]   \n",
      "13      [4.305389527555864, -1.78909153597826, 0]   \n",
      "14     [4.877655646763615, -2.717612977645571, 0]   \n",
      "15    [4.850196002038388, -3.1906129376799175, 0]   \n",
      "16     [4.609943144154047, -4.152180917049035, 0]   \n",
      "17                                     [0, -5, 0]   \n",
      "18  [1.2645582666066577, -0.03768933979688027, 0]   \n",
      "19   [2.172284126423549, -0.39970399399834367, 0]   \n",
      "20    [2.636444886288464, -1.4349617077436192, 0]   \n",
      "21    [2.7328251143097395, -1.824497041864432, 0]   \n",
      "22    [2.9388249705586547, -2.842886506819071, 0]   \n",
      "23    [2.9186181169132017, -3.305061044999743, 0]   \n",
      "24   [2.5885063275251414, -3.5016017584520345, 0]   \n",
      "25   [2.4917675253308404, -2.9602044373183145, 0]   \n",
      "26   [2.7740442356021155, -3.3006936224716696, 0]   \n",
      "27     [2.4593292785348284, -4.93511643423398, 0]   \n",
      "28      [2.43124177297522, -3.362083500237562, 0]   \n",
      "29    [2.4368499129339445, -4.747393964290075, 0]   \n",
      "30   [3.0007267951896264, -4.2707980096921885, 0]   \n",
      "31    [2.331755656631883, -4.0909138974601795, 0]   \n",
      "32     [3.123865788032706, -4.040422955751739, 0]   \n",
      "33   [3.9030154883377604, -3.8457832783398933, 0]   \n",
      "34     [3.603690625393797, -3.043972781741597, 0]   \n",
      "35     [3.74769736491928, -2.8945946156452598, 0]   \n",
      "36      [3.59868494389916, -3.468498486834774, 0]   \n",
      "37    [3.661760211424528, -2.4224476331125926, 0]   \n",
      "38    [3.657446431723798, -1.2448858720161857, 0]   \n",
      "39    [4.583563391478431, -1.2017978960067994, 0]   \n",
      "40    [4.1762070671487885, -2.526097446025107, 0]   \n",
      "41    [4.435808965771289, -2.8105436278463287, 0]   \n",
      "42     [4.633835633741829, -3.052630297935312, 0]   \n",
      "\n",
      "                                               a1  \\\n",
      "0    [0.7404359294283193, -0.5054905916014351, 1]   \n",
      "1    [1.8158007643365537, -0.9688578309131293, 1]   \n",
      "2   [1.8228848958305346, -0.36826430710135727, 1]   \n",
      "3    [2.817315131195473, -0.17731555585153613, 1]   \n",
      "4     [2.700068032210292, -1.1316432391611566, 1]   \n",
      "5     [2.8164631475496704, -2.232408561884207, 1]   \n",
      "6      [2.718735651527226, -3.648453944305951, 1]   \n",
      "7     [2.9179580226115904, -4.147828614075888, 1]   \n",
      "8       [3.92035955711603, -4.648407777413555, 1]   \n",
      "9    [3.3605341375002142, -3.5497949597559915, 1]   \n",
      "10    [3.447537357439586, -2.7924781464295907, 1]   \n",
      "11   [3.6212503424705504, -1.4351273446891888, 1]   \n",
      "12    [3.841142384991372, -1.8328476173831514, 1]   \n",
      "13      [4.305389527555864, -1.78909153597826, 1]   \n",
      "14     [4.877655646763615, -2.717612977645571, 1]   \n",
      "15    [4.850196002038388, -3.1906129376799175, 1]   \n",
      "16     [4.609943144154047, -4.152180917049035, 1]   \n",
      "17                                     [0, -5, 1]   \n",
      "18  [1.2645582666066577, -0.03768933979688027, 1]   \n",
      "19   [2.172284126423549, -0.39970399399834367, 1]   \n",
      "20    [2.636444886288464, -1.4349617077436192, 1]   \n",
      "21    [2.7328251143097395, -1.824497041864432, 1]   \n",
      "22    [2.9388249705586547, -2.842886506819071, 1]   \n",
      "23    [2.9186181169132017, -3.305061044999743, 1]   \n",
      "24   [2.5885063275251414, -3.5016017584520345, 1]   \n",
      "25   [2.4917675253308404, -2.9602044373183145, 1]   \n",
      "26   [2.7740442356021155, -3.3006936224716696, 1]   \n",
      "27     [2.4593292785348284, -4.93511643423398, 1]   \n",
      "28      [2.43124177297522, -3.362083500237562, 1]   \n",
      "29    [2.4368499129339445, -4.747393964290075, 1]   \n",
      "30   [3.0007267951896264, -4.2707980096921885, 1]   \n",
      "31    [2.331755656631883, -4.0909138974601795, 1]   \n",
      "32     [3.123865788032706, -4.040422955751739, 1]   \n",
      "33   [3.9030154883377604, -3.8457832783398933, 1]   \n",
      "34     [3.603690625393797, -3.043972781741597, 1]   \n",
      "35     [3.74769736491928, -2.8945946156452598, 1]   \n",
      "36      [3.59868494389916, -3.468498486834774, 1]   \n",
      "37    [3.661760211424528, -2.4224476331125926, 1]   \n",
      "38    [3.657446431723798, -1.2448858720161857, 1]   \n",
      "39    [4.583563391478431, -1.2017978960067994, 1]   \n",
      "40    [4.1762070671487885, -2.526097446025107, 1]   \n",
      "41    [4.435808965771289, -2.8105436278463287, 1]   \n",
      "42     [4.633835633741829, -3.052630297935312, 1]   \n",
      "\n",
      "                                               a2  \\\n",
      "0    [0.7404359294283193, -0.5054905916014351, 2]   \n",
      "1    [1.8158007643365537, -0.9688578309131293, 2]   \n",
      "2   [1.8228848958305346, -0.36826430710135727, 2]   \n",
      "3    [2.817315131195473, -0.17731555585153613, 2]   \n",
      "4     [2.700068032210292, -1.1316432391611566, 2]   \n",
      "5     [2.8164631475496704, -2.232408561884207, 2]   \n",
      "6      [2.718735651527226, -3.648453944305951, 2]   \n",
      "7     [2.9179580226115904, -4.147828614075888, 2]   \n",
      "8       [3.92035955711603, -4.648407777413555, 2]   \n",
      "9    [3.3605341375002142, -3.5497949597559915, 2]   \n",
      "10    [3.447537357439586, -2.7924781464295907, 2]   \n",
      "11   [3.6212503424705504, -1.4351273446891888, 2]   \n",
      "12    [3.841142384991372, -1.8328476173831514, 2]   \n",
      "13      [4.305389527555864, -1.78909153597826, 2]   \n",
      "14     [4.877655646763615, -2.717612977645571, 2]   \n",
      "15    [4.850196002038388, -3.1906129376799175, 2]   \n",
      "16     [4.609943144154047, -4.152180917049035, 2]   \n",
      "17                                     [0, -5, 2]   \n",
      "18  [1.2645582666066577, -0.03768933979688027, 2]   \n",
      "19   [2.172284126423549, -0.39970399399834367, 2]   \n",
      "20    [2.636444886288464, -1.4349617077436192, 2]   \n",
      "21    [2.7328251143097395, -1.824497041864432, 2]   \n",
      "22    [2.9388249705586547, -2.842886506819071, 2]   \n",
      "23    [2.9186181169132017, -3.305061044999743, 2]   \n",
      "24   [2.5885063275251414, -3.5016017584520345, 2]   \n",
      "25   [2.4917675253308404, -2.9602044373183145, 2]   \n",
      "26   [2.7740442356021155, -3.3006936224716696, 2]   \n",
      "27     [2.4593292785348284, -4.93511643423398, 2]   \n",
      "28      [2.43124177297522, -3.362083500237562, 2]   \n",
      "29    [2.4368499129339445, -4.747393964290075, 2]   \n",
      "30   [3.0007267951896264, -4.2707980096921885, 2]   \n",
      "31    [2.331755656631883, -4.0909138974601795, 2]   \n",
      "32     [3.123865788032706, -4.040422955751739, 2]   \n",
      "33   [3.9030154883377604, -3.8457832783398933, 2]   \n",
      "34     [3.603690625393797, -3.043972781741597, 2]   \n",
      "35     [3.74769736491928, -2.8945946156452598, 2]   \n",
      "36      [3.59868494389916, -3.468498486834774, 2]   \n",
      "37    [3.661760211424528, -2.4224476331125926, 2]   \n",
      "38    [3.657446431723798, -1.2448858720161857, 2]   \n",
      "39    [4.583563391478431, -1.2017978960067994, 2]   \n",
      "40    [4.1762070671487885, -2.526097446025107, 2]   \n",
      "41    [4.435808965771289, -2.8105436278463287, 2]   \n",
      "42     [4.633835633741829, -3.052630297935312, 2]   \n",
      "\n",
      "                                               a3  \n",
      "0    [0.7404359294283193, -0.5054905916014351, 3]  \n",
      "1    [1.8158007643365537, -0.9688578309131293, 3]  \n",
      "2   [1.8228848958305346, -0.36826430710135727, 3]  \n",
      "3    [2.817315131195473, -0.17731555585153613, 3]  \n",
      "4     [2.700068032210292, -1.1316432391611566, 3]  \n",
      "5     [2.8164631475496704, -2.232408561884207, 3]  \n",
      "6      [2.718735651527226, -3.648453944305951, 3]  \n",
      "7     [2.9179580226115904, -4.147828614075888, 3]  \n",
      "8       [3.92035955711603, -4.648407777413555, 3]  \n",
      "9    [3.3605341375002142, -3.5497949597559915, 3]  \n",
      "10    [3.447537357439586, -2.7924781464295907, 3]  \n",
      "11   [3.6212503424705504, -1.4351273446891888, 3]  \n",
      "12    [3.841142384991372, -1.8328476173831514, 3]  \n",
      "13      [4.305389527555864, -1.78909153597826, 3]  \n",
      "14     [4.877655646763615, -2.717612977645571, 3]  \n",
      "15    [4.850196002038388, -3.1906129376799175, 3]  \n",
      "16     [4.609943144154047, -4.152180917049035, 3]  \n",
      "17                                     [0, -5, 3]  \n",
      "18  [1.2645582666066577, -0.03768933979688027, 3]  \n",
      "19   [2.172284126423549, -0.39970399399834367, 3]  \n",
      "20    [2.636444886288464, -1.4349617077436192, 3]  \n",
      "21    [2.7328251143097395, -1.824497041864432, 3]  \n",
      "22    [2.9388249705586547, -2.842886506819071, 3]  \n",
      "23    [2.9186181169132017, -3.305061044999743, 3]  \n",
      "24   [2.5885063275251414, -3.5016017584520345, 3]  \n",
      "25   [2.4917675253308404, -2.9602044373183145, 3]  \n",
      "26   [2.7740442356021155, -3.3006936224716696, 3]  \n",
      "27     [2.4593292785348284, -4.93511643423398, 3]  \n",
      "28      [2.43124177297522, -3.362083500237562, 3]  \n",
      "29    [2.4368499129339445, -4.747393964290075, 3]  \n",
      "30   [3.0007267951896264, -4.2707980096921885, 3]  \n",
      "31    [2.331755656631883, -4.0909138974601795, 3]  \n",
      "32     [3.123865788032706, -4.040422955751739, 3]  \n",
      "33   [3.9030154883377604, -3.8457832783398933, 3]  \n",
      "34     [3.603690625393797, -3.043972781741597, 3]  \n",
      "35     [3.74769736491928, -2.8945946156452598, 3]  \n",
      "36      [3.59868494389916, -3.468498486834774, 3]  \n",
      "37    [3.661760211424528, -2.4224476331125926, 3]  \n",
      "38    [3.657446431723798, -1.2448858720161857, 3]  \n",
      "39    [4.583563391478431, -1.2017978960067994, 3]  \n",
      "40    [4.1762070671487885, -2.526097446025107, 3]  \n",
      "41    [4.435808965771289, -2.8105436278463287, 3]  \n",
      "42     [4.633835633741829, -3.052630297935312, 3]  \n"
     ]
    },
    {
     "name": "stdout",
     "output_type": "stream",
     "text": [
      "New training features\n",
      "    FEATURE_0  FEATURE_1 ACTION\n",
      "0    0.877380  -0.022002      0\n",
      "1    0.697367  -0.838886      2\n",
      "2    1.243616  -0.187872      0\n",
      "3    1.194918  -0.284411      2\n",
      "4    2.195323  -0.764018      1\n",
      "5    2.159470  -1.158964      1\n",
      "6    2.672219  -2.688341      1\n",
      "7    2.581690  -3.977404      1\n",
      "8    2.837970  -4.479477      2\n",
      "9    3.420578  -4.937371      0\n",
      "10   3.761668  -3.757345      0\n",
      "11   3.253474  -2.695966      0\n",
      "12   3.943273  -1.198892      3\n",
      "13   3.319916  -1.152108      2\n",
      "14   4.831362  -1.657778      1\n",
      "15   4.294576  -2.027258      1\n",
      "16   4.805961  -3.733223      1\n",
      "17   4.898834  -4.481050      4\n",
      "18   0.321454  -0.627218      2\n",
      "19   1.085346  -0.294924      2\n",
      "20   2.888028  -0.479960      1\n",
      "21   2.231688  -1.188887      3\n",
      "22   2.039955  -1.825072      1\n",
      "23   2.011798  -2.566105      1\n",
      "24   2.305226  -3.814970      3\n",
      "25   2.179751  -3.860991      0\n",
      "26   2.471489  -2.009591      1\n",
      "27   2.513978  -3.662488      1\n",
      "28   2.911400  -4.831281      0\n",
      "29   2.486032  -3.436811      1\n",
      "30   2.751065  -4.901625      2\n",
      "31   3.565861  -4.008212      3\n",
      "32   2.820235  -4.928482      2\n",
      "33   3.337889  -4.335005      0\n",
      "34   3.044246  -3.747819      2\n",
      "35   3.518571  -3.439870      0\n",
      "36   3.174938  -2.065789      1\n",
      "37   3.912050  -3.163639      0\n",
      "38   3.258174  -2.013902      0\n",
      "39   3.337577  -1.667188      2\n",
      "40   4.488001  -1.495567      1\n",
      "41   4.701325  -2.646401      2\n",
      "42   4.273979  -2.267673      1\n"
     ]
    },
    {
     "name": "stderr",
     "output_type": "stream",
     "text": [
      "100%|██████████| 100/100 [01:23<00:00,  1.20it/s]\n",
      "Splitting... |#Clusters:2:   0%|          | 0/23 [00:00<?, ?it/s]"
     ]
    },
    {
     "name": "stdout",
     "output_type": "stream",
     "text": [
      "N= 2  completed\n",
      "Clusters Initialized\n",
      "    ID  TIME  FEATURE_0  FEATURE_1 ACTION   RISK  OG_CLUSTER  CLUSTER  \\\n",
      "0    0     0   0.877380  -0.022002      0 -0.004           0        0   \n",
      "1    0     1   0.697367  -0.838886      2 -0.004           0        0   \n",
      "2    0     2   1.243616  -0.187872      0 -0.004           1        0   \n",
      "3    0     3   1.194918  -0.284411      2 -0.004           1        0   \n",
      "4    0     4   2.195323  -0.764018      1 -0.004           2        0   \n",
      "..  ..   ...        ...        ...    ...    ...         ...      ...   \n",
      "63   2    20   3.399181  -2.435424      2 -0.004          13        0   \n",
      "64   2    21   3.951357  -2.126681      0 -0.004          13        0   \n",
      "65   2    22   3.749557  -1.351670      2 -0.004           8        0   \n",
      "66   2    23   4.730149  -1.862744      1 -0.004           9        0   \n",
      "67   2    24   4.713666  -2.726934      1 -0.004          14        0   \n",
      "\n",
      "   NEXT_CLUSTER  \n",
      "0             0  \n",
      "1             0  \n",
      "2             0  \n",
      "3             0  \n",
      "4             0  \n",
      "..          ...  \n",
      "63            0  \n",
      "64            0  \n",
      "65            0  \n",
      "66            0  \n",
      "67         None  \n",
      "\n",
      "[68 rows x 9 columns]\n"
     ]
    },
    {
     "name": "stderr",
     "output_type": "stream",
     "text": [
      "Splitting... |#Clusters:12:  43%|████▎     | 10/23 [00:02<00:04,  3.06it/s]"
     ]
    },
    {
     "name": "stdout",
     "output_type": "stream",
     "text": [
      "WARNING: Trying to predict next state from state 7 taking action 3 , but this transition is never seen in the data. Data point: 1 14\n",
      "WARNING: Trying to predict next state from state 7 taking action 2 , but this transition is never seen in the data. Data point: 1 15\n",
      "WARNING: Trying to predict next state from state 9 taking action 3 , but this transition is never seen in the data. Data point: 2 18\n",
      "WARNING: In training value evaluation, trying to predict next state from state 7 taking action 3 , but this transition is never seen in the data. Data point: 1 13\n",
      "WARNING: In training value evaluation, trying to predict next state from state 7 taking action 2 , but this transition is never seen in the data. Data point: 1 14\n",
      "WARNING: In training value evaluation, trying to predict next state from state 9 taking action 3 , but this transition is never seen in the data. Data point: 2 17\n",
      "WARNING: In training value evaluation, trying to predict next state from state 6 taking action 1 , but this transition is never seen in the data. Data point: 2 23\n"
     ]
    },
    {
     "name": "stderr",
     "output_type": "stream",
     "text": [
      "Splitting... |#Clusters:13:  48%|████▊     | 11/23 [00:03<00:04,  2.74it/s]"
     ]
    },
    {
     "name": "stdout",
     "output_type": "stream",
     "text": [
      "WARNING: Trying to predict next state from state 11 taking action 1 , but this transition is never seen in the data. Data point: 0 5\n",
      "WARNING: Trying to predict next state from state 11 taking action 1 , but this transition is never seen in the data. Data point: 0 6\n",
      "WARNING: Trying to predict next state from state 11 taking action 1 , but this transition is never seen in the data. Data point: 0 7\n",
      "WARNING: Trying to predict next state from state 11 taking action 1 , but this transition is never seen in the data. Data point: 0 8\n",
      "WARNING: Trying to predict next state from state 0 taking action 0 , but this transition is never seen in the data. Data point: 0 10\n",
      "WARNING: Trying to predict next state from state 0 taking action 0 , but this transition is never seen in the data. Data point: 0 11\n",
      "WARNING: Trying to predict next state from state 0 taking action 0 , but this transition is never seen in the data. Data point: 0 12\n",
      "WARNING: Trying to predict next state from state 7 taking action 3 , but this transition is never seen in the data. Data point: 1 14\n",
      "WARNING: Trying to predict next state from state 7 taking action 2 , but this transition is never seen in the data. Data point: 1 15\n",
      "WARNING: Trying to predict next state from state 11 taking action 1 , but this transition is never seen in the data. Data point: 2 6\n",
      "WARNING: Trying to predict next state from state 11 taking action 1 , but this transition is never seen in the data. Data point: 2 7\n",
      "WARNING: Trying to predict next state from state 11 taking action 1 , but this transition is never seen in the data. Data point: 2 8\n",
      "WARNING: Trying to predict next state from state 11 taking action 1 , but this transition is never seen in the data. Data point: 2 9\n",
      "WARNING: Trying to predict next state from state 11 taking action 1 , but this transition is never seen in the data. Data point: 2 10\n",
      "WARNING: Trying to predict next state from state 0 taking action 0 , but this transition is never seen in the data. Data point: 2 12\n",
      "WARNING: Trying to predict next state from state 9 taking action 3 , but this transition is never seen in the data. Data point: 2 18\n",
      "WARNING: In training value evaluation, trying to predict next state from state 11 taking action 1 , but this transition is never seen in the data. Data point: 0 4\n",
      "WARNING: In training value evaluation, trying to predict next state from state 11 taking action 1 , but this transition is never seen in the data. Data point: 0 5\n",
      "WARNING: In training value evaluation, trying to predict next state from state 11 taking action 1 , but this transition is never seen in the data. Data point: 0 6\n",
      "WARNING: In training value evaluation, trying to predict next state from state 11 taking action 1 , but this transition is never seen in the data. Data point: 0 7\n",
      "WARNING: In training value evaluation, trying to predict next state from state 0 taking action 0 , but this transition is never seen in the data. Data point: 0 9\n",
      "WARNING: In training value evaluation, trying to predict next state from state 0 taking action 0 , but this transition is never seen in the data. Data point: 0 10\n",
      "WARNING: In training value evaluation, trying to predict next state from state 0 taking action 0 , but this transition is never seen in the data. Data point: 0 11\n",
      "WARNING: In training value evaluation, trying to predict next state from state 7 taking action 3 , but this transition is never seen in the data. Data point: 1 13\n",
      "WARNING: In training value evaluation, trying to predict next state from state 7 taking action 2 , but this transition is never seen in the data. Data point: 1 14\n",
      "WARNING: In training value evaluation, trying to predict next state from state 11 taking action 1 , but this transition is never seen in the data. Data point: 2 5\n",
      "WARNING: In training value evaluation, trying to predict next state from state 11 taking action 1 , but this transition is never seen in the data. Data point: 2 6\n",
      "WARNING: In training value evaluation, trying to predict next state from state 11 taking action 1 , but this transition is never seen in the data. Data point: 2 7\n",
      "WARNING: In training value evaluation, trying to predict next state from state 11 taking action 1 , but this transition is never seen in the data. Data point: 2 8\n",
      "WARNING: In training value evaluation, trying to predict next state from state 11 taking action 1 , but this transition is never seen in the data. Data point: 2 9\n",
      "WARNING: In training value evaluation, trying to predict next state from state 0 taking action 0 , but this transition is never seen in the data. Data point: 2 11\n",
      "WARNING: In training value evaluation, trying to predict next state from state 9 taking action 3 , but this transition is never seen in the data. Data point: 2 17\n",
      "WARNING: In training value evaluation, trying to predict next state from state 6 taking action 1 , but this transition is never seen in the data. Data point: 2 23\n"
     ]
    },
    {
     "name": "stderr",
     "output_type": "stream",
     "text": [
      "Splitting... |#Clusters:14:  52%|█████▏    | 12/23 [00:03<00:04,  2.68it/s]"
     ]
    },
    {
     "name": "stdout",
     "output_type": "stream",
     "text": [
      "WARNING: Trying to predict next state from state 11 taking action 1 , but this transition is never seen in the data. Data point: 0 5\n",
      "WARNING: Trying to predict next state from state 11 taking action 1 , but this transition is never seen in the data. Data point: 0 6\n",
      "WARNING: Trying to predict next state from state 11 taking action 1 , but this transition is never seen in the data. Data point: 0 7\n",
      "WARNING: Trying to predict next state from state 11 taking action 1 , but this transition is never seen in the data. Data point: 0 8\n",
      "WARNING: Trying to predict next state from state 0 taking action 0 , but this transition is never seen in the data. Data point: 0 10\n",
      "WARNING: Trying to predict next state from state 0 taking action 0 , but this transition is never seen in the data. Data point: 0 11\n",
      "WARNING: Trying to predict next state from state 0 taking action 0 , but this transition is never seen in the data. Data point: 0 12\n",
      "WARNING: Trying to predict next state from state 0 taking action 3 , but this transition is never seen in the data. Data point: 0 13\n",
      "WARNING: Trying to predict next state from state 11 taking action 1 , but this transition is never seen in the data. Data point: 0 15\n",
      "WARNING: Trying to predict next state from state 11 taking action 1 , but this transition is never seen in the data. Data point: 0 16\n",
      "WARNING: Trying to predict next state from state 7 taking action 3 , but this transition is never seen in the data. Data point: 1 14\n",
      "WARNING: Trying to predict next state from state 7 taking action 2 , but this transition is never seen in the data. Data point: 1 15\n",
      "WARNING: Trying to predict next state from state 12 taking action 3 , but this transition is never seen in the data. Data point: 2 3\n",
      "WARNING: Trying to predict next state from state 9 taking action 3 , but this transition is never seen in the data. Data point: 2 18\n",
      "WARNING: In training value evaluation, trying to predict next state from state 11 taking action 1 , but this transition is never seen in the data. Data point: 0 4\n",
      "WARNING: In training value evaluation, trying to predict next state from state 11 taking action 1 , but this transition is never seen in the data. Data point: 0 5\n",
      "WARNING: In training value evaluation, trying to predict next state from state 11 taking action 1 , but this transition is never seen in the data. Data point: 0 6\n",
      "WARNING: In training value evaluation, trying to predict next state from state 11 taking action 1 , but this transition is never seen in the data. Data point: 0 7\n",
      "WARNING: In training value evaluation, trying to predict next state from state 0 taking action 0 , but this transition is never seen in the data. Data point: 0 9\n",
      "WARNING: In training value evaluation, trying to predict next state from state 0 taking action 0 , but this transition is never seen in the data. Data point: 0 10\n",
      "WARNING: In training value evaluation, trying to predict next state from state 0 taking action 0 , but this transition is never seen in the data. Data point: 0 11\n",
      "WARNING: In training value evaluation, trying to predict next state from state 0 taking action 3 , but this transition is never seen in the data. Data point: 0 12\n",
      "WARNING: In training value evaluation, trying to predict next state from state 11 taking action 1 , but this transition is never seen in the data. Data point: 0 14\n",
      "WARNING: In training value evaluation, trying to predict next state from state 11 taking action 1 , but this transition is never seen in the data. Data point: 0 15\n",
      "WARNING: In training value evaluation, trying to predict next state from state 11 taking action 1 , but this transition is never seen in the data. Data point: 0 16\n",
      "WARNING: In training value evaluation, trying to predict next state from state 7 taking action 3 , but this transition is never seen in the data. Data point: 1 13\n",
      "WARNING: In training value evaluation, trying to predict next state from state 7 taking action 2 , but this transition is never seen in the data. Data point: 1 14\n",
      "WARNING: In training value evaluation, trying to predict next state from state 12 taking action 3 , but this transition is never seen in the data. Data point: 2 2\n",
      "WARNING: In training value evaluation, trying to predict next state from state 9 taking action 3 , but this transition is never seen in the data. Data point: 2 17\n",
      "WARNING: In training value evaluation, trying to predict next state from state 6 taking action 1 , but this transition is never seen in the data. Data point: 2 23\n"
     ]
    },
    {
     "name": "stderr",
     "output_type": "stream",
     "text": [
      "Splitting... |#Clusters:15:  57%|█████▋    | 13/23 [00:04<00:03,  2.55it/s]"
     ]
    },
    {
     "name": "stdout",
     "output_type": "stream",
     "text": [
      "WARNING: Trying to predict next state from state 11 taking action 1 , but this transition is never seen in the data. Data point: 0 5\n",
      "WARNING: Trying to predict next state from state 11 taking action 1 , but this transition is never seen in the data. Data point: 0 6\n",
      "WARNING: Trying to predict next state from state 11 taking action 1 , but this transition is never seen in the data. Data point: 0 7\n",
      "WARNING: Trying to predict next state from state 11 taking action 1 , but this transition is never seen in the data. Data point: 0 8\n",
      "WARNING: Trying to predict next state from state 0 taking action 0 , but this transition is never seen in the data. Data point: 0 10\n",
      "WARNING: Trying to predict next state from state 0 taking action 0 , but this transition is never seen in the data. Data point: 0 11\n",
      "WARNING: Trying to predict next state from state 0 taking action 0 , but this transition is never seen in the data. Data point: 0 12\n",
      "WARNING: Trying to predict next state from state 0 taking action 3 , but this transition is never seen in the data. Data point: 0 13\n",
      "WARNING: Trying to predict next state from state 11 taking action 1 , but this transition is never seen in the data. Data point: 0 15\n",
      "WARNING: Trying to predict next state from state 11 taking action 1 , but this transition is never seen in the data. Data point: 0 16\n",
      "WARNING: Trying to predict next state from state 7 taking action 3 , but this transition is never seen in the data. Data point: 1 14\n",
      "WARNING: Trying to predict next state from state 7 taking action 2 , but this transition is never seen in the data. Data point: 1 15\n",
      "WARNING: Trying to predict next state from state 12 taking action 3 , but this transition is never seen in the data. Data point: 2 3\n",
      "WARNING: Trying to predict next state from state 9 taking action 3 , but this transition is never seen in the data. Data point: 2 18\n",
      "WARNING: In training value evaluation, trying to predict next state from state 11 taking action 1 , but this transition is never seen in the data. Data point: 0 4\n",
      "WARNING: In training value evaluation, trying to predict next state from state 11 taking action 1 , but this transition is never seen in the data. Data point: 0 5\n",
      "WARNING: In training value evaluation, trying to predict next state from state 11 taking action 1 , but this transition is never seen in the data. Data point: 0 6\n",
      "WARNING: In training value evaluation, trying to predict next state from state 11 taking action 1 , but this transition is never seen in the data. Data point: 0 7\n",
      "WARNING: In training value evaluation, trying to predict next state from state 0 taking action 0 , but this transition is never seen in the data. Data point: 0 9\n",
      "WARNING: In training value evaluation, trying to predict next state from state 0 taking action 0 , but this transition is never seen in the data. Data point: 0 10\n",
      "WARNING: In training value evaluation, trying to predict next state from state 0 taking action 0 , but this transition is never seen in the data. Data point: 0 11\n",
      "WARNING: In training value evaluation, trying to predict next state from state 0 taking action 3 , but this transition is never seen in the data. Data point: 0 12\n",
      "WARNING: In training value evaluation, trying to predict next state from state 11 taking action 1 , but this transition is never seen in the data. Data point: 0 14\n",
      "WARNING: In training value evaluation, trying to predict next state from state 11 taking action 1 , but this transition is never seen in the data. Data point: 0 15\n",
      "WARNING: In training value evaluation, trying to predict next state from state 11 taking action 1 , but this transition is never seen in the data. Data point: 0 16\n",
      "WARNING: In training value evaluation, trying to predict next state from state 7 taking action 3 , but this transition is never seen in the data. Data point: 1 13\n",
      "WARNING: In training value evaluation, trying to predict next state from state 7 taking action 2 , but this transition is never seen in the data. Data point: 1 14\n",
      "WARNING: In training value evaluation, trying to predict next state from state 12 taking action 3 , but this transition is never seen in the data. Data point: 2 2\n",
      "WARNING: In training value evaluation, trying to predict next state from state 9 taking action 3 , but this transition is never seen in the data. Data point: 2 17\n",
      "WARNING: In training value evaluation, trying to predict next state from state 6 taking action 1 , but this transition is never seen in the data. Data point: 2 23\n"
     ]
    },
    {
     "name": "stderr",
     "output_type": "stream",
     "text": [
      "Splitting... |#Clusters:16:  61%|██████    | 14/23 [00:04<00:03,  2.44it/s]"
     ]
    },
    {
     "name": "stdout",
     "output_type": "stream",
     "text": [
      "WARNING: Trying to predict next state from state 11 taking action 1 , but this transition is never seen in the data. Data point: 0 5\n",
      "WARNING: Trying to predict next state from state 11 taking action 1 , but this transition is never seen in the data. Data point: 0 6\n",
      "WARNING: Trying to predict next state from state 11 taking action 1 , but this transition is never seen in the data. Data point: 0 7\n",
      "WARNING: Trying to predict next state from state 11 taking action 1 , but this transition is never seen in the data. Data point: 0 8\n",
      "WARNING: Trying to predict next state from state 0 taking action 0 , but this transition is never seen in the data. Data point: 0 10\n",
      "WARNING: Trying to predict next state from state 0 taking action 0 , but this transition is never seen in the data. Data point: 0 11\n",
      "WARNING: Trying to predict next state from state 0 taking action 0 , but this transition is never seen in the data. Data point: 0 12\n",
      "WARNING: Trying to predict next state from state 0 taking action 3 , but this transition is never seen in the data. Data point: 0 13\n",
      "WARNING: Trying to predict next state from state 11 taking action 1 , but this transition is never seen in the data. Data point: 0 15\n",
      "WARNING: Trying to predict next state from state 11 taking action 1 , but this transition is never seen in the data. Data point: 0 16\n",
      "WARNING: Trying to predict next state from state 7 taking action 3 , but this transition is never seen in the data. Data point: 1 14\n",
      "WARNING: Trying to predict next state from state 7 taking action 2 , but this transition is never seen in the data. Data point: 1 15\n",
      "WARNING: Trying to predict next state from state 12 taking action 3 , but this transition is never seen in the data. Data point: 2 3\n",
      "WARNING: Trying to predict next state from state 9 taking action 3 , but this transition is never seen in the data. Data point: 2 18\n",
      "WARNING: In training value evaluation, trying to predict next state from state 11 taking action 1 , but this transition is never seen in the data. Data point: 0 4\n",
      "WARNING: In training value evaluation, trying to predict next state from state 11 taking action 1 , but this transition is never seen in the data. Data point: 0 5\n",
      "WARNING: In training value evaluation, trying to predict next state from state 11 taking action 1 , but this transition is never seen in the data. Data point: 0 6\n",
      "WARNING: In training value evaluation, trying to predict next state from state 11 taking action 1 , but this transition is never seen in the data. Data point: 0 7\n",
      "WARNING: In training value evaluation, trying to predict next state from state 0 taking action 0 , but this transition is never seen in the data. Data point: 0 9\n",
      "WARNING: In training value evaluation, trying to predict next state from state 0 taking action 0 , but this transition is never seen in the data. Data point: 0 10\n",
      "WARNING: In training value evaluation, trying to predict next state from state 0 taking action 0 , but this transition is never seen in the data. Data point: 0 11\n",
      "WARNING: In training value evaluation, trying to predict next state from state 0 taking action 3 , but this transition is never seen in the data. Data point: 0 12\n",
      "WARNING: In training value evaluation, trying to predict next state from state 11 taking action 1 , but this transition is never seen in the data. Data point: 0 14\n",
      "WARNING: In training value evaluation, trying to predict next state from state 11 taking action 1 , but this transition is never seen in the data. Data point: 0 15\n",
      "WARNING: In training value evaluation, trying to predict next state from state 11 taking action 1 , but this transition is never seen in the data. Data point: 0 16\n",
      "WARNING: In training value evaluation, trying to predict next state from state 7 taking action 3 , but this transition is never seen in the data. Data point: 1 13\n",
      "WARNING: In training value evaluation, trying to predict next state from state 7 taking action 2 , but this transition is never seen in the data. Data point: 1 14\n",
      "WARNING: In training value evaluation, trying to predict next state from state 12 taking action 3 , but this transition is never seen in the data. Data point: 2 2\n",
      "WARNING: In training value evaluation, trying to predict next state from state 9 taking action 3 , but this transition is never seen in the data. Data point: 2 17\n",
      "WARNING: In training value evaluation, trying to predict next state from state 6 taking action 1 , but this transition is never seen in the data. Data point: 2 23\n"
     ]
    },
    {
     "name": "stderr",
     "output_type": "stream",
     "text": [
      "Splitting... |#Clusters:17:  65%|██████▌   | 15/23 [00:05<00:03,  2.40it/s]"
     ]
    },
    {
     "name": "stdout",
     "output_type": "stream",
     "text": [
      "WARNING: Trying to predict next state from state 11 taking action 1 , but this transition is never seen in the data. Data point: 0 5\n",
      "WARNING: Trying to predict next state from state 11 taking action 1 , but this transition is never seen in the data. Data point: 0 6\n",
      "WARNING: Trying to predict next state from state 11 taking action 1 , but this transition is never seen in the data. Data point: 0 7\n",
      "WARNING: Trying to predict next state from state 11 taking action 1 , but this transition is never seen in the data. Data point: 0 8\n",
      "WARNING: Trying to predict next state from state 0 taking action 0 , but this transition is never seen in the data. Data point: 0 10\n",
      "WARNING: Trying to predict next state from state 0 taking action 0 , but this transition is never seen in the data. Data point: 0 11\n",
      "WARNING: Trying to predict next state from state 0 taking action 0 , but this transition is never seen in the data. Data point: 0 12\n",
      "WARNING: Trying to predict next state from state 0 taking action 3 , but this transition is never seen in the data. Data point: 0 13\n",
      "WARNING: Trying to predict next state from state 11 taking action 1 , but this transition is never seen in the data. Data point: 0 15\n",
      "WARNING: Trying to predict next state from state 11 taking action 1 , but this transition is never seen in the data. Data point: 0 16\n",
      "WARNING: Trying to predict next state from state 7 taking action 3 , but this transition is never seen in the data. Data point: 1 14\n",
      "WARNING: Trying to predict next state from state 7 taking action 2 , but this transition is never seen in the data. Data point: 1 15\n",
      "WARNING: Trying to predict next state from state 12 taking action 3 , but this transition is never seen in the data. Data point: 2 3\n",
      "WARNING: Trying to predict next state from state 9 taking action 3 , but this transition is never seen in the data. Data point: 2 18\n",
      "WARNING: In training value evaluation, trying to predict next state from state 11 taking action 1 , but this transition is never seen in the data. Data point: 0 4\n",
      "WARNING: In training value evaluation, trying to predict next state from state 11 taking action 1 , but this transition is never seen in the data. Data point: 0 5\n",
      "WARNING: In training value evaluation, trying to predict next state from state 11 taking action 1 , but this transition is never seen in the data. Data point: 0 6\n",
      "WARNING: In training value evaluation, trying to predict next state from state 11 taking action 1 , but this transition is never seen in the data. Data point: 0 7\n",
      "WARNING: In training value evaluation, trying to predict next state from state 0 taking action 0 , but this transition is never seen in the data. Data point: 0 9\n",
      "WARNING: In training value evaluation, trying to predict next state from state 0 taking action 0 , but this transition is never seen in the data. Data point: 0 10\n",
      "WARNING: In training value evaluation, trying to predict next state from state 0 taking action 0 , but this transition is never seen in the data. Data point: 0 11\n",
      "WARNING: In training value evaluation, trying to predict next state from state 0 taking action 3 , but this transition is never seen in the data. Data point: 0 12\n",
      "WARNING: In training value evaluation, trying to predict next state from state 11 taking action 1 , but this transition is never seen in the data. Data point: 0 14\n",
      "WARNING: In training value evaluation, trying to predict next state from state 11 taking action 1 , but this transition is never seen in the data. Data point: 0 15\n",
      "WARNING: In training value evaluation, trying to predict next state from state 11 taking action 1 , but this transition is never seen in the data. Data point: 0 16\n",
      "WARNING: In training value evaluation, trying to predict next state from state 7 taking action 3 , but this transition is never seen in the data. Data point: 1 13\n",
      "WARNING: In training value evaluation, trying to predict next state from state 7 taking action 2 , but this transition is never seen in the data. Data point: 1 14\n",
      "WARNING: In training value evaluation, trying to predict next state from state 12 taking action 3 , but this transition is never seen in the data. Data point: 2 2\n",
      "WARNING: In training value evaluation, trying to predict next state from state 9 taking action 3 , but this transition is never seen in the data. Data point: 2 17\n",
      "WARNING: In training value evaluation, trying to predict next state from state 6 taking action 1 , but this transition is never seen in the data. Data point: 2 23\n"
     ]
    },
    {
     "name": "stderr",
     "output_type": "stream",
     "text": [
      "Splitting... |#Clusters:18:  70%|██████▉   | 16/23 [00:05<00:02,  2.43it/s]"
     ]
    },
    {
     "name": "stdout",
     "output_type": "stream",
     "text": [
      "WARNING: Trying to predict next state from state 11 taking action 1 , but this transition is never seen in the data. Data point: 0 5\n",
      "WARNING: Trying to predict next state from state 11 taking action 1 , but this transition is never seen in the data. Data point: 0 6\n",
      "WARNING: Trying to predict next state from state 11 taking action 1 , but this transition is never seen in the data. Data point: 0 7\n",
      "WARNING: Trying to predict next state from state 11 taking action 1 , but this transition is never seen in the data. Data point: 0 8\n",
      "WARNING: Trying to predict next state from state 0 taking action 0 , but this transition is never seen in the data. Data point: 0 10\n",
      "WARNING: Trying to predict next state from state 0 taking action 0 , but this transition is never seen in the data. Data point: 0 11\n",
      "WARNING: Trying to predict next state from state 0 taking action 0 , but this transition is never seen in the data. Data point: 0 12\n",
      "WARNING: Trying to predict next state from state 0 taking action 3 , but this transition is never seen in the data. Data point: 0 13\n",
      "WARNING: Trying to predict next state from state 11 taking action 1 , but this transition is never seen in the data. Data point: 0 15\n",
      "WARNING: Trying to predict next state from state 11 taking action 1 , but this transition is never seen in the data. Data point: 0 16\n",
      "WARNING: Trying to predict next state from state 12 taking action 3 , but this transition is never seen in the data. Data point: 2 3\n",
      "WARNING: Trying to predict next state from state 9 taking action 1 , but this transition is never seen in the data. Data point: 2 9\n",
      "WARNING: Trying to predict next state from state 9 taking action 1 , but this transition is never seen in the data. Data point: 2 10\n",
      "WARNING: Trying to predict next state from state 17 taking action 3 , but this transition is never seen in the data. Data point: 2 18\n",
      "WARNING: In training value evaluation, trying to predict next state from state 11 taking action 1 , but this transition is never seen in the data. Data point: 0 4\n",
      "WARNING: In training value evaluation, trying to predict next state from state 11 taking action 1 , but this transition is never seen in the data. Data point: 0 5\n",
      "WARNING: In training value evaluation, trying to predict next state from state 11 taking action 1 , but this transition is never seen in the data. Data point: 0 6\n",
      "WARNING: In training value evaluation, trying to predict next state from state 11 taking action 1 , but this transition is never seen in the data. Data point: 0 7\n",
      "WARNING: In training value evaluation, trying to predict next state from state 0 taking action 0 , but this transition is never seen in the data. Data point: 0 9\n",
      "WARNING: In training value evaluation, trying to predict next state from state 0 taking action 0 , but this transition is never seen in the data. Data point: 0 10\n",
      "WARNING: In training value evaluation, trying to predict next state from state 0 taking action 0 , but this transition is never seen in the data. Data point: 0 11\n",
      "WARNING: In training value evaluation, trying to predict next state from state 0 taking action 3 , but this transition is never seen in the data. Data point: 0 12\n",
      "WARNING: In training value evaluation, trying to predict next state from state 11 taking action 1 , but this transition is never seen in the data. Data point: 0 14\n",
      "WARNING: In training value evaluation, trying to predict next state from state 11 taking action 1 , but this transition is never seen in the data. Data point: 0 15\n",
      "WARNING: In training value evaluation, trying to predict next state from state 11 taking action 1 , but this transition is never seen in the data. Data point: 0 16\n",
      "WARNING: In training value evaluation, trying to predict next state from state 12 taking action 3 , but this transition is never seen in the data. Data point: 2 2\n",
      "WARNING: In training value evaluation, trying to predict next state from state 9 taking action 1 , but this transition is never seen in the data. Data point: 2 8\n",
      "WARNING: In training value evaluation, trying to predict next state from state 9 taking action 1 , but this transition is never seen in the data. Data point: 2 9\n",
      "WARNING: In training value evaluation, trying to predict next state from state 17 taking action 3 , but this transition is never seen in the data. Data point: 2 17\n"
     ]
    },
    {
     "name": "stderr",
     "output_type": "stream",
     "text": [
      "Splitting... |#Clusters:19:  74%|███████▍  | 17/23 [00:05<00:02,  2.57it/s]"
     ]
    },
    {
     "name": "stdout",
     "output_type": "stream",
     "text": [
      "WARNING: Trying to predict next state from state 11 taking action 1 , but this transition is never seen in the data. Data point: 0 5\n",
      "WARNING: Trying to predict next state from state 11 taking action 1 , but this transition is never seen in the data. Data point: 0 6\n",
      "WARNING: Trying to predict next state from state 11 taking action 1 , but this transition is never seen in the data. Data point: 0 7\n",
      "WARNING: Trying to predict next state from state 11 taking action 1 , but this transition is never seen in the data. Data point: 0 8\n",
      "WARNING: Trying to predict next state from state 0 taking action 0 , but this transition is never seen in the data. Data point: 0 10\n",
      "WARNING: Trying to predict next state from state 0 taking action 0 , but this transition is never seen in the data. Data point: 0 11\n",
      "WARNING: Trying to predict next state from state 0 taking action 0 , but this transition is never seen in the data. Data point: 0 12\n",
      "WARNING: Trying to predict next state from state 0 taking action 3 , but this transition is never seen in the data. Data point: 0 13\n",
      "WARNING: Trying to predict next state from state 11 taking action 1 , but this transition is never seen in the data. Data point: 0 15\n",
      "WARNING: Trying to predict next state from state 11 taking action 1 , but this transition is never seen in the data. Data point: 0 16\n",
      "WARNING: Trying to predict next state from state 12 taking action 3 , but this transition is never seen in the data. Data point: 2 3\n",
      "WARNING: Trying to predict next state from state 9 taking action 1 , but this transition is never seen in the data. Data point: 2 9\n",
      "WARNING: Trying to predict next state from state 9 taking action 1 , but this transition is never seen in the data. Data point: 2 10\n",
      "WARNING: Trying to predict next state from state 17 taking action 3 , but this transition is never seen in the data. Data point: 2 18\n",
      "WARNING: In training value evaluation, trying to predict next state from state 11 taking action 1 , but this transition is never seen in the data. Data point: 0 4\n",
      "WARNING: In training value evaluation, trying to predict next state from state 11 taking action 1 , but this transition is never seen in the data. Data point: 0 5\n",
      "WARNING: In training value evaluation, trying to predict next state from state 11 taking action 1 , but this transition is never seen in the data. Data point: 0 6\n",
      "WARNING: In training value evaluation, trying to predict next state from state 11 taking action 1 , but this transition is never seen in the data. Data point: 0 7\n",
      "WARNING: In training value evaluation, trying to predict next state from state 0 taking action 0 , but this transition is never seen in the data. Data point: 0 9\n",
      "WARNING: In training value evaluation, trying to predict next state from state 0 taking action 0 , but this transition is never seen in the data. Data point: 0 10\n",
      "WARNING: In training value evaluation, trying to predict next state from state 0 taking action 0 , but this transition is never seen in the data. Data point: 0 11\n",
      "WARNING: In training value evaluation, trying to predict next state from state 0 taking action 3 , but this transition is never seen in the data. Data point: 0 12\n",
      "WARNING: In training value evaluation, trying to predict next state from state 11 taking action 1 , but this transition is never seen in the data. Data point: 0 14\n",
      "WARNING: In training value evaluation, trying to predict next state from state 11 taking action 1 , but this transition is never seen in the data. Data point: 0 15\n",
      "WARNING: In training value evaluation, trying to predict next state from state 11 taking action 1 , but this transition is never seen in the data. Data point: 0 16\n",
      "WARNING: In training value evaluation, trying to predict next state from state 12 taking action 3 , but this transition is never seen in the data. Data point: 2 2\n",
      "WARNING: In training value evaluation, trying to predict next state from state 9 taking action 1 , but this transition is never seen in the data. Data point: 2 8\n",
      "WARNING: In training value evaluation, trying to predict next state from state 9 taking action 1 , but this transition is never seen in the data. Data point: 2 9\n",
      "WARNING: In training value evaluation, trying to predict next state from state 17 taking action 3 , but this transition is never seen in the data. Data point: 2 17\n"
     ]
    },
    {
     "name": "stderr",
     "output_type": "stream",
     "text": [
      "Splitting... |#Clusters:20:  78%|███████▊  | 18/23 [00:06<00:01,  2.79it/s]"
     ]
    },
    {
     "name": "stdout",
     "output_type": "stream",
     "text": [
      "WARNING: Trying to predict next state from state 12 taking action 3 , but this transition is never seen in the data. Data point: 2 3\n",
      "WARNING: Trying to predict next state from state 9 taking action 1 , but this transition is never seen in the data. Data point: 2 9\n",
      "WARNING: Trying to predict next state from state 9 taking action 1 , but this transition is never seen in the data. Data point: 2 10\n",
      "WARNING: Trying to predict next state from state 17 taking action 3 , but this transition is never seen in the data. Data point: 2 18\n",
      "WARNING: In training value evaluation, trying to predict next state from state 12 taking action 3 , but this transition is never seen in the data. Data point: 2 2\n",
      "WARNING: In training value evaluation, trying to predict next state from state 9 taking action 1 , but this transition is never seen in the data. Data point: 2 8\n",
      "WARNING: In training value evaluation, trying to predict next state from state 9 taking action 1 , but this transition is never seen in the data. Data point: 2 9\n",
      "WARNING: In training value evaluation, trying to predict next state from state 17 taking action 3 , but this transition is never seen in the data. Data point: 2 17\n"
     ]
    },
    {
     "name": "stderr",
     "output_type": "stream",
     "text": [
      "Splitting... |#Clusters:21:  83%|████████▎ | 19/23 [00:06<00:01,  2.98it/s]"
     ]
    },
    {
     "name": "stdout",
     "output_type": "stream",
     "text": [
      "WARNING: Trying to predict next state from state 12 taking action 2 , but this transition is never seen in the data. Data point: 1 2\n",
      "WARNING: Trying to predict next state from state 19 taking action 1 , but this transition is never seen in the data. Data point: 2 6\n",
      "WARNING: Trying to predict next state from state 19 taking action 1 , but this transition is never seen in the data. Data point: 2 7\n",
      "WARNING: Trying to predict next state from state 19 taking action 1 , but this transition is never seen in the data. Data point: 2 8\n",
      "WARNING: Trying to predict next state from state 19 taking action 1 , but this transition is never seen in the data. Data point: 2 9\n",
      "WARNING: Trying to predict next state from state 19 taking action 1 , but this transition is never seen in the data. Data point: 2 10\n",
      "WARNING: Trying to predict next state from state 0 taking action 0 , but this transition is never seen in the data. Data point: 2 12\n",
      "WARNING: Trying to predict next state from state 19 taking action 1 , but this transition is never seen in the data. Data point: 2 15\n",
      "WARNING: Trying to predict next state from state 19 taking action 1 , but this transition is never seen in the data. Data point: 2 16\n",
      "WARNING: In training value evaluation, trying to predict next state from state 12 taking action 2 , but this transition is never seen in the data. Data point: 1 1\n",
      "WARNING: In training value evaluation, trying to predict next state from state 19 taking action 1 , but this transition is never seen in the data. Data point: 2 5\n",
      "WARNING: In training value evaluation, trying to predict next state from state 19 taking action 1 , but this transition is never seen in the data. Data point: 2 6\n",
      "WARNING: In training value evaluation, trying to predict next state from state 19 taking action 1 , but this transition is never seen in the data. Data point: 2 7\n",
      "WARNING: In training value evaluation, trying to predict next state from state 19 taking action 1 , but this transition is never seen in the data. Data point: 2 8\n",
      "WARNING: In training value evaluation, trying to predict next state from state 19 taking action 1 , but this transition is never seen in the data. Data point: 2 9\n",
      "WARNING: In training value evaluation, trying to predict next state from state 0 taking action 0 , but this transition is never seen in the data. Data point: 2 11\n",
      "WARNING: In training value evaluation, trying to predict next state from state 19 taking action 1 , but this transition is never seen in the data. Data point: 2 14\n",
      "WARNING: In training value evaluation, trying to predict next state from state 19 taking action 1 , but this transition is never seen in the data. Data point: 2 15\n"
     ]
    },
    {
     "name": "stderr",
     "output_type": "stream",
     "text": [
      "Splitting... |#Clusters:22:  87%|████████▋ | 20/23 [00:06<00:00,  3.04it/s]"
     ]
    },
    {
     "name": "stdout",
     "output_type": "stream",
     "text": [
      "WARNING: Trying to predict next state from state 12 taking action 2 , but this transition is never seen in the data. Data point: 1 2\n",
      "WARNING: Trying to predict next state from state 10 taking action 3 , but this transition is never seen in the data. Data point: 1 7\n",
      "WARNING: Trying to predict next state from state 10 taking action 0 , but this transition is never seen in the data. Data point: 1 8\n",
      "WARNING: Trying to predict next state from state 7 taking action 3 , but this transition is never seen in the data. Data point: 1 14\n",
      "WARNING: Trying to predict next state from state 7 taking action 2 , but this transition is never seen in the data. Data point: 1 15\n",
      "WARNING: Trying to predict next state from state 19 taking action 1 , but this transition is never seen in the data. Data point: 2 6\n",
      "WARNING: Trying to predict next state from state 19 taking action 1 , but this transition is never seen in the data. Data point: 2 7\n",
      "WARNING: Trying to predict next state from state 19 taking action 1 , but this transition is never seen in the data. Data point: 2 8\n",
      "WARNING: Trying to predict next state from state 19 taking action 1 , but this transition is never seen in the data. Data point: 2 9\n",
      "WARNING: Trying to predict next state from state 19 taking action 1 , but this transition is never seen in the data. Data point: 2 10\n",
      "WARNING: Trying to predict next state from state 0 taking action 0 , but this transition is never seen in the data. Data point: 2 12\n",
      "WARNING: Trying to predict next state from state 19 taking action 1 , but this transition is never seen in the data. Data point: 2 15\n",
      "WARNING: Trying to predict next state from state 19 taking action 1 , but this transition is never seen in the data. Data point: 2 16\n",
      "WARNING: In training value evaluation, trying to predict next state from state 12 taking action 2 , but this transition is never seen in the data. Data point: 1 1\n",
      "WARNING: In training value evaluation, trying to predict next state from state 10 taking action 3 , but this transition is never seen in the data. Data point: 1 6\n",
      "WARNING: In training value evaluation, trying to predict next state from state 10 taking action 0 , but this transition is never seen in the data. Data point: 1 7\n",
      "WARNING: In training value evaluation, trying to predict next state from state 7 taking action 3 , but this transition is never seen in the data. Data point: 1 13\n",
      "WARNING: In training value evaluation, trying to predict next state from state 7 taking action 2 , but this transition is never seen in the data. Data point: 1 14\n",
      "WARNING: In training value evaluation, trying to predict next state from state 19 taking action 1 , but this transition is never seen in the data. Data point: 2 5\n",
      "WARNING: In training value evaluation, trying to predict next state from state 19 taking action 1 , but this transition is never seen in the data. Data point: 2 6\n",
      "WARNING: In training value evaluation, trying to predict next state from state 19 taking action 1 , but this transition is never seen in the data. Data point: 2 7\n",
      "WARNING: In training value evaluation, trying to predict next state from state 19 taking action 1 , but this transition is never seen in the data. Data point: 2 8\n",
      "WARNING: In training value evaluation, trying to predict next state from state 19 taking action 1 , but this transition is never seen in the data. Data point: 2 9\n",
      "WARNING: In training value evaluation, trying to predict next state from state 0 taking action 0 , but this transition is never seen in the data. Data point: 2 11\n",
      "WARNING: In training value evaluation, trying to predict next state from state 19 taking action 1 , but this transition is never seen in the data. Data point: 2 14\n",
      "WARNING: In training value evaluation, trying to predict next state from state 19 taking action 1 , but this transition is never seen in the data. Data point: 2 15\n"
     ]
    },
    {
     "name": "stderr",
     "output_type": "stream",
     "text": [
      "Splitting... |#Clusters:23:  91%|█████████▏| 21/23 [00:07<00:00,  3.07it/s]"
     ]
    },
    {
     "name": "stdout",
     "output_type": "stream",
     "text": [
      "WARNING: Trying to predict next state from state 12 taking action 2 , but this transition is never seen in the data. Data point: 1 2\n",
      "WARNING: Trying to predict next state from state 19 taking action 1 , but this transition is never seen in the data. Data point: 2 6\n",
      "WARNING: Trying to predict next state from state 19 taking action 1 , but this transition is never seen in the data. Data point: 2 7\n",
      "WARNING: Trying to predict next state from state 19 taking action 1 , but this transition is never seen in the data. Data point: 2 8\n",
      "WARNING: Trying to predict next state from state 19 taking action 1 , but this transition is never seen in the data. Data point: 2 9\n",
      "WARNING: Trying to predict next state from state 19 taking action 1 , but this transition is never seen in the data. Data point: 2 10\n",
      "WARNING: Trying to predict next state from state 0 taking action 0 , but this transition is never seen in the data. Data point: 2 12\n",
      "WARNING: Trying to predict next state from state 19 taking action 1 , but this transition is never seen in the data. Data point: 2 15\n",
      "WARNING: Trying to predict next state from state 19 taking action 1 , but this transition is never seen in the data. Data point: 2 16\n",
      "WARNING: In training value evaluation, trying to predict next state from state 12 taking action 2 , but this transition is never seen in the data. Data point: 1 1\n",
      "WARNING: In training value evaluation, trying to predict next state from state 19 taking action 1 , but this transition is never seen in the data. Data point: 2 5\n",
      "WARNING: In training value evaluation, trying to predict next state from state 19 taking action 1 , but this transition is never seen in the data. Data point: 2 6\n",
      "WARNING: In training value evaluation, trying to predict next state from state 19 taking action 1 , but this transition is never seen in the data. Data point: 2 7\n",
      "WARNING: In training value evaluation, trying to predict next state from state 19 taking action 1 , but this transition is never seen in the data. Data point: 2 8\n",
      "WARNING: In training value evaluation, trying to predict next state from state 19 taking action 1 , but this transition is never seen in the data. Data point: 2 9\n",
      "WARNING: In training value evaluation, trying to predict next state from state 0 taking action 0 , but this transition is never seen in the data. Data point: 2 11\n",
      "WARNING: In training value evaluation, trying to predict next state from state 19 taking action 1 , but this transition is never seen in the data. Data point: 2 14\n",
      "WARNING: In training value evaluation, trying to predict next state from state 19 taking action 1 , but this transition is never seen in the data. Data point: 2 15\n"
     ]
    },
    {
     "name": "stderr",
     "output_type": "stream",
     "text": [
      "Splitting... |#Clusters:24:  96%|█████████▌| 22/23 [00:07<00:00,  3.11it/s]"
     ]
    },
    {
     "name": "stdout",
     "output_type": "stream",
     "text": [
      "WARNING: Trying to predict next state from state 12 taking action 2 , but this transition is never seen in the data. Data point: 1 2\n",
      "WARNING: Trying to predict next state from state 19 taking action 1 , but this transition is never seen in the data. Data point: 2 6\n",
      "WARNING: Trying to predict next state from state 19 taking action 1 , but this transition is never seen in the data. Data point: 2 7\n",
      "WARNING: Trying to predict next state from state 19 taking action 1 , but this transition is never seen in the data. Data point: 2 8\n",
      "WARNING: Trying to predict next state from state 19 taking action 1 , but this transition is never seen in the data. Data point: 2 9\n",
      "WARNING: Trying to predict next state from state 19 taking action 1 , but this transition is never seen in the data. Data point: 2 10\n",
      "WARNING: Trying to predict next state from state 0 taking action 0 , but this transition is never seen in the data. Data point: 2 12\n",
      "WARNING: Trying to predict next state from state 19 taking action 1 , but this transition is never seen in the data. Data point: 2 15\n",
      "WARNING: Trying to predict next state from state 19 taking action 1 , but this transition is never seen in the data. Data point: 2 16\n",
      "WARNING: In training value evaluation, trying to predict next state from state 12 taking action 2 , but this transition is never seen in the data. Data point: 1 1\n",
      "WARNING: In training value evaluation, trying to predict next state from state 19 taking action 1 , but this transition is never seen in the data. Data point: 2 5\n",
      "WARNING: In training value evaluation, trying to predict next state from state 19 taking action 1 , but this transition is never seen in the data. Data point: 2 6\n",
      "WARNING: In training value evaluation, trying to predict next state from state 19 taking action 1 , but this transition is never seen in the data. Data point: 2 7\n",
      "WARNING: In training value evaluation, trying to predict next state from state 19 taking action 1 , but this transition is never seen in the data. Data point: 2 8\n",
      "WARNING: In training value evaluation, trying to predict next state from state 19 taking action 1 , but this transition is never seen in the data. Data point: 2 9\n",
      "WARNING: In training value evaluation, trying to predict next state from state 0 taking action 0 , but this transition is never seen in the data. Data point: 2 11\n",
      "WARNING: In training value evaluation, trying to predict next state from state 19 taking action 1 , but this transition is never seen in the data. Data point: 2 14\n",
      "WARNING: In training value evaluation, trying to predict next state from state 19 taking action 1 , but this transition is never seen in the data. Data point: 2 15\n"
     ]
    },
    {
     "name": "stderr",
     "output_type": "stream",
     "text": [
      "\r",
      "Splitting... |#Clusters:24:  96%|█████████▌| 22/23 [00:07<00:00,  2.91it/s]"
     ]
    },
    {
     "name": "stdout",
     "output_type": "stream",
     "text": [
      "WARNING: Trying to predict next state from state 12 taking action 2 , but this transition is never seen in the data. Data point: 1 2\n",
      "WARNING: Trying to predict next state from state 19 taking action 1 , but this transition is never seen in the data. Data point: 2 6\n",
      "WARNING: Trying to predict next state from state 19 taking action 1 , but this transition is never seen in the data. Data point: 2 7\n",
      "WARNING: Trying to predict next state from state 19 taking action 1 , but this transition is never seen in the data. Data point: 2 8\n",
      "WARNING: Trying to predict next state from state 19 taking action 1 , but this transition is never seen in the data. Data point: 2 9\n",
      "WARNING: Trying to predict next state from state 19 taking action 1 , but this transition is never seen in the data. Data point: 2 10\n",
      "WARNING: Trying to predict next state from state 0 taking action 0 , but this transition is never seen in the data. Data point: 2 12\n",
      "WARNING: Trying to predict next state from state 19 taking action 1 , but this transition is never seen in the data. Data point: 2 15\n",
      "WARNING: Trying to predict next state from state 19 taking action 1 , but this transition is never seen in the data. Data point: 2 16\n",
      "WARNING: In training value evaluation, trying to predict next state from state 12 taking action 2 , but this transition is never seen in the data. Data point: 1 1\n",
      "WARNING: In training value evaluation, trying to predict next state from state 19 taking action 1 , but this transition is never seen in the data. Data point: 2 5\n",
      "WARNING: In training value evaluation, trying to predict next state from state 19 taking action 1 , but this transition is never seen in the data. Data point: 2 6\n",
      "WARNING: In training value evaluation, trying to predict next state from state 19 taking action 1 , but this transition is never seen in the data. Data point: 2 7\n",
      "WARNING: In training value evaluation, trying to predict next state from state 19 taking action 1 , but this transition is never seen in the data. Data point: 2 8\n",
      "WARNING: In training value evaluation, trying to predict next state from state 19 taking action 1 , but this transition is never seen in the data. Data point: 2 9\n",
      "WARNING: In training value evaluation, trying to predict next state from state 0 taking action 0 , but this transition is never seen in the data. Data point: 2 11\n",
      "WARNING: In training value evaluation, trying to predict next state from state 19 taking action 1 , but this transition is never seen in the data. Data point: 2 14\n",
      "WARNING: In training value evaluation, trying to predict next state from state 19 taking action 1 , but this transition is never seen in the data. Data point: 2 15\n",
      "Optimal # of clusters reached\n"
     ]
    },
    {
     "name": "stderr",
     "output_type": "stream",
     "text": [
      "\n"
     ]
    },
    {
     "data": {
      "image/png": "[encoded data removed]",
      "text/plain": [
       "<Figure size 432x288 with 1 Axes>"
      ]
     },
     "metadata": {
      "needs_background": "light"
     },
     "output_type": "display_data"
    },
    {
     "data": {
      "image/png": "[encoded data removed]",
      "text/plain": [
       "<Figure size 432x288 with 1 Axes>"
      ]
     },
     "metadata": {
      "needs_background": "light"
     },
     "output_type": "display_data"
    },
    {
     "name": "stderr",
     "output_type": "stream",
     "text": [
      "Splitting... |#Clusters:12:  45%|████▌     | 10/22 [00:02<00:02,  4.07it/s]"
     ]
    },
    {
     "name": "stdout",
     "output_type": "stream",
     "text": [
      "WARNING: Trying to predict next state from state 7 taking action 3 , but this transition is never seen in the data. Data point: 1 14\n",
      "WARNING: Trying to predict next state from state 7 taking action 2 , but this transition is never seen in the data. Data point: 1 15\n",
      "WARNING: Trying to predict next state from state 9 taking action 3 , but this transition is never seen in the data. Data point: 2 18\n",
      "WARNING: In training value evaluation, trying to predict next state from state 7 taking action 3 , but this transition is never seen in the data. Data point: 1 13\n",
      "WARNING: In training value evaluation, trying to predict next state from state 7 taking action 2 , but this transition is never seen in the data. Data point: 1 14\n",
      "WARNING: In training value evaluation, trying to predict next state from state 9 taking action 3 , but this transition is never seen in the data. Data point: 2 17\n",
      "WARNING: In training value evaluation, trying to predict next state from state 6 taking action 1 , but this transition is never seen in the data. Data point: 2 23\n"
     ]
    },
    {
     "name": "stderr",
     "output_type": "stream",
     "text": [
      "Splitting... |#Clusters:13:  50%|█████     | 11/22 [00:02<00:03,  3.62it/s]"
     ]
    },
    {
     "name": "stdout",
     "output_type": "stream",
     "text": [
      "WARNING: Trying to predict next state from state 11 taking action 1 , but this transition is never seen in the data. Data point: 0 5\n",
      "WARNING: Trying to predict next state from state 11 taking action 1 , but this transition is never seen in the data. Data point: 0 6\n",
      "WARNING: Trying to predict next state from state 11 taking action 1 , but this transition is never seen in the data. Data point: 0 7\n",
      "WARNING: Trying to predict next state from state 11 taking action 1 , but this transition is never seen in the data. Data point: 0 8\n",
      "WARNING: Trying to predict next state from state 0 taking action 0 , but this transition is never seen in the data. Data point: 0 10\n",
      "WARNING: Trying to predict next state from state 0 taking action 0 , but this transition is never seen in the data. Data point: 0 11\n",
      "WARNING: Trying to predict next state from state 0 taking action 0 , but this transition is never seen in the data. Data point: 0 12\n",
      "WARNING: Trying to predict next state from state 7 taking action 3 , but this transition is never seen in the data. Data point: 1 14\n",
      "WARNING: Trying to predict next state from state 7 taking action 2 , but this transition is never seen in the data. Data point: 1 15\n",
      "WARNING: Trying to predict next state from state 11 taking action 1 , but this transition is never seen in the data. Data point: 2 6\n",
      "WARNING: Trying to predict next state from state 11 taking action 1 , but this transition is never seen in the data. Data point: 2 7\n",
      "WARNING: Trying to predict next state from state 11 taking action 1 , but this transition is never seen in the data. Data point: 2 8\n",
      "WARNING: Trying to predict next state from state 11 taking action 1 , but this transition is never seen in the data. Data point: 2 9\n",
      "WARNING: Trying to predict next state from state 11 taking action 1 , but this transition is never seen in the data. Data point: 2 10\n",
      "WARNING: Trying to predict next state from state 0 taking action 0 , but this transition is never seen in the data. Data point: 2 12\n",
      "WARNING: Trying to predict next state from state 9 taking action 3 , but this transition is never seen in the data. Data point: 2 18\n",
      "WARNING: In training value evaluation, trying to predict next state from state 11 taking action 1 , but this transition is never seen in the data. Data point: 0 4\n",
      "WARNING: In training value evaluation, trying to predict next state from state 11 taking action 1 , but this transition is never seen in the data. Data point: 0 5\n",
      "WARNING: In training value evaluation, trying to predict next state from state 11 taking action 1 , but this transition is never seen in the data. Data point: 0 6\n",
      "WARNING: In training value evaluation, trying to predict next state from state 11 taking action 1 , but this transition is never seen in the data. Data point: 0 7\n",
      "WARNING: In training value evaluation, trying to predict next state from state 0 taking action 0 , but this transition is never seen in the data. Data point: 0 9\n",
      "WARNING: In training value evaluation, trying to predict next state from state 0 taking action 0 , but this transition is never seen in the data. Data point: 0 10\n",
      "WARNING: In training value evaluation, trying to predict next state from state 0 taking action 0 , but this transition is never seen in the data. Data point: 0 11\n",
      "WARNING: In training value evaluation, trying to predict next state from state 7 taking action 3 , but this transition is never seen in the data. Data point: 1 13\n",
      "WARNING: In training value evaluation, trying to predict next state from state 7 taking action 2 , but this transition is never seen in the data. Data point: 1 14\n",
      "WARNING: In training value evaluation, trying to predict next state from state 11 taking action 1 , but this transition is never seen in the data. Data point: 2 5\n",
      "WARNING: In training value evaluation, trying to predict next state from state 11 taking action 1 , but this transition is never seen in the data. Data point: 2 6\n",
      "WARNING: In training value evaluation, trying to predict next state from state 11 taking action 1 , but this transition is never seen in the data. Data point: 2 7\n",
      "WARNING: In training value evaluation, trying to predict next state from state 11 taking action 1 , but this transition is never seen in the data. Data point: 2 8\n",
      "WARNING: In training value evaluation, trying to predict next state from state 11 taking action 1 , but this transition is never seen in the data. Data point: 2 9\n",
      "WARNING: In training value evaluation, trying to predict next state from state 0 taking action 0 , but this transition is never seen in the data. Data point: 2 11\n",
      "WARNING: In training value evaluation, trying to predict next state from state 9 taking action 3 , but this transition is never seen in the data. Data point: 2 17\n",
      "WARNING: In training value evaluation, trying to predict next state from state 6 taking action 1 , but this transition is never seen in the data. Data point: 2 23\n"
     ]
    },
    {
     "name": "stderr",
     "output_type": "stream",
     "text": [
      "Splitting... |#Clusters:14:  55%|█████▍    | 12/22 [00:02<00:03,  3.27it/s]"
     ]
    },
    {
     "name": "stdout",
     "output_type": "stream",
     "text": [
      "WARNING: Trying to predict next state from state 11 taking action 1 , but this transition is never seen in the data. Data point: 0 5\n",
      "WARNING: Trying to predict next state from state 11 taking action 1 , but this transition is never seen in the data. Data point: 0 6\n",
      "WARNING: Trying to predict next state from state 11 taking action 1 , but this transition is never seen in the data. Data point: 0 7\n",
      "WARNING: Trying to predict next state from state 11 taking action 1 , but this transition is never seen in the data. Data point: 0 8\n",
      "WARNING: Trying to predict next state from state 0 taking action 0 , but this transition is never seen in the data. Data point: 0 10\n",
      "WARNING: Trying to predict next state from state 0 taking action 0 , but this transition is never seen in the data. Data point: 0 11\n",
      "WARNING: Trying to predict next state from state 0 taking action 0 , but this transition is never seen in the data. Data point: 0 12\n",
      "WARNING: Trying to predict next state from state 0 taking action 3 , but this transition is never seen in the data. Data point: 0 13\n",
      "WARNING: Trying to predict next state from state 11 taking action 1 , but this transition is never seen in the data. Data point: 0 15\n",
      "WARNING: Trying to predict next state from state 11 taking action 1 , but this transition is never seen in the data. Data point: 0 16\n",
      "WARNING: Trying to predict next state from state 7 taking action 3 , but this transition is never seen in the data. Data point: 1 14\n",
      "WARNING: Trying to predict next state from state 7 taking action 2 , but this transition is never seen in the data. Data point: 1 15\n",
      "WARNING: Trying to predict next state from state 12 taking action 3 , but this transition is never seen in the data. Data point: 2 3\n",
      "WARNING: Trying to predict next state from state 9 taking action 3 , but this transition is never seen in the data. Data point: 2 18\n",
      "WARNING: In training value evaluation, trying to predict next state from state 11 taking action 1 , but this transition is never seen in the data. Data point: 0 4\n",
      "WARNING: In training value evaluation, trying to predict next state from state 11 taking action 1 , but this transition is never seen in the data. Data point: 0 5\n",
      "WARNING: In training value evaluation, trying to predict next state from state 11 taking action 1 , but this transition is never seen in the data. Data point: 0 6\n",
      "WARNING: In training value evaluation, trying to predict next state from state 11 taking action 1 , but this transition is never seen in the data. Data point: 0 7\n",
      "WARNING: In training value evaluation, trying to predict next state from state 0 taking action 0 , but this transition is never seen in the data. Data point: 0 9\n",
      "WARNING: In training value evaluation, trying to predict next state from state 0 taking action 0 , but this transition is never seen in the data. Data point: 0 10\n",
      "WARNING: In training value evaluation, trying to predict next state from state 0 taking action 0 , but this transition is never seen in the data. Data point: 0 11\n",
      "WARNING: In training value evaluation, trying to predict next state from state 0 taking action 3 , but this transition is never seen in the data. Data point: 0 12\n",
      "WARNING: In training value evaluation, trying to predict next state from state 11 taking action 1 , but this transition is never seen in the data. Data point: 0 14\n",
      "WARNING: In training value evaluation, trying to predict next state from state 11 taking action 1 , but this transition is never seen in the data. Data point: 0 15\n",
      "WARNING: In training value evaluation, trying to predict next state from state 11 taking action 1 , but this transition is never seen in the data. Data point: 0 16\n",
      "WARNING: In training value evaluation, trying to predict next state from state 7 taking action 3 , but this transition is never seen in the data. Data point: 1 13\n",
      "WARNING: In training value evaluation, trying to predict next state from state 7 taking action 2 , but this transition is never seen in the data. Data point: 1 14\n",
      "WARNING: In training value evaluation, trying to predict next state from state 12 taking action 3 , but this transition is never seen in the data. Data point: 2 2\n",
      "WARNING: In training value evaluation, trying to predict next state from state 9 taking action 3 , but this transition is never seen in the data. Data point: 2 17\n",
      "WARNING: In training value evaluation, trying to predict next state from state 6 taking action 1 , but this transition is never seen in the data. Data point: 2 23\n"
     ]
    },
    {
     "name": "stderr",
     "output_type": "stream",
     "text": [
      "Splitting... |#Clusters:15:  59%|█████▉    | 13/22 [00:03<00:02,  3.04it/s]"
     ]
    },
    {
     "name": "stdout",
     "output_type": "stream",
     "text": [
      "WARNING: Trying to predict next state from state 11 taking action 1 , but this transition is never seen in the data. Data point: 0 5\n",
      "WARNING: Trying to predict next state from state 11 taking action 1 , but this transition is never seen in the data. Data point: 0 6\n",
      "WARNING: Trying to predict next state from state 11 taking action 1 , but this transition is never seen in the data. Data point: 0 7\n",
      "WARNING: Trying to predict next state from state 11 taking action 1 , but this transition is never seen in the data. Data point: 0 8\n",
      "WARNING: Trying to predict next state from state 0 taking action 0 , but this transition is never seen in the data. Data point: 0 10\n",
      "WARNING: Trying to predict next state from state 0 taking action 0 , but this transition is never seen in the data. Data point: 0 11\n",
      "WARNING: Trying to predict next state from state 0 taking action 0 , but this transition is never seen in the data. Data point: 0 12\n",
      "WARNING: Trying to predict next state from state 0 taking action 3 , but this transition is never seen in the data. Data point: 0 13\n",
      "WARNING: Trying to predict next state from state 11 taking action 1 , but this transition is never seen in the data. Data point: 0 15\n",
      "WARNING: Trying to predict next state from state 11 taking action 1 , but this transition is never seen in the data. Data point: 0 16\n",
      "WARNING: Trying to predict next state from state 7 taking action 3 , but this transition is never seen in the data. Data point: 1 14\n",
      "WARNING: Trying to predict next state from state 7 taking action 2 , but this transition is never seen in the data. Data point: 1 15\n",
      "WARNING: Trying to predict next state from state 12 taking action 3 , but this transition is never seen in the data. Data point: 2 3\n",
      "WARNING: Trying to predict next state from state 9 taking action 3 , but this transition is never seen in the data. Data point: 2 18\n",
      "WARNING: In training value evaluation, trying to predict next state from state 11 taking action 1 , but this transition is never seen in the data. Data point: 0 4\n",
      "WARNING: In training value evaluation, trying to predict next state from state 11 taking action 1 , but this transition is never seen in the data. Data point: 0 5\n",
      "WARNING: In training value evaluation, trying to predict next state from state 11 taking action 1 , but this transition is never seen in the data. Data point: 0 6\n",
      "WARNING: In training value evaluation, trying to predict next state from state 11 taking action 1 , but this transition is never seen in the data. Data point: 0 7\n",
      "WARNING: In training value evaluation, trying to predict next state from state 0 taking action 0 , but this transition is never seen in the data. Data point: 0 9\n",
      "WARNING: In training value evaluation, trying to predict next state from state 0 taking action 0 , but this transition is never seen in the data. Data point: 0 10\n",
      "WARNING: In training value evaluation, trying to predict next state from state 0 taking action 0 , but this transition is never seen in the data. Data point: 0 11\n",
      "WARNING: In training value evaluation, trying to predict next state from state 0 taking action 3 , but this transition is never seen in the data. Data point: 0 12\n",
      "WARNING: In training value evaluation, trying to predict next state from state 11 taking action 1 , but this transition is never seen in the data. Data point: 0 14\n",
      "WARNING: In training value evaluation, trying to predict next state from state 11 taking action 1 , but this transition is never seen in the data. Data point: 0 15\n",
      "WARNING: In training value evaluation, trying to predict next state from state 11 taking action 1 , but this transition is never seen in the data. Data point: 0 16\n",
      "WARNING: In training value evaluation, trying to predict next state from state 7 taking action 3 , but this transition is never seen in the data. Data point: 1 13\n",
      "WARNING: In training value evaluation, trying to predict next state from state 7 taking action 2 , but this transition is never seen in the data. Data point: 1 14\n",
      "WARNING: In training value evaluation, trying to predict next state from state 12 taking action 3 , but this transition is never seen in the data. Data point: 2 2\n",
      "WARNING: In training value evaluation, trying to predict next state from state 9 taking action 3 , but this transition is never seen in the data. Data point: 2 17\n",
      "WARNING: In training value evaluation, trying to predict next state from state 6 taking action 1 , but this transition is never seen in the data. Data point: 2 23\n"
     ]
    },
    {
     "name": "stderr",
     "output_type": "stream",
     "text": [
      "Splitting... |#Clusters:16:  64%|██████▎   | 14/22 [00:03<00:03,  2.62it/s]"
     ]
    },
    {
     "name": "stdout",
     "output_type": "stream",
     "text": [
      "WARNING: Trying to predict next state from state 11 taking action 1 , but this transition is never seen in the data. Data point: 0 5\n",
      "WARNING: Trying to predict next state from state 11 taking action 1 , but this transition is never seen in the data. Data point: 0 6\n",
      "WARNING: Trying to predict next state from state 11 taking action 1 , but this transition is never seen in the data. Data point: 0 7\n",
      "WARNING: Trying to predict next state from state 11 taking action 1 , but this transition is never seen in the data. Data point: 0 8\n",
      "WARNING: Trying to predict next state from state 0 taking action 0 , but this transition is never seen in the data. Data point: 0 10\n",
      "WARNING: Trying to predict next state from state 0 taking action 0 , but this transition is never seen in the data. Data point: 0 11\n",
      "WARNING: Trying to predict next state from state 0 taking action 0 , but this transition is never seen in the data. Data point: 0 12\n",
      "WARNING: Trying to predict next state from state 0 taking action 3 , but this transition is never seen in the data. Data point: 0 13\n",
      "WARNING: Trying to predict next state from state 11 taking action 1 , but this transition is never seen in the data. Data point: 0 15\n",
      "WARNING: Trying to predict next state from state 11 taking action 1 , but this transition is never seen in the data. Data point: 0 16\n",
      "WARNING: Trying to predict next state from state 7 taking action 3 , but this transition is never seen in the data. Data point: 1 14\n",
      "WARNING: Trying to predict next state from state 7 taking action 2 , but this transition is never seen in the data. Data point: 1 15\n",
      "WARNING: Trying to predict next state from state 12 taking action 3 , but this transition is never seen in the data. Data point: 2 3\n",
      "WARNING: Trying to predict next state from state 9 taking action 3 , but this transition is never seen in the data. Data point: 2 18\n",
      "WARNING: In training value evaluation, trying to predict next state from state 11 taking action 1 , but this transition is never seen in the data. Data point: 0 4\n",
      "WARNING: In training value evaluation, trying to predict next state from state 11 taking action 1 , but this transition is never seen in the data. Data point: 0 5\n",
      "WARNING: In training value evaluation, trying to predict next state from state 11 taking action 1 , but this transition is never seen in the data. Data point: 0 6\n",
      "WARNING: In training value evaluation, trying to predict next state from state 11 taking action 1 , but this transition is never seen in the data. Data point: 0 7\n",
      "WARNING: In training value evaluation, trying to predict next state from state 0 taking action 0 , but this transition is never seen in the data. Data point: 0 9\n",
      "WARNING: In training value evaluation, trying to predict next state from state 0 taking action 0 , but this transition is never seen in the data. Data point: 0 10\n",
      "WARNING: In training value evaluation, trying to predict next state from state 0 taking action 0 , but this transition is never seen in the data. Data point: 0 11\n",
      "WARNING: In training value evaluation, trying to predict next state from state 0 taking action 3 , but this transition is never seen in the data. Data point: 0 12\n",
      "WARNING: In training value evaluation, trying to predict next state from state 11 taking action 1 , but this transition is never seen in the data. Data point: 0 14\n",
      "WARNING: In training value evaluation, trying to predict next state from state 11 taking action 1 , but this transition is never seen in the data. Data point: 0 15\n",
      "WARNING: In training value evaluation, trying to predict next state from state 11 taking action 1 , but this transition is never seen in the data. Data point: 0 16\n",
      "WARNING: In training value evaluation, trying to predict next state from state 7 taking action 3 , but this transition is never seen in the data. Data point: 1 13\n",
      "WARNING: In training value evaluation, trying to predict next state from state 7 taking action 2 , but this transition is never seen in the data. Data point: 1 14\n",
      "WARNING: In training value evaluation, trying to predict next state from state 12 taking action 3 , but this transition is never seen in the data. Data point: 2 2\n",
      "WARNING: In training value evaluation, trying to predict next state from state 9 taking action 3 , but this transition is never seen in the data. Data point: 2 17\n",
      "WARNING: In training value evaluation, trying to predict next state from state 6 taking action 1 , but this transition is never seen in the data. Data point: 2 23\n"
     ]
    },
    {
     "name": "stderr",
     "output_type": "stream",
     "text": [
      "Splitting... |#Clusters:17:  68%|██████▊   | 15/22 [00:04<00:03,  2.33it/s]"
     ]
    },
    {
     "name": "stdout",
     "output_type": "stream",
     "text": [
      "WARNING: Trying to predict next state from state 11 taking action 1 , but this transition is never seen in the data. Data point: 0 5\n",
      "WARNING: Trying to predict next state from state 11 taking action 1 , but this transition is never seen in the data. Data point: 0 6\n",
      "WARNING: Trying to predict next state from state 11 taking action 1 , but this transition is never seen in the data. Data point: 0 7\n",
      "WARNING: Trying to predict next state from state 11 taking action 1 , but this transition is never seen in the data. Data point: 0 8\n",
      "WARNING: Trying to predict next state from state 0 taking action 0 , but this transition is never seen in the data. Data point: 0 10\n",
      "WARNING: Trying to predict next state from state 0 taking action 0 , but this transition is never seen in the data. Data point: 0 11\n",
      "WARNING: Trying to predict next state from state 0 taking action 0 , but this transition is never seen in the data. Data point: 0 12\n",
      "WARNING: Trying to predict next state from state 0 taking action 3 , but this transition is never seen in the data. Data point: 0 13\n",
      "WARNING: Trying to predict next state from state 11 taking action 1 , but this transition is never seen in the data. Data point: 0 15\n",
      "WARNING: Trying to predict next state from state 11 taking action 1 , but this transition is never seen in the data. Data point: 0 16\n",
      "WARNING: Trying to predict next state from state 7 taking action 3 , but this transition is never seen in the data. Data point: 1 14\n",
      "WARNING: Trying to predict next state from state 7 taking action 2 , but this transition is never seen in the data. Data point: 1 15\n",
      "WARNING: Trying to predict next state from state 12 taking action 3 , but this transition is never seen in the data. Data point: 2 3\n",
      "WARNING: Trying to predict next state from state 9 taking action 3 , but this transition is never seen in the data. Data point: 2 18\n",
      "WARNING: In training value evaluation, trying to predict next state from state 11 taking action 1 , but this transition is never seen in the data. Data point: 0 4\n",
      "WARNING: In training value evaluation, trying to predict next state from state 11 taking action 1 , but this transition is never seen in the data. Data point: 0 5\n",
      "WARNING: In training value evaluation, trying to predict next state from state 11 taking action 1 , but this transition is never seen in the data. Data point: 0 6\n",
      "WARNING: In training value evaluation, trying to predict next state from state 11 taking action 1 , but this transition is never seen in the data. Data point: 0 7\n",
      "WARNING: In training value evaluation, trying to predict next state from state 0 taking action 0 , but this transition is never seen in the data. Data point: 0 9\n",
      "WARNING: In training value evaluation, trying to predict next state from state 0 taking action 0 , but this transition is never seen in the data. Data point: 0 10\n",
      "WARNING: In training value evaluation, trying to predict next state from state 0 taking action 0 , but this transition is never seen in the data. Data point: 0 11\n",
      "WARNING: In training value evaluation, trying to predict next state from state 0 taking action 3 , but this transition is never seen in the data. Data point: 0 12\n",
      "WARNING: In training value evaluation, trying to predict next state from state 11 taking action 1 , but this transition is never seen in the data. Data point: 0 14\n",
      "WARNING: In training value evaluation, trying to predict next state from state 11 taking action 1 , but this transition is never seen in the data. Data point: 0 15\n",
      "WARNING: In training value evaluation, trying to predict next state from state 11 taking action 1 , but this transition is never seen in the data. Data point: 0 16\n",
      "WARNING: In training value evaluation, trying to predict next state from state 7 taking action 3 , but this transition is never seen in the data. Data point: 1 13\n",
      "WARNING: In training value evaluation, trying to predict next state from state 7 taking action 2 , but this transition is never seen in the data. Data point: 1 14\n",
      "WARNING: In training value evaluation, trying to predict next state from state 12 taking action 3 , but this transition is never seen in the data. Data point: 2 2\n",
      "WARNING: In training value evaluation, trying to predict next state from state 9 taking action 3 , but this transition is never seen in the data. Data point: 2 17\n",
      "WARNING: In training value evaluation, trying to predict next state from state 6 taking action 1 , but this transition is never seen in the data. Data point: 2 23\n"
     ]
    },
    {
     "name": "stderr",
     "output_type": "stream",
     "text": [
      "Splitting... |#Clusters:18:  73%|███████▎  | 16/22 [00:04<00:02,  2.26it/s]"
     ]
    },
    {
     "name": "stdout",
     "output_type": "stream",
     "text": [
      "WARNING: Trying to predict next state from state 11 taking action 1 , but this transition is never seen in the data. Data point: 0 5\n",
      "WARNING: Trying to predict next state from state 11 taking action 1 , but this transition is never seen in the data. Data point: 0 6\n",
      "WARNING: Trying to predict next state from state 11 taking action 1 , but this transition is never seen in the data. Data point: 0 7\n",
      "WARNING: Trying to predict next state from state 11 taking action 1 , but this transition is never seen in the data. Data point: 0 8\n",
      "WARNING: Trying to predict next state from state 0 taking action 0 , but this transition is never seen in the data. Data point: 0 10\n",
      "WARNING: Trying to predict next state from state 0 taking action 0 , but this transition is never seen in the data. Data point: 0 11\n",
      "WARNING: Trying to predict next state from state 0 taking action 0 , but this transition is never seen in the data. Data point: 0 12\n",
      "WARNING: Trying to predict next state from state 0 taking action 3 , but this transition is never seen in the data. Data point: 0 13\n",
      "WARNING: Trying to predict next state from state 11 taking action 1 , but this transition is never seen in the data. Data point: 0 15\n",
      "WARNING: Trying to predict next state from state 11 taking action 1 , but this transition is never seen in the data. Data point: 0 16\n",
      "WARNING: Trying to predict next state from state 12 taking action 3 , but this transition is never seen in the data. Data point: 2 3\n",
      "WARNING: Trying to predict next state from state 9 taking action 1 , but this transition is never seen in the data. Data point: 2 9\n",
      "WARNING: Trying to predict next state from state 9 taking action 1 , but this transition is never seen in the data. Data point: 2 10\n",
      "WARNING: Trying to predict next state from state 17 taking action 3 , but this transition is never seen in the data. Data point: 2 18\n",
      "WARNING: In training value evaluation, trying to predict next state from state 11 taking action 1 , but this transition is never seen in the data. Data point: 0 4\n",
      "WARNING: In training value evaluation, trying to predict next state from state 11 taking action 1 , but this transition is never seen in the data. Data point: 0 5\n",
      "WARNING: In training value evaluation, trying to predict next state from state 11 taking action 1 , but this transition is never seen in the data. Data point: 0 6\n",
      "WARNING: In training value evaluation, trying to predict next state from state 11 taking action 1 , but this transition is never seen in the data. Data point: 0 7\n",
      "WARNING: In training value evaluation, trying to predict next state from state 0 taking action 0 , but this transition is never seen in the data. Data point: 0 9\n",
      "WARNING: In training value evaluation, trying to predict next state from state 0 taking action 0 , but this transition is never seen in the data. Data point: 0 10\n",
      "WARNING: In training value evaluation, trying to predict next state from state 0 taking action 0 , but this transition is never seen in the data. Data point: 0 11\n",
      "WARNING: In training value evaluation, trying to predict next state from state 0 taking action 3 , but this transition is never seen in the data. Data point: 0 12\n",
      "WARNING: In training value evaluation, trying to predict next state from state 11 taking action 1 , but this transition is never seen in the data. Data point: 0 14\n",
      "WARNING: In training value evaluation, trying to predict next state from state 11 taking action 1 , but this transition is never seen in the data. Data point: 0 15\n",
      "WARNING: In training value evaluation, trying to predict next state from state 11 taking action 1 , but this transition is never seen in the data. Data point: 0 16\n",
      "WARNING: In training value evaluation, trying to predict next state from state 12 taking action 3 , but this transition is never seen in the data. Data point: 2 2\n",
      "WARNING: In training value evaluation, trying to predict next state from state 9 taking action 1 , but this transition is never seen in the data. Data point: 2 8\n",
      "WARNING: In training value evaluation, trying to predict next state from state 9 taking action 1 , but this transition is never seen in the data. Data point: 2 9\n",
      "WARNING: In training value evaluation, trying to predict next state from state 17 taking action 3 , but this transition is never seen in the data. Data point: 2 17\n"
     ]
    },
    {
     "name": "stderr",
     "output_type": "stream",
     "text": [
      "Splitting... |#Clusters:19:  77%|███████▋  | 17/22 [00:05<00:02,  2.31it/s]"
     ]
    },
    {
     "name": "stdout",
     "output_type": "stream",
     "text": [
      "WARNING: Trying to predict next state from state 11 taking action 1 , but this transition is never seen in the data. Data point: 0 5\n",
      "WARNING: Trying to predict next state from state 11 taking action 1 , but this transition is never seen in the data. Data point: 0 6\n",
      "WARNING: Trying to predict next state from state 11 taking action 1 , but this transition is never seen in the data. Data point: 0 7\n",
      "WARNING: Trying to predict next state from state 11 taking action 1 , but this transition is never seen in the data. Data point: 0 8\n",
      "WARNING: Trying to predict next state from state 0 taking action 0 , but this transition is never seen in the data. Data point: 0 10\n",
      "WARNING: Trying to predict next state from state 0 taking action 0 , but this transition is never seen in the data. Data point: 0 11\n",
      "WARNING: Trying to predict next state from state 0 taking action 0 , but this transition is never seen in the data. Data point: 0 12\n",
      "WARNING: Trying to predict next state from state 0 taking action 3 , but this transition is never seen in the data. Data point: 0 13\n",
      "WARNING: Trying to predict next state from state 11 taking action 1 , but this transition is never seen in the data. Data point: 0 15\n",
      "WARNING: Trying to predict next state from state 11 taking action 1 , but this transition is never seen in the data. Data point: 0 16\n",
      "WARNING: Trying to predict next state from state 12 taking action 3 , but this transition is never seen in the data. Data point: 2 3\n",
      "WARNING: Trying to predict next state from state 9 taking action 1 , but this transition is never seen in the data. Data point: 2 9\n",
      "WARNING: Trying to predict next state from state 9 taking action 1 , but this transition is never seen in the data. Data point: 2 10\n",
      "WARNING: Trying to predict next state from state 17 taking action 3 , but this transition is never seen in the data. Data point: 2 18\n",
      "WARNING: In training value evaluation, trying to predict next state from state 11 taking action 1 , but this transition is never seen in the data. Data point: 0 4\n",
      "WARNING: In training value evaluation, trying to predict next state from state 11 taking action 1 , but this transition is never seen in the data. Data point: 0 5\n",
      "WARNING: In training value evaluation, trying to predict next state from state 11 taking action 1 , but this transition is never seen in the data. Data point: 0 6\n",
      "WARNING: In training value evaluation, trying to predict next state from state 11 taking action 1 , but this transition is never seen in the data. Data point: 0 7\n",
      "WARNING: In training value evaluation, trying to predict next state from state 0 taking action 0 , but this transition is never seen in the data. Data point: 0 9\n",
      "WARNING: In training value evaluation, trying to predict next state from state 0 taking action 0 , but this transition is never seen in the data. Data point: 0 10\n",
      "WARNING: In training value evaluation, trying to predict next state from state 0 taking action 0 , but this transition is never seen in the data. Data point: 0 11\n",
      "WARNING: In training value evaluation, trying to predict next state from state 0 taking action 3 , but this transition is never seen in the data. Data point: 0 12\n",
      "WARNING: In training value evaluation, trying to predict next state from state 11 taking action 1 , but this transition is never seen in the data. Data point: 0 14\n",
      "WARNING: In training value evaluation, trying to predict next state from state 11 taking action 1 , but this transition is never seen in the data. Data point: 0 15\n",
      "WARNING: In training value evaluation, trying to predict next state from state 11 taking action 1 , but this transition is never seen in the data. Data point: 0 16\n",
      "WARNING: In training value evaluation, trying to predict next state from state 12 taking action 3 , but this transition is never seen in the data. Data point: 2 2\n",
      "WARNING: In training value evaluation, trying to predict next state from state 9 taking action 1 , but this transition is never seen in the data. Data point: 2 8\n",
      "WARNING: In training value evaluation, trying to predict next state from state 9 taking action 1 , but this transition is never seen in the data. Data point: 2 9\n",
      "WARNING: In training value evaluation, trying to predict next state from state 17 taking action 3 , but this transition is never seen in the data. Data point: 2 17\n"
     ]
    },
    {
     "name": "stderr",
     "output_type": "stream",
     "text": [
      "Splitting... |#Clusters:20:  82%|████████▏ | 18/22 [00:05<00:01,  2.44it/s]"
     ]
    },
    {
     "name": "stdout",
     "output_type": "stream",
     "text": [
      "WARNING: Trying to predict next state from state 12 taking action 3 , but this transition is never seen in the data. Data point: 2 3\n",
      "WARNING: Trying to predict next state from state 9 taking action 1 , but this transition is never seen in the data. Data point: 2 9\n",
      "WARNING: Trying to predict next state from state 9 taking action 1 , but this transition is never seen in the data. Data point: 2 10\n",
      "WARNING: Trying to predict next state from state 17 taking action 3 , but this transition is never seen in the data. Data point: 2 18\n",
      "WARNING: In training value evaluation, trying to predict next state from state 12 taking action 3 , but this transition is never seen in the data. Data point: 2 2\n",
      "WARNING: In training value evaluation, trying to predict next state from state 9 taking action 1 , but this transition is never seen in the data. Data point: 2 8\n",
      "WARNING: In training value evaluation, trying to predict next state from state 9 taking action 1 , but this transition is never seen in the data. Data point: 2 9\n",
      "WARNING: In training value evaluation, trying to predict next state from state 17 taking action 3 , but this transition is never seen in the data. Data point: 2 17\n"
     ]
    },
    {
     "name": "stderr",
     "output_type": "stream",
     "text": [
      "Splitting... |#Clusters:21:  86%|████████▋ | 19/22 [00:05<00:01,  2.62it/s]"
     ]
    },
    {
     "name": "stdout",
     "output_type": "stream",
     "text": [
      "WARNING: Trying to predict next state from state 12 taking action 2 , but this transition is never seen in the data. Data point: 1 2\n",
      "WARNING: Trying to predict next state from state 19 taking action 1 , but this transition is never seen in the data. Data point: 2 6\n",
      "WARNING: Trying to predict next state from state 19 taking action 1 , but this transition is never seen in the data. Data point: 2 7\n",
      "WARNING: Trying to predict next state from state 19 taking action 1 , but this transition is never seen in the data. Data point: 2 8\n",
      "WARNING: Trying to predict next state from state 19 taking action 1 , but this transition is never seen in the data. Data point: 2 9\n",
      "WARNING: Trying to predict next state from state 19 taking action 1 , but this transition is never seen in the data. Data point: 2 10\n",
      "WARNING: Trying to predict next state from state 0 taking action 0 , but this transition is never seen in the data. Data point: 2 12\n",
      "WARNING: Trying to predict next state from state 19 taking action 1 , but this transition is never seen in the data. Data point: 2 15\n",
      "WARNING: Trying to predict next state from state 19 taking action 1 , but this transition is never seen in the data. Data point: 2 16\n",
      "WARNING: In training value evaluation, trying to predict next state from state 12 taking action 2 , but this transition is never seen in the data. Data point: 1 1\n",
      "WARNING: In training value evaluation, trying to predict next state from state 19 taking action 1 , but this transition is never seen in the data. Data point: 2 5\n",
      "WARNING: In training value evaluation, trying to predict next state from state 19 taking action 1 , but this transition is never seen in the data. Data point: 2 6\n",
      "WARNING: In training value evaluation, trying to predict next state from state 19 taking action 1 , but this transition is never seen in the data. Data point: 2 7\n",
      "WARNING: In training value evaluation, trying to predict next state from state 19 taking action 1 , but this transition is never seen in the data. Data point: 2 8\n",
      "WARNING: In training value evaluation, trying to predict next state from state 19 taking action 1 , but this transition is never seen in the data. Data point: 2 9\n",
      "WARNING: In training value evaluation, trying to predict next state from state 0 taking action 0 , but this transition is never seen in the data. Data point: 2 11\n",
      "WARNING: In training value evaluation, trying to predict next state from state 19 taking action 1 , but this transition is never seen in the data. Data point: 2 14\n",
      "WARNING: In training value evaluation, trying to predict next state from state 19 taking action 1 , but this transition is never seen in the data. Data point: 2 15\n"
     ]
    },
    {
     "name": "stderr",
     "output_type": "stream",
     "text": [
      "Splitting... |#Clusters:22:  91%|█████████ | 20/22 [00:06<00:00,  2.78it/s]"
     ]
    },
    {
     "name": "stdout",
     "output_type": "stream",
     "text": [
      "WARNING: Trying to predict next state from state 12 taking action 2 , but this transition is never seen in the data. Data point: 1 2\n",
      "WARNING: Trying to predict next state from state 10 taking action 3 , but this transition is never seen in the data. Data point: 1 7\n",
      "WARNING: Trying to predict next state from state 10 taking action 0 , but this transition is never seen in the data. Data point: 1 8\n",
      "WARNING: Trying to predict next state from state 7 taking action 3 , but this transition is never seen in the data. Data point: 1 14\n",
      "WARNING: Trying to predict next state from state 7 taking action 2 , but this transition is never seen in the data. Data point: 1 15\n",
      "WARNING: Trying to predict next state from state 19 taking action 1 , but this transition is never seen in the data. Data point: 2 6\n",
      "WARNING: Trying to predict next state from state 19 taking action 1 , but this transition is never seen in the data. Data point: 2 7\n",
      "WARNING: Trying to predict next state from state 19 taking action 1 , but this transition is never seen in the data. Data point: 2 8\n",
      "WARNING: Trying to predict next state from state 19 taking action 1 , but this transition is never seen in the data. Data point: 2 9\n",
      "WARNING: Trying to predict next state from state 19 taking action 1 , but this transition is never seen in the data. Data point: 2 10\n",
      "WARNING: Trying to predict next state from state 0 taking action 0 , but this transition is never seen in the data. Data point: 2 12\n",
      "WARNING: Trying to predict next state from state 19 taking action 1 , but this transition is never seen in the data. Data point: 2 15\n",
      "WARNING: Trying to predict next state from state 19 taking action 1 , but this transition is never seen in the data. Data point: 2 16\n",
      "WARNING: In training value evaluation, trying to predict next state from state 12 taking action 2 , but this transition is never seen in the data. Data point: 1 1\n",
      "WARNING: In training value evaluation, trying to predict next state from state 10 taking action 3 , but this transition is never seen in the data. Data point: 1 6\n",
      "WARNING: In training value evaluation, trying to predict next state from state 10 taking action 0 , but this transition is never seen in the data. Data point: 1 7\n",
      "WARNING: In training value evaluation, trying to predict next state from state 7 taking action 3 , but this transition is never seen in the data. Data point: 1 13\n",
      "WARNING: In training value evaluation, trying to predict next state from state 7 taking action 2 , but this transition is never seen in the data. Data point: 1 14\n",
      "WARNING: In training value evaluation, trying to predict next state from state 19 taking action 1 , but this transition is never seen in the data. Data point: 2 5\n",
      "WARNING: In training value evaluation, trying to predict next state from state 19 taking action 1 , but this transition is never seen in the data. Data point: 2 6\n",
      "WARNING: In training value evaluation, trying to predict next state from state 19 taking action 1 , but this transition is never seen in the data. Data point: 2 7\n",
      "WARNING: In training value evaluation, trying to predict next state from state 19 taking action 1 , but this transition is never seen in the data. Data point: 2 8\n",
      "WARNING: In training value evaluation, trying to predict next state from state 19 taking action 1 , but this transition is never seen in the data. Data point: 2 9\n",
      "WARNING: In training value evaluation, trying to predict next state from state 0 taking action 0 , but this transition is never seen in the data. Data point: 2 11\n",
      "WARNING: In training value evaluation, trying to predict next state from state 19 taking action 1 , but this transition is never seen in the data. Data point: 2 14\n",
      "WARNING: In training value evaluation, trying to predict next state from state 19 taking action 1 , but this transition is never seen in the data. Data point: 2 15\n"
     ]
    },
    {
     "name": "stderr",
     "output_type": "stream",
     "text": [
      "Splitting... |#Clusters:23:  95%|█████████▌| 21/22 [00:06<00:00,  2.96it/s]"
     ]
    },
    {
     "name": "stdout",
     "output_type": "stream",
     "text": [
      "WARNING: Trying to predict next state from state 12 taking action 2 , but this transition is never seen in the data. Data point: 1 2\n",
      "WARNING: Trying to predict next state from state 19 taking action 1 , but this transition is never seen in the data. Data point: 2 6\n",
      "WARNING: Trying to predict next state from state 19 taking action 1 , but this transition is never seen in the data. Data point: 2 7\n",
      "WARNING: Trying to predict next state from state 19 taking action 1 , but this transition is never seen in the data. Data point: 2 8\n",
      "WARNING: Trying to predict next state from state 19 taking action 1 , but this transition is never seen in the data. Data point: 2 9\n",
      "WARNING: Trying to predict next state from state 19 taking action 1 , but this transition is never seen in the data. Data point: 2 10\n",
      "WARNING: Trying to predict next state from state 0 taking action 0 , but this transition is never seen in the data. Data point: 2 12\n",
      "WARNING: Trying to predict next state from state 19 taking action 1 , but this transition is never seen in the data. Data point: 2 15\n",
      "WARNING: Trying to predict next state from state 19 taking action 1 , but this transition is never seen in the data. Data point: 2 16\n",
      "WARNING: In training value evaluation, trying to predict next state from state 12 taking action 2 , but this transition is never seen in the data. Data point: 1 1\n",
      "WARNING: In training value evaluation, trying to predict next state from state 19 taking action 1 , but this transition is never seen in the data. Data point: 2 5\n",
      "WARNING: In training value evaluation, trying to predict next state from state 19 taking action 1 , but this transition is never seen in the data. Data point: 2 6\n",
      "WARNING: In training value evaluation, trying to predict next state from state 19 taking action 1 , but this transition is never seen in the data. Data point: 2 7\n",
      "WARNING: In training value evaluation, trying to predict next state from state 19 taking action 1 , but this transition is never seen in the data. Data point: 2 8\n",
      "WARNING: In training value evaluation, trying to predict next state from state 19 taking action 1 , but this transition is never seen in the data. Data point: 2 9\n",
      "WARNING: In training value evaluation, trying to predict next state from state 0 taking action 0 , but this transition is never seen in the data. Data point: 2 11\n",
      "WARNING: In training value evaluation, trying to predict next state from state 19 taking action 1 , but this transition is never seen in the data. Data point: 2 14\n",
      "WARNING: In training value evaluation, trying to predict next state from state 19 taking action 1 , but this transition is never seen in the data. Data point: 2 15\n",
      "WARNING: Trying to predict next state from state 12 taking action 2 , but this transition is never seen in the data. Data point: 1 2\n",
      "WARNING: Trying to predict next state from state 19 taking action 1 , but this transition is never seen in the data. Data point: 2 6\n",
      "WARNING: Trying to predict next state from state 19 taking action 1 , but this transition is never seen in the data. Data point: 2 7\n",
      "WARNING: Trying to predict next state from state 19 taking action 1 , but this transition is never seen in the data. Data point: 2 8\n",
      "WARNING: Trying to predict next state from state 19 taking action 1 , but this transition is never seen in the data. Data point: 2 9\n",
      "WARNING: Trying to predict next state from state 19 taking action 1 , but this transition is never seen in the data. Data point: 2 10\n",
      "WARNING: Trying to predict next state from state 0 taking action 0 , but this transition is never seen in the data. Data point: 2 12\n",
      "WARNING: Trying to predict next state from state 19 taking action 1 , but this transition is never seen in the data. Data point: 2 15\n",
      "WARNING: Trying to predict next state from state 19 taking action 1 , but this transition is never seen in the data. Data point: 2 16\n",
      "WARNING: In training value evaluation, trying to predict next state from state 12 taking action 2 , but this transition is never seen in the data. Data point: 1 1\n",
      "WARNING: In training value evaluation, trying to predict next state from state 19 taking action 1 , but this transition is never seen in the data. Data point: 2 5\n",
      "WARNING: In training value evaluation, trying to predict next state from state 19 taking action 1 , but this transition is never seen in the data. Data point: 2 6\n",
      "WARNING: In training value evaluation, trying to predict next state from state 19 taking action 1 , but this transition is never seen in the data. Data point: 2 7\n",
      "WARNING: In training value evaluation, trying to predict next state from state 19 taking action 1 , but this transition is never seen in the data. Data point: 2 8\n",
      "WARNING: In training value evaluation, trying to predict next state from state 19 taking action 1 , but this transition is never seen in the data. Data point: 2 9\n",
      "WARNING: In training value evaluation, trying to predict next state from state 0 taking action 0 , but this transition is never seen in the data. Data point: 2 11\n",
      "WARNING: In training value evaluation, trying to predict next state from state 19 taking action 1 , but this transition is never seen in the data. Data point: 2 14\n",
      "WARNING: In training value evaluation, trying to predict next state from state 19 taking action 1 , but this transition is never seen in the data. Data point: 2 15\n"
     ]
    },
    {
     "name": "stderr",
     "output_type": "stream",
     "text": [
      "\r",
      "Splitting... |#Clusters:23:  95%|█████████▌| 21/22 [00:06<00:00,  3.07it/s]"
     ]
    },
    {
     "name": "stdout",
     "output_type": "stream",
     "text": [
      "Optimal # of clusters reached\n"
     ]
    },
    {
     "name": "stderr",
     "output_type": "stream",
     "text": [
      "\n"
     ]
    },
    {
     "data": {
      "image/png": "[encoded data removed]",
      "text/plain": [
       "<Figure size 432x288 with 1 Axes>"
      ]
     },
     "metadata": {
      "needs_background": "light"
     },
     "output_type": "display_data"
    },
    {
     "data": {
      "image/png": "[encoded data removed]",
      "text/plain": [
       "<Figure size 432x288 with 1 Axes>"
      ]
     },
     "metadata": {
      "needs_background": "light"
     },
     "output_type": "display_data"
    },
    {
     "name": "stderr",
     "output_type": "stream",
     "text": [
      "/opt/anaconda3/lib/python3.7/site-packages/sklearn/model_selection/_split.py:667: UserWarning: The least populated class in y has only 1 members, which is less than n_splits=5.\n",
      "  % (min_groups, self.n_splits)), UserWarning)\n",
      "/opt/anaconda3/lib/python3.7/site-packages/sklearn/model_selection/_search.py:823: FutureWarning: The parameter 'iid' is deprecated in 0.22 and will be removed in 0.24.\n",
      "  \"removed in 0.24.\", FutureWarning\n"
     ]
    },
    {
     "name": "stdout",
     "output_type": "stream",
     "text": [
      "    ID  TIME  FEATURE_0  FEATURE_1 ACTION   RISK  OG_CLUSTER  \\\n",
      "0    0     0   0.877380  -0.022002      0 -0.004           0   \n",
      "1    0     1   0.697367  -0.838886      2 -0.004           0   \n",
      "2    0     2   1.243616  -0.187872      0 -0.004           1   \n",
      "3    0     3   1.194918  -0.284411      2 -0.004           1   \n",
      "4    0     4   2.195323  -0.764018      1 -0.004           2   \n",
      "..  ..   ...        ...        ...    ...    ...         ...   \n",
      "63   2    20   3.399181  -2.435424      2 -0.004          13   \n",
      "64   2    21   3.951357  -2.126681      0 -0.004          13   \n",
      "65   2    22   3.749557  -1.351670      2 -0.004           8   \n",
      "66   2    23   4.730149  -1.862744      1 -0.004           9   \n",
      "67   2    24   4.713666  -2.726934      1 -0.004          14   \n",
      "\n",
      "                                          x_t2  \\\n",
      "0   [0.21017752262029965, -0.8550819699395595]   \n",
      "1    [1.2893911119752768, -0.7869577266792496]   \n",
      "2    [1.0920662960831764, -0.3901149715328337]   \n",
      "3     [2.247755168004683, -0.7741473250744086]   \n",
      "4    [2.6465784102433636, -1.5997726013609719]   \n",
      "..                                         ...   \n",
      "63      [3.16745036973155, -2.144191330324545]   \n",
      "64    [3.0389419279011705, -1.527828071270957]   \n",
      "65    [4.465041889070431, -1.9761690210197094]   \n",
      "66     [4.133982933671496, -2.279798676021116]   \n",
      "67    [4.253147690671056, -3.9190148250864185]   \n",
      "\n",
      "                                               a0  \\\n",
      "0   [0.21017752262029965, -0.8550819699395595, 0]   \n",
      "1    [1.2893911119752768, -0.7869577266792496, 0]   \n",
      "2    [1.0920662960831764, -0.3901149715328337, 0]   \n",
      "3     [2.247755168004683, -0.7741473250744086, 0]   \n",
      "4    [2.6465784102433636, -1.5997726013609719, 0]   \n",
      "..                                            ...   \n",
      "63      [3.16745036973155, -2.144191330324545, 0]   \n",
      "64    [3.0389419279011705, -1.527828071270957, 0]   \n",
      "65    [4.465041889070431, -1.9761690210197094, 0]   \n",
      "66     [4.133982933671496, -2.279798676021116, 0]   \n",
      "67    [4.253147690671056, -3.9190148250864185, 0]   \n",
      "\n",
      "                                               a1  \\\n",
      "0   [0.21017752262029965, -0.8550819699395595, 1]   \n",
      "1    [1.2893911119752768, -0.7869577266792496, 1]   \n",
      "2    [1.0920662960831764, -0.3901149715328337, 1]   \n",
      "3     [2.247755168004683, -0.7741473250744086, 1]   \n",
      "4    [2.6465784102433636, -1.5997726013609719, 1]   \n",
      "..                                            ...   \n",
      "63      [3.16745036973155, -2.144191330324545, 1]   \n",
      "64    [3.0389419279011705, -1.527828071270957, 1]   \n",
      "65    [4.465041889070431, -1.9761690210197094, 1]   \n",
      "66     [4.133982933671496, -2.279798676021116, 1]   \n",
      "67    [4.253147690671056, -3.9190148250864185, 1]   \n",
      "\n",
      "                                               a2  \\\n",
      "0   [0.21017752262029965, -0.8550819699395595, 2]   \n",
      "1    [1.2893911119752768, -0.7869577266792496, 2]   \n",
      "2    [1.0920662960831764, -0.3901149715328337, 2]   \n",
      "3     [2.247755168004683, -0.7741473250744086, 2]   \n",
      "4    [2.6465784102433636, -1.5997726013609719, 2]   \n",
      "..                                            ...   \n",
      "63      [3.16745036973155, -2.144191330324545, 2]   \n",
      "64    [3.0389419279011705, -1.527828071270957, 2]   \n",
      "65    [4.465041889070431, -1.9761690210197094, 2]   \n",
      "66     [4.133982933671496, -2.279798676021116, 2]   \n",
      "67    [4.253147690671056, -3.9190148250864185, 2]   \n",
      "\n",
      "                                               a3  \n",
      "0   [0.21017752262029965, -0.8550819699395595, 3]  \n",
      "1    [1.2893911119752768, -0.7869577266792496, 3]  \n",
      "2    [1.0920662960831764, -0.3901149715328337, 3]  \n",
      "3     [2.247755168004683, -0.7741473250744086, 3]  \n",
      "4    [2.6465784102433636, -1.5997726013609719, 3]  \n",
      "..                                            ...  \n",
      "63      [3.16745036973155, -2.144191330324545, 3]  \n",
      "64    [3.0389419279011705, -1.527828071270957, 3]  \n",
      "65    [4.465041889070431, -1.9761690210197094, 3]  \n",
      "66     [4.133982933671496, -2.279798676021116, 3]  \n",
      "67    [4.253147690671056, -3.9190148250864185, 3]  \n",
      "\n",
      "[68 rows x 12 columns]\n",
      "New training features\n",
      "    FEATURE_0  FEATURE_1 ACTION\n",
      "0    0.877380  -0.022002      0\n",
      "1    0.697367  -0.838886      2\n",
      "2    1.243616  -0.187872      0\n",
      "3    1.194918  -0.284411      2\n",
      "4    2.195323  -0.764018      1\n",
      "..        ...        ...    ...\n",
      "63   3.399181  -2.435424      2\n",
      "64   3.951357  -2.126681      0\n",
      "65   3.749557  -1.351670      2\n",
      "66   4.730149  -1.862744      1\n",
      "67   4.713666  -2.726934      1\n",
      "\n",
      "[68 rows x 3 columns]\n"
     ]
    },
    {
     "name": "stderr",
     "output_type": "stream",
     "text": [
      "100%|██████████| 100/100 [01:54<00:00,  1.15s/it]\n",
      "Splitting... |#Clusters:2:   0%|          | 0/23 [00:00<?, ?it/s]"
     ]
    },
    {
     "name": "stdout",
     "output_type": "stream",
     "text": [
      "N= 3  completed\n",
      "Clusters Initialized\n",
      "     ID  TIME  FEATURE_0  FEATURE_1 ACTION   RISK  OG_CLUSTER  CLUSTER  \\\n",
      "0     0     0   0.877380  -0.022002      0 -0.004           0        0   \n",
      "1     0     1   0.697367  -0.838886      2 -0.004           0        0   \n",
      "2     0     2   1.243616  -0.187872      0 -0.004           1        0   \n",
      "3     0     3   1.194918  -0.284411      2 -0.004           1        0   \n",
      "4     0     4   2.195323  -0.764018      1 -0.004           2        0   \n",
      "..   ..   ...        ...        ...    ...    ...         ...      ...   \n",
      "113   4    20   3.258398  -3.108609      2 -0.004          18        0   \n",
      "114   4    21   3.598067  -3.652361      0 -0.004          18        0   \n",
      "115   4    22   3.730016  -2.956302      1 -0.004          13        0   \n",
      "116   4    23   3.516287  -3.427061      0 -0.004          18        0   \n",
      "117   4    24   3.024403  -2.178761      0 -0.004          13        0   \n",
      "\n",
      "    NEXT_CLUSTER  \n",
      "0              0  \n",
      "1              0  \n",
      "2              0  \n",
      "3              0  \n",
      "4              0  \n",
      "..           ...  \n",
      "113            0  \n",
      "114            0  \n",
      "115            0  \n",
      "116            0  \n",
      "117         None  \n",
      "\n",
      "[118 rows x 9 columns]\n"
     ]
    },
    {
     "name": "stderr",
     "output_type": "stream",
     "text": [
      "Splitting... |#Clusters:13:  48%|████▊     | 11/23 [00:03<00:05,  2.29it/s]"
     ]
    },
    {
     "name": "stdout",
     "output_type": "stream",
     "text": [
      "WARNING: Trying to predict next state from state 9 taking action 1 , but this transition is never seen in the data. Data point: 1 23\n",
      "WARNING: Trying to predict next state from state 12 taking action 2 , but this transition is never seen in the data. Data point: 2 2\n",
      "WARNING: Trying to predict next state from state 12 taking action 2 , but this transition is never seen in the data. Data point: 2 4\n",
      "WARNING: Trying to predict next state from state 12 taking action 2 , but this transition is never seen in the data. Data point: 2 5\n",
      "WARNING: Trying to predict next state from state 9 taking action 2 , but this transition is never seen in the data. Data point: 2 21\n",
      "WARNING: Trying to predict next state from state 12 taking action 2 , but this transition is never seen in the data. Data point: 4 2\n",
      "WARNING: Trying to predict next state from state 12 taking action 2 , but this transition is never seen in the data. Data point: 4 3\n",
      "WARNING: In training value evaluation, trying to predict next state from state 9 taking action 1 , but this transition is never seen in the data. Data point: 1 22\n",
      "WARNING: In training value evaluation, trying to predict next state from state 9 taking action 2 , but this transition is never seen in the data. Data point: 1 23\n",
      "WARNING: In training value evaluation, trying to predict next state from state 12 taking action 2 , but this transition is never seen in the data. Data point: 2 1\n",
      "WARNING: In training value evaluation, trying to predict next state from state 12 taking action 2 , but this transition is never seen in the data. Data point: 2 3\n",
      "WARNING: In training value evaluation, trying to predict next state from state 12 taking action 2 , but this transition is never seen in the data. Data point: 2 4\n",
      "WARNING: In training value evaluation, trying to predict next state from state 9 taking action 2 , but this transition is never seen in the data. Data point: 2 20\n",
      "WARNING: In training value evaluation, trying to predict next state from state 12 taking action 2 , but this transition is never seen in the data. Data point: 4 1\n",
      "WARNING: In training value evaluation, trying to predict next state from state 12 taking action 2 , but this transition is never seen in the data. Data point: 4 2\n"
     ]
    },
    {
     "name": "stderr",
     "output_type": "stream",
     "text": [
      "Splitting... |#Clusters:14:  52%|█████▏    | 12/23 [00:04<00:04,  2.21it/s]"
     ]
    },
    {
     "name": "stdout",
     "output_type": "stream",
     "text": [
      "WARNING: Trying to predict next state from state 0 taking action 0 , but this transition is never seen in the data. Data point: 0 3\n",
      "WARNING: Trying to predict next state from state 9 taking action 1 , but this transition is never seen in the data. Data point: 1 23\n",
      "WARNING: Trying to predict next state from state 9 taking action 2 , but this transition is never seen in the data. Data point: 2 21\n",
      "WARNING: In training value evaluation, trying to predict next state from state 0 taking action 0 , but this transition is never seen in the data. Data point: 0 2\n",
      "WARNING: In training value evaluation, trying to predict next state from state 9 taking action 1 , but this transition is never seen in the data. Data point: 1 22\n",
      "WARNING: In training value evaluation, trying to predict next state from state 9 taking action 2 , but this transition is never seen in the data. Data point: 1 23\n",
      "WARNING: In training value evaluation, trying to predict next state from state 9 taking action 2 , but this transition is never seen in the data. Data point: 2 20\n"
     ]
    },
    {
     "name": "stderr",
     "output_type": "stream",
     "text": [
      "Splitting... |#Clusters:15:  57%|█████▋    | 13/23 [00:04<00:04,  2.13it/s]"
     ]
    },
    {
     "name": "stdout",
     "output_type": "stream",
     "text": [
      "WARNING: Trying to predict next state from state 0 taking action 0 , but this transition is never seen in the data. Data point: 0 3\n",
      "WARNING: Trying to predict next state from state 9 taking action 1 , but this transition is never seen in the data. Data point: 1 23\n",
      "WARNING: Trying to predict next state from state 9 taking action 2 , but this transition is never seen in the data. Data point: 2 21\n",
      "WARNING: In training value evaluation, trying to predict next state from state 0 taking action 0 , but this transition is never seen in the data. Data point: 0 2\n",
      "WARNING: In training value evaluation, trying to predict next state from state 9 taking action 1 , but this transition is never seen in the data. Data point: 1 22\n",
      "WARNING: In training value evaluation, trying to predict next state from state 9 taking action 2 , but this transition is never seen in the data. Data point: 1 23\n",
      "WARNING: In training value evaluation, trying to predict next state from state 9 taking action 2 , but this transition is never seen in the data. Data point: 2 20\n"
     ]
    },
    {
     "name": "stderr",
     "output_type": "stream",
     "text": [
      "Splitting... |#Clusters:16:  61%|██████    | 14/23 [00:05<00:04,  2.16it/s]"
     ]
    },
    {
     "name": "stdout",
     "output_type": "stream",
     "text": [
      "WARNING: Trying to predict next state from state 0 taking action 0 , but this transition is never seen in the data. Data point: 0 3\n",
      "WARNING: Trying to predict next state from state 11 taking action 0 , but this transition is never seen in the data. Data point: 1 21\n",
      "WARNING: Trying to predict next state from state 10 taking action 3 , but this transition is never seen in the data. Data point: 3 9\n",
      "WARNING: In training value evaluation, trying to predict next state from state 0 taking action 0 , but this transition is never seen in the data. Data point: 0 2\n",
      "WARNING: In training value evaluation, trying to predict next state from state 11 taking action 0 , but this transition is never seen in the data. Data point: 1 20\n",
      "WARNING: In training value evaluation, trying to predict next state from state 10 taking action 3 , but this transition is never seen in the data. Data point: 3 8\n"
     ]
    },
    {
     "name": "stderr",
     "output_type": "stream",
     "text": [
      "Splitting... |#Clusters:17:  65%|██████▌   | 15/23 [00:05<00:03,  2.25it/s]"
     ]
    },
    {
     "name": "stdout",
     "output_type": "stream",
     "text": [
      "WARNING: Trying to predict next state from state 0 taking action 0 , but this transition is never seen in the data. Data point: 0 3\n",
      "WARNING: Trying to predict next state from state 11 taking action 0 , but this transition is never seen in the data. Data point: 1 21\n",
      "WARNING: Trying to predict next state from state 10 taking action 3 , but this transition is never seen in the data. Data point: 3 9\n",
      "WARNING: In training value evaluation, trying to predict next state from state 0 taking action 0 , but this transition is never seen in the data. Data point: 0 2\n",
      "WARNING: In training value evaluation, trying to predict next state from state 11 taking action 0 , but this transition is never seen in the data. Data point: 1 20\n",
      "WARNING: In training value evaluation, trying to predict next state from state 10 taking action 3 , but this transition is never seen in the data. Data point: 3 8\n"
     ]
    },
    {
     "name": "stderr",
     "output_type": "stream",
     "text": [
      "Splitting... |#Clusters:18:  70%|██████▉   | 16/23 [00:05<00:02,  2.37it/s]"
     ]
    },
    {
     "name": "stdout",
     "output_type": "stream",
     "text": [
      "WARNING: Trying to predict next state from state 0 taking action 0 , but this transition is never seen in the data. Data point: 0 3\n",
      "WARNING: Trying to predict next state from state 11 taking action 0 , but this transition is never seen in the data. Data point: 1 21\n",
      "WARNING: Trying to predict next state from state 10 taking action 3 , but this transition is never seen in the data. Data point: 3 9\n",
      "WARNING: In training value evaluation, trying to predict next state from state 0 taking action 0 , but this transition is never seen in the data. Data point: 0 2\n",
      "WARNING: In training value evaluation, trying to predict next state from state 11 taking action 0 , but this transition is never seen in the data. Data point: 1 20\n",
      "WARNING: In training value evaluation, trying to predict next state from state 10 taking action 3 , but this transition is never seen in the data. Data point: 3 8\n"
     ]
    },
    {
     "name": "stderr",
     "output_type": "stream",
     "text": [
      "Splitting... |#Clusters:19:  74%|███████▍  | 17/23 [00:06<00:02,  2.49it/s]"
     ]
    },
    {
     "name": "stdout",
     "output_type": "stream",
     "text": [
      "WARNING: Trying to predict next state from state 0 taking action 0 , but this transition is never seen in the data. Data point: 0 3\n",
      "WARNING: Trying to predict next state from state 11 taking action 0 , but this transition is never seen in the data. Data point: 1 21\n",
      "WARNING: Trying to predict next state from state 10 taking action 3 , but this transition is never seen in the data. Data point: 3 9\n",
      "WARNING: In training value evaluation, trying to predict next state from state 0 taking action 0 , but this transition is never seen in the data. Data point: 0 2\n",
      "WARNING: In training value evaluation, trying to predict next state from state 11 taking action 0 , but this transition is never seen in the data. Data point: 1 20\n",
      "WARNING: In training value evaluation, trying to predict next state from state 10 taking action 3 , but this transition is never seen in the data. Data point: 3 8\n"
     ]
    },
    {
     "name": "stderr",
     "output_type": "stream",
     "text": [
      "Splitting... |#Clusters:20:  78%|███████▊  | 18/23 [00:06<00:02,  2.45it/s]"
     ]
    },
    {
     "name": "stdout",
     "output_type": "stream",
     "text": [
      "WARNING: Trying to predict next state from state 0 taking action 0 , but this transition is never seen in the data. Data point: 0 3\n",
      "WARNING: Trying to predict next state from state 11 taking action 0 , but this transition is never seen in the data. Data point: 1 21\n",
      "WARNING: Trying to predict next state from state 10 taking action 3 , but this transition is never seen in the data. Data point: 3 9\n",
      "WARNING: In training value evaluation, trying to predict next state from state 0 taking action 0 , but this transition is never seen in the data. Data point: 0 2\n",
      "WARNING: In training value evaluation, trying to predict next state from state 11 taking action 0 , but this transition is never seen in the data. Data point: 1 20\n",
      "WARNING: In training value evaluation, trying to predict next state from state 10 taking action 3 , but this transition is never seen in the data. Data point: 3 8\n"
     ]
    },
    {
     "name": "stderr",
     "output_type": "stream",
     "text": [
      "Splitting... |#Clusters:21:  83%|████████▎ | 19/23 [00:07<00:01,  2.49it/s]"
     ]
    },
    {
     "name": "stdout",
     "output_type": "stream",
     "text": [
      "WARNING: Trying to predict next state from state 0 taking action 0 , but this transition is never seen in the data. Data point: 0 3\n",
      "WARNING: Trying to predict next state from state 11 taking action 0 , but this transition is never seen in the data. Data point: 1 21\n",
      "WARNING: Trying to predict next state from state 10 taking action 3 , but this transition is never seen in the data. Data point: 3 9\n",
      "WARNING: In training value evaluation, trying to predict next state from state 0 taking action 0 , but this transition is never seen in the data. Data point: 0 2\n",
      "WARNING: In training value evaluation, trying to predict next state from state 11 taking action 0 , but this transition is never seen in the data. Data point: 1 20\n",
      "WARNING: In training value evaluation, trying to predict next state from state 10 taking action 3 , but this transition is never seen in the data. Data point: 3 8\n"
     ]
    },
    {
     "name": "stderr",
     "output_type": "stream",
     "text": [
      "Splitting... |#Clusters:22:  87%|████████▋ | 20/23 [00:07<00:01,  2.49it/s]"
     ]
    },
    {
     "name": "stdout",
     "output_type": "stream",
     "text": [
      "WARNING: Trying to predict next state from state 0 taking action 0 , but this transition is never seen in the data. Data point: 0 3\n",
      "WARNING: Trying to predict next state from state 21 taking action 0 , but this transition is never seen in the data. Data point: 0 12\n",
      "WARNING: Trying to predict next state from state 11 taking action 0 , but this transition is never seen in the data. Data point: 1 21\n",
      "WARNING: Trying to predict next state from state 6 taking action 0 , but this transition is never seen in the data. Data point: 2 22\n",
      "WARNING: Trying to predict next state from state 10 taking action 3 , but this transition is never seen in the data. Data point: 3 9\n",
      "WARNING: Trying to predict next state from state 21 taking action 0 , but this transition is never seen in the data. Data point: 3 21\n",
      "WARNING: In training value evaluation, trying to predict next state from state 0 taking action 0 , but this transition is never seen in the data. Data point: 0 2\n",
      "WARNING: In training value evaluation, trying to predict next state from state 21 taking action 0 , but this transition is never seen in the data. Data point: 0 11\n",
      "WARNING: In training value evaluation, trying to predict next state from state 9 taking action 1 , but this transition is never seen in the data. Data point: 0 16\n",
      "WARNING: In training value evaluation, trying to predict next state from state 11 taking action 0 , but this transition is never seen in the data. Data point: 1 20\n",
      "WARNING: In training value evaluation, trying to predict next state from state 6 taking action 0 , but this transition is never seen in the data. Data point: 2 21\n",
      "WARNING: In training value evaluation, trying to predict next state from state 10 taking action 3 , but this transition is never seen in the data. Data point: 3 8\n",
      "WARNING: In training value evaluation, trying to predict next state from state 21 taking action 0 , but this transition is never seen in the data. Data point: 3 20\n"
     ]
    },
    {
     "name": "stderr",
     "output_type": "stream",
     "text": [
      "Splitting... |#Clusters:23:  91%|█████████▏| 21/23 [00:07<00:00,  2.59it/s]"
     ]
    },
    {
     "name": "stdout",
     "output_type": "stream",
     "text": [
      "WARNING: Trying to predict next state from state 0 taking action 0 , but this transition is never seen in the data. Data point: 0 3\n",
      "WARNING: Trying to predict next state from state 21 taking action 0 , but this transition is never seen in the data. Data point: 0 12\n",
      "WARNING: Trying to predict next state from state 11 taking action 0 , but this transition is never seen in the data. Data point: 1 21\n",
      "WARNING: Trying to predict next state from state 10 taking action 3 , but this transition is never seen in the data. Data point: 3 9\n",
      "WARNING: In training value evaluation, trying to predict next state from state 0 taking action 0 , but this transition is never seen in the data. Data point: 0 2\n",
      "WARNING: In training value evaluation, trying to predict next state from state 21 taking action 0 , but this transition is never seen in the data. Data point: 0 11\n",
      "WARNING: In training value evaluation, trying to predict next state from state 9 taking action 1 , but this transition is never seen in the data. Data point: 0 16\n",
      "WARNING: In training value evaluation, trying to predict next state from state 11 taking action 0 , but this transition is never seen in the data. Data point: 1 20\n",
      "WARNING: In training value evaluation, trying to predict next state from state 8 taking action 1 , but this transition is never seen in the data. Data point: 2 23\n",
      "WARNING: In training value evaluation, trying to predict next state from state 10 taking action 3 , but this transition is never seen in the data. Data point: 3 8\n"
     ]
    },
    {
     "name": "stderr",
     "output_type": "stream",
     "text": [
      "Splitting... |#Clusters:24:  96%|█████████▌| 22/23 [00:08<00:00,  2.65it/s]"
     ]
    },
    {
     "name": "stdout",
     "output_type": "stream",
     "text": [
      "WARNING: Trying to predict next state from state 0 taking action 0 , but this transition is never seen in the data. Data point: 0 3\n",
      "WARNING: Trying to predict next state from state 21 taking action 0 , but this transition is never seen in the data. Data point: 0 12\n",
      "WARNING: Trying to predict next state from state 11 taking action 0 , but this transition is never seen in the data. Data point: 1 21\n",
      "WARNING: Trying to predict next state from state 23 taking action 2 , but this transition is never seen in the data. Data point: 2 13\n",
      "WARNING: Trying to predict next state from state 23 taking action 2 , but this transition is never seen in the data. Data point: 2 23\n",
      "WARNING: Trying to predict next state from state 10 taking action 3 , but this transition is never seen in the data. Data point: 3 9\n",
      "WARNING: In training value evaluation, trying to predict next state from state 0 taking action 0 , but this transition is never seen in the data. Data point: 0 2\n",
      "WARNING: In training value evaluation, trying to predict next state from state 21 taking action 0 , but this transition is never seen in the data. Data point: 0 11\n",
      "WARNING: In training value evaluation, trying to predict next state from state 9 taking action 1 , but this transition is never seen in the data. Data point: 0 16\n",
      "WARNING: In training value evaluation, trying to predict next state from state 11 taking action 0 , but this transition is never seen in the data. Data point: 1 20\n",
      "WARNING: In training value evaluation, trying to predict next state from state 23 taking action 2 , but this transition is never seen in the data. Data point: 2 12\n",
      "WARNING: In training value evaluation, trying to predict next state from state 23 taking action 2 , but this transition is never seen in the data. Data point: 2 22\n",
      "WARNING: In training value evaluation, trying to predict next state from state 23 taking action 1 , but this transition is never seen in the data. Data point: 2 23\n",
      "WARNING: In training value evaluation, trying to predict next state from state 10 taking action 3 , but this transition is never seen in the data. Data point: 3 8\n"
     ]
    },
    {
     "name": "stderr",
     "output_type": "stream",
     "text": [
      "\r",
      "Splitting... |#Clusters:24:  96%|█████████▌| 22/23 [00:08<00:00,  2.57it/s]"
     ]
    },
    {
     "name": "stdout",
     "output_type": "stream",
     "text": [
      "WARNING: Trying to predict next state from state 0 taking action 0 , but this transition is never seen in the data. Data point: 0 3\n",
      "WARNING: Trying to predict next state from state 21 taking action 0 , but this transition is never seen in the data. Data point: 0 12\n",
      "WARNING: Trying to predict next state from state 11 taking action 0 , but this transition is never seen in the data. Data point: 1 21\n",
      "WARNING: Trying to predict next state from state 23 taking action 2 , but this transition is never seen in the data. Data point: 2 13\n",
      "WARNING: Trying to predict next state from state 23 taking action 2 , but this transition is never seen in the data. Data point: 2 23\n",
      "WARNING: Trying to predict next state from state 10 taking action 3 , but this transition is never seen in the data. Data point: 3 9\n",
      "WARNING: In training value evaluation, trying to predict next state from state 0 taking action 0 , but this transition is never seen in the data. Data point: 0 2\n",
      "WARNING: In training value evaluation, trying to predict next state from state 21 taking action 0 , but this transition is never seen in the data. Data point: 0 11\n",
      "WARNING: In training value evaluation, trying to predict next state from state 9 taking action 1 , but this transition is never seen in the data. Data point: 0 16\n",
      "WARNING: In training value evaluation, trying to predict next state from state 11 taking action 0 , but this transition is never seen in the data. Data point: 1 20\n",
      "WARNING: In training value evaluation, trying to predict next state from state 23 taking action 2 , but this transition is never seen in the data. Data point: 2 12\n",
      "WARNING: In training value evaluation, trying to predict next state from state 23 taking action 2 , but this transition is never seen in the data. Data point: 2 22\n",
      "WARNING: In training value evaluation, trying to predict next state from state 23 taking action 1 , but this transition is never seen in the data. Data point: 2 23\n",
      "WARNING: In training value evaluation, trying to predict next state from state 10 taking action 3 , but this transition is never seen in the data. Data point: 3 8\n",
      "Optimal # of clusters reached\n"
     ]
    },
    {
     "name": "stderr",
     "output_type": "stream",
     "text": [
      "\n"
     ]
    },
    {
     "data": {
      "image/png": "[encoded data removed]",
      "text/plain": [
       "<Figure size 432x288 with 1 Axes>"
      ]
     },
     "metadata": {
      "needs_background": "light"
     },
     "output_type": "display_data"
    },
    {
     "data": {
      "image/png": "[encoded data removed]",
      "text/plain": [
       "<Figure size 432x288 with 1 Axes>"
      ]
     },
     "metadata": {
      "needs_background": "light"
     },
     "output_type": "display_data"
    },
    {
     "name": "stderr",
     "output_type": "stream",
     "text": [
      "Splitting... |#Clusters:13:  69%|██████▉   | 11/16 [00:03<00:01,  2.77it/s]"
     ]
    },
    {
     "name": "stdout",
     "output_type": "stream",
     "text": [
      "WARNING: Trying to predict next state from state 9 taking action 1 , but this transition is never seen in the data. Data point: 1 23\n",
      "WARNING: Trying to predict next state from state 12 taking action 2 , but this transition is never seen in the data. Data point: 2 2\n",
      "WARNING: Trying to predict next state from state 12 taking action 2 , but this transition is never seen in the data. Data point: 2 4\n",
      "WARNING: Trying to predict next state from state 12 taking action 2 , but this transition is never seen in the data. Data point: 2 5\n",
      "WARNING: Trying to predict next state from state 9 taking action 2 , but this transition is never seen in the data. Data point: 2 21\n",
      "WARNING: Trying to predict next state from state 12 taking action 2 , but this transition is never seen in the data. Data point: 4 2\n",
      "WARNING: Trying to predict next state from state 12 taking action 2 , but this transition is never seen in the data. Data point: 4 3\n",
      "WARNING: In training value evaluation, trying to predict next state from state 9 taking action 1 , but this transition is never seen in the data. Data point: 1 22\n",
      "WARNING: In training value evaluation, trying to predict next state from state 9 taking action 2 , but this transition is never seen in the data. Data point: 1 23\n",
      "WARNING: In training value evaluation, trying to predict next state from state 12 taking action 2 , but this transition is never seen in the data. Data point: 2 1\n",
      "WARNING: In training value evaluation, trying to predict next state from state 12 taking action 2 , but this transition is never seen in the data. Data point: 2 3\n",
      "WARNING: In training value evaluation, trying to predict next state from state 12 taking action 2 , but this transition is never seen in the data. Data point: 2 4\n",
      "WARNING: In training value evaluation, trying to predict next state from state 9 taking action 2 , but this transition is never seen in the data. Data point: 2 20\n",
      "WARNING: In training value evaluation, trying to predict next state from state 12 taking action 2 , but this transition is never seen in the data. Data point: 4 1\n",
      "WARNING: In training value evaluation, trying to predict next state from state 12 taking action 2 , but this transition is never seen in the data. Data point: 4 2\n"
     ]
    },
    {
     "name": "stderr",
     "output_type": "stream",
     "text": [
      "Splitting... |#Clusters:14:  75%|███████▌  | 12/16 [00:03<00:01,  2.65it/s]"
     ]
    },
    {
     "name": "stdout",
     "output_type": "stream",
     "text": [
      "WARNING: Trying to predict next state from state 0 taking action 0 , but this transition is never seen in the data. Data point: 0 3\n",
      "WARNING: Trying to predict next state from state 9 taking action 1 , but this transition is never seen in the data. Data point: 1 23\n",
      "WARNING: Trying to predict next state from state 9 taking action 2 , but this transition is never seen in the data. Data point: 2 21\n",
      "WARNING: In training value evaluation, trying to predict next state from state 0 taking action 0 , but this transition is never seen in the data. Data point: 0 2\n",
      "WARNING: In training value evaluation, trying to predict next state from state 9 taking action 1 , but this transition is never seen in the data. Data point: 1 22\n",
      "WARNING: In training value evaluation, trying to predict next state from state 9 taking action 2 , but this transition is never seen in the data. Data point: 1 23\n",
      "WARNING: In training value evaluation, trying to predict next state from state 9 taking action 2 , but this transition is never seen in the data. Data point: 2 20\n"
     ]
    },
    {
     "name": "stderr",
     "output_type": "stream",
     "text": [
      "Splitting... |#Clusters:15:  81%|████████▏ | 13/16 [00:03<00:01,  2.55it/s]"
     ]
    },
    {
     "name": "stdout",
     "output_type": "stream",
     "text": [
      "WARNING: Trying to predict next state from state 0 taking action 0 , but this transition is never seen in the data. Data point: 0 3\n",
      "WARNING: Trying to predict next state from state 9 taking action 1 , but this transition is never seen in the data. Data point: 1 23\n",
      "WARNING: Trying to predict next state from state 9 taking action 2 , but this transition is never seen in the data. Data point: 2 21\n",
      "WARNING: In training value evaluation, trying to predict next state from state 0 taking action 0 , but this transition is never seen in the data. Data point: 0 2\n",
      "WARNING: In training value evaluation, trying to predict next state from state 9 taking action 1 , but this transition is never seen in the data. Data point: 1 22\n",
      "WARNING: In training value evaluation, trying to predict next state from state 9 taking action 2 , but this transition is never seen in the data. Data point: 1 23\n",
      "WARNING: In training value evaluation, trying to predict next state from state 9 taking action 2 , but this transition is never seen in the data. Data point: 2 20\n"
     ]
    },
    {
     "name": "stderr",
     "output_type": "stream",
     "text": [
      "Splitting... |#Clusters:16:  88%|████████▊ | 14/16 [00:04<00:00,  2.40it/s]"
     ]
    },
    {
     "name": "stdout",
     "output_type": "stream",
     "text": [
      "WARNING: Trying to predict next state from state 0 taking action 0 , but this transition is never seen in the data. Data point: 0 3\n",
      "WARNING: Trying to predict next state from state 11 taking action 0 , but this transition is never seen in the data. Data point: 1 21\n",
      "WARNING: Trying to predict next state from state 10 taking action 3 , but this transition is never seen in the data. Data point: 3 9\n",
      "WARNING: In training value evaluation, trying to predict next state from state 0 taking action 0 , but this transition is never seen in the data. Data point: 0 2\n",
      "WARNING: In training value evaluation, trying to predict next state from state 11 taking action 0 , but this transition is never seen in the data. Data point: 1 20\n",
      "WARNING: In training value evaluation, trying to predict next state from state 10 taking action 3 , but this transition is never seen in the data. Data point: 3 8\n"
     ]
    },
    {
     "name": "stderr",
     "output_type": "stream",
     "text": [
      "Splitting... |#Clusters:17:  94%|█████████▍| 15/16 [00:04<00:00,  2.43it/s]"
     ]
    },
    {
     "name": "stdout",
     "output_type": "stream",
     "text": [
      "WARNING: Trying to predict next state from state 0 taking action 0 , but this transition is never seen in the data. Data point: 0 3\n",
      "WARNING: Trying to predict next state from state 11 taking action 0 , but this transition is never seen in the data. Data point: 1 21\n",
      "WARNING: Trying to predict next state from state 10 taking action 3 , but this transition is never seen in the data. Data point: 3 9\n",
      "WARNING: In training value evaluation, trying to predict next state from state 0 taking action 0 , but this transition is never seen in the data. Data point: 0 2\n",
      "WARNING: In training value evaluation, trying to predict next state from state 11 taking action 0 , but this transition is never seen in the data. Data point: 1 20\n",
      "WARNING: In training value evaluation, trying to predict next state from state 10 taking action 3 , but this transition is never seen in the data. Data point: 3 8\n"
     ]
    },
    {
     "name": "stderr",
     "output_type": "stream",
     "text": [
      "\r",
      "Splitting... |#Clusters:17:  94%|█████████▍| 15/16 [00:05<00:00,  2.92it/s]"
     ]
    },
    {
     "name": "stdout",
     "output_type": "stream",
     "text": [
      "WARNING: Trying to predict next state from state 0 taking action 0 , but this transition is never seen in the data. Data point: 0 3\n",
      "WARNING: Trying to predict next state from state 11 taking action 0 , but this transition is never seen in the data. Data point: 1 21\n",
      "WARNING: Trying to predict next state from state 10 taking action 3 , but this transition is never seen in the data. Data point: 3 9\n",
      "WARNING: In training value evaluation, trying to predict next state from state 0 taking action 0 , but this transition is never seen in the data. Data point: 0 2\n",
      "WARNING: In training value evaluation, trying to predict next state from state 11 taking action 0 , but this transition is never seen in the data. Data point: 1 20\n",
      "WARNING: In training value evaluation, trying to predict next state from state 10 taking action 3 , but this transition is never seen in the data. Data point: 3 8\n",
      "Optimal # of clusters reached\n"
     ]
    },
    {
     "name": "stderr",
     "output_type": "stream",
     "text": [
      "\n"
     ]
    },
    {
     "data": {
      "image/png": "[encoded data removed]",
      "text/plain": [
       "<Figure size 432x288 with 1 Axes>"
      ]
     },
     "metadata": {
      "needs_background": "light"
     },
     "output_type": "display_data"
    },
    {
     "data": {
      "image/png": "[encoded data removed]",
      "text/plain": [
       "<Figure size 432x288 with 1 Axes>"
      ]
     },
     "metadata": {
      "needs_background": "light"
     },
     "output_type": "display_data"
    },
    {
     "name": "stderr",
     "output_type": "stream",
     "text": [
      "/opt/anaconda3/lib/python3.7/site-packages/sklearn/model_selection/_split.py:667: UserWarning: The least populated class in y has only 1 members, which is less than n_splits=5.\n",
      "  % (min_groups, self.n_splits)), UserWarning)\n",
      "/opt/anaconda3/lib/python3.7/site-packages/sklearn/model_selection/_search.py:823: FutureWarning: The parameter 'iid' is deprecated in 0.22 and will be removed in 0.24.\n",
      "  \"removed in 0.24.\", FutureWarning\n"
     ]
    },
    {
     "name": "stdout",
     "output_type": "stream",
     "text": [
      "     ID  TIME  FEATURE_0  FEATURE_1 ACTION   RISK  OG_CLUSTER  \\\n",
      "0     0     0   0.877380  -0.022002      0 -0.004           0   \n",
      "1     0     1   0.697367  -0.838886      2 -0.004           0   \n",
      "2     0     2   1.243616  -0.187872      0 -0.004           1   \n",
      "3     0     3   1.194918  -0.284411      2 -0.004           1   \n",
      "4     0     4   2.195323  -0.764018      1 -0.004           2   \n",
      "..   ..   ...        ...        ...    ...    ...         ...   \n",
      "113   4    20   3.258398  -3.108609      2 -0.004          18   \n",
      "114   4    21   3.598067  -3.652361      0 -0.004          18   \n",
      "115   4    22   3.730016  -2.956302      1 -0.004          13   \n",
      "116   4    23   3.516287  -3.427061      0 -0.004          18   \n",
      "117   4    24   3.024403  -2.178761      0 -0.004          13   \n",
      "\n",
      "                                           x_t2  \\\n",
      "0      [0.6354306807242089, -0.865858849311206]   \n",
      "1    [1.1600654578937104, -0.11659632424687194]   \n",
      "2    [1.0581443547848748, -0.45939652299352807]   \n",
      "3     [2.8939831992348988, -0.5375340891719376]   \n",
      "4     [2.9612986510590718, -1.8596282486318656]   \n",
      "..                                          ...   \n",
      "113   [3.8599597740570184, -3.9045581088659826]   \n",
      "114    [3.987123372610647, -2.4552858423388417]   \n",
      "115    [3.458220670471749, -3.9259677260330132]   \n",
      "116     [3.821236860583349, -2.434921763716347]   \n",
      "117    [3.8836956951451618, -1.841923649099407]   \n",
      "\n",
      "                                                a0  \\\n",
      "0      [0.6354306807242089, -0.865858849311206, 0]   \n",
      "1    [1.1600654578937104, -0.11659632424687194, 0]   \n",
      "2    [1.0581443547848748, -0.45939652299352807, 0]   \n",
      "3     [2.8939831992348988, -0.5375340891719376, 0]   \n",
      "4     [2.9612986510590718, -1.8596282486318656, 0]   \n",
      "..                                             ...   \n",
      "113   [3.8599597740570184, -3.9045581088659826, 0]   \n",
      "114    [3.987123372610647, -2.4552858423388417, 0]   \n",
      "115    [3.458220670471749, -3.9259677260330132, 0]   \n",
      "116     [3.821236860583349, -2.434921763716347, 0]   \n",
      "117    [3.8836956951451618, -1.841923649099407, 0]   \n",
      "\n",
      "                                                a1  \\\n",
      "0      [0.6354306807242089, -0.865858849311206, 1]   \n",
      "1    [1.1600654578937104, -0.11659632424687194, 1]   \n",
      "2    [1.0581443547848748, -0.45939652299352807, 1]   \n",
      "3     [2.8939831992348988, -0.5375340891719376, 1]   \n",
      "4     [2.9612986510590718, -1.8596282486318656, 1]   \n",
      "..                                             ...   \n",
      "113   [3.8599597740570184, -3.9045581088659826, 1]   \n",
      "114    [3.987123372610647, -2.4552858423388417, 1]   \n",
      "115    [3.458220670471749, -3.9259677260330132, 1]   \n",
      "116     [3.821236860583349, -2.434921763716347, 1]   \n",
      "117    [3.8836956951451618, -1.841923649099407, 1]   \n",
      "\n",
      "                                                a2  \\\n",
      "0      [0.6354306807242089, -0.865858849311206, 2]   \n",
      "1    [1.1600654578937104, -0.11659632424687194, 2]   \n",
      "2    [1.0581443547848748, -0.45939652299352807, 2]   \n",
      "3     [2.8939831992348988, -0.5375340891719376, 2]   \n",
      "4     [2.9612986510590718, -1.8596282486318656, 2]   \n",
      "..                                             ...   \n",
      "113   [3.8599597740570184, -3.9045581088659826, 2]   \n",
      "114    [3.987123372610647, -2.4552858423388417, 2]   \n",
      "115    [3.458220670471749, -3.9259677260330132, 2]   \n",
      "116     [3.821236860583349, -2.434921763716347, 2]   \n",
      "117    [3.8836956951451618, -1.841923649099407, 2]   \n",
      "\n",
      "                                                a3  \n",
      "0      [0.6354306807242089, -0.865858849311206, 3]  \n",
      "1    [1.1600654578937104, -0.11659632424687194, 3]  \n",
      "2    [1.0581443547848748, -0.45939652299352807, 3]  \n",
      "3     [2.8939831992348988, -0.5375340891719376, 3]  \n",
      "4     [2.9612986510590718, -1.8596282486318656, 3]  \n",
      "..                                             ...  \n",
      "113   [3.8599597740570184, -3.9045581088659826, 3]  \n",
      "114    [3.987123372610647, -2.4552858423388417, 3]  \n",
      "115    [3.458220670471749, -3.9259677260330132, 3]  \n",
      "116     [3.821236860583349, -2.434921763716347, 3]  \n",
      "117    [3.8836956951451618, -1.841923649099407, 3]  \n",
      "\n",
      "[118 rows x 12 columns]\n",
      "New training features\n",
      "     FEATURE_0  FEATURE_1 ACTION\n",
      "0     0.877380  -0.022002      0\n",
      "1     0.697367  -0.838886      2\n",
      "2     1.243616  -0.187872      0\n",
      "3     1.194918  -0.284411      2\n",
      "4     2.195323  -0.764018      1\n",
      "..         ...        ...    ...\n",
      "113   3.258398  -3.108609      2\n",
      "114   3.598067  -3.652361      0\n",
      "115   3.730016  -2.956302      1\n",
      "116   3.516287  -3.427061      0\n",
      "117   3.024403  -2.178761      0\n",
      "\n",
      "[118 rows x 3 columns]\n"
     ]
    },
    {
     "name": "stderr",
     "output_type": "stream",
     "text": [
      "100%|██████████| 100/100 [03:07<00:00,  1.88s/it]"
     ]
    },
    {
     "name": "stdout",
     "output_type": "stream",
     "text": [
      "N= 5  completed\n"
     ]
    },
    {
     "name": "stderr",
     "output_type": "stream",
     "text": [
      "\n"
     ]
    }
   ],
   "source": [
    "# creating new dataset and saving model and policies\n",
    "ms2 = []\n",
    "ps2 = []\n",
    "for n in Ns:\n",
    "    df = df_full.loc[df_full['ID']<n]\n",
    "    \n",
    "    m = MDP_model()\n",
    "    m.fit(df, # df: dataframe in the format ['ID', 'TIME', ...features..., 'RISK', 'ACTION']\n",
    "        pfeatures, # int: number of features\n",
    "        h, # int: time horizon (# of actions we want to optimize)\n",
    "        max_k, # int: number of iterations\n",
    "        distance_threshold, # clustering diameter for Agglomerative clustering\n",
    "        cv, # number for cross validation\n",
    "        th, # splitting threshold\n",
    "        classification, # classification method\n",
    "        split_classifier_params, # classification params\n",
    "        clustering,# clustering method from Agglomerative, KMeans, and Birch\n",
    "        n_clusters, # number of clusters for KMeans\n",
    "        random_state,\n",
    "        plot=True, \n",
    "        optimize=True)\n",
    "    ms2.append(m)\n",
    "    pickle.dump(m, open('subset_model_N=%i.sav'%n, 'wb'))\n",
    "    \n",
    "    f, r = get_maze_transition_reward(mazes[4])\n",
    "    Q, p, x_df = fitted_Q(100, df, 0.98, 2, [0, 1, 2, 3], f, r, True, 'ExtraTrees')\n",
    "    pickle.dump(p, open('subset_fitted_Q_policy_N=%i.sav'%n, 'wb'))\n",
    "    ps2.append(p)\n",
    "    print('N=', n, ' completed')"
   ]
  },
  {
   "cell_type": "code",
   "execution_count": null,
   "metadata": {},
   "outputs": [],
   "source": []
  }
 ],
 "metadata": {
  "@webio": {
   "lastCommId": null,
   "lastKernelId": null
  },
  "kernelspec": {
   "display_name": "Python 3",
   "language": "python",
   "name": "python3"
  },
  "language_info": {
   "codemirror_mode": {
    "name": "ipython",
    "version": 3
   },
   "file_extension": ".py",
   "mimetype": "text/x-python",
   "name": "python",
   "nbconvert_exporter": "python",
   "pygments_lexer": "ipython3",
   "version": "3.7.7"
  }
 },
 "nbformat": 4,
 "nbformat_minor": 4
}
