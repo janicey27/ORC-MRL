{
 "cells": [
  {
   "cell_type": "markdown",
   "metadata": {},
   "source": [
    "# Fitted Q"
   ]
  },
  {
   "cell_type": "markdown",
   "metadata": {},
   "source": [
    "## Training - 1) Linear Regression, Decision Trees, Extra Trees"
   ]
  },
  {
   "cell_type": "code",
   "execution_count": 1,
   "metadata": {},
   "outputs": [],
   "source": [
    "import numpy as np\n",
    "import matplotlib.pyplot as plt\n",
    "import random\n",
    "import pandas as pd\n",
    "import gym\n",
    "import gym_maze\n",
    "import pickle\n",
    "\n",
    "import sys\n",
    "sys.path.append('/Users/janiceyang/Dropbox (MIT)/ORC UROP/Opioids/Algorithm/')\n",
    "\n",
    "from model import MDP_model\n",
    "from maze_functions import createSamples, opt_maze_trajectory, opt_model_trajectory, policy_accuracy, \\\n",
    "    get_maze_transition_reward, plot_paths, value_diff, get_maze_MDP, value_est, opt_path_value_diff, fitted_Q\n",
    "from MDPtools import SolveMDP\n",
    "from testing import cluster_size, next_clusters, training_value_error, purity, plot_features, testing_value_error, \\\n",
    "    generalization_accuracy\n",
    "\n",
    "mazes = {1: 'maze-v0',\n",
    "         2: 'maze-sample-3x3-v0',\n",
    "         3: 'maze-random-3x3-v0',\n",
    "         4: 'maze-sample-5x5-v0',\n",
    "         5: 'maze-random-5x5-v0',\n",
    "         6: 'maze-sample-10x10-v0',\n",
    "         7: 'maze-random-10x10-v0',\n",
    "         8: 'maze-sample-100x100-v0',\n",
    "         9: 'maze-random-100x100-v0',\n",
    "         10: 'maze-random-10x10-plus-v0', # has portals \n",
    "         11: 'maze-random-20x20-plus-v0', # has portals \n",
    "         12: 'maze-random-30x30-plus-v0'} # has portals "
   ]
  },
  {
   "cell_type": "code",
   "execution_count": 2,
   "metadata": {},
   "outputs": [
    {
     "name": "stdout",
     "output_type": "stream",
     "text": [
      "pygame 2.0.0.dev10 (SDL 2.0.12, python 3.7.7)\n",
      "Hello from the pygame community. https://www.pygame.org/contribute.html\n",
      "Optimal Value: [0.44 0.48 0.52 0.8  0.84 0.32 0.44 0.56 0.84 0.88 0.36 0.4  0.6  0.8\n",
      " 0.92 0.56 0.6  0.64 0.76 0.96 0.52 0.64 0.68 0.72 1.   0.  ]\n",
      "Optimal Policy: [2 2 1 2 1 1 0 1 2 1 2 0 1 0 1 2 1 1 0 1 0 2 2 0 0 0]\n"
     ]
    }
   ],
   "source": [
    "# Setting parameters for model fitting\n",
    "max_k = 25\n",
    "classification = 'DecisionTreeClassifier'\n",
    "split_classifier_params = {'random_state':0, 'max_depth':2}\n",
    "clustering = 'Agglomerative'\n",
    "n_clusters = None\n",
    "distance_threshold = 0.5\n",
    "precision_thresh = 1e-14\n",
    "random_state = 0\n",
    "pfeatures = 2\n",
    "gamma = 1\n",
    "actions = [0, 1, 2, 3]\n",
    "h = -1\n",
    "cv = 5\n",
    "th = 0\n",
    "eta = 25\n",
    "reg_dict = {'LinearRegression':'LR', 'DecisionTrees':'DT', 'ExtraTrees':'ET', 'RandomForest': 'RF'}\n",
    "\n",
    "maze = mazes[4]\n",
    "Ns = [10, 20, 30, 40, 50, 70, 90, 110, 130, 150, 170, 200]\n",
    "\n",
    "P, R = get_maze_MDP(maze)\n",
    "K = 100\n",
    "f, rw = get_maze_transition_reward(maze)\n",
    "true_v, true_pi = SolveMDP(P, R, prob='max', gamma=1, epsilon=1e-8)"
   ]
  },
  {
   "cell_type": "code",
   "execution_count": 7,
   "metadata": {},
   "outputs": [
    {
     "name": "stdout",
     "output_type": "stream",
     "text": [
      "     ID  TIME  FEATURE_0  FEATURE_1 ACTION  RISK  OG_CLUSTER  \\\n",
      "0     0     0   0.401014  -0.206010      0 -0.04           0   \n",
      "1     0     1   0.820790  -0.416625      2 -0.04           0   \n",
      "2     0     2   1.795879  -0.621839      2 -0.04           1   \n",
      "3     0     3   2.607279  -0.576041      1 -0.04           2   \n",
      "4     0     4   2.663334  -1.086769      1 -0.04           7   \n",
      "..   ..   ...        ...        ...    ...   ...         ...   \n",
      "202   9    14   3.368932  -1.620738      2 -0.04           8   \n",
      "203   9    15   4.028603  -1.868648      1 -0.04           9   \n",
      "204   9    16   4.841586  -2.665093      1 -0.04          14   \n",
      "205   9    17   4.602530  -3.714134      1 -0.04          19   \n",
      "206   9    18   4.723427  -4.020401   None  1.00          24   \n",
      "\n",
      "                                           x_t2  \\\n",
      "0    [0.8207901504438192, -0.41662545651615823]   \n",
      "1     [1.7958787667246776, -0.6218385125930341]   \n",
      "2      [2.607278956599389, -0.5760406089612767]   \n",
      "3     [2.6633337425799266, -1.0867687123102956]   \n",
      "4     [2.2484750672103817, -2.6782000543827738]   \n",
      "..                                          ...   \n",
      "202    [4.028602759061071, -1.8686481624567413]   \n",
      "203     [4.841585885343879, -2.665093441498808]   \n",
      "204    [4.602530251685277, -3.7141338916388453]   \n",
      "205     [4.723427055511246, -4.020401029891449]   \n",
      "206                                          []   \n",
      "\n",
      "                                                a0  \\\n",
      "0    [0.8207901504438192, -0.41662545651615823, 0]   \n",
      "1     [1.7958787667246776, -0.6218385125930341, 0]   \n",
      "2      [2.607278956599389, -0.5760406089612767, 0]   \n",
      "3     [2.6633337425799266, -1.0867687123102956, 0]   \n",
      "4     [2.2484750672103817, -2.6782000543827738, 0]   \n",
      "..                                             ...   \n",
      "202    [4.028602759061071, -1.8686481624567413, 0]   \n",
      "203     [4.841585885343879, -2.665093441498808, 0]   \n",
      "204    [4.602530251685277, -3.7141338916388453, 0]   \n",
      "205     [4.723427055511246, -4.020401029891449, 0]   \n",
      "206                                            [0]   \n",
      "\n",
      "                                                a1  \\\n",
      "0    [0.8207901504438192, -0.41662545651615823, 1]   \n",
      "1     [1.7958787667246776, -0.6218385125930341, 1]   \n",
      "2      [2.607278956599389, -0.5760406089612767, 1]   \n",
      "3     [2.6633337425799266, -1.0867687123102956, 1]   \n",
      "4     [2.2484750672103817, -2.6782000543827738, 1]   \n",
      "..                                             ...   \n",
      "202    [4.028602759061071, -1.8686481624567413, 1]   \n",
      "203     [4.841585885343879, -2.665093441498808, 1]   \n",
      "204    [4.602530251685277, -3.7141338916388453, 1]   \n",
      "205     [4.723427055511246, -4.020401029891449, 1]   \n",
      "206                                            [1]   \n",
      "\n",
      "                                                a2  \\\n",
      "0    [0.8207901504438192, -0.41662545651615823, 2]   \n",
      "1     [1.7958787667246776, -0.6218385125930341, 2]   \n",
      "2      [2.607278956599389, -0.5760406089612767, 2]   \n",
      "3     [2.6633337425799266, -1.0867687123102956, 2]   \n",
      "4     [2.2484750672103817, -2.6782000543827738, 2]   \n",
      "..                                             ...   \n",
      "202    [4.028602759061071, -1.8686481624567413, 2]   \n",
      "203     [4.841585885343879, -2.665093441498808, 2]   \n",
      "204    [4.602530251685277, -3.7141338916388453, 2]   \n",
      "205     [4.723427055511246, -4.020401029891449, 2]   \n",
      "206                                            [2]   \n",
      "\n",
      "                                                a3  \n",
      "0    [0.8207901504438192, -0.41662545651615823, 3]  \n",
      "1     [1.7958787667246776, -0.6218385125930341, 3]  \n",
      "2      [2.607278956599389, -0.5760406089612767, 3]  \n",
      "3     [2.6633337425799266, -1.0867687123102956, 3]  \n",
      "4     [2.2484750672103817, -2.6782000543827738, 3]  \n",
      "..                                             ...  \n",
      "202    [4.028602759061071, -1.8686481624567413, 3]  \n",
      "203     [4.841585885343879, -2.665093441498808, 3]  \n",
      "204    [4.602530251685277, -3.7141338916388453, 3]  \n",
      "205     [4.723427055511246, -4.020401029891449, 3]  \n",
      "206                                            [3]  \n",
      "\n",
      "[207 rows x 12 columns]\n",
      "New training features\n",
      "     FEATURE_0  FEATURE_1 ACTION\n",
      "0     0.401014  -0.206010      0\n",
      "1     0.820790  -0.416625      2\n",
      "2     1.795879  -0.621839      2\n",
      "3     2.607279  -0.576041      1\n",
      "4     2.663334  -1.086769      1\n",
      "..         ...        ...    ...\n",
      "202   3.368932  -1.620738      2\n",
      "203   4.028603  -1.868648      1\n",
      "204   4.841586  -2.665093      1\n",
      "205   4.602530  -3.714134      1\n",
      "206   4.723427  -4.020401      0\n",
      "\n",
      "[207 rows x 3 columns]\n"
     ]
    },
    {
     "name": "stderr",
     "output_type": "stream",
     "text": [
      "  3%|▎         | 1/30 [00:00<00:11,  2.62it/s]"
     ]
    },
    {
     "name": "stdout",
     "output_type": "stream",
     "text": [
      "Iteration: 0 Start Value [-0.08] action [0]\n"
     ]
    },
    {
     "name": "stderr",
     "output_type": "stream",
     "text": [
      "\r",
      "  7%|▋         | 2/30 [00:08<01:15,  2.71s/it]"
     ]
    },
    {
     "name": "stdout",
     "output_type": "stream",
     "text": [
      "Iteration: 1 Start Value [-0.12] action [0]\n"
     ]
    },
    {
     "name": "stderr",
     "output_type": "stream",
     "text": [
      "\r",
      " 10%|█         | 3/30 [00:14<01:38,  3.63s/it]"
     ]
    },
    {
     "name": "stdout",
     "output_type": "stream",
     "text": [
      "Iteration: 2 Start Value [-0.15996652] action [0]\n"
     ]
    },
    {
     "name": "stderr",
     "output_type": "stream",
     "text": [
      "\r",
      " 13%|█▎        | 4/30 [00:19<01:50,  4.24s/it]"
     ]
    },
    {
     "name": "stdout",
     "output_type": "stream",
     "text": [
      "Iteration: 3 Start Value [-0.19994236] action [0]\n"
     ]
    },
    {
     "name": "stderr",
     "output_type": "stream",
     "text": [
      "\r",
      " 17%|█▋        | 5/30 [00:26<01:59,  4.79s/it]"
     ]
    },
    {
     "name": "stdout",
     "output_type": "stream",
     "text": [
      "Iteration: 4 Start Value [-0.23989973] action [0]\n"
     ]
    },
    {
     "name": "stderr",
     "output_type": "stream",
     "text": [
      "\r",
      " 20%|██        | 6/30 [00:31<02:02,  5.09s/it]"
     ]
    },
    {
     "name": "stdout",
     "output_type": "stream",
     "text": [
      "Iteration: 5 Start Value [-0.2798679] action [0]\n"
     ]
    },
    {
     "name": "stderr",
     "output_type": "stream",
     "text": [
      "\r",
      " 23%|██▎       | 7/30 [00:40<02:20,  6.09s/it]"
     ]
    },
    {
     "name": "stdout",
     "output_type": "stream",
     "text": [
      "Iteration: 6 Start Value [-0.31980014] action [0]\n"
     ]
    },
    {
     "name": "stderr",
     "output_type": "stream",
     "text": [
      "\r",
      " 27%|██▋       | 8/30 [00:45<02:09,  5.89s/it]"
     ]
    },
    {
     "name": "stdout",
     "output_type": "stream",
     "text": [
      "Iteration: 7 Start Value [-0.35967581] action [2]\n"
     ]
    },
    {
     "name": "stderr",
     "output_type": "stream",
     "text": [
      "\r",
      " 30%|███       | 9/30 [00:51<02:02,  5.83s/it]"
     ]
    },
    {
     "name": "stdout",
     "output_type": "stream",
     "text": [
      "Iteration: 8 Start Value [-0.39893167] action [0]\n"
     ]
    },
    {
     "name": "stderr",
     "output_type": "stream",
     "text": [
      "\r",
      " 33%|███▎      | 10/30 [00:56<01:52,  5.61s/it]"
     ]
    },
    {
     "name": "stdout",
     "output_type": "stream",
     "text": [
      "Iteration: 9 Start Value [-0.43515305] action [2]\n"
     ]
    },
    {
     "name": "stderr",
     "output_type": "stream",
     "text": [
      "\r",
      " 37%|███▋      | 11/30 [01:01<01:43,  5.45s/it]"
     ]
    },
    {
     "name": "stdout",
     "output_type": "stream",
     "text": [
      "Iteration: 10 Start Value [-0.46867891] action [1]\n"
     ]
    },
    {
     "name": "stderr",
     "output_type": "stream",
     "text": [
      "\r",
      " 40%|████      | 12/30 [01:08<01:43,  5.77s/it]"
     ]
    },
    {
     "name": "stdout",
     "output_type": "stream",
     "text": [
      "Iteration: 11 Start Value [-0.48656076] action [1]\n"
     ]
    },
    {
     "name": "stderr",
     "output_type": "stream",
     "text": [
      "\r",
      " 43%|████▎     | 13/30 [01:13<01:38,  5.78s/it]"
     ]
    },
    {
     "name": "stdout",
     "output_type": "stream",
     "text": [
      "Iteration: 12 Start Value [-0.48736385] action [2]\n"
     ]
    },
    {
     "name": "stderr",
     "output_type": "stream",
     "text": [
      "\r",
      " 47%|████▋     | 14/30 [01:19<01:32,  5.81s/it]"
     ]
    },
    {
     "name": "stdout",
     "output_type": "stream",
     "text": [
      "Iteration: 13 Start Value [-0.3120936] action [2]\n"
     ]
    },
    {
     "name": "stderr",
     "output_type": "stream",
     "text": [
      "\r",
      " 50%|█████     | 15/30 [01:25<01:25,  5.70s/it]"
     ]
    },
    {
     "name": "stdout",
     "output_type": "stream",
     "text": [
      "Iteration: 14 Start Value [-0.04000341] action [2]\n"
     ]
    },
    {
     "name": "stderr",
     "output_type": "stream",
     "text": [
      "\r",
      " 53%|█████▎    | 16/30 [01:30<01:17,  5.57s/it]"
     ]
    },
    {
     "name": "stdout",
     "output_type": "stream",
     "text": [
      "Iteration: 15 Start Value [0.14359113] action [2]\n"
     ]
    },
    {
     "name": "stderr",
     "output_type": "stream",
     "text": [
      "\r",
      " 57%|█████▋    | 17/30 [01:36<01:14,  5.74s/it]"
     ]
    },
    {
     "name": "stdout",
     "output_type": "stream",
     "text": [
      "Iteration: 16 Start Value [0.28373806] action [2]\n"
     ]
    },
    {
     "name": "stderr",
     "output_type": "stream",
     "text": [
      "\r",
      " 60%|██████    | 18/30 [01:44<01:15,  6.28s/it]"
     ]
    },
    {
     "name": "stdout",
     "output_type": "stream",
     "text": [
      "Iteration: 17 Start Value [0.34823333] action [2]\n"
     ]
    },
    {
     "name": "stderr",
     "output_type": "stream",
     "text": [
      "\r",
      " 63%|██████▎   | 19/30 [01:49<01:06,  6.01s/it]"
     ]
    },
    {
     "name": "stdout",
     "output_type": "stream",
     "text": [
      "Iteration: 18 Start Value [0.38022164] action [2]\n"
     ]
    },
    {
     "name": "stderr",
     "output_type": "stream",
     "text": [
      "\r",
      " 67%|██████▋   | 20/30 [01:54<00:57,  5.80s/it]"
     ]
    },
    {
     "name": "stdout",
     "output_type": "stream",
     "text": [
      "Iteration: 19 Start Value [0.39435012] action [2]\n"
     ]
    },
    {
     "name": "stderr",
     "output_type": "stream",
     "text": [
      "\r",
      " 70%|███████   | 21/30 [02:00<00:50,  5.62s/it]"
     ]
    },
    {
     "name": "stdout",
     "output_type": "stream",
     "text": [
      "Iteration: 20 Start Value [0.39549359] action [2]\n"
     ]
    },
    {
     "name": "stderr",
     "output_type": "stream",
     "text": [
      "\r",
      " 73%|███████▎  | 22/30 [02:05<00:44,  5.50s/it]"
     ]
    },
    {
     "name": "stdout",
     "output_type": "stream",
     "text": [
      "Iteration: 21 Start Value [0.39666809] action [2]\n"
     ]
    },
    {
     "name": "stderr",
     "output_type": "stream",
     "text": [
      "\r",
      " 77%|███████▋  | 23/30 [02:11<00:39,  5.59s/it]"
     ]
    },
    {
     "name": "stdout",
     "output_type": "stream",
     "text": [
      "Iteration: 22 Start Value [0.40258964] action [2]\n"
     ]
    },
    {
     "name": "stderr",
     "output_type": "stream",
     "text": [
      "\r",
      " 80%|████████  | 24/30 [02:16<00:33,  5.62s/it]"
     ]
    },
    {
     "name": "stdout",
     "output_type": "stream",
     "text": [
      "Iteration: 23 Start Value [0.40106175] action [2]\n"
     ]
    },
    {
     "name": "stderr",
     "output_type": "stream",
     "text": [
      "\r",
      " 83%|████████▎ | 25/30 [02:22<00:27,  5.57s/it]"
     ]
    },
    {
     "name": "stdout",
     "output_type": "stream",
     "text": [
      "Iteration: 24 Start Value [0.40068106] action [2]\n"
     ]
    },
    {
     "name": "stderr",
     "output_type": "stream",
     "text": [
      "\r",
      " 87%|████████▋ | 26/30 [02:29<00:24,  6.04s/it]"
     ]
    },
    {
     "name": "stdout",
     "output_type": "stream",
     "text": [
      "Iteration: 25 Start Value [0.40121371] action [2]\n"
     ]
    },
    {
     "name": "stderr",
     "output_type": "stream",
     "text": [
      "\r",
      " 90%|█████████ | 27/30 [02:38<00:20,  6.98s/it]"
     ]
    },
    {
     "name": "stdout",
     "output_type": "stream",
     "text": [
      "Iteration: 26 Start Value [0.40606432] action [2]\n"
     ]
    },
    {
     "name": "stderr",
     "output_type": "stream",
     "text": [
      "\r",
      " 93%|█████████▎| 28/30 [02:44<00:13,  6.70s/it]"
     ]
    },
    {
     "name": "stdout",
     "output_type": "stream",
     "text": [
      "Iteration: 27 Start Value [0.40143598] action [2]\n"
     ]
    },
    {
     "name": "stderr",
     "output_type": "stream",
     "text": [
      "\r",
      " 97%|█████████▋| 29/30 [02:49<00:06,  6.31s/it]"
     ]
    },
    {
     "name": "stdout",
     "output_type": "stream",
     "text": [
      "Iteration: 28 Start Value [0.40531964] action [2]\n"
     ]
    },
    {
     "name": "stderr",
     "output_type": "stream",
     "text": [
      "100%|██████████| 30/30 [02:57<00:00,  5.91s/it]"
     ]
    },
    {
     "name": "stdout",
     "output_type": "stream",
     "text": [
      "Iteration: 29 Start Value [0.40404735] action [2]\n"
     ]
    },
    {
     "name": "stderr",
     "output_type": "stream",
     "text": [
      "\n"
     ]
    },
    {
     "name": "stdout",
     "output_type": "stream",
     "text": [
      "N= 10  completed\n",
      "     ID  TIME  FEATURE_0  FEATURE_1 ACTION  RISK  OG_CLUSTER  \\\n",
      "0     0     0   0.401014  -0.206010      0 -0.04           0   \n",
      "1     0     1   0.820790  -0.416625      2 -0.04           0   \n",
      "2     0     2   1.795879  -0.621839      2 -0.04           1   \n",
      "3     0     3   2.607279  -0.576041      1 -0.04           2   \n",
      "4     0     4   2.663334  -1.086769      1 -0.04           7   \n",
      "..   ..   ...        ...        ...    ...   ...         ...   \n",
      "430  19    19   4.133525  -1.950847      0 -0.04           9   \n",
      "431  19    20   4.791731  -0.972269      3 -0.04           4   \n",
      "432  19    21   3.692617  -0.969628      3 -0.04           3   \n",
      "433  19    22   3.390157  -0.903748      2 -0.04           3   \n",
      "434  19    23   4.018289  -0.806654      0 -0.04           4   \n",
      "\n",
      "                                           x_t2  \\\n",
      "0    [0.8207901504438192, -0.41662545651615823]   \n",
      "1     [1.7958787667246776, -0.6218385125930341]   \n",
      "2      [2.607278956599389, -0.5760406089612767]   \n",
      "3     [2.6633337425799266, -1.0867687123102956]   \n",
      "4     [2.2484750672103817, -2.6782000543827738]   \n",
      "..                                          ...   \n",
      "430    [4.791730863426636, -0.9722685149736418]   \n",
      "431   [3.6926171540821056, -0.9696284161670732]   \n",
      "432    [3.390156885041458, -0.9037475611315322]   \n",
      "433    [4.018288953103522, -0.8066536913873436]   \n",
      "434   [4.7305323920661735, -0.6435902982958001]   \n",
      "\n",
      "                                                a0  \\\n",
      "0    [0.8207901504438192, -0.41662545651615823, 0]   \n",
      "1     [1.7958787667246776, -0.6218385125930341, 0]   \n",
      "2      [2.607278956599389, -0.5760406089612767, 0]   \n",
      "3     [2.6633337425799266, -1.0867687123102956, 0]   \n",
      "4     [2.2484750672103817, -2.6782000543827738, 0]   \n",
      "..                                             ...   \n",
      "430    [4.791730863426636, -0.9722685149736418, 0]   \n",
      "431   [3.6926171540821056, -0.9696284161670732, 0]   \n",
      "432    [3.390156885041458, -0.9037475611315322, 0]   \n",
      "433    [4.018288953103522, -0.8066536913873436, 0]   \n",
      "434   [4.7305323920661735, -0.6435902982958001, 0]   \n",
      "\n",
      "                                                a1  \\\n",
      "0    [0.8207901504438192, -0.41662545651615823, 1]   \n",
      "1     [1.7958787667246776, -0.6218385125930341, 1]   \n",
      "2      [2.607278956599389, -0.5760406089612767, 1]   \n",
      "3     [2.6633337425799266, -1.0867687123102956, 1]   \n",
      "4     [2.2484750672103817, -2.6782000543827738, 1]   \n",
      "..                                             ...   \n",
      "430    [4.791730863426636, -0.9722685149736418, 1]   \n",
      "431   [3.6926171540821056, -0.9696284161670732, 1]   \n",
      "432    [3.390156885041458, -0.9037475611315322, 1]   \n",
      "433    [4.018288953103522, -0.8066536913873436, 1]   \n",
      "434   [4.7305323920661735, -0.6435902982958001, 1]   \n",
      "\n",
      "                                                a2  \\\n",
      "0    [0.8207901504438192, -0.41662545651615823, 2]   \n",
      "1     [1.7958787667246776, -0.6218385125930341, 2]   \n",
      "2      [2.607278956599389, -0.5760406089612767, 2]   \n",
      "3     [2.6633337425799266, -1.0867687123102956, 2]   \n",
      "4     [2.2484750672103817, -2.6782000543827738, 2]   \n",
      "..                                             ...   \n",
      "430    [4.791730863426636, -0.9722685149736418, 2]   \n",
      "431   [3.6926171540821056, -0.9696284161670732, 2]   \n",
      "432    [3.390156885041458, -0.9037475611315322, 2]   \n",
      "433    [4.018288953103522, -0.8066536913873436, 2]   \n",
      "434   [4.7305323920661735, -0.6435902982958001, 2]   \n",
      "\n",
      "                                                a3  \n",
      "0    [0.8207901504438192, -0.41662545651615823, 3]  \n",
      "1     [1.7958787667246776, -0.6218385125930341, 3]  \n",
      "2      [2.607278956599389, -0.5760406089612767, 3]  \n",
      "3     [2.6633337425799266, -1.0867687123102956, 3]  \n",
      "4     [2.2484750672103817, -2.6782000543827738, 3]  \n",
      "..                                             ...  \n",
      "430    [4.791730863426636, -0.9722685149736418, 3]  \n",
      "431   [3.6926171540821056, -0.9696284161670732, 3]  \n",
      "432    [3.390156885041458, -0.9037475611315322, 3]  \n",
      "433    [4.018288953103522, -0.8066536913873436, 3]  \n",
      "434   [4.7305323920661735, -0.6435902982958001, 3]  \n",
      "\n",
      "[431 rows x 12 columns]\n",
      "New training features\n",
      "     FEATURE_0  FEATURE_1 ACTION\n",
      "0     0.401014  -0.206010      0\n",
      "1     0.820790  -0.416625      2\n",
      "2     1.795879  -0.621839      2\n",
      "3     2.607279  -0.576041      1\n",
      "4     2.663334  -1.086769      1\n",
      "..         ...        ...    ...\n",
      "430   4.133525  -1.950847      0\n",
      "431   4.791731  -0.972269      3\n",
      "432   3.692617  -0.969628      3\n",
      "433   3.390157  -0.903748      2\n",
      "434   4.018289  -0.806654      0\n",
      "\n",
      "[431 rows x 3 columns]\n"
     ]
    },
    {
     "name": "stderr",
     "output_type": "stream",
     "text": [
      "  3%|▎         | 1/30 [00:00<00:08,  3.57it/s]"
     ]
    },
    {
     "name": "stdout",
     "output_type": "stream",
     "text": [
      "Iteration: 0 Start Value [-0.08] action [0]\n"
     ]
    },
    {
     "name": "stderr",
     "output_type": "stream",
     "text": [
      "\r",
      "  7%|▋         | 2/30 [00:15<02:09,  4.64s/it]"
     ]
    },
    {
     "name": "stdout",
     "output_type": "stream",
     "text": [
      "Iteration: 1 Start Value [-0.12] action [0]\n"
     ]
    },
    {
     "name": "stderr",
     "output_type": "stream",
     "text": [
      "\r",
      " 10%|█         | 3/30 [00:28<03:14,  7.21s/it]"
     ]
    },
    {
     "name": "stdout",
     "output_type": "stream",
     "text": [
      "Iteration: 2 Start Value [-0.1599327] action [0]\n"
     ]
    },
    {
     "name": "stderr",
     "output_type": "stream",
     "text": [
      "\r",
      " 13%|█▎        | 4/30 [00:39<03:40,  8.47s/it]"
     ]
    },
    {
     "name": "stdout",
     "output_type": "stream",
     "text": [
      "Iteration: 3 Start Value [-0.19985437] action [0]\n"
     ]
    },
    {
     "name": "stderr",
     "output_type": "stream",
     "text": [
      "\r",
      " 17%|█▋        | 5/30 [00:51<03:53,  9.32s/it]"
     ]
    },
    {
     "name": "stdout",
     "output_type": "stream",
     "text": [
      "Iteration: 4 Start Value [-0.23978063] action [0]\n"
     ]
    },
    {
     "name": "stderr",
     "output_type": "stream",
     "text": [
      "\r",
      " 20%|██        | 6/30 [01:04<04:14, 10.59s/it]"
     ]
    },
    {
     "name": "stdout",
     "output_type": "stream",
     "text": [
      "Iteration: 5 Start Value [-0.27972448] action [0]\n"
     ]
    },
    {
     "name": "stderr",
     "output_type": "stream",
     "text": [
      "\r",
      " 23%|██▎       | 7/30 [01:21<04:47, 12.51s/it]"
     ]
    },
    {
     "name": "stdout",
     "output_type": "stream",
     "text": [
      "Iteration: 6 Start Value [-0.31965808] action [0]\n"
     ]
    },
    {
     "name": "stderr",
     "output_type": "stream",
     "text": [
      "\r",
      " 27%|██▋       | 8/30 [01:34<04:38, 12.66s/it]"
     ]
    },
    {
     "name": "stdout",
     "output_type": "stream",
     "text": [
      "Iteration: 7 Start Value [-0.35957017] action [1]\n"
     ]
    },
    {
     "name": "stderr",
     "output_type": "stream",
     "text": [
      "\r",
      " 30%|███       | 9/30 [01:45<04:15, 12.18s/it]"
     ]
    },
    {
     "name": "stdout",
     "output_type": "stream",
     "text": [
      "Iteration: 8 Start Value [-0.39877355] action [2]\n"
     ]
    },
    {
     "name": "stderr",
     "output_type": "stream",
     "text": [
      "\r",
      " 33%|███▎      | 10/30 [01:57<04:02, 12.10s/it]"
     ]
    },
    {
     "name": "stdout",
     "output_type": "stream",
     "text": [
      "Iteration: 9 Start Value [-0.43738109] action [2]\n"
     ]
    },
    {
     "name": "stderr",
     "output_type": "stream",
     "text": [
      "\r",
      " 37%|███▋      | 11/30 [02:09<03:46, 11.93s/it]"
     ]
    },
    {
     "name": "stdout",
     "output_type": "stream",
     "text": [
      "Iteration: 10 Start Value [-0.47089619] action [2]\n"
     ]
    },
    {
     "name": "stderr",
     "output_type": "stream",
     "text": [
      "\r",
      " 40%|████      | 12/30 [02:22<03:41, 12.32s/it]"
     ]
    },
    {
     "name": "stdout",
     "output_type": "stream",
     "text": [
      "Iteration: 11 Start Value [-0.49213561] action [2]\n"
     ]
    },
    {
     "name": "stderr",
     "output_type": "stream",
     "text": [
      "\r",
      " 43%|████▎     | 13/30 [02:37<03:42, 13.11s/it]"
     ]
    },
    {
     "name": "stdout",
     "output_type": "stream",
     "text": [
      "Iteration: 12 Start Value [-0.38485952] action [2]\n"
     ]
    },
    {
     "name": "stderr",
     "output_type": "stream",
     "text": [
      "\r",
      " 47%|████▋     | 14/30 [02:52<03:39, 13.69s/it]"
     ]
    },
    {
     "name": "stdout",
     "output_type": "stream",
     "text": [
      "Iteration: 13 Start Value [-0.11175068] action [2]\n"
     ]
    },
    {
     "name": "stderr",
     "output_type": "stream",
     "text": [
      "\r",
      " 50%|█████     | 15/30 [03:06<03:29, 13.98s/it]"
     ]
    },
    {
     "name": "stdout",
     "output_type": "stream",
     "text": [
      "Iteration: 14 Start Value [0.19695505] action [2]\n"
     ]
    },
    {
     "name": "stderr",
     "output_type": "stream",
     "text": [
      "\r",
      " 53%|█████▎    | 16/30 [03:20<03:13, 13.85s/it]"
     ]
    },
    {
     "name": "stdout",
     "output_type": "stream",
     "text": [
      "Iteration: 15 Start Value [0.33171521] action [2]\n"
     ]
    },
    {
     "name": "stderr",
     "output_type": "stream",
     "text": [
      "\r",
      " 57%|█████▋    | 17/30 [03:33<02:56, 13.58s/it]"
     ]
    },
    {
     "name": "stdout",
     "output_type": "stream",
     "text": [
      "Iteration: 16 Start Value [0.39926477] action [2]\n"
     ]
    },
    {
     "name": "stderr",
     "output_type": "stream",
     "text": [
      "\r",
      " 60%|██████    | 18/30 [03:47<02:45, 13.83s/it]"
     ]
    },
    {
     "name": "stdout",
     "output_type": "stream",
     "text": [
      "Iteration: 17 Start Value [0.41778875] action [2]\n"
     ]
    },
    {
     "name": "stderr",
     "output_type": "stream",
     "text": [
      "\r",
      " 63%|██████▎   | 19/30 [04:00<02:28, 13.49s/it]"
     ]
    },
    {
     "name": "stdout",
     "output_type": "stream",
     "text": [
      "Iteration: 18 Start Value [0.42470187] action [2]\n"
     ]
    },
    {
     "name": "stderr",
     "output_type": "stream",
     "text": [
      "\r",
      " 67%|██████▋   | 20/30 [04:13<02:14, 13.43s/it]"
     ]
    },
    {
     "name": "stdout",
     "output_type": "stream",
     "text": [
      "Iteration: 19 Start Value [0.42513341] action [2]\n"
     ]
    },
    {
     "name": "stderr",
     "output_type": "stream",
     "text": [
      "\r",
      " 70%|███████   | 21/30 [04:26<01:58, 13.12s/it]"
     ]
    },
    {
     "name": "stdout",
     "output_type": "stream",
     "text": [
      "Iteration: 20 Start Value [0.42493881] action [2]\n"
     ]
    },
    {
     "name": "stderr",
     "output_type": "stream",
     "text": [
      "\r",
      " 73%|███████▎  | 22/30 [04:40<01:48, 13.60s/it]"
     ]
    },
    {
     "name": "stdout",
     "output_type": "stream",
     "text": [
      "Iteration: 21 Start Value [0.42493593] action [2]\n"
     ]
    },
    {
     "name": "stderr",
     "output_type": "stream",
     "text": [
      "\r",
      " 77%|███████▋  | 23/30 [04:56<01:38, 14.05s/it]"
     ]
    },
    {
     "name": "stdout",
     "output_type": "stream",
     "text": [
      "Iteration: 22 Start Value [0.42448974] action [2]\n"
     ]
    },
    {
     "name": "stderr",
     "output_type": "stream",
     "text": [
      "\r",
      " 80%|████████  | 24/30 [05:11<01:26, 14.44s/it]"
     ]
    },
    {
     "name": "stdout",
     "output_type": "stream",
     "text": [
      "Iteration: 23 Start Value [0.42547346] action [2]\n"
     ]
    },
    {
     "name": "stderr",
     "output_type": "stream",
     "text": [
      "\r",
      " 83%|████████▎ | 25/30 [05:25<01:11, 14.25s/it]"
     ]
    },
    {
     "name": "stdout",
     "output_type": "stream",
     "text": [
      "Iteration: 24 Start Value [0.42502914] action [2]\n"
     ]
    },
    {
     "name": "stderr",
     "output_type": "stream",
     "text": [
      "\r",
      " 87%|████████▋ | 26/30 [05:40<00:57, 14.43s/it]"
     ]
    },
    {
     "name": "stdout",
     "output_type": "stream",
     "text": [
      "Iteration: 25 Start Value [0.42516822] action [2]\n"
     ]
    },
    {
     "name": "stderr",
     "output_type": "stream",
     "text": [
      "\r",
      " 90%|█████████ | 27/30 [05:53<00:42, 14.06s/it]"
     ]
    },
    {
     "name": "stdout",
     "output_type": "stream",
     "text": [
      "Iteration: 26 Start Value [0.4251542] action [2]\n"
     ]
    },
    {
     "name": "stderr",
     "output_type": "stream",
     "text": [
      "\r",
      " 93%|█████████▎| 28/30 [06:07<00:28, 14.20s/it]"
     ]
    },
    {
     "name": "stdout",
     "output_type": "stream",
     "text": [
      "Iteration: 27 Start Value [0.42386178] action [2]\n"
     ]
    },
    {
     "name": "stderr",
     "output_type": "stream",
     "text": [
      "\r",
      " 97%|█████████▋| 29/30 [06:23<00:14, 14.55s/it]"
     ]
    },
    {
     "name": "stdout",
     "output_type": "stream",
     "text": [
      "Iteration: 28 Start Value [0.42445513] action [2]\n"
     ]
    },
    {
     "name": "stderr",
     "output_type": "stream",
     "text": [
      "100%|██████████| 30/30 [06:39<00:00, 13.32s/it]"
     ]
    },
    {
     "name": "stdout",
     "output_type": "stream",
     "text": [
      "Iteration: 29 Start Value [0.4239038] action [2]\n",
      "N= 20  completed\n"
     ]
    },
    {
     "name": "stderr",
     "output_type": "stream",
     "text": [
      "\n"
     ]
    },
    {
     "name": "stdout",
     "output_type": "stream",
     "text": [
      "     ID  TIME  FEATURE_0  FEATURE_1 ACTION  RISK  OG_CLUSTER  \\\n",
      "0     0     0   0.401014  -0.206010      0 -0.04           0   \n",
      "1     0     1   0.820790  -0.416625      2 -0.04           0   \n",
      "2     0     2   1.795879  -0.621839      2 -0.04           1   \n",
      "3     0     3   2.607279  -0.576041      1 -0.04           2   \n",
      "4     0     4   2.663334  -1.086769      1 -0.04           7   \n",
      "..   ..   ...        ...        ...    ...   ...         ...   \n",
      "654  29    18   3.296484  -1.085006      2 -0.04           8   \n",
      "655  29    19   4.712629  -1.718475      1 -0.04           9   \n",
      "656  29    20   4.179937  -2.221055      1 -0.04          14   \n",
      "657  29    21   4.427442  -3.638947      1 -0.04          19   \n",
      "658  29    22   4.123249  -4.952282   None  1.00          24   \n",
      "\n",
      "                                           x_t2  \\\n",
      "0    [0.8207901504438192, -0.41662545651615823]   \n",
      "1     [1.7958787667246776, -0.6218385125930341]   \n",
      "2      [2.607278956599389, -0.5760406089612767]   \n",
      "3     [2.6633337425799266, -1.0867687123102956]   \n",
      "4     [2.2484750672103817, -2.6782000543827738]   \n",
      "..                                          ...   \n",
      "654    [4.712629137626996, -1.7184747450283748]   \n",
      "655    [4.179936608052788, -2.2210547967126875]   \n",
      "656     [4.427442345969966, -3.638947346558952]   \n",
      "657     [4.123249348459201, -4.952282093476974]   \n",
      "658                                          []   \n",
      "\n",
      "                                                a0  \\\n",
      "0    [0.8207901504438192, -0.41662545651615823, 0]   \n",
      "1     [1.7958787667246776, -0.6218385125930341, 0]   \n",
      "2      [2.607278956599389, -0.5760406089612767, 0]   \n",
      "3     [2.6633337425799266, -1.0867687123102956, 0]   \n",
      "4     [2.2484750672103817, -2.6782000543827738, 0]   \n",
      "..                                             ...   \n",
      "654    [4.712629137626996, -1.7184747450283748, 0]   \n",
      "655    [4.179936608052788, -2.2210547967126875, 0]   \n",
      "656     [4.427442345969966, -3.638947346558952, 0]   \n",
      "657     [4.123249348459201, -4.952282093476974, 0]   \n",
      "658                                            [0]   \n",
      "\n",
      "                                                a1  \\\n",
      "0    [0.8207901504438192, -0.41662545651615823, 1]   \n",
      "1     [1.7958787667246776, -0.6218385125930341, 1]   \n",
      "2      [2.607278956599389, -0.5760406089612767, 1]   \n",
      "3     [2.6633337425799266, -1.0867687123102956, 1]   \n",
      "4     [2.2484750672103817, -2.6782000543827738, 1]   \n",
      "..                                             ...   \n",
      "654    [4.712629137626996, -1.7184747450283748, 1]   \n",
      "655    [4.179936608052788, -2.2210547967126875, 1]   \n",
      "656     [4.427442345969966, -3.638947346558952, 1]   \n",
      "657     [4.123249348459201, -4.952282093476974, 1]   \n",
      "658                                            [1]   \n",
      "\n",
      "                                                a2  \\\n",
      "0    [0.8207901504438192, -0.41662545651615823, 2]   \n",
      "1     [1.7958787667246776, -0.6218385125930341, 2]   \n",
      "2      [2.607278956599389, -0.5760406089612767, 2]   \n",
      "3     [2.6633337425799266, -1.0867687123102956, 2]   \n",
      "4     [2.2484750672103817, -2.6782000543827738, 2]   \n",
      "..                                             ...   \n",
      "654    [4.712629137626996, -1.7184747450283748, 2]   \n",
      "655    [4.179936608052788, -2.2210547967126875, 2]   \n",
      "656     [4.427442345969966, -3.638947346558952, 2]   \n",
      "657     [4.123249348459201, -4.952282093476974, 2]   \n",
      "658                                            [2]   \n",
      "\n",
      "                                                a3  \n",
      "0    [0.8207901504438192, -0.41662545651615823, 3]  \n",
      "1     [1.7958787667246776, -0.6218385125930341, 3]  \n",
      "2      [2.607278956599389, -0.5760406089612767, 3]  \n",
      "3     [2.6633337425799266, -1.0867687123102956, 3]  \n",
      "4     [2.2484750672103817, -2.6782000543827738, 3]  \n",
      "..                                             ...  \n",
      "654    [4.712629137626996, -1.7184747450283748, 3]  \n",
      "655    [4.179936608052788, -2.2210547967126875, 3]  \n",
      "656     [4.427442345969966, -3.638947346558952, 3]  \n",
      "657     [4.123249348459201, -4.952282093476974, 3]  \n",
      "658                                            [3]  \n",
      "\n",
      "[651 rows x 12 columns]\n",
      "New training features\n",
      "     FEATURE_0  FEATURE_1 ACTION\n",
      "0     0.401014  -0.206010      0\n",
      "1     0.820790  -0.416625      2\n",
      "2     1.795879  -0.621839      2\n",
      "3     2.607279  -0.576041      1\n",
      "4     2.663334  -1.086769      1\n",
      "..         ...        ...    ...\n",
      "654   3.296484  -1.085006      2\n",
      "655   4.712629  -1.718475      1\n",
      "656   4.179937  -2.221055      1\n",
      "657   4.427442  -3.638947      1\n",
      "658   4.123249  -4.952282      0\n",
      "\n",
      "[651 rows x 3 columns]\n"
     ]
    },
    {
     "name": "stderr",
     "output_type": "stream",
     "text": [
      "  3%|▎         | 1/30 [00:00<00:10,  2.65it/s]"
     ]
    },
    {
     "name": "stdout",
     "output_type": "stream",
     "text": [
      "Iteration: 0 Start Value [-0.08] action [0]\n"
     ]
    },
    {
     "name": "stderr",
     "output_type": "stream",
     "text": [
      "\r",
      "  7%|▋         | 2/30 [00:22<03:14,  6.96s/it]"
     ]
    },
    {
     "name": "stdout",
     "output_type": "stream",
     "text": [
      "Iteration: 1 Start Value [-0.12] action [3]\n"
     ]
    },
    {
     "name": "stderr",
     "output_type": "stream",
     "text": [
      "\r",
      " 10%|█         | 3/30 [00:40<04:38, 10.32s/it]"
     ]
    },
    {
     "name": "stdout",
     "output_type": "stream",
     "text": [
      "Iteration: 2 Start Value [-0.15990446] action [0]\n"
     ]
    },
    {
     "name": "stderr",
     "output_type": "stream",
     "text": [
      "\r",
      " 13%|█▎        | 4/30 [00:59<05:36, 12.94s/it]"
     ]
    },
    {
     "name": "stdout",
     "output_type": "stream",
     "text": [
      "Iteration: 3 Start Value [-0.19984518] action [0]\n"
     ]
    },
    {
     "name": "stderr",
     "output_type": "stream",
     "text": [
      "\r",
      " 17%|█▋        | 5/30 [01:19<06:10, 14.80s/it]"
     ]
    },
    {
     "name": "stdout",
     "output_type": "stream",
     "text": [
      "Iteration: 4 Start Value [-0.23955431] action [2]\n"
     ]
    },
    {
     "name": "stderr",
     "output_type": "stream",
     "text": [
      "\r",
      " 20%|██        | 6/30 [01:38<06:28, 16.20s/it]"
     ]
    },
    {
     "name": "stdout",
     "output_type": "stream",
     "text": [
      "Iteration: 5 Start Value [-0.27935066] action [2]\n"
     ]
    },
    {
     "name": "stderr",
     "output_type": "stream",
     "text": [
      "\r",
      " 23%|██▎       | 7/30 [01:56<06:28, 16.88s/it]"
     ]
    },
    {
     "name": "stdout",
     "output_type": "stream",
     "text": [
      "Iteration: 6 Start Value [-0.31705525] action [2]\n"
     ]
    },
    {
     "name": "stderr",
     "output_type": "stream",
     "text": [
      "\r",
      " 27%|██▋       | 8/30 [02:17<06:38, 18.09s/it]"
     ]
    },
    {
     "name": "stdout",
     "output_type": "stream",
     "text": [
      "Iteration: 7 Start Value [-0.34927464] action [2]\n"
     ]
    },
    {
     "name": "stderr",
     "output_type": "stream",
     "text": [
      "\r",
      " 30%|███       | 9/30 [02:39<06:43, 19.22s/it]"
     ]
    },
    {
     "name": "stdout",
     "output_type": "stream",
     "text": [
      "Iteration: 8 Start Value [-0.3764021] action [2]\n"
     ]
    },
    {
     "name": "stderr",
     "output_type": "stream",
     "text": [
      "\r",
      " 33%|███▎      | 10/30 [03:02<06:45, 20.28s/it]"
     ]
    },
    {
     "name": "stdout",
     "output_type": "stream",
     "text": [
      "Iteration: 9 Start Value [-0.3968028] action [2]\n"
     ]
    },
    {
     "name": "stderr",
     "output_type": "stream",
     "text": [
      "\r",
      " 37%|███▋      | 11/30 [03:26<06:45, 21.33s/it]"
     ]
    },
    {
     "name": "stdout",
     "output_type": "stream",
     "text": [
      "Iteration: 10 Start Value [-0.40700834] action [2]\n"
     ]
    },
    {
     "name": "stderr",
     "output_type": "stream",
     "text": [
      "\r",
      " 40%|████      | 12/30 [03:48<06:26, 21.45s/it]"
     ]
    },
    {
     "name": "stdout",
     "output_type": "stream",
     "text": [
      "Iteration: 11 Start Value [-0.41366853] action [2]\n"
     ]
    },
    {
     "name": "stderr",
     "output_type": "stream",
     "text": [
      "\r",
      " 43%|████▎     | 13/30 [04:08<06:01, 21.29s/it]"
     ]
    },
    {
     "name": "stdout",
     "output_type": "stream",
     "text": [
      "Iteration: 12 Start Value [-0.18492981] action [2]\n"
     ]
    },
    {
     "name": "stderr",
     "output_type": "stream",
     "text": [
      "\r",
      " 47%|████▋     | 14/30 [04:30<05:42, 21.38s/it]"
     ]
    },
    {
     "name": "stdout",
     "output_type": "stream",
     "text": [
      "Iteration: 13 Start Value [0.1022283] action [2]\n"
     ]
    },
    {
     "name": "stderr",
     "output_type": "stream",
     "text": [
      "\r",
      " 50%|█████     | 15/30 [04:54<05:32, 22.17s/it]"
     ]
    },
    {
     "name": "stdout",
     "output_type": "stream",
     "text": [
      "Iteration: 14 Start Value [0.28441514] action [2]\n"
     ]
    },
    {
     "name": "stderr",
     "output_type": "stream",
     "text": [
      "\r",
      " 53%|█████▎    | 16/30 [05:15<05:04, 21.74s/it]"
     ]
    },
    {
     "name": "stdout",
     "output_type": "stream",
     "text": [
      "Iteration: 15 Start Value [0.38652011] action [2]\n"
     ]
    },
    {
     "name": "stderr",
     "output_type": "stream",
     "text": [
      "\r",
      " 57%|█████▋    | 17/30 [05:34<04:30, 20.84s/it]"
     ]
    },
    {
     "name": "stdout",
     "output_type": "stream",
     "text": [
      "Iteration: 16 Start Value [0.4169474] action [2]\n"
     ]
    },
    {
     "name": "stderr",
     "output_type": "stream",
     "text": [
      "\r",
      " 60%|██████    | 18/30 [06:00<04:31, 22.65s/it]"
     ]
    },
    {
     "name": "stdout",
     "output_type": "stream",
     "text": [
      "Iteration: 17 Start Value [0.42820093] action [2]\n"
     ]
    },
    {
     "name": "stderr",
     "output_type": "stream",
     "text": [
      "\r",
      " 63%|██████▎   | 19/30 [06:21<04:03, 22.13s/it]"
     ]
    },
    {
     "name": "stdout",
     "output_type": "stream",
     "text": [
      "Iteration: 18 Start Value [0.43148616] action [2]\n"
     ]
    },
    {
     "name": "stderr",
     "output_type": "stream",
     "text": [
      "\r",
      " 67%|██████▋   | 20/30 [06:42<03:38, 21.82s/it]"
     ]
    },
    {
     "name": "stdout",
     "output_type": "stream",
     "text": [
      "Iteration: 19 Start Value [0.43167746] action [2]\n"
     ]
    },
    {
     "name": "stderr",
     "output_type": "stream",
     "text": [
      "\r",
      " 70%|███████   | 21/30 [07:02<03:10, 21.18s/it]"
     ]
    },
    {
     "name": "stdout",
     "output_type": "stream",
     "text": [
      "Iteration: 20 Start Value [0.43126749] action [2]\n"
     ]
    },
    {
     "name": "stderr",
     "output_type": "stream",
     "text": [
      "\r",
      " 73%|███████▎  | 22/30 [07:20<02:41, 20.21s/it]"
     ]
    },
    {
     "name": "stdout",
     "output_type": "stream",
     "text": [
      "Iteration: 21 Start Value [0.43133896] action [2]\n"
     ]
    },
    {
     "name": "stderr",
     "output_type": "stream",
     "text": [
      "\r",
      " 77%|███████▋  | 23/30 [07:44<02:28, 21.24s/it]"
     ]
    },
    {
     "name": "stdout",
     "output_type": "stream",
     "text": [
      "Iteration: 22 Start Value [0.43096101] action [2]\n"
     ]
    },
    {
     "name": "stderr",
     "output_type": "stream",
     "text": [
      "\r",
      " 80%|████████  | 24/30 [08:01<02:01, 20.17s/it]"
     ]
    },
    {
     "name": "stdout",
     "output_type": "stream",
     "text": [
      "Iteration: 23 Start Value [0.43132742] action [2]\n"
     ]
    },
    {
     "name": "stderr",
     "output_type": "stream",
     "text": [
      "\r",
      " 83%|████████▎ | 25/30 [08:22<01:40, 20.19s/it]"
     ]
    },
    {
     "name": "stdout",
     "output_type": "stream",
     "text": [
      "Iteration: 24 Start Value [0.43121319] action [2]\n"
     ]
    },
    {
     "name": "stderr",
     "output_type": "stream",
     "text": [
      "\r",
      " 87%|████████▋ | 26/30 [08:46<01:25, 21.44s/it]"
     ]
    },
    {
     "name": "stdout",
     "output_type": "stream",
     "text": [
      "Iteration: 25 Start Value [0.43062341] action [2]\n"
     ]
    },
    {
     "name": "stderr",
     "output_type": "stream",
     "text": [
      "\r",
      " 90%|█████████ | 27/30 [09:07<01:04, 21.38s/it]"
     ]
    },
    {
     "name": "stdout",
     "output_type": "stream",
     "text": [
      "Iteration: 26 Start Value [0.43047771] action [2]\n"
     ]
    },
    {
     "name": "stderr",
     "output_type": "stream",
     "text": [
      "\r",
      " 93%|█████████▎| 28/30 [09:25<00:40, 20.43s/it]"
     ]
    },
    {
     "name": "stdout",
     "output_type": "stream",
     "text": [
      "Iteration: 27 Start Value [0.43054486] action [2]\n"
     ]
    },
    {
     "name": "stderr",
     "output_type": "stream",
     "text": [
      "\r",
      " 97%|█████████▋| 29/30 [09:46<00:20, 20.35s/it]"
     ]
    },
    {
     "name": "stdout",
     "output_type": "stream",
     "text": [
      "Iteration: 28 Start Value [0.43073237] action [2]\n"
     ]
    },
    {
     "name": "stderr",
     "output_type": "stream",
     "text": [
      "100%|██████████| 30/30 [10:05<00:00, 20.19s/it]"
     ]
    },
    {
     "name": "stdout",
     "output_type": "stream",
     "text": [
      "Iteration: 29 Start Value [0.43082068] action [2]\n",
      "N= 30  completed\n"
     ]
    },
    {
     "name": "stderr",
     "output_type": "stream",
     "text": [
      "\n"
     ]
    },
    {
     "name": "stdout",
     "output_type": "stream",
     "text": [
      "     ID  TIME  FEATURE_0  FEATURE_1 ACTION  RISK  OG_CLUSTER  \\\n",
      "0     0     0   0.401014  -0.206010      0 -0.04           0   \n",
      "1     0     1   0.820790  -0.416625      2 -0.04           0   \n",
      "2     0     2   1.795879  -0.621839      2 -0.04           1   \n",
      "3     0     3   2.607279  -0.576041      1 -0.04           2   \n",
      "4     0     4   2.663334  -1.086769      1 -0.04           7   \n",
      "..   ..   ...        ...        ...    ...   ...         ...   \n",
      "892  39    18   4.423351  -1.493173      1 -0.04           9   \n",
      "893  39    19   4.491930  -2.680328      2 -0.04          14   \n",
      "894  39    20   4.897709  -2.858691      1 -0.04          14   \n",
      "895  39    21   4.028436  -3.839110      1 -0.04          19   \n",
      "896  39    22   4.979159  -4.661289   None  1.00          24   \n",
      "\n",
      "                                           x_t2  \\\n",
      "0    [0.8207901504438192, -0.41662545651615823]   \n",
      "1     [1.7958787667246776, -0.6218385125930341]   \n",
      "2      [2.607278956599389, -0.5760406089612767]   \n",
      "3     [2.6633337425799266, -1.0867687123102956]   \n",
      "4     [2.2484750672103817, -2.6782000543827738]   \n",
      "..                                          ...   \n",
      "892     [4.491929587944977, -2.680327846487224]   \n",
      "893   [4.8977091530270975, -2.8586911194707194]   \n",
      "894    [4.028435876275447, -3.8391097739141857]   \n",
      "895     [4.979158502045727, -4.661288623445707]   \n",
      "896                                          []   \n",
      "\n",
      "                                                a0  \\\n",
      "0    [0.8207901504438192, -0.41662545651615823, 0]   \n",
      "1     [1.7958787667246776, -0.6218385125930341, 0]   \n",
      "2      [2.607278956599389, -0.5760406089612767, 0]   \n",
      "3     [2.6633337425799266, -1.0867687123102956, 0]   \n",
      "4     [2.2484750672103817, -2.6782000543827738, 0]   \n",
      "..                                             ...   \n",
      "892     [4.491929587944977, -2.680327846487224, 0]   \n",
      "893   [4.8977091530270975, -2.8586911194707194, 0]   \n",
      "894    [4.028435876275447, -3.8391097739141857, 0]   \n",
      "895     [4.979158502045727, -4.661288623445707, 0]   \n",
      "896                                            [0]   \n",
      "\n",
      "                                                a1  \\\n",
      "0    [0.8207901504438192, -0.41662545651615823, 1]   \n",
      "1     [1.7958787667246776, -0.6218385125930341, 1]   \n",
      "2      [2.607278956599389, -0.5760406089612767, 1]   \n",
      "3     [2.6633337425799266, -1.0867687123102956, 1]   \n",
      "4     [2.2484750672103817, -2.6782000543827738, 1]   \n",
      "..                                             ...   \n",
      "892     [4.491929587944977, -2.680327846487224, 1]   \n",
      "893   [4.8977091530270975, -2.8586911194707194, 1]   \n",
      "894    [4.028435876275447, -3.8391097739141857, 1]   \n",
      "895     [4.979158502045727, -4.661288623445707, 1]   \n",
      "896                                            [1]   \n",
      "\n",
      "                                                a2  \\\n",
      "0    [0.8207901504438192, -0.41662545651615823, 2]   \n",
      "1     [1.7958787667246776, -0.6218385125930341, 2]   \n",
      "2      [2.607278956599389, -0.5760406089612767, 2]   \n",
      "3     [2.6633337425799266, -1.0867687123102956, 2]   \n",
      "4     [2.2484750672103817, -2.6782000543827738, 2]   \n",
      "..                                             ...   \n",
      "892     [4.491929587944977, -2.680327846487224, 2]   \n",
      "893   [4.8977091530270975, -2.8586911194707194, 2]   \n",
      "894    [4.028435876275447, -3.8391097739141857, 2]   \n",
      "895     [4.979158502045727, -4.661288623445707, 2]   \n",
      "896                                            [2]   \n",
      "\n",
      "                                                a3  \n",
      "0    [0.8207901504438192, -0.41662545651615823, 3]  \n",
      "1     [1.7958787667246776, -0.6218385125930341, 3]  \n",
      "2      [2.607278956599389, -0.5760406089612767, 3]  \n",
      "3     [2.6633337425799266, -1.0867687123102956, 3]  \n",
      "4     [2.2484750672103817, -2.6782000543827738, 3]  \n",
      "..                                             ...  \n",
      "892     [4.491929587944977, -2.680327846487224, 3]  \n",
      "893   [4.8977091530270975, -2.8586911194707194, 3]  \n",
      "894    [4.028435876275447, -3.8391097739141857, 3]  \n",
      "895     [4.979158502045727, -4.661288623445707, 3]  \n",
      "896                                            [3]  \n",
      "\n",
      "[884 rows x 12 columns]\n",
      "New training features\n",
      "     FEATURE_0  FEATURE_1 ACTION\n",
      "0     0.401014  -0.206010      0\n",
      "1     0.820790  -0.416625      2\n",
      "2     1.795879  -0.621839      2\n",
      "3     2.607279  -0.576041      1\n",
      "4     2.663334  -1.086769      1\n",
      "..         ...        ...    ...\n",
      "892   4.423351  -1.493173      1\n",
      "893   4.491930  -2.680328      2\n",
      "894   4.897709  -2.858691      1\n",
      "895   4.028436  -3.839110      1\n",
      "896   4.979159  -4.661289      0\n",
      "\n",
      "[884 rows x 3 columns]\n"
     ]
    },
    {
     "name": "stderr",
     "output_type": "stream",
     "text": [
      "  3%|▎         | 1/30 [00:00<00:09,  3.03it/s]"
     ]
    },
    {
     "name": "stdout",
     "output_type": "stream",
     "text": [
      "Iteration: 0 Start Value [-0.08] action [0]\n"
     ]
    },
    {
     "name": "stderr",
     "output_type": "stream",
     "text": [
      "\r",
      "  7%|▋         | 2/30 [00:22<03:11,  6.84s/it]"
     ]
    },
    {
     "name": "stdout",
     "output_type": "stream",
     "text": [
      "Iteration: 1 Start Value [-0.12] action [0]\n"
     ]
    },
    {
     "name": "stderr",
     "output_type": "stream",
     "text": [
      "\r",
      " 10%|█         | 3/30 [00:43<05:03, 11.24s/it]"
     ]
    },
    {
     "name": "stdout",
     "output_type": "stream",
     "text": [
      "Iteration: 2 Start Value [-0.15999663] action [0]\n"
     ]
    },
    {
     "name": "stderr",
     "output_type": "stream",
     "text": [
      "\r",
      " 13%|█▎        | 4/30 [01:07<06:26, 14.86s/it]"
     ]
    },
    {
     "name": "stdout",
     "output_type": "stream",
     "text": [
      "Iteration: 3 Start Value [-0.19999266] action [0]\n"
     ]
    },
    {
     "name": "stderr",
     "output_type": "stream",
     "text": [
      "\r",
      " 17%|█▋        | 5/30 [01:29<07:08, 17.15s/it]"
     ]
    },
    {
     "name": "stdout",
     "output_type": "stream",
     "text": [
      "Iteration: 4 Start Value [-0.23998427] action [0]\n"
     ]
    },
    {
     "name": "stderr",
     "output_type": "stream",
     "text": [
      "\r",
      " 20%|██        | 6/30 [01:51<07:23, 18.49s/it]"
     ]
    },
    {
     "name": "stdout",
     "output_type": "stream",
     "text": [
      "Iteration: 5 Start Value [-0.27996637] action [0]\n"
     ]
    },
    {
     "name": "stderr",
     "output_type": "stream",
     "text": [
      "\r",
      " 23%|██▎       | 7/30 [02:20<08:17, 21.65s/it]"
     ]
    },
    {
     "name": "stdout",
     "output_type": "stream",
     "text": [
      "Iteration: 6 Start Value [-0.31996223] action [0]\n"
     ]
    },
    {
     "name": "stderr",
     "output_type": "stream",
     "text": [
      "\r",
      " 27%|██▋       | 8/30 [02:43<08:05, 22.06s/it]"
     ]
    },
    {
     "name": "stdout",
     "output_type": "stream",
     "text": [
      "Iteration: 7 Start Value [-0.35993223] action [0]\n"
     ]
    },
    {
     "name": "stderr",
     "output_type": "stream",
     "text": [
      "\r",
      " 30%|███       | 9/30 [03:06<07:48, 22.32s/it]"
     ]
    },
    {
     "name": "stdout",
     "output_type": "stream",
     "text": [
      "Iteration: 8 Start Value [-0.39986151] action [1]\n"
     ]
    },
    {
     "name": "stderr",
     "output_type": "stream",
     "text": [
      "\r",
      " 33%|███▎      | 10/30 [03:28<07:25, 22.26s/it]"
     ]
    },
    {
     "name": "stdout",
     "output_type": "stream",
     "text": [
      "Iteration: 9 Start Value [-0.4386986] action [2]\n"
     ]
    },
    {
     "name": "stderr",
     "output_type": "stream",
     "text": [
      "\r",
      " 37%|███▋      | 11/30 [03:51<07:09, 22.59s/it]"
     ]
    },
    {
     "name": "stdout",
     "output_type": "stream",
     "text": [
      "Iteration: 10 Start Value [-0.47659357] action [2]\n"
     ]
    },
    {
     "name": "stderr",
     "output_type": "stream",
     "text": [
      "\r",
      " 40%|████      | 12/30 [04:14<06:46, 22.58s/it]"
     ]
    },
    {
     "name": "stdout",
     "output_type": "stream",
     "text": [
      "Iteration: 11 Start Value [-0.50517868] action [2]\n"
     ]
    },
    {
     "name": "stderr",
     "output_type": "stream",
     "text": [
      "\r",
      " 43%|████▎     | 13/30 [04:40<06:39, 23.52s/it]"
     ]
    },
    {
     "name": "stdout",
     "output_type": "stream",
     "text": [
      "Iteration: 12 Start Value [-0.02601391] action [2]\n"
     ]
    },
    {
     "name": "stderr",
     "output_type": "stream",
     "text": [
      "\r",
      " 47%|████▋     | 14/30 [05:09<06:46, 25.41s/it]"
     ]
    },
    {
     "name": "stdout",
     "output_type": "stream",
     "text": [
      "Iteration: 13 Start Value [0.27397821] action [2]\n"
     ]
    },
    {
     "name": "stderr",
     "output_type": "stream",
     "text": [
      "\r",
      " 50%|█████     | 15/30 [05:32<06:07, 24.52s/it]"
     ]
    },
    {
     "name": "stdout",
     "output_type": "stream",
     "text": [
      "Iteration: 14 Start Value [0.32706219] action [2]\n"
     ]
    },
    {
     "name": "stderr",
     "output_type": "stream",
     "text": [
      "\r",
      " 53%|█████▎    | 16/30 [05:55<05:37, 24.08s/it]"
     ]
    },
    {
     "name": "stdout",
     "output_type": "stream",
     "text": [
      "Iteration: 15 Start Value [0.41859153] action [2]\n"
     ]
    },
    {
     "name": "stderr",
     "output_type": "stream",
     "text": [
      "\r",
      " 57%|█████▋    | 17/30 [06:18<05:08, 23.76s/it]"
     ]
    },
    {
     "name": "stdout",
     "output_type": "stream",
     "text": [
      "Iteration: 16 Start Value [0.43731056] action [2]\n"
     ]
    },
    {
     "name": "stderr",
     "output_type": "stream",
     "text": [
      "\r",
      " 60%|██████    | 18/30 [06:41<04:44, 23.72s/it]"
     ]
    },
    {
     "name": "stdout",
     "output_type": "stream",
     "text": [
      "Iteration: 17 Start Value [0.43698288] action [2]\n"
     ]
    },
    {
     "name": "stderr",
     "output_type": "stream",
     "text": [
      "\r",
      " 63%|██████▎   | 19/30 [07:08<04:30, 24.55s/it]"
     ]
    },
    {
     "name": "stdout",
     "output_type": "stream",
     "text": [
      "Iteration: 18 Start Value [0.43406027] action [2]\n"
     ]
    },
    {
     "name": "stderr",
     "output_type": "stream",
     "text": [
      "\r",
      " 67%|██████▋   | 20/30 [07:31<04:01, 24.20s/it]"
     ]
    },
    {
     "name": "stdout",
     "output_type": "stream",
     "text": [
      "Iteration: 19 Start Value [0.43217725] action [2]\n"
     ]
    },
    {
     "name": "stderr",
     "output_type": "stream",
     "text": [
      "\r",
      " 70%|███████   | 21/30 [08:01<03:51, 25.78s/it]"
     ]
    },
    {
     "name": "stdout",
     "output_type": "stream",
     "text": [
      "Iteration: 20 Start Value [0.43551937] action [2]\n"
     ]
    },
    {
     "name": "stderr",
     "output_type": "stream",
     "text": [
      "\r",
      " 73%|███████▎  | 22/30 [08:36<03:47, 28.47s/it]"
     ]
    },
    {
     "name": "stdout",
     "output_type": "stream",
     "text": [
      "Iteration: 21 Start Value [0.43629747] action [2]\n"
     ]
    },
    {
     "name": "stderr",
     "output_type": "stream",
     "text": [
      "\r",
      " 77%|███████▋  | 23/30 [08:58<03:06, 26.68s/it]"
     ]
    },
    {
     "name": "stdout",
     "output_type": "stream",
     "text": [
      "Iteration: 22 Start Value [0.43606896] action [2]\n"
     ]
    },
    {
     "name": "stderr",
     "output_type": "stream",
     "text": [
      "\r",
      " 80%|████████  | 24/30 [09:32<02:53, 28.99s/it]"
     ]
    },
    {
     "name": "stdout",
     "output_type": "stream",
     "text": [
      "Iteration: 23 Start Value [0.43508232] action [2]\n"
     ]
    },
    {
     "name": "stderr",
     "output_type": "stream",
     "text": [
      "\r",
      " 83%|████████▎ | 25/30 [09:57<02:17, 27.57s/it]"
     ]
    },
    {
     "name": "stdout",
     "output_type": "stream",
     "text": [
      "Iteration: 24 Start Value [0.4352634] action [2]\n"
     ]
    },
    {
     "name": "stderr",
     "output_type": "stream",
     "text": [
      "\r",
      " 87%|████████▋ | 26/30 [10:20<01:44, 26.21s/it]"
     ]
    },
    {
     "name": "stdout",
     "output_type": "stream",
     "text": [
      "Iteration: 25 Start Value [0.43566659] action [2]\n"
     ]
    },
    {
     "name": "stderr",
     "output_type": "stream",
     "text": [
      "\r",
      " 90%|█████████ | 27/30 [10:46<01:18, 26.30s/it]"
     ]
    },
    {
     "name": "stdout",
     "output_type": "stream",
     "text": [
      "Iteration: 26 Start Value [0.43555291] action [2]\n"
     ]
    },
    {
     "name": "stderr",
     "output_type": "stream",
     "text": [
      "\r",
      " 93%|█████████▎| 28/30 [11:13<00:52, 26.50s/it]"
     ]
    },
    {
     "name": "stdout",
     "output_type": "stream",
     "text": [
      "Iteration: 27 Start Value [0.43573474] action [2]\n"
     ]
    },
    {
     "name": "stderr",
     "output_type": "stream",
     "text": [
      "\r",
      " 97%|█████████▋| 29/30 [11:41<00:26, 26.91s/it]"
     ]
    },
    {
     "name": "stdout",
     "output_type": "stream",
     "text": [
      "Iteration: 28 Start Value [0.43552183] action [2]\n"
     ]
    },
    {
     "name": "stderr",
     "output_type": "stream",
     "text": [
      "100%|██████████| 30/30 [12:08<00:00, 24.28s/it]"
     ]
    },
    {
     "name": "stdout",
     "output_type": "stream",
     "text": [
      "Iteration: 29 Start Value [0.43594418] action [2]\n",
      "N= 40  completed\n"
     ]
    },
    {
     "name": "stderr",
     "output_type": "stream",
     "text": [
      "\n"
     ]
    },
    {
     "name": "stdout",
     "output_type": "stream",
     "text": [
      "      ID  TIME  FEATURE_0  FEATURE_1 ACTION  RISK  OG_CLUSTER  \\\n",
      "0      0     0   0.401014  -0.206010      0 -0.04           0   \n",
      "1      0     1   0.820790  -0.416625      2 -0.04           0   \n",
      "2      0     2   1.795879  -0.621839      2 -0.04           1   \n",
      "3      0     3   2.607279  -0.576041      1 -0.04           2   \n",
      "4      0     4   2.663334  -1.086769      1 -0.04           7   \n",
      "...   ..   ...        ...        ...    ...   ...         ...   \n",
      "1113  49    16   3.779051  -1.688121      2 -0.04           8   \n",
      "1114  49    17   4.284611  -1.862994      1 -0.04           9   \n",
      "1115  49    18   4.148050  -2.964558      1 -0.04          14   \n",
      "1116  49    19   4.973775  -3.042837      1 -0.04          19   \n",
      "1117  49    20   4.487829  -4.529222   None  1.00          24   \n",
      "\n",
      "                                            x_t2  \\\n",
      "0     [0.8207901504438192, -0.41662545651615823]   \n",
      "1      [1.7958787667246776, -0.6218385125930341]   \n",
      "2       [2.607278956599389, -0.5760406089612767]   \n",
      "3      [2.6633337425799266, -1.0867687123102956]   \n",
      "4      [2.2484750672103817, -2.6782000543827738]   \n",
      "...                                          ...   \n",
      "1113     [4.284611086100983, -1.862993767237584]   \n",
      "1114    [4.148050059506015, -2.9645577874196114]   \n",
      "1115     [4.973775076962409, -3.042836574619501]   \n",
      "1116        [4.487828548959456, -4.529222147901]   \n",
      "1117                                          []   \n",
      "\n",
      "                                                 a0  \\\n",
      "0     [0.8207901504438192, -0.41662545651615823, 0]   \n",
      "1      [1.7958787667246776, -0.6218385125930341, 0]   \n",
      "2       [2.607278956599389, -0.5760406089612767, 0]   \n",
      "3      [2.6633337425799266, -1.0867687123102956, 0]   \n",
      "4      [2.2484750672103817, -2.6782000543827738, 0]   \n",
      "...                                             ...   \n",
      "1113     [4.284611086100983, -1.862993767237584, 0]   \n",
      "1114    [4.148050059506015, -2.9645577874196114, 0]   \n",
      "1115     [4.973775076962409, -3.042836574619501, 0]   \n",
      "1116        [4.487828548959456, -4.529222147901, 0]   \n",
      "1117                                            [0]   \n",
      "\n",
      "                                                 a1  \\\n",
      "0     [0.8207901504438192, -0.41662545651615823, 1]   \n",
      "1      [1.7958787667246776, -0.6218385125930341, 1]   \n",
      "2       [2.607278956599389, -0.5760406089612767, 1]   \n",
      "3      [2.6633337425799266, -1.0867687123102956, 1]   \n",
      "4      [2.2484750672103817, -2.6782000543827738, 1]   \n",
      "...                                             ...   \n",
      "1113     [4.284611086100983, -1.862993767237584, 1]   \n",
      "1114    [4.148050059506015, -2.9645577874196114, 1]   \n",
      "1115     [4.973775076962409, -3.042836574619501, 1]   \n",
      "1116        [4.487828548959456, -4.529222147901, 1]   \n",
      "1117                                            [1]   \n",
      "\n",
      "                                                 a2  \\\n",
      "0     [0.8207901504438192, -0.41662545651615823, 2]   \n",
      "1      [1.7958787667246776, -0.6218385125930341, 2]   \n",
      "2       [2.607278956599389, -0.5760406089612767, 2]   \n",
      "3      [2.6633337425799266, -1.0867687123102956, 2]   \n",
      "4      [2.2484750672103817, -2.6782000543827738, 2]   \n",
      "...                                             ...   \n",
      "1113     [4.284611086100983, -1.862993767237584, 2]   \n",
      "1114    [4.148050059506015, -2.9645577874196114, 2]   \n",
      "1115     [4.973775076962409, -3.042836574619501, 2]   \n",
      "1116        [4.487828548959456, -4.529222147901, 2]   \n",
      "1117                                            [2]   \n",
      "\n",
      "                                                 a3  \n",
      "0     [0.8207901504438192, -0.41662545651615823, 3]  \n",
      "1      [1.7958787667246776, -0.6218385125930341, 3]  \n",
      "2       [2.607278956599389, -0.5760406089612767, 3]  \n",
      "3      [2.6633337425799266, -1.0867687123102956, 3]  \n",
      "4      [2.2484750672103817, -2.6782000543827738, 3]  \n",
      "...                                             ...  \n",
      "1113     [4.284611086100983, -1.862993767237584, 3]  \n",
      "1114    [4.148050059506015, -2.9645577874196114, 3]  \n",
      "1115     [4.973775076962409, -3.042836574619501, 3]  \n",
      "1116        [4.487828548959456, -4.529222147901, 3]  \n",
      "1117                                            [3]  \n",
      "\n",
      "[1104 rows x 12 columns]\n",
      "New training features\n",
      "      FEATURE_0  FEATURE_1 ACTION\n",
      "0      0.401014  -0.206010      0\n",
      "1      0.820790  -0.416625      2\n",
      "2      1.795879  -0.621839      2\n",
      "3      2.607279  -0.576041      1\n",
      "4      2.663334  -1.086769      1\n",
      "...         ...        ...    ...\n",
      "1113   3.779051  -1.688121      2\n",
      "1114   4.284611  -1.862994      1\n",
      "1115   4.148050  -2.964558      1\n",
      "1116   4.973775  -3.042837      1\n",
      "1117   4.487829  -4.529222      0\n",
      "\n",
      "[1104 rows x 3 columns]\n"
     ]
    },
    {
     "name": "stderr",
     "output_type": "stream",
     "text": [
      "  3%|▎         | 1/30 [00:00<00:27,  1.07it/s]"
     ]
    },
    {
     "name": "stdout",
     "output_type": "stream",
     "text": [
      "Iteration: 0 Start Value [-0.08] action [0]\n"
     ]
    },
    {
     "name": "stderr",
     "output_type": "stream",
     "text": [
      "\r",
      "  7%|▋         | 2/30 [00:41<06:02, 12.94s/it]"
     ]
    },
    {
     "name": "stdout",
     "output_type": "stream",
     "text": [
      "Iteration: 1 Start Value [-0.12] action [0]\n"
     ]
    },
    {
     "name": "stderr",
     "output_type": "stream",
     "text": [
      "\r",
      " 10%|█         | 3/30 [01:31<10:45, 23.91s/it]"
     ]
    },
    {
     "name": "stdout",
     "output_type": "stream",
     "text": [
      "Iteration: 2 Start Value [-0.1599992] action [0]\n"
     ]
    },
    {
     "name": "stderr",
     "output_type": "stream",
     "text": [
      "\r",
      " 13%|█▎        | 4/30 [02:16<13:05, 30.22s/it]"
     ]
    },
    {
     "name": "stdout",
     "output_type": "stream",
     "text": [
      "Iteration: 3 Start Value [-0.19999733] action [0]\n"
     ]
    },
    {
     "name": "stderr",
     "output_type": "stream",
     "text": [
      "\r",
      " 17%|█▋        | 5/30 [02:57<14:00, 33.63s/it]"
     ]
    },
    {
     "name": "stdout",
     "output_type": "stream",
     "text": [
      "Iteration: 4 Start Value [-0.23999324] action [0]\n"
     ]
    },
    {
     "name": "stderr",
     "output_type": "stream",
     "text": [
      "\r",
      " 20%|██        | 6/30 [03:51<15:53, 39.73s/it]"
     ]
    },
    {
     "name": "stdout",
     "output_type": "stream",
     "text": [
      "Iteration: 5 Start Value [-0.27996226] action [0]\n"
     ]
    },
    {
     "name": "stderr",
     "output_type": "stream",
     "text": [
      "\r",
      " 23%|██▎       | 7/30 [04:35<15:38, 40.80s/it]"
     ]
    },
    {
     "name": "stdout",
     "output_type": "stream",
     "text": [
      "Iteration: 6 Start Value [-0.31995508] action [0]\n"
     ]
    },
    {
     "name": "stderr",
     "output_type": "stream",
     "text": [
      "\r",
      " 27%|██▋       | 8/30 [05:22<15:42, 42.86s/it]"
     ]
    },
    {
     "name": "stdout",
     "output_type": "stream",
     "text": [
      "Iteration: 7 Start Value [-0.35993193] action [0]\n"
     ]
    },
    {
     "name": "stderr",
     "output_type": "stream",
     "text": [
      "\r",
      " 30%|███       | 9/30 [06:11<15:36, 44.58s/it]"
     ]
    },
    {
     "name": "stdout",
     "output_type": "stream",
     "text": [
      "Iteration: 8 Start Value [-0.39980478] action [0]\n"
     ]
    },
    {
     "name": "stderr",
     "output_type": "stream",
     "text": [
      "\r",
      " 33%|███▎      | 10/30 [06:51<14:25, 43.29s/it]"
     ]
    },
    {
     "name": "stdout",
     "output_type": "stream",
     "text": [
      "Iteration: 9 Start Value [-0.43970223] action [0]\n"
     ]
    },
    {
     "name": "stderr",
     "output_type": "stream",
     "text": [
      "\r",
      " 37%|███▋      | 11/30 [07:41<14:18, 45.20s/it]"
     ]
    },
    {
     "name": "stdout",
     "output_type": "stream",
     "text": [
      "Iteration: 10 Start Value [-0.47783856] action [2]\n"
     ]
    },
    {
     "name": "stderr",
     "output_type": "stream",
     "text": [
      "\r",
      " 40%|████      | 12/30 [08:28<13:46, 45.90s/it]"
     ]
    },
    {
     "name": "stdout",
     "output_type": "stream",
     "text": [
      "Iteration: 11 Start Value [-0.49359883] action [1]\n"
     ]
    },
    {
     "name": "stderr",
     "output_type": "stream",
     "text": [
      "\r",
      " 43%|████▎     | 13/30 [09:10<12:37, 44.53s/it]"
     ]
    },
    {
     "name": "stdout",
     "output_type": "stream",
     "text": [
      "Iteration: 12 Start Value [0.10710212] action [2]\n"
     ]
    },
    {
     "name": "stderr",
     "output_type": "stream",
     "text": [
      "\r",
      " 47%|████▋     | 14/30 [09:56<12:01, 45.07s/it]"
     ]
    },
    {
     "name": "stdout",
     "output_type": "stream",
     "text": [
      "Iteration: 13 Start Value [0.2329137] action [2]\n"
     ]
    },
    {
     "name": "stderr",
     "output_type": "stream",
     "text": [
      "\r",
      " 50%|█████     | 15/30 [10:34<10:45, 43.03s/it]"
     ]
    },
    {
     "name": "stdout",
     "output_type": "stream",
     "text": [
      "Iteration: 14 Start Value [0.39120741] action [2]\n"
     ]
    },
    {
     "name": "stderr",
     "output_type": "stream",
     "text": [
      "\r",
      " 53%|█████▎    | 16/30 [11:24<10:28, 44.87s/it]"
     ]
    },
    {
     "name": "stdout",
     "output_type": "stream",
     "text": [
      "Iteration: 15 Start Value [0.43431689] action [2]\n"
     ]
    },
    {
     "name": "stderr",
     "output_type": "stream",
     "text": [
      "\r",
      " 57%|█████▋    | 17/30 [12:04<09:27, 43.68s/it]"
     ]
    },
    {
     "name": "stdout",
     "output_type": "stream",
     "text": [
      "Iteration: 16 Start Value [0.44153416] action [2]\n"
     ]
    },
    {
     "name": "stderr",
     "output_type": "stream",
     "text": [
      "\r",
      " 60%|██████    | 18/30 [12:47<08:38, 43.23s/it]"
     ]
    },
    {
     "name": "stdout",
     "output_type": "stream",
     "text": [
      "Iteration: 17 Start Value [0.43810263] action [2]\n"
     ]
    },
    {
     "name": "stderr",
     "output_type": "stream",
     "text": [
      "\r",
      " 63%|██████▎   | 19/30 [13:25<07:40, 41.90s/it]"
     ]
    },
    {
     "name": "stdout",
     "output_type": "stream",
     "text": [
      "Iteration: 18 Start Value [0.43731245] action [2]\n"
     ]
    },
    {
     "name": "stderr",
     "output_type": "stream",
     "text": [
      "\r",
      " 67%|██████▋   | 20/30 [14:03<06:47, 40.76s/it]"
     ]
    },
    {
     "name": "stdout",
     "output_type": "stream",
     "text": [
      "Iteration: 19 Start Value [0.43774875] action [2]\n"
     ]
    },
    {
     "name": "stderr",
     "output_type": "stream",
     "text": [
      "\r",
      " 70%|███████   | 21/30 [14:45<06:10, 41.12s/it]"
     ]
    },
    {
     "name": "stdout",
     "output_type": "stream",
     "text": [
      "Iteration: 20 Start Value [0.43911651] action [2]\n"
     ]
    },
    {
     "name": "stderr",
     "output_type": "stream",
     "text": [
      "\r",
      " 73%|███████▎  | 22/30 [15:30<05:37, 42.23s/it]"
     ]
    },
    {
     "name": "stdout",
     "output_type": "stream",
     "text": [
      "Iteration: 21 Start Value [0.43870933] action [2]\n"
     ]
    },
    {
     "name": "stderr",
     "output_type": "stream",
     "text": [
      "\r",
      " 77%|███████▋  | 23/30 [16:08<04:45, 40.79s/it]"
     ]
    },
    {
     "name": "stdout",
     "output_type": "stream",
     "text": [
      "Iteration: 22 Start Value [0.43860029] action [2]\n"
     ]
    },
    {
     "name": "stderr",
     "output_type": "stream",
     "text": [
      "\r",
      " 80%|████████  | 24/30 [16:49<04:05, 40.96s/it]"
     ]
    },
    {
     "name": "stdout",
     "output_type": "stream",
     "text": [
      "Iteration: 23 Start Value [0.4387071] action [2]\n"
     ]
    },
    {
     "name": "stderr",
     "output_type": "stream",
     "text": [
      "\r",
      " 83%|████████▎ | 25/30 [17:36<03:33, 42.74s/it]"
     ]
    },
    {
     "name": "stdout",
     "output_type": "stream",
     "text": [
      "Iteration: 24 Start Value [0.43877231] action [2]\n"
     ]
    },
    {
     "name": "stderr",
     "output_type": "stream",
     "text": [
      "\r",
      " 87%|████████▋ | 26/30 [18:16<02:47, 41.97s/it]"
     ]
    },
    {
     "name": "stdout",
     "output_type": "stream",
     "text": [
      "Iteration: 25 Start Value [0.43904262] action [2]\n"
     ]
    },
    {
     "name": "stderr",
     "output_type": "stream",
     "text": [
      "\r",
      " 90%|█████████ | 27/30 [18:53<02:00, 40.29s/it]"
     ]
    },
    {
     "name": "stdout",
     "output_type": "stream",
     "text": [
      "Iteration: 26 Start Value [0.43890078] action [2]\n"
     ]
    },
    {
     "name": "stderr",
     "output_type": "stream",
     "text": [
      "\r",
      " 93%|█████████▎| 28/30 [19:35<01:22, 41.02s/it]"
     ]
    },
    {
     "name": "stdout",
     "output_type": "stream",
     "text": [
      "Iteration: 27 Start Value [0.43880246] action [2]\n"
     ]
    },
    {
     "name": "stderr",
     "output_type": "stream",
     "text": [
      "\r",
      " 97%|█████████▋| 29/30 [20:18<00:41, 41.40s/it]"
     ]
    },
    {
     "name": "stdout",
     "output_type": "stream",
     "text": [
      "Iteration: 28 Start Value [0.43875757] action [2]\n"
     ]
    },
    {
     "name": "stderr",
     "output_type": "stream",
     "text": [
      "100%|██████████| 30/30 [21:02<00:00, 42.09s/it]"
     ]
    },
    {
     "name": "stdout",
     "output_type": "stream",
     "text": [
      "Iteration: 29 Start Value [0.43868301] action [2]\n",
      "N= 50  completed\n"
     ]
    },
    {
     "name": "stderr",
     "output_type": "stream",
     "text": [
      "\n"
     ]
    },
    {
     "name": "stdout",
     "output_type": "stream",
     "text": [
      "      ID  TIME  FEATURE_0  FEATURE_1 ACTION  RISK  OG_CLUSTER  \\\n",
      "0      0     0   0.401014  -0.206010      0 -0.04           0   \n",
      "1      0     1   0.820790  -0.416625      2 -0.04           0   \n",
      "2      0     2   1.795879  -0.621839      2 -0.04           1   \n",
      "3      0     3   2.607279  -0.576041      1 -0.04           2   \n",
      "4      0     4   2.663334  -1.086769      1 -0.04           7   \n",
      "...   ..   ...        ...        ...    ...   ...         ...   \n",
      "1554  69    19   3.953550  -1.892072      3 -0.04           8   \n",
      "1555  69    20   3.646498  -1.895397      2 -0.04           8   \n",
      "1556  69    21   4.420833  -1.795948      1 -0.04           9   \n",
      "1557  69    22   4.060580  -2.956385      2 -0.04          14   \n",
      "1558  69    23   4.714074  -2.134731      3 -0.04          14   \n",
      "\n",
      "                                            x_t2  \\\n",
      "0     [0.8207901504438192, -0.41662545651615823]   \n",
      "1      [1.7958787667246776, -0.6218385125930341]   \n",
      "2       [2.607278956599389, -0.5760406089612767]   \n",
      "3      [2.6633337425799266, -1.0867687123102956]   \n",
      "4      [2.2484750672103817, -2.6782000543827738]   \n",
      "...                                          ...   \n",
      "1554   [3.6464979377745688, -1.8953966281716264]   \n",
      "1555   [4.4208330023340565, -1.7959480751623622]   \n",
      "1556       [4.0605803474703, -2.956384667383713]   \n",
      "1557    [4.714074233761076, -2.1347309785858744]   \n",
      "1558    [4.231547574046426, -2.9459439273793286]   \n",
      "\n",
      "                                                 a0  \\\n",
      "0     [0.8207901504438192, -0.41662545651615823, 0]   \n",
      "1      [1.7958787667246776, -0.6218385125930341, 0]   \n",
      "2       [2.607278956599389, -0.5760406089612767, 0]   \n",
      "3      [2.6633337425799266, -1.0867687123102956, 0]   \n",
      "4      [2.2484750672103817, -2.6782000543827738, 0]   \n",
      "...                                             ...   \n",
      "1554   [3.6464979377745688, -1.8953966281716264, 0]   \n",
      "1555   [4.4208330023340565, -1.7959480751623622, 0]   \n",
      "1556       [4.0605803474703, -2.956384667383713, 0]   \n",
      "1557    [4.714074233761076, -2.1347309785858744, 0]   \n",
      "1558    [4.231547574046426, -2.9459439273793286, 0]   \n",
      "\n",
      "                                                 a1  \\\n",
      "0     [0.8207901504438192, -0.41662545651615823, 1]   \n",
      "1      [1.7958787667246776, -0.6218385125930341, 1]   \n",
      "2       [2.607278956599389, -0.5760406089612767, 1]   \n",
      "3      [2.6633337425799266, -1.0867687123102956, 1]   \n",
      "4      [2.2484750672103817, -2.6782000543827738, 1]   \n",
      "...                                             ...   \n",
      "1554   [3.6464979377745688, -1.8953966281716264, 1]   \n",
      "1555   [4.4208330023340565, -1.7959480751623622, 1]   \n",
      "1556       [4.0605803474703, -2.956384667383713, 1]   \n",
      "1557    [4.714074233761076, -2.1347309785858744, 1]   \n",
      "1558    [4.231547574046426, -2.9459439273793286, 1]   \n",
      "\n",
      "                                                 a2  \\\n",
      "0     [0.8207901504438192, -0.41662545651615823, 2]   \n",
      "1      [1.7958787667246776, -0.6218385125930341, 2]   \n",
      "2       [2.607278956599389, -0.5760406089612767, 2]   \n",
      "3      [2.6633337425799266, -1.0867687123102956, 2]   \n",
      "4      [2.2484750672103817, -2.6782000543827738, 2]   \n",
      "...                                             ...   \n",
      "1554   [3.6464979377745688, -1.8953966281716264, 2]   \n",
      "1555   [4.4208330023340565, -1.7959480751623622, 2]   \n",
      "1556       [4.0605803474703, -2.956384667383713, 2]   \n",
      "1557    [4.714074233761076, -2.1347309785858744, 2]   \n",
      "1558    [4.231547574046426, -2.9459439273793286, 2]   \n",
      "\n",
      "                                                 a3  \n",
      "0     [0.8207901504438192, -0.41662545651615823, 3]  \n",
      "1      [1.7958787667246776, -0.6218385125930341, 3]  \n",
      "2       [2.607278956599389, -0.5760406089612767, 3]  \n",
      "3      [2.6633337425799266, -1.0867687123102956, 3]  \n",
      "4      [2.2484750672103817, -2.6782000543827738, 3]  \n",
      "...                                             ...  \n",
      "1554   [3.6464979377745688, -1.8953966281716264, 3]  \n",
      "1555   [4.4208330023340565, -1.7959480751623622, 3]  \n",
      "1556       [4.0605803474703, -2.956384667383713, 3]  \n",
      "1557    [4.714074233761076, -2.1347309785858744, 3]  \n",
      "1558    [4.231547574046426, -2.9459439273793286, 3]  \n",
      "\n",
      "[1538 rows x 12 columns]\n",
      "New training features\n",
      "      FEATURE_0  FEATURE_1 ACTION\n",
      "0      0.401014  -0.206010      0\n",
      "1      0.820790  -0.416625      2\n",
      "2      1.795879  -0.621839      2\n",
      "3      2.607279  -0.576041      1\n",
      "4      2.663334  -1.086769      1\n",
      "...         ...        ...    ...\n",
      "1554   3.953550  -1.892072      3\n",
      "1555   3.646498  -1.895397      2\n",
      "1556   4.420833  -1.795948      1\n",
      "1557   4.060580  -2.956385      2\n",
      "1558   4.714074  -2.134731      3\n",
      "\n",
      "[1538 rows x 3 columns]\n"
     ]
    },
    {
     "name": "stderr",
     "output_type": "stream",
     "text": [
      "  3%|▎         | 1/30 [00:00<00:21,  1.32it/s]"
     ]
    },
    {
     "name": "stdout",
     "output_type": "stream",
     "text": [
      "Iteration: 0 Start Value [-0.08] action [0]\n"
     ]
    },
    {
     "name": "stderr",
     "output_type": "stream",
     "text": [
      "\r",
      "  7%|▋         | 2/30 [00:59<08:29, 18.18s/it]"
     ]
    },
    {
     "name": "stdout",
     "output_type": "stream",
     "text": [
      "Iteration: 1 Start Value [-0.12] action [0]\n"
     ]
    },
    {
     "name": "stderr",
     "output_type": "stream",
     "text": [
      "\r",
      " 10%|█         | 3/30 [01:56<13:28, 29.94s/it]"
     ]
    },
    {
     "name": "stdout",
     "output_type": "stream",
     "text": [
      "Iteration: 2 Start Value [-0.15999252] action [0]\n"
     ]
    },
    {
     "name": "stderr",
     "output_type": "stream",
     "text": [
      "\r",
      " 13%|█▎        | 4/30 [02:51<16:11, 37.38s/it]"
     ]
    },
    {
     "name": "stdout",
     "output_type": "stream",
     "text": [
      "Iteration: 3 Start Value [-0.19998904] action [0]\n"
     ]
    },
    {
     "name": "stderr",
     "output_type": "stream",
     "text": [
      "\r",
      " 17%|█▋        | 5/30 [03:48<17:57, 43.09s/it]"
     ]
    },
    {
     "name": "stdout",
     "output_type": "stream",
     "text": [
      "Iteration: 4 Start Value [-0.23997568] action [0]\n"
     ]
    },
    {
     "name": "stderr",
     "output_type": "stream",
     "text": [
      "\r",
      " 20%|██        | 6/30 [04:42<18:37, 46.55s/it]"
     ]
    },
    {
     "name": "stdout",
     "output_type": "stream",
     "text": [
      "Iteration: 5 Start Value [-0.2799709] action [0]\n"
     ]
    },
    {
     "name": "stderr",
     "output_type": "stream",
     "text": [
      "\r",
      " 23%|██▎       | 7/30 [05:38<18:51, 49.22s/it]"
     ]
    },
    {
     "name": "stdout",
     "output_type": "stream",
     "text": [
      "Iteration: 6 Start Value [-0.31995397] action [0]\n"
     ]
    },
    {
     "name": "stderr",
     "output_type": "stream",
     "text": [
      "\r",
      " 27%|██▋       | 8/30 [06:31<18:32, 50.57s/it]"
     ]
    },
    {
     "name": "stdout",
     "output_type": "stream",
     "text": [
      "Iteration: 7 Start Value [-0.35989975] action [0]\n"
     ]
    },
    {
     "name": "stderr",
     "output_type": "stream",
     "text": [
      "\r",
      " 30%|███       | 9/30 [07:24<17:55, 51.20s/it]"
     ]
    },
    {
     "name": "stdout",
     "output_type": "stream",
     "text": [
      "Iteration: 8 Start Value [-0.39977413] action [0]\n"
     ]
    },
    {
     "name": "stderr",
     "output_type": "stream",
     "text": [
      "\r",
      " 33%|███▎      | 10/30 [08:17<17:13, 51.70s/it]"
     ]
    },
    {
     "name": "stdout",
     "output_type": "stream",
     "text": [
      "Iteration: 9 Start Value [-0.43975037] action [2]\n"
     ]
    },
    {
     "name": "stderr",
     "output_type": "stream",
     "text": [
      "\r",
      " 37%|███▋      | 11/30 [09:09<16:25, 51.89s/it]"
     ]
    },
    {
     "name": "stdout",
     "output_type": "stream",
     "text": [
      "Iteration: 10 Start Value [-0.47966245] action [2]\n"
     ]
    },
    {
     "name": "stderr",
     "output_type": "stream",
     "text": [
      "\r",
      " 40%|████      | 12/30 [10:03<15:45, 52.53s/it]"
     ]
    },
    {
     "name": "stdout",
     "output_type": "stream",
     "text": [
      "Iteration: 11 Start Value [-0.51032587] action [1]\n"
     ]
    },
    {
     "name": "stderr",
     "output_type": "stream",
     "text": [
      "\r",
      " 43%|████▎     | 13/30 [10:55<14:48, 52.24s/it]"
     ]
    },
    {
     "name": "stdout",
     "output_type": "stream",
     "text": [
      "Iteration: 12 Start Value [0.21961796] action [2]\n"
     ]
    },
    {
     "name": "stderr",
     "output_type": "stream",
     "text": [
      "\r",
      " 47%|████▋     | 14/30 [11:50<14:08, 53.04s/it]"
     ]
    },
    {
     "name": "stdout",
     "output_type": "stream",
     "text": [
      "Iteration: 13 Start Value [0.28928515] action [2]\n"
     ]
    },
    {
     "name": "stderr",
     "output_type": "stream",
     "text": [
      "\r",
      " 50%|█████     | 15/30 [12:45<13:26, 53.76s/it]"
     ]
    },
    {
     "name": "stdout",
     "output_type": "stream",
     "text": [
      "Iteration: 14 Start Value [0.40953915] action [2]\n"
     ]
    },
    {
     "name": "stderr",
     "output_type": "stream",
     "text": [
      "\r",
      " 53%|█████▎    | 16/30 [13:44<12:54, 55.29s/it]"
     ]
    },
    {
     "name": "stdout",
     "output_type": "stream",
     "text": [
      "Iteration: 15 Start Value [0.43867092] action [2]\n"
     ]
    },
    {
     "name": "stderr",
     "output_type": "stream",
     "text": [
      "\r",
      " 57%|█████▋    | 17/30 [14:39<11:55, 55.05s/it]"
     ]
    },
    {
     "name": "stdout",
     "output_type": "stream",
     "text": [
      "Iteration: 16 Start Value [0.43830072] action [2]\n"
     ]
    },
    {
     "name": "stderr",
     "output_type": "stream",
     "text": [
      "\r",
      " 60%|██████    | 18/30 [15:33<10:57, 54.77s/it]"
     ]
    },
    {
     "name": "stdout",
     "output_type": "stream",
     "text": [
      "Iteration: 17 Start Value [0.43587896] action [2]\n"
     ]
    },
    {
     "name": "stderr",
     "output_type": "stream",
     "text": [
      "\r",
      " 63%|██████▎   | 19/30 [16:34<10:22, 56.63s/it]"
     ]
    },
    {
     "name": "stdout",
     "output_type": "stream",
     "text": [
      "Iteration: 18 Start Value [0.4372024] action [2]\n"
     ]
    },
    {
     "name": "stderr",
     "output_type": "stream",
     "text": [
      "\r",
      " 67%|██████▋   | 20/30 [17:35<09:40, 58.02s/it]"
     ]
    },
    {
     "name": "stdout",
     "output_type": "stream",
     "text": [
      "Iteration: 19 Start Value [0.43794556] action [2]\n"
     ]
    },
    {
     "name": "stderr",
     "output_type": "stream",
     "text": [
      "\r",
      " 70%|███████   | 21/30 [18:35<08:47, 58.65s/it]"
     ]
    },
    {
     "name": "stdout",
     "output_type": "stream",
     "text": [
      "Iteration: 20 Start Value [0.43818078] action [2]\n"
     ]
    },
    {
     "name": "stderr",
     "output_type": "stream",
     "text": [
      "\r",
      " 73%|███████▎  | 22/30 [19:35<07:52, 59.05s/it]"
     ]
    },
    {
     "name": "stdout",
     "output_type": "stream",
     "text": [
      "Iteration: 21 Start Value [0.43794997] action [2]\n"
     ]
    },
    {
     "name": "stderr",
     "output_type": "stream",
     "text": [
      "\r",
      " 77%|███████▋  | 23/30 [20:36<06:57, 59.67s/it]"
     ]
    },
    {
     "name": "stdout",
     "output_type": "stream",
     "text": [
      "Iteration: 22 Start Value [0.43791539] action [2]\n"
     ]
    },
    {
     "name": "stderr",
     "output_type": "stream",
     "text": [
      "\r",
      " 80%|████████  | 24/30 [21:33<05:52, 58.76s/it]"
     ]
    },
    {
     "name": "stdout",
     "output_type": "stream",
     "text": [
      "Iteration: 23 Start Value [0.43813525] action [2]\n"
     ]
    },
    {
     "name": "stderr",
     "output_type": "stream",
     "text": [
      "\r",
      " 83%|████████▎ | 25/30 [22:28<04:48, 57.61s/it]"
     ]
    },
    {
     "name": "stdout",
     "output_type": "stream",
     "text": [
      "Iteration: 24 Start Value [0.43823387] action [2]\n"
     ]
    },
    {
     "name": "stderr",
     "output_type": "stream",
     "text": [
      "\r",
      " 87%|████████▋ | 26/30 [23:26<03:50, 57.70s/it]"
     ]
    },
    {
     "name": "stdout",
     "output_type": "stream",
     "text": [
      "Iteration: 25 Start Value [0.43804631] action [2]\n"
     ]
    },
    {
     "name": "stderr",
     "output_type": "stream",
     "text": [
      "\r",
      " 90%|█████████ | 27/30 [24:22<02:52, 57.40s/it]"
     ]
    },
    {
     "name": "stdout",
     "output_type": "stream",
     "text": [
      "Iteration: 26 Start Value [0.43808742] action [2]\n"
     ]
    },
    {
     "name": "stderr",
     "output_type": "stream",
     "text": [
      "\r",
      " 93%|█████████▎| 28/30 [25:16<01:52, 56.14s/it]"
     ]
    },
    {
     "name": "stdout",
     "output_type": "stream",
     "text": [
      "Iteration: 27 Start Value [0.43796732] action [2]\n"
     ]
    },
    {
     "name": "stderr",
     "output_type": "stream",
     "text": [
      "\r",
      " 97%|█████████▋| 29/30 [26:07<00:54, 54.76s/it]"
     ]
    },
    {
     "name": "stdout",
     "output_type": "stream",
     "text": [
      "Iteration: 28 Start Value [0.43802534] action [2]\n"
     ]
    },
    {
     "name": "stderr",
     "output_type": "stream",
     "text": [
      "100%|██████████| 30/30 [27:04<00:00, 54.16s/it]"
     ]
    },
    {
     "name": "stdout",
     "output_type": "stream",
     "text": [
      "Iteration: 29 Start Value [0.43806986] action [2]\n",
      "N= 70  completed\n"
     ]
    },
    {
     "name": "stderr",
     "output_type": "stream",
     "text": [
      "\n"
     ]
    },
    {
     "name": "stdout",
     "output_type": "stream",
     "text": [
      "      ID  TIME  FEATURE_0  FEATURE_1 ACTION  RISK  OG_CLUSTER  \\\n",
      "0      0     0   0.401014  -0.206010      0 -0.04           0   \n",
      "1      0     1   0.820790  -0.416625      2 -0.04           0   \n",
      "2      0     2   1.795879  -0.621839      2 -0.04           1   \n",
      "3      0     3   2.607279  -0.576041      1 -0.04           2   \n",
      "4      0     4   2.663334  -1.086769      1 -0.04           7   \n",
      "...   ..   ...        ...        ...    ...   ...         ...   \n",
      "2024  89    17   4.995504  -1.615173      1 -0.04           9   \n",
      "2025  89    18   4.822858  -2.763605      3 -0.04          14   \n",
      "2026  89    19   4.803096  -2.052724      1 -0.04          14   \n",
      "2027  89    20   4.615857  -3.003614      1 -0.04          19   \n",
      "2028  89    21   4.499193  -4.189941   None  1.00          24   \n",
      "\n",
      "                                            x_t2  \\\n",
      "0     [0.8207901504438192, -0.41662545651615823]   \n",
      "1      [1.7958787667246776, -0.6218385125930341]   \n",
      "2       [2.607278956599389, -0.5760406089612767]   \n",
      "3      [2.6633337425799266, -1.0867687123102956]   \n",
      "4      [2.2484750672103817, -2.6782000543827738]   \n",
      "...                                          ...   \n",
      "2024    [4.822858089299187, -2.7636050464958544]   \n",
      "2025   [4.8030959985505515, -2.0527235419645624]   \n",
      "2026     [4.61585710720196, -3.0036137817088586]   \n",
      "2027     [4.499193070603983, -4.189940764586426]   \n",
      "2028                                          []   \n",
      "\n",
      "                                                 a0  \\\n",
      "0     [0.8207901504438192, -0.41662545651615823, 0]   \n",
      "1      [1.7958787667246776, -0.6218385125930341, 0]   \n",
      "2       [2.607278956599389, -0.5760406089612767, 0]   \n",
      "3      [2.6633337425799266, -1.0867687123102956, 0]   \n",
      "4      [2.2484750672103817, -2.6782000543827738, 0]   \n",
      "...                                             ...   \n",
      "2024    [4.822858089299187, -2.7636050464958544, 0]   \n",
      "2025   [4.8030959985505515, -2.0527235419645624, 0]   \n",
      "2026     [4.61585710720196, -3.0036137817088586, 0]   \n",
      "2027     [4.499193070603983, -4.189940764586426, 0]   \n",
      "2028                                            [0]   \n",
      "\n",
      "                                                 a1  \\\n",
      "0     [0.8207901504438192, -0.41662545651615823, 1]   \n",
      "1      [1.7958787667246776, -0.6218385125930341, 1]   \n",
      "2       [2.607278956599389, -0.5760406089612767, 1]   \n",
      "3      [2.6633337425799266, -1.0867687123102956, 1]   \n",
      "4      [2.2484750672103817, -2.6782000543827738, 1]   \n",
      "...                                             ...   \n",
      "2024    [4.822858089299187, -2.7636050464958544, 1]   \n",
      "2025   [4.8030959985505515, -2.0527235419645624, 1]   \n",
      "2026     [4.61585710720196, -3.0036137817088586, 1]   \n",
      "2027     [4.499193070603983, -4.189940764586426, 1]   \n",
      "2028                                            [1]   \n",
      "\n",
      "                                                 a2  \\\n",
      "0     [0.8207901504438192, -0.41662545651615823, 2]   \n",
      "1      [1.7958787667246776, -0.6218385125930341, 2]   \n",
      "2       [2.607278956599389, -0.5760406089612767, 2]   \n",
      "3      [2.6633337425799266, -1.0867687123102956, 2]   \n",
      "4      [2.2484750672103817, -2.6782000543827738, 2]   \n",
      "...                                             ...   \n",
      "2024    [4.822858089299187, -2.7636050464958544, 2]   \n",
      "2025   [4.8030959985505515, -2.0527235419645624, 2]   \n",
      "2026     [4.61585710720196, -3.0036137817088586, 2]   \n",
      "2027     [4.499193070603983, -4.189940764586426, 2]   \n",
      "2028                                            [2]   \n",
      "\n",
      "                                                 a3  \n",
      "0     [0.8207901504438192, -0.41662545651615823, 3]  \n",
      "1      [1.7958787667246776, -0.6218385125930341, 3]  \n",
      "2       [2.607278956599389, -0.5760406089612767, 3]  \n",
      "3      [2.6633337425799266, -1.0867687123102956, 3]  \n",
      "4      [2.2484750672103817, -2.6782000543827738, 3]  \n",
      "...                                             ...  \n",
      "2024    [4.822858089299187, -2.7636050464958544, 3]  \n",
      "2025   [4.8030959985505515, -2.0527235419645624, 3]  \n",
      "2026     [4.61585710720196, -3.0036137817088586, 3]  \n",
      "2027     [4.499193070603983, -4.189940764586426, 3]  \n",
      "2028                                            [3]  \n",
      "\n",
      "[1996 rows x 12 columns]\n",
      "New training features\n",
      "      FEATURE_0  FEATURE_1 ACTION\n",
      "0      0.401014  -0.206010      0\n",
      "1      0.820790  -0.416625      2\n",
      "2      1.795879  -0.621839      2\n",
      "3      2.607279  -0.576041      1\n",
      "4      2.663334  -1.086769      1\n",
      "...         ...        ...    ...\n",
      "2024   4.995504  -1.615173      1\n",
      "2025   4.822858  -2.763605      3\n",
      "2026   4.803096  -2.052724      1\n",
      "2027   4.615857  -3.003614      1\n",
      "2028   4.499193  -4.189941      0\n",
      "\n",
      "[1996 rows x 3 columns]\n"
     ]
    },
    {
     "name": "stderr",
     "output_type": "stream",
     "text": [
      "  3%|▎         | 1/30 [00:00<00:21,  1.33it/s]"
     ]
    },
    {
     "name": "stdout",
     "output_type": "stream",
     "text": [
      "Iteration: 0 Start Value [-0.08] action [0]\n"
     ]
    },
    {
     "name": "stderr",
     "output_type": "stream",
     "text": [
      "\r",
      "  7%|▋         | 2/30 [01:12<10:13, 21.90s/it]"
     ]
    },
    {
     "name": "stdout",
     "output_type": "stream",
     "text": [
      "Iteration: 1 Start Value [-0.12] action [0]\n"
     ]
    },
    {
     "name": "stderr",
     "output_type": "stream",
     "text": [
      "\r",
      " 10%|█         | 3/30 [02:25<16:52, 37.50s/it]"
     ]
    },
    {
     "name": "stdout",
     "output_type": "stream",
     "text": [
      "Iteration: 2 Start Value [-0.15999413] action [0]\n"
     ]
    },
    {
     "name": "stderr",
     "output_type": "stream",
     "text": [
      "\r",
      " 13%|█▎        | 4/30 [03:50<22:24, 51.70s/it]"
     ]
    },
    {
     "name": "stdout",
     "output_type": "stream",
     "text": [
      "Iteration: 3 Start Value [-0.19998868] action [0]\n"
     ]
    },
    {
     "name": "stderr",
     "output_type": "stream",
     "text": [
      "\r",
      " 17%|█▋        | 5/30 [04:56<23:17, 55.91s/it]"
     ]
    },
    {
     "name": "stdout",
     "output_type": "stream",
     "text": [
      "Iteration: 4 Start Value [-0.23998531] action [0]\n"
     ]
    },
    {
     "name": "stderr",
     "output_type": "stream",
     "text": [
      "\r",
      " 20%|██        | 6/30 [05:54<22:34, 56.45s/it]"
     ]
    },
    {
     "name": "stdout",
     "output_type": "stream",
     "text": [
      "Iteration: 5 Start Value [-0.27998021] action [0]\n"
     ]
    },
    {
     "name": "stderr",
     "output_type": "stream",
     "text": [
      "\r",
      " 23%|██▎       | 7/30 [06:53<21:55, 57.19s/it]"
     ]
    },
    {
     "name": "stdout",
     "output_type": "stream",
     "text": [
      "Iteration: 6 Start Value [-0.3199769] action [0]\n"
     ]
    },
    {
     "name": "stderr",
     "output_type": "stream",
     "text": [
      "\r",
      " 27%|██▋       | 8/30 [07:50<20:58, 57.22s/it]"
     ]
    },
    {
     "name": "stdout",
     "output_type": "stream",
     "text": [
      "Iteration: 7 Start Value [-0.35997451] action [0]\n"
     ]
    },
    {
     "name": "stderr",
     "output_type": "stream",
     "text": [
      "\r",
      " 30%|███       | 9/30 [08:49<20:15, 57.90s/it]"
     ]
    },
    {
     "name": "stdout",
     "output_type": "stream",
     "text": [
      "Iteration: 8 Start Value [-0.39997024] action [0]\n"
     ]
    },
    {
     "name": "stderr",
     "output_type": "stream",
     "text": [
      "\r",
      " 33%|███▎      | 10/30 [10:19<22:26, 67.31s/it]"
     ]
    },
    {
     "name": "stdout",
     "output_type": "stream",
     "text": [
      "Iteration: 9 Start Value [-0.43995329] action [0]\n"
     ]
    },
    {
     "name": "stderr",
     "output_type": "stream",
     "text": [
      "\r",
      " 37%|███▋      | 11/30 [11:34<22:06, 69.80s/it]"
     ]
    },
    {
     "name": "stdout",
     "output_type": "stream",
     "text": [
      "Iteration: 10 Start Value [-0.479924] action [0]\n"
     ]
    },
    {
     "name": "stderr",
     "output_type": "stream",
     "text": [
      "\r",
      " 40%|████      | 12/30 [12:46<21:07, 70.39s/it]"
     ]
    },
    {
     "name": "stdout",
     "output_type": "stream",
     "text": [
      "Iteration: 11 Start Value [-0.51435935] action [2]\n"
     ]
    },
    {
     "name": "stderr",
     "output_type": "stream",
     "text": [
      "\r",
      " 43%|████▎     | 13/30 [14:02<20:24, 72.03s/it]"
     ]
    },
    {
     "name": "stdout",
     "output_type": "stream",
     "text": [
      "Iteration: 12 Start Value [0.27592996] action [2]\n"
     ]
    },
    {
     "name": "stderr",
     "output_type": "stream",
     "text": [
      "\r",
      " 47%|████▋     | 14/30 [15:18<19:32, 73.26s/it]"
     ]
    },
    {
     "name": "stdout",
     "output_type": "stream",
     "text": [
      "Iteration: 13 Start Value [0.33806281] action [2]\n"
     ]
    },
    {
     "name": "stderr",
     "output_type": "stream",
     "text": [
      "\r",
      " 50%|█████     | 15/30 [16:24<17:45, 71.03s/it]"
     ]
    },
    {
     "name": "stdout",
     "output_type": "stream",
     "text": [
      "Iteration: 14 Start Value [0.41993222] action [2]\n"
     ]
    },
    {
     "name": "stderr",
     "output_type": "stream",
     "text": [
      "\r",
      " 53%|█████▎    | 16/30 [17:26<15:58, 68.44s/it]"
     ]
    },
    {
     "name": "stdout",
     "output_type": "stream",
     "text": [
      "Iteration: 15 Start Value [0.445275] action [2]\n"
     ]
    },
    {
     "name": "stderr",
     "output_type": "stream",
     "text": [
      "\r",
      " 57%|█████▋    | 17/30 [18:26<14:17, 65.94s/it]"
     ]
    },
    {
     "name": "stdout",
     "output_type": "stream",
     "text": [
      "Iteration: 16 Start Value [0.44081185] action [2]\n"
     ]
    },
    {
     "name": "stderr",
     "output_type": "stream",
     "text": [
      "\r",
      " 60%|██████    | 18/30 [19:31<13:06, 65.54s/it]"
     ]
    },
    {
     "name": "stdout",
     "output_type": "stream",
     "text": [
      "Iteration: 17 Start Value [0.43752706] action [2]\n"
     ]
    },
    {
     "name": "stderr",
     "output_type": "stream",
     "text": [
      "\r",
      " 63%|██████▎   | 19/30 [20:33<11:48, 64.45s/it]"
     ]
    },
    {
     "name": "stdout",
     "output_type": "stream",
     "text": [
      "Iteration: 18 Start Value [0.43845455] action [2]\n"
     ]
    },
    {
     "name": "stderr",
     "output_type": "stream",
     "text": [
      "\r",
      " 67%|██████▋   | 20/30 [21:46<11:09, 66.92s/it]"
     ]
    },
    {
     "name": "stdout",
     "output_type": "stream",
     "text": [
      "Iteration: 19 Start Value [0.43828275] action [2]\n"
     ]
    },
    {
     "name": "stderr",
     "output_type": "stream",
     "text": [
      "\r",
      " 70%|███████   | 21/30 [22:58<10:18, 68.69s/it]"
     ]
    },
    {
     "name": "stdout",
     "output_type": "stream",
     "text": [
      "Iteration: 20 Start Value [0.43870474] action [2]\n"
     ]
    },
    {
     "name": "stderr",
     "output_type": "stream",
     "text": [
      "\r",
      " 73%|███████▎  | 22/30 [24:10<09:16, 69.53s/it]"
     ]
    },
    {
     "name": "stdout",
     "output_type": "stream",
     "text": [
      "Iteration: 21 Start Value [0.43899852] action [2]\n"
     ]
    },
    {
     "name": "stderr",
     "output_type": "stream",
     "text": [
      "\r",
      " 77%|███████▋  | 23/30 [25:21<08:09, 69.99s/it]"
     ]
    },
    {
     "name": "stdout",
     "output_type": "stream",
     "text": [
      "Iteration: 22 Start Value [0.4390634] action [2]\n"
     ]
    },
    {
     "name": "stderr",
     "output_type": "stream",
     "text": [
      "\r",
      " 80%|████████  | 24/30 [26:29<06:56, 69.36s/it]"
     ]
    },
    {
     "name": "stdout",
     "output_type": "stream",
     "text": [
      "Iteration: 23 Start Value [0.43910466] action [2]\n"
     ]
    },
    {
     "name": "stderr",
     "output_type": "stream",
     "text": [
      "\r",
      " 83%|████████▎ | 25/30 [27:44<05:55, 71.14s/it]"
     ]
    },
    {
     "name": "stdout",
     "output_type": "stream",
     "text": [
      "Iteration: 24 Start Value [0.43913191] action [2]\n"
     ]
    },
    {
     "name": "stderr",
     "output_type": "stream",
     "text": [
      "\r",
      " 87%|████████▋ | 26/30 [28:47<04:35, 68.79s/it]"
     ]
    },
    {
     "name": "stdout",
     "output_type": "stream",
     "text": [
      "Iteration: 25 Start Value [0.439198] action [2]\n"
     ]
    },
    {
     "name": "stderr",
     "output_type": "stream",
     "text": [
      "\r",
      " 90%|█████████ | 27/30 [30:14<03:42, 74.27s/it]"
     ]
    },
    {
     "name": "stdout",
     "output_type": "stream",
     "text": [
      "Iteration: 26 Start Value [0.43921174] action [2]\n"
     ]
    },
    {
     "name": "stderr",
     "output_type": "stream",
     "text": [
      "\r",
      " 93%|█████████▎| 28/30 [31:29<02:28, 74.22s/it]"
     ]
    },
    {
     "name": "stdout",
     "output_type": "stream",
     "text": [
      "Iteration: 27 Start Value [0.4391146] action [2]\n"
     ]
    },
    {
     "name": "stderr",
     "output_type": "stream",
     "text": [
      "\r",
      " 97%|█████████▋| 29/30 [32:45<01:14, 74.82s/it]"
     ]
    },
    {
     "name": "stdout",
     "output_type": "stream",
     "text": [
      "Iteration: 28 Start Value [0.43900783] action [2]\n"
     ]
    },
    {
     "name": "stderr",
     "output_type": "stream",
     "text": [
      "100%|██████████| 30/30 [34:15<00:00, 68.52s/it]"
     ]
    },
    {
     "name": "stdout",
     "output_type": "stream",
     "text": [
      "Iteration: 29 Start Value [0.43902032] action [2]\n"
     ]
    },
    {
     "name": "stderr",
     "output_type": "stream",
     "text": [
      "\n"
     ]
    },
    {
     "name": "stdout",
     "output_type": "stream",
     "text": [
      "N= 90  completed\n",
      "       ID  TIME  FEATURE_0  FEATURE_1 ACTION  RISK  OG_CLUSTER  \\\n",
      "0       0     0   0.401014  -0.206010      0 -0.04           0   \n",
      "1       0     1   0.820790  -0.416625      2 -0.04           0   \n",
      "2       0     2   1.795879  -0.621839      2 -0.04           1   \n",
      "3       0     3   2.607279  -0.576041      1 -0.04           2   \n",
      "4       0     4   2.663334  -1.086769      1 -0.04           7   \n",
      "...   ...   ...        ...        ...    ...   ...         ...   \n",
      "2506  109    21   4.846282  -2.082660      3 -0.04          14   \n",
      "2507  109    22   4.728845  -2.570375      1 -0.04          14   \n",
      "2508  109    23   4.130068  -3.326336      3 -0.04          19   \n",
      "2509  109    24   4.380108  -3.228359      1 -0.04          19   \n",
      "2510  109    25   4.384440  -4.805311   None  1.00          24   \n",
      "\n",
      "                                            x_t2  \\\n",
      "0     [0.8207901504438192, -0.41662545651615823]   \n",
      "1      [1.7958787667246776, -0.6218385125930341]   \n",
      "2       [2.607278956599389, -0.5760406089612767]   \n",
      "3      [2.6633337425799266, -1.0867687123102956]   \n",
      "4      [2.2484750672103817, -2.6782000543827738]   \n",
      "...                                          ...   \n",
      "2506      [4.728844502356804, -2.57037464166173]   \n",
      "2507    [4.1300682372525035, -3.326336144889523]   \n",
      "2508     [4.380107773632937, -3.228358772407028]   \n",
      "2509    [4.384440007810649, -4.8053112016670605]   \n",
      "2510                                          []   \n",
      "\n",
      "                                                 a0  \\\n",
      "0     [0.8207901504438192, -0.41662545651615823, 0]   \n",
      "1      [1.7958787667246776, -0.6218385125930341, 0]   \n",
      "2       [2.607278956599389, -0.5760406089612767, 0]   \n",
      "3      [2.6633337425799266, -1.0867687123102956, 0]   \n",
      "4      [2.2484750672103817, -2.6782000543827738, 0]   \n",
      "...                                             ...   \n",
      "2506      [4.728844502356804, -2.57037464166173, 0]   \n",
      "2507    [4.1300682372525035, -3.326336144889523, 0]   \n",
      "2508     [4.380107773632937, -3.228358772407028, 0]   \n",
      "2509    [4.384440007810649, -4.8053112016670605, 0]   \n",
      "2510                                            [0]   \n",
      "\n",
      "                                                 a1  \\\n",
      "0     [0.8207901504438192, -0.41662545651615823, 1]   \n",
      "1      [1.7958787667246776, -0.6218385125930341, 1]   \n",
      "2       [2.607278956599389, -0.5760406089612767, 1]   \n",
      "3      [2.6633337425799266, -1.0867687123102956, 1]   \n",
      "4      [2.2484750672103817, -2.6782000543827738, 1]   \n",
      "...                                             ...   \n",
      "2506      [4.728844502356804, -2.57037464166173, 1]   \n",
      "2507    [4.1300682372525035, -3.326336144889523, 1]   \n",
      "2508     [4.380107773632937, -3.228358772407028, 1]   \n",
      "2509    [4.384440007810649, -4.8053112016670605, 1]   \n",
      "2510                                            [1]   \n",
      "\n",
      "                                                 a2  \\\n",
      "0     [0.8207901504438192, -0.41662545651615823, 2]   \n",
      "1      [1.7958787667246776, -0.6218385125930341, 2]   \n",
      "2       [2.607278956599389, -0.5760406089612767, 2]   \n",
      "3      [2.6633337425799266, -1.0867687123102956, 2]   \n",
      "4      [2.2484750672103817, -2.6782000543827738, 2]   \n",
      "...                                             ...   \n",
      "2506      [4.728844502356804, -2.57037464166173, 2]   \n",
      "2507    [4.1300682372525035, -3.326336144889523, 2]   \n",
      "2508     [4.380107773632937, -3.228358772407028, 2]   \n",
      "2509    [4.384440007810649, -4.8053112016670605, 2]   \n",
      "2510                                            [2]   \n",
      "\n",
      "                                                 a3  \n",
      "0     [0.8207901504438192, -0.41662545651615823, 3]  \n",
      "1      [1.7958787667246776, -0.6218385125930341, 3]  \n",
      "2       [2.607278956599389, -0.5760406089612767, 3]  \n",
      "3      [2.6633337425799266, -1.0867687123102956, 3]  \n",
      "4      [2.2484750672103817, -2.6782000543827738, 3]  \n",
      "...                                             ...  \n",
      "2506      [4.728844502356804, -2.57037464166173, 3]  \n",
      "2507    [4.1300682372525035, -3.326336144889523, 3]  \n",
      "2508     [4.380107773632937, -3.228358772407028, 3]  \n",
      "2509    [4.384440007810649, -4.8053112016670605, 3]  \n",
      "2510                                            [3]  \n",
      "\n",
      "[2470 rows x 12 columns]\n",
      "New training features\n",
      "      FEATURE_0  FEATURE_1 ACTION\n",
      "0      0.401014  -0.206010      0\n",
      "1      0.820790  -0.416625      2\n",
      "2      1.795879  -0.621839      2\n",
      "3      2.607279  -0.576041      1\n",
      "4      2.663334  -1.086769      1\n",
      "...         ...        ...    ...\n",
      "2506   4.846282  -2.082660      3\n",
      "2507   4.728845  -2.570375      1\n",
      "2508   4.130068  -3.326336      3\n",
      "2509   4.380108  -3.228359      1\n",
      "2510   4.384440  -4.805311      0\n",
      "\n",
      "[2470 rows x 3 columns]\n"
     ]
    },
    {
     "name": "stderr",
     "output_type": "stream",
     "text": [
      "  3%|▎         | 1/30 [00:00<00:22,  1.31it/s]"
     ]
    },
    {
     "name": "stdout",
     "output_type": "stream",
     "text": [
      "Iteration: 0 Start Value [-0.08] action [0]\n"
     ]
    },
    {
     "name": "stderr",
     "output_type": "stream",
     "text": [
      "\r",
      "  7%|▋         | 2/30 [01:24<11:57, 25.62s/it]"
     ]
    },
    {
     "name": "stdout",
     "output_type": "stream",
     "text": [
      "Iteration: 1 Start Value [-0.12] action [0]\n"
     ]
    },
    {
     "name": "stderr",
     "output_type": "stream",
     "text": [
      "\r",
      " 10%|█         | 3/30 [02:51<19:49, 44.05s/it]"
     ]
    },
    {
     "name": "stdout",
     "output_type": "stream",
     "text": [
      "Iteration: 2 Start Value [-0.15999701] action [0]\n"
     ]
    },
    {
     "name": "stderr",
     "output_type": "stream",
     "text": [
      "\r",
      " 13%|█▎        | 4/30 [04:10<23:35, 54.44s/it]"
     ]
    },
    {
     "name": "stdout",
     "output_type": "stream",
     "text": [
      "Iteration: 3 Start Value [-0.19999264] action [0]\n"
     ]
    },
    {
     "name": "stderr",
     "output_type": "stream",
     "text": [
      "\r",
      " 17%|█▋        | 5/30 [05:24<25:12, 60.49s/it]"
     ]
    },
    {
     "name": "stdout",
     "output_type": "stream",
     "text": [
      "Iteration: 4 Start Value [-0.23998743] action [0]\n"
     ]
    },
    {
     "name": "stderr",
     "output_type": "stream",
     "text": [
      "\r",
      " 20%|██        | 6/30 [06:36<25:36, 64.02s/it]"
     ]
    },
    {
     "name": "stdout",
     "output_type": "stream",
     "text": [
      "Iteration: 5 Start Value [-0.27997814] action [0]\n"
     ]
    },
    {
     "name": "stderr",
     "output_type": "stream",
     "text": [
      "\r",
      " 23%|██▎       | 7/30 [07:51<25:47, 67.26s/it]"
     ]
    },
    {
     "name": "stdout",
     "output_type": "stream",
     "text": [
      "Iteration: 6 Start Value [-0.31995428] action [0]\n"
     ]
    },
    {
     "name": "stderr",
     "output_type": "stream",
     "text": [
      "\r",
      " 27%|██▋       | 8/30 [08:57<24:31, 66.90s/it]"
     ]
    },
    {
     "name": "stdout",
     "output_type": "stream",
     "text": [
      "Iteration: 7 Start Value [-0.35994986] action [0]\n"
     ]
    },
    {
     "name": "stderr",
     "output_type": "stream",
     "text": [
      "\r",
      " 30%|███       | 9/30 [10:08<23:47, 67.99s/it]"
     ]
    },
    {
     "name": "stdout",
     "output_type": "stream",
     "text": [
      "Iteration: 8 Start Value [-0.39994719] action [0]\n"
     ]
    },
    {
     "name": "stderr",
     "output_type": "stream",
     "text": [
      "\r",
      " 33%|███▎      | 10/30 [11:13<22:22, 67.14s/it]"
     ]
    },
    {
     "name": "stdout",
     "output_type": "stream",
     "text": [
      "Iteration: 9 Start Value [-0.4399289] action [0]\n"
     ]
    },
    {
     "name": "stderr",
     "output_type": "stream",
     "text": [
      "\r",
      " 37%|███▋      | 11/30 [12:23<21:29, 67.88s/it]"
     ]
    },
    {
     "name": "stdout",
     "output_type": "stream",
     "text": [
      "Iteration: 10 Start Value [-0.47933235] action [2]\n"
     ]
    },
    {
     "name": "stderr",
     "output_type": "stream",
     "text": [
      "\r",
      " 40%|████      | 12/30 [13:42<21:24, 71.34s/it]"
     ]
    },
    {
     "name": "stdout",
     "output_type": "stream",
     "text": [
      "Iteration: 11 Start Value [-0.51290063] action [2]\n"
     ]
    },
    {
     "name": "stderr",
     "output_type": "stream",
     "text": [
      "\r",
      " 43%|████▎     | 13/30 [14:51<20:01, 70.68s/it]"
     ]
    },
    {
     "name": "stdout",
     "output_type": "stream",
     "text": [
      "Iteration: 12 Start Value [0.34705678] action [2]\n"
     ]
    },
    {
     "name": "stderr",
     "output_type": "stream",
     "text": [
      "\r",
      " 47%|████▋     | 14/30 [15:58<18:32, 69.53s/it]"
     ]
    },
    {
     "name": "stdout",
     "output_type": "stream",
     "text": [
      "Iteration: 13 Start Value [0.36408878] action [2]\n"
     ]
    },
    {
     "name": "stderr",
     "output_type": "stream",
     "text": [
      "\r",
      " 50%|█████     | 15/30 [17:11<17:36, 70.47s/it]"
     ]
    },
    {
     "name": "stdout",
     "output_type": "stream",
     "text": [
      "Iteration: 14 Start Value [0.42072728] action [2]\n"
     ]
    },
    {
     "name": "stderr",
     "output_type": "stream",
     "text": [
      "\r",
      " 53%|█████▎    | 16/30 [18:28<16:57, 72.66s/it]"
     ]
    },
    {
     "name": "stdout",
     "output_type": "stream",
     "text": [
      "Iteration: 15 Start Value [0.43543909] action [2]\n"
     ]
    },
    {
     "name": "stderr",
     "output_type": "stream",
     "text": [
      "\r",
      " 57%|█████▋    | 17/30 [19:39<15:38, 72.16s/it]"
     ]
    },
    {
     "name": "stdout",
     "output_type": "stream",
     "text": [
      "Iteration: 16 Start Value [0.4360003] action [2]\n"
     ]
    },
    {
     "name": "stderr",
     "output_type": "stream",
     "text": [
      "\r",
      " 60%|██████    | 18/30 [20:57<14:43, 73.62s/it]"
     ]
    },
    {
     "name": "stdout",
     "output_type": "stream",
     "text": [
      "Iteration: 17 Start Value [0.43707928] action [2]\n"
     ]
    },
    {
     "name": "stderr",
     "output_type": "stream",
     "text": [
      "\r",
      " 63%|██████▎   | 19/30 [22:05<13:13, 72.16s/it]"
     ]
    },
    {
     "name": "stdout",
     "output_type": "stream",
     "text": [
      "Iteration: 18 Start Value [0.43784696] action [2]\n"
     ]
    },
    {
     "name": "stderr",
     "output_type": "stream",
     "text": [
      "\r",
      " 67%|██████▋   | 20/30 [23:17<11:58, 71.90s/it]"
     ]
    },
    {
     "name": "stdout",
     "output_type": "stream",
     "text": [
      "Iteration: 19 Start Value [0.43691463] action [2]\n"
     ]
    },
    {
     "name": "stderr",
     "output_type": "stream",
     "text": [
      "\r",
      " 70%|███████   | 21/30 [24:23<10:31, 70.18s/it]"
     ]
    },
    {
     "name": "stdout",
     "output_type": "stream",
     "text": [
      "Iteration: 20 Start Value [0.43852581] action [2]\n"
     ]
    },
    {
     "name": "stderr",
     "output_type": "stream",
     "text": [
      "\r",
      " 73%|███████▎  | 22/30 [25:40<09:38, 72.26s/it]"
     ]
    },
    {
     "name": "stdout",
     "output_type": "stream",
     "text": [
      "Iteration: 21 Start Value [0.43898002] action [2]\n"
     ]
    },
    {
     "name": "stderr",
     "output_type": "stream",
     "text": [
      "\r",
      " 77%|███████▋  | 23/30 [26:44<08:08, 69.82s/it]"
     ]
    },
    {
     "name": "stdout",
     "output_type": "stream",
     "text": [
      "Iteration: 22 Start Value [0.43865256] action [2]\n"
     ]
    },
    {
     "name": "stderr",
     "output_type": "stream",
     "text": [
      "\r",
      " 80%|████████  | 24/30 [27:57<07:05, 70.85s/it]"
     ]
    },
    {
     "name": "stdout",
     "output_type": "stream",
     "text": [
      "Iteration: 23 Start Value [0.43867655] action [2]\n"
     ]
    },
    {
     "name": "stderr",
     "output_type": "stream",
     "text": [
      "\r",
      " 83%|████████▎ | 25/30 [29:16<06:05, 73.16s/it]"
     ]
    },
    {
     "name": "stdout",
     "output_type": "stream",
     "text": [
      "Iteration: 24 Start Value [0.43867816] action [2]\n"
     ]
    },
    {
     "name": "stderr",
     "output_type": "stream",
     "text": [
      "\r",
      " 87%|████████▋ | 26/30 [30:27<04:49, 72.50s/it]"
     ]
    },
    {
     "name": "stdout",
     "output_type": "stream",
     "text": [
      "Iteration: 25 Start Value [0.43880307] action [2]\n"
     ]
    },
    {
     "name": "stderr",
     "output_type": "stream",
     "text": [
      "\r",
      " 90%|█████████ | 27/30 [31:35<03:33, 71.15s/it]"
     ]
    },
    {
     "name": "stdout",
     "output_type": "stream",
     "text": [
      "Iteration: 26 Start Value [0.43871136] action [2]\n"
     ]
    },
    {
     "name": "stderr",
     "output_type": "stream",
     "text": [
      "\r",
      " 93%|█████████▎| 28/30 [32:36<02:16, 68.28s/it]"
     ]
    },
    {
     "name": "stdout",
     "output_type": "stream",
     "text": [
      "Iteration: 27 Start Value [0.43872162] action [2]\n"
     ]
    },
    {
     "name": "stderr",
     "output_type": "stream",
     "text": [
      "\r",
      " 97%|█████████▋| 29/30 [33:44<01:08, 68.12s/it]"
     ]
    },
    {
     "name": "stdout",
     "output_type": "stream",
     "text": [
      "Iteration: 28 Start Value [0.43873729] action [2]\n"
     ]
    },
    {
     "name": "stderr",
     "output_type": "stream",
     "text": [
      "100%|██████████| 30/30 [35:03<00:00, 70.11s/it]"
     ]
    },
    {
     "name": "stdout",
     "output_type": "stream",
     "text": [
      "Iteration: 29 Start Value [0.43872878] action [2]\n",
      "N= 110  completed\n"
     ]
    },
    {
     "name": "stderr",
     "output_type": "stream",
     "text": [
      "\n"
     ]
    },
    {
     "name": "stdout",
     "output_type": "stream",
     "text": [
      "       ID  TIME  FEATURE_0  FEATURE_1 ACTION  RISK  OG_CLUSTER  \\\n",
      "0       0     0   0.401014  -0.206010      0 -0.04           0   \n",
      "1       0     1   0.820790  -0.416625      2 -0.04           0   \n",
      "2       0     2   1.795879  -0.621839      2 -0.04           1   \n",
      "3       0     3   2.607279  -0.576041      1 -0.04           2   \n",
      "4       0     4   2.663334  -1.086769      1 -0.04           7   \n",
      "...   ...   ...        ...        ...    ...   ...         ...   \n",
      "2969  129    16   4.674287  -1.933211      2 -0.04           9   \n",
      "2970  129    17   4.997232  -1.347984      1 -0.04           9   \n",
      "2971  129    18   4.424311  -2.683874      1 -0.04          14   \n",
      "2972  129    19   4.623903  -3.878339      1 -0.04          19   \n",
      "2973  129    20   4.482197  -4.077161   None  1.00          24   \n",
      "\n",
      "                                            x_t2  \\\n",
      "0     [0.8207901504438192, -0.41662545651615823]   \n",
      "1      [1.7958787667246776, -0.6218385125930341]   \n",
      "2       [2.607278956599389, -0.5760406089612767]   \n",
      "3      [2.6633337425799266, -1.0867687123102956]   \n",
      "4      [2.2484750672103817, -2.6782000543827738]   \n",
      "...                                          ...   \n",
      "2969     [4.99723224369662, -1.3479843995013314]   \n",
      "2970     [4.424311474604744, -2.683874210764678]   \n",
      "2971    [4.623903356456205, -3.8783387501421696]   \n",
      "2972     [4.482197066356711, -4.077160654612995]   \n",
      "2973                                          []   \n",
      "\n",
      "                                                 a0  \\\n",
      "0     [0.8207901504438192, -0.41662545651615823, 0]   \n",
      "1      [1.7958787667246776, -0.6218385125930341, 0]   \n",
      "2       [2.607278956599389, -0.5760406089612767, 0]   \n",
      "3      [2.6633337425799266, -1.0867687123102956, 0]   \n",
      "4      [2.2484750672103817, -2.6782000543827738, 0]   \n",
      "...                                             ...   \n",
      "2969     [4.99723224369662, -1.3479843995013314, 0]   \n",
      "2970     [4.424311474604744, -2.683874210764678, 0]   \n",
      "2971    [4.623903356456205, -3.8783387501421696, 0]   \n",
      "2972     [4.482197066356711, -4.077160654612995, 0]   \n",
      "2973                                            [0]   \n",
      "\n",
      "                                                 a1  \\\n",
      "0     [0.8207901504438192, -0.41662545651615823, 1]   \n",
      "1      [1.7958787667246776, -0.6218385125930341, 1]   \n",
      "2       [2.607278956599389, -0.5760406089612767, 1]   \n",
      "3      [2.6633337425799266, -1.0867687123102956, 1]   \n",
      "4      [2.2484750672103817, -2.6782000543827738, 1]   \n",
      "...                                             ...   \n",
      "2969     [4.99723224369662, -1.3479843995013314, 1]   \n",
      "2970     [4.424311474604744, -2.683874210764678, 1]   \n",
      "2971    [4.623903356456205, -3.8783387501421696, 1]   \n",
      "2972     [4.482197066356711, -4.077160654612995, 1]   \n",
      "2973                                            [1]   \n",
      "\n",
      "                                                 a2  \\\n",
      "0     [0.8207901504438192, -0.41662545651615823, 2]   \n",
      "1      [1.7958787667246776, -0.6218385125930341, 2]   \n",
      "2       [2.607278956599389, -0.5760406089612767, 2]   \n",
      "3      [2.6633337425799266, -1.0867687123102956, 2]   \n",
      "4      [2.2484750672103817, -2.6782000543827738, 2]   \n",
      "...                                             ...   \n",
      "2969     [4.99723224369662, -1.3479843995013314, 2]   \n",
      "2970     [4.424311474604744, -2.683874210764678, 2]   \n",
      "2971    [4.623903356456205, -3.8783387501421696, 2]   \n",
      "2972     [4.482197066356711, -4.077160654612995, 2]   \n",
      "2973                                            [2]   \n",
      "\n",
      "                                                 a3  \n",
      "0     [0.8207901504438192, -0.41662545651615823, 3]  \n",
      "1      [1.7958787667246776, -0.6218385125930341, 3]  \n",
      "2       [2.607278956599389, -0.5760406089612767, 3]  \n",
      "3      [2.6633337425799266, -1.0867687123102956, 3]  \n",
      "4      [2.2484750672103817, -2.6782000543827738, 3]  \n",
      "...                                             ...  \n",
      "2969     [4.99723224369662, -1.3479843995013314, 3]  \n",
      "2970     [4.424311474604744, -2.683874210764678, 3]  \n",
      "2971    [4.623903356456205, -3.8783387501421696, 3]  \n",
      "2972     [4.482197066356711, -4.077160654612995, 3]  \n",
      "2973                                            [3]  \n",
      "\n",
      "[2925 rows x 12 columns]\n",
      "New training features\n",
      "      FEATURE_0  FEATURE_1 ACTION\n",
      "0      0.401014  -0.206010      0\n",
      "1      0.820790  -0.416625      2\n",
      "2      1.795879  -0.621839      2\n",
      "3      2.607279  -0.576041      1\n",
      "4      2.663334  -1.086769      1\n",
      "...         ...        ...    ...\n",
      "2969   4.674287  -1.933211      2\n",
      "2970   4.997232  -1.347984      1\n",
      "2971   4.424311  -2.683874      1\n",
      "2972   4.623903  -3.878339      1\n",
      "2973   4.482197  -4.077161      0\n",
      "\n",
      "[2925 rows x 3 columns]\n"
     ]
    },
    {
     "name": "stderr",
     "output_type": "stream",
     "text": [
      "  3%|▎         | 1/30 [00:01<00:29,  1.03s/it]"
     ]
    },
    {
     "name": "stdout",
     "output_type": "stream",
     "text": [
      "Iteration: 0 Start Value [-0.08] action [0]\n"
     ]
    },
    {
     "name": "stderr",
     "output_type": "stream",
     "text": [
      "\r",
      "  7%|▋         | 2/30 [01:29<12:44, 27.31s/it]"
     ]
    },
    {
     "name": "stdout",
     "output_type": "stream",
     "text": [
      "Iteration: 1 Start Value [-0.12] action [0]\n"
     ]
    },
    {
     "name": "stderr",
     "output_type": "stream",
     "text": [
      "\r",
      " 10%|█         | 3/30 [02:51<19:38, 43.63s/it]"
     ]
    },
    {
     "name": "stdout",
     "output_type": "stream",
     "text": [
      "Iteration: 2 Start Value [-0.15999743] action [0]\n"
     ]
    },
    {
     "name": "stderr",
     "output_type": "stream",
     "text": [
      "\r",
      " 13%|█▎        | 4/30 [04:10<23:31, 54.29s/it]"
     ]
    },
    {
     "name": "stdout",
     "output_type": "stream",
     "text": [
      "Iteration: 3 Start Value [-0.19999382] action [0]\n"
     ]
    },
    {
     "name": "stderr",
     "output_type": "stream",
     "text": [
      "\r",
      " 17%|█▋        | 5/30 [05:31<25:59, 62.39s/it]"
     ]
    },
    {
     "name": "stdout",
     "output_type": "stream",
     "text": [
      "Iteration: 4 Start Value [-0.23999267] action [0]\n"
     ]
    },
    {
     "name": "stderr",
     "output_type": "stream",
     "text": [
      "\r",
      " 20%|██        | 6/30 [07:00<28:04, 70.19s/it]"
     ]
    },
    {
     "name": "stdout",
     "output_type": "stream",
     "text": [
      "Iteration: 5 Start Value [-0.27999064] action [0]\n"
     ]
    },
    {
     "name": "stderr",
     "output_type": "stream",
     "text": [
      "\r",
      " 23%|██▎       | 7/30 [08:33<29:36, 77.25s/it]"
     ]
    },
    {
     "name": "stdout",
     "output_type": "stream",
     "text": [
      "Iteration: 6 Start Value [-0.31997849] action [0]\n"
     ]
    },
    {
     "name": "stderr",
     "output_type": "stream",
     "text": [
      "\r",
      " 27%|██▋       | 8/30 [10:03<29:38, 80.84s/it]"
     ]
    },
    {
     "name": "stdout",
     "output_type": "stream",
     "text": [
      "Iteration: 7 Start Value [-0.35996176] action [0]\n"
     ]
    },
    {
     "name": "stderr",
     "output_type": "stream",
     "text": [
      "\r",
      " 30%|███       | 9/30 [11:24<28:21, 81.03s/it]"
     ]
    },
    {
     "name": "stdout",
     "output_type": "stream",
     "text": [
      "Iteration: 8 Start Value [-0.39995379] action [0]\n"
     ]
    },
    {
     "name": "stderr",
     "output_type": "stream",
     "text": [
      "\r",
      " 33%|███▎      | 10/30 [12:46<27:05, 81.27s/it]"
     ]
    },
    {
     "name": "stdout",
     "output_type": "stream",
     "text": [
      "Iteration: 9 Start Value [-0.4398957] action [0]\n"
     ]
    },
    {
     "name": "stderr",
     "output_type": "stream",
     "text": [
      "\r",
      " 37%|███▋      | 11/30 [14:18<26:43, 84.38s/it]"
     ]
    },
    {
     "name": "stdout",
     "output_type": "stream",
     "text": [
      "Iteration: 10 Start Value [-0.47987705] action [2]\n"
     ]
    },
    {
     "name": "stderr",
     "output_type": "stream",
     "text": [
      "\r",
      " 40%|████      | 12/30 [15:47<25:47, 85.99s/it]"
     ]
    },
    {
     "name": "stdout",
     "output_type": "stream",
     "text": [
      "Iteration: 11 Start Value [-0.51697426] action [2]\n"
     ]
    },
    {
     "name": "stderr",
     "output_type": "stream",
     "text": [
      "\r",
      " 43%|████▎     | 13/30 [17:20<24:56, 88.04s/it]"
     ]
    },
    {
     "name": "stdout",
     "output_type": "stream",
     "text": [
      "Iteration: 12 Start Value [0.39257877] action [2]\n"
     ]
    },
    {
     "name": "stderr",
     "output_type": "stream",
     "text": [
      "\r",
      " 47%|████▋     | 14/30 [18:51<23:42, 88.90s/it]"
     ]
    },
    {
     "name": "stdout",
     "output_type": "stream",
     "text": [
      "Iteration: 13 Start Value [0.38001434] action [2]\n"
     ]
    },
    {
     "name": "stderr",
     "output_type": "stream",
     "text": [
      "\r",
      " 50%|█████     | 15/30 [20:11<21:33, 86.26s/it]"
     ]
    },
    {
     "name": "stdout",
     "output_type": "stream",
     "text": [
      "Iteration: 14 Start Value [0.42861957] action [2]\n"
     ]
    },
    {
     "name": "stderr",
     "output_type": "stream",
     "text": [
      "\r",
      " 53%|█████▎    | 16/30 [21:33<19:49, 84.94s/it]"
     ]
    },
    {
     "name": "stdout",
     "output_type": "stream",
     "text": [
      "Iteration: 15 Start Value [0.43767621] action [2]\n"
     ]
    },
    {
     "name": "stderr",
     "output_type": "stream",
     "text": [
      "\r",
      " 57%|█████▋    | 17/30 [22:56<18:16, 84.38s/it]"
     ]
    },
    {
     "name": "stdout",
     "output_type": "stream",
     "text": [
      "Iteration: 16 Start Value [0.43762178] action [2]\n"
     ]
    },
    {
     "name": "stderr",
     "output_type": "stream",
     "text": [
      "\r",
      " 60%|██████    | 18/30 [24:18<16:43, 83.66s/it]"
     ]
    },
    {
     "name": "stdout",
     "output_type": "stream",
     "text": [
      "Iteration: 17 Start Value [0.436978] action [2]\n"
     ]
    },
    {
     "name": "stderr",
     "output_type": "stream",
     "text": [
      "\r",
      " 63%|██████▎   | 19/30 [25:29<14:39, 79.94s/it]"
     ]
    },
    {
     "name": "stdout",
     "output_type": "stream",
     "text": [
      "Iteration: 18 Start Value [0.43858626] action [2]\n"
     ]
    },
    {
     "name": "stderr",
     "output_type": "stream",
     "text": [
      "\r",
      " 67%|██████▋   | 20/30 [26:41<12:54, 77.44s/it]"
     ]
    },
    {
     "name": "stdout",
     "output_type": "stream",
     "text": [
      "Iteration: 19 Start Value [0.43697244] action [2]\n"
     ]
    },
    {
     "name": "stderr",
     "output_type": "stream",
     "text": [
      "\r",
      " 70%|███████   | 21/30 [27:56<11:30, 76.75s/it]"
     ]
    },
    {
     "name": "stdout",
     "output_type": "stream",
     "text": [
      "Iteration: 20 Start Value [0.43869142] action [2]\n"
     ]
    },
    {
     "name": "stderr",
     "output_type": "stream",
     "text": [
      "\r",
      " 73%|███████▎  | 22/30 [29:07<10:01, 75.15s/it]"
     ]
    },
    {
     "name": "stdout",
     "output_type": "stream",
     "text": [
      "Iteration: 21 Start Value [0.43882517] action [2]\n"
     ]
    },
    {
     "name": "stderr",
     "output_type": "stream",
     "text": [
      "\r",
      " 77%|███████▋  | 23/30 [30:20<08:41, 74.49s/it]"
     ]
    },
    {
     "name": "stdout",
     "output_type": "stream",
     "text": [
      "Iteration: 22 Start Value [0.43869923] action [2]\n"
     ]
    },
    {
     "name": "stderr",
     "output_type": "stream",
     "text": [
      "\r",
      " 80%|████████  | 24/30 [31:32<07:21, 73.64s/it]"
     ]
    },
    {
     "name": "stdout",
     "output_type": "stream",
     "text": [
      "Iteration: 23 Start Value [0.43872675] action [2]\n"
     ]
    },
    {
     "name": "stderr",
     "output_type": "stream",
     "text": [
      "\r",
      " 83%|████████▎ | 25/30 [32:44<06:05, 73.14s/it]"
     ]
    },
    {
     "name": "stdout",
     "output_type": "stream",
     "text": [
      "Iteration: 24 Start Value [0.43898718] action [2]\n"
     ]
    },
    {
     "name": "stderr",
     "output_type": "stream",
     "text": [
      "\r",
      " 87%|████████▋ | 26/30 [33:58<04:53, 73.42s/it]"
     ]
    },
    {
     "name": "stdout",
     "output_type": "stream",
     "text": [
      "Iteration: 25 Start Value [0.4388278] action [2]\n"
     ]
    },
    {
     "name": "stderr",
     "output_type": "stream",
     "text": [
      "\r",
      " 90%|█████████ | 27/30 [35:26<03:53, 77.89s/it]"
     ]
    },
    {
     "name": "stdout",
     "output_type": "stream",
     "text": [
      "Iteration: 26 Start Value [0.43872709] action [2]\n"
     ]
    },
    {
     "name": "stderr",
     "output_type": "stream",
     "text": [
      "\r",
      " 93%|█████████▎| 28/30 [36:53<02:41, 80.50s/it]"
     ]
    },
    {
     "name": "stdout",
     "output_type": "stream",
     "text": [
      "Iteration: 27 Start Value [0.43871484] action [2]\n"
     ]
    },
    {
     "name": "stderr",
     "output_type": "stream",
     "text": [
      "\r",
      " 97%|█████████▋| 29/30 [38:19<01:22, 82.23s/it]"
     ]
    },
    {
     "name": "stdout",
     "output_type": "stream",
     "text": [
      "Iteration: 28 Start Value [0.43866322] action [2]\n"
     ]
    },
    {
     "name": "stderr",
     "output_type": "stream",
     "text": [
      "100%|██████████| 30/30 [39:48<00:00, 79.63s/it]"
     ]
    },
    {
     "name": "stdout",
     "output_type": "stream",
     "text": [
      "Iteration: 29 Start Value [0.43868889] action [2]\n",
      "N= 130  completed\n"
     ]
    },
    {
     "name": "stderr",
     "output_type": "stream",
     "text": [
      "\n"
     ]
    },
    {
     "name": "stdout",
     "output_type": "stream",
     "text": [
      "       ID  TIME  FEATURE_0  FEATURE_1 ACTION  RISK  OG_CLUSTER  \\\n",
      "0       0     0   0.401014  -0.206010      0 -0.04           0   \n",
      "1       0     1   0.820790  -0.416625      2 -0.04           0   \n",
      "2       0     2   1.795879  -0.621839      2 -0.04           1   \n",
      "3       0     3   2.607279  -0.576041      1 -0.04           2   \n",
      "4       0     4   2.663334  -1.086769      1 -0.04           7   \n",
      "...   ...   ...        ...        ...    ...   ...         ...   \n",
      "3415  149    19   1.188627  -4.867043      2 -0.04          21   \n",
      "3416  149    20   2.212224  -4.639895      0 -0.04          22   \n",
      "3417  149    21   2.429325  -3.591216      1 -0.04          17   \n",
      "3418  149    22   2.187424  -4.315158      1 -0.04          22   \n",
      "3419  149    23   2.550773  -4.626123      2 -0.04          22   \n",
      "\n",
      "                                            x_t2  \\\n",
      "0     [0.8207901504438192, -0.41662545651615823]   \n",
      "1      [1.7958787667246776, -0.6218385125930341]   \n",
      "2       [2.607278956599389, -0.5760406089612767]   \n",
      "3      [2.6633337425799266, -1.0867687123102956]   \n",
      "4      [2.2484750672103817, -2.6782000543827738]   \n",
      "...                                          ...   \n",
      "3415   [2.2122241892380043, -4.6398947539081545]   \n",
      "3416     [2.42932460081515, -3.5912157685046253]   \n",
      "3417   [2.1874237497087705, -4.3151575734875225]   \n",
      "3418    [2.550773430691694, -4.6261233641634325]   \n",
      "3419    [3.7544520052774826, -4.194095768662827]   \n",
      "\n",
      "                                                 a0  \\\n",
      "0     [0.8207901504438192, -0.41662545651615823, 0]   \n",
      "1      [1.7958787667246776, -0.6218385125930341, 0]   \n",
      "2       [2.607278956599389, -0.5760406089612767, 0]   \n",
      "3      [2.6633337425799266, -1.0867687123102956, 0]   \n",
      "4      [2.2484750672103817, -2.6782000543827738, 0]   \n",
      "...                                             ...   \n",
      "3415   [2.2122241892380043, -4.6398947539081545, 0]   \n",
      "3416     [2.42932460081515, -3.5912157685046253, 0]   \n",
      "3417   [2.1874237497087705, -4.3151575734875225, 0]   \n",
      "3418    [2.550773430691694, -4.6261233641634325, 0]   \n",
      "3419    [3.7544520052774826, -4.194095768662827, 0]   \n",
      "\n",
      "                                                 a1  \\\n",
      "0     [0.8207901504438192, -0.41662545651615823, 1]   \n",
      "1      [1.7958787667246776, -0.6218385125930341, 1]   \n",
      "2       [2.607278956599389, -0.5760406089612767, 1]   \n",
      "3      [2.6633337425799266, -1.0867687123102956, 1]   \n",
      "4      [2.2484750672103817, -2.6782000543827738, 1]   \n",
      "...                                             ...   \n",
      "3415   [2.2122241892380043, -4.6398947539081545, 1]   \n",
      "3416     [2.42932460081515, -3.5912157685046253, 1]   \n",
      "3417   [2.1874237497087705, -4.3151575734875225, 1]   \n",
      "3418    [2.550773430691694, -4.6261233641634325, 1]   \n",
      "3419    [3.7544520052774826, -4.194095768662827, 1]   \n",
      "\n",
      "                                                 a2  \\\n",
      "0     [0.8207901504438192, -0.41662545651615823, 2]   \n",
      "1      [1.7958787667246776, -0.6218385125930341, 2]   \n",
      "2       [2.607278956599389, -0.5760406089612767, 2]   \n",
      "3      [2.6633337425799266, -1.0867687123102956, 2]   \n",
      "4      [2.2484750672103817, -2.6782000543827738, 2]   \n",
      "...                                             ...   \n",
      "3415   [2.2122241892380043, -4.6398947539081545, 2]   \n",
      "3416     [2.42932460081515, -3.5912157685046253, 2]   \n",
      "3417   [2.1874237497087705, -4.3151575734875225, 2]   \n",
      "3418    [2.550773430691694, -4.6261233641634325, 2]   \n",
      "3419    [3.7544520052774826, -4.194095768662827, 2]   \n",
      "\n",
      "                                                 a3  \n",
      "0     [0.8207901504438192, -0.41662545651615823, 3]  \n",
      "1      [1.7958787667246776, -0.6218385125930341, 3]  \n",
      "2       [2.607278956599389, -0.5760406089612767, 3]  \n",
      "3      [2.6633337425799266, -1.0867687123102956, 3]  \n",
      "4      [2.2484750672103817, -2.6782000543827738, 3]  \n",
      "...                                             ...  \n",
      "3415   [2.2122241892380043, -4.6398947539081545, 3]  \n",
      "3416     [2.42932460081515, -3.5912157685046253, 3]  \n",
      "3417   [2.1874237497087705, -4.3151575734875225, 3]  \n",
      "3418    [2.550773430691694, -4.6261233641634325, 3]  \n",
      "3419    [3.7544520052774826, -4.194095768662827, 3]  \n",
      "\n",
      "[3366 rows x 12 columns]\n",
      "New training features\n",
      "      FEATURE_0  FEATURE_1 ACTION\n",
      "0      0.401014  -0.206010      0\n",
      "1      0.820790  -0.416625      2\n",
      "2      1.795879  -0.621839      2\n",
      "3      2.607279  -0.576041      1\n",
      "4      2.663334  -1.086769      1\n",
      "...         ...        ...    ...\n",
      "3415   1.188627  -4.867043      2\n",
      "3416   2.212224  -4.639895      0\n",
      "3417   2.429325  -3.591216      1\n",
      "3418   2.187424  -4.315158      1\n",
      "3419   2.550773  -4.626123      2\n",
      "\n",
      "[3366 rows x 3 columns]\n"
     ]
    },
    {
     "name": "stderr",
     "output_type": "stream",
     "text": [
      "  3%|▎         | 1/30 [00:01<00:43,  1.49s/it]"
     ]
    },
    {
     "name": "stdout",
     "output_type": "stream",
     "text": [
      "Iteration: 0 Start Value [-0.08] action [0]\n"
     ]
    },
    {
     "name": "stderr",
     "output_type": "stream",
     "text": [
      "\r",
      "  7%|▋         | 2/30 [01:38<14:07, 30.25s/it]"
     ]
    },
    {
     "name": "stdout",
     "output_type": "stream",
     "text": [
      "Iteration: 1 Start Value [-0.12] action [0]\n"
     ]
    },
    {
     "name": "stderr",
     "output_type": "stream",
     "text": [
      "\r",
      " 10%|█         | 3/30 [03:19<23:09, 51.47s/it]"
     ]
    },
    {
     "name": "stdout",
     "output_type": "stream",
     "text": [
      "Iteration: 2 Start Value [-0.15999565] action [0]\n"
     ]
    },
    {
     "name": "stderr",
     "output_type": "stream",
     "text": [
      "\r",
      " 13%|█▎        | 4/30 [05:00<28:41, 66.21s/it]"
     ]
    },
    {
     "name": "stdout",
     "output_type": "stream",
     "text": [
      "Iteration: 3 Start Value [-0.19999312] action [0]\n"
     ]
    },
    {
     "name": "stderr",
     "output_type": "stream",
     "text": [
      "\r",
      " 17%|█▋        | 5/30 [06:40<31:46, 76.27s/it]"
     ]
    },
    {
     "name": "stdout",
     "output_type": "stream",
     "text": [
      "Iteration: 4 Start Value [-0.239987] action [0]\n"
     ]
    },
    {
     "name": "stderr",
     "output_type": "stream",
     "text": [
      "\r",
      " 20%|██        | 6/30 [08:19<33:15, 83.13s/it]"
     ]
    },
    {
     "name": "stdout",
     "output_type": "stream",
     "text": [
      "Iteration: 5 Start Value [-0.27997916] action [0]\n"
     ]
    },
    {
     "name": "stderr",
     "output_type": "stream",
     "text": [
      "\r",
      " 23%|██▎       | 7/30 [09:59<33:50, 88.30s/it]"
     ]
    },
    {
     "name": "stdout",
     "output_type": "stream",
     "text": [
      "Iteration: 6 Start Value [-0.31996414] action [0]\n"
     ]
    },
    {
     "name": "stderr",
     "output_type": "stream",
     "text": [
      "\r",
      " 27%|██▋       | 8/30 [11:39<33:38, 91.73s/it]"
     ]
    },
    {
     "name": "stdout",
     "output_type": "stream",
     "text": [
      "Iteration: 7 Start Value [-0.35996237] action [0]\n"
     ]
    },
    {
     "name": "stderr",
     "output_type": "stream",
     "text": [
      "\r",
      " 30%|███       | 9/30 [13:21<33:09, 94.75s/it]"
     ]
    },
    {
     "name": "stdout",
     "output_type": "stream",
     "text": [
      "Iteration: 8 Start Value [-0.39995514] action [0]\n"
     ]
    },
    {
     "name": "stderr",
     "output_type": "stream",
     "text": [
      "\r",
      " 33%|███▎      | 10/30 [15:07<32:46, 98.33s/it]"
     ]
    },
    {
     "name": "stdout",
     "output_type": "stream",
     "text": [
      "Iteration: 9 Start Value [-0.439926] action [0]\n"
     ]
    },
    {
     "name": "stderr",
     "output_type": "stream",
     "text": [
      "\r",
      " 37%|███▋      | 11/30 [16:47<31:14, 98.64s/it]"
     ]
    },
    {
     "name": "stdout",
     "output_type": "stream",
     "text": [
      "Iteration: 10 Start Value [-0.47989723] action [0]\n"
     ]
    },
    {
     "name": "stderr",
     "output_type": "stream",
     "text": [
      "\r",
      " 40%|████      | 12/30 [18:26<29:38, 98.83s/it]"
     ]
    },
    {
     "name": "stdout",
     "output_type": "stream",
     "text": [
      "Iteration: 11 Start Value [-0.51359419] action [2]\n"
     ]
    },
    {
     "name": "stderr",
     "output_type": "stream",
     "text": [
      "\r",
      " 43%|████▎     | 13/30 [20:06<28:06, 99.21s/it]"
     ]
    },
    {
     "name": "stdout",
     "output_type": "stream",
     "text": [
      "Iteration: 12 Start Value [0.1111501] action [2]\n"
     ]
    },
    {
     "name": "stderr",
     "output_type": "stream",
     "text": [
      "\r",
      " 47%|████▋     | 14/30 [21:46<26:28, 99.29s/it]"
     ]
    },
    {
     "name": "stdout",
     "output_type": "stream",
     "text": [
      "Iteration: 13 Start Value [0.37317383] action [2]\n"
     ]
    },
    {
     "name": "stderr",
     "output_type": "stream",
     "text": [
      "\r",
      " 50%|█████     | 15/30 [23:25<24:48, 99.25s/it]"
     ]
    },
    {
     "name": "stdout",
     "output_type": "stream",
     "text": [
      "Iteration: 14 Start Value [0.42716285] action [2]\n"
     ]
    },
    {
     "name": "stderr",
     "output_type": "stream",
     "text": [
      "\r",
      " 53%|█████▎    | 16/30 [25:04<23:07, 99.14s/it]"
     ]
    },
    {
     "name": "stdout",
     "output_type": "stream",
     "text": [
      "Iteration: 15 Start Value [0.43815095] action [2]\n"
     ]
    },
    {
     "name": "stderr",
     "output_type": "stream",
     "text": [
      "\r",
      " 57%|█████▋    | 17/30 [26:40<21:18, 98.34s/it]"
     ]
    },
    {
     "name": "stdout",
     "output_type": "stream",
     "text": [
      "Iteration: 16 Start Value [0.4378024] action [2]\n"
     ]
    },
    {
     "name": "stderr",
     "output_type": "stream",
     "text": [
      "\r",
      " 60%|██████    | 18/30 [28:21<19:49, 99.08s/it]"
     ]
    },
    {
     "name": "stdout",
     "output_type": "stream",
     "text": [
      "Iteration: 17 Start Value [0.43753883] action [2]\n"
     ]
    },
    {
     "name": "stderr",
     "output_type": "stream",
     "text": [
      "\r",
      " 63%|██████▎   | 19/30 [30:02<18:17, 99.80s/it]"
     ]
    },
    {
     "name": "stdout",
     "output_type": "stream",
     "text": [
      "Iteration: 18 Start Value [0.43915366] action [2]\n"
     ]
    },
    {
     "name": "stderr",
     "output_type": "stream",
     "text": [
      "\r",
      " 67%|██████▋   | 20/30 [31:41<16:35, 99.57s/it]"
     ]
    },
    {
     "name": "stdout",
     "output_type": "stream",
     "text": [
      "Iteration: 19 Start Value [0.43769816] action [2]\n"
     ]
    },
    {
     "name": "stderr",
     "output_type": "stream",
     "text": [
      "\r",
      " 70%|███████   | 21/30 [33:21<14:55, 99.46s/it]"
     ]
    },
    {
     "name": "stdout",
     "output_type": "stream",
     "text": [
      "Iteration: 20 Start Value [0.43894087] action [2]\n"
     ]
    },
    {
     "name": "stderr",
     "output_type": "stream",
     "text": [
      "\r",
      " 73%|███████▎  | 22/30 [35:03<13:22, 100.31s/it]"
     ]
    },
    {
     "name": "stdout",
     "output_type": "stream",
     "text": [
      "Iteration: 21 Start Value [0.43882195] action [2]\n"
     ]
    },
    {
     "name": "stderr",
     "output_type": "stream",
     "text": [
      "\r",
      " 77%|███████▋  | 23/30 [36:41<11:38, 99.78s/it] "
     ]
    },
    {
     "name": "stdout",
     "output_type": "stream",
     "text": [
      "Iteration: 22 Start Value [0.43860009] action [2]\n"
     ]
    },
    {
     "name": "stderr",
     "output_type": "stream",
     "text": [
      "\r",
      " 80%|████████  | 24/30 [38:23<10:01, 100.30s/it]"
     ]
    },
    {
     "name": "stdout",
     "output_type": "stream",
     "text": [
      "Iteration: 23 Start Value [0.43869429] action [2]\n"
     ]
    },
    {
     "name": "stderr",
     "output_type": "stream",
     "text": [
      "\r",
      " 83%|████████▎ | 25/30 [40:06<08:26, 101.23s/it]"
     ]
    },
    {
     "name": "stdout",
     "output_type": "stream",
     "text": [
      "Iteration: 24 Start Value [0.43869488] action [2]\n"
     ]
    },
    {
     "name": "stderr",
     "output_type": "stream",
     "text": [
      "\r",
      " 87%|████████▋ | 26/30 [41:42<06:37, 99.40s/it] "
     ]
    },
    {
     "name": "stdout",
     "output_type": "stream",
     "text": [
      "Iteration: 25 Start Value [0.43864744] action [2]\n"
     ]
    },
    {
     "name": "stderr",
     "output_type": "stream",
     "text": [
      "\r",
      " 90%|█████████ | 27/30 [43:23<05:00, 100.02s/it]"
     ]
    },
    {
     "name": "stdout",
     "output_type": "stream",
     "text": [
      "Iteration: 26 Start Value [0.43861367] action [2]\n"
     ]
    },
    {
     "name": "stderr",
     "output_type": "stream",
     "text": [
      "\r",
      " 93%|█████████▎| 28/30 [45:14<03:26, 103.45s/it]"
     ]
    },
    {
     "name": "stdout",
     "output_type": "stream",
     "text": [
      "Iteration: 27 Start Value [0.43865004] action [2]\n"
     ]
    },
    {
     "name": "stderr",
     "output_type": "stream",
     "text": [
      "\r",
      " 97%|█████████▋| 29/30 [46:52<01:41, 101.74s/it]"
     ]
    },
    {
     "name": "stdout",
     "output_type": "stream",
     "text": [
      "Iteration: 28 Start Value [0.43858812] action [2]\n"
     ]
    },
    {
     "name": "stderr",
     "output_type": "stream",
     "text": [
      "100%|██████████| 30/30 [48:30<00:00, 97.02s/it] "
     ]
    },
    {
     "name": "stdout",
     "output_type": "stream",
     "text": [
      "Iteration: 29 Start Value [0.43858833] action [2]\n",
      "N= 150  completed\n"
     ]
    },
    {
     "name": "stderr",
     "output_type": "stream",
     "text": [
      "\n"
     ]
    },
    {
     "name": "stdout",
     "output_type": "stream",
     "text": [
      "       ID  TIME  FEATURE_0  FEATURE_1 ACTION  RISK  OG_CLUSTER  \\\n",
      "0       0     0   0.401014  -0.206010      0 -0.04           0   \n",
      "1       0     1   0.820790  -0.416625      2 -0.04           0   \n",
      "2       0     2   1.795879  -0.621839      2 -0.04           1   \n",
      "3       0     3   2.607279  -0.576041      1 -0.04           2   \n",
      "4       0     4   2.663334  -1.086769      1 -0.04           7   \n",
      "...   ...   ...        ...        ...    ...   ...         ...   \n",
      "3873  169    14   3.514074  -1.494608      2 -0.04           8   \n",
      "3874  169    15   4.541027  -1.522318      1 -0.04           9   \n",
      "3875  169    16   4.337097  -2.174123      1 -0.04          14   \n",
      "3876  169    17   4.310743  -3.076375      1 -0.04          19   \n",
      "3877  169    18   4.565954  -4.189681   None  1.00          24   \n",
      "\n",
      "                                            x_t2  \\\n",
      "0     [0.8207901504438192, -0.41662545651615823]   \n",
      "1      [1.7958787667246776, -0.6218385125930341]   \n",
      "2       [2.607278956599389, -0.5760406089612767]   \n",
      "3      [2.6633337425799266, -1.0867687123102956]   \n",
      "4      [2.2484750672103817, -2.6782000543827738]   \n",
      "...                                          ...   \n",
      "3873     [4.541026823495281, -1.522318260685786]   \n",
      "3874     [4.337097054056813, -2.174123187270665]   \n",
      "3875     [4.310743176418873, -3.076374633775227]   \n",
      "3876     [4.565953928842629, -4.189681122448044]   \n",
      "3877                                          []   \n",
      "\n",
      "                                                 a0  \\\n",
      "0     [0.8207901504438192, -0.41662545651615823, 0]   \n",
      "1      [1.7958787667246776, -0.6218385125930341, 0]   \n",
      "2       [2.607278956599389, -0.5760406089612767, 0]   \n",
      "3      [2.6633337425799266, -1.0867687123102956, 0]   \n",
      "4      [2.2484750672103817, -2.6782000543827738, 0]   \n",
      "...                                             ...   \n",
      "3873     [4.541026823495281, -1.522318260685786, 0]   \n",
      "3874     [4.337097054056813, -2.174123187270665, 0]   \n",
      "3875     [4.310743176418873, -3.076374633775227, 0]   \n",
      "3876     [4.565953928842629, -4.189681122448044, 0]   \n",
      "3877                                            [0]   \n",
      "\n",
      "                                                 a1  \\\n",
      "0     [0.8207901504438192, -0.41662545651615823, 1]   \n",
      "1      [1.7958787667246776, -0.6218385125930341, 1]   \n",
      "2       [2.607278956599389, -0.5760406089612767, 1]   \n",
      "3      [2.6633337425799266, -1.0867687123102956, 1]   \n",
      "4      [2.2484750672103817, -2.6782000543827738, 1]   \n",
      "...                                             ...   \n",
      "3873     [4.541026823495281, -1.522318260685786, 1]   \n",
      "3874     [4.337097054056813, -2.174123187270665, 1]   \n",
      "3875     [4.310743176418873, -3.076374633775227, 1]   \n",
      "3876     [4.565953928842629, -4.189681122448044, 1]   \n",
      "3877                                            [1]   \n",
      "\n",
      "                                                 a2  \\\n",
      "0     [0.8207901504438192, -0.41662545651615823, 2]   \n",
      "1      [1.7958787667246776, -0.6218385125930341, 2]   \n",
      "2       [2.607278956599389, -0.5760406089612767, 2]   \n",
      "3      [2.6633337425799266, -1.0867687123102956, 2]   \n",
      "4      [2.2484750672103817, -2.6782000543827738, 2]   \n",
      "...                                             ...   \n",
      "3873     [4.541026823495281, -1.522318260685786, 2]   \n",
      "3874     [4.337097054056813, -2.174123187270665, 2]   \n",
      "3875     [4.310743176418873, -3.076374633775227, 2]   \n",
      "3876     [4.565953928842629, -4.189681122448044, 2]   \n",
      "3877                                            [2]   \n",
      "\n",
      "                                                 a3  \n",
      "0     [0.8207901504438192, -0.41662545651615823, 3]  \n",
      "1      [1.7958787667246776, -0.6218385125930341, 3]  \n",
      "2       [2.607278956599389, -0.5760406089612767, 3]  \n",
      "3      [2.6633337425799266, -1.0867687123102956, 3]  \n",
      "4      [2.2484750672103817, -2.6782000543827738, 3]  \n",
      "...                                             ...  \n",
      "3873     [4.541026823495281, -1.522318260685786, 3]  \n",
      "3874     [4.337097054056813, -2.174123187270665, 3]  \n",
      "3875     [4.310743176418873, -3.076374633775227, 3]  \n",
      "3876     [4.565953928842629, -4.189681122448044, 3]  \n",
      "3877                                            [3]  \n",
      "\n",
      "[3817 rows x 12 columns]\n",
      "New training features\n",
      "      FEATURE_0  FEATURE_1 ACTION\n",
      "0      0.401014  -0.206010      0\n",
      "1      0.820790  -0.416625      2\n",
      "2      1.795879  -0.621839      2\n",
      "3      2.607279  -0.576041      1\n",
      "4      2.663334  -1.086769      1\n",
      "...         ...        ...    ...\n",
      "3873   3.514074  -1.494608      2\n",
      "3874   4.541027  -1.522318      1\n",
      "3875   4.337097  -2.174123      1\n",
      "3876   4.310743  -3.076375      1\n",
      "3877   4.565954  -4.189681      0\n",
      "\n",
      "[3817 rows x 3 columns]\n"
     ]
    },
    {
     "name": "stderr",
     "output_type": "stream",
     "text": [
      "  3%|▎         | 1/30 [00:01<00:37,  1.29s/it]"
     ]
    },
    {
     "name": "stdout",
     "output_type": "stream",
     "text": [
      "Iteration: 0 Start Value [-0.08] action [0]\n"
     ]
    },
    {
     "name": "stderr",
     "output_type": "stream",
     "text": [
      "\r",
      "  7%|▋         | 2/30 [01:52<15:58, 34.23s/it]"
     ]
    },
    {
     "name": "stdout",
     "output_type": "stream",
     "text": [
      "Iteration: 1 Start Value [-0.12] action [0]\n"
     ]
    },
    {
     "name": "stderr",
     "output_type": "stream",
     "text": [
      "\r",
      " 10%|█         | 3/30 [03:40<25:26, 56.54s/it]"
     ]
    },
    {
     "name": "stdout",
     "output_type": "stream",
     "text": [
      "Iteration: 2 Start Value [-0.15999555] action [0]\n"
     ]
    },
    {
     "name": "stderr",
     "output_type": "stream",
     "text": [
      "\r",
      " 13%|█▎        | 4/30 [05:32<31:40, 73.10s/it]"
     ]
    },
    {
     "name": "stdout",
     "output_type": "stream",
     "text": [
      "Iteration: 3 Start Value [-0.19999396] action [0]\n"
     ]
    },
    {
     "name": "stderr",
     "output_type": "stream",
     "text": [
      "\r",
      " 17%|█▋        | 5/30 [07:22<35:05, 84.23s/it]"
     ]
    },
    {
     "name": "stdout",
     "output_type": "stream",
     "text": [
      "Iteration: 4 Start Value [-0.2399843] action [0]\n"
     ]
    },
    {
     "name": "stderr",
     "output_type": "stream",
     "text": [
      "\r",
      " 20%|██        | 6/30 [09:20<37:38, 94.11s/it]"
     ]
    },
    {
     "name": "stdout",
     "output_type": "stream",
     "text": [
      "Iteration: 5 Start Value [-0.27998326] action [0]\n"
     ]
    },
    {
     "name": "stderr",
     "output_type": "stream",
     "text": [
      "\r",
      " 23%|██▎       | 7/30 [11:08<37:46, 98.54s/it]"
     ]
    },
    {
     "name": "stdout",
     "output_type": "stream",
     "text": [
      "Iteration: 6 Start Value [-0.31997164] action [0]\n"
     ]
    },
    {
     "name": "stderr",
     "output_type": "stream",
     "text": [
      "\r",
      " 27%|██▋       | 8/30 [13:00<37:35, 102.53s/it]"
     ]
    },
    {
     "name": "stdout",
     "output_type": "stream",
     "text": [
      "Iteration: 7 Start Value [-0.35997044] action [0]\n"
     ]
    },
    {
     "name": "stderr",
     "output_type": "stream",
     "text": [
      "\r",
      " 30%|███       | 9/30 [14:50<36:39, 104.74s/it]"
     ]
    },
    {
     "name": "stdout",
     "output_type": "stream",
     "text": [
      "Iteration: 8 Start Value [-0.39996636] action [0]\n"
     ]
    },
    {
     "name": "stderr",
     "output_type": "stream",
     "text": [
      "\r",
      " 33%|███▎      | 10/30 [16:44<35:50, 107.50s/it]"
     ]
    },
    {
     "name": "stdout",
     "output_type": "stream",
     "text": [
      "Iteration: 9 Start Value [-0.43995107] action [2]\n"
     ]
    },
    {
     "name": "stderr",
     "output_type": "stream",
     "text": [
      "\r",
      " 37%|███▋      | 11/30 [18:35<34:23, 108.62s/it]"
     ]
    },
    {
     "name": "stdout",
     "output_type": "stream",
     "text": [
      "Iteration: 10 Start Value [-0.47978715] action [2]\n"
     ]
    },
    {
     "name": "stderr",
     "output_type": "stream",
     "text": [
      "\r",
      " 40%|████      | 12/30 [20:29<33:03, 110.19s/it]"
     ]
    },
    {
     "name": "stdout",
     "output_type": "stream",
     "text": [
      "Iteration: 11 Start Value [-0.51522267] action [2]\n"
     ]
    },
    {
     "name": "stderr",
     "output_type": "stream",
     "text": [
      "\r",
      " 43%|████▎     | 13/30 [22:21<31:22, 110.73s/it]"
     ]
    },
    {
     "name": "stdout",
     "output_type": "stream",
     "text": [
      "Iteration: 12 Start Value [0.09481518] action [2]\n"
     ]
    },
    {
     "name": "stderr",
     "output_type": "stream",
     "text": [
      "\r",
      " 47%|████▋     | 14/30 [24:10<29:23, 110.20s/it]"
     ]
    },
    {
     "name": "stdout",
     "output_type": "stream",
     "text": [
      "Iteration: 13 Start Value [0.38799863] action [2]\n"
     ]
    },
    {
     "name": "stderr",
     "output_type": "stream",
     "text": [
      "\r",
      " 50%|█████     | 15/30 [26:04<27:50, 111.37s/it]"
     ]
    },
    {
     "name": "stdout",
     "output_type": "stream",
     "text": [
      "Iteration: 14 Start Value [0.42836472] action [2]\n"
     ]
    },
    {
     "name": "stderr",
     "output_type": "stream",
     "text": [
      "\r",
      " 53%|█████▎    | 16/30 [27:56<25:58, 111.34s/it]"
     ]
    },
    {
     "name": "stdout",
     "output_type": "stream",
     "text": [
      "Iteration: 15 Start Value [0.4379755] action [2]\n"
     ]
    },
    {
     "name": "stderr",
     "output_type": "stream",
     "text": [
      "\r",
      " 57%|█████▋    | 17/30 [29:48<24:11, 111.63s/it]"
     ]
    },
    {
     "name": "stdout",
     "output_type": "stream",
     "text": [
      "Iteration: 16 Start Value [0.43812656] action [2]\n"
     ]
    },
    {
     "name": "stderr",
     "output_type": "stream",
     "text": [
      "\r",
      " 60%|██████    | 18/30 [31:38<22:15, 111.28s/it]"
     ]
    },
    {
     "name": "stdout",
     "output_type": "stream",
     "text": [
      "Iteration: 17 Start Value [0.43824914] action [2]\n"
     ]
    },
    {
     "name": "stderr",
     "output_type": "stream",
     "text": [
      "\r",
      " 63%|██████▎   | 19/30 [33:28<20:18, 110.79s/it]"
     ]
    },
    {
     "name": "stdout",
     "output_type": "stream",
     "text": [
      "Iteration: 18 Start Value [0.43952354] action [2]\n"
     ]
    },
    {
     "name": "stderr",
     "output_type": "stream",
     "text": [
      "\r",
      " 67%|██████▋   | 20/30 [35:20<18:30, 111.01s/it]"
     ]
    },
    {
     "name": "stdout",
     "output_type": "stream",
     "text": [
      "Iteration: 19 Start Value [0.43770126] action [2]\n"
     ]
    },
    {
     "name": "stderr",
     "output_type": "stream",
     "text": [
      "\r",
      " 70%|███████   | 21/30 [37:09<16:34, 110.55s/it]"
     ]
    },
    {
     "name": "stdout",
     "output_type": "stream",
     "text": [
      "Iteration: 20 Start Value [0.4393221] action [2]\n"
     ]
    },
    {
     "name": "stderr",
     "output_type": "stream",
     "text": [
      "\r",
      " 73%|███████▎  | 22/30 [38:59<14:44, 110.52s/it]"
     ]
    },
    {
     "name": "stdout",
     "output_type": "stream",
     "text": [
      "Iteration: 21 Start Value [0.43911115] action [2]\n"
     ]
    },
    {
     "name": "stderr",
     "output_type": "stream",
     "text": [
      "\r",
      " 77%|███████▋  | 23/30 [40:55<13:04, 112.06s/it]"
     ]
    },
    {
     "name": "stdout",
     "output_type": "stream",
     "text": [
      "Iteration: 22 Start Value [0.43907471] action [2]\n"
     ]
    },
    {
     "name": "stderr",
     "output_type": "stream",
     "text": [
      "\r",
      " 80%|████████  | 24/30 [42:46<11:10, 111.69s/it]"
     ]
    },
    {
     "name": "stdout",
     "output_type": "stream",
     "text": [
      "Iteration: 23 Start Value [0.43913138] action [2]\n"
     ]
    },
    {
     "name": "stderr",
     "output_type": "stream",
     "text": [
      "\r",
      " 83%|████████▎ | 25/30 [44:40<09:22, 112.42s/it]"
     ]
    },
    {
     "name": "stdout",
     "output_type": "stream",
     "text": [
      "Iteration: 24 Start Value [0.43912811] action [2]\n"
     ]
    },
    {
     "name": "stderr",
     "output_type": "stream",
     "text": [
      "\r",
      " 87%|████████▋ | 26/30 [46:38<07:36, 114.22s/it]"
     ]
    },
    {
     "name": "stdout",
     "output_type": "stream",
     "text": [
      "Iteration: 25 Start Value [0.43912105] action [2]\n"
     ]
    },
    {
     "name": "stderr",
     "output_type": "stream",
     "text": [
      "\r",
      " 90%|█████████ | 27/30 [48:29<05:39, 113.04s/it]"
     ]
    },
    {
     "name": "stdout",
     "output_type": "stream",
     "text": [
      "Iteration: 26 Start Value [0.4391405] action [2]\n"
     ]
    },
    {
     "name": "stderr",
     "output_type": "stream",
     "text": [
      "\r",
      " 93%|█████████▎| 28/30 [50:26<03:48, 114.33s/it]"
     ]
    },
    {
     "name": "stdout",
     "output_type": "stream",
     "text": [
      "Iteration: 27 Start Value [0.43912609] action [2]\n"
     ]
    },
    {
     "name": "stderr",
     "output_type": "stream",
     "text": [
      "\r",
      " 97%|█████████▋| 29/30 [52:18<01:53, 113.70s/it]"
     ]
    },
    {
     "name": "stdout",
     "output_type": "stream",
     "text": [
      "Iteration: 28 Start Value [0.43912897] action [2]\n"
     ]
    },
    {
     "name": "stderr",
     "output_type": "stream",
     "text": [
      "100%|██████████| 30/30 [54:08<00:00, 108.29s/it]"
     ]
    },
    {
     "name": "stdout",
     "output_type": "stream",
     "text": [
      "Iteration: 29 Start Value [0.43912066] action [2]\n",
      "N= 170  completed\n"
     ]
    },
    {
     "name": "stderr",
     "output_type": "stream",
     "text": [
      "\n"
     ]
    },
    {
     "name": "stdout",
     "output_type": "stream",
     "text": [
      "       ID  TIME  FEATURE_0  FEATURE_1 ACTION  RISK  OG_CLUSTER  \\\n",
      "0       0     0   0.401014  -0.206010      0 -0.04           0   \n",
      "1       0     1   0.820790  -0.416625      2 -0.04           0   \n",
      "2       0     2   1.795879  -0.621839      2 -0.04           1   \n",
      "3       0     3   2.607279  -0.576041      1 -0.04           2   \n",
      "4       0     4   2.663334  -1.086769      1 -0.04           7   \n",
      "...   ...   ...        ...        ...    ...   ...         ...   \n",
      "4533  199    19   3.300996  -1.232994      1 -0.04           8   \n",
      "4534  199    20   3.803268  -2.873512      0 -0.04          13   \n",
      "4535  199    21   3.236343  -1.693659      2 -0.04           8   \n",
      "4536  199    22   4.364960  -1.889814      1 -0.04           9   \n",
      "4537  199    23   4.472558  -2.416524      1 -0.04          14   \n",
      "\n",
      "                                            x_t2  \\\n",
      "0     [0.8207901504438192, -0.41662545651615823]   \n",
      "1      [1.7958787667246776, -0.6218385125930341]   \n",
      "2       [2.607278956599389, -0.5760406089612767]   \n",
      "3      [2.6633337425799266, -1.0867687123102956]   \n",
      "4      [2.2484750672103817, -2.6782000543827738]   \n",
      "...                                          ...   \n",
      "4533    [3.803267929773688, -2.8735119465770715]   \n",
      "4534   [3.2363430255092265, -1.6936593126935064]   \n",
      "4535    [4.364960490915038, -1.8898139456122416]   \n",
      "4536    [4.472557862928807, -2.4165239837089265]   \n",
      "4537    [4.1764497880301406, -3.559595578540321]   \n",
      "\n",
      "                                                 a0  \\\n",
      "0     [0.8207901504438192, -0.41662545651615823, 0]   \n",
      "1      [1.7958787667246776, -0.6218385125930341, 0]   \n",
      "2       [2.607278956599389, -0.5760406089612767, 0]   \n",
      "3      [2.6633337425799266, -1.0867687123102956, 0]   \n",
      "4      [2.2484750672103817, -2.6782000543827738, 0]   \n",
      "...                                             ...   \n",
      "4533    [3.803267929773688, -2.8735119465770715, 0]   \n",
      "4534   [3.2363430255092265, -1.6936593126935064, 0]   \n",
      "4535    [4.364960490915038, -1.8898139456122416, 0]   \n",
      "4536    [4.472557862928807, -2.4165239837089265, 0]   \n",
      "4537    [4.1764497880301406, -3.559595578540321, 0]   \n",
      "\n",
      "                                                 a1  \\\n",
      "0     [0.8207901504438192, -0.41662545651615823, 1]   \n",
      "1      [1.7958787667246776, -0.6218385125930341, 1]   \n",
      "2       [2.607278956599389, -0.5760406089612767, 1]   \n",
      "3      [2.6633337425799266, -1.0867687123102956, 1]   \n",
      "4      [2.2484750672103817, -2.6782000543827738, 1]   \n",
      "...                                             ...   \n",
      "4533    [3.803267929773688, -2.8735119465770715, 1]   \n",
      "4534   [3.2363430255092265, -1.6936593126935064, 1]   \n",
      "4535    [4.364960490915038, -1.8898139456122416, 1]   \n",
      "4536    [4.472557862928807, -2.4165239837089265, 1]   \n",
      "4537    [4.1764497880301406, -3.559595578540321, 1]   \n",
      "\n",
      "                                                 a2  \\\n",
      "0     [0.8207901504438192, -0.41662545651615823, 2]   \n",
      "1      [1.7958787667246776, -0.6218385125930341, 2]   \n",
      "2       [2.607278956599389, -0.5760406089612767, 2]   \n",
      "3      [2.6633337425799266, -1.0867687123102956, 2]   \n",
      "4      [2.2484750672103817, -2.6782000543827738, 2]   \n",
      "...                                             ...   \n",
      "4533    [3.803267929773688, -2.8735119465770715, 2]   \n",
      "4534   [3.2363430255092265, -1.6936593126935064, 2]   \n",
      "4535    [4.364960490915038, -1.8898139456122416, 2]   \n",
      "4536    [4.472557862928807, -2.4165239837089265, 2]   \n",
      "4537    [4.1764497880301406, -3.559595578540321, 2]   \n",
      "\n",
      "                                                 a3  \n",
      "0     [0.8207901504438192, -0.41662545651615823, 3]  \n",
      "1      [1.7958787667246776, -0.6218385125930341, 3]  \n",
      "2       [2.607278956599389, -0.5760406089612767, 3]  \n",
      "3      [2.6633337425799266, -1.0867687123102956, 3]  \n",
      "4      [2.2484750672103817, -2.6782000543827738, 3]  \n",
      "...                                             ...  \n",
      "4533    [3.803267929773688, -2.8735119465770715, 3]  \n",
      "4534   [3.2363430255092265, -1.6936593126935064, 3]  \n",
      "4535    [4.364960490915038, -1.8898139456122416, 3]  \n",
      "4536    [4.472557862928807, -2.4165239837089265, 3]  \n",
      "4537    [4.1764497880301406, -3.559595578540321, 3]  \n",
      "\n",
      "[4471 rows x 12 columns]\n",
      "New training features\n",
      "      FEATURE_0  FEATURE_1 ACTION\n",
      "0      0.401014  -0.206010      0\n",
      "1      0.820790  -0.416625      2\n",
      "2      1.795879  -0.621839      2\n",
      "3      2.607279  -0.576041      1\n",
      "4      2.663334  -1.086769      1\n",
      "...         ...        ...    ...\n",
      "4533   3.300996  -1.232994      1\n",
      "4534   3.803268  -2.873512      0\n",
      "4535   3.236343  -1.693659      2\n",
      "4536   4.364960  -1.889814      1\n",
      "4537   4.472558  -2.416524      1\n",
      "\n",
      "[4471 rows x 3 columns]\n"
     ]
    },
    {
     "name": "stderr",
     "output_type": "stream",
     "text": [
      "  3%|▎         | 1/30 [00:01<00:32,  1.11s/it]"
     ]
    },
    {
     "name": "stdout",
     "output_type": "stream",
     "text": [
      "Iteration: 0 Start Value [-0.08] action [0]\n"
     ]
    },
    {
     "name": "stderr",
     "output_type": "stream",
     "text": [
      "\r",
      "  7%|▋         | 2/30 [02:12<18:47, 40.28s/it]"
     ]
    },
    {
     "name": "stdout",
     "output_type": "stream",
     "text": [
      "Iteration: 1 Start Value [-0.11999517] action [0]\n"
     ]
    },
    {
     "name": "stderr",
     "output_type": "stream",
     "text": [
      "\r",
      " 10%|█         | 3/30 [04:21<30:03, 66.79s/it]"
     ]
    },
    {
     "name": "stdout",
     "output_type": "stream",
     "text": [
      "Iteration: 2 Start Value [-0.15999185] action [0]\n"
     ]
    },
    {
     "name": "stderr",
     "output_type": "stream",
     "text": [
      "\r",
      " 13%|█▎        | 4/30 [06:28<36:46, 84.85s/it]"
     ]
    },
    {
     "name": "stdout",
     "output_type": "stream",
     "text": [
      "Iteration: 3 Start Value [-0.19998754] action [0]\n"
     ]
    },
    {
     "name": "stderr",
     "output_type": "stream",
     "text": [
      "\r",
      " 17%|█▋        | 5/30 [08:41<41:21, 99.27s/it]"
     ]
    },
    {
     "name": "stdout",
     "output_type": "stream",
     "text": [
      "Iteration: 4 Start Value [-0.23998655] action [0]\n"
     ]
    },
    {
     "name": "stderr",
     "output_type": "stream",
     "text": [
      "\r",
      " 20%|██        | 6/30 [10:52<43:31, 108.81s/it]"
     ]
    },
    {
     "name": "stdout",
     "output_type": "stream",
     "text": [
      "Iteration: 5 Start Value [-0.27997465] action [0]\n"
     ]
    },
    {
     "name": "stderr",
     "output_type": "stream",
     "text": [
      "\r",
      " 23%|██▎       | 7/30 [13:09<44:55, 117.19s/it]"
     ]
    },
    {
     "name": "stdout",
     "output_type": "stream",
     "text": [
      "Iteration: 6 Start Value [-0.31995593] action [0]\n"
     ]
    },
    {
     "name": "stderr",
     "output_type": "stream",
     "text": [
      "\r",
      " 27%|██▋       | 8/30 [15:20<44:29, 121.32s/it]"
     ]
    },
    {
     "name": "stdout",
     "output_type": "stream",
     "text": [
      "Iteration: 7 Start Value [-0.35995274] action [0]\n"
     ]
    },
    {
     "name": "stderr",
     "output_type": "stream",
     "text": [
      "\r",
      " 30%|███       | 9/30 [17:36<44:04, 125.95s/it]"
     ]
    },
    {
     "name": "stdout",
     "output_type": "stream",
     "text": [
      "Iteration: 8 Start Value [-0.39994931] action [0]\n"
     ]
    },
    {
     "name": "stderr",
     "output_type": "stream",
     "text": [
      "\r",
      " 33%|███▎      | 10/30 [19:47<42:26, 127.32s/it]"
     ]
    },
    {
     "name": "stdout",
     "output_type": "stream",
     "text": [
      "Iteration: 9 Start Value [-0.43994286] action [0]\n"
     ]
    },
    {
     "name": "stderr",
     "output_type": "stream",
     "text": [
      "\r",
      " 37%|███▋      | 11/30 [21:55<40:25, 127.66s/it]"
     ]
    },
    {
     "name": "stdout",
     "output_type": "stream",
     "text": [
      "Iteration: 10 Start Value [-0.47891961] action [2]\n"
     ]
    },
    {
     "name": "stderr",
     "output_type": "stream",
     "text": [
      "\r",
      " 40%|████      | 12/30 [24:05<38:28, 128.28s/it]"
     ]
    },
    {
     "name": "stdout",
     "output_type": "stream",
     "text": [
      "Iteration: 11 Start Value [-0.51416129] action [2]\n"
     ]
    },
    {
     "name": "stderr",
     "output_type": "stream",
     "text": [
      "\r",
      " 43%|████▎     | 13/30 [26:19<36:50, 130.04s/it]"
     ]
    },
    {
     "name": "stdout",
     "output_type": "stream",
     "text": [
      "Iteration: 12 Start Value [0.03140372] action [2]\n"
     ]
    },
    {
     "name": "stderr",
     "output_type": "stream",
     "text": [
      "\r",
      " 47%|████▋     | 14/30 [28:31<34:49, 130.62s/it]"
     ]
    },
    {
     "name": "stdout",
     "output_type": "stream",
     "text": [
      "Iteration: 13 Start Value [0.38976784] action [2]\n"
     ]
    },
    {
     "name": "stderr",
     "output_type": "stream",
     "text": [
      "\r",
      " 50%|█████     | 15/30 [30:45<32:54, 131.61s/it]"
     ]
    },
    {
     "name": "stdout",
     "output_type": "stream",
     "text": [
      "Iteration: 14 Start Value [0.4321174] action [2]\n"
     ]
    },
    {
     "name": "stderr",
     "output_type": "stream",
     "text": [
      "\r",
      " 53%|█████▎    | 16/30 [33:06<31:19, 134.28s/it]"
     ]
    },
    {
     "name": "stdout",
     "output_type": "stream",
     "text": [
      "Iteration: 15 Start Value [0.43857556] action [2]\n"
     ]
    },
    {
     "name": "stderr",
     "output_type": "stream",
     "text": [
      "\r",
      " 57%|█████▋    | 17/30 [35:28<29:36, 136.64s/it]"
     ]
    },
    {
     "name": "stdout",
     "output_type": "stream",
     "text": [
      "Iteration: 16 Start Value [0.43786131] action [2]\n"
     ]
    },
    {
     "name": "stderr",
     "output_type": "stream",
     "text": [
      "\r",
      " 60%|██████    | 18/30 [37:52<27:47, 138.98s/it]"
     ]
    },
    {
     "name": "stdout",
     "output_type": "stream",
     "text": [
      "Iteration: 17 Start Value [0.43752635] action [2]\n"
     ]
    },
    {
     "name": "stderr",
     "output_type": "stream",
     "text": [
      "\r",
      " 63%|██████▎   | 19/30 [40:06<25:12, 137.50s/it]"
     ]
    },
    {
     "name": "stdout",
     "output_type": "stream",
     "text": [
      "Iteration: 18 Start Value [0.43919335] action [2]\n"
     ]
    },
    {
     "name": "stderr",
     "output_type": "stream",
     "text": [
      "\r",
      " 67%|██████▋   | 20/30 [42:15<22:29, 134.99s/it]"
     ]
    },
    {
     "name": "stdout",
     "output_type": "stream",
     "text": [
      "Iteration: 19 Start Value [0.43770197] action [2]\n"
     ]
    },
    {
     "name": "stderr",
     "output_type": "stream",
     "text": [
      "\r",
      " 70%|███████   | 21/30 [44:28<20:07, 134.15s/it]"
     ]
    },
    {
     "name": "stdout",
     "output_type": "stream",
     "text": [
      "Iteration: 20 Start Value [0.43946629] action [2]\n"
     ]
    },
    {
     "name": "stderr",
     "output_type": "stream",
     "text": [
      "\r",
      " 73%|███████▎  | 22/30 [46:51<18:15, 136.98s/it]"
     ]
    },
    {
     "name": "stdout",
     "output_type": "stream",
     "text": [
      "Iteration: 21 Start Value [0.43910241] action [2]\n"
     ]
    },
    {
     "name": "stderr",
     "output_type": "stream",
     "text": [
      "\r",
      " 77%|███████▋  | 23/30 [49:03<15:48, 135.54s/it]"
     ]
    },
    {
     "name": "stdout",
     "output_type": "stream",
     "text": [
      "Iteration: 22 Start Value [0.43897735] action [2]\n"
     ]
    },
    {
     "name": "stderr",
     "output_type": "stream",
     "text": [
      "\r",
      " 80%|████████  | 24/30 [51:18<13:31, 135.31s/it]"
     ]
    },
    {
     "name": "stdout",
     "output_type": "stream",
     "text": [
      "Iteration: 23 Start Value [0.43908662] action [2]\n"
     ]
    },
    {
     "name": "stderr",
     "output_type": "stream",
     "text": [
      "\r",
      " 83%|████████▎ | 25/30 [53:39<11:25, 137.11s/it]"
     ]
    },
    {
     "name": "stdout",
     "output_type": "stream",
     "text": [
      "Iteration: 24 Start Value [0.43902705] action [2]\n"
     ]
    },
    {
     "name": "stderr",
     "output_type": "stream",
     "text": [
      "\r",
      " 87%|████████▋ | 26/30 [55:55<09:06, 136.66s/it]"
     ]
    },
    {
     "name": "stdout",
     "output_type": "stream",
     "text": [
      "Iteration: 25 Start Value [0.43899039] action [2]\n"
     ]
    },
    {
     "name": "stderr",
     "output_type": "stream",
     "text": [
      "\r",
      " 90%|█████████ | 27/30 [58:08<06:46, 135.43s/it]"
     ]
    },
    {
     "name": "stdout",
     "output_type": "stream",
     "text": [
      "Iteration: 26 Start Value [0.43901014] action [2]\n"
     ]
    },
    {
     "name": "stderr",
     "output_type": "stream",
     "text": [
      "\r",
      " 93%|█████████▎| 28/30 [1:00:18<04:27, 133.89s/it]"
     ]
    },
    {
     "name": "stdout",
     "output_type": "stream",
     "text": [
      "Iteration: 27 Start Value [0.4390123] action [2]\n"
     ]
    },
    {
     "name": "stderr",
     "output_type": "stream",
     "text": [
      "\r",
      " 97%|█████████▋| 29/30 [1:02:34<02:14, 134.45s/it]"
     ]
    },
    {
     "name": "stdout",
     "output_type": "stream",
     "text": [
      "Iteration: 28 Start Value [0.43898915] action [2]\n"
     ]
    },
    {
     "name": "stderr",
     "output_type": "stream",
     "text": [
      "100%|██████████| 30/30 [1:04:48<00:00, 129.62s/it]"
     ]
    },
    {
     "name": "stdout",
     "output_type": "stream",
     "text": [
      "Iteration: 29 Start Value [0.43901484] action [2]\n",
      "N= 200  completed\n",
      "Set  8 completed\n"
     ]
    },
    {
     "name": "stderr",
     "output_type": "stream",
     "text": [
      "\n"
     ]
    },
    {
     "name": "stdout",
     "output_type": "stream",
     "text": [
      "     ID  TIME  FEATURE_0  FEATURE_1 ACTION  RISK  OG_CLUSTER  \\\n",
      "0     0     0   0.152394  -0.427155      2 -0.04           0   \n",
      "1     0     1   1.792621  -0.753618      1 -0.04           1   \n",
      "2     0     2   1.108150  -1.925765      0 -0.04           6   \n",
      "3     0     3   1.394554  -0.154035      2 -0.04           1   \n",
      "4     0     4   2.083171  -0.777025      3 -0.04           2   \n",
      "..   ..   ...        ...        ...    ...   ...         ...   \n",
      "226   9    13   3.042977  -1.898480      2 -0.04           8   \n",
      "227   9    14   4.737913  -1.829645      1 -0.04           9   \n",
      "228   9    15   4.590306  -2.270812      1 -0.04          14   \n",
      "229   9    16   4.751580  -3.913464      1 -0.04          19   \n",
      "230   9    17   4.762890  -4.411140   None  1.00          24   \n",
      "\n",
      "                                          x_t2  \\\n",
      "0    [1.7926213048954307, -0.7536184009973239]   \n",
      "1     [1.1081495190040518, -1.925764663270084]   \n",
      "2    [1.394553850314439, -0.15403490110110885]   \n",
      "3    [2.0831710494234117, -0.7770249291097993]   \n",
      "4    [1.7173338295807712, -0.5154491033931015]   \n",
      "..                                         ...   \n",
      "226   [4.737913322289106, -1.8296451930315965]   \n",
      "227    [4.590305916685047, -2.270811613080268]   \n",
      "228  [4.7515798721433535, -3.9134643660731903]   \n",
      "229    [4.762889769472223, -4.411140271040551]   \n",
      "230                                         []   \n",
      "\n",
      "                                               a0  \\\n",
      "0    [1.7926213048954307, -0.7536184009973239, 0]   \n",
      "1     [1.1081495190040518, -1.925764663270084, 0]   \n",
      "2    [1.394553850314439, -0.15403490110110885, 0]   \n",
      "3    [2.0831710494234117, -0.7770249291097993, 0]   \n",
      "4    [1.7173338295807712, -0.5154491033931015, 0]   \n",
      "..                                            ...   \n",
      "226   [4.737913322289106, -1.8296451930315965, 0]   \n",
      "227    [4.590305916685047, -2.270811613080268, 0]   \n",
      "228  [4.7515798721433535, -3.9134643660731903, 0]   \n",
      "229    [4.762889769472223, -4.411140271040551, 0]   \n",
      "230                                           [0]   \n",
      "\n",
      "                                               a1  \\\n",
      "0    [1.7926213048954307, -0.7536184009973239, 1]   \n",
      "1     [1.1081495190040518, -1.925764663270084, 1]   \n",
      "2    [1.394553850314439, -0.15403490110110885, 1]   \n",
      "3    [2.0831710494234117, -0.7770249291097993, 1]   \n",
      "4    [1.7173338295807712, -0.5154491033931015, 1]   \n",
      "..                                            ...   \n",
      "226   [4.737913322289106, -1.8296451930315965, 1]   \n",
      "227    [4.590305916685047, -2.270811613080268, 1]   \n",
      "228  [4.7515798721433535, -3.9134643660731903, 1]   \n",
      "229    [4.762889769472223, -4.411140271040551, 1]   \n",
      "230                                           [1]   \n",
      "\n",
      "                                               a2  \\\n",
      "0    [1.7926213048954307, -0.7536184009973239, 2]   \n",
      "1     [1.1081495190040518, -1.925764663270084, 2]   \n",
      "2    [1.394553850314439, -0.15403490110110885, 2]   \n",
      "3    [2.0831710494234117, -0.7770249291097993, 2]   \n",
      "4    [1.7173338295807712, -0.5154491033931015, 2]   \n",
      "..                                            ...   \n",
      "226   [4.737913322289106, -1.8296451930315965, 2]   \n",
      "227    [4.590305916685047, -2.270811613080268, 2]   \n",
      "228  [4.7515798721433535, -3.9134643660731903, 2]   \n",
      "229    [4.762889769472223, -4.411140271040551, 2]   \n",
      "230                                           [2]   \n",
      "\n",
      "                                               a3  \n",
      "0    [1.7926213048954307, -0.7536184009973239, 3]  \n",
      "1     [1.1081495190040518, -1.925764663270084, 3]  \n",
      "2    [1.394553850314439, -0.15403490110110885, 3]  \n",
      "3    [2.0831710494234117, -0.7770249291097993, 3]  \n",
      "4    [1.7173338295807712, -0.5154491033931015, 3]  \n",
      "..                                            ...  \n",
      "226   [4.737913322289106, -1.8296451930315965, 3]  \n",
      "227    [4.590305916685047, -2.270811613080268, 3]  \n",
      "228  [4.7515798721433535, -3.9134643660731903, 3]  \n",
      "229    [4.762889769472223, -4.411140271040551, 3]  \n",
      "230                                           [3]  \n",
      "\n",
      "[230 rows x 12 columns]\n",
      "New training features\n",
      "     FEATURE_0  FEATURE_1 ACTION\n",
      "0     0.152394  -0.427155      2\n",
      "1     1.792621  -0.753618      1\n",
      "2     1.108150  -1.925765      0\n",
      "3     1.394554  -0.154035      2\n",
      "4     2.083171  -0.777025      3\n",
      "..         ...        ...    ...\n",
      "226   3.042977  -1.898480      2\n",
      "227   4.737913  -1.829645      1\n",
      "228   4.590306  -2.270812      1\n",
      "229   4.751580  -3.913464      1\n",
      "230   4.762890  -4.411140      0\n",
      "\n",
      "[230 rows x 3 columns]\n"
     ]
    },
    {
     "name": "stderr",
     "output_type": "stream",
     "text": [
      "  3%|▎         | 1/30 [00:00<00:09,  3.01it/s]"
     ]
    },
    {
     "name": "stdout",
     "output_type": "stream",
     "text": [
      "Iteration: 0 Start Value [-0.08] action [0]\n"
     ]
    },
    {
     "name": "stderr",
     "output_type": "stream",
     "text": [
      "\r",
      "  7%|▋         | 2/30 [00:09<01:24,  3.03s/it]"
     ]
    },
    {
     "name": "stdout",
     "output_type": "stream",
     "text": [
      "Iteration: 1 Start Value [-0.12] action [0]\n"
     ]
    },
    {
     "name": "stderr",
     "output_type": "stream",
     "text": [
      "\r",
      " 10%|█         | 3/30 [00:16<01:55,  4.28s/it]"
     ]
    },
    {
     "name": "stdout",
     "output_type": "stream",
     "text": [
      "Iteration: 2 Start Value [-0.15996406] action [2]\n"
     ]
    },
    {
     "name": "stderr",
     "output_type": "stream",
     "text": [
      "\r",
      " 13%|█▎        | 4/30 [00:23<02:12,  5.10s/it]"
     ]
    },
    {
     "name": "stdout",
     "output_type": "stream",
     "text": [
      "Iteration: 3 Start Value [-0.19976691] action [2]\n"
     ]
    },
    {
     "name": "stderr",
     "output_type": "stream",
     "text": [
      "\r",
      " 17%|█▋        | 5/30 [00:30<02:17,  5.51s/it]"
     ]
    },
    {
     "name": "stdout",
     "output_type": "stream",
     "text": [
      "Iteration: 4 Start Value [-0.23971988] action [0]\n"
     ]
    },
    {
     "name": "stderr",
     "output_type": "stream",
     "text": [
      "\r",
      " 20%|██        | 6/30 [00:36<02:18,  5.79s/it]"
     ]
    },
    {
     "name": "stdout",
     "output_type": "stream",
     "text": [
      "Iteration: 5 Start Value [-0.27970564] action [0]\n"
     ]
    },
    {
     "name": "stderr",
     "output_type": "stream",
     "text": [
      "\r",
      " 23%|██▎       | 7/30 [00:43<02:18,  6.04s/it]"
     ]
    },
    {
     "name": "stdout",
     "output_type": "stream",
     "text": [
      "Iteration: 6 Start Value [-0.31968079] action [0]\n"
     ]
    },
    {
     "name": "stderr",
     "output_type": "stream",
     "text": [
      "\r",
      " 27%|██▋       | 8/30 [00:50<02:17,  6.25s/it]"
     ]
    },
    {
     "name": "stdout",
     "output_type": "stream",
     "text": [
      "Iteration: 7 Start Value [-0.35961408] action [0]\n"
     ]
    },
    {
     "name": "stderr",
     "output_type": "stream",
     "text": [
      "\r",
      " 30%|███       | 9/30 [00:56<02:13,  6.36s/it]"
     ]
    },
    {
     "name": "stdout",
     "output_type": "stream",
     "text": [
      "Iteration: 8 Start Value [-0.39953639] action [0]\n"
     ]
    },
    {
     "name": "stderr",
     "output_type": "stream",
     "text": [
      "\r",
      " 33%|███▎      | 10/30 [01:04<02:15,  6.75s/it]"
     ]
    },
    {
     "name": "stdout",
     "output_type": "stream",
     "text": [
      "Iteration: 9 Start Value [-0.43712653] action [1]\n"
     ]
    },
    {
     "name": "stderr",
     "output_type": "stream",
     "text": [
      "\r",
      " 37%|███▋      | 11/30 [01:11<02:11,  6.90s/it]"
     ]
    },
    {
     "name": "stdout",
     "output_type": "stream",
     "text": [
      "Iteration: 10 Start Value [-0.47083565] action [1]\n"
     ]
    },
    {
     "name": "stderr",
     "output_type": "stream",
     "text": [
      "\r",
      " 40%|████      | 12/30 [01:18<02:04,  6.94s/it]"
     ]
    },
    {
     "name": "stdout",
     "output_type": "stream",
     "text": [
      "Iteration: 11 Start Value [-0.47691347] action [1]\n"
     ]
    },
    {
     "name": "stderr",
     "output_type": "stream",
     "text": [
      "\r",
      " 43%|████▎     | 13/30 [01:25<01:58,  7.00s/it]"
     ]
    },
    {
     "name": "stdout",
     "output_type": "stream",
     "text": [
      "Iteration: 12 Start Value [-0.46539292] action [2]\n"
     ]
    },
    {
     "name": "stderr",
     "output_type": "stream",
     "text": [
      "\r",
      " 47%|████▋     | 14/30 [01:32<01:52,  7.01s/it]"
     ]
    },
    {
     "name": "stdout",
     "output_type": "stream",
     "text": [
      "Iteration: 13 Start Value [-0.32885221] action [2]\n"
     ]
    },
    {
     "name": "stderr",
     "output_type": "stream",
     "text": [
      "\r",
      " 50%|█████     | 15/30 [01:39<01:43,  6.91s/it]"
     ]
    },
    {
     "name": "stdout",
     "output_type": "stream",
     "text": [
      "Iteration: 14 Start Value [-0.12552439] action [2]\n"
     ]
    },
    {
     "name": "stderr",
     "output_type": "stream",
     "text": [
      "\r",
      " 53%|█████▎    | 16/30 [01:46<01:35,  6.79s/it]"
     ]
    },
    {
     "name": "stdout",
     "output_type": "stream",
     "text": [
      "Iteration: 15 Start Value [0.03634639] action [2]\n"
     ]
    },
    {
     "name": "stderr",
     "output_type": "stream",
     "text": [
      "\r",
      " 57%|█████▋    | 17/30 [01:52<01:28,  6.79s/it]"
     ]
    },
    {
     "name": "stdout",
     "output_type": "stream",
     "text": [
      "Iteration: 16 Start Value [0.17721793] action [2]\n"
     ]
    },
    {
     "name": "stderr",
     "output_type": "stream",
     "text": [
      "\r",
      " 60%|██████    | 18/30 [01:59<01:22,  6.85s/it]"
     ]
    },
    {
     "name": "stdout",
     "output_type": "stream",
     "text": [
      "Iteration: 17 Start Value [0.24364952] action [2]\n"
     ]
    },
    {
     "name": "stderr",
     "output_type": "stream",
     "text": [
      "\r",
      " 63%|██████▎   | 19/30 [02:07<01:18,  7.13s/it]"
     ]
    },
    {
     "name": "stdout",
     "output_type": "stream",
     "text": [
      "Iteration: 18 Start Value [0.30110461] action [2]\n"
     ]
    },
    {
     "name": "stderr",
     "output_type": "stream",
     "text": [
      "\r",
      " 67%|██████▋   | 20/30 [02:14<01:11,  7.14s/it]"
     ]
    },
    {
     "name": "stdout",
     "output_type": "stream",
     "text": [
      "Iteration: 19 Start Value [0.32412776] action [2]\n"
     ]
    },
    {
     "name": "stderr",
     "output_type": "stream",
     "text": [
      "\r",
      " 70%|███████   | 21/30 [02:22<01:06,  7.38s/it]"
     ]
    },
    {
     "name": "stdout",
     "output_type": "stream",
     "text": [
      "Iteration: 20 Start Value [0.34191636] action [2]\n"
     ]
    },
    {
     "name": "stderr",
     "output_type": "stream",
     "text": [
      "\r",
      " 73%|███████▎  | 22/30 [02:31<01:02,  7.81s/it]"
     ]
    },
    {
     "name": "stdout",
     "output_type": "stream",
     "text": [
      "Iteration: 21 Start Value [0.34793599] action [2]\n"
     ]
    },
    {
     "name": "stderr",
     "output_type": "stream",
     "text": [
      "\r",
      " 77%|███████▋  | 23/30 [02:38<00:52,  7.43s/it]"
     ]
    },
    {
     "name": "stdout",
     "output_type": "stream",
     "text": [
      "Iteration: 22 Start Value [0.35954602] action [2]\n"
     ]
    },
    {
     "name": "stderr",
     "output_type": "stream",
     "text": [
      "\r",
      " 80%|████████  | 24/30 [02:44<00:43,  7.18s/it]"
     ]
    },
    {
     "name": "stdout",
     "output_type": "stream",
     "text": [
      "Iteration: 23 Start Value [0.3663295] action [2]\n"
     ]
    },
    {
     "name": "stderr",
     "output_type": "stream",
     "text": [
      "\r",
      " 83%|████████▎ | 25/30 [02:50<00:34,  6.93s/it]"
     ]
    },
    {
     "name": "stdout",
     "output_type": "stream",
     "text": [
      "Iteration: 24 Start Value [0.37177245] action [2]\n"
     ]
    },
    {
     "name": "stderr",
     "output_type": "stream",
     "text": [
      "\r",
      " 87%|████████▋ | 26/30 [02:58<00:28,  7.01s/it]"
     ]
    },
    {
     "name": "stdout",
     "output_type": "stream",
     "text": [
      "Iteration: 25 Start Value [0.37577385] action [2]\n"
     ]
    },
    {
     "name": "stderr",
     "output_type": "stream",
     "text": [
      "\r",
      " 90%|█████████ | 27/30 [03:04<00:20,  6.91s/it]"
     ]
    },
    {
     "name": "stdout",
     "output_type": "stream",
     "text": [
      "Iteration: 26 Start Value [0.37438359] action [2]\n"
     ]
    },
    {
     "name": "stderr",
     "output_type": "stream",
     "text": [
      "\r",
      " 93%|█████████▎| 28/30 [03:11<00:13,  6.89s/it]"
     ]
    },
    {
     "name": "stdout",
     "output_type": "stream",
     "text": [
      "Iteration: 27 Start Value [0.37813492] action [2]\n"
     ]
    },
    {
     "name": "stderr",
     "output_type": "stream",
     "text": [
      "\r",
      " 97%|█████████▋| 29/30 [03:18<00:06,  6.89s/it]"
     ]
    },
    {
     "name": "stdout",
     "output_type": "stream",
     "text": [
      "Iteration: 28 Start Value [0.3811312] action [2]\n"
     ]
    },
    {
     "name": "stderr",
     "output_type": "stream",
     "text": [
      "100%|██████████| 30/30 [03:26<00:00,  6.88s/it]"
     ]
    },
    {
     "name": "stdout",
     "output_type": "stream",
     "text": [
      "Iteration: 29 Start Value [0.38227642] action [2]\n",
      "N= 10  completed\n"
     ]
    },
    {
     "name": "stderr",
     "output_type": "stream",
     "text": [
      "\n"
     ]
    },
    {
     "name": "stdout",
     "output_type": "stream",
     "text": [
      "     ID  TIME  FEATURE_0  FEATURE_1 ACTION  RISK  OG_CLUSTER  \\\n",
      "0     0     0   0.152394  -0.427155      2 -0.04           0   \n",
      "1     0     1   1.792621  -0.753618      1 -0.04           1   \n",
      "2     0     2   1.108150  -1.925765      0 -0.04           6   \n",
      "3     0     3   1.394554  -0.154035      2 -0.04           1   \n",
      "4     0     4   2.083171  -0.777025      3 -0.04           2   \n",
      "..   ..   ...        ...        ...    ...   ...         ...   \n",
      "455  19    14   4.494750  -2.427680      0 -0.04          14   \n",
      "456  19    15   4.085716  -1.693066      1 -0.04           9   \n",
      "457  19    16   4.560942  -2.875638      1 -0.04          14   \n",
      "458  19    17   4.795072  -3.393150      1 -0.04          19   \n",
      "459  19    18   4.145376  -4.587813   None  1.00          24   \n",
      "\n",
      "                                          x_t2  \\\n",
      "0    [1.7926213048954307, -0.7536184009973239]   \n",
      "1     [1.1081495190040518, -1.925764663270084]   \n",
      "2    [1.394553850314439, -0.15403490110110885]   \n",
      "3    [2.0831710494234117, -0.7770249291097993]   \n",
      "4    [1.7173338295807712, -0.5154491033931015]   \n",
      "..                                         ...   \n",
      "455   [4.085715804896116, -1.6930662682818118]   \n",
      "456      [4.560942396919802, -2.8756379786281]   \n",
      "457       [4.7950721920956765, -3.39314976759]   \n",
      "458    [4.145376385652961, -4.587813197183472]   \n",
      "459                                         []   \n",
      "\n",
      "                                               a0  \\\n",
      "0    [1.7926213048954307, -0.7536184009973239, 0]   \n",
      "1     [1.1081495190040518, -1.925764663270084, 0]   \n",
      "2    [1.394553850314439, -0.15403490110110885, 0]   \n",
      "3    [2.0831710494234117, -0.7770249291097993, 0]   \n",
      "4    [1.7173338295807712, -0.5154491033931015, 0]   \n",
      "..                                            ...   \n",
      "455   [4.085715804896116, -1.6930662682818118, 0]   \n",
      "456      [4.560942396919802, -2.8756379786281, 0]   \n",
      "457       [4.7950721920956765, -3.39314976759, 0]   \n",
      "458    [4.145376385652961, -4.587813197183472, 0]   \n",
      "459                                           [0]   \n",
      "\n",
      "                                               a1  \\\n",
      "0    [1.7926213048954307, -0.7536184009973239, 1]   \n",
      "1     [1.1081495190040518, -1.925764663270084, 1]   \n",
      "2    [1.394553850314439, -0.15403490110110885, 1]   \n",
      "3    [2.0831710494234117, -0.7770249291097993, 1]   \n",
      "4    [1.7173338295807712, -0.5154491033931015, 1]   \n",
      "..                                            ...   \n",
      "455   [4.085715804896116, -1.6930662682818118, 1]   \n",
      "456      [4.560942396919802, -2.8756379786281, 1]   \n",
      "457       [4.7950721920956765, -3.39314976759, 1]   \n",
      "458    [4.145376385652961, -4.587813197183472, 1]   \n",
      "459                                           [1]   \n",
      "\n",
      "                                               a2  \\\n",
      "0    [1.7926213048954307, -0.7536184009973239, 2]   \n",
      "1     [1.1081495190040518, -1.925764663270084, 2]   \n",
      "2    [1.394553850314439, -0.15403490110110885, 2]   \n",
      "3    [2.0831710494234117, -0.7770249291097993, 2]   \n",
      "4    [1.7173338295807712, -0.5154491033931015, 2]   \n",
      "..                                            ...   \n",
      "455   [4.085715804896116, -1.6930662682818118, 2]   \n",
      "456      [4.560942396919802, -2.8756379786281, 2]   \n",
      "457       [4.7950721920956765, -3.39314976759, 2]   \n",
      "458    [4.145376385652961, -4.587813197183472, 2]   \n",
      "459                                           [2]   \n",
      "\n",
      "                                               a3  \n",
      "0    [1.7926213048954307, -0.7536184009973239, 3]  \n",
      "1     [1.1081495190040518, -1.925764663270084, 3]  \n",
      "2    [1.394553850314439, -0.15403490110110885, 3]  \n",
      "3    [2.0831710494234117, -0.7770249291097993, 3]  \n",
      "4    [1.7173338295807712, -0.5154491033931015, 3]  \n",
      "..                                            ...  \n",
      "455   [4.085715804896116, -1.6930662682818118, 3]  \n",
      "456      [4.560942396919802, -2.8756379786281, 3]  \n",
      "457       [4.7950721920956765, -3.39314976759, 3]  \n",
      "458    [4.145376385652961, -4.587813197183472, 3]  \n",
      "459                                           [3]  \n",
      "\n",
      "[455 rows x 12 columns]\n",
      "New training features\n",
      "     FEATURE_0  FEATURE_1 ACTION\n",
      "0     0.152394  -0.427155      2\n",
      "1     1.792621  -0.753618      1\n",
      "2     1.108150  -1.925765      0\n",
      "3     1.394554  -0.154035      2\n",
      "4     2.083171  -0.777025      3\n",
      "..         ...        ...    ...\n",
      "455   4.494750  -2.427680      0\n",
      "456   4.085716  -1.693066      1\n",
      "457   4.560942  -2.875638      1\n",
      "458   4.795072  -3.393150      1\n",
      "459   4.145376  -4.587813      0\n",
      "\n",
      "[455 rows x 3 columns]\n"
     ]
    },
    {
     "name": "stderr",
     "output_type": "stream",
     "text": [
      "  3%|▎         | 1/30 [00:00<00:10,  2.66it/s]"
     ]
    },
    {
     "name": "stdout",
     "output_type": "stream",
     "text": [
      "Iteration: 0 Start Value [-0.08] action [0]\n"
     ]
    },
    {
     "name": "stderr",
     "output_type": "stream",
     "text": [
      "\r",
      "  7%|▋         | 2/30 [00:15<02:12,  4.72s/it]"
     ]
    },
    {
     "name": "stdout",
     "output_type": "stream",
     "text": [
      "Iteration: 1 Start Value [-0.12] action [0]\n"
     ]
    },
    {
     "name": "stderr",
     "output_type": "stream",
     "text": [
      "\r",
      " 10%|█         | 3/30 [00:27<03:09,  7.03s/it]"
     ]
    },
    {
     "name": "stdout",
     "output_type": "stream",
     "text": [
      "Iteration: 2 Start Value [-0.15999985] action [0]\n"
     ]
    },
    {
     "name": "stderr",
     "output_type": "stream",
     "text": [
      "\r",
      " 13%|█▎        | 4/30 [00:40<03:45,  8.67s/it]"
     ]
    },
    {
     "name": "stdout",
     "output_type": "stream",
     "text": [
      "Iteration: 3 Start Value [-0.1999837] action [2]\n"
     ]
    },
    {
     "name": "stderr",
     "output_type": "stream",
     "text": [
      "\r",
      " 17%|█▋        | 5/30 [00:52<04:05,  9.83s/it]"
     ]
    },
    {
     "name": "stdout",
     "output_type": "stream",
     "text": [
      "Iteration: 4 Start Value [-0.2399791] action [0]\n"
     ]
    },
    {
     "name": "stderr",
     "output_type": "stream",
     "text": [
      "\r",
      " 20%|██        | 6/30 [01:06<04:27, 11.14s/it]"
     ]
    },
    {
     "name": "stdout",
     "output_type": "stream",
     "text": [
      "Iteration: 5 Start Value [-0.27996289] action [0]\n"
     ]
    },
    {
     "name": "stderr",
     "output_type": "stream",
     "text": [
      "\r",
      " 23%|██▎       | 7/30 [01:20<04:33, 11.91s/it]"
     ]
    },
    {
     "name": "stdout",
     "output_type": "stream",
     "text": [
      "Iteration: 6 Start Value [-0.31993849] action [0]\n"
     ]
    },
    {
     "name": "stderr",
     "output_type": "stream",
     "text": [
      "\r",
      " 27%|██▋       | 8/30 [01:34<04:32, 12.38s/it]"
     ]
    },
    {
     "name": "stdout",
     "output_type": "stream",
     "text": [
      "Iteration: 7 Start Value [-0.35988565] action [0]\n"
     ]
    },
    {
     "name": "stderr",
     "output_type": "stream",
     "text": [
      "\r",
      " 30%|███       | 9/30 [01:47<04:24, 12.61s/it]"
     ]
    },
    {
     "name": "stdout",
     "output_type": "stream",
     "text": [
      "Iteration: 8 Start Value [-0.39986721] action [0]\n"
     ]
    },
    {
     "name": "stderr",
     "output_type": "stream",
     "text": [
      "\r",
      " 33%|███▎      | 10/30 [02:00<04:14, 12.72s/it]"
     ]
    },
    {
     "name": "stdout",
     "output_type": "stream",
     "text": [
      "Iteration: 9 Start Value [-0.43967388] action [1]\n"
     ]
    },
    {
     "name": "stderr",
     "output_type": "stream",
     "text": [
      "\r",
      " 37%|███▋      | 11/30 [02:14<04:10, 13.16s/it]"
     ]
    },
    {
     "name": "stdout",
     "output_type": "stream",
     "text": [
      "Iteration: 10 Start Value [-0.46887657] action [2]\n"
     ]
    },
    {
     "name": "stderr",
     "output_type": "stream",
     "text": [
      "\r",
      " 40%|████      | 12/30 [02:27<03:56, 13.15s/it]"
     ]
    },
    {
     "name": "stdout",
     "output_type": "stream",
     "text": [
      "Iteration: 11 Start Value [-0.46979329] action [1]\n"
     ]
    },
    {
     "name": "stderr",
     "output_type": "stream",
     "text": [
      "\r",
      " 43%|████▎     | 13/30 [02:40<03:42, 13.09s/it]"
     ]
    },
    {
     "name": "stdout",
     "output_type": "stream",
     "text": [
      "Iteration: 12 Start Value [-0.24323366] action [2]\n"
     ]
    },
    {
     "name": "stderr",
     "output_type": "stream",
     "text": [
      "\r",
      " 47%|████▋     | 14/30 [02:53<03:29, 13.07s/it]"
     ]
    },
    {
     "name": "stdout",
     "output_type": "stream",
     "text": [
      "Iteration: 13 Start Value [-0.07447435] action [2]\n"
     ]
    },
    {
     "name": "stderr",
     "output_type": "stream",
     "text": [
      "\r",
      " 50%|█████     | 15/30 [03:07<03:20, 13.36s/it]"
     ]
    },
    {
     "name": "stdout",
     "output_type": "stream",
     "text": [
      "Iteration: 14 Start Value [0.13947218] action [2]\n"
     ]
    },
    {
     "name": "stderr",
     "output_type": "stream",
     "text": [
      "\r",
      " 53%|█████▎    | 16/30 [03:20<03:06, 13.35s/it]"
     ]
    },
    {
     "name": "stdout",
     "output_type": "stream",
     "text": [
      "Iteration: 15 Start Value [0.27461399] action [2]\n"
     ]
    },
    {
     "name": "stderr",
     "output_type": "stream",
     "text": [
      "\r",
      " 57%|█████▋    | 17/30 [03:33<02:52, 13.25s/it]"
     ]
    },
    {
     "name": "stdout",
     "output_type": "stream",
     "text": [
      "Iteration: 16 Start Value [0.35045256] action [2]\n"
     ]
    },
    {
     "name": "stderr",
     "output_type": "stream",
     "text": [
      "\r",
      " 60%|██████    | 18/30 [03:46<02:38, 13.20s/it]"
     ]
    },
    {
     "name": "stdout",
     "output_type": "stream",
     "text": [
      "Iteration: 17 Start Value [0.39262781] action [2]\n"
     ]
    },
    {
     "name": "stderr",
     "output_type": "stream",
     "text": [
      "\r",
      " 63%|██████▎   | 19/30 [04:00<02:25, 13.26s/it]"
     ]
    },
    {
     "name": "stdout",
     "output_type": "stream",
     "text": [
      "Iteration: 18 Start Value [0.40975125] action [2]\n"
     ]
    },
    {
     "name": "stderr",
     "output_type": "stream",
     "text": [
      "\r",
      " 67%|██████▋   | 20/30 [04:15<02:18, 13.82s/it]"
     ]
    },
    {
     "name": "stdout",
     "output_type": "stream",
     "text": [
      "Iteration: 19 Start Value [0.40769992] action [2]\n"
     ]
    },
    {
     "name": "stderr",
     "output_type": "stream",
     "text": [
      "\r",
      " 70%|███████   | 21/30 [04:29<02:04, 13.86s/it]"
     ]
    },
    {
     "name": "stdout",
     "output_type": "stream",
     "text": [
      "Iteration: 20 Start Value [0.41053678] action [2]\n"
     ]
    },
    {
     "name": "stderr",
     "output_type": "stream",
     "text": [
      "\r",
      " 73%|███████▎  | 22/30 [04:42<01:49, 13.68s/it]"
     ]
    },
    {
     "name": "stdout",
     "output_type": "stream",
     "text": [
      "Iteration: 21 Start Value [0.41097082] action [2]\n"
     ]
    },
    {
     "name": "stderr",
     "output_type": "stream",
     "text": [
      "\r",
      " 77%|███████▋  | 23/30 [04:57<01:37, 13.92s/it]"
     ]
    },
    {
     "name": "stdout",
     "output_type": "stream",
     "text": [
      "Iteration: 22 Start Value [0.41371568] action [2]\n"
     ]
    },
    {
     "name": "stderr",
     "output_type": "stream",
     "text": [
      "\r",
      " 80%|████████  | 24/30 [05:10<01:23, 13.86s/it]"
     ]
    },
    {
     "name": "stdout",
     "output_type": "stream",
     "text": [
      "Iteration: 23 Start Value [0.41341748] action [2]\n"
     ]
    },
    {
     "name": "stderr",
     "output_type": "stream",
     "text": [
      "\r",
      " 83%|████████▎ | 25/30 [05:24<01:08, 13.68s/it]"
     ]
    },
    {
     "name": "stdout",
     "output_type": "stream",
     "text": [
      "Iteration: 24 Start Value [0.41443849] action [2]\n"
     ]
    },
    {
     "name": "stderr",
     "output_type": "stream",
     "text": [
      "\r",
      " 87%|████████▋ | 26/30 [05:39<00:56, 14.19s/it]"
     ]
    },
    {
     "name": "stdout",
     "output_type": "stream",
     "text": [
      "Iteration: 25 Start Value [0.41514938] action [2]\n"
     ]
    },
    {
     "name": "stderr",
     "output_type": "stream",
     "text": [
      "\r",
      " 90%|█████████ | 27/30 [05:52<00:41, 13.87s/it]"
     ]
    },
    {
     "name": "stdout",
     "output_type": "stream",
     "text": [
      "Iteration: 26 Start Value [0.41506218] action [2]\n"
     ]
    },
    {
     "name": "stderr",
     "output_type": "stream",
     "text": [
      "\r",
      " 93%|█████████▎| 28/30 [06:06<00:27, 13.78s/it]"
     ]
    },
    {
     "name": "stdout",
     "output_type": "stream",
     "text": [
      "Iteration: 27 Start Value [0.41358173] action [2]\n"
     ]
    },
    {
     "name": "stderr",
     "output_type": "stream",
     "text": [
      "\r",
      " 97%|█████████▋| 29/30 [06:20<00:13, 13.88s/it]"
     ]
    },
    {
     "name": "stdout",
     "output_type": "stream",
     "text": [
      "Iteration: 28 Start Value [0.41348431] action [2]\n"
     ]
    },
    {
     "name": "stderr",
     "output_type": "stream",
     "text": [
      "100%|██████████| 30/30 [06:35<00:00, 13.19s/it]"
     ]
    },
    {
     "name": "stdout",
     "output_type": "stream",
     "text": [
      "Iteration: 29 Start Value [0.4145459] action [2]\n",
      "N= 20  completed\n"
     ]
    },
    {
     "name": "stderr",
     "output_type": "stream",
     "text": [
      "\n"
     ]
    },
    {
     "name": "stdout",
     "output_type": "stream",
     "text": [
      "     ID  TIME  FEATURE_0  FEATURE_1 ACTION  RISK  OG_CLUSTER  \\\n",
      "0     0     0   0.152394  -0.427155      2 -0.04           0   \n",
      "1     0     1   1.792621  -0.753618      1 -0.04           1   \n",
      "2     0     2   1.108150  -1.925765      0 -0.04           6   \n",
      "3     0     3   1.394554  -0.154035      2 -0.04           1   \n",
      "4     0     4   2.083171  -0.777025      3 -0.04           2   \n",
      "..   ..   ...        ...        ...    ...   ...         ...   \n",
      "686  29    19   3.581723  -3.456535      0 -0.04          18   \n",
      "687  29    20   3.593406  -2.052029      1 -0.04          13   \n",
      "688  29    21   3.803829  -3.831226      3 -0.04          18   \n",
      "689  29    22   3.925796  -3.124363      0 -0.04          18   \n",
      "690  29    23   3.239065  -2.065148      0 -0.04          13   \n",
      "\n",
      "                                          x_t2  \\\n",
      "0    [1.7926213048954307, -0.7536184009973239]   \n",
      "1     [1.1081495190040518, -1.925764663270084]   \n",
      "2    [1.394553850314439, -0.15403490110110885]   \n",
      "3    [2.0831710494234117, -0.7770249291097993]   \n",
      "4    [1.7173338295807712, -0.5154491033931015]   \n",
      "..                                         ...   \n",
      "686  [3.5934062642183435, -2.0520286763574864]   \n",
      "687  [3.8038287989849935, -3.8312257481781726]   \n",
      "688  [3.9257960552049984, -3.1243633071316315]   \n",
      "689  [3.2390645551370785, -2.0651482633804497]   \n",
      "690   [3.260259097151278, -1.8131673007016649]   \n",
      "\n",
      "                                               a0  \\\n",
      "0    [1.7926213048954307, -0.7536184009973239, 0]   \n",
      "1     [1.1081495190040518, -1.925764663270084, 0]   \n",
      "2    [1.394553850314439, -0.15403490110110885, 0]   \n",
      "3    [2.0831710494234117, -0.7770249291097993, 0]   \n",
      "4    [1.7173338295807712, -0.5154491033931015, 0]   \n",
      "..                                            ...   \n",
      "686  [3.5934062642183435, -2.0520286763574864, 0]   \n",
      "687  [3.8038287989849935, -3.8312257481781726, 0]   \n",
      "688  [3.9257960552049984, -3.1243633071316315, 0]   \n",
      "689  [3.2390645551370785, -2.0651482633804497, 0]   \n",
      "690   [3.260259097151278, -1.8131673007016649, 0]   \n",
      "\n",
      "                                               a1  \\\n",
      "0    [1.7926213048954307, -0.7536184009973239, 1]   \n",
      "1     [1.1081495190040518, -1.925764663270084, 1]   \n",
      "2    [1.394553850314439, -0.15403490110110885, 1]   \n",
      "3    [2.0831710494234117, -0.7770249291097993, 1]   \n",
      "4    [1.7173338295807712, -0.5154491033931015, 1]   \n",
      "..                                            ...   \n",
      "686  [3.5934062642183435, -2.0520286763574864, 1]   \n",
      "687  [3.8038287989849935, -3.8312257481781726, 1]   \n",
      "688  [3.9257960552049984, -3.1243633071316315, 1]   \n",
      "689  [3.2390645551370785, -2.0651482633804497, 1]   \n",
      "690   [3.260259097151278, -1.8131673007016649, 1]   \n",
      "\n",
      "                                               a2  \\\n",
      "0    [1.7926213048954307, -0.7536184009973239, 2]   \n",
      "1     [1.1081495190040518, -1.925764663270084, 2]   \n",
      "2    [1.394553850314439, -0.15403490110110885, 2]   \n",
      "3    [2.0831710494234117, -0.7770249291097993, 2]   \n",
      "4    [1.7173338295807712, -0.5154491033931015, 2]   \n",
      "..                                            ...   \n",
      "686  [3.5934062642183435, -2.0520286763574864, 2]   \n",
      "687  [3.8038287989849935, -3.8312257481781726, 2]   \n",
      "688  [3.9257960552049984, -3.1243633071316315, 2]   \n",
      "689  [3.2390645551370785, -2.0651482633804497, 2]   \n",
      "690   [3.260259097151278, -1.8131673007016649, 2]   \n",
      "\n",
      "                                               a3  \n",
      "0    [1.7926213048954307, -0.7536184009973239, 3]  \n",
      "1     [1.1081495190040518, -1.925764663270084, 3]  \n",
      "2    [1.394553850314439, -0.15403490110110885, 3]  \n",
      "3    [2.0831710494234117, -0.7770249291097993, 3]  \n",
      "4    [1.7173338295807712, -0.5154491033931015, 3]  \n",
      "..                                            ...  \n",
      "686  [3.5934062642183435, -2.0520286763574864, 3]  \n",
      "687  [3.8038287989849935, -3.8312257481781726, 3]  \n",
      "688  [3.9257960552049984, -3.1243633071316315, 3]  \n",
      "689  [3.2390645551370785, -2.0651482633804497, 3]  \n",
      "690   [3.260259097151278, -1.8131673007016649, 3]  \n",
      "\n",
      "[682 rows x 12 columns]\n",
      "New training features\n",
      "     FEATURE_0  FEATURE_1 ACTION\n",
      "0     0.152394  -0.427155      2\n",
      "1     1.792621  -0.753618      1\n",
      "2     1.108150  -1.925765      0\n",
      "3     1.394554  -0.154035      2\n",
      "4     2.083171  -0.777025      3\n",
      "..         ...        ...    ...\n",
      "686   3.581723  -3.456535      0\n",
      "687   3.593406  -2.052029      1\n",
      "688   3.803829  -3.831226      3\n",
      "689   3.925796  -3.124363      0\n",
      "690   3.239065  -2.065148      0\n",
      "\n",
      "[682 rows x 3 columns]\n"
     ]
    },
    {
     "name": "stderr",
     "output_type": "stream",
     "text": [
      "  3%|▎         | 1/30 [00:00<00:10,  2.77it/s]"
     ]
    },
    {
     "name": "stdout",
     "output_type": "stream",
     "text": [
      "Iteration: 0 Start Value [-0.08] action [0]\n"
     ]
    },
    {
     "name": "stderr",
     "output_type": "stream",
     "text": [
      "\r",
      "  7%|▋         | 2/30 [00:22<03:10,  6.80s/it]"
     ]
    },
    {
     "name": "stdout",
     "output_type": "stream",
     "text": [
      "Iteration: 1 Start Value [-0.12] action [0]\n"
     ]
    },
    {
     "name": "stderr",
     "output_type": "stream",
     "text": [
      "\r",
      " 10%|█         | 3/30 [00:41<04:42, 10.46s/it]"
     ]
    },
    {
     "name": "stdout",
     "output_type": "stream",
     "text": [
      "Iteration: 2 Start Value [-0.15998068] action [0]\n"
     ]
    },
    {
     "name": "stderr",
     "output_type": "stream",
     "text": [
      "\r",
      " 13%|█▎        | 4/30 [01:00<05:37, 12.98s/it]"
     ]
    },
    {
     "name": "stdout",
     "output_type": "stream",
     "text": [
      "Iteration: 3 Start Value [-0.19996394] action [0]\n"
     ]
    },
    {
     "name": "stderr",
     "output_type": "stream",
     "text": [
      "\r",
      " 17%|█▋        | 5/30 [01:21<06:29, 15.57s/it]"
     ]
    },
    {
     "name": "stdout",
     "output_type": "stream",
     "text": [
      "Iteration: 4 Start Value [-0.23995176] action [0]\n"
     ]
    },
    {
     "name": "stderr",
     "output_type": "stream",
     "text": [
      "\r",
      " 20%|██        | 6/30 [01:42<06:53, 17.23s/it]"
     ]
    },
    {
     "name": "stdout",
     "output_type": "stream",
     "text": [
      "Iteration: 5 Start Value [-0.2799367] action [0]\n"
     ]
    },
    {
     "name": "stderr",
     "output_type": "stream",
     "text": [
      "\r",
      " 23%|██▎       | 7/30 [02:03<06:59, 18.22s/it]"
     ]
    },
    {
     "name": "stdout",
     "output_type": "stream",
     "text": [
      "Iteration: 6 Start Value [-0.31989892] action [0]\n"
     ]
    },
    {
     "name": "stderr",
     "output_type": "stream",
     "text": [
      "\r",
      " 27%|██▋       | 8/30 [02:31<07:45, 21.14s/it]"
     ]
    },
    {
     "name": "stdout",
     "output_type": "stream",
     "text": [
      "Iteration: 7 Start Value [-0.35986843] action [0]\n"
     ]
    },
    {
     "name": "stderr",
     "output_type": "stream",
     "text": [
      "\r",
      " 30%|███       | 9/30 [02:52<07:27, 21.30s/it]"
     ]
    },
    {
     "name": "stdout",
     "output_type": "stream",
     "text": [
      "Iteration: 8 Start Value [-0.39984227] action [0]\n"
     ]
    },
    {
     "name": "stderr",
     "output_type": "stream",
     "text": [
      "\r",
      " 33%|███▎      | 10/30 [03:15<07:12, 21.60s/it]"
     ]
    },
    {
     "name": "stdout",
     "output_type": "stream",
     "text": [
      "Iteration: 9 Start Value [-0.43918513] action [1]\n"
     ]
    },
    {
     "name": "stderr",
     "output_type": "stream",
     "text": [
      "\r",
      " 37%|███▋      | 11/30 [03:35<06:43, 21.21s/it]"
     ]
    },
    {
     "name": "stdout",
     "output_type": "stream",
     "text": [
      "Iteration: 10 Start Value [-0.46926068] action [1]\n"
     ]
    },
    {
     "name": "stderr",
     "output_type": "stream",
     "text": [
      "\r",
      " 40%|████      | 12/30 [03:57<06:23, 21.32s/it]"
     ]
    },
    {
     "name": "stdout",
     "output_type": "stream",
     "text": [
      "Iteration: 11 Start Value [-0.43875244] action [1]\n"
     ]
    },
    {
     "name": "stderr",
     "output_type": "stream",
     "text": [
      "\r",
      " 43%|████▎     | 13/30 [04:19<06:07, 21.64s/it]"
     ]
    },
    {
     "name": "stdout",
     "output_type": "stream",
     "text": [
      "Iteration: 12 Start Value [-0.12848404] action [2]\n"
     ]
    },
    {
     "name": "stderr",
     "output_type": "stream",
     "text": [
      "\r",
      " 47%|████▋     | 14/30 [04:42<05:52, 22.05s/it]"
     ]
    },
    {
     "name": "stdout",
     "output_type": "stream",
     "text": [
      "Iteration: 13 Start Value [0.10344562] action [2]\n"
     ]
    },
    {
     "name": "stderr",
     "output_type": "stream",
     "text": [
      "\r",
      " 50%|█████     | 15/30 [05:06<05:40, 22.73s/it]"
     ]
    },
    {
     "name": "stdout",
     "output_type": "stream",
     "text": [
      "Iteration: 14 Start Value [0.27598645] action [2]\n"
     ]
    },
    {
     "name": "stderr",
     "output_type": "stream",
     "text": [
      "\r",
      " 53%|█████▎    | 16/30 [05:27<05:09, 22.14s/it]"
     ]
    },
    {
     "name": "stdout",
     "output_type": "stream",
     "text": [
      "Iteration: 15 Start Value [0.37154828] action [2]\n"
     ]
    },
    {
     "name": "stderr",
     "output_type": "stream",
     "text": [
      "\r",
      " 57%|█████▋    | 17/30 [05:46<04:35, 21.16s/it]"
     ]
    },
    {
     "name": "stdout",
     "output_type": "stream",
     "text": [
      "Iteration: 16 Start Value [0.4145142] action [2]\n"
     ]
    },
    {
     "name": "stderr",
     "output_type": "stream",
     "text": [
      "\r",
      " 60%|██████    | 18/30 [06:07<04:15, 21.27s/it]"
     ]
    },
    {
     "name": "stdout",
     "output_type": "stream",
     "text": [
      "Iteration: 17 Start Value [0.42685255] action [2]\n"
     ]
    },
    {
     "name": "stderr",
     "output_type": "stream",
     "text": [
      "\r",
      " 63%|██████▎   | 19/30 [06:28<03:50, 20.95s/it]"
     ]
    },
    {
     "name": "stdout",
     "output_type": "stream",
     "text": [
      "Iteration: 18 Start Value [0.42958511] action [2]\n"
     ]
    },
    {
     "name": "stderr",
     "output_type": "stream",
     "text": [
      "\r",
      " 67%|██████▋   | 20/30 [06:48<03:28, 20.84s/it]"
     ]
    },
    {
     "name": "stdout",
     "output_type": "stream",
     "text": [
      "Iteration: 19 Start Value [0.42278177] action [2]\n"
     ]
    },
    {
     "name": "stderr",
     "output_type": "stream",
     "text": [
      "\r",
      " 70%|███████   | 21/30 [07:07<03:02, 20.29s/it]"
     ]
    },
    {
     "name": "stdout",
     "output_type": "stream",
     "text": [
      "Iteration: 20 Start Value [0.42509886] action [2]\n"
     ]
    },
    {
     "name": "stderr",
     "output_type": "stream",
     "text": [
      "\r",
      " 73%|███████▎  | 22/30 [07:33<02:54, 21.82s/it]"
     ]
    },
    {
     "name": "stdout",
     "output_type": "stream",
     "text": [
      "Iteration: 21 Start Value [0.42692568] action [2]\n"
     ]
    },
    {
     "name": "stderr",
     "output_type": "stream",
     "text": [
      "\r",
      " 77%|███████▋  | 23/30 [07:53<02:29, 21.35s/it]"
     ]
    },
    {
     "name": "stdout",
     "output_type": "stream",
     "text": [
      "Iteration: 22 Start Value [0.42847252] action [2]\n"
     ]
    },
    {
     "name": "stderr",
     "output_type": "stream",
     "text": [
      "\r",
      " 80%|████████  | 24/30 [08:12<02:04, 20.75s/it]"
     ]
    },
    {
     "name": "stdout",
     "output_type": "stream",
     "text": [
      "Iteration: 23 Start Value [0.42818983] action [2]\n"
     ]
    },
    {
     "name": "stderr",
     "output_type": "stream",
     "text": [
      "\r",
      " 83%|████████▎ | 25/30 [08:33<01:44, 20.83s/it]"
     ]
    },
    {
     "name": "stdout",
     "output_type": "stream",
     "text": [
      "Iteration: 24 Start Value [0.4272508] action [2]\n"
     ]
    },
    {
     "name": "stderr",
     "output_type": "stream",
     "text": [
      "\r",
      " 87%|████████▋ | 26/30 [08:55<01:24, 21.21s/it]"
     ]
    },
    {
     "name": "stdout",
     "output_type": "stream",
     "text": [
      "Iteration: 25 Start Value [0.42709874] action [2]\n"
     ]
    },
    {
     "name": "stderr",
     "output_type": "stream",
     "text": [
      "\r",
      " 90%|█████████ | 27/30 [09:15<01:01, 20.66s/it]"
     ]
    },
    {
     "name": "stdout",
     "output_type": "stream",
     "text": [
      "Iteration: 26 Start Value [0.42614797] action [2]\n"
     ]
    },
    {
     "name": "stderr",
     "output_type": "stream",
     "text": [
      "\r",
      " 93%|█████████▎| 28/30 [09:34<00:40, 20.15s/it]"
     ]
    },
    {
     "name": "stdout",
     "output_type": "stream",
     "text": [
      "Iteration: 27 Start Value [0.42738328] action [2]\n"
     ]
    },
    {
     "name": "stderr",
     "output_type": "stream",
     "text": [
      "\r",
      " 97%|█████████▋| 29/30 [09:56<00:20, 20.82s/it]"
     ]
    },
    {
     "name": "stdout",
     "output_type": "stream",
     "text": [
      "Iteration: 28 Start Value [0.42779319] action [2]\n"
     ]
    },
    {
     "name": "stderr",
     "output_type": "stream",
     "text": [
      "100%|██████████| 30/30 [10:16<00:00, 20.54s/it]"
     ]
    },
    {
     "name": "stdout",
     "output_type": "stream",
     "text": [
      "Iteration: 29 Start Value [0.42814432] action [2]\n",
      "N= 30  completed\n"
     ]
    },
    {
     "name": "stderr",
     "output_type": "stream",
     "text": [
      "\n"
     ]
    },
    {
     "name": "stdout",
     "output_type": "stream",
     "text": [
      "     ID  TIME  FEATURE_0  FEATURE_1 ACTION  RISK  OG_CLUSTER  \\\n",
      "0     0     0   0.152394  -0.427155      2 -0.04           0   \n",
      "1     0     1   1.792621  -0.753618      1 -0.04           1   \n",
      "2     0     2   1.108150  -1.925765      0 -0.04           6   \n",
      "3     0     3   1.394554  -0.154035      2 -0.04           1   \n",
      "4     0     4   2.083171  -0.777025      3 -0.04           2   \n",
      "..   ..   ...        ...        ...    ...   ...         ...   \n",
      "909  39    20   4.077264  -2.429798      0 -0.04          14   \n",
      "910  39    21   4.595637  -1.368235      1 -0.04           9   \n",
      "911  39    22   4.743950  -2.498400      1 -0.04          14   \n",
      "912  39    23   4.346054  -3.259446      1 -0.04          19   \n",
      "913  39    24   4.463344  -4.391805   None  1.00          24   \n",
      "\n",
      "                                          x_t2  \\\n",
      "0    [1.7926213048954307, -0.7536184009973239]   \n",
      "1     [1.1081495190040518, -1.925764663270084]   \n",
      "2    [1.394553850314439, -0.15403490110110885]   \n",
      "3    [2.0831710494234117, -0.7770249291097993]   \n",
      "4    [1.7173338295807712, -0.5154491033931015]   \n",
      "..                                         ...   \n",
      "909  [4.5956367986918485, -1.3682352327579377]   \n",
      "910    [4.743950465880098, -2.498400361468295]   \n",
      "911  [4.3460540203649165, -3.2594457978875364]   \n",
      "912    [4.463344317382648, -4.391805000323515]   \n",
      "913                                         []   \n",
      "\n",
      "                                               a0  \\\n",
      "0    [1.7926213048954307, -0.7536184009973239, 0]   \n",
      "1     [1.1081495190040518, -1.925764663270084, 0]   \n",
      "2    [1.394553850314439, -0.15403490110110885, 0]   \n",
      "3    [2.0831710494234117, -0.7770249291097993, 0]   \n",
      "4    [1.7173338295807712, -0.5154491033931015, 0]   \n",
      "..                                            ...   \n",
      "909  [4.5956367986918485, -1.3682352327579377, 0]   \n",
      "910    [4.743950465880098, -2.498400361468295, 0]   \n",
      "911  [4.3460540203649165, -3.2594457978875364, 0]   \n",
      "912    [4.463344317382648, -4.391805000323515, 0]   \n",
      "913                                           [0]   \n",
      "\n",
      "                                               a1  \\\n",
      "0    [1.7926213048954307, -0.7536184009973239, 1]   \n",
      "1     [1.1081495190040518, -1.925764663270084, 1]   \n",
      "2    [1.394553850314439, -0.15403490110110885, 1]   \n",
      "3    [2.0831710494234117, -0.7770249291097993, 1]   \n",
      "4    [1.7173338295807712, -0.5154491033931015, 1]   \n",
      "..                                            ...   \n",
      "909  [4.5956367986918485, -1.3682352327579377, 1]   \n",
      "910    [4.743950465880098, -2.498400361468295, 1]   \n",
      "911  [4.3460540203649165, -3.2594457978875364, 1]   \n",
      "912    [4.463344317382648, -4.391805000323515, 1]   \n",
      "913                                           [1]   \n",
      "\n",
      "                                               a2  \\\n",
      "0    [1.7926213048954307, -0.7536184009973239, 2]   \n",
      "1     [1.1081495190040518, -1.925764663270084, 2]   \n",
      "2    [1.394553850314439, -0.15403490110110885, 2]   \n",
      "3    [2.0831710494234117, -0.7770249291097993, 2]   \n",
      "4    [1.7173338295807712, -0.5154491033931015, 2]   \n",
      "..                                            ...   \n",
      "909  [4.5956367986918485, -1.3682352327579377, 2]   \n",
      "910    [4.743950465880098, -2.498400361468295, 2]   \n",
      "911  [4.3460540203649165, -3.2594457978875364, 2]   \n",
      "912    [4.463344317382648, -4.391805000323515, 2]   \n",
      "913                                           [2]   \n",
      "\n",
      "                                               a3  \n",
      "0    [1.7926213048954307, -0.7536184009973239, 3]  \n",
      "1     [1.1081495190040518, -1.925764663270084, 3]  \n",
      "2    [1.394553850314439, -0.15403490110110885, 3]  \n",
      "3    [2.0831710494234117, -0.7770249291097993, 3]  \n",
      "4    [1.7173338295807712, -0.5154491033931015, 3]  \n",
      "..                                            ...  \n",
      "909  [4.5956367986918485, -1.3682352327579377, 3]  \n",
      "910    [4.743950465880098, -2.498400361468295, 3]  \n",
      "911  [4.3460540203649165, -3.2594457978875364, 3]  \n",
      "912    [4.463344317382648, -4.391805000323515, 3]  \n",
      "913                                           [3]  \n",
      "\n",
      "[901 rows x 12 columns]\n",
      "New training features\n",
      "     FEATURE_0  FEATURE_1 ACTION\n",
      "0     0.152394  -0.427155      2\n",
      "1     1.792621  -0.753618      1\n",
      "2     1.108150  -1.925765      0\n",
      "3     1.394554  -0.154035      2\n",
      "4     2.083171  -0.777025      3\n",
      "..         ...        ...    ...\n",
      "909   4.077264  -2.429798      0\n",
      "910   4.595637  -1.368235      1\n",
      "911   4.743950  -2.498400      1\n",
      "912   4.346054  -3.259446      1\n",
      "913   4.463344  -4.391805      0\n",
      "\n",
      "[901 rows x 3 columns]\n"
     ]
    },
    {
     "name": "stderr",
     "output_type": "stream",
     "text": [
      "  3%|▎         | 1/30 [00:00<00:12,  2.41it/s]"
     ]
    },
    {
     "name": "stdout",
     "output_type": "stream",
     "text": [
      "Iteration: 0 Start Value [-0.08] action [0]\n"
     ]
    },
    {
     "name": "stderr",
     "output_type": "stream",
     "text": [
      "\r",
      "  7%|▋         | 2/30 [00:26<03:45,  8.05s/it]"
     ]
    },
    {
     "name": "stdout",
     "output_type": "stream",
     "text": [
      "Iteration: 1 Start Value [-0.12] action [0]\n"
     ]
    },
    {
     "name": "stderr",
     "output_type": "stream",
     "text": [
      "\r",
      " 10%|█         | 3/30 [00:53<06:16, 13.95s/it]"
     ]
    },
    {
     "name": "stdout",
     "output_type": "stream",
     "text": [
      "Iteration: 2 Start Value [-0.15999729] action [0]\n"
     ]
    },
    {
     "name": "stderr",
     "output_type": "stream",
     "text": [
      "\r",
      " 13%|█▎        | 4/30 [01:19<07:31, 17.35s/it]"
     ]
    },
    {
     "name": "stdout",
     "output_type": "stream",
     "text": [
      "Iteration: 3 Start Value [-0.19999063] action [0]\n"
     ]
    },
    {
     "name": "stderr",
     "output_type": "stream",
     "text": [
      "\r",
      " 17%|█▋        | 5/30 [01:45<08:22, 20.09s/it]"
     ]
    },
    {
     "name": "stdout",
     "output_type": "stream",
     "text": [
      "Iteration: 4 Start Value [-0.23996106] action [0]\n"
     ]
    },
    {
     "name": "stderr",
     "output_type": "stream",
     "text": [
      "\r",
      " 20%|██        | 6/30 [02:16<09:19, 23.30s/it]"
     ]
    },
    {
     "name": "stdout",
     "output_type": "stream",
     "text": [
      "Iteration: 5 Start Value [-0.27994557] action [0]\n"
     ]
    },
    {
     "name": "stderr",
     "output_type": "stream",
     "text": [
      "\r",
      " 23%|██▎       | 7/30 [02:41<09:10, 23.94s/it]"
     ]
    },
    {
     "name": "stdout",
     "output_type": "stream",
     "text": [
      "Iteration: 6 Start Value [-0.31992742] action [0]\n"
     ]
    },
    {
     "name": "stderr",
     "output_type": "stream",
     "text": [
      "\r",
      " 27%|██▋       | 8/30 [03:10<09:17, 25.32s/it]"
     ]
    },
    {
     "name": "stdout",
     "output_type": "stream",
     "text": [
      "Iteration: 7 Start Value [-0.35991624] action [0]\n"
     ]
    },
    {
     "name": "stderr",
     "output_type": "stream",
     "text": [
      "\r",
      " 30%|███       | 9/30 [03:36<08:57, 25.57s/it]"
     ]
    },
    {
     "name": "stdout",
     "output_type": "stream",
     "text": [
      "Iteration: 8 Start Value [-0.39991179] action [0]\n"
     ]
    },
    {
     "name": "stderr",
     "output_type": "stream",
     "text": [
      "\r",
      " 33%|███▎      | 10/30 [04:02<08:29, 25.50s/it]"
     ]
    },
    {
     "name": "stdout",
     "output_type": "stream",
     "text": [
      "Iteration: 9 Start Value [-0.43916579] action [1]\n"
     ]
    },
    {
     "name": "stderr",
     "output_type": "stream",
     "text": [
      "\r",
      " 37%|███▋      | 11/30 [04:30<08:20, 26.37s/it]"
     ]
    },
    {
     "name": "stdout",
     "output_type": "stream",
     "text": [
      "Iteration: 10 Start Value [-0.46987209] action [1]\n"
     ]
    },
    {
     "name": "stderr",
     "output_type": "stream",
     "text": [
      "\r",
      " 40%|████      | 12/30 [04:57<07:56, 26.47s/it]"
     ]
    },
    {
     "name": "stdout",
     "output_type": "stream",
     "text": [
      "Iteration: 11 Start Value [-0.41828552] action [1]\n"
     ]
    },
    {
     "name": "stderr",
     "output_type": "stream",
     "text": [
      "\r",
      " 43%|████▎     | 13/30 [05:26<07:45, 27.38s/it]"
     ]
    },
    {
     "name": "stdout",
     "output_type": "stream",
     "text": [
      "Iteration: 12 Start Value [-0.0372267] action [2]\n"
     ]
    },
    {
     "name": "stderr",
     "output_type": "stream",
     "text": [
      "\r",
      " 47%|████▋     | 14/30 [05:52<07:12, 27.02s/it]"
     ]
    },
    {
     "name": "stdout",
     "output_type": "stream",
     "text": [
      "Iteration: 13 Start Value [0.09409014] action [2]\n"
     ]
    },
    {
     "name": "stderr",
     "output_type": "stream",
     "text": [
      "\r",
      " 50%|█████     | 15/30 [06:19<06:41, 26.79s/it]"
     ]
    },
    {
     "name": "stdout",
     "output_type": "stream",
     "text": [
      "Iteration: 14 Start Value [0.28328191] action [2]\n"
     ]
    },
    {
     "name": "stderr",
     "output_type": "stream",
     "text": [
      "\r",
      " 53%|█████▎    | 16/30 [06:46<06:16, 26.88s/it]"
     ]
    },
    {
     "name": "stdout",
     "output_type": "stream",
     "text": [
      "Iteration: 15 Start Value [0.38349631] action [2]\n"
     ]
    },
    {
     "name": "stderr",
     "output_type": "stream",
     "text": [
      "\r",
      " 57%|█████▋    | 17/30 [07:13<05:50, 26.95s/it]"
     ]
    },
    {
     "name": "stdout",
     "output_type": "stream",
     "text": [
      "Iteration: 16 Start Value [0.42545745] action [2]\n"
     ]
    },
    {
     "name": "stderr",
     "output_type": "stream",
     "text": [
      "\r",
      " 60%|██████    | 18/30 [07:41<05:27, 27.26s/it]"
     ]
    },
    {
     "name": "stdout",
     "output_type": "stream",
     "text": [
      "Iteration: 17 Start Value [0.43201233] action [2]\n"
     ]
    },
    {
     "name": "stderr",
     "output_type": "stream",
     "text": [
      "\r",
      " 63%|██████▎   | 19/30 [08:07<04:55, 26.82s/it]"
     ]
    },
    {
     "name": "stdout",
     "output_type": "stream",
     "text": [
      "Iteration: 18 Start Value [0.43272971] action [2]\n"
     ]
    },
    {
     "name": "stderr",
     "output_type": "stream",
     "text": [
      "\r",
      " 67%|██████▋   | 20/30 [08:32<04:25, 26.54s/it]"
     ]
    },
    {
     "name": "stdout",
     "output_type": "stream",
     "text": [
      "Iteration: 19 Start Value [0.42412046] action [2]\n"
     ]
    },
    {
     "name": "stderr",
     "output_type": "stream",
     "text": [
      "\r",
      " 70%|███████   | 21/30 [09:00<04:00, 26.76s/it]"
     ]
    },
    {
     "name": "stdout",
     "output_type": "stream",
     "text": [
      "Iteration: 20 Start Value [0.43149876] action [2]\n"
     ]
    },
    {
     "name": "stderr",
     "output_type": "stream",
     "text": [
      "\r",
      " 73%|███████▎  | 22/30 [09:25<03:30, 26.30s/it]"
     ]
    },
    {
     "name": "stdout",
     "output_type": "stream",
     "text": [
      "Iteration: 21 Start Value [0.43209047] action [2]\n"
     ]
    },
    {
     "name": "stderr",
     "output_type": "stream",
     "text": [
      "\r",
      " 77%|███████▋  | 23/30 [09:51<03:03, 26.17s/it]"
     ]
    },
    {
     "name": "stdout",
     "output_type": "stream",
     "text": [
      "Iteration: 22 Start Value [0.43327608] action [2]\n"
     ]
    },
    {
     "name": "stderr",
     "output_type": "stream",
     "text": [
      "\r",
      " 80%|████████  | 24/30 [10:19<02:40, 26.80s/it]"
     ]
    },
    {
     "name": "stdout",
     "output_type": "stream",
     "text": [
      "Iteration: 23 Start Value [0.43360872] action [2]\n"
     ]
    },
    {
     "name": "stderr",
     "output_type": "stream",
     "text": [
      "\r",
      " 83%|████████▎ | 25/30 [10:45<02:12, 26.46s/it]"
     ]
    },
    {
     "name": "stdout",
     "output_type": "stream",
     "text": [
      "Iteration: 24 Start Value [0.43393083] action [2]\n"
     ]
    },
    {
     "name": "stderr",
     "output_type": "stream",
     "text": [
      "\r",
      " 87%|████████▋ | 26/30 [11:11<01:45, 26.47s/it]"
     ]
    },
    {
     "name": "stdout",
     "output_type": "stream",
     "text": [
      "Iteration: 25 Start Value [0.43331495] action [2]\n"
     ]
    },
    {
     "name": "stderr",
     "output_type": "stream",
     "text": [
      "\r",
      " 90%|█████████ | 27/30 [11:39<01:20, 26.91s/it]"
     ]
    },
    {
     "name": "stdout",
     "output_type": "stream",
     "text": [
      "Iteration: 26 Start Value [0.43327204] action [2]\n"
     ]
    },
    {
     "name": "stderr",
     "output_type": "stream",
     "text": [
      "\r",
      " 93%|█████████▎| 28/30 [12:05<00:53, 26.63s/it]"
     ]
    },
    {
     "name": "stdout",
     "output_type": "stream",
     "text": [
      "Iteration: 27 Start Value [0.43321597] action [2]\n"
     ]
    },
    {
     "name": "stderr",
     "output_type": "stream",
     "text": [
      "\r",
      " 97%|█████████▋| 29/30 [12:36<00:27, 27.96s/it]"
     ]
    },
    {
     "name": "stdout",
     "output_type": "stream",
     "text": [
      "Iteration: 28 Start Value [0.4328616] action [2]\n"
     ]
    },
    {
     "name": "stderr",
     "output_type": "stream",
     "text": [
      "100%|██████████| 30/30 [13:03<00:00, 26.13s/it]"
     ]
    },
    {
     "name": "stdout",
     "output_type": "stream",
     "text": [
      "Iteration: 29 Start Value [0.43296576] action [2]\n",
      "N= 40  completed\n"
     ]
    },
    {
     "name": "stderr",
     "output_type": "stream",
     "text": [
      "\n"
     ]
    },
    {
     "name": "stdout",
     "output_type": "stream",
     "text": [
      "      ID  TIME  FEATURE_0  FEATURE_1 ACTION  RISK  OG_CLUSTER  \\\n",
      "0      0     0   0.152394  -0.427155      2 -0.04           0   \n",
      "1      0     1   1.792621  -0.753618      1 -0.04           1   \n",
      "2      0     2   1.108150  -1.925765      0 -0.04           6   \n",
      "3      0     3   1.394554  -0.154035      2 -0.04           1   \n",
      "4      0     4   2.083171  -0.777025      3 -0.04           2   \n",
      "...   ..   ...        ...        ...    ...   ...         ...   \n",
      "1142  49    19   3.961849  -2.723681      2 -0.04          13   \n",
      "1143  49    20   3.303888  -2.509881      1 -0.04          13   \n",
      "1144  49    21   3.503230  -3.363793      0 -0.04          18   \n",
      "1145  49    22   3.811036  -2.894889      2 -0.04          13   \n",
      "1146  49    23   3.621228  -2.405927      0 -0.04          13   \n",
      "\n",
      "                                           x_t2  \\\n",
      "0     [1.7926213048954307, -0.7536184009973239]   \n",
      "1      [1.1081495190040518, -1.925764663270084]   \n",
      "2     [1.394553850314439, -0.15403490110110885]   \n",
      "3     [2.0831710494234117, -0.7770249291097993]   \n",
      "4     [1.7173338295807712, -0.5154491033931015]   \n",
      "...                                         ...   \n",
      "1142     [3.30388801683543, -2.509880508540232]   \n",
      "1143   [3.503230320468406, -3.3637932726630115]   \n",
      "1144   [3.811036217250527, -2.8948887258289693]   \n",
      "1145   [3.621228043120277, -2.4059265569902424]   \n",
      "1146   [3.9177017835992873, -1.176595109560614]   \n",
      "\n",
      "                                                a0  \\\n",
      "0     [1.7926213048954307, -0.7536184009973239, 0]   \n",
      "1      [1.1081495190040518, -1.925764663270084, 0]   \n",
      "2     [1.394553850314439, -0.15403490110110885, 0]   \n",
      "3     [2.0831710494234117, -0.7770249291097993, 0]   \n",
      "4     [1.7173338295807712, -0.5154491033931015, 0]   \n",
      "...                                            ...   \n",
      "1142     [3.30388801683543, -2.509880508540232, 0]   \n",
      "1143   [3.503230320468406, -3.3637932726630115, 0]   \n",
      "1144   [3.811036217250527, -2.8948887258289693, 0]   \n",
      "1145   [3.621228043120277, -2.4059265569902424, 0]   \n",
      "1146   [3.9177017835992873, -1.176595109560614, 0]   \n",
      "\n",
      "                                                a1  \\\n",
      "0     [1.7926213048954307, -0.7536184009973239, 1]   \n",
      "1      [1.1081495190040518, -1.925764663270084, 1]   \n",
      "2     [1.394553850314439, -0.15403490110110885, 1]   \n",
      "3     [2.0831710494234117, -0.7770249291097993, 1]   \n",
      "4     [1.7173338295807712, -0.5154491033931015, 1]   \n",
      "...                                            ...   \n",
      "1142     [3.30388801683543, -2.509880508540232, 1]   \n",
      "1143   [3.503230320468406, -3.3637932726630115, 1]   \n",
      "1144   [3.811036217250527, -2.8948887258289693, 1]   \n",
      "1145   [3.621228043120277, -2.4059265569902424, 1]   \n",
      "1146   [3.9177017835992873, -1.176595109560614, 1]   \n",
      "\n",
      "                                                a2  \\\n",
      "0     [1.7926213048954307, -0.7536184009973239, 2]   \n",
      "1      [1.1081495190040518, -1.925764663270084, 2]   \n",
      "2     [1.394553850314439, -0.15403490110110885, 2]   \n",
      "3     [2.0831710494234117, -0.7770249291097993, 2]   \n",
      "4     [1.7173338295807712, -0.5154491033931015, 2]   \n",
      "...                                            ...   \n",
      "1142     [3.30388801683543, -2.509880508540232, 2]   \n",
      "1143   [3.503230320468406, -3.3637932726630115, 2]   \n",
      "1144   [3.811036217250527, -2.8948887258289693, 2]   \n",
      "1145   [3.621228043120277, -2.4059265569902424, 2]   \n",
      "1146   [3.9177017835992873, -1.176595109560614, 2]   \n",
      "\n",
      "                                                a3  \n",
      "0     [1.7926213048954307, -0.7536184009973239, 3]  \n",
      "1      [1.1081495190040518, -1.925764663270084, 3]  \n",
      "2     [1.394553850314439, -0.15403490110110885, 3]  \n",
      "3     [2.0831710494234117, -0.7770249291097993, 3]  \n",
      "4     [1.7173338295807712, -0.5154491033931015, 3]  \n",
      "...                                            ...  \n",
      "1142     [3.30388801683543, -2.509880508540232, 3]  \n",
      "1143   [3.503230320468406, -3.3637932726630115, 3]  \n",
      "1144   [3.811036217250527, -2.8948887258289693, 3]  \n",
      "1145   [3.621228043120277, -2.4059265569902424, 3]  \n",
      "1146   [3.9177017835992873, -1.176595109560614, 3]  \n",
      "\n",
      "[1131 rows x 12 columns]\n",
      "New training features\n",
      "      FEATURE_0  FEATURE_1 ACTION\n",
      "0      0.152394  -0.427155      2\n",
      "1      1.792621  -0.753618      1\n",
      "2      1.108150  -1.925765      0\n",
      "3      1.394554  -0.154035      2\n",
      "4      2.083171  -0.777025      3\n",
      "...         ...        ...    ...\n",
      "1142   3.961849  -2.723681      2\n",
      "1143   3.303888  -2.509881      1\n",
      "1144   3.503230  -3.363793      0\n",
      "1145   3.811036  -2.894889      2\n",
      "1146   3.621228  -2.405927      0\n",
      "\n",
      "[1131 rows x 3 columns]\n"
     ]
    },
    {
     "name": "stderr",
     "output_type": "stream",
     "text": [
      "  3%|▎         | 1/30 [00:00<00:19,  1.49it/s]"
     ]
    },
    {
     "name": "stdout",
     "output_type": "stream",
     "text": [
      "Iteration: 0 Start Value [-0.08] action [0]\n"
     ]
    },
    {
     "name": "stderr",
     "output_type": "stream",
     "text": [
      "\r",
      "  7%|▋         | 2/30 [00:34<04:57, 10.62s/it]"
     ]
    },
    {
     "name": "stdout",
     "output_type": "stream",
     "text": [
      "Iteration: 1 Start Value [-0.12] action [0]\n"
     ]
    },
    {
     "name": "stderr",
     "output_type": "stream",
     "text": [
      "\r",
      " 10%|█         | 3/30 [01:07<07:44, 17.20s/it]"
     ]
    },
    {
     "name": "stdout",
     "output_type": "stream",
     "text": [
      "Iteration: 2 Start Value [-0.15999234] action [0]\n"
     ]
    },
    {
     "name": "stderr",
     "output_type": "stream",
     "text": [
      "\r",
      " 13%|█▎        | 4/30 [01:40<09:32, 22.02s/it]"
     ]
    },
    {
     "name": "stdout",
     "output_type": "stream",
     "text": [
      "Iteration: 3 Start Value [-0.19998789] action [0]\n"
     ]
    },
    {
     "name": "stderr",
     "output_type": "stream",
     "text": [
      "\r",
      " 17%|█▋        | 5/30 [02:14<10:37, 25.52s/it]"
     ]
    },
    {
     "name": "stdout",
     "output_type": "stream",
     "text": [
      "Iteration: 4 Start Value [-0.23997609] action [0]\n"
     ]
    },
    {
     "name": "stderr",
     "output_type": "stream",
     "text": [
      "\r",
      " 20%|██        | 6/30 [02:45<10:56, 27.37s/it]"
     ]
    },
    {
     "name": "stdout",
     "output_type": "stream",
     "text": [
      "Iteration: 5 Start Value [-0.27996886] action [0]\n"
     ]
    },
    {
     "name": "stderr",
     "output_type": "stream",
     "text": [
      "\r",
      " 23%|██▎       | 7/30 [03:19<11:15, 29.35s/it]"
     ]
    },
    {
     "name": "stdout",
     "output_type": "stream",
     "text": [
      "Iteration: 6 Start Value [-0.31994224] action [0]\n"
     ]
    },
    {
     "name": "stderr",
     "output_type": "stream",
     "text": [
      "\r",
      " 27%|██▋       | 8/30 [03:50<10:55, 29.81s/it]"
     ]
    },
    {
     "name": "stdout",
     "output_type": "stream",
     "text": [
      "Iteration: 7 Start Value [-0.35993719] action [0]\n"
     ]
    },
    {
     "name": "stderr",
     "output_type": "stream",
     "text": [
      "\r",
      " 30%|███       | 9/30 [04:27<11:08, 31.84s/it]"
     ]
    },
    {
     "name": "stdout",
     "output_type": "stream",
     "text": [
      "Iteration: 8 Start Value [-0.39992889] action [0]\n"
     ]
    },
    {
     "name": "stderr",
     "output_type": "stream",
     "text": [
      "\r",
      " 33%|███▎      | 10/30 [04:59<10:38, 31.93s/it]"
     ]
    },
    {
     "name": "stdout",
     "output_type": "stream",
     "text": [
      "Iteration: 9 Start Value [-0.43987568] action [1]\n"
     ]
    },
    {
     "name": "stderr",
     "output_type": "stream",
     "text": [
      "\r",
      " 37%|███▋      | 11/30 [05:34<10:28, 33.06s/it]"
     ]
    },
    {
     "name": "stdout",
     "output_type": "stream",
     "text": [
      "Iteration: 10 Start Value [-0.47700299] action [2]\n"
     ]
    },
    {
     "name": "stderr",
     "output_type": "stream",
     "text": [
      "\r",
      " 40%|████      | 12/30 [06:07<09:52, 32.92s/it]"
     ]
    },
    {
     "name": "stdout",
     "output_type": "stream",
     "text": [
      "Iteration: 11 Start Value [-0.50210138] action [2]\n"
     ]
    },
    {
     "name": "stderr",
     "output_type": "stream",
     "text": [
      "\r",
      " 43%|████▎     | 13/30 [06:45<09:46, 34.47s/it]"
     ]
    },
    {
     "name": "stdout",
     "output_type": "stream",
     "text": [
      "Iteration: 12 Start Value [-0.09915704] action [2]\n"
     ]
    },
    {
     "name": "stderr",
     "output_type": "stream",
     "text": [
      "\r",
      " 47%|████▋     | 14/30 [07:27<09:46, 36.64s/it]"
     ]
    },
    {
     "name": "stdout",
     "output_type": "stream",
     "text": [
      "Iteration: 13 Start Value [0.16238317] action [2]\n"
     ]
    },
    {
     "name": "stderr",
     "output_type": "stream",
     "text": [
      "\r",
      " 50%|█████     | 15/30 [08:04<09:13, 36.91s/it]"
     ]
    },
    {
     "name": "stdout",
     "output_type": "stream",
     "text": [
      "Iteration: 14 Start Value [0.33860647] action [2]\n"
     ]
    },
    {
     "name": "stderr",
     "output_type": "stream",
     "text": [
      "\r",
      " 53%|█████▎    | 16/30 [08:41<08:37, 36.94s/it]"
     ]
    },
    {
     "name": "stdout",
     "output_type": "stream",
     "text": [
      "Iteration: 15 Start Value [0.40015525] action [2]\n"
     ]
    },
    {
     "name": "stderr",
     "output_type": "stream",
     "text": [
      "\r",
      " 57%|█████▋    | 17/30 [09:19<08:01, 37.02s/it]"
     ]
    },
    {
     "name": "stdout",
     "output_type": "stream",
     "text": [
      "Iteration: 16 Start Value [0.42670006] action [2]\n"
     ]
    },
    {
     "name": "stderr",
     "output_type": "stream",
     "text": [
      "\r",
      " 60%|██████    | 18/30 [09:53<07:13, 36.09s/it]"
     ]
    },
    {
     "name": "stdout",
     "output_type": "stream",
     "text": [
      "Iteration: 17 Start Value [0.4328607] action [2]\n"
     ]
    },
    {
     "name": "stderr",
     "output_type": "stream",
     "text": [
      "\r",
      " 63%|██████▎   | 19/30 [10:25<06:24, 34.93s/it]"
     ]
    },
    {
     "name": "stdout",
     "output_type": "stream",
     "text": [
      "Iteration: 18 Start Value [0.43488975] action [2]\n"
     ]
    },
    {
     "name": "stderr",
     "output_type": "stream",
     "text": [
      "\r",
      " 67%|██████▋   | 20/30 [11:02<05:56, 35.62s/it]"
     ]
    },
    {
     "name": "stdout",
     "output_type": "stream",
     "text": [
      "Iteration: 19 Start Value [0.43636643] action [2]\n"
     ]
    },
    {
     "name": "stderr",
     "output_type": "stream",
     "text": [
      "\r",
      " 70%|███████   | 21/30 [11:37<05:17, 35.31s/it]"
     ]
    },
    {
     "name": "stdout",
     "output_type": "stream",
     "text": [
      "Iteration: 20 Start Value [0.43653984] action [2]\n"
     ]
    },
    {
     "name": "stderr",
     "output_type": "stream",
     "text": [
      "\r",
      " 73%|███████▎  | 22/30 [12:10<04:38, 34.76s/it]"
     ]
    },
    {
     "name": "stdout",
     "output_type": "stream",
     "text": [
      "Iteration: 21 Start Value [0.43649897] action [2]\n"
     ]
    },
    {
     "name": "stderr",
     "output_type": "stream",
     "text": [
      "\r",
      " 77%|███████▋  | 23/30 [12:43<04:00, 34.32s/it]"
     ]
    },
    {
     "name": "stdout",
     "output_type": "stream",
     "text": [
      "Iteration: 22 Start Value [0.43686361] action [2]\n"
     ]
    },
    {
     "name": "stderr",
     "output_type": "stream",
     "text": [
      "\r",
      " 80%|████████  | 24/30 [13:26<03:41, 36.94s/it]"
     ]
    },
    {
     "name": "stdout",
     "output_type": "stream",
     "text": [
      "Iteration: 23 Start Value [0.43688949] action [2]\n"
     ]
    },
    {
     "name": "stderr",
     "output_type": "stream",
     "text": [
      "\r",
      " 83%|████████▎ | 25/30 [14:01<03:00, 36.18s/it]"
     ]
    },
    {
     "name": "stdout",
     "output_type": "stream",
     "text": [
      "Iteration: 24 Start Value [0.43683553] action [2]\n"
     ]
    },
    {
     "name": "stderr",
     "output_type": "stream",
     "text": [
      "\r",
      " 87%|████████▋ | 26/30 [14:34<02:21, 35.36s/it]"
     ]
    },
    {
     "name": "stdout",
     "output_type": "stream",
     "text": [
      "Iteration: 25 Start Value [0.43639815] action [2]\n"
     ]
    },
    {
     "name": "stderr",
     "output_type": "stream",
     "text": [
      "\r",
      " 90%|█████████ | 27/30 [15:09<01:45, 35.07s/it]"
     ]
    },
    {
     "name": "stdout",
     "output_type": "stream",
     "text": [
      "Iteration: 26 Start Value [0.43638193] action [2]\n"
     ]
    },
    {
     "name": "stderr",
     "output_type": "stream",
     "text": [
      "\r",
      " 93%|█████████▎| 28/30 [15:41<01:08, 34.22s/it]"
     ]
    },
    {
     "name": "stdout",
     "output_type": "stream",
     "text": [
      "Iteration: 27 Start Value [0.43663928] action [2]\n"
     ]
    },
    {
     "name": "stderr",
     "output_type": "stream",
     "text": [
      "\r",
      " 97%|█████████▋| 29/30 [16:15<00:34, 34.18s/it]"
     ]
    },
    {
     "name": "stdout",
     "output_type": "stream",
     "text": [
      "Iteration: 28 Start Value [0.43653242] action [2]\n"
     ]
    },
    {
     "name": "stderr",
     "output_type": "stream",
     "text": [
      "100%|██████████| 30/30 [16:49<00:00, 33.64s/it]"
     ]
    },
    {
     "name": "stdout",
     "output_type": "stream",
     "text": [
      "Iteration: 29 Start Value [0.43645211] action [2]\n",
      "N= 50  completed\n"
     ]
    },
    {
     "name": "stderr",
     "output_type": "stream",
     "text": [
      "\n"
     ]
    },
    {
     "name": "stdout",
     "output_type": "stream",
     "text": [
      "      ID  TIME  FEATURE_0  FEATURE_1 ACTION  RISK  OG_CLUSTER  \\\n",
      "0      0     0   0.152394  -0.427155      2 -0.04           0   \n",
      "1      0     1   1.792621  -0.753618      1 -0.04           1   \n",
      "2      0     2   1.108150  -1.925765      0 -0.04           6   \n",
      "3      0     3   1.394554  -0.154035      2 -0.04           1   \n",
      "4      0     4   2.083171  -0.777025      3 -0.04           2   \n",
      "...   ..   ...        ...        ...    ...   ...         ...   \n",
      "1608  69    21   4.598904  -1.353464      1 -0.04           9   \n",
      "1609  69    22   4.304833  -2.314279      3 -0.04          14   \n",
      "1610  69    23   4.000970  -2.894515      1 -0.04          14   \n",
      "1611  69    24   4.693681  -3.004178      1 -0.04          19   \n",
      "1612  69    25   4.539019  -4.992801   None  1.00          24   \n",
      "\n",
      "                                           x_t2  \\\n",
      "0     [1.7926213048954307, -0.7536184009973239]   \n",
      "1      [1.1081495190040518, -1.925764663270084]   \n",
      "2     [1.394553850314439, -0.15403490110110885]   \n",
      "3     [2.0831710494234117, -0.7770249291097993]   \n",
      "4     [1.7173338295807712, -0.5154491033931015]   \n",
      "...                                         ...   \n",
      "1608   [4.304833230395496, -2.3142789042891465]   \n",
      "1609    [4.000970041622825, -2.894514512047796]   \n",
      "1610   [4.693680638656507, -3.0041783158807034]   \n",
      "1611    [4.539018865569681, -4.992800620063977]   \n",
      "1612                                         []   \n",
      "\n",
      "                                                a0  \\\n",
      "0     [1.7926213048954307, -0.7536184009973239, 0]   \n",
      "1      [1.1081495190040518, -1.925764663270084, 0]   \n",
      "2     [1.394553850314439, -0.15403490110110885, 0]   \n",
      "3     [2.0831710494234117, -0.7770249291097993, 0]   \n",
      "4     [1.7173338295807712, -0.5154491033931015, 0]   \n",
      "...                                            ...   \n",
      "1608   [4.304833230395496, -2.3142789042891465, 0]   \n",
      "1609    [4.000970041622825, -2.894514512047796, 0]   \n",
      "1610   [4.693680638656507, -3.0041783158807034, 0]   \n",
      "1611    [4.539018865569681, -4.992800620063977, 0]   \n",
      "1612                                           [0]   \n",
      "\n",
      "                                                a1  \\\n",
      "0     [1.7926213048954307, -0.7536184009973239, 1]   \n",
      "1      [1.1081495190040518, -1.925764663270084, 1]   \n",
      "2     [1.394553850314439, -0.15403490110110885, 1]   \n",
      "3     [2.0831710494234117, -0.7770249291097993, 1]   \n",
      "4     [1.7173338295807712, -0.5154491033931015, 1]   \n",
      "...                                            ...   \n",
      "1608   [4.304833230395496, -2.3142789042891465, 1]   \n",
      "1609    [4.000970041622825, -2.894514512047796, 1]   \n",
      "1610   [4.693680638656507, -3.0041783158807034, 1]   \n",
      "1611    [4.539018865569681, -4.992800620063977, 1]   \n",
      "1612                                           [1]   \n",
      "\n",
      "                                                a2  \\\n",
      "0     [1.7926213048954307, -0.7536184009973239, 2]   \n",
      "1      [1.1081495190040518, -1.925764663270084, 2]   \n",
      "2     [1.394553850314439, -0.15403490110110885, 2]   \n",
      "3     [2.0831710494234117, -0.7770249291097993, 2]   \n",
      "4     [1.7173338295807712, -0.5154491033931015, 2]   \n",
      "...                                            ...   \n",
      "1608   [4.304833230395496, -2.3142789042891465, 2]   \n",
      "1609    [4.000970041622825, -2.894514512047796, 2]   \n",
      "1610   [4.693680638656507, -3.0041783158807034, 2]   \n",
      "1611    [4.539018865569681, -4.992800620063977, 2]   \n",
      "1612                                           [2]   \n",
      "\n",
      "                                                a3  \n",
      "0     [1.7926213048954307, -0.7536184009973239, 3]  \n",
      "1      [1.1081495190040518, -1.925764663270084, 3]  \n",
      "2     [1.394553850314439, -0.15403490110110885, 3]  \n",
      "3     [2.0831710494234117, -0.7770249291097993, 3]  \n",
      "4     [1.7173338295807712, -0.5154491033931015, 3]  \n",
      "...                                            ...  \n",
      "1608   [4.304833230395496, -2.3142789042891465, 3]  \n",
      "1609    [4.000970041622825, -2.894514512047796, 3]  \n",
      "1610   [4.693680638656507, -3.0041783158807034, 3]  \n",
      "1611    [4.539018865569681, -4.992800620063977, 3]  \n",
      "1612                                           [3]  \n",
      "\n",
      "[1591 rows x 12 columns]\n",
      "New training features\n",
      "      FEATURE_0  FEATURE_1 ACTION\n",
      "0      0.152394  -0.427155      2\n",
      "1      1.792621  -0.753618      1\n",
      "2      1.108150  -1.925765      0\n",
      "3      1.394554  -0.154035      2\n",
      "4      2.083171  -0.777025      3\n",
      "...         ...        ...    ...\n",
      "1608   4.598904  -1.353464      1\n",
      "1609   4.304833  -2.314279      3\n",
      "1610   4.000970  -2.894515      1\n",
      "1611   4.693681  -3.004178      1\n",
      "1612   4.539019  -4.992801      0\n",
      "\n",
      "[1591 rows x 3 columns]\n"
     ]
    },
    {
     "name": "stderr",
     "output_type": "stream",
     "text": [
      "  3%|▎         | 1/30 [00:00<00:24,  1.19it/s]"
     ]
    },
    {
     "name": "stdout",
     "output_type": "stream",
     "text": [
      "Iteration: 0 Start Value [-0.08] action [0]\n"
     ]
    },
    {
     "name": "stderr",
     "output_type": "stream",
     "text": [
      "\r",
      "  7%|▋         | 2/30 [00:49<07:07, 15.27s/it]"
     ]
    },
    {
     "name": "stdout",
     "output_type": "stream",
     "text": [
      "Iteration: 1 Start Value [-0.12] action [0]\n"
     ]
    },
    {
     "name": "stderr",
     "output_type": "stream",
     "text": [
      "\r",
      " 10%|█         | 3/30 [01:36<11:08, 24.74s/it]"
     ]
    },
    {
     "name": "stdout",
     "output_type": "stream",
     "text": [
      "Iteration: 2 Start Value [-0.15999837] action [0]\n"
     ]
    },
    {
     "name": "stderr",
     "output_type": "stream",
     "text": [
      "\r",
      " 13%|█▎        | 4/30 [02:23<13:38, 31.47s/it]"
     ]
    },
    {
     "name": "stdout",
     "output_type": "stream",
     "text": [
      "Iteration: 3 Start Value [-0.19999598] action [0]\n"
     ]
    },
    {
     "name": "stderr",
     "output_type": "stream",
     "text": [
      "\r",
      " 17%|█▋        | 5/30 [03:10<14:57, 35.90s/it]"
     ]
    },
    {
     "name": "stdout",
     "output_type": "stream",
     "text": [
      "Iteration: 4 Start Value [-0.23997757] action [0]\n"
     ]
    },
    {
     "name": "stderr",
     "output_type": "stream",
     "text": [
      "\r",
      " 20%|██        | 6/30 [03:56<15:36, 39.00s/it]"
     ]
    },
    {
     "name": "stdout",
     "output_type": "stream",
     "text": [
      "Iteration: 5 Start Value [-0.27994855] action [0]\n"
     ]
    },
    {
     "name": "stderr",
     "output_type": "stream",
     "text": [
      "\r",
      " 23%|██▎       | 7/30 [04:47<16:19, 42.61s/it]"
     ]
    },
    {
     "name": "stdout",
     "output_type": "stream",
     "text": [
      "Iteration: 6 Start Value [-0.31993051] action [0]\n"
     ]
    },
    {
     "name": "stderr",
     "output_type": "stream",
     "text": [
      "\r",
      " 27%|██▋       | 8/30 [05:36<16:23, 44.68s/it]"
     ]
    },
    {
     "name": "stdout",
     "output_type": "stream",
     "text": [
      "Iteration: 7 Start Value [-0.35988588] action [0]\n"
     ]
    },
    {
     "name": "stderr",
     "output_type": "stream",
     "text": [
      "\r",
      " 30%|███       | 9/30 [06:22<15:44, 44.95s/it]"
     ]
    },
    {
     "name": "stdout",
     "output_type": "stream",
     "text": [
      "Iteration: 8 Start Value [-0.39984618] action [0]\n"
     ]
    },
    {
     "name": "stderr",
     "output_type": "stream",
     "text": [
      "\r",
      " 33%|███▎      | 10/30 [07:10<15:20, 46.04s/it]"
     ]
    },
    {
     "name": "stdout",
     "output_type": "stream",
     "text": [
      "Iteration: 9 Start Value [-0.43978565] action [2]\n"
     ]
    },
    {
     "name": "stderr",
     "output_type": "stream",
     "text": [
      "\r",
      " 37%|███▋      | 11/30 [07:59<14:51, 46.89s/it]"
     ]
    },
    {
     "name": "stdout",
     "output_type": "stream",
     "text": [
      "Iteration: 10 Start Value [-0.47657228] action [2]\n"
     ]
    },
    {
     "name": "stderr",
     "output_type": "stream",
     "text": [
      "\r",
      " 40%|████      | 12/30 [08:45<13:57, 46.55s/it]"
     ]
    },
    {
     "name": "stdout",
     "output_type": "stream",
     "text": [
      "Iteration: 11 Start Value [-0.50500898] action [2]\n"
     ]
    },
    {
     "name": "stderr",
     "output_type": "stream",
     "text": [
      "\r",
      " 43%|████▎     | 13/30 [09:32<13:15, 46.79s/it]"
     ]
    },
    {
     "name": "stdout",
     "output_type": "stream",
     "text": [
      "Iteration: 12 Start Value [-0.08203036] action [2]\n"
     ]
    },
    {
     "name": "stderr",
     "output_type": "stream",
     "text": [
      "\r",
      " 47%|████▋     | 14/30 [10:21<12:38, 47.39s/it]"
     ]
    },
    {
     "name": "stdout",
     "output_type": "stream",
     "text": [
      "Iteration: 13 Start Value [0.28190155] action [2]\n"
     ]
    },
    {
     "name": "stderr",
     "output_type": "stream",
     "text": [
      "\r",
      " 50%|█████     | 15/30 [11:07<11:42, 46.83s/it]"
     ]
    },
    {
     "name": "stdout",
     "output_type": "stream",
     "text": [
      "Iteration: 14 Start Value [0.37893473] action [2]\n"
     ]
    },
    {
     "name": "stderr",
     "output_type": "stream",
     "text": [
      "\r",
      " 53%|█████▎    | 16/30 [11:55<10:59, 47.11s/it]"
     ]
    },
    {
     "name": "stdout",
     "output_type": "stream",
     "text": [
      "Iteration: 15 Start Value [0.41977889] action [2]\n"
     ]
    },
    {
     "name": "stderr",
     "output_type": "stream",
     "text": [
      "\r",
      " 57%|█████▋    | 17/30 [12:43<10:18, 47.60s/it]"
     ]
    },
    {
     "name": "stdout",
     "output_type": "stream",
     "text": [
      "Iteration: 16 Start Value [0.43450793] action [2]\n"
     ]
    },
    {
     "name": "stderr",
     "output_type": "stream",
     "text": [
      "\r",
      " 60%|██████    | 18/30 [13:29<09:25, 47.14s/it]"
     ]
    },
    {
     "name": "stdout",
     "output_type": "stream",
     "text": [
      "Iteration: 17 Start Value [0.43667071] action [2]\n"
     ]
    },
    {
     "name": "stderr",
     "output_type": "stream",
     "text": [
      "\r",
      " 63%|██████▎   | 19/30 [14:16<08:36, 46.95s/it]"
     ]
    },
    {
     "name": "stdout",
     "output_type": "stream",
     "text": [
      "Iteration: 18 Start Value [0.43684163] action [2]\n"
     ]
    },
    {
     "name": "stderr",
     "output_type": "stream",
     "text": [
      "\r",
      " 67%|██████▋   | 20/30 [15:04<07:53, 47.39s/it]"
     ]
    },
    {
     "name": "stdout",
     "output_type": "stream",
     "text": [
      "Iteration: 19 Start Value [0.43674411] action [2]\n"
     ]
    },
    {
     "name": "stderr",
     "output_type": "stream",
     "text": [
      "\r",
      " 70%|███████   | 21/30 [15:54<07:13, 48.13s/it]"
     ]
    },
    {
     "name": "stdout",
     "output_type": "stream",
     "text": [
      "Iteration: 20 Start Value [0.43794629] action [2]\n"
     ]
    },
    {
     "name": "stderr",
     "output_type": "stream",
     "text": [
      "\r",
      " 73%|███████▎  | 22/30 [16:42<06:24, 48.03s/it]"
     ]
    },
    {
     "name": "stdout",
     "output_type": "stream",
     "text": [
      "Iteration: 21 Start Value [0.43784664] action [2]\n"
     ]
    },
    {
     "name": "stderr",
     "output_type": "stream",
     "text": [
      "\r",
      " 77%|███████▋  | 23/30 [17:30<05:37, 48.17s/it]"
     ]
    },
    {
     "name": "stdout",
     "output_type": "stream",
     "text": [
      "Iteration: 22 Start Value [0.43821185] action [2]\n"
     ]
    },
    {
     "name": "stderr",
     "output_type": "stream",
     "text": [
      "\r",
      " 80%|████████  | 24/30 [18:19<04:49, 48.17s/it]"
     ]
    },
    {
     "name": "stdout",
     "output_type": "stream",
     "text": [
      "Iteration: 23 Start Value [0.43819697] action [2]\n"
     ]
    },
    {
     "name": "stderr",
     "output_type": "stream",
     "text": [
      "\r",
      " 83%|████████▎ | 25/30 [19:05<03:58, 47.71s/it]"
     ]
    },
    {
     "name": "stdout",
     "output_type": "stream",
     "text": [
      "Iteration: 24 Start Value [0.43807149] action [2]\n"
     ]
    },
    {
     "name": "stderr",
     "output_type": "stream",
     "text": [
      "\r",
      " 87%|████████▋ | 26/30 [19:52<03:10, 47.55s/it]"
     ]
    },
    {
     "name": "stdout",
     "output_type": "stream",
     "text": [
      "Iteration: 25 Start Value [0.43783672] action [2]\n"
     ]
    },
    {
     "name": "stderr",
     "output_type": "stream",
     "text": [
      "\r",
      " 90%|█████████ | 27/30 [20:40<02:23, 47.69s/it]"
     ]
    },
    {
     "name": "stdout",
     "output_type": "stream",
     "text": [
      "Iteration: 26 Start Value [0.4378994] action [2]\n"
     ]
    },
    {
     "name": "stderr",
     "output_type": "stream",
     "text": [
      "\r",
      " 93%|█████████▎| 28/30 [21:30<01:36, 48.24s/it]"
     ]
    },
    {
     "name": "stdout",
     "output_type": "stream",
     "text": [
      "Iteration: 27 Start Value [0.43796512] action [2]\n"
     ]
    },
    {
     "name": "stderr",
     "output_type": "stream",
     "text": [
      "\r",
      " 97%|█████████▋| 29/30 [22:21<00:49, 49.18s/it]"
     ]
    },
    {
     "name": "stdout",
     "output_type": "stream",
     "text": [
      "Iteration: 28 Start Value [0.43786756] action [2]\n"
     ]
    },
    {
     "name": "stderr",
     "output_type": "stream",
     "text": [
      "100%|██████████| 30/30 [23:08<00:00, 46.30s/it]"
     ]
    },
    {
     "name": "stdout",
     "output_type": "stream",
     "text": [
      "Iteration: 29 Start Value [0.43799765] action [2]\n",
      "N= 70  completed\n"
     ]
    },
    {
     "name": "stderr",
     "output_type": "stream",
     "text": [
      "\n"
     ]
    },
    {
     "name": "stdout",
     "output_type": "stream",
     "text": [
      "      ID  TIME  FEATURE_0  FEATURE_1 ACTION  RISK  OG_CLUSTER  \\\n",
      "0      0     0   0.152394  -0.427155      2 -0.04           0   \n",
      "1      0     1   1.792621  -0.753618      1 -0.04           1   \n",
      "2      0     2   1.108150  -1.925765      0 -0.04           6   \n",
      "3      0     3   1.394554  -0.154035      2 -0.04           1   \n",
      "4      0     4   2.083171  -0.777025      3 -0.04           2   \n",
      "...   ..   ...        ...        ...    ...   ...         ...   \n",
      "2058  89    13   3.651459  -1.880110      2 -0.04           8   \n",
      "2059  89    14   4.520833  -1.925882      1 -0.04           9   \n",
      "2060  89    15   4.099693  -2.741066      1 -0.04          14   \n",
      "2061  89    16   4.632726  -3.013811      1 -0.04          19   \n",
      "2062  89    17   4.600587  -4.764851   None  1.00          24   \n",
      "\n",
      "                                           x_t2  \\\n",
      "0     [1.7926213048954307, -0.7536184009973239]   \n",
      "1      [1.1081495190040518, -1.925764663270084]   \n",
      "2     [1.394553850314439, -0.15403490110110885]   \n",
      "3     [2.0831710494234117, -0.7770249291097993]   \n",
      "4     [1.7173338295807712, -0.5154491033931015]   \n",
      "...                                         ...   \n",
      "2058   [4.520832580142408, -1.9258819256316069]   \n",
      "2059   [4.099693453697417, -2.7410664808937035]   \n",
      "2060    [4.632726054548011, -3.013810641035754]   \n",
      "2061    [4.60058669300132, -4.7648513159881976]   \n",
      "2062                                         []   \n",
      "\n",
      "                                                a0  \\\n",
      "0     [1.7926213048954307, -0.7536184009973239, 0]   \n",
      "1      [1.1081495190040518, -1.925764663270084, 0]   \n",
      "2     [1.394553850314439, -0.15403490110110885, 0]   \n",
      "3     [2.0831710494234117, -0.7770249291097993, 0]   \n",
      "4     [1.7173338295807712, -0.5154491033931015, 0]   \n",
      "...                                            ...   \n",
      "2058   [4.520832580142408, -1.9258819256316069, 0]   \n",
      "2059   [4.099693453697417, -2.7410664808937035, 0]   \n",
      "2060    [4.632726054548011, -3.013810641035754, 0]   \n",
      "2061    [4.60058669300132, -4.7648513159881976, 0]   \n",
      "2062                                           [0]   \n",
      "\n",
      "                                                a1  \\\n",
      "0     [1.7926213048954307, -0.7536184009973239, 1]   \n",
      "1      [1.1081495190040518, -1.925764663270084, 1]   \n",
      "2     [1.394553850314439, -0.15403490110110885, 1]   \n",
      "3     [2.0831710494234117, -0.7770249291097993, 1]   \n",
      "4     [1.7173338295807712, -0.5154491033931015, 1]   \n",
      "...                                            ...   \n",
      "2058   [4.520832580142408, -1.9258819256316069, 1]   \n",
      "2059   [4.099693453697417, -2.7410664808937035, 1]   \n",
      "2060    [4.632726054548011, -3.013810641035754, 1]   \n",
      "2061    [4.60058669300132, -4.7648513159881976, 1]   \n",
      "2062                                           [1]   \n",
      "\n",
      "                                                a2  \\\n",
      "0     [1.7926213048954307, -0.7536184009973239, 2]   \n",
      "1      [1.1081495190040518, -1.925764663270084, 2]   \n",
      "2     [1.394553850314439, -0.15403490110110885, 2]   \n",
      "3     [2.0831710494234117, -0.7770249291097993, 2]   \n",
      "4     [1.7173338295807712, -0.5154491033931015, 2]   \n",
      "...                                            ...   \n",
      "2058   [4.520832580142408, -1.9258819256316069, 2]   \n",
      "2059   [4.099693453697417, -2.7410664808937035, 2]   \n",
      "2060    [4.632726054548011, -3.013810641035754, 2]   \n",
      "2061    [4.60058669300132, -4.7648513159881976, 2]   \n",
      "2062                                           [2]   \n",
      "\n",
      "                                                a3  \n",
      "0     [1.7926213048954307, -0.7536184009973239, 3]  \n",
      "1      [1.1081495190040518, -1.925764663270084, 3]  \n",
      "2     [1.394553850314439, -0.15403490110110885, 3]  \n",
      "3     [2.0831710494234117, -0.7770249291097993, 3]  \n",
      "4     [1.7173338295807712, -0.5154491033931015, 3]  \n",
      "...                                            ...  \n",
      "2058   [4.520832580142408, -1.9258819256316069, 3]  \n",
      "2059   [4.099693453697417, -2.7410664808937035, 3]  \n",
      "2060    [4.632726054548011, -3.013810641035754, 3]  \n",
      "2061    [4.60058669300132, -4.7648513159881976, 3]  \n",
      "2062                                           [3]  \n",
      "\n",
      "[2035 rows x 12 columns]\n",
      "New training features\n",
      "      FEATURE_0  FEATURE_1 ACTION\n",
      "0      0.152394  -0.427155      2\n",
      "1      1.792621  -0.753618      1\n",
      "2      1.108150  -1.925765      0\n",
      "3      1.394554  -0.154035      2\n",
      "4      2.083171  -0.777025      3\n",
      "...         ...        ...    ...\n",
      "2058   3.651459  -1.880110      2\n",
      "2059   4.520833  -1.925882      1\n",
      "2060   4.099693  -2.741066      1\n",
      "2061   4.632726  -3.013811      1\n",
      "2062   4.600587  -4.764851      0\n",
      "\n",
      "[2035 rows x 3 columns]\n"
     ]
    },
    {
     "name": "stderr",
     "output_type": "stream",
     "text": [
      "  3%|▎         | 1/30 [00:00<00:26,  1.11it/s]"
     ]
    },
    {
     "name": "stdout",
     "output_type": "stream",
     "text": [
      "Iteration: 0 Start Value [-0.08] action [0]\n"
     ]
    },
    {
     "name": "stderr",
     "output_type": "stream",
     "text": [
      "\r",
      "  7%|▋         | 2/30 [00:58<08:23, 17.99s/it]"
     ]
    },
    {
     "name": "stdout",
     "output_type": "stream",
     "text": [
      "Iteration: 1 Start Value [-0.12] action [0]\n"
     ]
    },
    {
     "name": "stderr",
     "output_type": "stream",
     "text": [
      "\r",
      " 10%|█         | 3/30 [02:00<13:57, 31.02s/it]"
     ]
    },
    {
     "name": "stdout",
     "output_type": "stream",
     "text": [
      "Iteration: 2 Start Value [-0.1599989] action [0]\n"
     ]
    },
    {
     "name": "stderr",
     "output_type": "stream",
     "text": [
      "\r",
      " 13%|█▎        | 4/30 [03:00<17:14, 39.81s/it]"
     ]
    },
    {
     "name": "stdout",
     "output_type": "stream",
     "text": [
      "Iteration: 3 Start Value [-0.1999978] action [0]\n"
     ]
    },
    {
     "name": "stderr",
     "output_type": "stream",
     "text": [
      "\r",
      " 17%|█▋        | 5/30 [04:01<19:13, 46.15s/it]"
     ]
    },
    {
     "name": "stdout",
     "output_type": "stream",
     "text": [
      "Iteration: 4 Start Value [-0.2399915] action [0]\n"
     ]
    },
    {
     "name": "stderr",
     "output_type": "stream",
     "text": [
      "\r",
      " 20%|██        | 6/30 [05:01<20:10, 50.42s/it]"
     ]
    },
    {
     "name": "stdout",
     "output_type": "stream",
     "text": [
      "Iteration: 5 Start Value [-0.27997062] action [0]\n"
     ]
    },
    {
     "name": "stderr",
     "output_type": "stream",
     "text": [
      "\r",
      " 23%|██▎       | 7/30 [06:00<20:19, 53.02s/it]"
     ]
    },
    {
     "name": "stdout",
     "output_type": "stream",
     "text": [
      "Iteration: 6 Start Value [-0.31992686] action [0]\n"
     ]
    },
    {
     "name": "stderr",
     "output_type": "stream",
     "text": [
      "\r",
      " 27%|██▋       | 8/30 [07:03<20:29, 55.88s/it]"
     ]
    },
    {
     "name": "stdout",
     "output_type": "stream",
     "text": [
      "Iteration: 7 Start Value [-0.35990239] action [0]\n"
     ]
    },
    {
     "name": "stderr",
     "output_type": "stream",
     "text": [
      "\r",
      " 30%|███       | 9/30 [08:04<20:07, 57.49s/it]"
     ]
    },
    {
     "name": "stdout",
     "output_type": "stream",
     "text": [
      "Iteration: 8 Start Value [-0.39988374] action [0]\n"
     ]
    },
    {
     "name": "stderr",
     "output_type": "stream",
     "text": [
      "\r",
      " 33%|███▎      | 10/30 [09:06<19:37, 58.89s/it]"
     ]
    },
    {
     "name": "stdout",
     "output_type": "stream",
     "text": [
      "Iteration: 9 Start Value [-0.43940466] action [2]\n"
     ]
    },
    {
     "name": "stderr",
     "output_type": "stream",
     "text": [
      "\r",
      " 37%|███▋      | 11/30 [10:07<18:45, 59.26s/it]"
     ]
    },
    {
     "name": "stdout",
     "output_type": "stream",
     "text": [
      "Iteration: 10 Start Value [-0.47709718] action [2]\n"
     ]
    },
    {
     "name": "stderr",
     "output_type": "stream",
     "text": [
      "\r",
      " 40%|████      | 12/30 [11:06<17:46, 59.27s/it]"
     ]
    },
    {
     "name": "stdout",
     "output_type": "stream",
     "text": [
      "Iteration: 11 Start Value [-0.5122287] action [2]\n"
     ]
    },
    {
     "name": "stderr",
     "output_type": "stream",
     "text": [
      "\r",
      " 43%|████▎     | 13/30 [12:10<17:15, 60.89s/it]"
     ]
    },
    {
     "name": "stdout",
     "output_type": "stream",
     "text": [
      "Iteration: 12 Start Value [-0.06698736] action [2]\n"
     ]
    },
    {
     "name": "stderr",
     "output_type": "stream",
     "text": [
      "\r",
      " 47%|████▋     | 14/30 [13:11<16:14, 60.89s/it]"
     ]
    },
    {
     "name": "stdout",
     "output_type": "stream",
     "text": [
      "Iteration: 13 Start Value [0.32388712] action [2]\n"
     ]
    },
    {
     "name": "stderr",
     "output_type": "stream",
     "text": [
      "\r",
      " 50%|█████     | 15/30 [14:15<15:27, 61.84s/it]"
     ]
    },
    {
     "name": "stdout",
     "output_type": "stream",
     "text": [
      "Iteration: 14 Start Value [0.41726205] action [2]\n"
     ]
    },
    {
     "name": "stderr",
     "output_type": "stream",
     "text": [
      "\r",
      " 53%|█████▎    | 16/30 [15:16<14:21, 61.52s/it]"
     ]
    },
    {
     "name": "stdout",
     "output_type": "stream",
     "text": [
      "Iteration: 15 Start Value [0.42905401] action [2]\n"
     ]
    },
    {
     "name": "stderr",
     "output_type": "stream",
     "text": [
      "\r",
      " 57%|█████▋    | 17/30 [16:17<13:16, 61.24s/it]"
     ]
    },
    {
     "name": "stdout",
     "output_type": "stream",
     "text": [
      "Iteration: 16 Start Value [0.44570369] action [2]\n"
     ]
    },
    {
     "name": "stderr",
     "output_type": "stream",
     "text": [
      "\r",
      " 60%|██████    | 18/30 [17:20<12:20, 61.73s/it]"
     ]
    },
    {
     "name": "stdout",
     "output_type": "stream",
     "text": [
      "Iteration: 17 Start Value [0.43800092] action [2]\n"
     ]
    },
    {
     "name": "stderr",
     "output_type": "stream",
     "text": [
      "\r",
      " 63%|██████▎   | 19/30 [18:20<11:13, 61.23s/it]"
     ]
    },
    {
     "name": "stdout",
     "output_type": "stream",
     "text": [
      "Iteration: 18 Start Value [0.43811724] action [2]\n"
     ]
    },
    {
     "name": "stderr",
     "output_type": "stream",
     "text": [
      "\r",
      " 67%|██████▋   | 20/30 [19:30<10:38, 63.85s/it]"
     ]
    },
    {
     "name": "stdout",
     "output_type": "stream",
     "text": [
      "Iteration: 19 Start Value [0.438778] action [2]\n"
     ]
    },
    {
     "name": "stderr",
     "output_type": "stream",
     "text": [
      "\r",
      " 70%|███████   | 21/30 [20:35<09:38, 64.28s/it]"
     ]
    },
    {
     "name": "stdout",
     "output_type": "stream",
     "text": [
      "Iteration: 20 Start Value [0.43868968] action [2]\n"
     ]
    },
    {
     "name": "stderr",
     "output_type": "stream",
     "text": [
      "\r",
      " 73%|███████▎  | 22/30 [21:37<08:27, 63.46s/it]"
     ]
    },
    {
     "name": "stdout",
     "output_type": "stream",
     "text": [
      "Iteration: 21 Start Value [0.43851454] action [2]\n"
     ]
    },
    {
     "name": "stderr",
     "output_type": "stream",
     "text": [
      "\r",
      " 77%|███████▋  | 23/30 [22:37<07:18, 62.70s/it]"
     ]
    },
    {
     "name": "stdout",
     "output_type": "stream",
     "text": [
      "Iteration: 22 Start Value [0.43864759] action [2]\n"
     ]
    },
    {
     "name": "stderr",
     "output_type": "stream",
     "text": [
      "\r",
      " 80%|████████  | 24/30 [23:38<06:12, 62.01s/it]"
     ]
    },
    {
     "name": "stdout",
     "output_type": "stream",
     "text": [
      "Iteration: 23 Start Value [0.43863039] action [2]\n"
     ]
    },
    {
     "name": "stderr",
     "output_type": "stream",
     "text": [
      "\r",
      " 83%|████████▎ | 25/30 [24:40<05:09, 61.94s/it]"
     ]
    },
    {
     "name": "stdout",
     "output_type": "stream",
     "text": [
      "Iteration: 24 Start Value [0.43867086] action [2]\n"
     ]
    },
    {
     "name": "stderr",
     "output_type": "stream",
     "text": [
      "\r",
      " 87%|████████▋ | 26/30 [25:45<04:12, 63.05s/it]"
     ]
    },
    {
     "name": "stdout",
     "output_type": "stream",
     "text": [
      "Iteration: 25 Start Value [0.43865761] action [2]\n"
     ]
    },
    {
     "name": "stderr",
     "output_type": "stream",
     "text": [
      "\r",
      " 90%|█████████ | 27/30 [26:49<03:09, 63.14s/it]"
     ]
    },
    {
     "name": "stdout",
     "output_type": "stream",
     "text": [
      "Iteration: 26 Start Value [0.43870121] action [2]\n"
     ]
    },
    {
     "name": "stderr",
     "output_type": "stream",
     "text": [
      "\r",
      " 93%|█████████▎| 28/30 [27:53<02:06, 63.49s/it]"
     ]
    },
    {
     "name": "stdout",
     "output_type": "stream",
     "text": [
      "Iteration: 27 Start Value [0.43853441] action [2]\n"
     ]
    },
    {
     "name": "stderr",
     "output_type": "stream",
     "text": [
      "\r",
      " 97%|█████████▋| 29/30 [28:54<01:02, 62.73s/it]"
     ]
    },
    {
     "name": "stdout",
     "output_type": "stream",
     "text": [
      "Iteration: 28 Start Value [0.43867935] action [2]\n"
     ]
    },
    {
     "name": "stderr",
     "output_type": "stream",
     "text": [
      "100%|██████████| 30/30 [29:57<00:00, 59.90s/it]"
     ]
    },
    {
     "name": "stdout",
     "output_type": "stream",
     "text": [
      "Iteration: 29 Start Value [0.43873464] action [2]\n",
      "N= 90  completed\n"
     ]
    },
    {
     "name": "stderr",
     "output_type": "stream",
     "text": [
      "\n"
     ]
    },
    {
     "name": "stdout",
     "output_type": "stream",
     "text": [
      "       ID  TIME  FEATURE_0  FEATURE_1 ACTION  RISK  OG_CLUSTER  \\\n",
      "0       0     0   0.152394  -0.427155      2 -0.04           0   \n",
      "1       0     1   1.792621  -0.753618      1 -0.04           1   \n",
      "2       0     2   1.108150  -1.925765      0 -0.04           6   \n",
      "3       0     3   1.394554  -0.154035      2 -0.04           1   \n",
      "4       0     4   2.083171  -0.777025      3 -0.04           2   \n",
      "...   ...   ...        ...        ...    ...   ...         ...   \n",
      "2507  109    19   4.756827  -2.397442      3 -0.04          14   \n",
      "2508  109    20   4.553830  -2.653030      2 -0.04          14   \n",
      "2509  109    21   4.747007  -2.280489      1 -0.04          14   \n",
      "2510  109    22   4.213968  -3.394871      1 -0.04          19   \n",
      "2511  109    23   4.146635  -4.360424   None  1.00          24   \n",
      "\n",
      "                                           x_t2  \\\n",
      "0     [1.7926213048954307, -0.7536184009973239]   \n",
      "1      [1.1081495190040518, -1.925764663270084]   \n",
      "2     [1.394553850314439, -0.15403490110110885]   \n",
      "3     [2.0831710494234117, -0.7770249291097993]   \n",
      "4     [1.7173338295807712, -0.5154491033931015]   \n",
      "...                                         ...   \n",
      "2507   [4.5538298941240125, -2.653029712258527]   \n",
      "2508   [4.747006773440917, -2.2804885829363037]   \n",
      "2509    [4.213967507926305, -3.394870650097681]   \n",
      "2510    [4.146634589205042, -4.360423656043686]   \n",
      "2511                                         []   \n",
      "\n",
      "                                                a0  \\\n",
      "0     [1.7926213048954307, -0.7536184009973239, 0]   \n",
      "1      [1.1081495190040518, -1.925764663270084, 0]   \n",
      "2     [1.394553850314439, -0.15403490110110885, 0]   \n",
      "3     [2.0831710494234117, -0.7770249291097993, 0]   \n",
      "4     [1.7173338295807712, -0.5154491033931015, 0]   \n",
      "...                                            ...   \n",
      "2507   [4.5538298941240125, -2.653029712258527, 0]   \n",
      "2508   [4.747006773440917, -2.2804885829363037, 0]   \n",
      "2509    [4.213967507926305, -3.394870650097681, 0]   \n",
      "2510    [4.146634589205042, -4.360423656043686, 0]   \n",
      "2511                                           [0]   \n",
      "\n",
      "                                                a1  \\\n",
      "0     [1.7926213048954307, -0.7536184009973239, 1]   \n",
      "1      [1.1081495190040518, -1.925764663270084, 1]   \n",
      "2     [1.394553850314439, -0.15403490110110885, 1]   \n",
      "3     [2.0831710494234117, -0.7770249291097993, 1]   \n",
      "4     [1.7173338295807712, -0.5154491033931015, 1]   \n",
      "...                                            ...   \n",
      "2507   [4.5538298941240125, -2.653029712258527, 1]   \n",
      "2508   [4.747006773440917, -2.2804885829363037, 1]   \n",
      "2509    [4.213967507926305, -3.394870650097681, 1]   \n",
      "2510    [4.146634589205042, -4.360423656043686, 1]   \n",
      "2511                                           [1]   \n",
      "\n",
      "                                                a2  \\\n",
      "0     [1.7926213048954307, -0.7536184009973239, 2]   \n",
      "1      [1.1081495190040518, -1.925764663270084, 2]   \n",
      "2     [1.394553850314439, -0.15403490110110885, 2]   \n",
      "3     [2.0831710494234117, -0.7770249291097993, 2]   \n",
      "4     [1.7173338295807712, -0.5154491033931015, 2]   \n",
      "...                                            ...   \n",
      "2507   [4.5538298941240125, -2.653029712258527, 2]   \n",
      "2508   [4.747006773440917, -2.2804885829363037, 2]   \n",
      "2509    [4.213967507926305, -3.394870650097681, 2]   \n",
      "2510    [4.146634589205042, -4.360423656043686, 2]   \n",
      "2511                                           [2]   \n",
      "\n",
      "                                                a3  \n",
      "0     [1.7926213048954307, -0.7536184009973239, 3]  \n",
      "1      [1.1081495190040518, -1.925764663270084, 3]  \n",
      "2     [1.394553850314439, -0.15403490110110885, 3]  \n",
      "3     [2.0831710494234117, -0.7770249291097993, 3]  \n",
      "4     [1.7173338295807712, -0.5154491033931015, 3]  \n",
      "...                                            ...  \n",
      "2507   [4.5538298941240125, -2.653029712258527, 3]  \n",
      "2508   [4.747006773440917, -2.2804885829363037, 3]  \n",
      "2509    [4.213967507926305, -3.394870650097681, 3]  \n",
      "2510    [4.146634589205042, -4.360423656043686, 3]  \n",
      "2511                                           [3]  \n",
      "\n",
      "[2480 rows x 12 columns]\n",
      "New training features\n",
      "      FEATURE_0  FEATURE_1 ACTION\n",
      "0      0.152394  -0.427155      2\n",
      "1      1.792621  -0.753618      1\n",
      "2      1.108150  -1.925765      0\n",
      "3      1.394554  -0.154035      2\n",
      "4      2.083171  -0.777025      3\n",
      "...         ...        ...    ...\n",
      "2507   4.756827  -2.397442      3\n",
      "2508   4.553830  -2.653030      2\n",
      "2509   4.747007  -2.280489      1\n",
      "2510   4.213968  -3.394871      1\n",
      "2511   4.146635  -4.360424      0\n",
      "\n",
      "[2480 rows x 3 columns]\n"
     ]
    },
    {
     "name": "stderr",
     "output_type": "stream",
     "text": [
      "  3%|▎         | 1/30 [00:00<00:26,  1.08it/s]"
     ]
    },
    {
     "name": "stdout",
     "output_type": "stream",
     "text": [
      "Iteration: 0 Start Value [-0.08] action [0]\n"
     ]
    },
    {
     "name": "stderr",
     "output_type": "stream",
     "text": [
      "\r",
      "  7%|▋         | 2/30 [01:28<12:30, 26.81s/it]"
     ]
    },
    {
     "name": "stdout",
     "output_type": "stream",
     "text": [
      "Iteration: 1 Start Value [-0.11999848] action [0]\n"
     ]
    },
    {
     "name": "stderr",
     "output_type": "stream",
     "text": [
      "\r",
      " 10%|█         | 3/30 [02:44<18:48, 41.81s/it]"
     ]
    },
    {
     "name": "stdout",
     "output_type": "stream",
     "text": [
      "Iteration: 2 Start Value [-0.15999428] action [0]\n"
     ]
    },
    {
     "name": "stderr",
     "output_type": "stream",
     "text": [
      "\r",
      " 13%|█▎        | 4/30 [03:57<22:08, 51.09s/it]"
     ]
    },
    {
     "name": "stdout",
     "output_type": "stream",
     "text": [
      "Iteration: 3 Start Value [-0.1999893] action [0]\n"
     ]
    },
    {
     "name": "stderr",
     "output_type": "stream",
     "text": [
      "\r",
      " 17%|█▋        | 5/30 [05:22<25:28, 61.12s/it]"
     ]
    },
    {
     "name": "stdout",
     "output_type": "stream",
     "text": [
      "Iteration: 4 Start Value [-0.23998379] action [0]\n"
     ]
    },
    {
     "name": "stderr",
     "output_type": "stream",
     "text": [
      "\r",
      " 20%|██        | 6/30 [06:38<26:14, 65.61s/it]"
     ]
    },
    {
     "name": "stdout",
     "output_type": "stream",
     "text": [
      "Iteration: 5 Start Value [-0.27997169] action [0]\n"
     ]
    },
    {
     "name": "stderr",
     "output_type": "stream",
     "text": [
      "\r",
      " 23%|██▎       | 7/30 [07:51<26:04, 68.02s/it]"
     ]
    },
    {
     "name": "stdout",
     "output_type": "stream",
     "text": [
      "Iteration: 6 Start Value [-0.31995069] action [0]\n"
     ]
    },
    {
     "name": "stderr",
     "output_type": "stream",
     "text": [
      "\r",
      " 27%|██▋       | 8/30 [09:08<25:52, 70.57s/it]"
     ]
    },
    {
     "name": "stdout",
     "output_type": "stream",
     "text": [
      "Iteration: 7 Start Value [-0.35990501] action [0]\n"
     ]
    },
    {
     "name": "stderr",
     "output_type": "stream",
     "text": [
      "\r",
      " 30%|███       | 9/30 [10:24<25:14, 72.10s/it]"
     ]
    },
    {
     "name": "stdout",
     "output_type": "stream",
     "text": [
      "Iteration: 8 Start Value [-0.39986405] action [2]\n"
     ]
    },
    {
     "name": "stderr",
     "output_type": "stream",
     "text": [
      "\r",
      " 33%|███▎      | 10/30 [11:43<24:46, 74.33s/it]"
     ]
    },
    {
     "name": "stdout",
     "output_type": "stream",
     "text": [
      "Iteration: 9 Start Value [-0.43981047] action [2]\n"
     ]
    },
    {
     "name": "stderr",
     "output_type": "stream",
     "text": [
      "\r",
      " 37%|███▋      | 11/30 [12:59<23:42, 74.88s/it]"
     ]
    },
    {
     "name": "stdout",
     "output_type": "stream",
     "text": [
      "Iteration: 10 Start Value [-0.47659509] action [2]\n"
     ]
    },
    {
     "name": "stderr",
     "output_type": "stream",
     "text": [
      "\r",
      " 40%|████      | 12/30 [14:13<22:23, 74.64s/it]"
     ]
    },
    {
     "name": "stdout",
     "output_type": "stream",
     "text": [
      "Iteration: 11 Start Value [-0.5141277] action [2]\n"
     ]
    },
    {
     "name": "stderr",
     "output_type": "stream",
     "text": [
      "\r",
      " 43%|████▎     | 13/30 [15:28<21:10, 74.75s/it]"
     ]
    },
    {
     "name": "stdout",
     "output_type": "stream",
     "text": [
      "Iteration: 12 Start Value [-0.0801295] action [2]\n"
     ]
    },
    {
     "name": "stderr",
     "output_type": "stream",
     "text": [
      "\r",
      " 47%|████▋     | 14/30 [16:43<19:54, 74.68s/it]"
     ]
    },
    {
     "name": "stdout",
     "output_type": "stream",
     "text": [
      "Iteration: 13 Start Value [0.37286575] action [2]\n"
     ]
    },
    {
     "name": "stderr",
     "output_type": "stream",
     "text": [
      "\r",
      " 50%|█████     | 15/30 [17:56<18:31, 74.07s/it]"
     ]
    },
    {
     "name": "stdout",
     "output_type": "stream",
     "text": [
      "Iteration: 14 Start Value [0.42339169] action [2]\n"
     ]
    },
    {
     "name": "stderr",
     "output_type": "stream",
     "text": [
      "\r",
      " 53%|█████▎    | 16/30 [19:17<17:48, 76.32s/it]"
     ]
    },
    {
     "name": "stdout",
     "output_type": "stream",
     "text": [
      "Iteration: 15 Start Value [0.44418006] action [2]\n"
     ]
    },
    {
     "name": "stderr",
     "output_type": "stream",
     "text": [
      "\r",
      " 57%|█████▋    | 17/30 [20:39<16:51, 77.83s/it]"
     ]
    },
    {
     "name": "stdout",
     "output_type": "stream",
     "text": [
      "Iteration: 16 Start Value [0.4382389] action [2]\n"
     ]
    },
    {
     "name": "stderr",
     "output_type": "stream",
     "text": [
      "\r",
      " 60%|██████    | 18/30 [21:55<15:30, 77.56s/it]"
     ]
    },
    {
     "name": "stdout",
     "output_type": "stream",
     "text": [
      "Iteration: 17 Start Value [0.4390377] action [2]\n"
     ]
    },
    {
     "name": "stderr",
     "output_type": "stream",
     "text": [
      "\r",
      " 63%|██████▎   | 19/30 [23:14<14:17, 77.99s/it]"
     ]
    },
    {
     "name": "stdout",
     "output_type": "stream",
     "text": [
      "Iteration: 18 Start Value [0.43939685] action [2]\n"
     ]
    },
    {
     "name": "stderr",
     "output_type": "stream",
     "text": [
      "\r",
      " 67%|██████▋   | 20/30 [24:34<13:03, 78.39s/it]"
     ]
    },
    {
     "name": "stdout",
     "output_type": "stream",
     "text": [
      "Iteration: 19 Start Value [0.43907355] action [2]\n"
     ]
    },
    {
     "name": "stderr",
     "output_type": "stream",
     "text": [
      "\r",
      " 70%|███████   | 21/30 [25:48<11:33, 77.07s/it]"
     ]
    },
    {
     "name": "stdout",
     "output_type": "stream",
     "text": [
      "Iteration: 20 Start Value [0.43940343] action [2]\n"
     ]
    },
    {
     "name": "stderr",
     "output_type": "stream",
     "text": [
      "\r",
      " 73%|███████▎  | 22/30 [27:05<10:15, 76.99s/it]"
     ]
    },
    {
     "name": "stdout",
     "output_type": "stream",
     "text": [
      "Iteration: 21 Start Value [0.43940956] action [2]\n"
     ]
    },
    {
     "name": "stderr",
     "output_type": "stream",
     "text": [
      "\r",
      " 77%|███████▋  | 23/30 [28:25<09:07, 78.18s/it]"
     ]
    },
    {
     "name": "stdout",
     "output_type": "stream",
     "text": [
      "Iteration: 22 Start Value [0.43950485] action [2]\n"
     ]
    },
    {
     "name": "stderr",
     "output_type": "stream",
     "text": [
      "\r",
      " 80%|████████  | 24/30 [29:43<07:48, 78.06s/it]"
     ]
    },
    {
     "name": "stdout",
     "output_type": "stream",
     "text": [
      "Iteration: 23 Start Value [0.43953281] action [2]\n"
     ]
    },
    {
     "name": "stderr",
     "output_type": "stream",
     "text": [
      "\r",
      " 83%|████████▎ | 25/30 [30:59<06:26, 77.36s/it]"
     ]
    },
    {
     "name": "stdout",
     "output_type": "stream",
     "text": [
      "Iteration: 24 Start Value [0.43951468] action [2]\n"
     ]
    },
    {
     "name": "stderr",
     "output_type": "stream",
     "text": [
      "\r",
      " 87%|████████▋ | 26/30 [32:15<05:07, 76.93s/it]"
     ]
    },
    {
     "name": "stdout",
     "output_type": "stream",
     "text": [
      "Iteration: 25 Start Value [0.4395548] action [2]\n"
     ]
    },
    {
     "name": "stderr",
     "output_type": "stream",
     "text": [
      "\r",
      " 90%|█████████ | 27/30 [33:32<03:50, 76.86s/it]"
     ]
    },
    {
     "name": "stdout",
     "output_type": "stream",
     "text": [
      "Iteration: 26 Start Value [0.43952993] action [2]\n"
     ]
    },
    {
     "name": "stderr",
     "output_type": "stream",
     "text": [
      "\r",
      " 93%|█████████▎| 28/30 [34:47<02:32, 76.43s/it]"
     ]
    },
    {
     "name": "stdout",
     "output_type": "stream",
     "text": [
      "Iteration: 27 Start Value [0.43954265] action [2]\n"
     ]
    },
    {
     "name": "stderr",
     "output_type": "stream",
     "text": [
      "\r",
      " 97%|█████████▋| 29/30 [36:07<01:17, 77.48s/it]"
     ]
    },
    {
     "name": "stdout",
     "output_type": "stream",
     "text": [
      "Iteration: 28 Start Value [0.4395235] action [2]\n"
     ]
    },
    {
     "name": "stderr",
     "output_type": "stream",
     "text": [
      "100%|██████████| 30/30 [37:23<00:00, 74.77s/it]"
     ]
    },
    {
     "name": "stdout",
     "output_type": "stream",
     "text": [
      "Iteration: 29 Start Value [0.43950657] action [2]\n"
     ]
    },
    {
     "name": "stderr",
     "output_type": "stream",
     "text": [
      "\n"
     ]
    },
    {
     "name": "stdout",
     "output_type": "stream",
     "text": [
      "N= 110  completed\n",
      "       ID  TIME  FEATURE_0  FEATURE_1 ACTION  RISK  OG_CLUSTER  \\\n",
      "0       0     0   0.152394  -0.427155      2 -0.04           0   \n",
      "1       0     1   1.792621  -0.753618      1 -0.04           1   \n",
      "2       0     2   1.108150  -1.925765      0 -0.04           6   \n",
      "3       0     3   1.394554  -0.154035      2 -0.04           1   \n",
      "4       0     4   2.083171  -0.777025      3 -0.04           2   \n",
      "...   ...   ...        ...        ...    ...   ...         ...   \n",
      "2967  129    15   4.786499  -1.908517      1 -0.04           9   \n",
      "2968  129    16   4.015244  -2.692500      1 -0.04          14   \n",
      "2969  129    17   4.183375  -3.124025      3 -0.04          19   \n",
      "2970  129    18   4.485957  -3.504692      1 -0.04          19   \n",
      "2971  129    19   4.981167  -4.864608   None  1.00          24   \n",
      "\n",
      "                                           x_t2  \\\n",
      "0     [1.7926213048954307, -0.7536184009973239]   \n",
      "1      [1.1081495190040518, -1.925764663270084]   \n",
      "2     [1.394553850314439, -0.15403490110110885]   \n",
      "3     [2.0831710494234117, -0.7770249291097993]   \n",
      "4     [1.7173338295807712, -0.5154491033931015]   \n",
      "...                                         ...   \n",
      "2967   [4.015244332475016, -2.6925001529052444]   \n",
      "2968   [4.183375314596392, -3.1240253025755282]   \n",
      "2969   [4.4859567137619365, -3.504691647585574]   \n",
      "2970   [4.9811665889476515, -4.864608298101606]   \n",
      "2971                                         []   \n",
      "\n",
      "                                                a0  \\\n",
      "0     [1.7926213048954307, -0.7536184009973239, 0]   \n",
      "1      [1.1081495190040518, -1.925764663270084, 0]   \n",
      "2     [1.394553850314439, -0.15403490110110885, 0]   \n",
      "3     [2.0831710494234117, -0.7770249291097993, 0]   \n",
      "4     [1.7173338295807712, -0.5154491033931015, 0]   \n",
      "...                                            ...   \n",
      "2967   [4.015244332475016, -2.6925001529052444, 0]   \n",
      "2968   [4.183375314596392, -3.1240253025755282, 0]   \n",
      "2969   [4.4859567137619365, -3.504691647585574, 0]   \n",
      "2970   [4.9811665889476515, -4.864608298101606, 0]   \n",
      "2971                                           [0]   \n",
      "\n",
      "                                                a1  \\\n",
      "0     [1.7926213048954307, -0.7536184009973239, 1]   \n",
      "1      [1.1081495190040518, -1.925764663270084, 1]   \n",
      "2     [1.394553850314439, -0.15403490110110885, 1]   \n",
      "3     [2.0831710494234117, -0.7770249291097993, 1]   \n",
      "4     [1.7173338295807712, -0.5154491033931015, 1]   \n",
      "...                                            ...   \n",
      "2967   [4.015244332475016, -2.6925001529052444, 1]   \n",
      "2968   [4.183375314596392, -3.1240253025755282, 1]   \n",
      "2969   [4.4859567137619365, -3.504691647585574, 1]   \n",
      "2970   [4.9811665889476515, -4.864608298101606, 1]   \n",
      "2971                                           [1]   \n",
      "\n",
      "                                                a2  \\\n",
      "0     [1.7926213048954307, -0.7536184009973239, 2]   \n",
      "1      [1.1081495190040518, -1.925764663270084, 2]   \n",
      "2     [1.394553850314439, -0.15403490110110885, 2]   \n",
      "3     [2.0831710494234117, -0.7770249291097993, 2]   \n",
      "4     [1.7173338295807712, -0.5154491033931015, 2]   \n",
      "...                                            ...   \n",
      "2967   [4.015244332475016, -2.6925001529052444, 2]   \n",
      "2968   [4.183375314596392, -3.1240253025755282, 2]   \n",
      "2969   [4.4859567137619365, -3.504691647585574, 2]   \n",
      "2970   [4.9811665889476515, -4.864608298101606, 2]   \n",
      "2971                                           [2]   \n",
      "\n",
      "                                                a3  \n",
      "0     [1.7926213048954307, -0.7536184009973239, 3]  \n",
      "1      [1.1081495190040518, -1.925764663270084, 3]  \n",
      "2     [1.394553850314439, -0.15403490110110885, 3]  \n",
      "3     [2.0831710494234117, -0.7770249291097993, 3]  \n",
      "4     [1.7173338295807712, -0.5154491033931015, 3]  \n",
      "...                                            ...  \n",
      "2967   [4.015244332475016, -2.6925001529052444, 3]  \n",
      "2968   [4.183375314596392, -3.1240253025755282, 3]  \n",
      "2969   [4.4859567137619365, -3.504691647585574, 3]  \n",
      "2970   [4.9811665889476515, -4.864608298101606, 3]  \n",
      "2971                                           [3]  \n",
      "\n",
      "[2932 rows x 12 columns]\n",
      "New training features\n",
      "      FEATURE_0  FEATURE_1 ACTION\n",
      "0      0.152394  -0.427155      2\n",
      "1      1.792621  -0.753618      1\n",
      "2      1.108150  -1.925765      0\n",
      "3      1.394554  -0.154035      2\n",
      "4      2.083171  -0.777025      3\n",
      "...         ...        ...    ...\n",
      "2967   4.786499  -1.908517      1\n",
      "2968   4.015244  -2.692500      1\n",
      "2969   4.183375  -3.124025      3\n",
      "2970   4.485957  -3.504692      1\n",
      "2971   4.981167  -4.864608      0\n",
      "\n",
      "[2932 rows x 3 columns]\n"
     ]
    },
    {
     "name": "stderr",
     "output_type": "stream",
     "text": [
      "  3%|▎         | 1/30 [00:00<00:26,  1.11it/s]"
     ]
    },
    {
     "name": "stdout",
     "output_type": "stream",
     "text": [
      "Iteration: 0 Start Value [-0.08] action [0]\n"
     ]
    },
    {
     "name": "stderr",
     "output_type": "stream",
     "text": [
      "\r",
      "  7%|▋         | 2/30 [01:30<12:50, 27.54s/it]"
     ]
    },
    {
     "name": "stdout",
     "output_type": "stream",
     "text": [
      "Iteration: 1 Start Value [-0.11999729] action [0]\n"
     ]
    },
    {
     "name": "stderr",
     "output_type": "stream",
     "text": [
      "\r",
      " 10%|█         | 3/30 [03:02<21:06, 46.91s/it]"
     ]
    },
    {
     "name": "stdout",
     "output_type": "stream",
     "text": [
      "Iteration: 2 Start Value [-0.15999576] action [0]\n"
     ]
    },
    {
     "name": "stderr",
     "output_type": "stream",
     "text": [
      "\r",
      " 13%|█▎        | 4/30 [04:39<26:47, 61.82s/it]"
     ]
    },
    {
     "name": "stdout",
     "output_type": "stream",
     "text": [
      "Iteration: 3 Start Value [-0.19999334] action [0]\n"
     ]
    },
    {
     "name": "stderr",
     "output_type": "stream",
     "text": [
      "\r",
      " 17%|█▋        | 5/30 [06:14<29:56, 71.85s/it]"
     ]
    },
    {
     "name": "stdout",
     "output_type": "stream",
     "text": [
      "Iteration: 4 Start Value [-0.239991] action [0]\n"
     ]
    },
    {
     "name": "stderr",
     "output_type": "stream",
     "text": [
      "\r",
      " 20%|██        | 6/30 [07:47<31:16, 78.18s/it]"
     ]
    },
    {
     "name": "stdout",
     "output_type": "stream",
     "text": [
      "Iteration: 5 Start Value [-0.27998521] action [0]\n"
     ]
    },
    {
     "name": "stderr",
     "output_type": "stream",
     "text": [
      "\r",
      " 23%|██▎       | 7/30 [09:16<31:13, 81.45s/it]"
     ]
    },
    {
     "name": "stdout",
     "output_type": "stream",
     "text": [
      "Iteration: 6 Start Value [-0.31996405] action [0]\n"
     ]
    },
    {
     "name": "stderr",
     "output_type": "stream",
     "text": [
      "\r",
      " 27%|██▋       | 8/30 [10:47<30:57, 84.41s/it]"
     ]
    },
    {
     "name": "stdout",
     "output_type": "stream",
     "text": [
      "Iteration: 7 Start Value [-0.35994279] action [0]\n"
     ]
    },
    {
     "name": "stderr",
     "output_type": "stream",
     "text": [
      "\r",
      " 30%|███       | 9/30 [12:19<30:17, 86.52s/it]"
     ]
    },
    {
     "name": "stdout",
     "output_type": "stream",
     "text": [
      "Iteration: 8 Start Value [-0.39991742] action [1]\n"
     ]
    },
    {
     "name": "stderr",
     "output_type": "stream",
     "text": [
      "\r",
      " 33%|███▎      | 10/30 [13:55<29:45, 89.28s/it]"
     ]
    },
    {
     "name": "stdout",
     "output_type": "stream",
     "text": [
      "Iteration: 9 Start Value [-0.4391913] action [2]\n"
     ]
    },
    {
     "name": "stderr",
     "output_type": "stream",
     "text": [
      "\r",
      " 37%|███▋      | 11/30 [15:27<28:34, 90.21s/it]"
     ]
    },
    {
     "name": "stdout",
     "output_type": "stream",
     "text": [
      "Iteration: 10 Start Value [-0.47784354] action [2]\n"
     ]
    },
    {
     "name": "stderr",
     "output_type": "stream",
     "text": [
      "\r",
      " 40%|████      | 12/30 [16:58<27:07, 90.40s/it]"
     ]
    },
    {
     "name": "stdout",
     "output_type": "stream",
     "text": [
      "Iteration: 11 Start Value [-0.51159383] action [2]\n"
     ]
    },
    {
     "name": "stderr",
     "output_type": "stream",
     "text": [
      "\r",
      " 43%|████▎     | 13/30 [18:30<25:48, 91.06s/it]"
     ]
    },
    {
     "name": "stdout",
     "output_type": "stream",
     "text": [
      "Iteration: 12 Start Value [-0.07512807] action [2]\n"
     ]
    },
    {
     "name": "stderr",
     "output_type": "stream",
     "text": [
      "\r",
      " 47%|████▋     | 14/30 [20:11<25:01, 93.81s/it]"
     ]
    },
    {
     "name": "stdout",
     "output_type": "stream",
     "text": [
      "Iteration: 13 Start Value [0.37649683] action [2]\n"
     ]
    },
    {
     "name": "stderr",
     "output_type": "stream",
     "text": [
      "\r",
      " 50%|█████     | 15/30 [21:54<24:10, 96.70s/it]"
     ]
    },
    {
     "name": "stdout",
     "output_type": "stream",
     "text": [
      "Iteration: 14 Start Value [0.4298656] action [2]\n"
     ]
    },
    {
     "name": "stderr",
     "output_type": "stream",
     "text": [
      "\r",
      " 53%|█████▎    | 16/30 [23:26<22:12, 95.16s/it]"
     ]
    },
    {
     "name": "stdout",
     "output_type": "stream",
     "text": [
      "Iteration: 15 Start Value [0.4379195] action [2]\n"
     ]
    },
    {
     "name": "stderr",
     "output_type": "stream",
     "text": [
      "\r",
      " 57%|█████▋    | 17/30 [24:59<20:31, 94.70s/it]"
     ]
    },
    {
     "name": "stdout",
     "output_type": "stream",
     "text": [
      "Iteration: 16 Start Value [0.43910964] action [2]\n"
     ]
    },
    {
     "name": "stderr",
     "output_type": "stream",
     "text": [
      "\r",
      " 60%|██████    | 18/30 [26:30<18:41, 93.42s/it]"
     ]
    },
    {
     "name": "stdout",
     "output_type": "stream",
     "text": [
      "Iteration: 17 Start Value [0.43837744] action [2]\n"
     ]
    },
    {
     "name": "stderr",
     "output_type": "stream",
     "text": [
      "\r",
      " 63%|██████▎   | 19/30 [28:04<17:10, 93.65s/it]"
     ]
    },
    {
     "name": "stdout",
     "output_type": "stream",
     "text": [
      "Iteration: 18 Start Value [0.4386359] action [2]\n"
     ]
    },
    {
     "name": "stderr",
     "output_type": "stream",
     "text": [
      "\r",
      " 67%|██████▋   | 20/30 [29:35<15:30, 93.02s/it]"
     ]
    },
    {
     "name": "stdout",
     "output_type": "stream",
     "text": [
      "Iteration: 19 Start Value [0.43906155] action [2]\n"
     ]
    },
    {
     "name": "stderr",
     "output_type": "stream",
     "text": [
      "\r",
      " 70%|███████   | 21/30 [31:05<13:47, 91.90s/it]"
     ]
    },
    {
     "name": "stdout",
     "output_type": "stream",
     "text": [
      "Iteration: 20 Start Value [0.43935139] action [2]\n"
     ]
    },
    {
     "name": "stderr",
     "output_type": "stream",
     "text": [
      "\r",
      " 73%|███████▎  | 22/30 [32:39<12:21, 92.68s/it]"
     ]
    },
    {
     "name": "stdout",
     "output_type": "stream",
     "text": [
      "Iteration: 21 Start Value [0.43929714] action [2]\n"
     ]
    },
    {
     "name": "stderr",
     "output_type": "stream",
     "text": [
      "\r",
      " 77%|███████▋  | 23/30 [34:06<10:36, 90.93s/it]"
     ]
    },
    {
     "name": "stdout",
     "output_type": "stream",
     "text": [
      "Iteration: 22 Start Value [0.43927743] action [2]\n"
     ]
    },
    {
     "name": "stderr",
     "output_type": "stream",
     "text": [
      "\r",
      " 80%|████████  | 24/30 [35:39<09:08, 91.50s/it]"
     ]
    },
    {
     "name": "stdout",
     "output_type": "stream",
     "text": [
      "Iteration: 23 Start Value [0.43931297] action [2]\n"
     ]
    },
    {
     "name": "stderr",
     "output_type": "stream",
     "text": [
      "\r",
      " 83%|████████▎ | 25/30 [37:08<07:34, 90.89s/it]"
     ]
    },
    {
     "name": "stdout",
     "output_type": "stream",
     "text": [
      "Iteration: 24 Start Value [0.43919974] action [2]\n"
     ]
    },
    {
     "name": "stderr",
     "output_type": "stream",
     "text": [
      "\r",
      " 87%|████████▋ | 26/30 [38:37<06:00, 90.24s/it]"
     ]
    },
    {
     "name": "stdout",
     "output_type": "stream",
     "text": [
      "Iteration: 25 Start Value [0.43937681] action [2]\n"
     ]
    },
    {
     "name": "stderr",
     "output_type": "stream",
     "text": [
      "\r",
      " 90%|█████████ | 27/30 [40:09<04:32, 90.80s/it]"
     ]
    },
    {
     "name": "stdout",
     "output_type": "stream",
     "text": [
      "Iteration: 26 Start Value [0.43934097] action [2]\n"
     ]
    },
    {
     "name": "stderr",
     "output_type": "stream",
     "text": [
      "\r",
      " 93%|█████████▎| 28/30 [41:44<03:03, 91.93s/it]"
     ]
    },
    {
     "name": "stdout",
     "output_type": "stream",
     "text": [
      "Iteration: 27 Start Value [0.43938991] action [2]\n"
     ]
    },
    {
     "name": "stderr",
     "output_type": "stream",
     "text": [
      "\r",
      " 97%|█████████▋| 29/30 [43:20<01:33, 93.10s/it]"
     ]
    },
    {
     "name": "stdout",
     "output_type": "stream",
     "text": [
      "Iteration: 28 Start Value [0.43933008] action [2]\n"
     ]
    },
    {
     "name": "stderr",
     "output_type": "stream",
     "text": [
      "100%|██████████| 30/30 [44:57<00:00, 89.93s/it]"
     ]
    },
    {
     "name": "stdout",
     "output_type": "stream",
     "text": [
      "Iteration: 29 Start Value [0.43926473] action [2]\n"
     ]
    },
    {
     "name": "stderr",
     "output_type": "stream",
     "text": [
      "\n"
     ]
    },
    {
     "name": "stdout",
     "output_type": "stream",
     "text": [
      "N= 130  completed\n",
      "       ID  TIME  FEATURE_0  FEATURE_1 ACTION  RISK  OG_CLUSTER  \\\n",
      "0       0     0   0.152394  -0.427155      2 -0.04           0   \n",
      "1       0     1   1.792621  -0.753618      1 -0.04           1   \n",
      "2       0     2   1.108150  -1.925765      0 -0.04           6   \n",
      "3       0     3   1.394554  -0.154035      2 -0.04           1   \n",
      "4       0     4   2.083171  -0.777025      3 -0.04           2   \n",
      "...   ...   ...        ...        ...    ...   ...         ...   \n",
      "3429  149    21   3.382051  -1.820949      2 -0.04           8   \n",
      "3430  149    22   4.041142  -1.361088      1 -0.04           9   \n",
      "3431  149    23   4.165206  -2.873859      1 -0.04          14   \n",
      "3432  149    24   4.251922  -3.904161      1 -0.04          19   \n",
      "3433  149    25   4.171925  -4.038611   None  1.00          24   \n",
      "\n",
      "                                           x_t2  \\\n",
      "0     [1.7926213048954307, -0.7536184009973239]   \n",
      "1      [1.1081495190040518, -1.925764663270084]   \n",
      "2     [1.394553850314439, -0.15403490110110885]   \n",
      "3     [2.0831710494234117, -0.7770249291097993]   \n",
      "4     [1.7173338295807712, -0.5154491033931015]   \n",
      "...                                         ...   \n",
      "3429   [4.041142419953723, -1.3610878418835244]   \n",
      "3430   [4.165205557376588, -2.8738586414037885]   \n",
      "3431   [4.251921888749446, -3.9041613651172185]   \n",
      "3432     [4.171924732027945, -4.03861106071799]   \n",
      "3433                                         []   \n",
      "\n",
      "                                                a0  \\\n",
      "0     [1.7926213048954307, -0.7536184009973239, 0]   \n",
      "1      [1.1081495190040518, -1.925764663270084, 0]   \n",
      "2     [1.394553850314439, -0.15403490110110885, 0]   \n",
      "3     [2.0831710494234117, -0.7770249291097993, 0]   \n",
      "4     [1.7173338295807712, -0.5154491033931015, 0]   \n",
      "...                                            ...   \n",
      "3429   [4.041142419953723, -1.3610878418835244, 0]   \n",
      "3430   [4.165205557376588, -2.8738586414037885, 0]   \n",
      "3431   [4.251921888749446, -3.9041613651172185, 0]   \n",
      "3432     [4.171924732027945, -4.03861106071799, 0]   \n",
      "3433                                           [0]   \n",
      "\n",
      "                                                a1  \\\n",
      "0     [1.7926213048954307, -0.7536184009973239, 1]   \n",
      "1      [1.1081495190040518, -1.925764663270084, 1]   \n",
      "2     [1.394553850314439, -0.15403490110110885, 1]   \n",
      "3     [2.0831710494234117, -0.7770249291097993, 1]   \n",
      "4     [1.7173338295807712, -0.5154491033931015, 1]   \n",
      "...                                            ...   \n",
      "3429   [4.041142419953723, -1.3610878418835244, 1]   \n",
      "3430   [4.165205557376588, -2.8738586414037885, 1]   \n",
      "3431   [4.251921888749446, -3.9041613651172185, 1]   \n",
      "3432     [4.171924732027945, -4.03861106071799, 1]   \n",
      "3433                                           [1]   \n",
      "\n",
      "                                                a2  \\\n",
      "0     [1.7926213048954307, -0.7536184009973239, 2]   \n",
      "1      [1.1081495190040518, -1.925764663270084, 2]   \n",
      "2     [1.394553850314439, -0.15403490110110885, 2]   \n",
      "3     [2.0831710494234117, -0.7770249291097993, 2]   \n",
      "4     [1.7173338295807712, -0.5154491033931015, 2]   \n",
      "...                                            ...   \n",
      "3429   [4.041142419953723, -1.3610878418835244, 2]   \n",
      "3430   [4.165205557376588, -2.8738586414037885, 2]   \n",
      "3431   [4.251921888749446, -3.9041613651172185, 2]   \n",
      "3432     [4.171924732027945, -4.03861106071799, 2]   \n",
      "3433                                           [2]   \n",
      "\n",
      "                                                a3  \n",
      "0     [1.7926213048954307, -0.7536184009973239, 3]  \n",
      "1      [1.1081495190040518, -1.925764663270084, 3]  \n",
      "2     [1.394553850314439, -0.15403490110110885, 3]  \n",
      "3     [2.0831710494234117, -0.7770249291097993, 3]  \n",
      "4     [1.7173338295807712, -0.5154491033931015, 3]  \n",
      "...                                            ...  \n",
      "3429   [4.041142419953723, -1.3610878418835244, 3]  \n",
      "3430   [4.165205557376588, -2.8738586414037885, 3]  \n",
      "3431   [4.251921888749446, -3.9041613651172185, 3]  \n",
      "3432     [4.171924732027945, -4.03861106071799, 3]  \n",
      "3433                                           [3]  \n",
      "\n",
      "[3387 rows x 12 columns]\n",
      "New training features\n",
      "      FEATURE_0  FEATURE_1 ACTION\n",
      "0      0.152394  -0.427155      2\n",
      "1      1.792621  -0.753618      1\n",
      "2      1.108150  -1.925765      0\n",
      "3      1.394554  -0.154035      2\n",
      "4      2.083171  -0.777025      3\n",
      "...         ...        ...    ...\n",
      "3429   3.382051  -1.820949      2\n",
      "3430   4.041142  -1.361088      1\n",
      "3431   4.165206  -2.873859      1\n",
      "3432   4.251922  -3.904161      1\n",
      "3433   4.171925  -4.038611      0\n",
      "\n",
      "[3387 rows x 3 columns]\n"
     ]
    },
    {
     "name": "stderr",
     "output_type": "stream",
     "text": [
      "  3%|▎         | 1/30 [00:01<00:36,  1.26s/it]"
     ]
    },
    {
     "name": "stdout",
     "output_type": "stream",
     "text": [
      "Iteration: 0 Start Value [-0.08] action [0]\n"
     ]
    },
    {
     "name": "stderr",
     "output_type": "stream",
     "text": [
      "\r",
      "  7%|▋         | 2/30 [01:54<16:13, 34.78s/it]"
     ]
    },
    {
     "name": "stdout",
     "output_type": "stream",
     "text": [
      "Iteration: 1 Start Value [-0.11999767] action [0]\n"
     ]
    },
    {
     "name": "stderr",
     "output_type": "stream",
     "text": [
      "\r",
      " 10%|█         | 3/30 [03:43<25:45, 57.22s/it]"
     ]
    },
    {
     "name": "stdout",
     "output_type": "stream",
     "text": [
      "Iteration: 2 Start Value [-0.15999624] action [0]\n"
     ]
    },
    {
     "name": "stderr",
     "output_type": "stream",
     "text": [
      "\r",
      " 13%|█▎        | 4/30 [05:38<32:15, 74.44s/it]"
     ]
    },
    {
     "name": "stdout",
     "output_type": "stream",
     "text": [
      "Iteration: 3 Start Value [-0.19999516] action [0]\n"
     ]
    },
    {
     "name": "stderr",
     "output_type": "stream",
     "text": [
      "\r",
      " 17%|█▋        | 5/30 [07:23<34:46, 83.47s/it]"
     ]
    },
    {
     "name": "stdout",
     "output_type": "stream",
     "text": [
      "Iteration: 4 Start Value [-0.23999318] action [0]\n"
     ]
    },
    {
     "name": "stderr",
     "output_type": "stream",
     "text": [
      "\r",
      " 20%|██        | 6/30 [09:09<36:07, 90.31s/it]"
     ]
    },
    {
     "name": "stdout",
     "output_type": "stream",
     "text": [
      "Iteration: 5 Start Value [-0.27998647] action [0]\n"
     ]
    },
    {
     "name": "stderr",
     "output_type": "stream",
     "text": [
      "\r",
      " 23%|██▎       | 7/30 [10:55<36:25, 95.04s/it]"
     ]
    },
    {
     "name": "stdout",
     "output_type": "stream",
     "text": [
      "Iteration: 6 Start Value [-0.31996478] action [0]\n"
     ]
    },
    {
     "name": "stderr",
     "output_type": "stream",
     "text": [
      "\r",
      " 27%|██▋       | 8/30 [12:42<36:10, 98.67s/it]"
     ]
    },
    {
     "name": "stdout",
     "output_type": "stream",
     "text": [
      "Iteration: 7 Start Value [-0.359946] action [0]\n"
     ]
    },
    {
     "name": "stderr",
     "output_type": "stream",
     "text": [
      "\r",
      " 30%|███       | 9/30 [14:30<35:32, 101.55s/it]"
     ]
    },
    {
     "name": "stdout",
     "output_type": "stream",
     "text": [
      "Iteration: 8 Start Value [-0.39993329] action [1]\n"
     ]
    },
    {
     "name": "stderr",
     "output_type": "stream",
     "text": [
      "\r",
      " 33%|███▎      | 10/30 [16:15<34:13, 102.65s/it]"
     ]
    },
    {
     "name": "stdout",
     "output_type": "stream",
     "text": [
      "Iteration: 9 Start Value [-0.43821892] action [2]\n"
     ]
    },
    {
     "name": "stderr",
     "output_type": "stream",
     "text": [
      "\r",
      " 37%|███▋      | 11/30 [18:03<32:56, 104.03s/it]"
     ]
    },
    {
     "name": "stdout",
     "output_type": "stream",
     "text": [
      "Iteration: 10 Start Value [-0.47618215] action [2]\n"
     ]
    },
    {
     "name": "stderr",
     "output_type": "stream",
     "text": [
      "\r",
      " 40%|████      | 12/30 [20:06<32:54, 109.71s/it]"
     ]
    },
    {
     "name": "stdout",
     "output_type": "stream",
     "text": [
      "Iteration: 11 Start Value [-0.51247139] action [2]\n"
     ]
    },
    {
     "name": "stderr",
     "output_type": "stream",
     "text": [
      "\r",
      " 43%|████▎     | 13/30 [21:55<31:05, 109.73s/it]"
     ]
    },
    {
     "name": "stdout",
     "output_type": "stream",
     "text": [
      "Iteration: 12 Start Value [-0.05495258] action [2]\n"
     ]
    },
    {
     "name": "stderr",
     "output_type": "stream",
     "text": [
      "\r",
      " 47%|████▋     | 14/30 [23:38<28:41, 107.60s/it]"
     ]
    },
    {
     "name": "stdout",
     "output_type": "stream",
     "text": [
      "Iteration: 13 Start Value [0.38977688] action [2]\n"
     ]
    },
    {
     "name": "stderr",
     "output_type": "stream",
     "text": [
      "\r",
      " 50%|█████     | 15/30 [25:24<26:45, 107.03s/it]"
     ]
    },
    {
     "name": "stdout",
     "output_type": "stream",
     "text": [
      "Iteration: 14 Start Value [0.43206372] action [2]\n"
     ]
    },
    {
     "name": "stderr",
     "output_type": "stream",
     "text": [
      "\r",
      " 53%|█████▎    | 16/30 [27:08<24:47, 106.26s/it]"
     ]
    },
    {
     "name": "stdout",
     "output_type": "stream",
     "text": [
      "Iteration: 15 Start Value [0.4377934] action [2]\n"
     ]
    },
    {
     "name": "stderr",
     "output_type": "stream",
     "text": [
      "\r",
      " 57%|█████▋    | 17/30 [28:52<22:52, 105.57s/it]"
     ]
    },
    {
     "name": "stdout",
     "output_type": "stream",
     "text": [
      "Iteration: 16 Start Value [0.43927409] action [2]\n"
     ]
    },
    {
     "name": "stderr",
     "output_type": "stream",
     "text": [
      "\r",
      " 60%|██████    | 18/30 [30:47<21:40, 108.38s/it]"
     ]
    },
    {
     "name": "stdout",
     "output_type": "stream",
     "text": [
      "Iteration: 17 Start Value [0.43906566] action [2]\n"
     ]
    },
    {
     "name": "stderr",
     "output_type": "stream",
     "text": [
      "\r",
      " 63%|██████▎   | 19/30 [32:40<20:07, 109.73s/it]"
     ]
    },
    {
     "name": "stdout",
     "output_type": "stream",
     "text": [
      "Iteration: 18 Start Value [0.43898147] action [2]\n"
     ]
    },
    {
     "name": "stderr",
     "output_type": "stream",
     "text": [
      "\r",
      " 67%|██████▋   | 20/30 [34:41<18:52, 113.22s/it]"
     ]
    },
    {
     "name": "stdout",
     "output_type": "stream",
     "text": [
      "Iteration: 19 Start Value [0.43906362] action [2]\n"
     ]
    },
    {
     "name": "stderr",
     "output_type": "stream",
     "text": [
      "\r",
      " 70%|███████   | 21/30 [36:30<16:47, 111.92s/it]"
     ]
    },
    {
     "name": "stdout",
     "output_type": "stream",
     "text": [
      "Iteration: 20 Start Value [0.43941587] action [2]\n"
     ]
    },
    {
     "name": "stderr",
     "output_type": "stream",
     "text": [
      "\r",
      " 73%|███████▎  | 22/30 [38:22<14:54, 111.81s/it]"
     ]
    },
    {
     "name": "stdout",
     "output_type": "stream",
     "text": [
      "Iteration: 21 Start Value [0.43946183] action [2]\n"
     ]
    },
    {
     "name": "stderr",
     "output_type": "stream",
     "text": [
      "\r",
      " 77%|███████▋  | 23/30 [40:11<12:56, 110.91s/it]"
     ]
    },
    {
     "name": "stdout",
     "output_type": "stream",
     "text": [
      "Iteration: 22 Start Value [0.4394888] action [2]\n"
     ]
    },
    {
     "name": "stderr",
     "output_type": "stream",
     "text": [
      "\r",
      " 80%|████████  | 24/30 [42:19<11:37, 116.27s/it]"
     ]
    },
    {
     "name": "stdout",
     "output_type": "stream",
     "text": [
      "Iteration: 23 Start Value [0.43944185] action [2]\n"
     ]
    },
    {
     "name": "stderr",
     "output_type": "stream",
     "text": [
      "\r",
      " 83%|████████▎ | 25/30 [44:03<09:22, 112.41s/it]"
     ]
    },
    {
     "name": "stdout",
     "output_type": "stream",
     "text": [
      "Iteration: 24 Start Value [0.43945646] action [2]\n"
     ]
    },
    {
     "name": "stderr",
     "output_type": "stream",
     "text": [
      "\r",
      " 87%|████████▋ | 26/30 [45:49<07:22, 110.59s/it]"
     ]
    },
    {
     "name": "stdout",
     "output_type": "stream",
     "text": [
      "Iteration: 25 Start Value [0.43944497] action [2]\n"
     ]
    },
    {
     "name": "stderr",
     "output_type": "stream",
     "text": [
      "\r",
      " 90%|█████████ | 27/30 [47:40<05:31, 110.51s/it]"
     ]
    },
    {
     "name": "stdout",
     "output_type": "stream",
     "text": [
      "Iteration: 26 Start Value [0.43944879] action [2]\n"
     ]
    },
    {
     "name": "stderr",
     "output_type": "stream",
     "text": [
      "\r",
      " 93%|█████████▎| 28/30 [49:38<03:45, 113.00s/it]"
     ]
    },
    {
     "name": "stdout",
     "output_type": "stream",
     "text": [
      "Iteration: 27 Start Value [0.43944644] action [2]\n"
     ]
    },
    {
     "name": "stderr",
     "output_type": "stream",
     "text": [
      "\r",
      " 97%|█████████▋| 29/30 [51:33<01:53, 113.46s/it]"
     ]
    },
    {
     "name": "stdout",
     "output_type": "stream",
     "text": [
      "Iteration: 28 Start Value [0.43944125] action [2]\n"
     ]
    },
    {
     "name": "stderr",
     "output_type": "stream",
     "text": [
      "100%|██████████| 30/30 [53:23<00:00, 106.77s/it]"
     ]
    },
    {
     "name": "stdout",
     "output_type": "stream",
     "text": [
      "Iteration: 29 Start Value [0.43943754] action [2]\n"
     ]
    },
    {
     "name": "stderr",
     "output_type": "stream",
     "text": [
      "\n"
     ]
    },
    {
     "name": "stdout",
     "output_type": "stream",
     "text": [
      "N= 150  completed\n",
      "       ID  TIME  FEATURE_0  FEATURE_1 ACTION  RISK  OG_CLUSTER  \\\n",
      "0       0     0   0.152394  -0.427155      2 -0.04           0   \n",
      "1       0     1   1.792621  -0.753618      1 -0.04           1   \n",
      "2       0     2   1.108150  -1.925765      0 -0.04           6   \n",
      "3       0     3   1.394554  -0.154035      2 -0.04           1   \n",
      "4       0     4   2.083171  -0.777025      3 -0.04           2   \n",
      "...   ...   ...        ...        ...    ...   ...         ...   \n",
      "3902  169    19   4.157064  -0.776967      1 -0.04           4   \n",
      "3903  169    20   4.962530  -1.909769      1 -0.04           9   \n",
      "3904  169    21   4.042535  -2.575914      1 -0.04          14   \n",
      "3905  169    22   4.260425  -3.411896      1 -0.04          19   \n",
      "3906  169    23   4.965091  -4.130363   None  1.00          24   \n",
      "\n",
      "                                           x_t2  \\\n",
      "0     [1.7926213048954307, -0.7536184009973239]   \n",
      "1      [1.1081495190040518, -1.925764663270084]   \n",
      "2     [1.394553850314439, -0.15403490110110885]   \n",
      "3     [2.0831710494234117, -0.7770249291097993]   \n",
      "4     [1.7173338295807712, -0.5154491033931015]   \n",
      "...                                         ...   \n",
      "3902    [4.962530065884273, -1.909768834447365]   \n",
      "3903   [4.042534531258271, -2.5759139956306774]   \n",
      "3904    [4.260425078666442, -3.411895818877192]   \n",
      "3905    [4.965090838679398, -4.130362799775745]   \n",
      "3906                                         []   \n",
      "\n",
      "                                                a0  \\\n",
      "0     [1.7926213048954307, -0.7536184009973239, 0]   \n",
      "1      [1.1081495190040518, -1.925764663270084, 0]   \n",
      "2     [1.394553850314439, -0.15403490110110885, 0]   \n",
      "3     [2.0831710494234117, -0.7770249291097993, 0]   \n",
      "4     [1.7173338295807712, -0.5154491033931015, 0]   \n",
      "...                                            ...   \n",
      "3902    [4.962530065884273, -1.909768834447365, 0]   \n",
      "3903   [4.042534531258271, -2.5759139956306774, 0]   \n",
      "3904    [4.260425078666442, -3.411895818877192, 0]   \n",
      "3905    [4.965090838679398, -4.130362799775745, 0]   \n",
      "3906                                           [0]   \n",
      "\n",
      "                                                a1  \\\n",
      "0     [1.7926213048954307, -0.7536184009973239, 1]   \n",
      "1      [1.1081495190040518, -1.925764663270084, 1]   \n",
      "2     [1.394553850314439, -0.15403490110110885, 1]   \n",
      "3     [2.0831710494234117, -0.7770249291097993, 1]   \n",
      "4     [1.7173338295807712, -0.5154491033931015, 1]   \n",
      "...                                            ...   \n",
      "3902    [4.962530065884273, -1.909768834447365, 1]   \n",
      "3903   [4.042534531258271, -2.5759139956306774, 1]   \n",
      "3904    [4.260425078666442, -3.411895818877192, 1]   \n",
      "3905    [4.965090838679398, -4.130362799775745, 1]   \n",
      "3906                                           [1]   \n",
      "\n",
      "                                                a2  \\\n",
      "0     [1.7926213048954307, -0.7536184009973239, 2]   \n",
      "1      [1.1081495190040518, -1.925764663270084, 2]   \n",
      "2     [1.394553850314439, -0.15403490110110885, 2]   \n",
      "3     [2.0831710494234117, -0.7770249291097993, 2]   \n",
      "4     [1.7173338295807712, -0.5154491033931015, 2]   \n",
      "...                                            ...   \n",
      "3902    [4.962530065884273, -1.909768834447365, 2]   \n",
      "3903   [4.042534531258271, -2.5759139956306774, 2]   \n",
      "3904    [4.260425078666442, -3.411895818877192, 2]   \n",
      "3905    [4.965090838679398, -4.130362799775745, 2]   \n",
      "3906                                           [2]   \n",
      "\n",
      "                                                a3  \n",
      "0     [1.7926213048954307, -0.7536184009973239, 3]  \n",
      "1      [1.1081495190040518, -1.925764663270084, 3]  \n",
      "2     [1.394553850314439, -0.15403490110110885, 3]  \n",
      "3     [2.0831710494234117, -0.7770249291097993, 3]  \n",
      "4     [1.7173338295807712, -0.5154491033931015, 3]  \n",
      "...                                            ...  \n",
      "3902    [4.962530065884273, -1.909768834447365, 3]  \n",
      "3903   [4.042534531258271, -2.5759139956306774, 3]  \n",
      "3904    [4.260425078666442, -3.411895818877192, 3]  \n",
      "3905    [4.965090838679398, -4.130362799775745, 3]  \n",
      "3906                                           [3]  \n",
      "\n",
      "[3851 rows x 12 columns]\n",
      "New training features\n",
      "      FEATURE_0  FEATURE_1 ACTION\n",
      "0      0.152394  -0.427155      2\n",
      "1      1.792621  -0.753618      1\n",
      "2      1.108150  -1.925765      0\n",
      "3      1.394554  -0.154035      2\n",
      "4      2.083171  -0.777025      3\n",
      "...         ...        ...    ...\n",
      "3902   4.157064  -0.776967      1\n",
      "3903   4.962530  -1.909769      1\n",
      "3904   4.042535  -2.575914      1\n",
      "3905   4.260425  -3.411896      1\n",
      "3906   4.965091  -4.130363      0\n",
      "\n",
      "[3851 rows x 3 columns]\n"
     ]
    },
    {
     "name": "stderr",
     "output_type": "stream",
     "text": [
      "  3%|▎         | 1/30 [00:02<01:08,  2.37s/it]"
     ]
    },
    {
     "name": "stdout",
     "output_type": "stream",
     "text": [
      "Iteration: 0 Start Value [-0.08] action [0]\n"
     ]
    },
    {
     "name": "stderr",
     "output_type": "stream",
     "text": [
      "\r",
      "  7%|▋         | 2/30 [02:12<19:02, 40.80s/it]"
     ]
    },
    {
     "name": "stdout",
     "output_type": "stream",
     "text": [
      "Iteration: 1 Start Value [-0.11999789] action [0]\n"
     ]
    },
    {
     "name": "stderr",
     "output_type": "stream",
     "text": [
      "\r",
      " 10%|█         | 3/30 [04:12<29:01, 64.49s/it]"
     ]
    },
    {
     "name": "stdout",
     "output_type": "stream",
     "text": [
      "Iteration: 2 Start Value [-0.1599891] action [0]\n"
     ]
    },
    {
     "name": "stderr",
     "output_type": "stream",
     "text": [
      "\r",
      " 13%|█▎        | 4/30 [06:16<35:40, 82.33s/it]"
     ]
    },
    {
     "name": "stdout",
     "output_type": "stream",
     "text": [
      "Iteration: 3 Start Value [-0.19998745] action [0]\n"
     ]
    },
    {
     "name": "stderr",
     "output_type": "stream",
     "text": [
      "\r",
      " 17%|█▋        | 5/30 [08:15<38:53, 93.33s/it]"
     ]
    },
    {
     "name": "stdout",
     "output_type": "stream",
     "text": [
      "Iteration: 4 Start Value [-0.2399854] action [0]\n"
     ]
    },
    {
     "name": "stderr",
     "output_type": "stream",
     "text": [
      "\r",
      " 20%|██        | 6/30 [10:19<41:03, 102.63s/it]"
     ]
    },
    {
     "name": "stdout",
     "output_type": "stream",
     "text": [
      "Iteration: 5 Start Value [-0.27997991] action [0]\n"
     ]
    },
    {
     "name": "stderr",
     "output_type": "stream",
     "text": [
      "\r",
      " 23%|██▎       | 7/30 [12:24<41:54, 109.34s/it]"
     ]
    },
    {
     "name": "stdout",
     "output_type": "stream",
     "text": [
      "Iteration: 6 Start Value [-0.31996413] action [0]\n"
     ]
    },
    {
     "name": "stderr",
     "output_type": "stream",
     "text": [
      "\r",
      " 27%|██▋       | 8/30 [14:29<41:47, 114.00s/it]"
     ]
    },
    {
     "name": "stdout",
     "output_type": "stream",
     "text": [
      "Iteration: 7 Start Value [-0.35992684] action [0]\n"
     ]
    },
    {
     "name": "stderr",
     "output_type": "stream",
     "text": [
      "\r",
      " 30%|███       | 9/30 [16:34<41:00, 117.17s/it]"
     ]
    },
    {
     "name": "stdout",
     "output_type": "stream",
     "text": [
      "Iteration: 8 Start Value [-0.39991229] action [2]\n"
     ]
    },
    {
     "name": "stderr",
     "output_type": "stream",
     "text": [
      "\r",
      " 33%|███▎      | 10/30 [18:41<40:00, 120.05s/it]"
     ]
    },
    {
     "name": "stdout",
     "output_type": "stream",
     "text": [
      "Iteration: 9 Start Value [-0.43938086] action [2]\n"
     ]
    },
    {
     "name": "stderr",
     "output_type": "stream",
     "text": [
      "\r",
      " 37%|███▋      | 11/30 [20:42<38:08, 120.44s/it]"
     ]
    },
    {
     "name": "stdout",
     "output_type": "stream",
     "text": [
      "Iteration: 10 Start Value [-0.47670525] action [2]\n"
     ]
    },
    {
     "name": "stderr",
     "output_type": "stream",
     "text": [
      "\r",
      " 40%|████      | 12/30 [22:44<36:14, 120.80s/it]"
     ]
    },
    {
     "name": "stdout",
     "output_type": "stream",
     "text": [
      "Iteration: 11 Start Value [-0.51479569] action [2]\n"
     ]
    },
    {
     "name": "stderr",
     "output_type": "stream",
     "text": [
      "\r",
      " 43%|████▎     | 13/30 [24:49<34:34, 122.04s/it]"
     ]
    },
    {
     "name": "stdout",
     "output_type": "stream",
     "text": [
      "Iteration: 12 Start Value [-0.09977314] action [2]\n"
     ]
    },
    {
     "name": "stderr",
     "output_type": "stream",
     "text": [
      "\r",
      " 47%|████▋     | 14/30 [27:06<33:45, 126.60s/it]"
     ]
    },
    {
     "name": "stdout",
     "output_type": "stream",
     "text": [
      "Iteration: 13 Start Value [0.3791814] action [2]\n"
     ]
    },
    {
     "name": "stderr",
     "output_type": "stream",
     "text": [
      "\r",
      " 50%|█████     | 15/30 [29:13<31:42, 126.85s/it]"
     ]
    },
    {
     "name": "stdout",
     "output_type": "stream",
     "text": [
      "Iteration: 14 Start Value [0.43287355] action [2]\n"
     ]
    },
    {
     "name": "stderr",
     "output_type": "stream",
     "text": [
      "\r",
      " 53%|█████▎    | 16/30 [31:14<29:09, 124.94s/it]"
     ]
    },
    {
     "name": "stdout",
     "output_type": "stream",
     "text": [
      "Iteration: 15 Start Value [0.4382791] action [2]\n"
     ]
    },
    {
     "name": "stderr",
     "output_type": "stream",
     "text": [
      "\r",
      " 57%|█████▋    | 17/30 [33:15<26:49, 123.79s/it]"
     ]
    },
    {
     "name": "stdout",
     "output_type": "stream",
     "text": [
      "Iteration: 16 Start Value [0.43933357] action [2]\n"
     ]
    },
    {
     "name": "stderr",
     "output_type": "stream",
     "text": [
      "\r",
      " 60%|██████    | 18/30 [35:15<24:33, 122.77s/it]"
     ]
    },
    {
     "name": "stdout",
     "output_type": "stream",
     "text": [
      "Iteration: 17 Start Value [0.43892207] action [2]\n"
     ]
    },
    {
     "name": "stderr",
     "output_type": "stream",
     "text": [
      "\r",
      " 63%|██████▎   | 19/30 [37:15<22:21, 121.93s/it]"
     ]
    },
    {
     "name": "stdout",
     "output_type": "stream",
     "text": [
      "Iteration: 18 Start Value [0.43905666] action [2]\n"
     ]
    },
    {
     "name": "stderr",
     "output_type": "stream",
     "text": [
      "\r",
      " 67%|██████▋   | 20/30 [39:17<20:18, 121.82s/it]"
     ]
    },
    {
     "name": "stdout",
     "output_type": "stream",
     "text": [
      "Iteration: 19 Start Value [0.43810043] action [2]\n"
     ]
    },
    {
     "name": "stderr",
     "output_type": "stream",
     "text": [
      "\r",
      " 70%|███████   | 21/30 [41:20<18:20, 122.25s/it]"
     ]
    },
    {
     "name": "stdout",
     "output_type": "stream",
     "text": [
      "Iteration: 20 Start Value [0.43912441] action [2]\n"
     ]
    },
    {
     "name": "stderr",
     "output_type": "stream",
     "text": [
      "\r",
      " 73%|███████▎  | 22/30 [43:48<17:20, 130.04s/it]"
     ]
    },
    {
     "name": "stdout",
     "output_type": "stream",
     "text": [
      "Iteration: 21 Start Value [0.4391794] action [2]\n"
     ]
    },
    {
     "name": "stderr",
     "output_type": "stream",
     "text": [
      "\r",
      " 77%|███████▋  | 23/30 [45:53<14:58, 128.34s/it]"
     ]
    },
    {
     "name": "stdout",
     "output_type": "stream",
     "text": [
      "Iteration: 22 Start Value [0.43918107] action [2]\n"
     ]
    },
    {
     "name": "stderr",
     "output_type": "stream",
     "text": [
      "\r",
      " 80%|████████  | 24/30 [47:53<12:36, 126.02s/it]"
     ]
    },
    {
     "name": "stdout",
     "output_type": "stream",
     "text": [
      "Iteration: 23 Start Value [0.43920974] action [2]\n"
     ]
    },
    {
     "name": "stderr",
     "output_type": "stream",
     "text": [
      "\r",
      " 83%|████████▎ | 25/30 [49:29<09:44, 116.96s/it]"
     ]
    },
    {
     "name": "stdout",
     "output_type": "stream",
     "text": [
      "Iteration: 24 Start Value [0.43918391] action [2]\n"
     ]
    },
    {
     "name": "stderr",
     "output_type": "stream",
     "text": [
      "\r",
      " 87%|████████▋ | 26/30 [51:10<07:29, 112.32s/it]"
     ]
    },
    {
     "name": "stdout",
     "output_type": "stream",
     "text": [
      "Iteration: 25 Start Value [0.43917454] action [2]\n"
     ]
    },
    {
     "name": "stderr",
     "output_type": "stream",
     "text": [
      "\r",
      " 90%|█████████ | 27/30 [52:47<05:23, 107.73s/it]"
     ]
    },
    {
     "name": "stdout",
     "output_type": "stream",
     "text": [
      "Iteration: 26 Start Value [0.43917558] action [2]\n"
     ]
    },
    {
     "name": "stderr",
     "output_type": "stream",
     "text": [
      "\r",
      " 93%|█████████▎| 28/30 [54:24<03:28, 104.29s/it]"
     ]
    },
    {
     "name": "stdout",
     "output_type": "stream",
     "text": [
      "Iteration: 27 Start Value [0.43918283] action [2]\n"
     ]
    },
    {
     "name": "stderr",
     "output_type": "stream",
     "text": [
      "\r",
      " 97%|█████████▋| 29/30 [55:58<01:41, 101.30s/it]"
     ]
    },
    {
     "name": "stdout",
     "output_type": "stream",
     "text": [
      "Iteration: 28 Start Value [0.43917869] action [2]\n"
     ]
    },
    {
     "name": "stderr",
     "output_type": "stream",
     "text": [
      "100%|██████████| 30/30 [57:54<00:00, 115.83s/it]"
     ]
    },
    {
     "name": "stdout",
     "output_type": "stream",
     "text": [
      "Iteration: 29 Start Value [0.43915999] action [2]\n"
     ]
    },
    {
     "name": "stderr",
     "output_type": "stream",
     "text": [
      "\n"
     ]
    },
    {
     "name": "stdout",
     "output_type": "stream",
     "text": [
      "N= 170  completed\n",
      "       ID  TIME  FEATURE_0  FEATURE_1 ACTION  RISK  OG_CLUSTER  \\\n",
      "0       0     0   0.152394  -0.427155      2 -0.04           0   \n",
      "1       0     1   1.792621  -0.753618      1 -0.04           1   \n",
      "2       0     2   1.108150  -1.925765      0 -0.04           6   \n",
      "3       0     3   1.394554  -0.154035      2 -0.04           1   \n",
      "4       0     4   2.083171  -0.777025      3 -0.04           2   \n",
      "...   ...   ...        ...        ...    ...   ...         ...   \n",
      "4587  199    19   3.656283  -2.544925      0 -0.04          13   \n",
      "4588  199    20   3.440870  -1.802740      3 -0.04           8   \n",
      "4589  199    21   3.789302  -1.020273      1 -0.04           8   \n",
      "4590  199    22   3.641488  -2.712436      0 -0.04          13   \n",
      "4591  199    23   3.855524  -1.134984      2 -0.04           8   \n",
      "\n",
      "                                           x_t2  \\\n",
      "0     [1.7926213048954307, -0.7536184009973239]   \n",
      "1      [1.1081495190040518, -1.925764663270084]   \n",
      "2     [1.394553850314439, -0.15403490110110885]   \n",
      "3     [2.0831710494234117, -0.7770249291097993]   \n",
      "4     [1.7173338295807712, -0.5154491033931015]   \n",
      "...                                         ...   \n",
      "4587  [3.4408702387069936, -1.8027403603771075]   \n",
      "4588  [3.7893020395825374, -1.0202725629481482]   \n",
      "4589   [3.6414881606842786, -2.712435551536982]   \n",
      "4590  [3.8555243042934304, -1.1349843162571165]   \n",
      "4591   [4.813761668107932, -1.5839043255076055]   \n",
      "\n",
      "                                                a0  \\\n",
      "0     [1.7926213048954307, -0.7536184009973239, 0]   \n",
      "1      [1.1081495190040518, -1.925764663270084, 0]   \n",
      "2     [1.394553850314439, -0.15403490110110885, 0]   \n",
      "3     [2.0831710494234117, -0.7770249291097993, 0]   \n",
      "4     [1.7173338295807712, -0.5154491033931015, 0]   \n",
      "...                                            ...   \n",
      "4587  [3.4408702387069936, -1.8027403603771075, 0]   \n",
      "4588  [3.7893020395825374, -1.0202725629481482, 0]   \n",
      "4589   [3.6414881606842786, -2.712435551536982, 0]   \n",
      "4590  [3.8555243042934304, -1.1349843162571165, 0]   \n",
      "4591   [4.813761668107932, -1.5839043255076055, 0]   \n",
      "\n",
      "                                                a1  \\\n",
      "0     [1.7926213048954307, -0.7536184009973239, 1]   \n",
      "1      [1.1081495190040518, -1.925764663270084, 1]   \n",
      "2     [1.394553850314439, -0.15403490110110885, 1]   \n",
      "3     [2.0831710494234117, -0.7770249291097993, 1]   \n",
      "4     [1.7173338295807712, -0.5154491033931015, 1]   \n",
      "...                                            ...   \n",
      "4587  [3.4408702387069936, -1.8027403603771075, 1]   \n",
      "4588  [3.7893020395825374, -1.0202725629481482, 1]   \n",
      "4589   [3.6414881606842786, -2.712435551536982, 1]   \n",
      "4590  [3.8555243042934304, -1.1349843162571165, 1]   \n",
      "4591   [4.813761668107932, -1.5839043255076055, 1]   \n",
      "\n",
      "                                                a2  \\\n",
      "0     [1.7926213048954307, -0.7536184009973239, 2]   \n",
      "1      [1.1081495190040518, -1.925764663270084, 2]   \n",
      "2     [1.394553850314439, -0.15403490110110885, 2]   \n",
      "3     [2.0831710494234117, -0.7770249291097993, 2]   \n",
      "4     [1.7173338295807712, -0.5154491033931015, 2]   \n",
      "...                                            ...   \n",
      "4587  [3.4408702387069936, -1.8027403603771075, 2]   \n",
      "4588  [3.7893020395825374, -1.0202725629481482, 2]   \n",
      "4589   [3.6414881606842786, -2.712435551536982, 2]   \n",
      "4590  [3.8555243042934304, -1.1349843162571165, 2]   \n",
      "4591   [4.813761668107932, -1.5839043255076055, 2]   \n",
      "\n",
      "                                                a3  \n",
      "0     [1.7926213048954307, -0.7536184009973239, 3]  \n",
      "1      [1.1081495190040518, -1.925764663270084, 3]  \n",
      "2     [1.394553850314439, -0.15403490110110885, 3]  \n",
      "3     [2.0831710494234117, -0.7770249291097993, 3]  \n",
      "4     [1.7173338295807712, -0.5154491033931015, 3]  \n",
      "...                                            ...  \n",
      "4587  [3.4408702387069936, -1.8027403603771075, 3]  \n",
      "4588  [3.7893020395825374, -1.0202725629481482, 3]  \n",
      "4589   [3.6414881606842786, -2.712435551536982, 3]  \n",
      "4590  [3.8555243042934304, -1.1349843162571165, 3]  \n",
      "4591   [4.813761668107932, -1.5839043255076055, 3]  \n",
      "\n",
      "[4524 rows x 12 columns]\n",
      "New training features\n",
      "      FEATURE_0  FEATURE_1 ACTION\n",
      "0      0.152394  -0.427155      2\n",
      "1      1.792621  -0.753618      1\n",
      "2      1.108150  -1.925765      0\n",
      "3      1.394554  -0.154035      2\n",
      "4      2.083171  -0.777025      3\n",
      "...         ...        ...    ...\n",
      "4587   3.656283  -2.544925      0\n",
      "4588   3.440870  -1.802740      3\n",
      "4589   3.789302  -1.020273      1\n",
      "4590   3.641488  -2.712436      0\n",
      "4591   3.855524  -1.134984      2\n",
      "\n",
      "[4524 rows x 3 columns]\n"
     ]
    },
    {
     "name": "stderr",
     "output_type": "stream",
     "text": [
      "  3%|▎         | 1/30 [00:02<01:26,  2.98s/it]"
     ]
    },
    {
     "name": "stdout",
     "output_type": "stream",
     "text": [
      "Iteration: 0 Start Value [-0.08] action [0]\n"
     ]
    },
    {
     "name": "stderr",
     "output_type": "stream",
     "text": [
      "\r",
      "  7%|▋         | 2/30 [02:13<19:18, 41.38s/it]"
     ]
    },
    {
     "name": "stdout",
     "output_type": "stream",
     "text": [
      "Iteration: 1 Start Value [-0.11999725] action [0]\n"
     ]
    },
    {
     "name": "stderr",
     "output_type": "stream",
     "text": [
      "\r",
      " 10%|█         | 3/30 [04:14<29:15, 65.00s/it]"
     ]
    },
    {
     "name": "stdout",
     "output_type": "stream",
     "text": [
      "Iteration: 2 Start Value [-0.15999696] action [0]\n"
     ]
    },
    {
     "name": "stderr",
     "output_type": "stream",
     "text": [
      "\r",
      " 13%|█▎        | 4/30 [06:37<38:23, 88.61s/it]"
     ]
    },
    {
     "name": "stdout",
     "output_type": "stream",
     "text": [
      "Iteration: 3 Start Value [-0.19999526] action [0]\n"
     ]
    },
    {
     "name": "stderr",
     "output_type": "stream",
     "text": [
      "\r",
      " 17%|█▋        | 5/30 [08:53<42:50, 102.82s/it]"
     ]
    },
    {
     "name": "stdout",
     "output_type": "stream",
     "text": [
      "Iteration: 4 Start Value [-0.23999293] action [0]\n"
     ]
    },
    {
     "name": "stderr",
     "output_type": "stream",
     "text": [
      "\r",
      " 20%|██        | 6/30 [11:17<46:01, 115.05s/it]"
     ]
    },
    {
     "name": "stdout",
     "output_type": "stream",
     "text": [
      "Iteration: 5 Start Value [-0.27998447] action [0]\n"
     ]
    },
    {
     "name": "stderr",
     "output_type": "stream",
     "text": [
      "\r",
      " 23%|██▎       | 7/30 [13:45<47:54, 124.98s/it]"
     ]
    },
    {
     "name": "stdout",
     "output_type": "stream",
     "text": [
      "Iteration: 6 Start Value [-0.31996445] action [0]\n"
     ]
    },
    {
     "name": "stderr",
     "output_type": "stream",
     "text": [
      "\r",
      " 27%|██▋       | 8/30 [15:49<45:45, 124.80s/it]"
     ]
    },
    {
     "name": "stdout",
     "output_type": "stream",
     "text": [
      "Iteration: 7 Start Value [-0.35995017] action [0]\n"
     ]
    },
    {
     "name": "stderr",
     "output_type": "stream",
     "text": [
      "\r",
      " 30%|███       | 9/30 [17:59<44:09, 126.19s/it]"
     ]
    },
    {
     "name": "stdout",
     "output_type": "stream",
     "text": [
      "Iteration: 8 Start Value [-0.39993239] action [1]\n"
     ]
    },
    {
     "name": "stderr",
     "output_type": "stream",
     "text": [
      "\r",
      " 33%|███▎      | 10/30 [19:59<41:28, 124.40s/it]"
     ]
    },
    {
     "name": "stdout",
     "output_type": "stream",
     "text": [
      "Iteration: 9 Start Value [-0.4385393] action [2]\n"
     ]
    },
    {
     "name": "stderr",
     "output_type": "stream",
     "text": [
      "\r",
      " 37%|███▋      | 11/30 [22:26<41:29, 131.04s/it]"
     ]
    },
    {
     "name": "stdout",
     "output_type": "stream",
     "text": [
      "Iteration: 10 Start Value [-0.47803585] action [2]\n"
     ]
    },
    {
     "name": "stderr",
     "output_type": "stream",
     "text": [
      "\r",
      " 40%|████      | 12/30 [24:54<40:54, 136.38s/it]"
     ]
    },
    {
     "name": "stdout",
     "output_type": "stream",
     "text": [
      "Iteration: 11 Start Value [-0.51332152] action [2]\n"
     ]
    },
    {
     "name": "stderr",
     "output_type": "stream",
     "text": [
      "\r",
      " 43%|████▎     | 13/30 [27:26<39:54, 140.88s/it]"
     ]
    },
    {
     "name": "stdout",
     "output_type": "stream",
     "text": [
      "Iteration: 12 Start Value [-0.01216075] action [2]\n"
     ]
    },
    {
     "name": "stderr",
     "output_type": "stream",
     "text": [
      "\r",
      " 47%|████▋     | 14/30 [29:52<37:58, 142.43s/it]"
     ]
    },
    {
     "name": "stdout",
     "output_type": "stream",
     "text": [
      "Iteration: 13 Start Value [0.38258074] action [2]\n"
     ]
    },
    {
     "name": "stderr",
     "output_type": "stream",
     "text": [
      "\r",
      " 50%|█████     | 15/30 [32:16<35:46, 143.08s/it]"
     ]
    },
    {
     "name": "stdout",
     "output_type": "stream",
     "text": [
      "Iteration: 14 Start Value [0.43459182] action [2]\n"
     ]
    },
    {
     "name": "stderr",
     "output_type": "stream",
     "text": [
      "\r",
      " 53%|█████▎    | 16/30 [35:44<37:52, 162.35s/it]"
     ]
    },
    {
     "name": "stdout",
     "output_type": "stream",
     "text": [
      "Iteration: 15 Start Value [0.43838377] action [2]\n"
     ]
    },
    {
     "name": "stderr",
     "output_type": "stream",
     "text": [
      "\r",
      " 57%|█████▋    | 17/30 [37:52<32:57, 152.13s/it]"
     ]
    },
    {
     "name": "stdout",
     "output_type": "stream",
     "text": [
      "Iteration: 16 Start Value [0.43963733] action [2]\n"
     ]
    },
    {
     "name": "stderr",
     "output_type": "stream",
     "text": [
      "\r",
      " 60%|██████    | 18/30 [41:04<32:47, 163.96s/it]"
     ]
    },
    {
     "name": "stdout",
     "output_type": "stream",
     "text": [
      "Iteration: 17 Start Value [0.43914034] action [2]\n"
     ]
    },
    {
     "name": "stderr",
     "output_type": "stream",
     "text": [
      "\r",
      " 63%|██████▎   | 19/30 [45:52<36:55, 201.38s/it]"
     ]
    },
    {
     "name": "stdout",
     "output_type": "stream",
     "text": [
      "Iteration: 18 Start Value [0.43872027] action [2]\n"
     ]
    },
    {
     "name": "stderr",
     "output_type": "stream",
     "text": [
      "\r",
      " 67%|██████▋   | 20/30 [49:27<34:13, 205.31s/it]"
     ]
    },
    {
     "name": "stdout",
     "output_type": "stream",
     "text": [
      "Iteration: 19 Start Value [0.43804107] action [2]\n"
     ]
    },
    {
     "name": "stderr",
     "output_type": "stream",
     "text": [
      "\r",
      " 70%|███████   | 21/30 [51:34<27:17, 181.91s/it]"
     ]
    },
    {
     "name": "stdout",
     "output_type": "stream",
     "text": [
      "Iteration: 20 Start Value [0.43910691] action [2]\n"
     ]
    },
    {
     "name": "stderr",
     "output_type": "stream",
     "text": [
      "\r",
      " 73%|███████▎  | 22/30 [53:40<22:01, 165.14s/it]"
     ]
    },
    {
     "name": "stdout",
     "output_type": "stream",
     "text": [
      "Iteration: 21 Start Value [0.43903764] action [2]\n"
     ]
    },
    {
     "name": "stderr",
     "output_type": "stream",
     "text": [
      "\r",
      " 77%|███████▋  | 23/30 [55:34<17:28, 149.76s/it]"
     ]
    },
    {
     "name": "stdout",
     "output_type": "stream",
     "text": [
      "Iteration: 22 Start Value [0.43908344] action [2]\n"
     ]
    },
    {
     "name": "stderr",
     "output_type": "stream",
     "text": [
      "\r",
      " 80%|████████  | 24/30 [57:27<13:51, 138.63s/it]"
     ]
    },
    {
     "name": "stdout",
     "output_type": "stream",
     "text": [
      "Iteration: 23 Start Value [0.43912028] action [2]\n"
     ]
    },
    {
     "name": "stderr",
     "output_type": "stream",
     "text": [
      "\r",
      " 83%|████████▎ | 25/30 [59:20<10:55, 131.04s/it]"
     ]
    },
    {
     "name": "stdout",
     "output_type": "stream",
     "text": [
      "Iteration: 24 Start Value [0.43898307] action [2]\n"
     ]
    },
    {
     "name": "stderr",
     "output_type": "stream",
     "text": [
      "\r",
      " 87%|████████▋ | 26/30 [1:01:09<08:17, 124.46s/it]"
     ]
    },
    {
     "name": "stdout",
     "output_type": "stream",
     "text": [
      "Iteration: 25 Start Value [0.43896594] action [2]\n"
     ]
    },
    {
     "name": "stderr",
     "output_type": "stream",
     "text": [
      "\r",
      " 90%|█████████ | 27/30 [1:03:04<06:04, 121.55s/it]"
     ]
    },
    {
     "name": "stdout",
     "output_type": "stream",
     "text": [
      "Iteration: 26 Start Value [0.43924944] action [2]\n"
     ]
    },
    {
     "name": "stderr",
     "output_type": "stream",
     "text": [
      "\r",
      " 93%|█████████▎| 28/30 [1:05:07<04:03, 121.94s/it]"
     ]
    },
    {
     "name": "stdout",
     "output_type": "stream",
     "text": [
      "Iteration: 27 Start Value [0.43895685] action [2]\n"
     ]
    },
    {
     "name": "stderr",
     "output_type": "stream",
     "text": [
      "\r",
      " 97%|█████████▋| 29/30 [1:07:07<02:01, 121.48s/it]"
     ]
    },
    {
     "name": "stdout",
     "output_type": "stream",
     "text": [
      "Iteration: 28 Start Value [0.43904925] action [2]\n"
     ]
    },
    {
     "name": "stderr",
     "output_type": "stream",
     "text": [
      "100%|██████████| 30/30 [1:09:06<00:00, 138.22s/it]"
     ]
    },
    {
     "name": "stdout",
     "output_type": "stream",
     "text": [
      "Iteration: 29 Start Value [0.43906091] action [2]\n",
      "N= 200  completed\n",
      "Set  9 completed\n"
     ]
    },
    {
     "name": "stderr",
     "output_type": "stream",
     "text": [
      "\n"
     ]
    }
   ],
   "source": [
    "path = '/Users/janiceyang/Dropbox (MIT)/ORC UROP/Opioids_Dropbox/Maze/Model Data/Datasets/Set 2 (risk = -0.04)'\n",
    "sys.path.append(path)\n",
    "\n",
    "regression = 'RandomForest'\n",
    "\n",
    "for set_num in range(8, 10):\n",
    "    filename = f'set_{set_num}.csv'\n",
    "    df = pd.read_csv(path+'/'+filename)\n",
    "\n",
    "    # taking out extra ID col and changing actions back to integers\n",
    "    df = df.iloc[:, 1:]\n",
    "    df.loc[df['ACTION']=='None', 'ACTION'] = 4\n",
    "    df['ACTION'] = pd.to_numeric(df['ACTION'], downcast='integer')\n",
    "    df.loc[df['ACTION']==4, 'ACTION'] = 'None'\n",
    "    \n",
    "    df_full = df.copy()\n",
    "    \n",
    "    for n in Ns:\n",
    "        df_small = df_full.loc[df_full['ID']<n]\n",
    "\n",
    "        # TODO: train fitted Q on one type\n",
    "        QK, p, x_df, values = fitted_Q(30, df_small, gamma, pfeatures, actions, rw, regression=regression)\n",
    "        \n",
    "        # TODO: save/dump trained policy\n",
    "        reg = reg_dict[regression]\n",
    "        pickle.dump(p, open(f'round_{set_num}_fq_N={n}_{reg}.sav', 'wb'))\n",
    "        \n",
    "        print('N=', n, ' completed')\n",
    "    \n",
    "    print('Set ', set_num, 'completed')\n",
    "    "
   ]
  },
  {
   "cell_type": "markdown",
   "metadata": {},
   "source": [
    "## Visualizations"
   ]
  },
  {
   "cell_type": "code",
   "execution_count": 14,
   "metadata": {},
   "outputs": [
    {
     "name": "stdout",
     "output_type": "stream",
     "text": [
      "Round N= 10\n",
      "Round N= 20\n",
      "Round N= 30\n",
      "Round N= 40\n",
      "Round N= 50\n",
      "Round N= 70\n",
      "Round N= 90\n",
      "Round N= 110\n",
      "Round N= 130\n",
      "Round N= 150\n",
      "Round N= 170\n",
      "Round N= 200\n",
      "Round N= 10\n",
      "model avg val 0.048338223428897854\n",
      "Round N= 20\n",
      "model avg val 0.00937596802374986\n",
      "Round N= 30\n",
      "model avg val 0.007340127143690289\n",
      "Round N= 40\n",
      "model avg val 0.006035976996814967\n",
      "Round N= 50\n",
      "model avg val 0.005635369691759532\n",
      "Round N= 70\n",
      "model avg val 0.011110553901099504\n",
      "Round N= 90\n",
      "model avg val 0.011562053312849518\n",
      "Round N= 110\n",
      "model avg val 0.010749105182352526\n",
      "Round N= 130\n",
      "model avg val 0.0060218511957015\n",
      "Round N= 150\n",
      "model avg val 0.0037773986296045026\n",
      "Round N= 170\n",
      "model avg val 0.004092301335322704\n",
      "Round N= 200\n",
      "model avg val 0.007584665943591151\n",
      "Round N= 10\n",
      "Round N= 20\n",
      "Round N= 30\n",
      "Round N= 40\n",
      "Round N= 50\n",
      "Round N= 70\n",
      "Round N= 90\n",
      "Round N= 110\n",
      "Round N= 130\n",
      "Round N= 150\n",
      "Round N= 170\n",
      "Round N= 200\n",
      "Round N= 10\n",
      "model avg val 0.024703579377763827\n",
      "Round N= 20\n",
      "model avg val 0.028622987649235543\n",
      "Round N= 30\n",
      "model avg val 0.010821120102845807\n",
      "Round N= 40\n",
      "model avg val 0.007365609382680698\n",
      "Round N= 50\n",
      "model avg val 0.009995142614041377\n",
      "Round N= 70\n",
      "model avg val 0.009835367358910807\n",
      "Round N= 90\n",
      "model avg val 0.009001537994063103\n",
      "Round N= 110\n",
      "model avg val 0.011692786862665309\n",
      "Round N= 130\n",
      "model avg val 0.01371244032885318\n",
      "Round N= 150\n",
      "model avg val 0.007091883698692784\n",
      "Round N= 170\n",
      "model avg val 0.008045005273346464\n",
      "Round N= 200\n",
      "model avg val 0.019647855150148486\n",
      "Round N= 10\n",
      "Round N= 20\n",
      "Round N= 30\n",
      "Round N= 40\n",
      "Round N= 50\n",
      "Round N= 70\n",
      "Round N= 90\n",
      "Round N= 110\n",
      "Round N= 130\n",
      "Round N= 150\n",
      "Round N= 170\n",
      "Round N= 200\n",
      "Round N= 10\n",
      "model avg val 0.019136341315044318\n",
      "Round N= 20\n",
      "model avg val 0.019245038975413603\n",
      "Round N= 30\n",
      "model avg val 0.014044340922559477\n",
      "Round N= 40\n",
      "model avg val 0.016868577312787143\n",
      "Round N= 50\n",
      "model avg val 0.014866224418215234\n",
      "Round N= 70\n",
      "model avg val 0.027244801972791177\n",
      "Round N= 90\n",
      "model avg val 0.010509887054794515\n",
      "Round N= 110\n",
      "model avg val 0.009455020245682176\n",
      "Round N= 130\n",
      "model avg val 0.01026691230823203\n",
      "Round N= 150\n",
      "model avg val 0.013993123980844895\n",
      "Round N= 170\n",
      "model avg val 0.010588368017872078\n",
      "Round N= 200\n",
      "model avg val 0.010349077339486257\n",
      "Round N= 10\n",
      "Round N= 20\n",
      "Round N= 30\n",
      "Round N= 40\n",
      "Round N= 50\n",
      "Round N= 70\n",
      "Round N= 90\n",
      "Round N= 110\n",
      "Round N= 130\n",
      "Round N= 150\n",
      "Round N= 170\n",
      "Round N= 200\n",
      "Round N= 10\n",
      "model avg val 0.13021927029043853\n",
      "Round N= 20\n",
      "model avg val 0.03916778867003293\n",
      "Round N= 30\n",
      "model avg val 0.008387045541019102\n",
      "Round N= 40\n",
      "model avg val 0.005376615412545094\n",
      "Round N= 50\n",
      "model avg val 0.004239159947161677\n",
      "Round N= 70\n",
      "model avg val 0.013106327491566417\n",
      "Round N= 90\n",
      "model avg val 0.0177155495152148\n",
      "Round N= 110\n",
      "model avg val 0.012048410044503948\n",
      "Round N= 130\n",
      "model avg val 0.015535445833770591\n",
      "Round N= 150\n",
      "model avg val 0.011655854658283666\n",
      "Round N= 170\n",
      "model avg val 0.010137991646807011\n",
      "Round N= 200\n",
      "model avg val 0.004458111777138993\n",
      "Round N= 10\n",
      "Round N= 20\n",
      "Round N= 30\n",
      "Round N= 40\n",
      "Round N= 50\n",
      "Round N= 70\n",
      "Round N= 90\n",
      "Round N= 110\n",
      "Round N= 130\n",
      "Round N= 150\n",
      "Round N= 170\n",
      "Round N= 200\n",
      "Round N= 10\n",
      "model avg val 0.007036796668308254\n",
      "Round N= 20\n",
      "model avg val 0.05511268767108536\n",
      "Round N= 30\n",
      "model avg val 0.027856812110552232\n",
      "Round N= 40\n",
      "model avg val 0.018439485669923796\n",
      "Round N= 50\n",
      "model avg val 0.018278986826400053\n",
      "Round N= 70\n",
      "model avg val 0.013782283233205947\n",
      "Round N= 90\n",
      "model avg val 0.031009163762198158\n",
      "Round N= 110\n",
      "model avg val 0.022084882887959047\n",
      "Round N= 130\n",
      "model avg val 0.02154648472075184\n",
      "Round N= 150\n",
      "model avg val 0.027511659895540063\n",
      "Round N= 170\n",
      "model avg val 0.02507220674082051\n",
      "Round N= 200\n",
      "model avg val 0.03241878233116489\n",
      "Round N= 10\n",
      "Round N= 20\n",
      "Round N= 30\n",
      "Round N= 40\n",
      "Round N= 50\n",
      "Round N= 70\n",
      "Round N= 90\n",
      "Round N= 110\n",
      "Round N= 130\n",
      "Round N= 150\n",
      "Round N= 170\n",
      "Round N= 200\n",
      "Round N= 10\n",
      "model avg val 0.018771661773465884\n",
      "Round N= 20\n",
      "model avg val 0.011852363027430176\n",
      "Round N= 30\n",
      "model avg val 0.04887168453311323\n",
      "Round N= 40\n",
      "model avg val 0.0651275867420405\n",
      "Round N= 50\n",
      "model avg val 0.041004552946041335\n",
      "Round N= 70\n",
      "model avg val 0.022502234709730583\n",
      "Round N= 90\n",
      "model avg val 0.01162999489475697\n",
      "Round N= 110\n",
      "model avg val 0.012027918283929772\n",
      "Round N= 130\n",
      "model avg val 0.008480319185351682\n",
      "Round N= 150\n",
      "model avg val 0.013335393518463459\n",
      "Round N= 170\n",
      "model avg val 0.017006954190249585\n",
      "Round N= 200\n",
      "model avg val 0.012211687505429164\n",
      "Round N= 10\n",
      "Round N= 20\n",
      "Round N= 30\n",
      "Round N= 40\n",
      "Round N= 50\n",
      "Round N= 70\n",
      "Round N= 90\n",
      "Round N= 110\n",
      "Round N= 130\n",
      "Round N= 150\n",
      "Round N= 170\n",
      "Round N= 200\n",
      "Round N= 10\n",
      "model avg val 0.058544666956059206\n",
      "Round N= 20\n",
      "model avg val 0.031565144190090655\n",
      "Round N= 30\n",
      "model avg val 0.005121966568319627\n",
      "Round N= 40\n",
      "model avg val 0.004967342382819376\n",
      "Round N= 50\n",
      "model avg val 0.0036396543127109483\n",
      "Round N= 70\n",
      "model avg val 0.005705283794347721\n",
      "Round N= 90\n",
      "model avg val 0.011695680232619523\n",
      "Round N= 110\n",
      "model avg val 0.013947036298497908\n",
      "Round N= 130\n",
      "model avg val 0.010332820139991377\n",
      "Round N= 150\n",
      "model avg val 0.011001183580082199\n",
      "Round N= 170\n",
      "model avg val 0.015040992686194032\n",
      "Round N= 200\n",
      "model avg val 0.009301754336593191\n",
      "Round N= 10\n",
      "Round N= 20\n",
      "Round N= 30\n",
      "Round N= 40\n",
      "Round N= 50\n",
      "Round N= 70\n",
      "Round N= 90\n",
      "Round N= 110\n",
      "Round N= 130\n",
      "Round N= 150\n",
      "Round N= 170\n",
      "Round N= 200\n",
      "Round N= 10\n",
      "model avg val 0.023039521965771553\n",
      "Round N= 20\n",
      "model avg val 0.01414312726455\n",
      "Round N= 30\n",
      "model avg val 0.01256249901472993\n",
      "Round N= 40\n",
      "model avg val 0.005302644759473799\n",
      "Round N= 50\n",
      "model avg val 0.005040033359620375\n",
      "Round N= 70\n",
      "model avg val 0.00845294479856048\n",
      "Round N= 90\n",
      "model avg val 0.004420039898444508\n",
      "Round N= 110\n",
      "model avg val 0.006408575504460312\n",
      "Round N= 130\n",
      "model avg val 0.003298379261903933\n",
      "Round N= 150\n",
      "model avg val 0.003551819687461558\n",
      "Round N= 170\n",
      "model avg val 0.0027680027200955738\n",
      "Round N= 200\n",
      "model avg val 0.0022527989806074233\n",
      "Round N= 10\n",
      "Round N= 20\n",
      "Round N= 30\n",
      "Round N= 40\n",
      "Round N= 50\n",
      "Round N= 70\n",
      "Round N= 90\n",
      "Round N= 110\n",
      "Round N= 130\n",
      "Round N= 150\n",
      "Round N= 170\n",
      "Round N= 200\n",
      "Round N= 10\n",
      "model avg val 0.09538838729463218\n",
      "Round N= 20\n",
      "model avg val 0.02523778395635133\n",
      "Round N= 30\n",
      "model avg val 0.04895124330790143\n",
      "Round N= 40\n",
      "model avg val 0.03137024103390944\n",
      "Round N= 50\n",
      "model avg val 0.015227552234021962\n",
      "Round N= 70\n",
      "model avg val 0.016464412114575378\n",
      "Round N= 90\n",
      "model avg val 0.010504983984452305\n",
      "Round N= 110\n",
      "model avg val 0.010320902006856236\n",
      "Round N= 130\n",
      "model avg val 0.008913845864296775\n",
      "Round N= 150\n",
      "model avg val 0.009919284420820887\n",
      "Round N= 170\n",
      "model avg val 0.012658121951379551\n",
      "Round N= 200\n",
      "model avg val 0.011951014207064339\n",
      "Round N= 10\n",
      "Round N= 20\n",
      "Round N= 30\n",
      "Round N= 40\n",
      "Round N= 50\n",
      "Round N= 70\n",
      "Round N= 90\n",
      "Round N= 110\n",
      "Round N= 130\n",
      "Round N= 150\n",
      "Round N= 170\n",
      "Round N= 200\n",
      "Round N= 10\n",
      "model avg val 0.13787665133924293\n",
      "Round N= 20\n",
      "model avg val 0.01810437471611718\n",
      "Round N= 30\n",
      "model avg val 0.010447585916461445\n",
      "Round N= 40\n",
      "model avg val 0.0351488129400074\n",
      "Round N= 50\n",
      "model avg val 0.01320548915651507\n",
      "Round N= 70\n",
      "model avg val 0.030773995098014848\n",
      "Round N= 90\n",
      "model avg val 0.024411432928203282\n",
      "Round N= 110\n",
      "model avg val 0.022487901497469497\n",
      "Round N= 130\n",
      "model avg val 0.02385363174617784\n",
      "Round N= 150\n",
      "model avg val 0.017305773819302296\n",
      "Round N= 170\n",
      "model avg val 0.014629124335622056\n",
      "Round N= 200\n",
      "model avg val 0.01713573215231383\n"
     ]
    }
   ],
   "source": [
    "# plot optimality gap and value estimation (+ optimal action) for all 10 rounds of each (DT, ET, RF, + Run LR?)\n",
    "\n",
    "regression = 'ET'\n",
    "opt_gap = np.zeros(len(Ns))\n",
    "val_est = np.zeros(len(Ns))\n",
    "\n",
    "for i in range(10):\n",
    "    \n",
    "    policies = []\n",
    "    for n in Ns:\n",
    "        p = pickle.load(open(f'round_{i}_fq_N={n}_{regression}.sav', 'rb'))\n",
    "        policies.append(p)\n",
    "    \n",
    "    opt_gap += value_diff(policies, Ns, K, 25, P, R, f, rw, true_v, true_pi, policy=True)\n",
    "    val_est += value_est(policies, Ns, K, P, R, f, rw, true_v, true_pi, policy=True)\n",
    "\n"
   ]
  },
  {
   "cell_type": "code",
   "execution_count": 15,
   "metadata": {},
   "outputs": [
    {
     "name": "stdout",
     "output_type": "stream",
     "text": [
      "[1.14052 0.46836 0.29736 0.30624 0.24264 0.15332 0.11844 0.177   0.16904\n",
      " 0.226   0.21212 0.27068]\n",
      "average estimate [0.05630551 0.02524273 0.01944044 0.01960029 0.01311322 0.01589782\n",
      " 0.01424603 0.01312225 0.01219621 0.01191434 0.01200391 0.01273115]\n"
     ]
    },
    {
     "data": {
      "text/plain": [
       "(0, 3.5)"
      ]
     },
     "execution_count": 15,
     "metadata": {},
     "output_type": "execute_result"
    },
    {
     "data": {
      "image/png": "[encoded data removed]",
      "text/plain": [
       "<Figure size 432x288 with 1 Axes>"
      ]
     },
     "metadata": {
      "needs_background": "light"
     },
     "output_type": "display_data"
    },
    {
     "data": {
      "image/png": "[encoded data removed]",
      "text/plain": [
       "<Figure size 432x288 with 1 Axes>"
      ]
     },
     "metadata": {
      "needs_background": "light"
     },
     "output_type": "display_data"
    }
   ],
   "source": [
    "# plot normalized optimality gap\n",
    "opt_gap = opt_gap/10\n",
    "print(opt_gap)\n",
    "opt_gap_norm = opt_gap/0.44 #0.44 is v_opt\n",
    "\n",
    "fig1, ax1 = plt.subplots()\n",
    "ax1.plot(Ns, opt_gap_norm, 'bo-')\n",
    "ax1.set_title('Optimality Gap')\n",
    "ax1.set_xlabel('Number of trajectories N')\n",
    "ax1.set_ylabel('MAPE')\n",
    "ax1.set_ylim(0, 3.5)\n",
    "\n",
    "\n",
    "# plot normalized value estimate\n",
    "avg_est = val_est/10\n",
    "avg_est_norm = avg_est/0.44\n",
    "print('average estimate', avg_est)\n",
    "fig1, ax1 = plt.subplots()\n",
    "ax1.plot(Ns, avg_est_norm, 'bo-')\n",
    "ax1.set_title('Value Estimation')\n",
    "ax1.set_xlabel('Number of trajectories N')\n",
    "ax1.set_ylabel('MAPE')\n",
    "ax1.set_ylim(0, 3.5)"
   ]
  },
  {
   "cell_type": "code",
   "execution_count": 16,
   "metadata": {},
   "outputs": [],
   "source": [
    "pickle.dump(opt_gap_norm, open(f'fq_opt_gap_norm_{regression}.sav', 'wb'))\n",
    "pickle.dump(avg_est_norm, open(f'fq_val_est_norm_{regression}.sav', 'wb'))"
   ]
  },
  {
   "cell_type": "code",
   "execution_count": null,
   "metadata": {},
   "outputs": [],
   "source": []
  }
 ],
 "metadata": {
  "@webio": {
   "lastCommId": null,
   "lastKernelId": null
  },
  "kernelspec": {
   "display_name": "Python 3",
   "language": "python",
   "name": "python3"
  },
  "language_info": {
   "codemirror_mode": {
    "name": "ipython",
    "version": 3
   },
   "file_extension": ".py",
   "mimetype": "text/x-python",
   "name": "python",
   "nbconvert_exporter": "python",
   "pygments_lexer": "ipython3",
   "version": "3.7.7"
  }
 },
 "nbformat": 4,
 "nbformat_minor": 4
}
