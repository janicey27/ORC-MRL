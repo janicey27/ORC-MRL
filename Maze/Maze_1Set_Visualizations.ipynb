{
 "cells": [
  {
   "cell_type": "markdown",
   "metadata": {},
   "source": [
    "# Maze Experiment Introduction"
   ]
  },
  {
   "cell_type": "markdown",
   "metadata": {},
   "source": [
    "In this notebook, we will be running the MDP_Model on the Maze problem. This 2D simulation builds on a `gym-maze` package that can be found here: https://github.com/MattChanTK/gym-maze. Before beginning this simulation, please be sure to install the relevant packages on the github **Installation** section (pygame and numpy are also required)!"
   ]
  },
  {
   "cell_type": "markdown",
   "metadata": {},
   "source": [
    "## Running the Algorithm - Optimal Clustering 5x5"
   ]
  },
  {
   "cell_type": "markdown",
   "metadata": {},
   "source": [
    "We can generate bigger mazes using the same method as above! Then, we will test to see if the optimal policy found by the maze is the same as the real optimal policy. "
   ]
  },
  {
   "cell_type": "markdown",
   "metadata": {},
   "source": [
    "#### Importing Modules"
   ]
  },
  {
   "cell_type": "code",
   "execution_count": 1,
   "metadata": {},
   "outputs": [],
   "source": [
    "import numpy as np\n",
    "import matplotlib.pyplot as plt\n",
    "import random\n",
    "import pandas as pd\n",
    "import gym\n",
    "import gym_maze\n",
    "\n",
    "import sys\n",
    "sys.path.append('/Users/janiceyang/Dropbox (MIT)/ORC UROP/Opioids/Algorithm/')\n",
    "\n",
    "from model import MDP_model\n",
    "from maze_functions import createSamples, opt_maze_trajectory, opt_model_trajectory, policy_accuracy, \\\n",
    "    get_maze_transition_reward, plot_paths, value_diff, get_maze_MDP\n",
    "from MDPtools import SolveMDP\n",
    "from testing import cluster_size, next_clusters, training_value_error, purity, plot_features, testing_value_error\n",
    "\n",
    "mazes = {1: 'maze-v0',\n",
    "         2: 'maze-sample-3x3-v0',\n",
    "         3: 'maze-random-3x3-v0',\n",
    "         4: 'maze-sample-5x5-v0',\n",
    "         5: 'maze-random-5x5-v0',\n",
    "         6: 'maze-sample-10x10-v0',\n",
    "         7: 'maze-random-10x10-v0',\n",
    "         8: 'maze-sample-100x100-v0',\n",
    "         9: 'maze-random-100x100-v0',\n",
    "         10: 'maze-random-10x10-plus-v0', # has portals \n",
    "         11: 'maze-random-20x20-plus-v0', # has portals \n",
    "         12: 'maze-random-30x30-plus-v0'} # has portals "
   ]
  },
  {
   "cell_type": "markdown",
   "metadata": {},
   "source": [
    "#### Creating Samples"
   ]
  },
  {
   "cell_type": "code",
   "execution_count": 2,
   "metadata": {},
   "outputs": [],
   "source": [
    "# Setting Parameters\n",
    "N = 200\n",
    "T_max = 25\n",
    "r = 0.4\n",
    "maze = mazes[4]"
   ]
  },
  {
   "cell_type": "code",
   "execution_count": 3,
   "metadata": {},
   "outputs": [
    {
     "data": {
      "text/html": [
       "<div>\n",
       "<style scoped>\n",
       "    .dataframe tbody tr th:only-of-type {\n",
       "        vertical-align: middle;\n",
       "    }\n",
       "\n",
       "    .dataframe tbody tr th {\n",
       "        vertical-align: top;\n",
       "    }\n",
       "\n",
       "    .dataframe thead th {\n",
       "        text-align: right;\n",
       "    }\n",
       "</style>\n",
       "<table border=\"1\" class=\"dataframe\">\n",
       "  <thead>\n",
       "    <tr style=\"text-align: right;\">\n",
       "      <th></th>\n",
       "      <th>ID</th>\n",
       "      <th>TIME</th>\n",
       "      <th>FEATURE_0</th>\n",
       "      <th>FEATURE_1</th>\n",
       "      <th>ACTION</th>\n",
       "      <th>RISK</th>\n",
       "      <th>OG_CLUSTER</th>\n",
       "    </tr>\n",
       "  </thead>\n",
       "  <tbody>\n",
       "    <tr>\n",
       "      <th>0</th>\n",
       "      <td>0</td>\n",
       "      <td>0</td>\n",
       "      <td>0.917504</td>\n",
       "      <td>-0.359175</td>\n",
       "      <td>2</td>\n",
       "      <td>-0.004</td>\n",
       "      <td>0</td>\n",
       "    </tr>\n",
       "    <tr>\n",
       "      <th>1</th>\n",
       "      <td>0</td>\n",
       "      <td>1</td>\n",
       "      <td>1.469175</td>\n",
       "      <td>-0.730709</td>\n",
       "      <td>2</td>\n",
       "      <td>-0.004</td>\n",
       "      <td>1</td>\n",
       "    </tr>\n",
       "    <tr>\n",
       "      <th>2</th>\n",
       "      <td>0</td>\n",
       "      <td>2</td>\n",
       "      <td>2.663953</td>\n",
       "      <td>-0.227007</td>\n",
       "      <td>1</td>\n",
       "      <td>-0.004</td>\n",
       "      <td>2</td>\n",
       "    </tr>\n",
       "    <tr>\n",
       "      <th>3</th>\n",
       "      <td>0</td>\n",
       "      <td>3</td>\n",
       "      <td>2.141935</td>\n",
       "      <td>-1.350262</td>\n",
       "      <td>1</td>\n",
       "      <td>-0.004</td>\n",
       "      <td>7</td>\n",
       "    </tr>\n",
       "    <tr>\n",
       "      <th>4</th>\n",
       "      <td>0</td>\n",
       "      <td>4</td>\n",
       "      <td>2.644228</td>\n",
       "      <td>-2.347577</td>\n",
       "      <td>0</td>\n",
       "      <td>-0.004</td>\n",
       "      <td>12</td>\n",
       "    </tr>\n",
       "    <tr>\n",
       "      <th>...</th>\n",
       "      <td>...</td>\n",
       "      <td>...</td>\n",
       "      <td>...</td>\n",
       "      <td>...</td>\n",
       "      <td>...</td>\n",
       "      <td>...</td>\n",
       "      <td>...</td>\n",
       "    </tr>\n",
       "    <tr>\n",
       "      <th>4568</th>\n",
       "      <td>199</td>\n",
       "      <td>14</td>\n",
       "      <td>3.757846</td>\n",
       "      <td>-1.040545</td>\n",
       "      <td>2</td>\n",
       "      <td>-0.004</td>\n",
       "      <td>8</td>\n",
       "    </tr>\n",
       "    <tr>\n",
       "      <th>4569</th>\n",
       "      <td>199</td>\n",
       "      <td>15</td>\n",
       "      <td>4.219758</td>\n",
       "      <td>-1.602285</td>\n",
       "      <td>1</td>\n",
       "      <td>-0.004</td>\n",
       "      <td>9</td>\n",
       "    </tr>\n",
       "    <tr>\n",
       "      <th>4570</th>\n",
       "      <td>199</td>\n",
       "      <td>16</td>\n",
       "      <td>4.444872</td>\n",
       "      <td>-2.464416</td>\n",
       "      <td>1</td>\n",
       "      <td>-0.004</td>\n",
       "      <td>14</td>\n",
       "    </tr>\n",
       "    <tr>\n",
       "      <th>4571</th>\n",
       "      <td>199</td>\n",
       "      <td>17</td>\n",
       "      <td>4.219659</td>\n",
       "      <td>-3.406585</td>\n",
       "      <td>1</td>\n",
       "      <td>-0.004</td>\n",
       "      <td>19</td>\n",
       "    </tr>\n",
       "    <tr>\n",
       "      <th>4572</th>\n",
       "      <td>199</td>\n",
       "      <td>18</td>\n",
       "      <td>4.291367</td>\n",
       "      <td>-4.459939</td>\n",
       "      <td>None</td>\n",
       "      <td>1.000</td>\n",
       "      <td>24</td>\n",
       "    </tr>\n",
       "  </tbody>\n",
       "</table>\n",
       "<p>4573 rows × 7 columns</p>\n",
       "</div>"
      ],
      "text/plain": [
       "       ID  TIME  FEATURE_0  FEATURE_1 ACTION   RISK  OG_CLUSTER\n",
       "0       0     0   0.917504  -0.359175      2 -0.004           0\n",
       "1       0     1   1.469175  -0.730709      2 -0.004           1\n",
       "2       0     2   2.663953  -0.227007      1 -0.004           2\n",
       "3       0     3   2.141935  -1.350262      1 -0.004           7\n",
       "4       0     4   2.644228  -2.347577      0 -0.004          12\n",
       "...   ...   ...        ...        ...    ...    ...         ...\n",
       "4568  199    14   3.757846  -1.040545      2 -0.004           8\n",
       "4569  199    15   4.219758  -1.602285      1 -0.004           9\n",
       "4570  199    16   4.444872  -2.464416      1 -0.004          14\n",
       "4571  199    17   4.219659  -3.406585      1 -0.004          19\n",
       "4572  199    18   4.291367  -4.459939   None  1.000          24\n",
       "\n",
       "[4573 rows x 7 columns]"
      ]
     },
     "execution_count": 3,
     "metadata": {},
     "output_type": "execute_result"
    }
   ],
   "source": [
    "#df = createSamples(N, T_max, maze, r, reseed=True)\n",
    "\n",
    "# UPDATE with path and filename for dataset you want to use!\n",
    "path = '/Users/janiceyang/Dropbox (MIT)/ORC UROP/Opioids_Dropbox/Maze/fitted_Q Comparisons/Datasets/Test 1 (N=200, T_max = 25, randomness=0.4)'\n",
    "sys.path.append(path)\n",
    "filename = 'set_4.csv'\n",
    "df = pd.read_csv(path+'/'+filename)\n",
    "\n",
    "# taking out extra ID col and changing actions back to integers\n",
    "df = df.iloc[:, 1:]\n",
    "df.loc[df['ACTION']=='None', 'ACTION'] = 4\n",
    "df['ACTION'] = pd.to_numeric(df['ACTION'], downcast='integer')\n",
    "df.loc[df['ACTION']==4, 'ACTION'] = 'None'\n",
    "\n",
    "df"
   ]
  },
  {
   "cell_type": "markdown",
   "metadata": {},
   "source": [
    "That's how the transition data looks like:"
   ]
  },
  {
   "cell_type": "code",
   "execution_count": 4,
   "metadata": {},
   "outputs": [
    {
     "data": {
      "image/png": "[encoded data removed]",
      "text/plain": [
       "<Figure size 432x288 with 1 Axes>"
      ]
     },
     "metadata": {
      "needs_background": "light"
     },
     "output_type": "display_data"
    }
   ],
   "source": [
    "plot_paths(df,1)"
   ]
  },
  {
   "cell_type": "markdown",
   "metadata": {},
   "source": [
    "Checking how many points actually reach the end: "
   ]
  },
  {
   "cell_type": "code",
   "execution_count": 5,
   "metadata": {},
   "outputs": [
    {
     "data": {
      "text/plain": [
       "129"
      ]
     },
     "execution_count": 5,
     "metadata": {},
     "output_type": "execute_result"
    }
   ],
   "source": [
    "df.loc[df['ACTION']=='None']['ID'].count()"
   ]
  },
  {
   "cell_type": "markdown",
   "metadata": {},
   "source": [
    "#### Fitting to Algorithm"
   ]
  },
  {
   "cell_type": "code",
   "execution_count": 10,
   "metadata": {},
   "outputs": [
    {
     "name": "stderr",
     "output_type": "stream",
     "text": [
      "Splitting... |#Clusters:2:   0%|          | 0/23 [00:00<?, ?it/s]"
     ]
    },
    {
     "name": "stdout",
     "output_type": "stream",
     "text": [
      "Clusters Initialized\n",
      "     ID  TIME  FEATURE_0  FEATURE_1 ACTION   RISK  OG_CLUSTER  CLUSTER  \\\n",
      "0     0     0   0.917504  -0.359175      2 -0.004           0        0   \n",
      "1     0     1   1.469175  -0.730709      2 -0.004           1        0   \n",
      "2     0     2   2.663953  -0.227007      1 -0.004           2        0   \n",
      "3     0     3   2.141935  -1.350262      1 -0.004           7        0   \n",
      "4     0     4   2.644228  -2.347577      0 -0.004          12        0   \n",
      "..   ..   ...        ...        ...    ...    ...         ...      ...   \n",
      "226   9    18   4.881530  -2.888142      1 -0.004          14        0   \n",
      "227   9    19   4.515281  -3.187259      0 -0.004          19        0   \n",
      "228   9    20   4.994324  -2.549241      1 -0.004          14        0   \n",
      "229   9    21   4.440553  -3.575720      1 -0.004          19        0   \n",
      "230   9    22   4.064881  -4.855516   None  1.000          24        1   \n",
      "\n",
      "    NEXT_CLUSTER  \n",
      "0              0  \n",
      "1              0  \n",
      "2              0  \n",
      "3              0  \n",
      "4              0  \n",
      "..           ...  \n",
      "226            0  \n",
      "227            0  \n",
      "228            0  \n",
      "229            1  \n",
      "230          End  \n",
      "\n",
      "[231 rows x 9 columns]\n"
     ]
    },
    {
     "name": "stderr",
     "output_type": "stream",
     "text": [
      "Splitting... |#Clusters:3:   4%|▍         | 1/23 [00:00<00:07,  2.81it/s]"
     ]
    },
    {
     "name": "stdout",
     "output_type": "stream",
     "text": [
      "threshold 10.132456102380443 max_inc 8.000000000000002\n",
      "new opt_k 3\n"
     ]
    },
    {
     "name": "stderr",
     "output_type": "stream",
     "text": [
      "Splitting... |#Clusters:4:   9%|▊         | 2/23 [00:00<00:07,  2.98it/s]"
     ]
    },
    {
     "name": "stdout",
     "output_type": "stream",
     "text": [
      "threshold 7.599342076785332 max_inc 8.0\n"
     ]
    },
    {
     "name": "stderr",
     "output_type": "stream",
     "text": [
      "Splitting... |#Clusters:5:  13%|█▎        | 3/23 [00:00<00:06,  3.12it/s]"
     ]
    },
    {
     "name": "stdout",
     "output_type": "stream",
     "text": [
      "threshold 6.079473661428265 max_inc 10.999999999999996\n"
     ]
    },
    {
     "name": "stderr",
     "output_type": "stream",
     "text": [
      "Splitting... |#Clusters:6:  17%|█▋        | 4/23 [00:01<00:06,  3.06it/s]"
     ]
    },
    {
     "name": "stdout",
     "output_type": "stream",
     "text": [
      "threshold 5.066228051190222 max_inc 8.000000000000002\n"
     ]
    },
    {
     "name": "stderr",
     "output_type": "stream",
     "text": [
      "Splitting... |#Clusters:7:  22%|██▏       | 5/23 [00:01<00:05,  3.22it/s]"
     ]
    },
    {
     "name": "stdout",
     "output_type": "stream",
     "text": [
      "threshold 4.342481186734475 max_inc 12.999999999999998\n"
     ]
    },
    {
     "name": "stderr",
     "output_type": "stream",
     "text": [
      "Splitting... |#Clusters:8:  26%|██▌       | 6/23 [00:01<00:05,  3.27it/s]"
     ]
    },
    {
     "name": "stdout",
     "output_type": "stream",
     "text": [
      "threshold 3.799671038392666 max_inc 12.000000000000002\n"
     ]
    },
    {
     "name": "stderr",
     "output_type": "stream",
     "text": [
      "Splitting... |#Clusters:9:  30%|███       | 7/23 [00:02<00:05,  3.13it/s]"
     ]
    },
    {
     "name": "stdout",
     "output_type": "stream",
     "text": [
      "threshold 3.3774853674601477 max_inc 11.0\n"
     ]
    },
    {
     "name": "stderr",
     "output_type": "stream",
     "text": [
      "Splitting... |#Clusters:10:  35%|███▍      | 8/23 [00:02<00:04,  3.04it/s]"
     ]
    },
    {
     "name": "stdout",
     "output_type": "stream",
     "text": [
      "threshold 3.0397368307141326 max_inc 11.999999999999996\n"
     ]
    },
    {
     "name": "stderr",
     "output_type": "stream",
     "text": [
      "Splitting... |#Clusters:11:  39%|███▉      | 9/23 [00:02<00:04,  2.96it/s]"
     ]
    },
    {
     "name": "stdout",
     "output_type": "stream",
     "text": [
      "threshold 2.76339711883103 max_inc 10.999999999999998\n"
     ]
    },
    {
     "name": "stderr",
     "output_type": "stream",
     "text": [
      "Splitting... |#Clusters:12:  43%|████▎     | 10/23 [00:03<00:04,  2.72it/s]"
     ]
    },
    {
     "name": "stdout",
     "output_type": "stream",
     "text": [
      "threshold 2.533114025595111 max_inc 13.0\n"
     ]
    },
    {
     "name": "stderr",
     "output_type": "stream",
     "text": [
      "Splitting... |#Clusters:13:  48%|████▊     | 11/23 [00:03<00:04,  2.60it/s]"
     ]
    },
    {
     "name": "stdout",
     "output_type": "stream",
     "text": [
      "threshold 2.3382591005493327 max_inc 5.0\n"
     ]
    },
    {
     "name": "stderr",
     "output_type": "stream",
     "text": [
      "Splitting... |#Clusters:14:  52%|█████▏    | 12/23 [00:04<00:04,  2.48it/s]"
     ]
    },
    {
     "name": "stdout",
     "output_type": "stream",
     "text": [
      "threshold 2.1712405933672376 max_inc 13.000000000000002\n"
     ]
    },
    {
     "name": "stderr",
     "output_type": "stream",
     "text": [
      "Splitting... |#Clusters:15:  57%|█████▋    | 13/23 [00:04<00:04,  2.36it/s]"
     ]
    },
    {
     "name": "stdout",
     "output_type": "stream",
     "text": [
      "threshold 2.0264912204760885 max_inc 5.0\n"
     ]
    },
    {
     "name": "stderr",
     "output_type": "stream",
     "text": [
      "Splitting... |#Clusters:16:  61%|██████    | 14/23 [00:05<00:04,  2.22it/s]"
     ]
    },
    {
     "name": "stdout",
     "output_type": "stream",
     "text": [
      "threshold 1.899835519196333 max_inc 3.0\n"
     ]
    },
    {
     "name": "stderr",
     "output_type": "stream",
     "text": [
      "Splitting... |#Clusters:17:  65%|██████▌   | 15/23 [00:05<00:03,  2.10it/s]"
     ]
    },
    {
     "name": "stdout",
     "output_type": "stream",
     "text": [
      "threshold 1.7880804886553723 max_inc 3.0000000000000004\n"
     ]
    },
    {
     "name": "stderr",
     "output_type": "stream",
     "text": [
      "Splitting... |#Clusters:18:  70%|██████▉   | 16/23 [00:06<00:03,  2.03it/s]"
     ]
    },
    {
     "name": "stdout",
     "output_type": "stream",
     "text": [
      "threshold 1.6887426837300739 max_inc 4.0\n"
     ]
    },
    {
     "name": "stderr",
     "output_type": "stream",
     "text": [
      "Splitting... |#Clusters:19:  74%|███████▍  | 17/23 [00:06<00:03,  1.86it/s]"
     ]
    },
    {
     "name": "stdout",
     "output_type": "stream",
     "text": [
      "threshold 1.5998614898495436 max_inc 4.0\n"
     ]
    },
    {
     "name": "stderr",
     "output_type": "stream",
     "text": [
      "Splitting... |#Clusters:20:  78%|███████▊  | 18/23 [00:07<00:02,  1.82it/s]"
     ]
    },
    {
     "name": "stdout",
     "output_type": "stream",
     "text": [
      "threshold 1.5198684153570663 max_inc 5.0\n"
     ]
    },
    {
     "name": "stderr",
     "output_type": "stream",
     "text": [
      "Splitting... |#Clusters:21:  83%|████████▎ | 19/23 [00:08<00:02,  1.84it/s]"
     ]
    },
    {
     "name": "stdout",
     "output_type": "stream",
     "text": [
      "threshold 1.4474937289114918 max_inc 4.0\n"
     ]
    },
    {
     "name": "stderr",
     "output_type": "stream",
     "text": [
      "Splitting... |#Clusters:22:  87%|████████▋ | 20/23 [00:08<00:01,  1.81it/s]"
     ]
    },
    {
     "name": "stdout",
     "output_type": "stream",
     "text": [
      "threshold 1.381698559415515 max_inc 5.0\n"
     ]
    },
    {
     "name": "stderr",
     "output_type": "stream",
     "text": [
      "Splitting... |#Clusters:23:  91%|█████████▏| 21/23 [00:09<00:01,  1.78it/s]"
     ]
    },
    {
     "name": "stdout",
     "output_type": "stream",
     "text": [
      "threshold 1.3216247090061446 max_inc 4.0\n"
     ]
    },
    {
     "name": "stderr",
     "output_type": "stream",
     "text": [
      "Splitting... |#Clusters:24:  96%|█████████▌| 22/23 [00:09<00:00,  1.66it/s]"
     ]
    },
    {
     "name": "stdout",
     "output_type": "stream",
     "text": [
      "threshold 1.2665570127975554 max_inc 7.000000000000001\n"
     ]
    },
    {
     "name": "stderr",
     "output_type": "stream",
     "text": [
      "\r",
      "Splitting... |#Clusters:24:  96%|█████████▌| 22/23 [00:10<00:00,  2.10it/s]"
     ]
    },
    {
     "name": "stdout",
     "output_type": "stream",
     "text": [
      "threshold 1.215894732285653 max_inc 4.0\n",
      "Optimal # of clusters reached\n"
     ]
    },
    {
     "name": "stderr",
     "output_type": "stream",
     "text": [
      "\n"
     ]
    },
    {
     "data": {
      "image/png": "[encoded data removed]",
      "text/plain": [
       "<Figure size 432x288 with 1 Axes>"
      ]
     },
     "metadata": {
      "needs_background": "light"
     },
     "output_type": "display_data"
    },
    {
     "data": {
      "image/png": "[encoded data removed]",
      "text/plain": [
       "<Figure size 432x288 with 1 Axes>"
      ]
     },
     "metadata": {
      "needs_background": "light"
     },
     "output_type": "display_data"
    },
    {
     "name": "stderr",
     "output_type": "stream",
     "text": [
      "/opt/anaconda3/lib/python3.7/site-packages/sklearn/model_selection/_search.py:823: FutureWarning: The parameter 'iid' is deprecated in 0.22 and will be removed in 0.24.\n",
      "  \"removed in 0.24.\", FutureWarning\n",
      "Splitting... |#Clusters:2:   0%|          | 0/23 [00:00<?, ?it/s]"
     ]
    },
    {
     "name": "stdout",
     "output_type": "stream",
     "text": [
      "N= 10  completed\n",
      "Clusters Initialized\n",
      "     ID  TIME  FEATURE_0  FEATURE_1 ACTION   RISK  OG_CLUSTER  CLUSTER  \\\n",
      "0     0     0   0.917504  -0.359175      2 -0.004           0        0   \n",
      "1     0     1   1.469175  -0.730709      2 -0.004           1        0   \n",
      "2     0     2   2.663953  -0.227007      1 -0.004           2        0   \n",
      "3     0     3   2.141935  -1.350262      1 -0.004           7        0   \n",
      "4     0     4   2.644228  -2.347577      0 -0.004          12        0   \n",
      "..   ..   ...        ...        ...    ...    ...         ...      ...   \n",
      "449  19    16   3.939028  -1.895875      2 -0.004           8        0   \n",
      "450  19    17   4.155241  -1.670404      1 -0.004           9        0   \n",
      "451  19    18   4.580430  -2.045098      1 -0.004          14        0   \n",
      "452  19    19   4.196528  -3.134922      1 -0.004          19        0   \n",
      "453  19    20   4.995242  -4.934154   None  1.000          24        1   \n",
      "\n",
      "    NEXT_CLUSTER  \n",
      "0              0  \n",
      "1              0  \n",
      "2              0  \n",
      "3              0  \n",
      "4              0  \n",
      "..           ...  \n",
      "449            0  \n",
      "450            0  \n",
      "451            0  \n",
      "452            1  \n",
      "453          End  \n",
      "\n",
      "[454 rows x 9 columns]\n"
     ]
    },
    {
     "name": "stderr",
     "output_type": "stream",
     "text": [
      "Splitting... |#Clusters:3:   4%|▍         | 1/23 [00:00<00:08,  2.50it/s]"
     ]
    },
    {
     "name": "stdout",
     "output_type": "stream",
     "text": [
      "threshold 14.204850501775011 max_inc 17.99999999999999\n"
     ]
    },
    {
     "name": "stderr",
     "output_type": "stream",
     "text": [
      "Splitting... |#Clusters:4:   9%|▊         | 2/23 [00:00<00:08,  2.45it/s]"
     ]
    },
    {
     "name": "stdout",
     "output_type": "stream",
     "text": [
      "threshold 10.653637876331258 max_inc 18.000000000000004\n"
     ]
    },
    {
     "name": "stderr",
     "output_type": "stream",
     "text": [
      "Splitting... |#Clusters:5:  13%|█▎        | 3/23 [00:01<00:08,  2.35it/s]"
     ]
    },
    {
     "name": "stdout",
     "output_type": "stream",
     "text": [
      "threshold 8.522910301065007 max_inc 25.999999999999996\n"
     ]
    },
    {
     "name": "stderr",
     "output_type": "stream",
     "text": [
      "Splitting... |#Clusters:6:  17%|█▋        | 4/23 [00:01<00:08,  2.19it/s]"
     ]
    },
    {
     "name": "stdout",
     "output_type": "stream",
     "text": [
      "threshold 7.102425250887506 max_inc 21.999999999999993\n"
     ]
    },
    {
     "name": "stderr",
     "output_type": "stream",
     "text": [
      "Splitting... |#Clusters:7:  22%|██▏       | 5/23 [00:02<00:08,  2.07it/s]"
     ]
    },
    {
     "name": "stdout",
     "output_type": "stream",
     "text": [
      "threshold 6.0877930721892906 max_inc 26.000000000000007\n"
     ]
    },
    {
     "name": "stderr",
     "output_type": "stream",
     "text": [
      "Splitting... |#Clusters:8:  26%|██▌       | 6/23 [00:02<00:08,  1.92it/s]"
     ]
    },
    {
     "name": "stdout",
     "output_type": "stream",
     "text": [
      "threshold 5.326818938165629 max_inc 24.000000000000004\n"
     ]
    },
    {
     "name": "stderr",
     "output_type": "stream",
     "text": [
      "Splitting... |#Clusters:9:  30%|███       | 7/23 [00:03<00:08,  1.80it/s]"
     ]
    },
    {
     "name": "stdout",
     "output_type": "stream",
     "text": [
      "threshold 4.7349501672583365 max_inc 23.000000000000007\n"
     ]
    },
    {
     "name": "stderr",
     "output_type": "stream",
     "text": [
      "Splitting... |#Clusters:10:  35%|███▍      | 8/23 [00:04<00:08,  1.74it/s]"
     ]
    },
    {
     "name": "stdout",
     "output_type": "stream",
     "text": [
      "threshold 4.261455150532504 max_inc 24.999999999999993\n"
     ]
    },
    {
     "name": "stderr",
     "output_type": "stream",
     "text": [
      "Splitting... |#Clusters:11:  39%|███▉      | 9/23 [00:04<00:08,  1.64it/s]"
     ]
    },
    {
     "name": "stdout",
     "output_type": "stream",
     "text": [
      "threshold 3.87405013684773 max_inc 23.0\n"
     ]
    },
    {
     "name": "stderr",
     "output_type": "stream",
     "text": [
      "Splitting... |#Clusters:12:  43%|████▎     | 10/23 [00:05<00:08,  1.54it/s]"
     ]
    },
    {
     "name": "stdout",
     "output_type": "stream",
     "text": [
      "threshold 3.551212625443753 max_inc 22.0\n"
     ]
    },
    {
     "name": "stderr",
     "output_type": "stream",
     "text": [
      "Splitting... |#Clusters:13:  48%|████▊     | 11/23 [00:06<00:08,  1.45it/s]"
     ]
    },
    {
     "name": "stdout",
     "output_type": "stream",
     "text": [
      "threshold 3.278042423486541 max_inc 6.0\n"
     ]
    },
    {
     "name": "stderr",
     "output_type": "stream",
     "text": [
      "Splitting... |#Clusters:14:  52%|█████▏    | 12/23 [00:07<00:08,  1.36it/s]"
     ]
    },
    {
     "name": "stdout",
     "output_type": "stream",
     "text": [
      "threshold 3.0438965360946453 max_inc 7.000000000000001\n"
     ]
    },
    {
     "name": "stderr",
     "output_type": "stream",
     "text": [
      "Splitting... |#Clusters:15:  57%|█████▋    | 13/23 [00:08<00:07,  1.30it/s]"
     ]
    },
    {
     "name": "stdout",
     "output_type": "stream",
     "text": [
      "threshold 2.840970100355002 max_inc 6.0\n"
     ]
    },
    {
     "name": "stderr",
     "output_type": "stream",
     "text": [
      "Splitting... |#Clusters:16:  61%|██████    | 14/23 [00:09<00:07,  1.25it/s]"
     ]
    },
    {
     "name": "stdout",
     "output_type": "stream",
     "text": [
      "threshold 2.6634094690828145 max_inc 6.0\n"
     ]
    },
    {
     "name": "stderr",
     "output_type": "stream",
     "text": [
      "Splitting... |#Clusters:17:  65%|██████▌   | 15/23 [00:09<00:06,  1.23it/s]"
     ]
    },
    {
     "name": "stdout",
     "output_type": "stream",
     "text": [
      "threshold 2.506738323842649 max_inc 6.0\n"
     ]
    },
    {
     "name": "stderr",
     "output_type": "stream",
     "text": [
      "Splitting... |#Clusters:18:  70%|██████▉   | 16/23 [00:10<00:05,  1.22it/s]"
     ]
    },
    {
     "name": "stdout",
     "output_type": "stream",
     "text": [
      "threshold 2.3674750836291683 max_inc 6.0\n"
     ]
    },
    {
     "name": "stderr",
     "output_type": "stream",
     "text": [
      "Splitting... |#Clusters:19:  74%|███████▍  | 17/23 [00:11<00:04,  1.21it/s]"
     ]
    },
    {
     "name": "stdout",
     "output_type": "stream",
     "text": [
      "threshold 2.242871131859212 max_inc 11.0\n"
     ]
    },
    {
     "name": "stderr",
     "output_type": "stream",
     "text": [
      "Splitting... |#Clusters:20:  78%|███████▊  | 18/23 [00:12<00:04,  1.20it/s]"
     ]
    },
    {
     "name": "stdout",
     "output_type": "stream",
     "text": [
      "threshold 2.130727575266252 max_inc 12.0\n"
     ]
    },
    {
     "name": "stderr",
     "output_type": "stream",
     "text": [
      "Splitting... |#Clusters:21:  83%|████████▎ | 19/23 [00:13<00:03,  1.20it/s]"
     ]
    },
    {
     "name": "stdout",
     "output_type": "stream",
     "text": [
      "threshold 2.02926435739643 max_inc 9.0\n"
     ]
    },
    {
     "name": "stderr",
     "output_type": "stream",
     "text": [
      "Splitting... |#Clusters:22:  87%|████████▋ | 20/23 [00:14<00:02,  1.18it/s]"
     ]
    },
    {
     "name": "stdout",
     "output_type": "stream",
     "text": [
      "threshold 1.937025068423865 max_inc 8.0\n"
     ]
    },
    {
     "name": "stderr",
     "output_type": "stream",
     "text": [
      "Splitting... |#Clusters:23:  91%|█████████▏| 21/23 [00:15<00:01,  1.12it/s]"
     ]
    },
    {
     "name": "stdout",
     "output_type": "stream",
     "text": [
      "threshold 1.8528065871880448 max_inc 10.0\n"
     ]
    },
    {
     "name": "stderr",
     "output_type": "stream",
     "text": [
      "Splitting... |#Clusters:24:  96%|█████████▌| 22/23 [00:16<00:00,  1.10it/s]"
     ]
    },
    {
     "name": "stdout",
     "output_type": "stream",
     "text": [
      "threshold 1.7756063127218764 max_inc 13.0\n"
     ]
    },
    {
     "name": "stderr",
     "output_type": "stream",
     "text": [
      "\r",
      "Splitting... |#Clusters:24:  96%|█████████▌| 22/23 [00:17<00:00,  1.29it/s]"
     ]
    },
    {
     "name": "stdout",
     "output_type": "stream",
     "text": [
      "threshold 1.7045820602130013 max_inc 8.0\n",
      "Optimal # of clusters reached\n"
     ]
    },
    {
     "name": "stderr",
     "output_type": "stream",
     "text": [
      "\n"
     ]
    },
    {
     "data": {
      "image/png": "[encoded data removed]",
      "text/plain": [
       "<Figure size 432x288 with 1 Axes>"
      ]
     },
     "metadata": {
      "needs_background": "light"
     },
     "output_type": "display_data"
    },
    {
     "data": {
      "image/png": "[encoded data removed]",
      "text/plain": [
       "<Figure size 432x288 with 1 Axes>"
      ]
     },
     "metadata": {
      "needs_background": "light"
     },
     "output_type": "display_data"
    },
    {
     "name": "stdout",
     "output_type": "stream",
     "text": [
      "N= 20  completed\n"
     ]
    },
    {
     "name": "stderr",
     "output_type": "stream",
     "text": [
      "/opt/anaconda3/lib/python3.7/site-packages/sklearn/model_selection/_search.py:823: FutureWarning: The parameter 'iid' is deprecated in 0.22 and will be removed in 0.24.\n",
      "  \"removed in 0.24.\", FutureWarning\n"
     ]
    }
   ],
   "source": [
    "# Setting parameters for model fitting\n",
    "max_k = 25\n",
    "classification = 'DecisionTreeClassifier'\n",
    "split_classifier_params = {'random_state':0, 'max_depth':2}\n",
    "clustering = 'Agglomerative'\n",
    "n_clusters = None\n",
    "distance_threshold = 0.5\n",
    "random_state = 0\n",
    "pfeatures = 2\n",
    "gamma = 1\n",
    "actions = [0, 1, 2, 3]\n",
    "h = -1\n",
    "cv = 5\n",
    "th = 0\n",
    "eta = 6\n",
    "\n",
    "#Ns = [10, 20, 30, 40, 50, 70, 90, 110, 130, 150, 170, 200]\n",
    "Ns = [10, 20]\n",
    "df_full = df.copy()\n",
    "\n",
    "models=[]\n",
    "    \n",
    "# Training models and fitted Q! \n",
    "for n in Ns:\n",
    "    df_small = df_full.loc[df_full['ID']<n]\n",
    "    \n",
    "    m = MDP_model()\n",
    "    m.fit(df_small, # df: dataframe in the format ['ID', 'TIME', ...features..., 'RISK', 'ACTION']\n",
    "        pfeatures, # int: number of features\n",
    "        h, # int: time horizon (# of actions we want to optimize)\n",
    "        gamma, # discount factor\n",
    "        max_k, # int: number of iterations\n",
    "        distance_threshold, # clustering diameter for Agglomerative clustering\n",
    "        cv, # number for cross validation\n",
    "        th, # splitting threshold\n",
    "        eta, # incoherence threshold\n",
    "        classification, # classification method\n",
    "        split_classifier_params, # classification params\n",
    "        clustering,# clustering method from Agglomerative, KMeans, and Birch\n",
    "        n_clusters, # number of clusters for KMeans\n",
    "        random_state,\n",
    "        plot=True,\n",
    "        optimize=True)\n",
    "    print('N=', n, ' completed')\n",
    "    models.append(m)"
   ]
  },
  {
   "cell_type": "code",
   "execution_count": 12,
   "metadata": {},
   "outputs": [
    {
     "data": {
      "text/plain": [
       "13"
      ]
     },
     "execution_count": 12,
     "metadata": {},
     "output_type": "execute_result"
    }
   ],
   "source": [
    "models[1].opt_k"
   ]
  },
  {
   "cell_type": "markdown",
   "metadata": {},
   "source": [
    "## Errors"
   ]
  },
  {
   "cell_type": "code",
   "execution_count": null,
   "metadata": {},
   "outputs": [],
   "source": [
    "# Creating a test set with same parameters as training set\n",
    "df_test = createSamples(N, T_max, maze, r, reseed=True)\n",
    "\n",
    "# In & out sample training and testing value errors: \n",
    "training_errors = []\n",
    "testing_errors = []\n",
    "for m in models: \n",
    "    tr_err = m.training_error.loc[m.training_error['Clusters']==m.opt_k]['Error'].min()\n",
    "    te_err = testing_value_error(df_test, m.df_trained, m.m, m.pfeatures, gamma, relative=False, h=-1)\n",
    "    training_errors.append(tr_err)\n",
    "    testing_errors.append(te_err)\n",
    "\n",
    "fig1, ax1 = plt.subplots()\n",
    "ax1.plot(Ns, training_errors, label='Training Error')\n",
    "ax1.plot(Ns, testing_errors, label='Testing Error')\n",
    "ax1.set_title('Testing and Training Errors by N')\n",
    "ax1.set_xlabel('N training data size')\n",
    "ax1.set_ylabel('Error')\n",
    "ax1.legend()"
   ]
  },
  {
   "cell_type": "code",
   "execution_count": null,
   "metadata": {},
   "outputs": [],
   "source": [
    "models[-2].training_error"
   ]
  },
  {
   "cell_type": "markdown",
   "metadata": {},
   "source": [
    "Here is a metric that measures how good our classification model is in putting points in the right cluster:"
   ]
  },
  {
   "cell_type": "code",
   "execution_count": null,
   "metadata": {},
   "outputs": [],
   "source": [
    "m.clus_pred_accuracy"
   ]
  },
  {
   "cell_type": "markdown",
   "metadata": {},
   "source": [
    "Going through each point in the training data set, here is how many (by percentage) our optimal policy actually returned the correct action for. This is essentially the training accuracy:"
   ]
  },
  {
   "cell_type": "code",
   "execution_count": null,
   "metadata": {},
   "outputs": [],
   "source": [
    "# in sample policy accuracy (comparing model suggestion to true optimal)\n",
    "policy_accuracy(m, maze, m.df_trained)"
   ]
  },
  {
   "cell_type": "code",
   "execution_count": null,
   "metadata": {},
   "outputs": [],
   "source": [
    "# out of sample policy accuracy (comparing model suggestion to true optimal)\n",
    "policy_accuracy(m, maze, df_test)"
   ]
  },
  {
   "cell_type": "markdown",
   "metadata": {},
   "source": [
    "## Accuracies"
   ]
  },
  {
   "cell_type": "markdown",
   "metadata": {},
   "source": [
    "Make graphs putting training & testing together; testing dataset random each time. "
   ]
  },
  {
   "cell_type": "code",
   "execution_count": null,
   "metadata": {},
   "outputs": [],
   "source": [
    "# Generalization Accuracies (training & testing)\n",
    "from testing import generalization_accuracy\n",
    "\n",
    "tr_acc, test_acc = generalization_accuracy(models, df_test, Ns)"
   ]
  },
  {
   "cell_type": "markdown",
   "metadata": {},
   "source": [
    "## Optimality Gap"
   ]
  },
  {
   "cell_type": "code",
   "execution_count": null,
   "metadata": {},
   "outputs": [],
   "source": [
    "# Set Parameters\n",
    "P, R = get_maze_MDP(maze)\n",
    "K = 100\n",
    "f, rw = get_maze_transition_reward(maze)\n",
    "\n",
    "opt_gap = value_diff(models, Ns, K, T_max, P, R, f, rw)\n",
    "fig1, ax1 = plt.subplots()\n",
    "ax1.plot(Ns, opt_gap)\n",
    "ax1.set_title('Optimality Gap by Data Size N')\n",
    "ax1.set_xlabel('N training data size')\n",
    "ax1.set_ylabel('|V_alg-V*|')"
   ]
  },
  {
   "cell_type": "code",
   "execution_count": null,
   "metadata": {},
   "outputs": [],
   "source": [
    "opt_gap"
   ]
  },
  {
   "cell_type": "markdown",
   "metadata": {},
   "source": [
    "#### Observing Policies"
   ]
  },
  {
   "cell_type": "markdown",
   "metadata": {},
   "source": [
    "First, let's see what the clustering that the model found actually looks like!"
   ]
  },
  {
   "cell_type": "code",
   "execution_count": null,
   "metadata": {},
   "outputs": [],
   "source": [
    "inc = []\n",
    "ks = []\n",
    "sizes =[]\n",
    "for model in models:\n",
    "    inc_model = model.incoherences\n",
    "    #print(inc_model)\n",
    "    inc.append(inc_model['Incoherences'].min())\n",
    "    #ks.append(inc_model['Incoherences'].argmin()+2)\n",
    "    ks.append(model.opt_k)\n",
    "    sizes.append(model.df_trained.shape[0])\n",
    "print(ks)"
   ]
  },
  {
   "cell_type": "code",
   "execution_count": null,
   "metadata": {},
   "outputs": [],
   "source": [
    "plt.plot(Ns, inc)\n",
    "plt.plot(Ns, 6*np.sqrt(np.array(sizes))/np.array(ks))"
   ]
  },
  {
   "cell_type": "code",
   "execution_count": null,
   "metadata": {},
   "outputs": [],
   "source": [
    "m.opt_model_trajectory((0.5, -0.5), f)"
   ]
  },
  {
   "cell_type": "code",
   "execution_count": null,
   "metadata": {},
   "outputs": [],
   "source": [
    "plot_features(models[2].df_trained, 'FEATURE_0', 'FEATURE_1', 'CLUSTER')"
   ]
  },
  {
   "cell_type": "markdown",
   "metadata": {},
   "source": [
    "And compare it with a clustering with the actual cells of the Maze."
   ]
  },
  {
   "cell_type": "code",
   "execution_count": null,
   "metadata": {},
   "outputs": [],
   "source": [
    "plot_features(m.df_trained, 'FEATURE_0', 'FEATURE_1', 'OG_CLUSTER')"
   ]
  },
  {
   "cell_type": "code",
   "execution_count": null,
   "metadata": {},
   "outputs": [],
   "source": [
    "def plot_features(df, x, y, c='CLUSTER'):\n",
    "    df.plot.scatter(x=x,\n",
    "                      y=y,\n",
    "                      c=c,\n",
    "                      colormap='tab20')\n",
    "#    import seaborn as sns\n",
    "#    sns.pairplot(x_vars=[\"FEATURE_1\"], y_vars=[\"FEATURE_2\"], data=df, hue=\"OG_CLUSTER\", height=5)\n",
    "    plt.show()"
   ]
  },
  {
   "cell_type": "markdown",
   "metadata": {},
   "source": [
    "Now, let's see what the optimal policy our model learns is:"
   ]
  },
  {
   "cell_type": "code",
   "execution_count": null,
   "metadata": {
    "scrolled": true
   },
   "outputs": [],
   "source": [
    "opt_model_trajectory(models[-1], maze, alpha=0.2)"
   ]
  },
  {
   "cell_type": "markdown",
   "metadata": {},
   "source": [
    "And here is an actual simulation of a point through the maze by taking the found optimal policy. Note that we have set a sink node as the bottom left corner, which is where the path will go once it has reached the goal state."
   ]
  },
  {
   "cell_type": "code",
   "execution_count": null,
   "metadata": {},
   "outputs": [],
   "source": [
    "m.nc.loc[13]"
   ]
  },
  {
   "cell_type": "code",
   "execution_count": null,
   "metadata": {},
   "outputs": [],
   "source": [
    "models[-1].solve_MDP(beta=0.6)"
   ]
  },
  {
   "cell_type": "code",
   "execution_count": null,
   "metadata": {},
   "outputs": [],
   "source": [
    "f, rw = get_maze_transition_reward(maze)\n",
    "x0= np.random.rand(2)\n",
    "m.opt_model_trajectory(x0, f)"
   ]
  },
  {
   "cell_type": "markdown",
   "metadata": {},
   "source": [
    "And finally, here is the optimal policy for reference:"
   ]
  },
  {
   "cell_type": "code",
   "execution_count": null,
   "metadata": {},
   "outputs": [],
   "source": [
    "opt_maze_trajectory(maze)"
   ]
  },
  {
   "cell_type": "markdown",
   "metadata": {},
   "source": [
    "## Saving Relevant Models"
   ]
  },
  {
   "cell_type": "code",
   "execution_count": null,
   "metadata": {},
   "outputs": [],
   "source": [
    "# import pickle\n",
    "# rd = '10'\n",
    "# for i in range(len(Ns)):\n",
    "#     x = Ns[i]\n",
    "#     pickle.dump(models[i], open(f'round_{rd}_model_N={x}.sav', 'wb'))"
   ]
  },
  {
   "cell_type": "code",
   "execution_count": null,
   "metadata": {},
   "outputs": [],
   "source": [
    "m = pickle.load(open('round_6_model_N=90.sav', 'rb'))\n",
    "m.incoherences['Error'] = m.training_error['Error']\n",
    "m.incoherences"
   ]
  },
  {
   "cell_type": "code",
   "execution_count": null,
   "metadata": {},
   "outputs": [],
   "source": []
  },
  {
   "cell_type": "code",
   "execution_count": null,
   "metadata": {},
   "outputs": [],
   "source": []
  }
 ],
 "metadata": {
  "@webio": {
   "lastCommId": null,
   "lastKernelId": null
  },
  "kernelspec": {
   "display_name": "Python 3",
   "language": "python",
   "name": "python3"
  },
  "language_info": {
   "codemirror_mode": {
    "name": "ipython",
    "version": 3
   },
   "file_extension": ".py",
   "mimetype": "text/x-python",
   "name": "python",
   "nbconvert_exporter": "python",
   "pygments_lexer": "ipython3",
   "version": "3.7.7"
  }
 },
 "nbformat": 4,
 "nbformat_minor": 4
}
